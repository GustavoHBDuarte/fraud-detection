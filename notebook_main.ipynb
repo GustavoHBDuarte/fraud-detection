{
  "cells": [
    {
      "cell_type": "markdown",
      "id": "9d8f37a6",
      "metadata": {
        "heading_collapsed": true,
        "id": "9d8f37a6"
      },
      "source": [
        "# <font face=\"Arial\" color=\"green\">General description</font>"
      ]
    },
    {
      "cell_type": "markdown",
      "id": "ef000509",
      "metadata": {
        "ExecuteTime": {
          "end_time": "2022-01-19T02:27:22.844797Z",
          "start_time": "2022-01-19T02:27:07.255110Z"
        },
        "hidden": true,
        "id": "ef000509"
      },
      "source": [
        "<h1 class=\"dataset-header-v2__title\">Synthetic Financial Datasets For Fraud Detection</h1>\n",
        "\n",
        "<div class=\"markdown-converter__text--rendered\"><h1>Context</h1>\n",
        "<p>There is a lack of public available datasets on financial services and specially in the emerging mobile money transactions domain. Financial datasets are important to many researchers and in particular to us performing research in the domain of fraud detection. Part of the problem is the intrinsically private nature of financial transactions, that leads to no publicly available datasets.</p>\n",
        "<p>We present a synthetic dataset generated using the simulator called PaySim as an approach to such a problem. PaySim uses aggregated data from the private dataset to generate a synthetic dataset that resembles the normal operation of transactions and injects malicious behaviour to later evaluate the performance of fraud detection methods.</p>\n",
        "<h1>Content</h1>\n",
        "<p>PaySim simulates mobile money transactions based on a sample of real transactions extracted from one month of financial logs from a mobile money service implemented in an African country. The original logs were provided by a multinational company, who is  the provider of the mobile financial service which is currently running in more than 14 countries all around the world.</p>\n",
        "<p>This synthetic dataset is scaled down 1/4 of the original dataset and it is created just for Kaggle.</p>\n",
        "<h1>Headers</h1>\n",
        "<p>This is a sample of 1 row with headers explanation:</p>\n",
        "<p>1,PAYMENT,1060.31,C429214117,1089.0,28.69,M1591654462,0.0,0.0,0,0</p>\n",
        "<p>step - maps a unit of time in the real world. In this case 1 step is 1 hour of time. Total steps 744 (30 days simulation).</p>\n",
        "<p>type - CASH-IN, CASH-OUT, DEBIT, PAYMENT  and TRANSFER.</p>\n",
        "<p>amount -<br>\n",
        " amount of the transaction in local currency.</p>\n",
        "<p>nameOrig - customer who started the transaction</p>\n",
        "<p>oldbalanceOrg - initial balance before the transaction</p>\n",
        "<p>newbalanceOrig - new balance after the transaction</p>\n",
        "<p>nameDest - customer who is the recipient of the transaction</p>\n",
        "<p>oldbalanceDest - initial balance recipient before the transaction. Note that there is not information for customers that start with M (Merchants).</p>\n",
        "<p>newbalanceDest - new balance recipient after the transaction. Note that there is not information for customers that start with M (Merchants).</p>\n",
        "<p>isFraud - This is the transactions made by the fraudulent agents inside the simulation. In this specific dataset the fraudulent behavior of the agents aims to profit by taking control or customers accounts and try to empty the funds by transferring to another account and then cashing out of the system.</p>\n",
        "<p>isFlaggedFraud - The business model aims to control massive transfers from one account to another and flags illegal attempts. An illegal attempt in this dataset is an attempt to transfer more than 200.000 in a single transaction.</p>\n",
        "<h1>Past Research</h1>\n",
        "<p>There are 5 similar files that contain the run of 5 different scenarios. These files are better explained at my PhD thesis chapter 7 (PhD Thesis Available here <a rel=\"noreferrer nofollow\" href=\"http://urn.kb.se/resolve?urn=urn:nbn:se:bth-12932)\">http://urn.kb.se/resolve?urn=urn:nbn:se:bth-12932)</a>.</p>\n",
        "<p>We ran PaySim several times using random seeds for 744 steps, representing each hour of one month of real time, which matches the original logs. Each run took around 45 minutes on an i7 intel processor with 16GB of RAM. The final result of a run contains approximately 24 million of financial records divided into the 5 types of categories: CASH-IN, CASH-OUT, DEBIT, PAYMENT  and TRANSFER.</p>\n",
        "<h1>Acknowledgements</h1>\n",
        "<p>This work is part of the research project ”Scalable resource-efficient systems for big data analytics” funded<br>\n",
        "by the Knowledge Foundation (grant: 20140032) in Sweden.</p>\n",
        "<p>Please refer to this dataset using the following citations: </p>\n",
        "<p>PaySim first paper of the simulator:</p>\n",
        "<p>E. A. Lopez-Rojas , A. Elmir, and S. Axelsson. \"PaySim: A financial mobile money simulator for fraud detection\". In: The 28th European Modeling and Simulation Symposium-EMSS, Larnaca, Cyprus. 2016</p></div>\n",
        "\n",
        "\n",
        "https://www.kaggle.com/ealaxi/paysim1"
      ]
    },
    {
      "cell_type": "markdown",
      "id": "8d62bb02",
      "metadata": {
        "heading_collapsed": true,
        "id": "8d62bb02"
      },
      "source": [
        "# <font face=\"Arial\" color=\"green\">Library Imports</font>"
      ]
    },
    {
      "cell_type": "code",
      "source": [
        "pip install pycorr"
      ],
      "metadata": {
        "colab": {
          "base_uri": "https://localhost:8080/"
        },
        "id": "KgRXyraltPLU",
        "outputId": "d89ae78d-252f-4e27-ee4e-6f319106c53e"
      },
      "id": "KgRXyraltPLU",
      "execution_count": 1,
      "outputs": [
        {
          "output_type": "stream",
          "name": "stdout",
          "text": [
            "Collecting pycorr\n",
            "  Downloading pycorr-0.1.5-py3-none-any.whl (17 kB)\n",
            "Installing collected packages: pycorr\n",
            "Successfully installed pycorr-0.1.5\n"
          ]
        }
      ]
    },
    {
      "cell_type": "code",
      "source": [
        "pip install Boruta"
      ],
      "metadata": {
        "colab": {
          "base_uri": "https://localhost:8080/"
        },
        "id": "0O6U42tMGXZi",
        "outputId": "91145ffd-079a-4712-d968-c02bf643b2d7"
      },
      "id": "0O6U42tMGXZi",
      "execution_count": 2,
      "outputs": [
        {
          "output_type": "stream",
          "name": "stdout",
          "text": [
            "Collecting Boruta\n",
            "  Downloading Boruta-0.3-py3-none-any.whl (56 kB)\n",
            "\u001b[?25l\r\u001b[K     |█████▉                          | 10 kB 23.8 MB/s eta 0:00:01\r\u001b[K     |███████████▋                    | 20 kB 29.6 MB/s eta 0:00:01\r\u001b[K     |█████████████████▍              | 30 kB 35.5 MB/s eta 0:00:01\r\u001b[K     |███████████████████████▏        | 40 kB 38.3 MB/s eta 0:00:01\r\u001b[K     |█████████████████████████████   | 51 kB 33.1 MB/s eta 0:00:01\r\u001b[K     |████████████████████████████████| 56 kB 4.3 MB/s \n",
            "\u001b[?25hRequirement already satisfied: numpy>=1.10.4 in /usr/local/lib/python3.7/dist-packages (from Boruta) (1.19.5)\n",
            "Requirement already satisfied: scipy>=0.17.0 in /usr/local/lib/python3.7/dist-packages (from Boruta) (1.4.1)\n",
            "Requirement already satisfied: scikit-learn>=0.17.1 in /usr/local/lib/python3.7/dist-packages (from Boruta) (1.0.2)\n",
            "Requirement already satisfied: threadpoolctl>=2.0.0 in /usr/local/lib/python3.7/dist-packages (from scikit-learn>=0.17.1->Boruta) (3.0.0)\n",
            "Requirement already satisfied: joblib>=0.11 in /usr/local/lib/python3.7/dist-packages (from scikit-learn>=0.17.1->Boruta) (1.1.0)\n",
            "Installing collected packages: Boruta\n",
            "Successfully installed Boruta-0.3\n"
          ]
        }
      ]
    },
    {
      "cell_type": "code",
      "execution_count": 3,
      "id": "496f9858",
      "metadata": {
        "ExecuteTime": {
          "end_time": "2022-01-19T22:25:33.470294Z",
          "start_time": "2022-01-19T22:25:23.252391Z"
        },
        "hidden": true,
        "id": "496f9858"
      },
      "outputs": [],
      "source": [
        "import warnings\n",
        "import pickle\n",
        "import pandas            as pd\n",
        "import numpy             as np\n",
        "import matplotlib.pyplot as plt\n",
        "import seaborn           as sns\n",
        "import scipy.stats       as stats\n",
        "\n",
        "from math                    import ceil\n",
        "from math                    import floor\n",
        "from sklearn.model_selection import train_test_split\n",
        "from sklearn.preprocessing   import RobustScaler, LabelEncoder\n",
        "from sklearn.ensemble        import RandomForestClassifier\n",
        "from boruta                  import BorutaPy\n",
        "\n",
        "from pycorrcat.pycorrcat     import plot_corr, corr_matrix\n",
        "\n",
        "warnings.filterwarnings(\"ignore\")"
      ]
    },
    {
      "cell_type": "markdown",
      "id": "556e228c",
      "metadata": {
        "heading_collapsed": true,
        "id": "556e228c"
      },
      "source": [
        "# <font face=\"Arial\" color=\"green\">Helper functions</font>"
      ]
    },
    {
      "cell_type": "code",
      "execution_count": 5,
      "id": "ac5d74a4",
      "metadata": {
        "ExecuteTime": {
          "end_time": "2022-01-19T22:25:40.665488Z",
          "start_time": "2022-01-19T22:25:40.656762Z"
        },
        "hidden": true,
        "id": "ac5d74a4"
      },
      "outputs": [],
      "source": [
        "def jupyter_settings():\n",
        "    \n",
        "    pd.options.display.max_columns = None   \n",
        "    \n",
        "\n",
        "\n",
        "warnings.filterwarnings(\"ignore\")\n",
        "jupyter_settings()"
      ]
    },
    {
      "cell_type": "markdown",
      "id": "a3d8bcaf",
      "metadata": {
        "heading_collapsed": true,
        "id": "a3d8bcaf"
      },
      "source": [
        "# 1 - Data import and basic inspection "
      ]
    },
    {
      "cell_type": "markdown",
      "id": "973356d4",
      "metadata": {
        "heading_collapsed": true,
        "hidden": true,
        "id": "973356d4"
      },
      "source": [
        "## 1.1 data loading and checking"
      ]
    },
    {
      "cell_type": "code",
      "source": [
        "from google.colab import drive \n",
        "\n",
        "link = 'https://drive.google.com/file/d/1CE6zTV3LBRHo_TSaw8SQ47owkcaPPfhw/view'\n",
        "  \n",
        "drive.mount('/content/gdrive')"
      ],
      "metadata": {
        "colab": {
          "base_uri": "https://localhost:8080/"
        },
        "id": "mY_Qcz1B7fDa",
        "outputId": "07aa9855-9ed4-44e5-bd7e-73d3aa8a956e"
      },
      "id": "mY_Qcz1B7fDa",
      "execution_count": 6,
      "outputs": [
        {
          "output_type": "stream",
          "name": "stdout",
          "text": [
            "Drive already mounted at /content/gdrive; to attempt to forcibly remount, call drive.mount(\"/content/gdrive\", force_remount=True).\n"
          ]
        }
      ]
    },
    {
      "cell_type": "code",
      "execution_count": 7,
      "id": "5bc0b7c0",
      "metadata": {
        "ExecuteTime": {
          "end_time": "2022-01-19T22:26:06.636586Z",
          "start_time": "2022-01-19T22:25:44.999318Z"
        },
        "hidden": true,
        "colab": {
          "base_uri": "https://localhost:8080/",
          "height": 270
        },
        "id": "5bc0b7c0",
        "outputId": "1f0588c6-2060-4ee3-919d-6162bbaf84e9"
      },
      "outputs": [
        {
          "output_type": "execute_result",
          "data": {
            "text/html": [
              "\n",
              "  <div id=\"df-52ee42aa-566a-46d0-a849-601585fed843\">\n",
              "    <div class=\"colab-df-container\">\n",
              "      <div>\n",
              "<style scoped>\n",
              "    .dataframe tbody tr th:only-of-type {\n",
              "        vertical-align: middle;\n",
              "    }\n",
              "\n",
              "    .dataframe tbody tr th {\n",
              "        vertical-align: top;\n",
              "    }\n",
              "\n",
              "    .dataframe thead th {\n",
              "        text-align: right;\n",
              "    }\n",
              "</style>\n",
              "<table border=\"1\" class=\"dataframe\">\n",
              "  <thead>\n",
              "    <tr style=\"text-align: right;\">\n",
              "      <th></th>\n",
              "      <th>step</th>\n",
              "      <th>type</th>\n",
              "      <th>amount</th>\n",
              "      <th>nameOrig</th>\n",
              "      <th>oldbalanceOrg</th>\n",
              "      <th>newbalanceOrig</th>\n",
              "      <th>nameDest</th>\n",
              "      <th>oldbalanceDest</th>\n",
              "      <th>newbalanceDest</th>\n",
              "      <th>isFraud</th>\n",
              "      <th>isFlaggedFraud</th>\n",
              "    </tr>\n",
              "  </thead>\n",
              "  <tbody>\n",
              "    <tr>\n",
              "      <th>0</th>\n",
              "      <td>1</td>\n",
              "      <td>PAYMENT</td>\n",
              "      <td>9839.64</td>\n",
              "      <td>C1231006815</td>\n",
              "      <td>170136.0</td>\n",
              "      <td>160296.36</td>\n",
              "      <td>M1979787155</td>\n",
              "      <td>0.0</td>\n",
              "      <td>0.0</td>\n",
              "      <td>0</td>\n",
              "      <td>0</td>\n",
              "    </tr>\n",
              "    <tr>\n",
              "      <th>1</th>\n",
              "      <td>1</td>\n",
              "      <td>PAYMENT</td>\n",
              "      <td>1864.28</td>\n",
              "      <td>C1666544295</td>\n",
              "      <td>21249.0</td>\n",
              "      <td>19384.72</td>\n",
              "      <td>M2044282225</td>\n",
              "      <td>0.0</td>\n",
              "      <td>0.0</td>\n",
              "      <td>0</td>\n",
              "      <td>0</td>\n",
              "    </tr>\n",
              "    <tr>\n",
              "      <th>2</th>\n",
              "      <td>1</td>\n",
              "      <td>TRANSFER</td>\n",
              "      <td>181.00</td>\n",
              "      <td>C1305486145</td>\n",
              "      <td>181.0</td>\n",
              "      <td>0.00</td>\n",
              "      <td>C553264065</td>\n",
              "      <td>0.0</td>\n",
              "      <td>0.0</td>\n",
              "      <td>1</td>\n",
              "      <td>0</td>\n",
              "    </tr>\n",
              "    <tr>\n",
              "      <th>3</th>\n",
              "      <td>1</td>\n",
              "      <td>CASH_OUT</td>\n",
              "      <td>181.00</td>\n",
              "      <td>C840083671</td>\n",
              "      <td>181.0</td>\n",
              "      <td>0.00</td>\n",
              "      <td>C38997010</td>\n",
              "      <td>21182.0</td>\n",
              "      <td>0.0</td>\n",
              "      <td>1</td>\n",
              "      <td>0</td>\n",
              "    </tr>\n",
              "    <tr>\n",
              "      <th>4</th>\n",
              "      <td>1</td>\n",
              "      <td>PAYMENT</td>\n",
              "      <td>11668.14</td>\n",
              "      <td>C2048537720</td>\n",
              "      <td>41554.0</td>\n",
              "      <td>29885.86</td>\n",
              "      <td>M1230701703</td>\n",
              "      <td>0.0</td>\n",
              "      <td>0.0</td>\n",
              "      <td>0</td>\n",
              "      <td>0</td>\n",
              "    </tr>\n",
              "  </tbody>\n",
              "</table>\n",
              "</div>\n",
              "      <button class=\"colab-df-convert\" onclick=\"convertToInteractive('df-52ee42aa-566a-46d0-a849-601585fed843')\"\n",
              "              title=\"Convert this dataframe to an interactive table.\"\n",
              "              style=\"display:none;\">\n",
              "        \n",
              "  <svg xmlns=\"http://www.w3.org/2000/svg\" height=\"24px\"viewBox=\"0 0 24 24\"\n",
              "       width=\"24px\">\n",
              "    <path d=\"M0 0h24v24H0V0z\" fill=\"none\"/>\n",
              "    <path d=\"M18.56 5.44l.94 2.06.94-2.06 2.06-.94-2.06-.94-.94-2.06-.94 2.06-2.06.94zm-11 1L8.5 8.5l.94-2.06 2.06-.94-2.06-.94L8.5 2.5l-.94 2.06-2.06.94zm10 10l.94 2.06.94-2.06 2.06-.94-2.06-.94-.94-2.06-.94 2.06-2.06.94z\"/><path d=\"M17.41 7.96l-1.37-1.37c-.4-.4-.92-.59-1.43-.59-.52 0-1.04.2-1.43.59L10.3 9.45l-7.72 7.72c-.78.78-.78 2.05 0 2.83L4 21.41c.39.39.9.59 1.41.59.51 0 1.02-.2 1.41-.59l7.78-7.78 2.81-2.81c.8-.78.8-2.07 0-2.86zM5.41 20L4 18.59l7.72-7.72 1.47 1.35L5.41 20z\"/>\n",
              "  </svg>\n",
              "      </button>\n",
              "      \n",
              "  <style>\n",
              "    .colab-df-container {\n",
              "      display:flex;\n",
              "      flex-wrap:wrap;\n",
              "      gap: 12px;\n",
              "    }\n",
              "\n",
              "    .colab-df-convert {\n",
              "      background-color: #E8F0FE;\n",
              "      border: none;\n",
              "      border-radius: 50%;\n",
              "      cursor: pointer;\n",
              "      display: none;\n",
              "      fill: #1967D2;\n",
              "      height: 32px;\n",
              "      padding: 0 0 0 0;\n",
              "      width: 32px;\n",
              "    }\n",
              "\n",
              "    .colab-df-convert:hover {\n",
              "      background-color: #E2EBFA;\n",
              "      box-shadow: 0px 1px 2px rgba(60, 64, 67, 0.3), 0px 1px 3px 1px rgba(60, 64, 67, 0.15);\n",
              "      fill: #174EA6;\n",
              "    }\n",
              "\n",
              "    [theme=dark] .colab-df-convert {\n",
              "      background-color: #3B4455;\n",
              "      fill: #D2E3FC;\n",
              "    }\n",
              "\n",
              "    [theme=dark] .colab-df-convert:hover {\n",
              "      background-color: #434B5C;\n",
              "      box-shadow: 0px 1px 3px 1px rgba(0, 0, 0, 0.15);\n",
              "      filter: drop-shadow(0px 1px 2px rgba(0, 0, 0, 0.3));\n",
              "      fill: #FFFFFF;\n",
              "    }\n",
              "  </style>\n",
              "\n",
              "      <script>\n",
              "        const buttonEl =\n",
              "          document.querySelector('#df-52ee42aa-566a-46d0-a849-601585fed843 button.colab-df-convert');\n",
              "        buttonEl.style.display =\n",
              "          google.colab.kernel.accessAllowed ? 'block' : 'none';\n",
              "\n",
              "        async function convertToInteractive(key) {\n",
              "          const element = document.querySelector('#df-52ee42aa-566a-46d0-a849-601585fed843');\n",
              "          const dataTable =\n",
              "            await google.colab.kernel.invokeFunction('convertToInteractive',\n",
              "                                                     [key], {});\n",
              "          if (!dataTable) return;\n",
              "\n",
              "          const docLinkHtml = 'Like what you see? Visit the ' +\n",
              "            '<a target=\"_blank\" href=https://colab.research.google.com/notebooks/data_table.ipynb>data table notebook</a>'\n",
              "            + ' to learn more about interactive tables.';\n",
              "          element.innerHTML = '';\n",
              "          dataTable['output_type'] = 'display_data';\n",
              "          await google.colab.output.renderOutput(dataTable, element);\n",
              "          const docLink = document.createElement('div');\n",
              "          docLink.innerHTML = docLinkHtml;\n",
              "          element.appendChild(docLink);\n",
              "        }\n",
              "      </script>\n",
              "    </div>\n",
              "  </div>\n",
              "  "
            ],
            "text/plain": [
              "   step      type    amount     nameOrig  oldbalanceOrg  newbalanceOrig  \\\n",
              "0     1   PAYMENT   9839.64  C1231006815       170136.0       160296.36   \n",
              "1     1   PAYMENT   1864.28  C1666544295        21249.0        19384.72   \n",
              "2     1  TRANSFER    181.00  C1305486145          181.0            0.00   \n",
              "3     1  CASH_OUT    181.00   C840083671          181.0            0.00   \n",
              "4     1   PAYMENT  11668.14  C2048537720        41554.0        29885.86   \n",
              "\n",
              "      nameDest  oldbalanceDest  newbalanceDest  isFraud  isFlaggedFraud  \n",
              "0  M1979787155             0.0             0.0        0               0  \n",
              "1  M2044282225             0.0             0.0        0               0  \n",
              "2   C553264065             0.0             0.0        1               0  \n",
              "3    C38997010         21182.0             0.0        1               0  \n",
              "4  M1230701703             0.0             0.0        0               0  "
            ]
          },
          "metadata": {},
          "execution_count": 7
        }
      ],
      "source": [
        "# Data load\n",
        "\n",
        "df = pd.read_csv('/content/gdrive/Othercomputers/Meu modelo Laptop/Doutorado - v2020/Pós Ciência de Dados/TCC/TCC Fraud/PS_20174392719_1491204439457_log.csv')\n",
        "\n",
        "df.head()"
      ]
    },
    {
      "cell_type": "code",
      "execution_count": 8,
      "id": "e04b181b",
      "metadata": {
        "ExecuteTime": {
          "end_time": "2022-01-19T22:26:12.335571Z",
          "start_time": "2022-01-19T22:26:12.326561Z"
        },
        "hidden": true,
        "colab": {
          "base_uri": "https://localhost:8080/"
        },
        "id": "e04b181b",
        "outputId": "d1d528ca-1d46-4fbf-ad59-d46abd41f1db"
      },
      "outputs": [
        {
          "output_type": "stream",
          "name": "stdout",
          "text": [
            "\n",
            "Data dimensions:\n",
            "\n",
            "Number of rows: 6362620\n",
            "Number of columns: 11\n"
          ]
        }
      ],
      "source": [
        "# Data dimensions\n",
        "\n",
        "print('\\nData dimensions:\\n')\n",
        "print('Number of rows: {}'.format(df.shape[0]))\n",
        "print('Number of columns: {}'.format(df.shape[1]))"
      ]
    },
    {
      "cell_type": "code",
      "execution_count": 9,
      "id": "39f122f4",
      "metadata": {
        "ExecuteTime": {
          "end_time": "2022-01-19T22:26:17.898442Z",
          "start_time": "2022-01-19T22:26:17.878708Z"
        },
        "hidden": true,
        "colab": {
          "base_uri": "https://localhost:8080/"
        },
        "id": "39f122f4",
        "outputId": "0b2843d1-f5e2-4bfb-f2c8-ac31a072b453"
      },
      "outputs": [
        {
          "output_type": "execute_result",
          "data": {
            "text/plain": [
              "step                int64\n",
              "type               object\n",
              "amount            float64\n",
              "nameOrig           object\n",
              "oldbalanceOrg     float64\n",
              "newbalanceOrig    float64\n",
              "nameDest           object\n",
              "oldbalanceDest    float64\n",
              "newbalanceDest    float64\n",
              "isFraud             int64\n",
              "isFlaggedFraud      int64\n",
              "dtype: object"
            ]
          },
          "metadata": {},
          "execution_count": 9
        }
      ],
      "source": [
        "# Checking data types\n",
        "\n",
        "df.dtypes"
      ]
    },
    {
      "cell_type": "code",
      "source": [
        "# Checking data info\n",
        "\n",
        "df.info()"
      ],
      "metadata": {
        "colab": {
          "base_uri": "https://localhost:8080/"
        },
        "id": "vLDcWDYBHSmh",
        "outputId": "78de3138-70fb-4e34-b952-019af1e8ae76"
      },
      "id": "vLDcWDYBHSmh",
      "execution_count": 10,
      "outputs": [
        {
          "output_type": "stream",
          "name": "stdout",
          "text": [
            "<class 'pandas.core.frame.DataFrame'>\n",
            "RangeIndex: 6362620 entries, 0 to 6362619\n",
            "Data columns (total 11 columns):\n",
            " #   Column          Dtype  \n",
            "---  ------          -----  \n",
            " 0   step            int64  \n",
            " 1   type            object \n",
            " 2   amount          float64\n",
            " 3   nameOrig        object \n",
            " 4   oldbalanceOrg   float64\n",
            " 5   newbalanceOrig  float64\n",
            " 6   nameDest        object \n",
            " 7   oldbalanceDest  float64\n",
            " 8   newbalanceDest  float64\n",
            " 9   isFraud         int64  \n",
            " 10  isFlaggedFraud  int64  \n",
            "dtypes: float64(5), int64(3), object(3)\n",
            "memory usage: 534.0+ MB\n"
          ]
        }
      ]
    },
    {
      "cell_type": "code",
      "execution_count": 11,
      "id": "d8fbcd8e",
      "metadata": {
        "ExecuteTime": {
          "end_time": "2022-01-19T22:26:24.081853Z",
          "start_time": "2022-01-19T22:26:22.478717Z"
        },
        "hidden": true,
        "colab": {
          "base_uri": "https://localhost:8080/"
        },
        "id": "d8fbcd8e",
        "outputId": "a8f17b0d-4c30-419b-9d30-67681fcfd668"
      },
      "outputs": [
        {
          "output_type": "execute_result",
          "data": {
            "text/plain": [
              "step              0\n",
              "type              0\n",
              "amount            0\n",
              "nameOrig          0\n",
              "oldbalanceOrg     0\n",
              "newbalanceOrig    0\n",
              "nameDest          0\n",
              "oldbalanceDest    0\n",
              "newbalanceDest    0\n",
              "isFraud           0\n",
              "isFlaggedFraud    0\n",
              "dtype: int64"
            ]
          },
          "metadata": {},
          "execution_count": 11
        }
      ],
      "source": [
        "# Checking for NA's\n",
        "\n",
        "df.isna().sum()"
      ]
    },
    {
      "cell_type": "code",
      "source": [
        "# Checking for duplicate rows\n",
        "\n",
        "df.duplicated().sum()"
      ],
      "metadata": {
        "colab": {
          "base_uri": "https://localhost:8080/"
        },
        "id": "CovzDAbEAoFm",
        "outputId": "ab576c96-4546-4907-a300-0fc60f8dffbc"
      },
      "id": "CovzDAbEAoFm",
      "execution_count": 12,
      "outputs": [
        {
          "output_type": "execute_result",
          "data": {
            "text/plain": [
              "0"
            ]
          },
          "metadata": {},
          "execution_count": 12
        }
      ]
    },
    {
      "cell_type": "code",
      "source": [
        "df[df.duplicated()]"
      ],
      "metadata": {
        "colab": {
          "base_uri": "https://localhost:8080/",
          "height": 113
        },
        "id": "4ypnmzZfBZVf",
        "outputId": "7858f8df-5728-4ce5-9155-405df71ede84"
      },
      "id": "4ypnmzZfBZVf",
      "execution_count": 13,
      "outputs": [
        {
          "output_type": "execute_result",
          "data": {
            "text/html": [
              "\n",
              "  <div id=\"df-2b7201d5-2072-4a3e-9b44-ffaabfce520e\">\n",
              "    <div class=\"colab-df-container\">\n",
              "      <div>\n",
              "<style scoped>\n",
              "    .dataframe tbody tr th:only-of-type {\n",
              "        vertical-align: middle;\n",
              "    }\n",
              "\n",
              "    .dataframe tbody tr th {\n",
              "        vertical-align: top;\n",
              "    }\n",
              "\n",
              "    .dataframe thead th {\n",
              "        text-align: right;\n",
              "    }\n",
              "</style>\n",
              "<table border=\"1\" class=\"dataframe\">\n",
              "  <thead>\n",
              "    <tr style=\"text-align: right;\">\n",
              "      <th></th>\n",
              "      <th>step</th>\n",
              "      <th>type</th>\n",
              "      <th>amount</th>\n",
              "      <th>nameOrig</th>\n",
              "      <th>oldbalanceOrg</th>\n",
              "      <th>newbalanceOrig</th>\n",
              "      <th>nameDest</th>\n",
              "      <th>oldbalanceDest</th>\n",
              "      <th>newbalanceDest</th>\n",
              "      <th>isFraud</th>\n",
              "      <th>isFlaggedFraud</th>\n",
              "    </tr>\n",
              "  </thead>\n",
              "  <tbody>\n",
              "  </tbody>\n",
              "</table>\n",
              "</div>\n",
              "      <button class=\"colab-df-convert\" onclick=\"convertToInteractive('df-2b7201d5-2072-4a3e-9b44-ffaabfce520e')\"\n",
              "              title=\"Convert this dataframe to an interactive table.\"\n",
              "              style=\"display:none;\">\n",
              "        \n",
              "  <svg xmlns=\"http://www.w3.org/2000/svg\" height=\"24px\"viewBox=\"0 0 24 24\"\n",
              "       width=\"24px\">\n",
              "    <path d=\"M0 0h24v24H0V0z\" fill=\"none\"/>\n",
              "    <path d=\"M18.56 5.44l.94 2.06.94-2.06 2.06-.94-2.06-.94-.94-2.06-.94 2.06-2.06.94zm-11 1L8.5 8.5l.94-2.06 2.06-.94-2.06-.94L8.5 2.5l-.94 2.06-2.06.94zm10 10l.94 2.06.94-2.06 2.06-.94-2.06-.94-.94-2.06-.94 2.06-2.06.94z\"/><path d=\"M17.41 7.96l-1.37-1.37c-.4-.4-.92-.59-1.43-.59-.52 0-1.04.2-1.43.59L10.3 9.45l-7.72 7.72c-.78.78-.78 2.05 0 2.83L4 21.41c.39.39.9.59 1.41.59.51 0 1.02-.2 1.41-.59l7.78-7.78 2.81-2.81c.8-.78.8-2.07 0-2.86zM5.41 20L4 18.59l7.72-7.72 1.47 1.35L5.41 20z\"/>\n",
              "  </svg>\n",
              "      </button>\n",
              "      \n",
              "  <style>\n",
              "    .colab-df-container {\n",
              "      display:flex;\n",
              "      flex-wrap:wrap;\n",
              "      gap: 12px;\n",
              "    }\n",
              "\n",
              "    .colab-df-convert {\n",
              "      background-color: #E8F0FE;\n",
              "      border: none;\n",
              "      border-radius: 50%;\n",
              "      cursor: pointer;\n",
              "      display: none;\n",
              "      fill: #1967D2;\n",
              "      height: 32px;\n",
              "      padding: 0 0 0 0;\n",
              "      width: 32px;\n",
              "    }\n",
              "\n",
              "    .colab-df-convert:hover {\n",
              "      background-color: #E2EBFA;\n",
              "      box-shadow: 0px 1px 2px rgba(60, 64, 67, 0.3), 0px 1px 3px 1px rgba(60, 64, 67, 0.15);\n",
              "      fill: #174EA6;\n",
              "    }\n",
              "\n",
              "    [theme=dark] .colab-df-convert {\n",
              "      background-color: #3B4455;\n",
              "      fill: #D2E3FC;\n",
              "    }\n",
              "\n",
              "    [theme=dark] .colab-df-convert:hover {\n",
              "      background-color: #434B5C;\n",
              "      box-shadow: 0px 1px 3px 1px rgba(0, 0, 0, 0.15);\n",
              "      filter: drop-shadow(0px 1px 2px rgba(0, 0, 0, 0.3));\n",
              "      fill: #FFFFFF;\n",
              "    }\n",
              "  </style>\n",
              "\n",
              "      <script>\n",
              "        const buttonEl =\n",
              "          document.querySelector('#df-2b7201d5-2072-4a3e-9b44-ffaabfce520e button.colab-df-convert');\n",
              "        buttonEl.style.display =\n",
              "          google.colab.kernel.accessAllowed ? 'block' : 'none';\n",
              "\n",
              "        async function convertToInteractive(key) {\n",
              "          const element = document.querySelector('#df-2b7201d5-2072-4a3e-9b44-ffaabfce520e');\n",
              "          const dataTable =\n",
              "            await google.colab.kernel.invokeFunction('convertToInteractive',\n",
              "                                                     [key], {});\n",
              "          if (!dataTable) return;\n",
              "\n",
              "          const docLinkHtml = 'Like what you see? Visit the ' +\n",
              "            '<a target=\"_blank\" href=https://colab.research.google.com/notebooks/data_table.ipynb>data table notebook</a>'\n",
              "            + ' to learn more about interactive tables.';\n",
              "          element.innerHTML = '';\n",
              "          dataTable['output_type'] = 'display_data';\n",
              "          await google.colab.output.renderOutput(dataTable, element);\n",
              "          const docLink = document.createElement('div');\n",
              "          docLink.innerHTML = docLinkHtml;\n",
              "          element.appendChild(docLink);\n",
              "        }\n",
              "      </script>\n",
              "    </div>\n",
              "  </div>\n",
              "  "
            ],
            "text/plain": [
              "Empty DataFrame\n",
              "Columns: [step, type, amount, nameOrig, oldbalanceOrg, newbalanceOrig, nameDest, oldbalanceDest, newbalanceDest, isFraud, isFlaggedFraud]\n",
              "Index: []"
            ]
          },
          "metadata": {},
          "execution_count": 13
        }
      ]
    },
    {
      "cell_type": "code",
      "execution_count": 14,
      "id": "83623264",
      "metadata": {
        "ExecuteTime": {
          "end_time": "2022-01-19T22:26:29.390595Z",
          "start_time": "2022-01-19T22:26:28.524313Z"
        },
        "hidden": true,
        "colab": {
          "base_uri": "https://localhost:8080/"
        },
        "id": "83623264",
        "outputId": "f8012c42-4b2d-44cb-e105-05fb9683acd5"
      },
      "outputs": [
        {
          "output_type": "execute_result",
          "data": {
            "text/plain": [
              "0    6354407\n",
              "1       8213\n",
              "Name: isFraud, dtype: int64"
            ]
          },
          "metadata": {},
          "execution_count": 14
        }
      ],
      "source": [
        "# Response variable\n",
        "\n",
        "df['isFraud'].value_counts()"
      ]
    },
    {
      "cell_type": "code",
      "execution_count": 15,
      "id": "9f61aa09",
      "metadata": {
        "ExecuteTime": {
          "end_time": "2022-01-19T22:26:33.391582Z",
          "start_time": "2022-01-19T22:26:33.155877Z"
        },
        "hidden": true,
        "colab": {
          "base_uri": "https://localhost:8080/"
        },
        "id": "9f61aa09",
        "outputId": "a3217caa-e841-4f97-f7c9-ad3a4aa0d391"
      },
      "outputs": [
        {
          "output_type": "stream",
          "name": "stdout",
          "text": [
            "Percentage of Non-Fraud transactions: 0.9987091795518198\n",
            "Percentage of Non-Fraud transactions: 0.001290820448180152\n"
          ]
        }
      ],
      "source": [
        "# Response variable - Percentage\n",
        "\n",
        "print('Percentage of Non-Fraud transactions: {}'.format(df['isFraud'].value_counts()[0]/df.shape[0]))\n",
        "print('Percentage of Non-Fraud transactions: {}'.format(df['isFraud'].value_counts()[1]/df.shape[0]))"
      ]
    },
    {
      "cell_type": "markdown",
      "id": "32500af3",
      "metadata": {
        "heading_collapsed": true,
        "hidden": true,
        "id": "32500af3"
      },
      "source": [
        "## 1.2 descriptive statistics"
      ]
    },
    {
      "cell_type": "markdown",
      "metadata": {
        "heading_collapsed": true,
        "hidden": true,
        "id": "Ec58SOonsROB"
      },
      "source": [
        "### 1.2.1 descriptive statistics"
      ],
      "id": "Ec58SOonsROB"
    },
    {
      "cell_type": "code",
      "execution_count": 16,
      "id": "f8b92db5",
      "metadata": {
        "hidden": true,
        "id": "f8b92db5"
      },
      "outputs": [],
      "source": [
        "# Numerical and categorical attributes\n",
        "\n",
        "num_attrib = df.select_dtypes(include=['int64', 'float64']) # numerical attributes\n",
        "\n",
        "cat_attrib = df.select_dtypes(exclude=['int64', 'float64']) # categorical attributes"
      ]
    },
    {
      "cell_type": "code",
      "source": [
        "# Descriptive statistics\n",
        "\n",
        "pd.DataFrame(data=[num_attrib.apply(np.min),\n",
        "          num_attrib.apply(np.max),\n",
        "          num_attrib.apply(lambda x: np.max(x) - np.min(x)),\n",
        "          num_attrib.apply(np.mean),\n",
        "          num_attrib.apply(np.median),\n",
        "          num_attrib.apply(np.std),\n",
        "          num_attrib.apply(lambda x: x.skew()),\n",
        "          num_attrib.apply(lambda x: x.kurtosis())],\n",
        "             \n",
        "             index=np.array(['min', 'max', 'range', 'mean', 'median', 'std', 'skew', 'kurtosis'])).transpose()"
      ],
      "metadata": {
        "colab": {
          "base_uri": "https://localhost:8080/",
          "height": 300
        },
        "id": "v0kb_JJIGmDp",
        "outputId": "247e8b34-cb8d-49b0-9286-e28bd4838d7c"
      },
      "id": "v0kb_JJIGmDp",
      "execution_count": 17,
      "outputs": [
        {
          "output_type": "execute_result",
          "data": {
            "text/html": [
              "\n",
              "  <div id=\"df-fb2b2b37-29af-4484-8468-90edeb5e0b31\">\n",
              "    <div class=\"colab-df-container\">\n",
              "      <div>\n",
              "<style scoped>\n",
              "    .dataframe tbody tr th:only-of-type {\n",
              "        vertical-align: middle;\n",
              "    }\n",
              "\n",
              "    .dataframe tbody tr th {\n",
              "        vertical-align: top;\n",
              "    }\n",
              "\n",
              "    .dataframe thead th {\n",
              "        text-align: right;\n",
              "    }\n",
              "</style>\n",
              "<table border=\"1\" class=\"dataframe\">\n",
              "  <thead>\n",
              "    <tr style=\"text-align: right;\">\n",
              "      <th></th>\n",
              "      <th>min</th>\n",
              "      <th>max</th>\n",
              "      <th>range</th>\n",
              "      <th>mean</th>\n",
              "      <th>median</th>\n",
              "      <th>std</th>\n",
              "      <th>skew</th>\n",
              "      <th>kurtosis</th>\n",
              "    </tr>\n",
              "  </thead>\n",
              "  <tbody>\n",
              "    <tr>\n",
              "      <th>step</th>\n",
              "      <td>1.0</td>\n",
              "      <td>7.430000e+02</td>\n",
              "      <td>7.420000e+02</td>\n",
              "      <td>2.433972e+02</td>\n",
              "      <td>239.000</td>\n",
              "      <td>1.423320e+02</td>\n",
              "      <td>0.375177</td>\n",
              "      <td>0.329071</td>\n",
              "    </tr>\n",
              "    <tr>\n",
              "      <th>amount</th>\n",
              "      <td>0.0</td>\n",
              "      <td>9.244552e+07</td>\n",
              "      <td>9.244552e+07</td>\n",
              "      <td>1.798619e+05</td>\n",
              "      <td>74871.940</td>\n",
              "      <td>6.038582e+05</td>\n",
              "      <td>30.993949</td>\n",
              "      <td>1797.956705</td>\n",
              "    </tr>\n",
              "    <tr>\n",
              "      <th>oldbalanceOrg</th>\n",
              "      <td>0.0</td>\n",
              "      <td>5.958504e+07</td>\n",
              "      <td>5.958504e+07</td>\n",
              "      <td>8.338831e+05</td>\n",
              "      <td>14208.000</td>\n",
              "      <td>2.888242e+06</td>\n",
              "      <td>5.249136</td>\n",
              "      <td>32.964879</td>\n",
              "    </tr>\n",
              "    <tr>\n",
              "      <th>newbalanceOrig</th>\n",
              "      <td>0.0</td>\n",
              "      <td>4.958504e+07</td>\n",
              "      <td>4.958504e+07</td>\n",
              "      <td>8.551137e+05</td>\n",
              "      <td>0.000</td>\n",
              "      <td>2.924048e+06</td>\n",
              "      <td>5.176884</td>\n",
              "      <td>32.066985</td>\n",
              "    </tr>\n",
              "    <tr>\n",
              "      <th>oldbalanceDest</th>\n",
              "      <td>0.0</td>\n",
              "      <td>3.560159e+08</td>\n",
              "      <td>3.560159e+08</td>\n",
              "      <td>1.100702e+06</td>\n",
              "      <td>132705.665</td>\n",
              "      <td>3.399180e+06</td>\n",
              "      <td>19.921758</td>\n",
              "      <td>948.674125</td>\n",
              "    </tr>\n",
              "    <tr>\n",
              "      <th>newbalanceDest</th>\n",
              "      <td>0.0</td>\n",
              "      <td>3.561793e+08</td>\n",
              "      <td>3.561793e+08</td>\n",
              "      <td>1.224996e+06</td>\n",
              "      <td>214661.440</td>\n",
              "      <td>3.674129e+06</td>\n",
              "      <td>19.352302</td>\n",
              "      <td>862.156508</td>\n",
              "    </tr>\n",
              "    <tr>\n",
              "      <th>isFraud</th>\n",
              "      <td>0.0</td>\n",
              "      <td>1.000000e+00</td>\n",
              "      <td>1.000000e+00</td>\n",
              "      <td>1.290820e-03</td>\n",
              "      <td>0.000</td>\n",
              "      <td>3.590479e-02</td>\n",
              "      <td>27.779538</td>\n",
              "      <td>769.702982</td>\n",
              "    </tr>\n",
              "    <tr>\n",
              "      <th>isFlaggedFraud</th>\n",
              "      <td>0.0</td>\n",
              "      <td>1.000000e+00</td>\n",
              "      <td>1.000000e+00</td>\n",
              "      <td>2.514687e-06</td>\n",
              "      <td>0.000</td>\n",
              "      <td>1.585775e-03</td>\n",
              "      <td>630.603629</td>\n",
              "      <td>397659.062500</td>\n",
              "    </tr>\n",
              "  </tbody>\n",
              "</table>\n",
              "</div>\n",
              "      <button class=\"colab-df-convert\" onclick=\"convertToInteractive('df-fb2b2b37-29af-4484-8468-90edeb5e0b31')\"\n",
              "              title=\"Convert this dataframe to an interactive table.\"\n",
              "              style=\"display:none;\">\n",
              "        \n",
              "  <svg xmlns=\"http://www.w3.org/2000/svg\" height=\"24px\"viewBox=\"0 0 24 24\"\n",
              "       width=\"24px\">\n",
              "    <path d=\"M0 0h24v24H0V0z\" fill=\"none\"/>\n",
              "    <path d=\"M18.56 5.44l.94 2.06.94-2.06 2.06-.94-2.06-.94-.94-2.06-.94 2.06-2.06.94zm-11 1L8.5 8.5l.94-2.06 2.06-.94-2.06-.94L8.5 2.5l-.94 2.06-2.06.94zm10 10l.94 2.06.94-2.06 2.06-.94-2.06-.94-.94-2.06-.94 2.06-2.06.94z\"/><path d=\"M17.41 7.96l-1.37-1.37c-.4-.4-.92-.59-1.43-.59-.52 0-1.04.2-1.43.59L10.3 9.45l-7.72 7.72c-.78.78-.78 2.05 0 2.83L4 21.41c.39.39.9.59 1.41.59.51 0 1.02-.2 1.41-.59l7.78-7.78 2.81-2.81c.8-.78.8-2.07 0-2.86zM5.41 20L4 18.59l7.72-7.72 1.47 1.35L5.41 20z\"/>\n",
              "  </svg>\n",
              "      </button>\n",
              "      \n",
              "  <style>\n",
              "    .colab-df-container {\n",
              "      display:flex;\n",
              "      flex-wrap:wrap;\n",
              "      gap: 12px;\n",
              "    }\n",
              "\n",
              "    .colab-df-convert {\n",
              "      background-color: #E8F0FE;\n",
              "      border: none;\n",
              "      border-radius: 50%;\n",
              "      cursor: pointer;\n",
              "      display: none;\n",
              "      fill: #1967D2;\n",
              "      height: 32px;\n",
              "      padding: 0 0 0 0;\n",
              "      width: 32px;\n",
              "    }\n",
              "\n",
              "    .colab-df-convert:hover {\n",
              "      background-color: #E2EBFA;\n",
              "      box-shadow: 0px 1px 2px rgba(60, 64, 67, 0.3), 0px 1px 3px 1px rgba(60, 64, 67, 0.15);\n",
              "      fill: #174EA6;\n",
              "    }\n",
              "\n",
              "    [theme=dark] .colab-df-convert {\n",
              "      background-color: #3B4455;\n",
              "      fill: #D2E3FC;\n",
              "    }\n",
              "\n",
              "    [theme=dark] .colab-df-convert:hover {\n",
              "      background-color: #434B5C;\n",
              "      box-shadow: 0px 1px 3px 1px rgba(0, 0, 0, 0.15);\n",
              "      filter: drop-shadow(0px 1px 2px rgba(0, 0, 0, 0.3));\n",
              "      fill: #FFFFFF;\n",
              "    }\n",
              "  </style>\n",
              "\n",
              "      <script>\n",
              "        const buttonEl =\n",
              "          document.querySelector('#df-fb2b2b37-29af-4484-8468-90edeb5e0b31 button.colab-df-convert');\n",
              "        buttonEl.style.display =\n",
              "          google.colab.kernel.accessAllowed ? 'block' : 'none';\n",
              "\n",
              "        async function convertToInteractive(key) {\n",
              "          const element = document.querySelector('#df-fb2b2b37-29af-4484-8468-90edeb5e0b31');\n",
              "          const dataTable =\n",
              "            await google.colab.kernel.invokeFunction('convertToInteractive',\n",
              "                                                     [key], {});\n",
              "          if (!dataTable) return;\n",
              "\n",
              "          const docLinkHtml = 'Like what you see? Visit the ' +\n",
              "            '<a target=\"_blank\" href=https://colab.research.google.com/notebooks/data_table.ipynb>data table notebook</a>'\n",
              "            + ' to learn more about interactive tables.';\n",
              "          element.innerHTML = '';\n",
              "          dataTable['output_type'] = 'display_data';\n",
              "          await google.colab.output.renderOutput(dataTable, element);\n",
              "          const docLink = document.createElement('div');\n",
              "          docLink.innerHTML = docLinkHtml;\n",
              "          element.appendChild(docLink);\n",
              "        }\n",
              "      </script>\n",
              "    </div>\n",
              "  </div>\n",
              "  "
            ],
            "text/plain": [
              "                min           max         range          mean      median  \\\n",
              "step            1.0  7.430000e+02  7.420000e+02  2.433972e+02     239.000   \n",
              "amount          0.0  9.244552e+07  9.244552e+07  1.798619e+05   74871.940   \n",
              "oldbalanceOrg   0.0  5.958504e+07  5.958504e+07  8.338831e+05   14208.000   \n",
              "newbalanceOrig  0.0  4.958504e+07  4.958504e+07  8.551137e+05       0.000   \n",
              "oldbalanceDest  0.0  3.560159e+08  3.560159e+08  1.100702e+06  132705.665   \n",
              "newbalanceDest  0.0  3.561793e+08  3.561793e+08  1.224996e+06  214661.440   \n",
              "isFraud         0.0  1.000000e+00  1.000000e+00  1.290820e-03       0.000   \n",
              "isFlaggedFraud  0.0  1.000000e+00  1.000000e+00  2.514687e-06       0.000   \n",
              "\n",
              "                         std        skew       kurtosis  \n",
              "step            1.423320e+02    0.375177       0.329071  \n",
              "amount          6.038582e+05   30.993949    1797.956705  \n",
              "oldbalanceOrg   2.888242e+06    5.249136      32.964879  \n",
              "newbalanceOrig  2.924048e+06    5.176884      32.066985  \n",
              "oldbalanceDest  3.399180e+06   19.921758     948.674125  \n",
              "newbalanceDest  3.674129e+06   19.352302     862.156508  \n",
              "isFraud         3.590479e-02   27.779538     769.702982  \n",
              "isFlaggedFraud  1.585775e-03  630.603629  397659.062500  "
            ]
          },
          "metadata": {},
          "execution_count": 17
        }
      ]
    },
    {
      "cell_type": "markdown",
      "metadata": {
        "heading_collapsed": true,
        "hidden": true,
        "id": "J70lo6JdsXRu"
      },
      "source": [
        "### 1.2.2 general view of attributes"
      ],
      "id": "J70lo6JdsXRu"
    },
    {
      "cell_type": "code",
      "source": [
        "# Numerical attribute view\n",
        "\n",
        "# Exploring continuous attributes\n",
        "\n",
        "num_attrib.select_dtypes('float64').hist(figsize=(10,5),layout=(2,3))\n",
        "plt.tight_layout();"
      ],
      "metadata": {
        "colab": {
          "base_uri": "https://localhost:8080/",
          "height": 369
        },
        "id": "h9qLgPbKLiiY",
        "outputId": "1af91530-eb67-433f-9845-ed147805b178"
      },
      "id": "h9qLgPbKLiiY",
      "execution_count": 18,
      "outputs": [
        {
          "output_type": "display_data",
          "data": {
            "image/png": "[encoded data removed]",
            "text/plain": [
              "<Figure size 720x360 with 6 Axes>"
            ]
          },
          "metadata": {
            "needs_background": "light"
          }
        }
      ]
    },
    {
      "cell_type": "code",
      "source": [
        ""
      ],
      "metadata": {
        "id": "OeD8io4m_FHQ"
      },
      "id": "OeD8io4m_FHQ",
      "execution_count": 18,
      "outputs": []
    },
    {
      "cell_type": "code",
      "source": [
        "# Exploring 'amount' - Counts and bins\n",
        "\n",
        "counts, bins = np.histogram(num_attrib.loc[num_attrib['amount']>0, 'amount'], \n",
        "                               bins=20, \n",
        "                               range=(num_attrib.loc[num_attrib['amount']>0, 'amount'].min(),\n",
        "                                      num_attrib.loc[num_attrib['amount']>0, 'amount'].max()))"
      ],
      "metadata": {
        "id": "MvY0tjvFOoys"
      },
      "id": "MvY0tjvFOoys",
      "execution_count": 19,
      "outputs": []
    },
    {
      "cell_type": "code",
      "source": [
        "counts"
      ],
      "metadata": {
        "colab": {
          "base_uri": "https://localhost:8080/"
        },
        "id": "ZJN3sUYTOo1p",
        "outputId": "afe03fe5-9419-4ad0-c554-9fe5d8543168"
      },
      "id": "ZJN3sUYTOo1p",
      "execution_count": 20,
      "outputs": [
        {
          "output_type": "execute_result",
          "data": {
            "text/plain": [
              "array([6350041,    6419,    4533,     657,     326,     207,     143,\n",
              "           113,      64,      23,      34,      18,      11,       8,\n",
              "             2,       4,       0,       0,       0,       1])"
            ]
          },
          "metadata": {},
          "execution_count": 20
        }
      ]
    },
    {
      "cell_type": "code",
      "source": [
        "bins"
      ],
      "metadata": {
        "colab": {
          "base_uri": "https://localhost:8080/"
        },
        "id": "9PF8gZemP5Iw",
        "outputId": "e04a3ec3-a246-481e-f9f2-0559e70bc2c5"
      },
      "id": "9PF8gZemP5Iw",
      "execution_count": 21,
      "outputs": [
        {
          "output_type": "execute_result",
          "data": {
            "text/plain": [
              "array([1.00000000e-02, 4.62227584e+06, 9.24455167e+06, 1.38668275e+07,\n",
              "       1.84891033e+07, 2.31113792e+07, 2.77336550e+07, 3.23559308e+07,\n",
              "       3.69782067e+07, 4.16004825e+07, 4.62227583e+07, 5.08450342e+07,\n",
              "       5.54673100e+07, 6.00895858e+07, 6.47118617e+07, 6.93341375e+07,\n",
              "       7.39564133e+07, 7.85786891e+07, 8.32009650e+07, 8.78232408e+07,\n",
              "       9.24455166e+07])"
            ]
          },
          "metadata": {},
          "execution_count": 21
        }
      ]
    },
    {
      "cell_type": "code",
      "source": [
        "# Most of transactions involves amount lower than 40000\n",
        "\n",
        "num_attrib.loc[num_attrib['amount']<4.62227584e+04, 'amount'].hist()"
      ],
      "metadata": {
        "colab": {
          "base_uri": "https://localhost:8080/",
          "height": 282
        },
        "id": "cTXMG7eASHbh",
        "outputId": "2c9620f8-6bf4-4a22-d8d3-a67136380039"
      },
      "id": "cTXMG7eASHbh",
      "execution_count": 22,
      "outputs": [
        {
          "output_type": "execute_result",
          "data": {
            "text/plain": [
              "<matplotlib.axes._subplots.AxesSubplot at 0x7f4a9514e950>"
            ]
          },
          "metadata": {},
          "execution_count": 22
        },
        {
          "output_type": "display_data",
          "data": {
            "image/png": "[encoded data removed]",
            "text/plain": [
              "<Figure size 432x288 with 1 Axes>"
            ]
          },
          "metadata": {
            "needs_background": "light"
          }
        }
      ]
    },
    {
      "cell_type": "code",
      "source": [
        "# However there are lots of outliers - higher amount transactions \n",
        "\n",
        "sns.boxplot(num_attrib.loc[num_attrib['amount']>0, 'amount'], orient='h')"
      ],
      "metadata": {
        "colab": {
          "base_uri": "https://localhost:8080/",
          "height": 296
        },
        "id": "W746OdAyM5wQ",
        "outputId": "b5e4ccf0-564b-4272-cd91-07a88be048a4"
      },
      "id": "W746OdAyM5wQ",
      "execution_count": 23,
      "outputs": [
        {
          "output_type": "execute_result",
          "data": {
            "text/plain": [
              "<matplotlib.axes._subplots.AxesSubplot at 0x7f4a94bf9610>"
            ]
          },
          "metadata": {},
          "execution_count": 23
        },
        {
          "output_type": "display_data",
          "data": {
            "image/png": "[encoded data removed]",
            "text/plain": [
              "<Figure size 432x288 with 1 Axes>"
            ]
          },
          "metadata": {
            "needs_background": "light"
          }
        }
      ]
    },
    {
      "cell_type": "code",
      "source": [
        "# Boxplot of continuous variables - lots of outliers\n",
        "\n",
        "df.select_dtypes('float64').boxplot(rot=45)"
      ],
      "metadata": {
        "colab": {
          "base_uri": "https://localhost:8080/",
          "height": 349
        },
        "id": "XDE099CvxRN-",
        "outputId": "68c89700-8a92-4143-c79a-401fd85b921c"
      },
      "id": "XDE099CvxRN-",
      "execution_count": 24,
      "outputs": [
        {
          "output_type": "execute_result",
          "data": {
            "text/plain": [
              "<matplotlib.axes._subplots.AxesSubplot at 0x7f4a93af6ed0>"
            ]
          },
          "metadata": {},
          "execution_count": 24
        },
        {
          "output_type": "display_data",
          "data": {
            "image/png": "[encoded data removed]",
            "text/plain": [
              "<Figure size 432x288 with 1 Axes>"
            ]
          },
          "metadata": {
            "needs_background": "light"
          }
        }
      ]
    },
    {
      "cell_type": "code",
      "source": [
        "# The frequencies of transactions of higher amounts are extremy low \n",
        "## and are supressed by most frequent transactions\n",
        "\n",
        "num_attrib.loc[:, 'amount'].hist()"
      ],
      "metadata": {
        "colab": {
          "base_uri": "https://localhost:8080/",
          "height": 306
        },
        "id": "42Rmisf8UZoh",
        "outputId": "a889f4bb-2e4b-4b75-a192-cb637250abd5"
      },
      "id": "42Rmisf8UZoh",
      "execution_count": 25,
      "outputs": [
        {
          "output_type": "execute_result",
          "data": {
            "text/plain": [
              "<matplotlib.axes._subplots.AxesSubplot at 0x7f4a93a59790>"
            ]
          },
          "metadata": {},
          "execution_count": 25
        },
        {
          "output_type": "display_data",
          "data": {
            "image/png": "[encoded data removed]",
            "text/plain": [
              "<Figure size 432x288 with 1 Axes>"
            ]
          },
          "metadata": {
            "needs_background": "light"
          }
        }
      ]
    },
    {
      "cell_type": "code",
      "source": [
        "# Boxplot - 'amount'\n",
        "\n",
        "sns.boxplot(x='isFraud', y='amount', data=num_attrib)"
      ],
      "metadata": {
        "colab": {
          "base_uri": "https://localhost:8080/",
          "height": 307
        },
        "id": "uG52385ZlLtb",
        "outputId": "a597de47-4e56-4277-f334-5f2d97893f27"
      },
      "id": "uG52385ZlLtb",
      "execution_count": 26,
      "outputs": [
        {
          "output_type": "execute_result",
          "data": {
            "text/plain": [
              "<matplotlib.axes._subplots.AxesSubplot at 0x7f4a939dacd0>"
            ]
          },
          "metadata": {},
          "execution_count": 26
        },
        {
          "output_type": "display_data",
          "data": {
            "image/png": "[encoded data removed]",
            "text/plain": [
              "<Figure size 432x288 with 1 Axes>"
            ]
          },
          "metadata": {
            "needs_background": "light"
          }
        }
      ]
    },
    {
      "cell_type": "code",
      "source": [
        "# Boxplot - 'amount' (expanded)\n",
        "\n",
        "sns.boxplot(x='isFraud', y='amount', data=num_attrib[num_attrib['amount']<3.0e+04])\n",
        "\n"
      ],
      "metadata": {
        "colab": {
          "base_uri": "https://localhost:8080/",
          "height": 296
        },
        "id": "mPdocrzClLv_",
        "outputId": "465f2219-efa2-4337-b801-f9ff4df0dd72"
      },
      "id": "mPdocrzClLv_",
      "execution_count": 27,
      "outputs": [
        {
          "output_type": "execute_result",
          "data": {
            "text/plain": [
              "<matplotlib.axes._subplots.AxesSubplot at 0x7f4a93a03e10>"
            ]
          },
          "metadata": {},
          "execution_count": 27
        },
        {
          "output_type": "display_data",
          "data": {
            "image/png": "[encoded data removed]",
            "text/plain": [
              "<Figure size 432x288 with 1 Axes>"
            ]
          },
          "metadata": {
            "needs_background": "light"
          }
        }
      ]
    },
    {
      "cell_type": "code",
      "source": [
        "# Categorical attributes check\n",
        "\n",
        "cat_attrib"
      ],
      "metadata": {
        "colab": {
          "base_uri": "https://localhost:8080/",
          "height": 424
        },
        "id": "uSPdAcr7Ubku",
        "outputId": "57c75313-cb26-475a-edaa-0e1491d77f1f"
      },
      "id": "uSPdAcr7Ubku",
      "execution_count": 28,
      "outputs": [
        {
          "output_type": "execute_result",
          "data": {
            "text/html": [
              "\n",
              "  <div id=\"df-ac72f38c-d529-4762-854e-6ba4d697b956\">\n",
              "    <div class=\"colab-df-container\">\n",
              "      <div>\n",
              "<style scoped>\n",
              "    .dataframe tbody tr th:only-of-type {\n",
              "        vertical-align: middle;\n",
              "    }\n",
              "\n",
              "    .dataframe tbody tr th {\n",
              "        vertical-align: top;\n",
              "    }\n",
              "\n",
              "    .dataframe thead th {\n",
              "        text-align: right;\n",
              "    }\n",
              "</style>\n",
              "<table border=\"1\" class=\"dataframe\">\n",
              "  <thead>\n",
              "    <tr style=\"text-align: right;\">\n",
              "      <th></th>\n",
              "      <th>type</th>\n",
              "      <th>nameOrig</th>\n",
              "      <th>nameDest</th>\n",
              "    </tr>\n",
              "  </thead>\n",
              "  <tbody>\n",
              "    <tr>\n",
              "      <th>0</th>\n",
              "      <td>PAYMENT</td>\n",
              "      <td>C1231006815</td>\n",
              "      <td>M1979787155</td>\n",
              "    </tr>\n",
              "    <tr>\n",
              "      <th>1</th>\n",
              "      <td>PAYMENT</td>\n",
              "      <td>C1666544295</td>\n",
              "      <td>M2044282225</td>\n",
              "    </tr>\n",
              "    <tr>\n",
              "      <th>2</th>\n",
              "      <td>TRANSFER</td>\n",
              "      <td>C1305486145</td>\n",
              "      <td>C553264065</td>\n",
              "    </tr>\n",
              "    <tr>\n",
              "      <th>3</th>\n",
              "      <td>CASH_OUT</td>\n",
              "      <td>C840083671</td>\n",
              "      <td>C38997010</td>\n",
              "    </tr>\n",
              "    <tr>\n",
              "      <th>4</th>\n",
              "      <td>PAYMENT</td>\n",
              "      <td>C2048537720</td>\n",
              "      <td>M1230701703</td>\n",
              "    </tr>\n",
              "    <tr>\n",
              "      <th>...</th>\n",
              "      <td>...</td>\n",
              "      <td>...</td>\n",
              "      <td>...</td>\n",
              "    </tr>\n",
              "    <tr>\n",
              "      <th>6362615</th>\n",
              "      <td>CASH_OUT</td>\n",
              "      <td>C786484425</td>\n",
              "      <td>C776919290</td>\n",
              "    </tr>\n",
              "    <tr>\n",
              "      <th>6362616</th>\n",
              "      <td>TRANSFER</td>\n",
              "      <td>C1529008245</td>\n",
              "      <td>C1881841831</td>\n",
              "    </tr>\n",
              "    <tr>\n",
              "      <th>6362617</th>\n",
              "      <td>CASH_OUT</td>\n",
              "      <td>C1162922333</td>\n",
              "      <td>C1365125890</td>\n",
              "    </tr>\n",
              "    <tr>\n",
              "      <th>6362618</th>\n",
              "      <td>TRANSFER</td>\n",
              "      <td>C1685995037</td>\n",
              "      <td>C2080388513</td>\n",
              "    </tr>\n",
              "    <tr>\n",
              "      <th>6362619</th>\n",
              "      <td>CASH_OUT</td>\n",
              "      <td>C1280323807</td>\n",
              "      <td>C873221189</td>\n",
              "    </tr>\n",
              "  </tbody>\n",
              "</table>\n",
              "<p>6362620 rows × 3 columns</p>\n",
              "</div>\n",
              "      <button class=\"colab-df-convert\" onclick=\"convertToInteractive('df-ac72f38c-d529-4762-854e-6ba4d697b956')\"\n",
              "              title=\"Convert this dataframe to an interactive table.\"\n",
              "              style=\"display:none;\">\n",
              "        \n",
              "  <svg xmlns=\"http://www.w3.org/2000/svg\" height=\"24px\"viewBox=\"0 0 24 24\"\n",
              "       width=\"24px\">\n",
              "    <path d=\"M0 0h24v24H0V0z\" fill=\"none\"/>\n",
              "    <path d=\"M18.56 5.44l.94 2.06.94-2.06 2.06-.94-2.06-.94-.94-2.06-.94 2.06-2.06.94zm-11 1L8.5 8.5l.94-2.06 2.06-.94-2.06-.94L8.5 2.5l-.94 2.06-2.06.94zm10 10l.94 2.06.94-2.06 2.06-.94-2.06-.94-.94-2.06-.94 2.06-2.06.94z\"/><path d=\"M17.41 7.96l-1.37-1.37c-.4-.4-.92-.59-1.43-.59-.52 0-1.04.2-1.43.59L10.3 9.45l-7.72 7.72c-.78.78-.78 2.05 0 2.83L4 21.41c.39.39.9.59 1.41.59.51 0 1.02-.2 1.41-.59l7.78-7.78 2.81-2.81c.8-.78.8-2.07 0-2.86zM5.41 20L4 18.59l7.72-7.72 1.47 1.35L5.41 20z\"/>\n",
              "  </svg>\n",
              "      </button>\n",
              "      \n",
              "  <style>\n",
              "    .colab-df-container {\n",
              "      display:flex;\n",
              "      flex-wrap:wrap;\n",
              "      gap: 12px;\n",
              "    }\n",
              "\n",
              "    .colab-df-convert {\n",
              "      background-color: #E8F0FE;\n",
              "      border: none;\n",
              "      border-radius: 50%;\n",
              "      cursor: pointer;\n",
              "      display: none;\n",
              "      fill: #1967D2;\n",
              "      height: 32px;\n",
              "      padding: 0 0 0 0;\n",
              "      width: 32px;\n",
              "    }\n",
              "\n",
              "    .colab-df-convert:hover {\n",
              "      background-color: #E2EBFA;\n",
              "      box-shadow: 0px 1px 2px rgba(60, 64, 67, 0.3), 0px 1px 3px 1px rgba(60, 64, 67, 0.15);\n",
              "      fill: #174EA6;\n",
              "    }\n",
              "\n",
              "    [theme=dark] .colab-df-convert {\n",
              "      background-color: #3B4455;\n",
              "      fill: #D2E3FC;\n",
              "    }\n",
              "\n",
              "    [theme=dark] .colab-df-convert:hover {\n",
              "      background-color: #434B5C;\n",
              "      box-shadow: 0px 1px 3px 1px rgba(0, 0, 0, 0.15);\n",
              "      filter: drop-shadow(0px 1px 2px rgba(0, 0, 0, 0.3));\n",
              "      fill: #FFFFFF;\n",
              "    }\n",
              "  </style>\n",
              "\n",
              "      <script>\n",
              "        const buttonEl =\n",
              "          document.querySelector('#df-ac72f38c-d529-4762-854e-6ba4d697b956 button.colab-df-convert');\n",
              "        buttonEl.style.display =\n",
              "          google.colab.kernel.accessAllowed ? 'block' : 'none';\n",
              "\n",
              "        async function convertToInteractive(key) {\n",
              "          const element = document.querySelector('#df-ac72f38c-d529-4762-854e-6ba4d697b956');\n",
              "          const dataTable =\n",
              "            await google.colab.kernel.invokeFunction('convertToInteractive',\n",
              "                                                     [key], {});\n",
              "          if (!dataTable) return;\n",
              "\n",
              "          const docLinkHtml = 'Like what you see? Visit the ' +\n",
              "            '<a target=\"_blank\" href=https://colab.research.google.com/notebooks/data_table.ipynb>data table notebook</a>'\n",
              "            + ' to learn more about interactive tables.';\n",
              "          element.innerHTML = '';\n",
              "          dataTable['output_type'] = 'display_data';\n",
              "          await google.colab.output.renderOutput(dataTable, element);\n",
              "          const docLink = document.createElement('div');\n",
              "          docLink.innerHTML = docLinkHtml;\n",
              "          element.appendChild(docLink);\n",
              "        }\n",
              "      </script>\n",
              "    </div>\n",
              "  </div>\n",
              "  "
            ],
            "text/plain": [
              "             type     nameOrig     nameDest\n",
              "0         PAYMENT  C1231006815  M1979787155\n",
              "1         PAYMENT  C1666544295  M2044282225\n",
              "2        TRANSFER  C1305486145   C553264065\n",
              "3        CASH_OUT   C840083671    C38997010\n",
              "4         PAYMENT  C2048537720  M1230701703\n",
              "...           ...          ...          ...\n",
              "6362615  CASH_OUT   C786484425   C776919290\n",
              "6362616  TRANSFER  C1529008245  C1881841831\n",
              "6362617  CASH_OUT  C1162922333  C1365125890\n",
              "6362618  TRANSFER  C1685995037  C2080388513\n",
              "6362619  CASH_OUT  C1280323807   C873221189\n",
              "\n",
              "[6362620 rows x 3 columns]"
            ]
          },
          "metadata": {},
          "execution_count": 28
        }
      ]
    },
    {
      "cell_type": "code",
      "source": [
        "# Categorical attributes view\n",
        "\n",
        "# Unbalanced data makes direct comparisons dificult - we normalized the data here\n",
        "\n",
        "cat_view = pd.DataFrame(df[['isFraud','type']].groupby(['isFraud','type']).size().reset_index())\n",
        "\n",
        "cat_view.columns = ['isFraud','type', 'count']\n",
        "\n",
        "#column 'norm_count' - normalizing by the total count of each category in the column 'isFraud'\n",
        "cat_view.loc[cat_view['isFraud']==1,'norm_count'] = cat_view['count'] / cat_view.loc[cat_view['isFraud']==1, 'count'].sum()\n",
        "\n",
        "cat_view.loc[cat_view['isFraud']==0,'norm_count'] = cat_view['count'] / cat_view.loc[cat_view['isFraud']==0, 'count'].sum()\n",
        "\n",
        "cat_view"
      ],
      "metadata": {
        "colab": {
          "base_uri": "https://localhost:8080/",
          "height": 269
        },
        "id": "VD_B3lhVX4wN",
        "outputId": "7b208b60-c512-458c-cf96-20531f94b0e5"
      },
      "id": "VD_B3lhVX4wN",
      "execution_count": 29,
      "outputs": [
        {
          "output_type": "execute_result",
          "data": {
            "text/html": [
              "\n",
              "  <div id=\"df-dcc6c8b5-3fe9-49ef-bbad-1d3273c2114e\">\n",
              "    <div class=\"colab-df-container\">\n",
              "      <div>\n",
              "<style scoped>\n",
              "    .dataframe tbody tr th:only-of-type {\n",
              "        vertical-align: middle;\n",
              "    }\n",
              "\n",
              "    .dataframe tbody tr th {\n",
              "        vertical-align: top;\n",
              "    }\n",
              "\n",
              "    .dataframe thead th {\n",
              "        text-align: right;\n",
              "    }\n",
              "</style>\n",
              "<table border=\"1\" class=\"dataframe\">\n",
              "  <thead>\n",
              "    <tr style=\"text-align: right;\">\n",
              "      <th></th>\n",
              "      <th>isFraud</th>\n",
              "      <th>type</th>\n",
              "      <th>count</th>\n",
              "      <th>norm_count</th>\n",
              "    </tr>\n",
              "  </thead>\n",
              "  <tbody>\n",
              "    <tr>\n",
              "      <th>0</th>\n",
              "      <td>0</td>\n",
              "      <td>CASH_IN</td>\n",
              "      <td>1399284</td>\n",
              "      <td>0.220207</td>\n",
              "    </tr>\n",
              "    <tr>\n",
              "      <th>1</th>\n",
              "      <td>0</td>\n",
              "      <td>CASH_OUT</td>\n",
              "      <td>2233384</td>\n",
              "      <td>0.351470</td>\n",
              "    </tr>\n",
              "    <tr>\n",
              "      <th>2</th>\n",
              "      <td>0</td>\n",
              "      <td>DEBIT</td>\n",
              "      <td>41432</td>\n",
              "      <td>0.006520</td>\n",
              "    </tr>\n",
              "    <tr>\n",
              "      <th>3</th>\n",
              "      <td>0</td>\n",
              "      <td>PAYMENT</td>\n",
              "      <td>2151495</td>\n",
              "      <td>0.338583</td>\n",
              "    </tr>\n",
              "    <tr>\n",
              "      <th>4</th>\n",
              "      <td>0</td>\n",
              "      <td>TRANSFER</td>\n",
              "      <td>528812</td>\n",
              "      <td>0.083220</td>\n",
              "    </tr>\n",
              "    <tr>\n",
              "      <th>5</th>\n",
              "      <td>1</td>\n",
              "      <td>CASH_OUT</td>\n",
              "      <td>4116</td>\n",
              "      <td>0.501157</td>\n",
              "    </tr>\n",
              "    <tr>\n",
              "      <th>6</th>\n",
              "      <td>1</td>\n",
              "      <td>TRANSFER</td>\n",
              "      <td>4097</td>\n",
              "      <td>0.498843</td>\n",
              "    </tr>\n",
              "  </tbody>\n",
              "</table>\n",
              "</div>\n",
              "      <button class=\"colab-df-convert\" onclick=\"convertToInteractive('df-dcc6c8b5-3fe9-49ef-bbad-1d3273c2114e')\"\n",
              "              title=\"Convert this dataframe to an interactive table.\"\n",
              "              style=\"display:none;\">\n",
              "        \n",
              "  <svg xmlns=\"http://www.w3.org/2000/svg\" height=\"24px\"viewBox=\"0 0 24 24\"\n",
              "       width=\"24px\">\n",
              "    <path d=\"M0 0h24v24H0V0z\" fill=\"none\"/>\n",
              "    <path d=\"M18.56 5.44l.94 2.06.94-2.06 2.06-.94-2.06-.94-.94-2.06-.94 2.06-2.06.94zm-11 1L8.5 8.5l.94-2.06 2.06-.94-2.06-.94L8.5 2.5l-.94 2.06-2.06.94zm10 10l.94 2.06.94-2.06 2.06-.94-2.06-.94-.94-2.06-.94 2.06-2.06.94z\"/><path d=\"M17.41 7.96l-1.37-1.37c-.4-.4-.92-.59-1.43-.59-.52 0-1.04.2-1.43.59L10.3 9.45l-7.72 7.72c-.78.78-.78 2.05 0 2.83L4 21.41c.39.39.9.59 1.41.59.51 0 1.02-.2 1.41-.59l7.78-7.78 2.81-2.81c.8-.78.8-2.07 0-2.86zM5.41 20L4 18.59l7.72-7.72 1.47 1.35L5.41 20z\"/>\n",
              "  </svg>\n",
              "      </button>\n",
              "      \n",
              "  <style>\n",
              "    .colab-df-container {\n",
              "      display:flex;\n",
              "      flex-wrap:wrap;\n",
              "      gap: 12px;\n",
              "    }\n",
              "\n",
              "    .colab-df-convert {\n",
              "      background-color: #E8F0FE;\n",
              "      border: none;\n",
              "      border-radius: 50%;\n",
              "      cursor: pointer;\n",
              "      display: none;\n",
              "      fill: #1967D2;\n",
              "      height: 32px;\n",
              "      padding: 0 0 0 0;\n",
              "      width: 32px;\n",
              "    }\n",
              "\n",
              "    .colab-df-convert:hover {\n",
              "      background-color: #E2EBFA;\n",
              "      box-shadow: 0px 1px 2px rgba(60, 64, 67, 0.3), 0px 1px 3px 1px rgba(60, 64, 67, 0.15);\n",
              "      fill: #174EA6;\n",
              "    }\n",
              "\n",
              "    [theme=dark] .colab-df-convert {\n",
              "      background-color: #3B4455;\n",
              "      fill: #D2E3FC;\n",
              "    }\n",
              "\n",
              "    [theme=dark] .colab-df-convert:hover {\n",
              "      background-color: #434B5C;\n",
              "      box-shadow: 0px 1px 3px 1px rgba(0, 0, 0, 0.15);\n",
              "      filter: drop-shadow(0px 1px 2px rgba(0, 0, 0, 0.3));\n",
              "      fill: #FFFFFF;\n",
              "    }\n",
              "  </style>\n",
              "\n",
              "      <script>\n",
              "        const buttonEl =\n",
              "          document.querySelector('#df-dcc6c8b5-3fe9-49ef-bbad-1d3273c2114e button.colab-df-convert');\n",
              "        buttonEl.style.display =\n",
              "          google.colab.kernel.accessAllowed ? 'block' : 'none';\n",
              "\n",
              "        async function convertToInteractive(key) {\n",
              "          const element = document.querySelector('#df-dcc6c8b5-3fe9-49ef-bbad-1d3273c2114e');\n",
              "          const dataTable =\n",
              "            await google.colab.kernel.invokeFunction('convertToInteractive',\n",
              "                                                     [key], {});\n",
              "          if (!dataTable) return;\n",
              "\n",
              "          const docLinkHtml = 'Like what you see? Visit the ' +\n",
              "            '<a target=\"_blank\" href=https://colab.research.google.com/notebooks/data_table.ipynb>data table notebook</a>'\n",
              "            + ' to learn more about interactive tables.';\n",
              "          element.innerHTML = '';\n",
              "          dataTable['output_type'] = 'display_data';\n",
              "          await google.colab.output.renderOutput(dataTable, element);\n",
              "          const docLink = document.createElement('div');\n",
              "          docLink.innerHTML = docLinkHtml;\n",
              "          element.appendChild(docLink);\n",
              "        }\n",
              "      </script>\n",
              "    </div>\n",
              "  </div>\n",
              "  "
            ],
            "text/plain": [
              "   isFraud      type    count  norm_count\n",
              "0        0   CASH_IN  1399284    0.220207\n",
              "1        0  CASH_OUT  2233384    0.351470\n",
              "2        0     DEBIT    41432    0.006520\n",
              "3        0   PAYMENT  2151495    0.338583\n",
              "4        0  TRANSFER   528812    0.083220\n",
              "5        1  CASH_OUT     4116    0.501157\n",
              "6        1  TRANSFER     4097    0.498843"
            ]
          },
          "metadata": {},
          "execution_count": 29
        }
      ]
    },
    {
      "cell_type": "code",
      "source": [
        "# There is no CASH_IN, DEBIT, PAYMENT in fraud transactions - 'type' variable might be important\n",
        "\n",
        "# Let's compare CASH_OUT and TRANSFER\n",
        "\n",
        "# When there is fraud percentage of CASH_OUT and TRANSFER transactions are higher compared to when there is not\n",
        "\n",
        "sns.barplot(x='type', \n",
        "            y='norm_count', \n",
        "            hue='isFraud', \n",
        "            data=cat_view[(cat_view['type']=='CASH_OUT') | (cat_view['type']=='TRANSFER')])"
      ],
      "metadata": {
        "colab": {
          "base_uri": "https://localhost:8080/",
          "height": 297
        },
        "id": "stT2N7LpbrvV",
        "outputId": "b8160f67-6ca8-4ddc-c79b-0df90f9d7c12"
      },
      "id": "stT2N7LpbrvV",
      "execution_count": 30,
      "outputs": [
        {
          "output_type": "execute_result",
          "data": {
            "text/plain": [
              "<matplotlib.axes._subplots.AxesSubplot at 0x7f4a93953550>"
            ]
          },
          "metadata": {},
          "execution_count": 30
        },
        {
          "output_type": "display_data",
          "data": {
            "image/png": "[encoded data removed]",
            "text/plain": [
              "<Figure size 432x288 with 1 Axes>"
            ]
          },
          "metadata": {
            "needs_background": "light"
          }
        }
      ]
    },
    {
      "cell_type": "markdown",
      "id": "82ab2d45",
      "metadata": {
        "heading_collapsed": true,
        "id": "82ab2d45"
      },
      "source": [
        "# 2 - Feature engineering"
      ]
    },
    {
      "cell_type": "code",
      "source": [
        "df1 = df.copy()"
      ],
      "metadata": {
        "id": "hMK0f99Z1HwL"
      },
      "id": "hMK0f99Z1HwL",
      "execution_count": 31,
      "outputs": []
    },
    {
      "cell_type": "markdown",
      "id": "ee1653cd",
      "metadata": {
        "heading_collapsed": true,
        "hidden": true,
        "id": "ee1653cd"
      },
      "source": [
        "## 2.1 creating new features"
      ]
    },
    {
      "cell_type": "markdown",
      "id": "81af72e1",
      "metadata": {
        "hidden": true,
        "id": "81af72e1"
      },
      "source": [
        "From 'step' column it is possible to create new time-related features that might help data exploration and learning process"
      ]
    },
    {
      "cell_type": "code",
      "execution_count": 32,
      "id": "ea5faea9",
      "metadata": {
        "ExecuteTime": {
          "end_time": "2022-01-19T22:26:49.745039Z",
          "start_time": "2022-01-19T22:26:45.257868Z"
        },
        "hidden": true,
        "colab": {
          "base_uri": "https://localhost:8080/"
        },
        "id": "ea5faea9",
        "outputId": "e2697bbc-c30c-4650-92cc-8c5bf3250dc5"
      },
      "outputs": [
        {
          "output_type": "execute_result",
          "data": {
            "text/plain": [
              "0           1\n",
              "1           1\n",
              "2           1\n",
              "3           1\n",
              "4           1\n",
              "           ..\n",
              "6362615    31\n",
              "6362616    31\n",
              "6362617    31\n",
              "6362618    31\n",
              "6362619    31\n",
              "Name: day_of_month, Length: 6362620, dtype: int64"
            ]
          },
          "metadata": {},
          "execution_count": 32
        }
      ],
      "source": [
        "# Day of month\n",
        "\n",
        "df1['day_of_month'] = df1['step'].apply(lambda x: ceil(x/24))\n",
        "\n",
        "df1['day_of_month']"
      ]
    },
    {
      "cell_type": "code",
      "execution_count": 33,
      "id": "6cd5b6fb",
      "metadata": {
        "ExecuteTime": {
          "end_time": "2022-01-19T22:26:59.260895Z",
          "start_time": "2022-01-19T22:26:54.555875Z"
        },
        "hidden": true,
        "colab": {
          "base_uri": "https://localhost:8080/"
        },
        "id": "6cd5b6fb",
        "outputId": "f18c81a6-5a04-4f2c-90c3-75442685a028"
      },
      "outputs": [
        {
          "output_type": "execute_result",
          "data": {
            "text/plain": [
              "0          1\n",
              "1          1\n",
              "2          1\n",
              "3          1\n",
              "4          1\n",
              "          ..\n",
              "6362615    5\n",
              "6362616    5\n",
              "6362617    5\n",
              "6362618    5\n",
              "6362619    5\n",
              "Name: week_of_month, Length: 6362620, dtype: int64"
            ]
          },
          "metadata": {},
          "execution_count": 33
        }
      ],
      "source": [
        "# Week of month\n",
        "\n",
        "df1['week_of_month'] = df1['step'].apply(lambda x: ceil(x/168))\n",
        "\n",
        "df1['week_of_month']"
      ]
    },
    {
      "cell_type": "code",
      "execution_count": 34,
      "id": "8ee1ab1f",
      "metadata": {
        "ExecuteTime": {
          "end_time": "2022-01-19T22:27:04.778147Z",
          "start_time": "2022-01-19T22:27:01.539394Z"
        },
        "hidden": true,
        "colab": {
          "base_uri": "https://localhost:8080/"
        },
        "id": "8ee1ab1f",
        "outputId": "be47f3c4-f0c1-4300-870a-8138a5c50e17"
      },
      "outputs": [
        {
          "output_type": "execute_result",
          "data": {
            "text/plain": [
              "0           0.0\n",
              "1           0.0\n",
              "2           0.0\n",
              "3           0.0\n",
              "4           0.0\n",
              "           ... \n",
              "6362615    22.0\n",
              "6362616    22.0\n",
              "6362617    22.0\n",
              "6362618    22.0\n",
              "6362619    22.0\n",
              "Name: hour_of_day, Length: 6362620, dtype: float64"
            ]
          },
          "metadata": {},
          "execution_count": 34
        }
      ],
      "source": [
        "# Creating aux column 'min_step_of_day'\n",
        "\n",
        "for i in df1['day_of_month'].unique():\n",
        "    \n",
        "    df1.loc[df1['day_of_month']==i,'min_step_of_day'] = df1.loc[df1['day_of_month']==i, 'step'].min()\n",
        "\n",
        "\n",
        "# Creating 'hour_of_day' column\n",
        "\n",
        "df1['hour_of_day'] = df1['step'] - df1['min_step_of_day']\n",
        "\n",
        "df1['hour_of_day']"
      ]
    },
    {
      "cell_type": "code",
      "execution_count": 35,
      "id": "b27f1e1e",
      "metadata": {
        "ExecuteTime": {
          "end_time": "2022-01-19T22:27:17.506987Z",
          "start_time": "2022-01-19T22:27:16.731898Z"
        },
        "hidden": true,
        "colab": {
          "base_uri": "https://localhost:8080/"
        },
        "id": "b27f1e1e",
        "outputId": "4dee124a-f9eb-4738-ebc0-1a15b34b94c0"
      },
      "outputs": [
        {
          "output_type": "execute_result",
          "data": {
            "text/plain": [
              "0          1.0\n",
              "1          1.0\n",
              "2          1.0\n",
              "3          1.0\n",
              "4          1.0\n",
              "          ... \n",
              "6362615    3.0\n",
              "6362616    3.0\n",
              "6362617    3.0\n",
              "6362618    3.0\n",
              "6362619    3.0\n",
              "Name: day_of_week, Length: 6362620, dtype: float64"
            ]
          },
          "metadata": {},
          "execution_count": 35
        }
      ],
      "source": [
        "# Creating aux column 'min_day_of_week'\n",
        "\n",
        "\n",
        "for i in df1['week_of_month'].unique():\n",
        "    \n",
        "    df1.loc[df1['week_of_month']==i, 'min_day_of_week'] = df1.loc[df1['week_of_month']==i, 'day_of_month'].min()\n",
        "\n",
        "\n",
        "\n",
        "# Creating 'day_of_week' column\n",
        "\n",
        "\n",
        "df1['day_of_week'] = ((df1['day_of_month'] - df1['min_day_of_week'])+1)\n",
        "\n",
        "df1['day_of_week']    "
      ]
    },
    {
      "cell_type": "code",
      "execution_count": 36,
      "id": "af3ee06b",
      "metadata": {
        "ExecuteTime": {
          "end_time": "2022-01-19T22:27:29.436882Z",
          "start_time": "2022-01-19T22:27:25.526860Z"
        },
        "hidden": true,
        "colab": {
          "base_uri": "https://localhost:8080/"
        },
        "id": "af3ee06b",
        "outputId": "4c32f77a-09a4-4cc2-91e8-42683735d130"
      },
      "outputs": [
        {
          "output_type": "execute_result",
          "data": {
            "text/plain": [
              "0           weekend\n",
              "1           weekend\n",
              "2           weekend\n",
              "3           weekend\n",
              "4           weekend\n",
              "             ...   \n",
              "6362615    weekdays\n",
              "6362616    weekdays\n",
              "6362617    weekdays\n",
              "6362618    weekdays\n",
              "6362619    weekdays\n",
              "Name: is_weekend, Length: 6362620, dtype: object"
            ]
          },
          "metadata": {},
          "execution_count": 36
        }
      ],
      "source": [
        "# Creating 'is_weekend' column\n",
        "\n",
        "df1['is_weekend'] = df1['day_of_week'].apply(lambda x: 'weekend' if x == 1 or x == 7 else 'weekdays')\n",
        "\n",
        "df1['is_weekend']"
      ]
    },
    {
      "cell_type": "code",
      "execution_count": 37,
      "id": "1b71294a",
      "metadata": {
        "ExecuteTime": {
          "end_time": "2022-01-19T23:04:04.294481Z",
          "start_time": "2022-01-19T23:04:02.195004Z"
        },
        "hidden": true,
        "colab": {
          "base_uri": "https://localhost:8080/"
        },
        "id": "1b71294a",
        "outputId": "d61d6498-80ff-4c15-ecae-c6c9803b8416"
      },
      "outputs": [
        {
          "output_type": "execute_result",
          "data": {
            "text/plain": [
              "0          AM\n",
              "1          AM\n",
              "2          AM\n",
              "3          AM\n",
              "4          AM\n",
              "           ..\n",
              "6362615    PM\n",
              "6362616    PM\n",
              "6362617    PM\n",
              "6362618    PM\n",
              "6362619    PM\n",
              "Name: time_of_day, Length: 6362620, dtype: object"
            ]
          },
          "metadata": {},
          "execution_count": 37
        }
      ],
      "source": [
        "# Creating 'time_of_day' column\n",
        "\n",
        "df1['time_of_day'] = df1['hour_of_day'].apply(lambda x: 'AM' if x <= 12 else 'PM')\n",
        "\n",
        "df1['time_of_day']"
      ]
    },
    {
      "cell_type": "code",
      "source": [
        "# Creating 'period_of_day' column\n",
        "\n",
        "df1['period_of_day'] = ['Morning' if i<=12 else 'Afternoon' if i>12 and i<=18 else 'Evening' for i in df1['hour_of_day']]\n",
        "\n",
        "df1['period_of_day']"
      ],
      "metadata": {
        "colab": {
          "base_uri": "https://localhost:8080/"
        },
        "id": "EDnPJulR92pp",
        "outputId": "e3570b4c-1a8b-4a90-b8a4-d658f6f3ecfe"
      },
      "id": "EDnPJulR92pp",
      "execution_count": 38,
      "outputs": [
        {
          "output_type": "execute_result",
          "data": {
            "text/plain": [
              "0          Morning\n",
              "1          Morning\n",
              "2          Morning\n",
              "3          Morning\n",
              "4          Morning\n",
              "            ...   \n",
              "6362615    Evening\n",
              "6362616    Evening\n",
              "6362617    Evening\n",
              "6362618    Evening\n",
              "6362619    Evening\n",
              "Name: period_of_day, Length: 6362620, dtype: object"
            ]
          },
          "metadata": {},
          "execution_count": 38
        }
      ]
    },
    {
      "cell_type": "markdown",
      "metadata": {
        "hidden": true,
        "id": "RQ-xTDjeNrsO"
      },
      "source": [
        "Columns 'nameOrig' and 'nameDest' carry information that allow us to categorize both transaction origin and transaction destiny (Costumer if the name starts with C and Merchant if the name starts with M) "
      ],
      "id": "RQ-xTDjeNrsO"
    },
    {
      "cell_type": "code",
      "source": [
        "# Creating 'orig_type' column\n",
        "\n",
        "df1['orig_type'] = ['Merchant' if i[0]== 'M' else 'Costumer' for i in df1['nameOrig']]\n",
        "\n",
        "df1['orig_type']"
      ],
      "metadata": {
        "colab": {
          "base_uri": "https://localhost:8080/"
        },
        "id": "X29qm0-jNnPQ",
        "outputId": "fb3d6ea7-6a26-4d2a-fd60-e14eeaffc89c"
      },
      "id": "X29qm0-jNnPQ",
      "execution_count": 39,
      "outputs": [
        {
          "output_type": "execute_result",
          "data": {
            "text/plain": [
              "0          Costumer\n",
              "1          Costumer\n",
              "2          Costumer\n",
              "3          Costumer\n",
              "4          Costumer\n",
              "             ...   \n",
              "6362615    Costumer\n",
              "6362616    Costumer\n",
              "6362617    Costumer\n",
              "6362618    Costumer\n",
              "6362619    Costumer\n",
              "Name: orig_type, Length: 6362620, dtype: object"
            ]
          },
          "metadata": {},
          "execution_count": 39
        }
      ]
    },
    {
      "cell_type": "code",
      "source": [
        "# Creating 'dest_type' column\n",
        "\n",
        "df1['dest_type'] = ['Merchant' if i[0]== 'M' else 'Costumer' for i in df1['nameDest']]\n",
        "\n",
        "df1['dest_type']"
      ],
      "metadata": {
        "colab": {
          "base_uri": "https://localhost:8080/"
        },
        "id": "bJ9n1DXFQdJb",
        "outputId": "389c4bc7-a722-4e52-aa06-a7769be764d1"
      },
      "id": "bJ9n1DXFQdJb",
      "execution_count": 40,
      "outputs": [
        {
          "output_type": "execute_result",
          "data": {
            "text/plain": [
              "0          Merchant\n",
              "1          Merchant\n",
              "2          Costumer\n",
              "3          Costumer\n",
              "4          Merchant\n",
              "             ...   \n",
              "6362615    Costumer\n",
              "6362616    Costumer\n",
              "6362617    Costumer\n",
              "6362618    Costumer\n",
              "6362619    Costumer\n",
              "Name: dest_type, Length: 6362620, dtype: object"
            ]
          },
          "metadata": {},
          "execution_count": 40
        }
      ]
    },
    {
      "cell_type": "markdown",
      "metadata": {
        "hidden": true,
        "id": "uNwAo1nTS2Dk"
      },
      "source": [
        "From  old/new balance Origin/Dest it is possible to create new category informing if it is zero or non-zero"
      ],
      "id": "uNwAo1nTS2Dk"
    },
    {
      "cell_type": "code",
      "source": [
        "# Creating 'oldbalanceOrg_status'\n",
        "\n",
        "df1['oldbalanceOrg_status'] = ['zero' if i==0 else 'non-zero' for i in df1['oldbalanceOrg']]\n",
        "\n",
        "df1['oldbalanceOrg_status']"
      ],
      "metadata": {
        "colab": {
          "base_uri": "https://localhost:8080/"
        },
        "id": "aHQn-H1nO08f",
        "outputId": "41b7fac1-c1d6-4b6a-a6e2-7ab44572c537"
      },
      "id": "aHQn-H1nO08f",
      "execution_count": 41,
      "outputs": [
        {
          "output_type": "execute_result",
          "data": {
            "text/plain": [
              "0          non-zero\n",
              "1          non-zero\n",
              "2          non-zero\n",
              "3          non-zero\n",
              "4          non-zero\n",
              "             ...   \n",
              "6362615    non-zero\n",
              "6362616    non-zero\n",
              "6362617    non-zero\n",
              "6362618    non-zero\n",
              "6362619    non-zero\n",
              "Name: oldbalanceOrg_status, Length: 6362620, dtype: object"
            ]
          },
          "metadata": {},
          "execution_count": 41
        }
      ]
    },
    {
      "cell_type": "code",
      "source": [
        "# Creating 'newbalanceOrig_status'\n",
        "\n",
        "df1['newbalanceOrig_status'] = ['zero' if i==0 else 'non-zero' for i in df1['newbalanceOrig']]\n",
        "\n",
        "df1['newbalanceOrig_status']"
      ],
      "metadata": {
        "colab": {
          "base_uri": "https://localhost:8080/"
        },
        "id": "--jKXHzQVbFg",
        "outputId": "7c75148c-b35e-46b4-fab0-5e6e0d156836"
      },
      "id": "--jKXHzQVbFg",
      "execution_count": 42,
      "outputs": [
        {
          "output_type": "execute_result",
          "data": {
            "text/plain": [
              "0          non-zero\n",
              "1          non-zero\n",
              "2              zero\n",
              "3              zero\n",
              "4          non-zero\n",
              "             ...   \n",
              "6362615        zero\n",
              "6362616        zero\n",
              "6362617        zero\n",
              "6362618        zero\n",
              "6362619        zero\n",
              "Name: newbalanceOrig_status, Length: 6362620, dtype: object"
            ]
          },
          "metadata": {},
          "execution_count": 42
        }
      ]
    },
    {
      "cell_type": "code",
      "source": [
        "# Creating 'oldbalanceDest_status'\n",
        "\n",
        "df1['oldbalanceDest_status'] = ['zero' if i==0 else 'non-zero' for i in df1['oldbalanceDest']]\n",
        "\n",
        "df1['oldbalanceDest_status']"
      ],
      "metadata": {
        "colab": {
          "base_uri": "https://localhost:8080/"
        },
        "id": "lBV5MRa3Vybq",
        "outputId": "018aac89-a8a3-4132-8235-64ca2bea23da"
      },
      "id": "lBV5MRa3Vybq",
      "execution_count": 43,
      "outputs": [
        {
          "output_type": "execute_result",
          "data": {
            "text/plain": [
              "0              zero\n",
              "1              zero\n",
              "2              zero\n",
              "3          non-zero\n",
              "4              zero\n",
              "             ...   \n",
              "6362615        zero\n",
              "6362616        zero\n",
              "6362617    non-zero\n",
              "6362618        zero\n",
              "6362619    non-zero\n",
              "Name: oldbalanceDest_status, Length: 6362620, dtype: object"
            ]
          },
          "metadata": {},
          "execution_count": 43
        }
      ]
    },
    {
      "cell_type": "code",
      "source": [
        "# Creating 'newbalanceDest_status'\n",
        "\n",
        "df1['newbalanceDest_status'] = ['zero' if i==0 else 'non-zero' for i in df1['newbalanceDest']]\n",
        "\n",
        "df1['newbalanceDest_status']"
      ],
      "metadata": {
        "colab": {
          "base_uri": "https://localhost:8080/"
        },
        "id": "XqXHl7z1WIGg",
        "outputId": "de40d265-5356-4552-cfd8-4425210e12f1"
      },
      "id": "XqXHl7z1WIGg",
      "execution_count": 44,
      "outputs": [
        {
          "output_type": "execute_result",
          "data": {
            "text/plain": [
              "0              zero\n",
              "1              zero\n",
              "2              zero\n",
              "3              zero\n",
              "4              zero\n",
              "             ...   \n",
              "6362615    non-zero\n",
              "6362616        zero\n",
              "6362617    non-zero\n",
              "6362618        zero\n",
              "6362619    non-zero\n",
              "Name: newbalanceDest_status, Length: 6362620, dtype: object"
            ]
          },
          "metadata": {},
          "execution_count": 44
        }
      ]
    },
    {
      "cell_type": "markdown",
      "metadata": {
        "hidden": true,
        "id": "LeYw_gXXcV-d"
      },
      "source": [
        "Is the Origin name == Destination name in a particular transaction?"
      ],
      "id": "LeYw_gXXcV-d"
    },
    {
      "cell_type": "code",
      "source": [
        "# Creating the column 'is_orig_equal_dest'\n",
        "\n",
        "df1['is_orig_equal_dest'] = ['yes' if i==it else 'no' for i, it in zip(df1['nameOrig'], df1['nameDest'])]"
      ],
      "metadata": {
        "id": "uKhNpmNEfMhh"
      },
      "id": "uKhNpmNEfMhh",
      "execution_count": 45,
      "outputs": []
    },
    {
      "cell_type": "markdown",
      "metadata": {
        "hidden": true,
        "id": "yNoZO9Hlk8dX"
      },
      "source": [
        "Is the origin old balance higher than the new balance in a particular transaction?\n",
        "\n",
        "Is the destination old balance higher than the new balance in a particular transaction?"
      ],
      "id": "yNoZO9Hlk8dX"
    },
    {
      "cell_type": "code",
      "source": [
        "# Creating the column 'is_oldbalanceOrg_higherthan_newbalanceOrig'\n",
        "\n",
        "df1['is_oldbalanceOrg_higherthan_newbalanceOrig'] = ['yes'if i>it else 'no' for i, it in zip(df1['oldbalanceOrg'], df1['newbalanceOrig'])]"
      ],
      "metadata": {
        "id": "gUsGxlQmbnVj"
      },
      "id": "gUsGxlQmbnVj",
      "execution_count": 46,
      "outputs": []
    },
    {
      "cell_type": "code",
      "source": [
        "# Creating the column 'is_oldbalanceDest_higherthan_newbalanceDest'\n",
        "\n",
        "df1['is_oldbalanceDest_higherthan_newbalanceDest'] = ['yes'if i>it else 'no' for i, it in zip(df1['oldbalanceDest'], df1['newbalanceDest'])]"
      ],
      "metadata": {
        "id": "k-BNfXG2mw6L"
      },
      "id": "k-BNfXG2mw6L",
      "execution_count": 47,
      "outputs": []
    },
    {
      "cell_type": "markdown",
      "source": [
        "Transaction direction:\n",
        "\n",
        "C2M (Costumer to Merchant)<br>\n",
        "M2M (Merchant to Merchant)<br>\n",
        "C2C (Costumer to Custumer)<br>\n",
        "M2C (Merchant to Custumer)"
      ],
      "metadata": {
        "id": "40Zg8yr3nf8o"
      },
      "id": "40Zg8yr3nf8o"
    },
    {
      "cell_type": "code",
      "source": [
        "# Creating the column 'transaction_direction'\n",
        "\n",
        "df1['transaction_direction'] = [i[0]+'2'+it[0] for i, it in zip(df1['orig_type'], df1['dest_type'])]"
      ],
      "metadata": {
        "id": "5cp0fhADoMwQ"
      },
      "id": "5cp0fhADoMwQ",
      "execution_count": 48,
      "outputs": []
    },
    {
      "cell_type": "code",
      "source": [
        ""
      ],
      "metadata": {
        "id": "djdGmvURoM6T"
      },
      "id": "djdGmvURoM6T",
      "execution_count": 48,
      "outputs": []
    },
    {
      "cell_type": "code",
      "source": [
        "# Converting 'isFlaggedFraud' column to categorical (to further corr calculation)\n",
        "\n",
        "df1['isFlaggedFraud'] = ['no' if i==0 else 'yes' for i in df1['isFlaggedFraud']]"
      ],
      "metadata": {
        "id": "rKRns8TVO1Cs"
      },
      "id": "rKRns8TVO1Cs",
      "execution_count": 49,
      "outputs": []
    },
    {
      "cell_type": "code",
      "source": [
        "# Droping aux column 'min_step_of_day'\n",
        "\n",
        "df1 = df1.drop(columns=['min_step_of_day', 'min_day_of_week'])"
      ],
      "metadata": {
        "id": "E-57Be_uR8dz"
      },
      "id": "E-57Be_uR8dz",
      "execution_count": 50,
      "outputs": []
    },
    {
      "cell_type": "code",
      "source": [
        "# Converting 'hour_of_day' and 'day_of_week' columns to int\n",
        "\n",
        "df1[['hour_of_day','day_of_week']] = df1[['hour_of_day','day_of_week']].astype(int)"
      ],
      "metadata": {
        "id": "McN1mtshB-At"
      },
      "id": "McN1mtshB-At",
      "execution_count": 51,
      "outputs": []
    },
    {
      "cell_type": "code",
      "execution_count": 52,
      "id": "977bba0f",
      "metadata": {
        "ExecuteTime": {
          "end_time": "2022-01-19T23:16:33.511692Z",
          "start_time": "2022-01-19T23:16:32.125352Z"
        },
        "hidden": true,
        "scrolled": true,
        "colab": {
          "base_uri": "https://localhost:8080/",
          "height": 0
        },
        "id": "977bba0f",
        "outputId": "f29607e2-0e3a-4b3b-f3b4-c14397381f81"
      },
      "outputs": [
        {
          "output_type": "execute_result",
          "data": {
            "text/html": [
              "\n",
              "  <div id=\"df-59f9ca05-7ee1-431e-9718-73bbc731a4d7\">\n",
              "    <div class=\"colab-df-container\">\n",
              "      <div>\n",
              "<style scoped>\n",
              "    .dataframe tbody tr th:only-of-type {\n",
              "        vertical-align: middle;\n",
              "    }\n",
              "\n",
              "    .dataframe tbody tr th {\n",
              "        vertical-align: top;\n",
              "    }\n",
              "\n",
              "    .dataframe thead th {\n",
              "        text-align: right;\n",
              "    }\n",
              "</style>\n",
              "<table border=\"1\" class=\"dataframe\">\n",
              "  <thead>\n",
              "    <tr style=\"text-align: right;\">\n",
              "      <th></th>\n",
              "      <th>step</th>\n",
              "      <th>type</th>\n",
              "      <th>amount</th>\n",
              "      <th>nameOrig</th>\n",
              "      <th>oldbalanceOrg</th>\n",
              "      <th>newbalanceOrig</th>\n",
              "      <th>nameDest</th>\n",
              "      <th>oldbalanceDest</th>\n",
              "      <th>newbalanceDest</th>\n",
              "      <th>isFraud</th>\n",
              "      <th>isFlaggedFraud</th>\n",
              "      <th>day_of_month</th>\n",
              "      <th>week_of_month</th>\n",
              "      <th>hour_of_day</th>\n",
              "      <th>day_of_week</th>\n",
              "      <th>is_weekend</th>\n",
              "      <th>time_of_day</th>\n",
              "      <th>period_of_day</th>\n",
              "      <th>orig_type</th>\n",
              "      <th>dest_type</th>\n",
              "      <th>oldbalanceOrg_status</th>\n",
              "      <th>newbalanceOrig_status</th>\n",
              "      <th>oldbalanceDest_status</th>\n",
              "      <th>newbalanceDest_status</th>\n",
              "      <th>is_orig_equal_dest</th>\n",
              "      <th>is_oldbalanceOrg_higherthan_newbalanceOrig</th>\n",
              "      <th>is_oldbalanceDest_higherthan_newbalanceDest</th>\n",
              "      <th>transaction_direction</th>\n",
              "    </tr>\n",
              "  </thead>\n",
              "  <tbody>\n",
              "    <tr>\n",
              "      <th>0</th>\n",
              "      <td>1</td>\n",
              "      <td>PAYMENT</td>\n",
              "      <td>9839.64</td>\n",
              "      <td>C1231006815</td>\n",
              "      <td>170136.00</td>\n",
              "      <td>160296.36</td>\n",
              "      <td>M1979787155</td>\n",
              "      <td>0.00</td>\n",
              "      <td>0.00</td>\n",
              "      <td>0</td>\n",
              "      <td>no</td>\n",
              "      <td>1</td>\n",
              "      <td>1</td>\n",
              "      <td>0</td>\n",
              "      <td>1</td>\n",
              "      <td>weekend</td>\n",
              "      <td>AM</td>\n",
              "      <td>Morning</td>\n",
              "      <td>Costumer</td>\n",
              "      <td>Merchant</td>\n",
              "      <td>non-zero</td>\n",
              "      <td>non-zero</td>\n",
              "      <td>zero</td>\n",
              "      <td>zero</td>\n",
              "      <td>no</td>\n",
              "      <td>yes</td>\n",
              "      <td>no</td>\n",
              "      <td>C2M</td>\n",
              "    </tr>\n",
              "    <tr>\n",
              "      <th>1</th>\n",
              "      <td>1</td>\n",
              "      <td>PAYMENT</td>\n",
              "      <td>1864.28</td>\n",
              "      <td>C1666544295</td>\n",
              "      <td>21249.00</td>\n",
              "      <td>19384.72</td>\n",
              "      <td>M2044282225</td>\n",
              "      <td>0.00</td>\n",
              "      <td>0.00</td>\n",
              "      <td>0</td>\n",
              "      <td>no</td>\n",
              "      <td>1</td>\n",
              "      <td>1</td>\n",
              "      <td>0</td>\n",
              "      <td>1</td>\n",
              "      <td>weekend</td>\n",
              "      <td>AM</td>\n",
              "      <td>Morning</td>\n",
              "      <td>Costumer</td>\n",
              "      <td>Merchant</td>\n",
              "      <td>non-zero</td>\n",
              "      <td>non-zero</td>\n",
              "      <td>zero</td>\n",
              "      <td>zero</td>\n",
              "      <td>no</td>\n",
              "      <td>yes</td>\n",
              "      <td>no</td>\n",
              "      <td>C2M</td>\n",
              "    </tr>\n",
              "    <tr>\n",
              "      <th>2</th>\n",
              "      <td>1</td>\n",
              "      <td>TRANSFER</td>\n",
              "      <td>181.00</td>\n",
              "      <td>C1305486145</td>\n",
              "      <td>181.00</td>\n",
              "      <td>0.00</td>\n",
              "      <td>C553264065</td>\n",
              "      <td>0.00</td>\n",
              "      <td>0.00</td>\n",
              "      <td>1</td>\n",
              "      <td>no</td>\n",
              "      <td>1</td>\n",
              "      <td>1</td>\n",
              "      <td>0</td>\n",
              "      <td>1</td>\n",
              "      <td>weekend</td>\n",
              "      <td>AM</td>\n",
              "      <td>Morning</td>\n",
              "      <td>Costumer</td>\n",
              "      <td>Costumer</td>\n",
              "      <td>non-zero</td>\n",
              "      <td>zero</td>\n",
              "      <td>zero</td>\n",
              "      <td>zero</td>\n",
              "      <td>no</td>\n",
              "      <td>yes</td>\n",
              "      <td>no</td>\n",
              "      <td>C2C</td>\n",
              "    </tr>\n",
              "    <tr>\n",
              "      <th>3</th>\n",
              "      <td>1</td>\n",
              "      <td>CASH_OUT</td>\n",
              "      <td>181.00</td>\n",
              "      <td>C840083671</td>\n",
              "      <td>181.00</td>\n",
              "      <td>0.00</td>\n",
              "      <td>C38997010</td>\n",
              "      <td>21182.00</td>\n",
              "      <td>0.00</td>\n",
              "      <td>1</td>\n",
              "      <td>no</td>\n",
              "      <td>1</td>\n",
              "      <td>1</td>\n",
              "      <td>0</td>\n",
              "      <td>1</td>\n",
              "      <td>weekend</td>\n",
              "      <td>AM</td>\n",
              "      <td>Morning</td>\n",
              "      <td>Costumer</td>\n",
              "      <td>Costumer</td>\n",
              "      <td>non-zero</td>\n",
              "      <td>zero</td>\n",
              "      <td>non-zero</td>\n",
              "      <td>zero</td>\n",
              "      <td>no</td>\n",
              "      <td>yes</td>\n",
              "      <td>yes</td>\n",
              "      <td>C2C</td>\n",
              "    </tr>\n",
              "    <tr>\n",
              "      <th>4</th>\n",
              "      <td>1</td>\n",
              "      <td>PAYMENT</td>\n",
              "      <td>11668.14</td>\n",
              "      <td>C2048537720</td>\n",
              "      <td>41554.00</td>\n",
              "      <td>29885.86</td>\n",
              "      <td>M1230701703</td>\n",
              "      <td>0.00</td>\n",
              "      <td>0.00</td>\n",
              "      <td>0</td>\n",
              "      <td>no</td>\n",
              "      <td>1</td>\n",
              "      <td>1</td>\n",
              "      <td>0</td>\n",
              "      <td>1</td>\n",
              "      <td>weekend</td>\n",
              "      <td>AM</td>\n",
              "      <td>Morning</td>\n",
              "      <td>Costumer</td>\n",
              "      <td>Merchant</td>\n",
              "      <td>non-zero</td>\n",
              "      <td>non-zero</td>\n",
              "      <td>zero</td>\n",
              "      <td>zero</td>\n",
              "      <td>no</td>\n",
              "      <td>yes</td>\n",
              "      <td>no</td>\n",
              "      <td>C2M</td>\n",
              "    </tr>\n",
              "    <tr>\n",
              "      <th>...</th>\n",
              "      <td>...</td>\n",
              "      <td>...</td>\n",
              "      <td>...</td>\n",
              "      <td>...</td>\n",
              "      <td>...</td>\n",
              "      <td>...</td>\n",
              "      <td>...</td>\n",
              "      <td>...</td>\n",
              "      <td>...</td>\n",
              "      <td>...</td>\n",
              "      <td>...</td>\n",
              "      <td>...</td>\n",
              "      <td>...</td>\n",
              "      <td>...</td>\n",
              "      <td>...</td>\n",
              "      <td>...</td>\n",
              "      <td>...</td>\n",
              "      <td>...</td>\n",
              "      <td>...</td>\n",
              "      <td>...</td>\n",
              "      <td>...</td>\n",
              "      <td>...</td>\n",
              "      <td>...</td>\n",
              "      <td>...</td>\n",
              "      <td>...</td>\n",
              "      <td>...</td>\n",
              "      <td>...</td>\n",
              "      <td>...</td>\n",
              "    </tr>\n",
              "    <tr>\n",
              "      <th>6362615</th>\n",
              "      <td>743</td>\n",
              "      <td>CASH_OUT</td>\n",
              "      <td>339682.13</td>\n",
              "      <td>C786484425</td>\n",
              "      <td>339682.13</td>\n",
              "      <td>0.00</td>\n",
              "      <td>C776919290</td>\n",
              "      <td>0.00</td>\n",
              "      <td>339682.13</td>\n",
              "      <td>1</td>\n",
              "      <td>no</td>\n",
              "      <td>31</td>\n",
              "      <td>5</td>\n",
              "      <td>22</td>\n",
              "      <td>3</td>\n",
              "      <td>weekdays</td>\n",
              "      <td>PM</td>\n",
              "      <td>Evening</td>\n",
              "      <td>Costumer</td>\n",
              "      <td>Costumer</td>\n",
              "      <td>non-zero</td>\n",
              "      <td>zero</td>\n",
              "      <td>zero</td>\n",
              "      <td>non-zero</td>\n",
              "      <td>no</td>\n",
              "      <td>yes</td>\n",
              "      <td>no</td>\n",
              "      <td>C2C</td>\n",
              "    </tr>\n",
              "    <tr>\n",
              "      <th>6362616</th>\n",
              "      <td>743</td>\n",
              "      <td>TRANSFER</td>\n",
              "      <td>6311409.28</td>\n",
              "      <td>C1529008245</td>\n",
              "      <td>6311409.28</td>\n",
              "      <td>0.00</td>\n",
              "      <td>C1881841831</td>\n",
              "      <td>0.00</td>\n",
              "      <td>0.00</td>\n",
              "      <td>1</td>\n",
              "      <td>no</td>\n",
              "      <td>31</td>\n",
              "      <td>5</td>\n",
              "      <td>22</td>\n",
              "      <td>3</td>\n",
              "      <td>weekdays</td>\n",
              "      <td>PM</td>\n",
              "      <td>Evening</td>\n",
              "      <td>Costumer</td>\n",
              "      <td>Costumer</td>\n",
              "      <td>non-zero</td>\n",
              "      <td>zero</td>\n",
              "      <td>zero</td>\n",
              "      <td>zero</td>\n",
              "      <td>no</td>\n",
              "      <td>yes</td>\n",
              "      <td>no</td>\n",
              "      <td>C2C</td>\n",
              "    </tr>\n",
              "    <tr>\n",
              "      <th>6362617</th>\n",
              "      <td>743</td>\n",
              "      <td>CASH_OUT</td>\n",
              "      <td>6311409.28</td>\n",
              "      <td>C1162922333</td>\n",
              "      <td>6311409.28</td>\n",
              "      <td>0.00</td>\n",
              "      <td>C1365125890</td>\n",
              "      <td>68488.84</td>\n",
              "      <td>6379898.11</td>\n",
              "      <td>1</td>\n",
              "      <td>no</td>\n",
              "      <td>31</td>\n",
              "      <td>5</td>\n",
              "      <td>22</td>\n",
              "      <td>3</td>\n",
              "      <td>weekdays</td>\n",
              "      <td>PM</td>\n",
              "      <td>Evening</td>\n",
              "      <td>Costumer</td>\n",
              "      <td>Costumer</td>\n",
              "      <td>non-zero</td>\n",
              "      <td>zero</td>\n",
              "      <td>non-zero</td>\n",
              "      <td>non-zero</td>\n",
              "      <td>no</td>\n",
              "      <td>yes</td>\n",
              "      <td>no</td>\n",
              "      <td>C2C</td>\n",
              "    </tr>\n",
              "    <tr>\n",
              "      <th>6362618</th>\n",
              "      <td>743</td>\n",
              "      <td>TRANSFER</td>\n",
              "      <td>850002.52</td>\n",
              "      <td>C1685995037</td>\n",
              "      <td>850002.52</td>\n",
              "      <td>0.00</td>\n",
              "      <td>C2080388513</td>\n",
              "      <td>0.00</td>\n",
              "      <td>0.00</td>\n",
              "      <td>1</td>\n",
              "      <td>no</td>\n",
              "      <td>31</td>\n",
              "      <td>5</td>\n",
              "      <td>22</td>\n",
              "      <td>3</td>\n",
              "      <td>weekdays</td>\n",
              "      <td>PM</td>\n",
              "      <td>Evening</td>\n",
              "      <td>Costumer</td>\n",
              "      <td>Costumer</td>\n",
              "      <td>non-zero</td>\n",
              "      <td>zero</td>\n",
              "      <td>zero</td>\n",
              "      <td>zero</td>\n",
              "      <td>no</td>\n",
              "      <td>yes</td>\n",
              "      <td>no</td>\n",
              "      <td>C2C</td>\n",
              "    </tr>\n",
              "    <tr>\n",
              "      <th>6362619</th>\n",
              "      <td>743</td>\n",
              "      <td>CASH_OUT</td>\n",
              "      <td>850002.52</td>\n",
              "      <td>C1280323807</td>\n",
              "      <td>850002.52</td>\n",
              "      <td>0.00</td>\n",
              "      <td>C873221189</td>\n",
              "      <td>6510099.11</td>\n",
              "      <td>7360101.63</td>\n",
              "      <td>1</td>\n",
              "      <td>no</td>\n",
              "      <td>31</td>\n",
              "      <td>5</td>\n",
              "      <td>22</td>\n",
              "      <td>3</td>\n",
              "      <td>weekdays</td>\n",
              "      <td>PM</td>\n",
              "      <td>Evening</td>\n",
              "      <td>Costumer</td>\n",
              "      <td>Costumer</td>\n",
              "      <td>non-zero</td>\n",
              "      <td>zero</td>\n",
              "      <td>non-zero</td>\n",
              "      <td>non-zero</td>\n",
              "      <td>no</td>\n",
              "      <td>yes</td>\n",
              "      <td>no</td>\n",
              "      <td>C2C</td>\n",
              "    </tr>\n",
              "  </tbody>\n",
              "</table>\n",
              "<p>6362620 rows × 28 columns</p>\n",
              "</div>\n",
              "      <button class=\"colab-df-convert\" onclick=\"convertToInteractive('df-59f9ca05-7ee1-431e-9718-73bbc731a4d7')\"\n",
              "              title=\"Convert this dataframe to an interactive table.\"\n",
              "              style=\"display:none;\">\n",
              "        \n",
              "  <svg xmlns=\"http://www.w3.org/2000/svg\" height=\"24px\"viewBox=\"0 0 24 24\"\n",
              "       width=\"24px\">\n",
              "    <path d=\"M0 0h24v24H0V0z\" fill=\"none\"/>\n",
              "    <path d=\"M18.56 5.44l.94 2.06.94-2.06 2.06-.94-2.06-.94-.94-2.06-.94 2.06-2.06.94zm-11 1L8.5 8.5l.94-2.06 2.06-.94-2.06-.94L8.5 2.5l-.94 2.06-2.06.94zm10 10l.94 2.06.94-2.06 2.06-.94-2.06-.94-.94-2.06-.94 2.06-2.06.94z\"/><path d=\"M17.41 7.96l-1.37-1.37c-.4-.4-.92-.59-1.43-.59-.52 0-1.04.2-1.43.59L10.3 9.45l-7.72 7.72c-.78.78-.78 2.05 0 2.83L4 21.41c.39.39.9.59 1.41.59.51 0 1.02-.2 1.41-.59l7.78-7.78 2.81-2.81c.8-.78.8-2.07 0-2.86zM5.41 20L4 18.59l7.72-7.72 1.47 1.35L5.41 20z\"/>\n",
              "  </svg>\n",
              "      </button>\n",
              "      \n",
              "  <style>\n",
              "    .colab-df-container {\n",
              "      display:flex;\n",
              "      flex-wrap:wrap;\n",
              "      gap: 12px;\n",
              "    }\n",
              "\n",
              "    .colab-df-convert {\n",
              "      background-color: #E8F0FE;\n",
              "      border: none;\n",
              "      border-radius: 50%;\n",
              "      cursor: pointer;\n",
              "      display: none;\n",
              "      fill: #1967D2;\n",
              "      height: 32px;\n",
              "      padding: 0 0 0 0;\n",
              "      width: 32px;\n",
              "    }\n",
              "\n",
              "    .colab-df-convert:hover {\n",
              "      background-color: #E2EBFA;\n",
              "      box-shadow: 0px 1px 2px rgba(60, 64, 67, 0.3), 0px 1px 3px 1px rgba(60, 64, 67, 0.15);\n",
              "      fill: #174EA6;\n",
              "    }\n",
              "\n",
              "    [theme=dark] .colab-df-convert {\n",
              "      background-color: #3B4455;\n",
              "      fill: #D2E3FC;\n",
              "    }\n",
              "\n",
              "    [theme=dark] .colab-df-convert:hover {\n",
              "      background-color: #434B5C;\n",
              "      box-shadow: 0px 1px 3px 1px rgba(0, 0, 0, 0.15);\n",
              "      filter: drop-shadow(0px 1px 2px rgba(0, 0, 0, 0.3));\n",
              "      fill: #FFFFFF;\n",
              "    }\n",
              "  </style>\n",
              "\n",
              "      <script>\n",
              "        const buttonEl =\n",
              "          document.querySelector('#df-59f9ca05-7ee1-431e-9718-73bbc731a4d7 button.colab-df-convert');\n",
              "        buttonEl.style.display =\n",
              "          google.colab.kernel.accessAllowed ? 'block' : 'none';\n",
              "\n",
              "        async function convertToInteractive(key) {\n",
              "          const element = document.querySelector('#df-59f9ca05-7ee1-431e-9718-73bbc731a4d7');\n",
              "          const dataTable =\n",
              "            await google.colab.kernel.invokeFunction('convertToInteractive',\n",
              "                                                     [key], {});\n",
              "          if (!dataTable) return;\n",
              "\n",
              "          const docLinkHtml = 'Like what you see? Visit the ' +\n",
              "            '<a target=\"_blank\" href=https://colab.research.google.com/notebooks/data_table.ipynb>data table notebook</a>'\n",
              "            + ' to learn more about interactive tables.';\n",
              "          element.innerHTML = '';\n",
              "          dataTable['output_type'] = 'display_data';\n",
              "          await google.colab.output.renderOutput(dataTable, element);\n",
              "          const docLink = document.createElement('div');\n",
              "          docLink.innerHTML = docLinkHtml;\n",
              "          element.appendChild(docLink);\n",
              "        }\n",
              "      </script>\n",
              "    </div>\n",
              "  </div>\n",
              "  "
            ],
            "text/plain": [
              "         step      type      amount     nameOrig  oldbalanceOrg  \\\n",
              "0           1   PAYMENT     9839.64  C1231006815      170136.00   \n",
              "1           1   PAYMENT     1864.28  C1666544295       21249.00   \n",
              "2           1  TRANSFER      181.00  C1305486145         181.00   \n",
              "3           1  CASH_OUT      181.00   C840083671         181.00   \n",
              "4           1   PAYMENT    11668.14  C2048537720       41554.00   \n",
              "...       ...       ...         ...          ...            ...   \n",
              "6362615   743  CASH_OUT   339682.13   C786484425      339682.13   \n",
              "6362616   743  TRANSFER  6311409.28  C1529008245     6311409.28   \n",
              "6362617   743  CASH_OUT  6311409.28  C1162922333     6311409.28   \n",
              "6362618   743  TRANSFER   850002.52  C1685995037      850002.52   \n",
              "6362619   743  CASH_OUT   850002.52  C1280323807      850002.52   \n",
              "\n",
              "         newbalanceOrig     nameDest  oldbalanceDest  newbalanceDest  isFraud  \\\n",
              "0             160296.36  M1979787155            0.00            0.00        0   \n",
              "1              19384.72  M2044282225            0.00            0.00        0   \n",
              "2                  0.00   C553264065            0.00            0.00        1   \n",
              "3                  0.00    C38997010        21182.00            0.00        1   \n",
              "4              29885.86  M1230701703            0.00            0.00        0   \n",
              "...                 ...          ...             ...             ...      ...   \n",
              "6362615            0.00   C776919290            0.00       339682.13        1   \n",
              "6362616            0.00  C1881841831            0.00            0.00        1   \n",
              "6362617            0.00  C1365125890        68488.84      6379898.11        1   \n",
              "6362618            0.00  C2080388513            0.00            0.00        1   \n",
              "6362619            0.00   C873221189      6510099.11      7360101.63        1   \n",
              "\n",
              "        isFlaggedFraud  day_of_month  week_of_month  hour_of_day  day_of_week  \\\n",
              "0                   no             1              1            0            1   \n",
              "1                   no             1              1            0            1   \n",
              "2                   no             1              1            0            1   \n",
              "3                   no             1              1            0            1   \n",
              "4                   no             1              1            0            1   \n",
              "...                ...           ...            ...          ...          ...   \n",
              "6362615             no            31              5           22            3   \n",
              "6362616             no            31              5           22            3   \n",
              "6362617             no            31              5           22            3   \n",
              "6362618             no            31              5           22            3   \n",
              "6362619             no            31              5           22            3   \n",
              "\n",
              "        is_weekend time_of_day period_of_day orig_type dest_type  \\\n",
              "0          weekend          AM       Morning  Costumer  Merchant   \n",
              "1          weekend          AM       Morning  Costumer  Merchant   \n",
              "2          weekend          AM       Morning  Costumer  Costumer   \n",
              "3          weekend          AM       Morning  Costumer  Costumer   \n",
              "4          weekend          AM       Morning  Costumer  Merchant   \n",
              "...            ...         ...           ...       ...       ...   \n",
              "6362615   weekdays          PM       Evening  Costumer  Costumer   \n",
              "6362616   weekdays          PM       Evening  Costumer  Costumer   \n",
              "6362617   weekdays          PM       Evening  Costumer  Costumer   \n",
              "6362618   weekdays          PM       Evening  Costumer  Costumer   \n",
              "6362619   weekdays          PM       Evening  Costumer  Costumer   \n",
              "\n",
              "        oldbalanceOrg_status newbalanceOrig_status oldbalanceDest_status  \\\n",
              "0                   non-zero              non-zero                  zero   \n",
              "1                   non-zero              non-zero                  zero   \n",
              "2                   non-zero                  zero                  zero   \n",
              "3                   non-zero                  zero              non-zero   \n",
              "4                   non-zero              non-zero                  zero   \n",
              "...                      ...                   ...                   ...   \n",
              "6362615             non-zero                  zero                  zero   \n",
              "6362616             non-zero                  zero                  zero   \n",
              "6362617             non-zero                  zero              non-zero   \n",
              "6362618             non-zero                  zero                  zero   \n",
              "6362619             non-zero                  zero              non-zero   \n",
              "\n",
              "        newbalanceDest_status is_orig_equal_dest  \\\n",
              "0                        zero                 no   \n",
              "1                        zero                 no   \n",
              "2                        zero                 no   \n",
              "3                        zero                 no   \n",
              "4                        zero                 no   \n",
              "...                       ...                ...   \n",
              "6362615              non-zero                 no   \n",
              "6362616                  zero                 no   \n",
              "6362617              non-zero                 no   \n",
              "6362618                  zero                 no   \n",
              "6362619              non-zero                 no   \n",
              "\n",
              "        is_oldbalanceOrg_higherthan_newbalanceOrig  \\\n",
              "0                                              yes   \n",
              "1                                              yes   \n",
              "2                                              yes   \n",
              "3                                              yes   \n",
              "4                                              yes   \n",
              "...                                            ...   \n",
              "6362615                                        yes   \n",
              "6362616                                        yes   \n",
              "6362617                                        yes   \n",
              "6362618                                        yes   \n",
              "6362619                                        yes   \n",
              "\n",
              "        is_oldbalanceDest_higherthan_newbalanceDest transaction_direction  \n",
              "0                                                no                   C2M  \n",
              "1                                                no                   C2M  \n",
              "2                                                no                   C2C  \n",
              "3                                               yes                   C2C  \n",
              "4                                                no                   C2M  \n",
              "...                                             ...                   ...  \n",
              "6362615                                          no                   C2C  \n",
              "6362616                                          no                   C2C  \n",
              "6362617                                          no                   C2C  \n",
              "6362618                                          no                   C2C  \n",
              "6362619                                          no                   C2C  \n",
              "\n",
              "[6362620 rows x 28 columns]"
            ]
          },
          "metadata": {},
          "execution_count": 52
        }
      ],
      "source": [
        "df1"
      ]
    },
    {
      "cell_type": "markdown",
      "id": "f887bc86",
      "metadata": {
        "heading_collapsed": true,
        "hidden": true,
        "id": "f887bc86"
      },
      "source": [
        "## 2.2 hypothesis to be validated"
      ]
    },
    {
      "cell_type": "markdown",
      "source": [
        "<figure>\n",
        "<center>\n",
        "<img src='https://embed.coggle.it/diagram/YesV621o8DMzBjmW/608a61dd309b8915ec8ebf2b52979c05b4f67030ee825e0792d7527faaa68809' />\n",
        "<figcaption>Image Caption</figcaption></center>\n",
        "</figure>\n",
        "\n",
        "\n"
      ],
      "metadata": {
        "id": "KdZrbGzbupPZ"
      },
      "id": "KdZrbGzbupPZ"
    },
    {
      "cell_type": "markdown",
      "source": [
        "Validating hipothesis raised:\n",
        "\n",
        "- <b>Transaction type:</b><br>\n",
        "  **1.** cash out and transfer are responsible for most of fraud transactions<br>\n",
        "  <br>\n",
        "- <b>Transaction time:</b><br>\n",
        "  **2.** fraud happens mostly AM<br>\n",
        "  **3.** fraud happens mostly in the morning<br>\n",
        "  **4.** fraud happens mostly during weekdays<br>\n",
        "  **5.** fraud transactions frequencies follow the trend of non-fraud transactions.<br>\n",
        "  <br>\n",
        "- <b>Transaction origin:</b><br>\n",
        "  **6.** most fraud transactions happen when origin old balance is non-zero<br>\n",
        "  **7.** most fraud transactions happen when origin new balance is zero<br>\n",
        "  <br>\n",
        "- <b>Transaction destination:</b><br>\n",
        "  **8.** most fraud transactions happen when destination new balance is non-zero<br>\n",
        "  **9.** most fraud happens for costumer as destination type<br>\n",
        "  <br>\n",
        "- <b>Transaction amount:</b><br>\n",
        "  **10.** the average 'amount' of fraud transactions is higher than non-fraud transactions<br>\n",
        "  <br>\n",
        "- <b>Transaction direction:</b><br>\n",
        "  **11.** most fraud transactions happen in C2C direction<br>\n",
        "  <br>\n",
        "- <b>Flagging:</b><br>\n",
        "  **12.** most of fraud transactions are not flagged"
      ],
      "metadata": {
        "id": "cVTVgzuWqhb5"
      },
      "id": "cVTVgzuWqhb5"
    },
    {
      "cell_type": "markdown",
      "source": [
        "# 3 - Data Filtering"
      ],
      "metadata": {
        "id": "-5EtM1EtyXR8"
      },
      "id": "-5EtM1EtyXR8"
    },
    {
      "cell_type": "markdown",
      "source": [
        "Columns 'orig_type' e 'is_orig_equal_dest' have constant values which is irrelevant for learning process. Let's remove them"
      ],
      "metadata": {
        "id": "RQvQz601zrCp"
      },
      "id": "RQvQz601zrCp"
    },
    {
      "cell_type": "code",
      "source": [
        "df1['orig_type'].unique()"
      ],
      "metadata": {
        "colab": {
          "base_uri": "https://localhost:8080/"
        },
        "id": "-xZ-taccjC_n",
        "outputId": "8faf413b-cbce-4a81-cca5-8e4b170b2d15"
      },
      "execution_count": 53,
      "outputs": [
        {
          "output_type": "execute_result",
          "data": {
            "text/plain": [
              "array(['Costumer'], dtype=object)"
            ]
          },
          "metadata": {},
          "execution_count": 53
        }
      ],
      "id": "-xZ-taccjC_n"
    },
    {
      "cell_type": "code",
      "source": [
        "df1['is_orig_equal_dest'].unique()"
      ],
      "metadata": {
        "colab": {
          "base_uri": "https://localhost:8080/"
        },
        "id": "PImEWSDSjDCV",
        "outputId": "5d3de4af-5e5d-491a-a832-d6c443306408"
      },
      "execution_count": 54,
      "outputs": [
        {
          "output_type": "execute_result",
          "data": {
            "text/plain": [
              "array(['no'], dtype=object)"
            ]
          },
          "metadata": {},
          "execution_count": 54
        }
      ],
      "id": "PImEWSDSjDCV"
    },
    {
      "cell_type": "code",
      "source": [
        "df1 = df1.drop(columns=['orig_type','is_orig_equal_dest'])"
      ],
      "metadata": {
        "id": "ZzwlpKCky9rj"
      },
      "id": "ZzwlpKCky9rj",
      "execution_count": 55,
      "outputs": []
    },
    {
      "cell_type": "markdown",
      "source": [
        "Column 'nameOrig' is particular individual-related encoded identifier and has a number of unique values almost the same as the entire dataset. Therefore the feature 'nameOrig' is non-informative for learning process. Let's remove it"
      ],
      "metadata": {
        "id": "s-IaAxtSbfNT"
      },
      "id": "s-IaAxtSbfNT"
    },
    {
      "cell_type": "code",
      "source": [
        "print('Unique values of \"nameOrig\" column: {}\\n'.format(len(df1['nameOrig'].unique())))\n",
        "\n",
        "print('Row number of the entire dataset: {}\\n'.format(df1.shape[0]))  \n",
        "\n",
        "print('Percentage: {}\\n'.format(len(df1['nameOrig'].unique())/df1.shape[0]))  \n"
      ],
      "metadata": {
        "colab": {
          "base_uri": "https://localhost:8080/"
        },
        "id": "eOPZ3PmKcnoJ",
        "outputId": "8a8e4e59-4611-4c2d-dc16-a9b1f657c28c"
      },
      "id": "eOPZ3PmKcnoJ",
      "execution_count": 56,
      "outputs": [
        {
          "output_type": "stream",
          "name": "stdout",
          "text": [
            "Unique values of \"nameOrig\" column: 6353307\n",
            "\n",
            "Row number of the entire dataset: 6362620\n",
            "\n",
            "Percentage: 0.9985362947967975\n",
            "\n"
          ]
        }
      ]
    },
    {
      "cell_type": "code",
      "source": [
        "# For fraud transactions the column 'nameOrig' has the same number of unique values as the entire\n",
        "## number of fraud transactions (each fraud transaction has a different victim)\n",
        "\n",
        "print('Feature: \"nameOrig\"\\n')\n",
        "\n",
        "print('Number of unique ID involded in Fraud transactions: {}\\n'.format(len(df.loc[df['isFraud']==1,'nameOrig'].unique())))\n",
        "\n",
        "print('Number of Fraud transactions: {}'.format(df[df['isFraud']==1].shape[0]))"
      ],
      "metadata": {
        "colab": {
          "base_uri": "https://localhost:8080/"
        },
        "id": "kdjtONZ3gaAC",
        "outputId": "56db4008-9ae9-40a0-f01c-6c158424d843"
      },
      "id": "kdjtONZ3gaAC",
      "execution_count": 57,
      "outputs": [
        {
          "output_type": "stream",
          "name": "stdout",
          "text": [
            "Feature: \"nameOrig\"\n",
            "\n",
            "Number of unique ID involded in Fraud transactions: 8213\n",
            "\n",
            "Number of Fraud transactions: 8213\n"
          ]
        }
      ]
    },
    {
      "cell_type": "code",
      "source": [
        "# Regarding 'nameDest' de percentage of unique values is 0.42 of the total dataset\n",
        "## meaning that the money recipient is involved in multiple transactions\n",
        "\n",
        "print('Unique values of \"nameDest\" column: {}\\n'.format(len(df1['nameDest'].unique())))\n",
        "\n",
        "print('Row number of the entire dataset: {}\\n'.format(df1.shape[0]))  \n",
        "\n",
        "print('Percentage: {}\\n'.format(len(df1['nameDest'].unique())/df1.shape[0]))  \n"
      ],
      "metadata": {
        "colab": {
          "base_uri": "https://localhost:8080/"
        },
        "id": "mD63eMZfeWwJ",
        "outputId": "6593a137-5144-4cb8-acc4-f40a63438ca8"
      },
      "id": "mD63eMZfeWwJ",
      "execution_count": 58,
      "outputs": [
        {
          "output_type": "stream",
          "name": "stdout",
          "text": [
            "Unique values of \"nameDest\" column: 2722362\n",
            "\n",
            "Row number of the entire dataset: 6362620\n",
            "\n",
            "Percentage: 0.4278680795018404\n",
            "\n"
          ]
        }
      ]
    },
    {
      "cell_type": "code",
      "source": [
        "# For fraud transactions the \"nameDest\" unique values has the same number as the frad transactions\n",
        "## meaning that the same fraud ID is rarely involved in more than one fraud transactions. \n",
        "\n",
        "print('Feature: \"nameDest\"\\n')\n",
        "\n",
        "print('Number of unique ID involded in Fraud transactions: {}\\n'.format(len(df.loc[df['isFraud']==1,'nameDest'].unique())))\n",
        "\n",
        "print('Number of Fraud transactions: {}'.format(df[df['isFraud']==1].shape[0]))"
      ],
      "metadata": {
        "colab": {
          "base_uri": "https://localhost:8080/"
        },
        "id": "ksYBMNnCitM3",
        "outputId": "01afc971-ed2a-4630-c736-429768fadfc7"
      },
      "id": "ksYBMNnCitM3",
      "execution_count": 59,
      "outputs": [
        {
          "output_type": "stream",
          "name": "stdout",
          "text": [
            "Feature: \"nameDest\"\n",
            "\n",
            "Number of unique ID involded in Fraud transactions: 8169\n",
            "\n",
            "Number of Fraud transactions: 8213\n"
          ]
        }
      ]
    },
    {
      "cell_type": "code",
      "source": [
        "# In the meantime \"nameDest\" unique values for non-Fraud transactions does not have the same lenght of the\n",
        "## entire number of non-Fraud transactions meaning that when there is no fraud there is the possibility\n",
        "## of the same recipient receive money throught different transactions.\n",
        "\n",
        "# Feature \"nameDest\" might carry important information and should not be removed\n",
        "\n",
        "print('Feature: \"nameDest\"\\n')\n",
        "\n",
        "print('Number of unique ID involded in non-Fraud transactions: {}\\n'.format(len(df.loc[df['isFraud']==0,'nameDest'].unique())))\n",
        "\n",
        "print('Number of non-Fraud transactions: {}'.format(df[df['isFraud']==0].shape[0]))"
      ],
      "metadata": {
        "colab": {
          "base_uri": "https://localhost:8080/"
        },
        "id": "8BnOW2-Tjwew",
        "outputId": "08e94e9a-86ac-4259-c3b5-384b704d9648"
      },
      "id": "8BnOW2-Tjwew",
      "execution_count": 60,
      "outputs": [
        {
          "output_type": "stream",
          "name": "stdout",
          "text": [
            "Feature: \"nameDest\"\n",
            "\n",
            "Number of unique ID involded in non-Fraud transactions: 2719685\n",
            "\n",
            "Number of non-Fraud transactions: 6354407\n"
          ]
        }
      ]
    },
    {
      "cell_type": "code",
      "source": [
        "df1 = df1.drop(columns=['nameOrig'])"
      ],
      "metadata": {
        "id": "obXWj8V9CpPG"
      },
      "id": "obXWj8V9CpPG",
      "execution_count": 61,
      "outputs": []
    },
    {
      "cell_type": "code",
      "source": [
        "df1.head()"
      ],
      "metadata": {
        "colab": {
          "base_uri": "https://localhost:8080/",
          "height": 0
        },
        "id": "oYGnO7ai0b_y",
        "outputId": "b3d07247-e6ef-44a9-9661-bc998bd4fa07"
      },
      "id": "oYGnO7ai0b_y",
      "execution_count": 62,
      "outputs": [
        {
          "output_type": "execute_result",
          "data": {
            "text/html": [
              "\n",
              "  <div id=\"df-e4dafc5c-fbca-4593-a62e-4709b800de8c\">\n",
              "    <div class=\"colab-df-container\">\n",
              "      <div>\n",
              "<style scoped>\n",
              "    .dataframe tbody tr th:only-of-type {\n",
              "        vertical-align: middle;\n",
              "    }\n",
              "\n",
              "    .dataframe tbody tr th {\n",
              "        vertical-align: top;\n",
              "    }\n",
              "\n",
              "    .dataframe thead th {\n",
              "        text-align: right;\n",
              "    }\n",
              "</style>\n",
              "<table border=\"1\" class=\"dataframe\">\n",
              "  <thead>\n",
              "    <tr style=\"text-align: right;\">\n",
              "      <th></th>\n",
              "      <th>step</th>\n",
              "      <th>type</th>\n",
              "      <th>amount</th>\n",
              "      <th>oldbalanceOrg</th>\n",
              "      <th>newbalanceOrig</th>\n",
              "      <th>nameDest</th>\n",
              "      <th>oldbalanceDest</th>\n",
              "      <th>newbalanceDest</th>\n",
              "      <th>isFraud</th>\n",
              "      <th>isFlaggedFraud</th>\n",
              "      <th>day_of_month</th>\n",
              "      <th>week_of_month</th>\n",
              "      <th>hour_of_day</th>\n",
              "      <th>day_of_week</th>\n",
              "      <th>is_weekend</th>\n",
              "      <th>time_of_day</th>\n",
              "      <th>period_of_day</th>\n",
              "      <th>dest_type</th>\n",
              "      <th>oldbalanceOrg_status</th>\n",
              "      <th>newbalanceOrig_status</th>\n",
              "      <th>oldbalanceDest_status</th>\n",
              "      <th>newbalanceDest_status</th>\n",
              "      <th>is_oldbalanceOrg_higherthan_newbalanceOrig</th>\n",
              "      <th>is_oldbalanceDest_higherthan_newbalanceDest</th>\n",
              "      <th>transaction_direction</th>\n",
              "    </tr>\n",
              "  </thead>\n",
              "  <tbody>\n",
              "    <tr>\n",
              "      <th>0</th>\n",
              "      <td>1</td>\n",
              "      <td>PAYMENT</td>\n",
              "      <td>9839.64</td>\n",
              "      <td>170136.0</td>\n",
              "      <td>160296.36</td>\n",
              "      <td>M1979787155</td>\n",
              "      <td>0.0</td>\n",
              "      <td>0.0</td>\n",
              "      <td>0</td>\n",
              "      <td>no</td>\n",
              "      <td>1</td>\n",
              "      <td>1</td>\n",
              "      <td>0</td>\n",
              "      <td>1</td>\n",
              "      <td>weekend</td>\n",
              "      <td>AM</td>\n",
              "      <td>Morning</td>\n",
              "      <td>Merchant</td>\n",
              "      <td>non-zero</td>\n",
              "      <td>non-zero</td>\n",
              "      <td>zero</td>\n",
              "      <td>zero</td>\n",
              "      <td>yes</td>\n",
              "      <td>no</td>\n",
              "      <td>C2M</td>\n",
              "    </tr>\n",
              "    <tr>\n",
              "      <th>1</th>\n",
              "      <td>1</td>\n",
              "      <td>PAYMENT</td>\n",
              "      <td>1864.28</td>\n",
              "      <td>21249.0</td>\n",
              "      <td>19384.72</td>\n",
              "      <td>M2044282225</td>\n",
              "      <td>0.0</td>\n",
              "      <td>0.0</td>\n",
              "      <td>0</td>\n",
              "      <td>no</td>\n",
              "      <td>1</td>\n",
              "      <td>1</td>\n",
              "      <td>0</td>\n",
              "      <td>1</td>\n",
              "      <td>weekend</td>\n",
              "      <td>AM</td>\n",
              "      <td>Morning</td>\n",
              "      <td>Merchant</td>\n",
              "      <td>non-zero</td>\n",
              "      <td>non-zero</td>\n",
              "      <td>zero</td>\n",
              "      <td>zero</td>\n",
              "      <td>yes</td>\n",
              "      <td>no</td>\n",
              "      <td>C2M</td>\n",
              "    </tr>\n",
              "    <tr>\n",
              "      <th>2</th>\n",
              "      <td>1</td>\n",
              "      <td>TRANSFER</td>\n",
              "      <td>181.00</td>\n",
              "      <td>181.0</td>\n",
              "      <td>0.00</td>\n",
              "      <td>C553264065</td>\n",
              "      <td>0.0</td>\n",
              "      <td>0.0</td>\n",
              "      <td>1</td>\n",
              "      <td>no</td>\n",
              "      <td>1</td>\n",
              "      <td>1</td>\n",
              "      <td>0</td>\n",
              "      <td>1</td>\n",
              "      <td>weekend</td>\n",
              "      <td>AM</td>\n",
              "      <td>Morning</td>\n",
              "      <td>Costumer</td>\n",
              "      <td>non-zero</td>\n",
              "      <td>zero</td>\n",
              "      <td>zero</td>\n",
              "      <td>zero</td>\n",
              "      <td>yes</td>\n",
              "      <td>no</td>\n",
              "      <td>C2C</td>\n",
              "    </tr>\n",
              "    <tr>\n",
              "      <th>3</th>\n",
              "      <td>1</td>\n",
              "      <td>CASH_OUT</td>\n",
              "      <td>181.00</td>\n",
              "      <td>181.0</td>\n",
              "      <td>0.00</td>\n",
              "      <td>C38997010</td>\n",
              "      <td>21182.0</td>\n",
              "      <td>0.0</td>\n",
              "      <td>1</td>\n",
              "      <td>no</td>\n",
              "      <td>1</td>\n",
              "      <td>1</td>\n",
              "      <td>0</td>\n",
              "      <td>1</td>\n",
              "      <td>weekend</td>\n",
              "      <td>AM</td>\n",
              "      <td>Morning</td>\n",
              "      <td>Costumer</td>\n",
              "      <td>non-zero</td>\n",
              "      <td>zero</td>\n",
              "      <td>non-zero</td>\n",
              "      <td>zero</td>\n",
              "      <td>yes</td>\n",
              "      <td>yes</td>\n",
              "      <td>C2C</td>\n",
              "    </tr>\n",
              "    <tr>\n",
              "      <th>4</th>\n",
              "      <td>1</td>\n",
              "      <td>PAYMENT</td>\n",
              "      <td>11668.14</td>\n",
              "      <td>41554.0</td>\n",
              "      <td>29885.86</td>\n",
              "      <td>M1230701703</td>\n",
              "      <td>0.0</td>\n",
              "      <td>0.0</td>\n",
              "      <td>0</td>\n",
              "      <td>no</td>\n",
              "      <td>1</td>\n",
              "      <td>1</td>\n",
              "      <td>0</td>\n",
              "      <td>1</td>\n",
              "      <td>weekend</td>\n",
              "      <td>AM</td>\n",
              "      <td>Morning</td>\n",
              "      <td>Merchant</td>\n",
              "      <td>non-zero</td>\n",
              "      <td>non-zero</td>\n",
              "      <td>zero</td>\n",
              "      <td>zero</td>\n",
              "      <td>yes</td>\n",
              "      <td>no</td>\n",
              "      <td>C2M</td>\n",
              "    </tr>\n",
              "  </tbody>\n",
              "</table>\n",
              "</div>\n",
              "      <button class=\"colab-df-convert\" onclick=\"convertToInteractive('df-e4dafc5c-fbca-4593-a62e-4709b800de8c')\"\n",
              "              title=\"Convert this dataframe to an interactive table.\"\n",
              "              style=\"display:none;\">\n",
              "        \n",
              "  <svg xmlns=\"http://www.w3.org/2000/svg\" height=\"24px\"viewBox=\"0 0 24 24\"\n",
              "       width=\"24px\">\n",
              "    <path d=\"M0 0h24v24H0V0z\" fill=\"none\"/>\n",
              "    <path d=\"M18.56 5.44l.94 2.06.94-2.06 2.06-.94-2.06-.94-.94-2.06-.94 2.06-2.06.94zm-11 1L8.5 8.5l.94-2.06 2.06-.94-2.06-.94L8.5 2.5l-.94 2.06-2.06.94zm10 10l.94 2.06.94-2.06 2.06-.94-2.06-.94-.94-2.06-.94 2.06-2.06.94z\"/><path d=\"M17.41 7.96l-1.37-1.37c-.4-.4-.92-.59-1.43-.59-.52 0-1.04.2-1.43.59L10.3 9.45l-7.72 7.72c-.78.78-.78 2.05 0 2.83L4 21.41c.39.39.9.59 1.41.59.51 0 1.02-.2 1.41-.59l7.78-7.78 2.81-2.81c.8-.78.8-2.07 0-2.86zM5.41 20L4 18.59l7.72-7.72 1.47 1.35L5.41 20z\"/>\n",
              "  </svg>\n",
              "      </button>\n",
              "      \n",
              "  <style>\n",
              "    .colab-df-container {\n",
              "      display:flex;\n",
              "      flex-wrap:wrap;\n",
              "      gap: 12px;\n",
              "    }\n",
              "\n",
              "    .colab-df-convert {\n",
              "      background-color: #E8F0FE;\n",
              "      border: none;\n",
              "      border-radius: 50%;\n",
              "      cursor: pointer;\n",
              "      display: none;\n",
              "      fill: #1967D2;\n",
              "      height: 32px;\n",
              "      padding: 0 0 0 0;\n",
              "      width: 32px;\n",
              "    }\n",
              "\n",
              "    .colab-df-convert:hover {\n",
              "      background-color: #E2EBFA;\n",
              "      box-shadow: 0px 1px 2px rgba(60, 64, 67, 0.3), 0px 1px 3px 1px rgba(60, 64, 67, 0.15);\n",
              "      fill: #174EA6;\n",
              "    }\n",
              "\n",
              "    [theme=dark] .colab-df-convert {\n",
              "      background-color: #3B4455;\n",
              "      fill: #D2E3FC;\n",
              "    }\n",
              "\n",
              "    [theme=dark] .colab-df-convert:hover {\n",
              "      background-color: #434B5C;\n",
              "      box-shadow: 0px 1px 3px 1px rgba(0, 0, 0, 0.15);\n",
              "      filter: drop-shadow(0px 1px 2px rgba(0, 0, 0, 0.3));\n",
              "      fill: #FFFFFF;\n",
              "    }\n",
              "  </style>\n",
              "\n",
              "      <script>\n",
              "        const buttonEl =\n",
              "          document.querySelector('#df-e4dafc5c-fbca-4593-a62e-4709b800de8c button.colab-df-convert');\n",
              "        buttonEl.style.display =\n",
              "          google.colab.kernel.accessAllowed ? 'block' : 'none';\n",
              "\n",
              "        async function convertToInteractive(key) {\n",
              "          const element = document.querySelector('#df-e4dafc5c-fbca-4593-a62e-4709b800de8c');\n",
              "          const dataTable =\n",
              "            await google.colab.kernel.invokeFunction('convertToInteractive',\n",
              "                                                     [key], {});\n",
              "          if (!dataTable) return;\n",
              "\n",
              "          const docLinkHtml = 'Like what you see? Visit the ' +\n",
              "            '<a target=\"_blank\" href=https://colab.research.google.com/notebooks/data_table.ipynb>data table notebook</a>'\n",
              "            + ' to learn more about interactive tables.';\n",
              "          element.innerHTML = '';\n",
              "          dataTable['output_type'] = 'display_data';\n",
              "          await google.colab.output.renderOutput(dataTable, element);\n",
              "          const docLink = document.createElement('div');\n",
              "          docLink.innerHTML = docLinkHtml;\n",
              "          element.appendChild(docLink);\n",
              "        }\n",
              "      </script>\n",
              "    </div>\n",
              "  </div>\n",
              "  "
            ],
            "text/plain": [
              "   step      type    amount  oldbalanceOrg  newbalanceOrig     nameDest  \\\n",
              "0     1   PAYMENT   9839.64       170136.0       160296.36  M1979787155   \n",
              "1     1   PAYMENT   1864.28        21249.0        19384.72  M2044282225   \n",
              "2     1  TRANSFER    181.00          181.0            0.00   C553264065   \n",
              "3     1  CASH_OUT    181.00          181.0            0.00    C38997010   \n",
              "4     1   PAYMENT  11668.14        41554.0        29885.86  M1230701703   \n",
              "\n",
              "   oldbalanceDest  newbalanceDest  isFraud isFlaggedFraud  day_of_month  \\\n",
              "0             0.0             0.0        0             no             1   \n",
              "1             0.0             0.0        0             no             1   \n",
              "2             0.0             0.0        1             no             1   \n",
              "3         21182.0             0.0        1             no             1   \n",
              "4             0.0             0.0        0             no             1   \n",
              "\n",
              "   week_of_month  hour_of_day  day_of_week is_weekend time_of_day  \\\n",
              "0              1            0            1    weekend          AM   \n",
              "1              1            0            1    weekend          AM   \n",
              "2              1            0            1    weekend          AM   \n",
              "3              1            0            1    weekend          AM   \n",
              "4              1            0            1    weekend          AM   \n",
              "\n",
              "  period_of_day dest_type oldbalanceOrg_status newbalanceOrig_status  \\\n",
              "0       Morning  Merchant             non-zero              non-zero   \n",
              "1       Morning  Merchant             non-zero              non-zero   \n",
              "2       Morning  Costumer             non-zero                  zero   \n",
              "3       Morning  Costumer             non-zero                  zero   \n",
              "4       Morning  Merchant             non-zero              non-zero   \n",
              "\n",
              "  oldbalanceDest_status newbalanceDest_status  \\\n",
              "0                  zero                  zero   \n",
              "1                  zero                  zero   \n",
              "2                  zero                  zero   \n",
              "3              non-zero                  zero   \n",
              "4                  zero                  zero   \n",
              "\n",
              "  is_oldbalanceOrg_higherthan_newbalanceOrig  \\\n",
              "0                                        yes   \n",
              "1                                        yes   \n",
              "2                                        yes   \n",
              "3                                        yes   \n",
              "4                                        yes   \n",
              "\n",
              "  is_oldbalanceDest_higherthan_newbalanceDest transaction_direction  \n",
              "0                                          no                   C2M  \n",
              "1                                          no                   C2M  \n",
              "2                                          no                   C2C  \n",
              "3                                         yes                   C2C  \n",
              "4                                          no                   C2M  "
            ]
          },
          "metadata": {},
          "execution_count": 62
        }
      ]
    },
    {
      "cell_type": "markdown",
      "metadata": {
        "heading_collapsed": true,
        "id": "L02Li3OexEiw"
      },
      "source": [
        "# 4 - Exploratory Data Analysis (EDA)"
      ],
      "id": "L02Li3OexEiw"
    },
    {
      "cell_type": "markdown",
      "source": [
        "## 4.1 Univariate Analysis"
      ],
      "metadata": {
        "id": "Ic7FuQ20RgZZ"
      },
      "id": "Ic7FuQ20RgZZ"
    },
    {
      "cell_type": "markdown",
      "source": [
        "### Response variable"
      ],
      "metadata": {
        "id": "cEmPBHby5syD"
      },
      "id": "cEmPBHby5syD"
    },
    {
      "cell_type": "code",
      "source": [
        "# Most of transactions is non-Fraud\n",
        "\n",
        "sns.countplot(df1['isFraud']);"
      ],
      "metadata": {
        "colab": {
          "base_uri": "https://localhost:8080/",
          "height": 290
        },
        "id": "cCpyrq9Y6N7U",
        "outputId": "6c471de5-3b30-4495-baf5-9536b6681d16"
      },
      "id": "cCpyrq9Y6N7U",
      "execution_count": 63,
      "outputs": [
        {
          "output_type": "display_data",
          "data": {
            "image/png": "[encoded data removed]",
            "text/plain": [
              "<Figure size 432x288 with 1 Axes>"
            ]
          },
          "metadata": {
            "needs_background": "light"
          }
        }
      ]
    },
    {
      "cell_type": "markdown",
      "source": [
        "### 4.1.1 Numerical attributes"
      ],
      "metadata": {
        "id": "xiwCYpyzxfOr"
      },
      "id": "xiwCYpyzxfOr"
    },
    {
      "cell_type": "code",
      "source": [
        "df1.select_dtypes(['float64', 'int64']).hist(figsize=(15,10), bins=50);\n",
        "plt.tight_layout()"
      ],
      "metadata": {
        "colab": {
          "base_uri": "https://localhost:8080/",
          "height": 643
        },
        "id": "4xYwbAAi22Iw",
        "outputId": "3e6b6509-94b1-4be5-ee93-0402e9588620"
      },
      "id": "4xYwbAAi22Iw",
      "execution_count": 64,
      "outputs": [
        {
          "output_type": "display_data",
          "data": {
            "image/png": "[encoded data removed]",
            "text/plain": [
              "<Figure size 1080x720 with 12 Axes>"
            ]
          },
          "metadata": {
            "needs_background": "light"
          }
        }
      ]
    },
    {
      "cell_type": "markdown",
      "source": [
        "### 4.1.2 Categorical attributes"
      ],
      "metadata": {
        "id": "veXoARn8xmCY"
      },
      "id": "veXoARn8xmCY"
    },
    {
      "cell_type": "code",
      "execution_count": 66,
      "id": "494354d1",
      "metadata": {
        "hidden": true,
        "id": "494354d1"
      },
      "outputs": [],
      "source": [
        "cat_attrib = df1.select_dtypes(exclude=['int64','float64'])\n",
        "\n",
        "cat_attrib = cat_attrib.drop(columns=['nameDest'])"
      ]
    },
    {
      "cell_type": "code",
      "source": [
        "# sets plot size\n",
        "plt.figure(figsize=(18, 10))\n",
        "\n",
        "# sets the inital plot position\n",
        "n = 1\n",
        "\n",
        "# iterates over the columns to plot\n",
        "for i in cat_attrib.columns:\n",
        "    plt.subplot(5, 3, n)\n",
        "    _ = sns.countplot(y=cat_attrib[i])\n",
        "    n += 1\n",
        "\n",
        "# adjust height and wdith reserved for space between subplots  \n",
        "plt.subplots_adjust(hspace=0.8)\n",
        "plt.subplots_adjust(wspace=0.3)\n",
        "\n",
        "# # display the plot\n",
        "plt.show()"
      ],
      "metadata": {
        "colab": {
          "base_uri": "https://localhost:8080/",
          "height": 0
        },
        "id": "Y-cikHMKN4eW",
        "outputId": "f055b0eb-4311-49e9-fe05-a95f1dbfa35b"
      },
      "id": "Y-cikHMKN4eW",
      "execution_count": 67,
      "outputs": [
        {
          "output_type": "display_data",
          "data": {
            "image/png": "[encoded data removed]",
            "text/plain": [
              "<Figure size 1296x720 with 13 Axes>"
            ]
          },
          "metadata": {
            "needs_background": "light"
          }
        }
      ]
    },
    {
      "cell_type": "markdown",
      "source": [
        "## 4.2 Bivariate analysis"
      ],
      "metadata": {
        "id": "3FAEvmG4xSSe"
      },
      "id": "3FAEvmG4xSSe"
    },
    {
      "cell_type": "markdown",
      "source": [
        "### 4.2.1 Validating hypothesis raised"
      ],
      "metadata": {
        "id": "wMnWE9X4UC6k"
      },
      "id": "wMnWE9X4UC6k"
    },
    {
      "cell_type": "markdown",
      "source": [
        "Validating hipothesis raised:\n",
        "\n",
        "- <b>Transaction type:</b><br>\n",
        "  **1.** cash out and transfer are responsible for most of fraud transactions<br>\n",
        "  <br>\n",
        "- <b>Transaction time:</b><br>\n",
        "  **2.** fraud happens mostly AM<br>\n",
        "  **3.** fraud happens mostly in the morning<br>\n",
        "  **4.** fraud happens mostly during weekdays<br>\n",
        "  **5.** fraud transactions frequencies follow the trend of non-fraud transactions.<br>\n",
        "  <br>\n",
        "- <b>Transaction origin:</b><br>\n",
        "  **6.** most fraud transactions happen when origin old balance is non-zero<br>\n",
        "  **7.** most fraud transactions happen when origin new balance is zero<br>\n",
        "  <br>\n",
        "- <b>Transaction destination:</b><br>\n",
        "  **8.** most fraud transactions happen when destination new balance is non-zero<br>\n",
        "  **9.** most fraud happens for costumer as destination type<br>\n",
        "  <br>\n",
        "- <b>Transaction amount:</b><br>\n",
        "  **10.** the average 'amount' of fraud transactions is higher than non-fraud transactions<br>\n",
        "  <br>\n",
        "- <b>Transaction direction:</b><br>\n",
        "  **11.** most fraud transactions happen in C2C direction<br>\n",
        "  <br>\n",
        "- <b>Flagging:</b><br>\n",
        "  **12.** most of fraud transactions are not flagged"
      ],
      "metadata": {
        "id": "n26WfSV_SJH_"
      },
      "id": "n26WfSV_SJH_"
    },
    {
      "cell_type": "code",
      "source": [
        ""
      ],
      "metadata": {
        "id": "eLwFXjziSqsD"
      },
      "id": "eLwFXjziSqsD",
      "execution_count": 67,
      "outputs": []
    },
    {
      "cell_type": "markdown",
      "source": [
        "\n",
        "- <b><font color=\"brown\">Transaction type:</font></b><br>\n",
        "  **1.** cash out and transfer are responsible for most of fraud transactions<br>\n",
        "  <b>ANSWER:</b> <i>for fraud transactions there are no 'PAYMENT', 'DEBIT', 'CASH_IN' transactions, just 'TRANSFER', 'CASH_OUT', which represents almost 50% each.</i>"
      ],
      "metadata": {
        "id": "Sq0slsc8Sjl5"
      },
      "id": "Sq0slsc8Sjl5"
    },
    {
      "cell_type": "code",
      "source": [
        "sns.countplot(df1.loc[df1['isFraud']==1,'type'])"
      ],
      "metadata": {
        "colab": {
          "base_uri": "https://localhost:8080/",
          "height": 0
        },
        "id": "_BbQNqcfRpEg",
        "outputId": "a2a563d5-08ec-46e1-cdb0-2bbab035f32f"
      },
      "id": "_BbQNqcfRpEg",
      "execution_count": 68,
      "outputs": [
        {
          "output_type": "execute_result",
          "data": {
            "text/plain": [
              "<matplotlib.axes._subplots.AxesSubplot at 0x7f4a79e99390>"
            ]
          },
          "metadata": {},
          "execution_count": 68
        },
        {
          "output_type": "display_data",
          "data": {
            "image/png": "[encoded data removed]",
            "text/plain": [
              "<Figure size 432x288 with 1 Axes>"
            ]
          },
          "metadata": {
            "needs_background": "light"
          }
        }
      ]
    },
    {
      "cell_type": "markdown",
      "source": [
        "\n",
        "- <b><font color=\"green\">Transaction time:</font></b><br>\n",
        "  **2.** fraud happens mostly AM<br>\n",
        "  <b>ANSWER:</b> <i>TRUE. Fraud transactions mostly happen AM.</i>"
      ],
      "metadata": {
        "id": "Yox8bAlEURWc"
      },
      "id": "Yox8bAlEURWc"
    },
    {
      "cell_type": "code",
      "source": [
        "sns.countplot(df1.loc[df1['isFraud']==1,'time_of_day'])"
      ],
      "metadata": {
        "colab": {
          "base_uri": "https://localhost:8080/",
          "height": 0
        },
        "id": "MQqcc4moUScl",
        "outputId": "ce302c88-f700-45f9-bb21-f938b163e1ff"
      },
      "id": "MQqcc4moUScl",
      "execution_count": 69,
      "outputs": [
        {
          "output_type": "execute_result",
          "data": {
            "text/plain": [
              "<matplotlib.axes._subplots.AxesSubplot at 0x7f4a79dab8d0>"
            ]
          },
          "metadata": {},
          "execution_count": 69
        },
        {
          "output_type": "display_data",
          "data": {
            "image/png": "[encoded data removed]",
            "text/plain": [
              "<Figure size 432x288 with 1 Axes>"
            ]
          },
          "metadata": {
            "needs_background": "light"
          }
        }
      ]
    },
    {
      "cell_type": "code",
      "source": [
        "# Non-fraud transactions, however, happen in the opposite direction\n",
        "\n",
        "sns.countplot(df1.loc[df1['isFraud']==0,'time_of_day'])"
      ],
      "metadata": {
        "colab": {
          "base_uri": "https://localhost:8080/",
          "height": 0
        },
        "id": "V_n-_t5qd8L7",
        "outputId": "040ed5f3-0259-496f-9249-dab88424671f"
      },
      "id": "V_n-_t5qd8L7",
      "execution_count": 70,
      "outputs": [
        {
          "output_type": "execute_result",
          "data": {
            "text/plain": [
              "<matplotlib.axes._subplots.AxesSubplot at 0x7f4a79d72d90>"
            ]
          },
          "metadata": {},
          "execution_count": 70
        },
        {
          "output_type": "display_data",
          "data": {
            "image/png": "[encoded data removed]",
            "text/plain": [
              "<Figure size 432x288 with 1 Axes>"
            ]
          },
          "metadata": {
            "needs_background": "light"
          }
        }
      ]
    },
    {
      "cell_type": "markdown",
      "source": [
        "\n",
        "- <b><font color=\"green\">Transaction time:</font></b><br>\n",
        "  **3.** fraud happens mostly in the morning<br>\n",
        "  <b>ANSWER:</b> <i>TRUE. Fraud transactions mostly happen in the morning.</i>"
      ],
      "metadata": {
        "id": "nHw7Z56ZUrIw"
      },
      "id": "nHw7Z56ZUrIw"
    },
    {
      "cell_type": "code",
      "source": [
        "sns.countplot(df1.loc[df1['isFraud']==1,'period_of_day'])"
      ],
      "metadata": {
        "colab": {
          "base_uri": "https://localhost:8080/",
          "height": 0
        },
        "id": "63ivAye9USfg",
        "outputId": "60ed0f8c-d920-4586-d307-2f11944a4c10"
      },
      "id": "63ivAye9USfg",
      "execution_count": 71,
      "outputs": [
        {
          "output_type": "execute_result",
          "data": {
            "text/plain": [
              "<matplotlib.axes._subplots.AxesSubplot at 0x7f4a79e1c2d0>"
            ]
          },
          "metadata": {},
          "execution_count": 71
        },
        {
          "output_type": "display_data",
          "data": {
            "image/png": "[encoded data removed]",
            "text/plain": [
              "<Figure size 432x288 with 1 Axes>"
            ]
          },
          "metadata": {
            "needs_background": "light"
          }
        }
      ]
    },
    {
      "cell_type": "code",
      "source": [
        "# Compared to non-Fraud transactions which happen mostly in the afternoon\n",
        "\n",
        "sns.countplot(df1.loc[df1['isFraud']==0,'period_of_day'])"
      ],
      "metadata": {
        "colab": {
          "base_uri": "https://localhost:8080/",
          "height": 0
        },
        "id": "2CgkpzkxdnDy",
        "outputId": "22456dfe-76d8-4945-9f94-7564a223ae76"
      },
      "id": "2CgkpzkxdnDy",
      "execution_count": 72,
      "outputs": [
        {
          "output_type": "execute_result",
          "data": {
            "text/plain": [
              "<matplotlib.axes._subplots.AxesSubplot at 0x7f4a7a11b390>"
            ]
          },
          "metadata": {},
          "execution_count": 72
        },
        {
          "output_type": "display_data",
          "data": {
            "image/png": "[encoded data removed]",
            "text/plain": [
              "<Figure size 432x288 with 1 Axes>"
            ]
          },
          "metadata": {
            "needs_background": "light"
          }
        }
      ]
    },
    {
      "cell_type": "markdown",
      "source": [
        "\n",
        "- <b><font color=\"green\">Transaction time:</font></b><br>\n",
        "  **4.** fraud happens mostly during weekdays<br>\n",
        "  <b>ANSWER:</b> <i>True. Fraud happens mostly during weekdays</i>"
      ],
      "metadata": {
        "id": "agvzWBHpWytU"
      },
      "id": "agvzWBHpWytU"
    },
    {
      "cell_type": "code",
      "source": [
        "sns.countplot(df1.loc[df1['isFraud']==1,'is_weekend'])"
      ],
      "metadata": {
        "colab": {
          "base_uri": "https://localhost:8080/",
          "height": 0
        },
        "id": "sjvV08TCUSi7",
        "outputId": "edcc993a-2bf9-4e6f-813c-78aebcd0342b"
      },
      "id": "sjvV08TCUSi7",
      "execution_count": 73,
      "outputs": [
        {
          "output_type": "execute_result",
          "data": {
            "text/plain": [
              "<matplotlib.axes._subplots.AxesSubplot at 0x7f4a79f3e810>"
            ]
          },
          "metadata": {},
          "execution_count": 73
        },
        {
          "output_type": "display_data",
          "data": {
            "image/png": "[encoded data removed]",
            "text/plain": [
              "<Figure size 432x288 with 1 Axes>"
            ]
          },
          "metadata": {
            "needs_background": "light"
          }
        }
      ]
    },
    {
      "cell_type": "code",
      "source": [
        "# Non-fraud transactions have the same behaviour\n",
        "\n",
        "sns.countplot(df1.loc[df1['isFraud']==0,'is_weekend'])"
      ],
      "metadata": {
        "colab": {
          "base_uri": "https://localhost:8080/",
          "height": 0
        },
        "id": "udSDVpr1foGE",
        "outputId": "39b20c57-cbc9-401c-eb35-ddf5e61846d5"
      },
      "id": "udSDVpr1foGE",
      "execution_count": 74,
      "outputs": [
        {
          "output_type": "execute_result",
          "data": {
            "text/plain": [
              "<matplotlib.axes._subplots.AxesSubplot at 0x7f4a7a22ec90>"
            ]
          },
          "metadata": {},
          "execution_count": 74
        },
        {
          "output_type": "display_data",
          "data": {
            "image/png": "[encoded data removed]",
            "text/plain": [
              "<Figure size 432x288 with 1 Axes>"
            ]
          },
          "metadata": {
            "needs_background": "light"
          }
        }
      ]
    },
    {
      "cell_type": "markdown",
      "source": [
        "\n",
        "- <b><font color=\"green\">Transaction time:</font></b><br>\n",
        "  **5.** fraud transactions frequencies follow the trend of non-Fraud transactions.<br>\n",
        "  <b>ANSWER:</b> <i>False. Fraud happens with diferent frequencie distribution.</i>"
      ],
      "metadata": {
        "id": "pIdzMPc6pnLm"
      },
      "id": "pIdzMPc6pnLm"
    },
    {
      "cell_type": "code",
      "source": [
        "sns.countplot(df1.loc[df1['isFraud']==1,'day_of_week'])"
      ],
      "metadata": {
        "colab": {
          "base_uri": "https://localhost:8080/",
          "height": 0
        },
        "id": "pYRSsZ3_olZi",
        "outputId": "068d0056-b55f-48fc-83a7-b9a18b165990"
      },
      "id": "pYRSsZ3_olZi",
      "execution_count": 75,
      "outputs": [
        {
          "output_type": "execute_result",
          "data": {
            "text/plain": [
              "<matplotlib.axes._subplots.AxesSubplot at 0x7f4a79faea50>"
            ]
          },
          "metadata": {},
          "execution_count": 75
        },
        {
          "output_type": "display_data",
          "data": {
            "image/png": "[encoded data removed]",
            "text/plain": [
              "<Figure size 432x288 with 1 Axes>"
            ]
          },
          "metadata": {
            "needs_background": "light"
          }
        }
      ]
    },
    {
      "cell_type": "code",
      "source": [
        "sns.countplot(df1.loc[df1['isFraud']==0,'day_of_week'])"
      ],
      "metadata": {
        "colab": {
          "base_uri": "https://localhost:8080/",
          "height": 0
        },
        "id": "Jo4PSCOPpBgL",
        "outputId": "7bcdddf0-5620-4e25-d692-e84ee8b7c07d"
      },
      "id": "Jo4PSCOPpBgL",
      "execution_count": 76,
      "outputs": [
        {
          "output_type": "execute_result",
          "data": {
            "text/plain": [
              "<matplotlib.axes._subplots.AxesSubplot at 0x7f4a79eb9ed0>"
            ]
          },
          "metadata": {},
          "execution_count": 76
        },
        {
          "output_type": "display_data",
          "data": {
            "image/png": "[encoded data removed]",
            "text/plain": [
              "<Figure size 432x288 with 1 Axes>"
            ]
          },
          "metadata": {
            "needs_background": "light"
          }
        }
      ]
    },
    {
      "cell_type": "markdown",
      "source": [
        "\n",
        "- <b><font color=\"brown\">Transaction origin:</font></b><br>\n",
        "  **6.** most fraud transactions happen when origin old balance is non-zero<br>\n",
        "  <b>ANSWER:</b> <i>True. Althought there are some frauds where the Origin old balance is zero, the majority of fraud events happened when it was non-zero.</i>"
      ],
      "metadata": {
        "id": "tGWRK83XXLVR"
      },
      "id": "tGWRK83XXLVR"
    },
    {
      "cell_type": "code",
      "source": [
        "sns.countplot(df1.loc[df1['isFraud']==1,'oldbalanceOrg_status'])"
      ],
      "metadata": {
        "colab": {
          "base_uri": "https://localhost:8080/",
          "height": 0
        },
        "id": "f-f2LpJ8USle",
        "outputId": "e964e965-e571-48a8-a220-64583981cfe5"
      },
      "id": "f-f2LpJ8USle",
      "execution_count": 77,
      "outputs": [
        {
          "output_type": "execute_result",
          "data": {
            "text/plain": [
              "<matplotlib.axes._subplots.AxesSubplot at 0x7f4a7ade8190>"
            ]
          },
          "metadata": {},
          "execution_count": 77
        },
        {
          "output_type": "display_data",
          "data": {
            "image/png": "[encoded data removed]",
            "text/plain": [
              "<Figure size 432x288 with 1 Axes>"
            ]
          },
          "metadata": {
            "needs_background": "light"
          }
        }
      ]
    },
    {
      "cell_type": "code",
      "source": [
        "# For non-fraud transactions non-zero/zero ratio is different\n",
        "\n",
        "sns.countplot(df1.loc[df1['isFraud']==0,'oldbalanceOrg_status'])"
      ],
      "metadata": {
        "colab": {
          "base_uri": "https://localhost:8080/",
          "height": 0
        },
        "id": "YhIehhZyWzX3",
        "outputId": "ca8ea24d-e859-4c48-a2b3-3fb2803089c6"
      },
      "id": "YhIehhZyWzX3",
      "execution_count": 78,
      "outputs": [
        {
          "output_type": "execute_result",
          "data": {
            "text/plain": [
              "<matplotlib.axes._subplots.AxesSubplot at 0x7f4a7aef9a10>"
            ]
          },
          "metadata": {},
          "execution_count": 78
        },
        {
          "output_type": "display_data",
          "data": {
            "image/png": "[encoded data removed]",
            "text/plain": [
              "<Figure size 432x288 with 1 Axes>"
            ]
          },
          "metadata": {
            "needs_background": "light"
          }
        }
      ]
    },
    {
      "cell_type": "markdown",
      "source": [
        "\n",
        "- <b><font color=\"brown\">Transaction origin:</font></b><br>\n",
        "  **7.** most fraud transactions happen when origin new balance is zero<br>\n",
        "  <b>ANSWER:</b> <i>True. After most fraud transactions the remaining origin balance is zero.</i>"
      ],
      "metadata": {
        "id": "ZU4QHjEkXXok"
      },
      "id": "ZU4QHjEkXXok"
    },
    {
      "cell_type": "code",
      "source": [
        "sns.countplot(df1.loc[df1['isFraud']==1,'newbalanceOrig_status'],\n",
        "              order= sorted(df1.loc[df1['isFraud']==1,'newbalanceOrig_status'].unique().tolist()))"
      ],
      "metadata": {
        "colab": {
          "base_uri": "https://localhost:8080/",
          "height": 0
        },
        "id": "MUIpsETLXVDY",
        "outputId": "0742114d-7d74-41ea-a27a-b1fdc87e27b9"
      },
      "id": "MUIpsETLXVDY",
      "execution_count": 79,
      "outputs": [
        {
          "output_type": "execute_result",
          "data": {
            "text/plain": [
              "<matplotlib.axes._subplots.AxesSubplot at 0x7f4a7ae89d50>"
            ]
          },
          "metadata": {},
          "execution_count": 79
        },
        {
          "output_type": "display_data",
          "data": {
            "image/png": "[encoded data removed]",
            "text/plain": [
              "<Figure size 432x288 with 1 Axes>"
            ]
          },
          "metadata": {
            "needs_background": "light"
          }
        }
      ]
    },
    {
      "cell_type": "code",
      "source": [
        "# For non-fraud transactions the non-zero/zero ratio is different\n",
        "\n",
        "sns.countplot(df1.loc[df1['isFraud']==0,'newbalanceOrig_status'],\n",
        "              order= sorted(df1.loc[df1['isFraud']==0,'newbalanceOrig_status'].unique().tolist()))"
      ],
      "metadata": {
        "colab": {
          "base_uri": "https://localhost:8080/",
          "height": 0
        },
        "id": "JMjoJ4KyXInc",
        "outputId": "fb05b41b-0762-44a0-caf5-97ada4a5db23"
      },
      "id": "JMjoJ4KyXInc",
      "execution_count": 80,
      "outputs": [
        {
          "output_type": "execute_result",
          "data": {
            "text/plain": [
              "<matplotlib.axes._subplots.AxesSubplot at 0x7f4a7af65f10>"
            ]
          },
          "metadata": {},
          "execution_count": 80
        },
        {
          "output_type": "display_data",
          "data": {
            "image/png": "[encoded data removed]",
            "text/plain": [
              "<Figure size 432x288 with 1 Axes>"
            ]
          },
          "metadata": {
            "needs_background": "light"
          }
        }
      ]
    },
    {
      "cell_type": "markdown",
      "source": [
        "\n",
        "- <b><font color= \"green\">Transaction destination:</font></b><br>\n",
        "  **8.** most fraud transactions happen when destination new balance is non-zero<br>\n",
        "  <b>ANSWER:</b> <i>False. For both zero and non-zero remaining balance they are equally frequent.</i>"
      ],
      "metadata": {
        "id": "Bcl7XjhRYDuD"
      },
      "id": "Bcl7XjhRYDuD"
    },
    {
      "cell_type": "code",
      "source": [
        "sns.countplot(df1.loc[df1['isFraud']==1,'newbalanceDest_status'])"
      ],
      "metadata": {
        "colab": {
          "base_uri": "https://localhost:8080/",
          "height": 0
        },
        "id": "4Swy4Og1XVJK",
        "outputId": "547709b5-eec4-40f2-92f3-c28dec68a09f"
      },
      "id": "4Swy4Og1XVJK",
      "execution_count": 81,
      "outputs": [
        {
          "output_type": "execute_result",
          "data": {
            "text/plain": [
              "<matplotlib.axes._subplots.AxesSubplot at 0x7f4a7a8a1b10>"
            ]
          },
          "metadata": {},
          "execution_count": 81
        },
        {
          "output_type": "display_data",
          "data": {
            "image/png": "[encoded data removed]",
            "text/plain": [
              "<Figure size 432x288 with 1 Axes>"
            ]
          },
          "metadata": {
            "needs_background": "light"
          }
        }
      ]
    },
    {
      "cell_type": "code",
      "source": [
        "# For non-fraud though, non-zero remaining balance is the most frequent after transaction.\n",
        "\n",
        "sns.countplot(df1.loc[df1['isFraud']==0,'newbalanceDest_status'])"
      ],
      "metadata": {
        "colab": {
          "base_uri": "https://localhost:8080/",
          "height": 0
        },
        "id": "YIC4pl1fh7nW",
        "outputId": "15614583-a5be-4abf-e40a-98c4d382b9f1"
      },
      "id": "YIC4pl1fh7nW",
      "execution_count": 82,
      "outputs": [
        {
          "output_type": "execute_result",
          "data": {
            "text/plain": [
              "<matplotlib.axes._subplots.AxesSubplot at 0x7f4a7a520210>"
            ]
          },
          "metadata": {},
          "execution_count": 82
        },
        {
          "output_type": "display_data",
          "data": {
            "image/png": "[encoded data removed]",
            "text/plain": [
              "<Figure size 432x288 with 1 Axes>"
            ]
          },
          "metadata": {
            "needs_background": "light"
          }
        }
      ]
    },
    {
      "cell_type": "markdown",
      "source": [
        "\n",
        "- <b><font color= \"green\">Transaction destination:</font></b><br>\n",
        "  **9.** most fraud happens for costumer as destination type<br>\n",
        "  <b>ANSWER:</b> <i>True. Fraud ONLY happens for Costumers as destination.</i>"
      ],
      "metadata": {
        "id": "TqP2dwZgYXMb"
      },
      "id": "TqP2dwZgYXMb"
    },
    {
      "cell_type": "code",
      "source": [
        "sns.countplot(df1.loc[df1['isFraud']==1,'dest_type'])"
      ],
      "metadata": {
        "colab": {
          "base_uri": "https://localhost:8080/",
          "height": 0
        },
        "id": "P1sKGJpbYVqk",
        "outputId": "e81cfb9d-c90d-4b56-d870-45f8603c02a0"
      },
      "id": "P1sKGJpbYVqk",
      "execution_count": 83,
      "outputs": [
        {
          "output_type": "execute_result",
          "data": {
            "text/plain": [
              "<matplotlib.axes._subplots.AxesSubplot at 0x7f4a7af66610>"
            ]
          },
          "metadata": {},
          "execution_count": 83
        },
        {
          "output_type": "display_data",
          "data": {
            "image/png": "[encoded data removed]",
            "text/plain": [
              "<Figure size 432x288 with 1 Axes>"
            ]
          },
          "metadata": {
            "needs_background": "light"
          }
        }
      ]
    },
    {
      "cell_type": "markdown",
      "source": [
        "\n",
        "- <b><font color=\"brown\">Transaction amount:</font></b><br>\n",
        "  **10.** the average 'amount' of fraud transactions is higher than non-fraud transactions<br>\n",
        "  <b>ANSWER:</b> <i>True.</i>"
      ],
      "metadata": {
        "id": "SNuyFCo4YfMQ"
      },
      "id": "SNuyFCo4YfMQ"
    },
    {
      "cell_type": "code",
      "source": [
        "df1[['isFraud', 'amount']].groupby('isFraud').mean().plot.bar();"
      ],
      "metadata": {
        "colab": {
          "base_uri": "https://localhost:8080/",
          "height": 0
        },
        "id": "lxCFVaR1YVtM",
        "outputId": "9a689c96-116e-4eba-8186-6cf8958b121c"
      },
      "id": "lxCFVaR1YVtM",
      "execution_count": 84,
      "outputs": [
        {
          "output_type": "display_data",
          "data": {
            "image/png": "[encoded data removed]",
            "text/plain": [
              "<Figure size 432x288 with 1 Axes>"
            ]
          },
          "metadata": {
            "needs_background": "light"
          }
        }
      ]
    },
    {
      "cell_type": "markdown",
      "source": [
        "\n",
        "- <b><font color=\"green\">Transaction direction:</font></b><br>\n",
        "  **11.** most fraud transactions happen in C2C direction<br>\n",
        "  <b>ANSWER:</b> <i>fraud transactions ONLY happen in C2C direction.</i>"
      ],
      "metadata": {
        "id": "0ngDVCoFcB1Z"
      },
      "id": "0ngDVCoFcB1Z"
    },
    {
      "cell_type": "code",
      "source": [
        "sns.countplot(df1.loc[df1['isFraud']==1, 'transaction_direction']);"
      ],
      "metadata": {
        "colab": {
          "base_uri": "https://localhost:8080/",
          "height": 0
        },
        "id": "jQIGCjTDEtL-",
        "outputId": "53f46872-5117-4c4e-ec6b-2e0d0d0f6e3a"
      },
      "id": "jQIGCjTDEtL-",
      "execution_count": 85,
      "outputs": [
        {
          "output_type": "display_data",
          "data": {
            "image/png": "[encoded data removed]",
            "text/plain": [
              "<Figure size 432x288 with 1 Axes>"
            ]
          },
          "metadata": {
            "needs_background": "light"
          }
        }
      ]
    },
    {
      "cell_type": "markdown",
      "source": [
        "\n",
        "- <b><font color=\"brown\">Flagging:</font></b><br>\n",
        "  **12.** most of fraud transactions is not flagged<br>\n",
        "  <b>ANSWER:</b> <i>True.</i>"
      ],
      "metadata": {
        "id": "9GgdxYa-cR1I"
      },
      "id": "9GgdxYa-cR1I"
    },
    {
      "cell_type": "code",
      "source": [
        "sns.countplot(df1.loc[df1['isFraud']==1, 'isFlaggedFraud']);"
      ],
      "metadata": {
        "colab": {
          "base_uri": "https://localhost:8080/",
          "height": 0
        },
        "id": "CXbzM2LnY2zM",
        "outputId": "c2fa5b19-3f72-4abc-b889-0aa7ac1feaf1"
      },
      "id": "CXbzM2LnY2zM",
      "execution_count": 86,
      "outputs": [
        {
          "output_type": "display_data",
          "data": {
            "image/png": "[encoded data removed]",
            "text/plain": [
              "<Figure size 432x288 with 1 Axes>"
            ]
          },
          "metadata": {
            "needs_background": "light"
          }
        }
      ]
    },
    {
      "cell_type": "code",
      "source": [
        "# Some important attributes after hypothesis validation procedure\n",
        "\n",
        "# type\n",
        "\n",
        "# time_of_day (AM and PM)\n",
        "\n",
        "# period_of_day\n",
        "\n",
        "# day_of_week\n",
        "\n",
        "# oldbalanceOrg_status\n",
        "\n",
        "# newbalanceOrig_status\n",
        "\n",
        "# newbalanceDest_status (insight from H8)\n",
        "\n",
        "# dest_type\n",
        "\n",
        "# amount\n",
        "\n",
        "# transaction_direction\n",
        "\n",
        "# isFlaggedFraud"
      ],
      "metadata": {
        "id": "_kLdRojeckqU"
      },
      "id": "_kLdRojeckqU",
      "execution_count": 87,
      "outputs": []
    },
    {
      "cell_type": "markdown",
      "source": [
        "### 4.2.1 Statistical hypothesis testing"
      ],
      "metadata": {
        "id": "hUWC5dUZbei4"
      },
      "id": "hUWC5dUZbei4"
    },
    {
      "cell_type": "markdown",
      "source": [
        "It will be applied to numeric continuous attributes:\n",
        "\n",
        "- 'amount', 'oldbalanceOrg', 'newbalanceOrig', 'oldbalanceDest', 'newbalanceDest'"
      ],
      "metadata": {
        "id": "o6tT-pk8eOUr"
      },
      "id": "o6tT-pk8eOUr"
    },
    {
      "cell_type": "markdown",
      "source": [
        "But first let's test to check if the data distribution of these features has a gaussian shape (parametric distribution) so we can further apply the correct statistical test."
      ],
      "metadata": {
        "id": "8-QBnr7Cmdpy"
      },
      "id": "8-QBnr7Cmdpy"
    },
    {
      "cell_type": "code",
      "source": [
        "# stat, p = shapiro(data) <- test sintax"
      ],
      "metadata": {
        "id": "zxFUGpUfm79c"
      },
      "id": "zxFUGpUfm79c",
      "execution_count": 88,
      "outputs": []
    },
    {
      "cell_type": "code",
      "source": [
        "for i in ['amount', 'oldbalanceOrg', 'newbalanceOrig', 'oldbalanceDest', 'newbalanceDest']:\n",
        "\n",
        "  stat, p = stats.shapiro(df1.loc[:, i])\n",
        "  \n",
        "  print('Feature: {}'.format(i))\n",
        "  print('stat=%.3f, p=%.3f' % (stat, p))\n",
        "\n",
        "  if p > 0.05:\n",
        "    print('Probably Gaussian\\n')\n",
        "\n",
        "  else:\n",
        "    print('Probably not Gaussian\\n')"
      ],
      "metadata": {
        "colab": {
          "base_uri": "https://localhost:8080/"
        },
        "id": "wVxM2cSFlokU",
        "outputId": "f5d71ab3-f123-4434-c876-630f46573a83"
      },
      "id": "wVxM2cSFlokU",
      "execution_count": 89,
      "outputs": [
        {
          "output_type": "stream",
          "name": "stdout",
          "text": [
            "Feature: amount\n",
            "stat=0.193, p=0.000\n",
            "Probably not Gaussian\n",
            "\n",
            "Feature: oldbalanceOrg\n",
            "stat=0.323, p=0.000\n",
            "Probably not Gaussian\n",
            "\n",
            "Feature: newbalanceOrig\n",
            "stat=0.331, p=0.000\n",
            "Probably not Gaussian\n",
            "\n",
            "Feature: oldbalanceDest\n",
            "stat=0.299, p=0.000\n",
            "Probably not Gaussian\n",
            "\n",
            "Feature: newbalanceDest\n",
            "stat=0.302, p=0.000\n",
            "Probably not Gaussian\n",
            "\n"
          ]
        }
      ]
    },
    {
      "cell_type": "markdown",
      "source": [
        "Since these features probably have a not Gaussian shape we will apply Mann-Whitney non-parametric test:"
      ],
      "metadata": {
        "id": "Ryzzg11OnImV"
      },
      "id": "Ryzzg11OnImV"
    },
    {
      "cell_type": "code",
      "source": [
        "# stat, p = mannwhitneyu(data1, data2)  <- test sintax"
      ],
      "metadata": {
        "id": "JuLk0m8Tcuy7"
      },
      "id": "JuLk0m8Tcuy7",
      "execution_count": 90,
      "outputs": []
    },
    {
      "cell_type": "code",
      "source": [
        "for i in ['amount', 'oldbalanceOrg', 'newbalanceOrig', 'oldbalanceDest', 'newbalanceDest']:\n",
        "\n",
        "  stat, p = stats.mannwhitneyu(df1.loc[df1['isFraud']==0, i], \n",
        "                               df1.loc[df1['isFraud']==1, i])\n",
        "  \n",
        "  print('Feature: {}'.format(i))\n",
        "  print('stat=%.3f, p=%.3f' % (stat, p))\n",
        "\n",
        "  if p > 0.05:\n",
        "    print('Probably the same distribution\\n')\n",
        "\n",
        "  else:\n",
        "    print('Probably different distributions\\n')"
      ],
      "metadata": {
        "colab": {
          "base_uri": "https://localhost:8080/"
        },
        "id": "HetiEvRMg3zE",
        "outputId": "a92da4b6-8ac3-4706-ed95-4e583d8e39f6"
      },
      "id": "HetiEvRMg3zE",
      "execution_count": 91,
      "outputs": [
        {
          "output_type": "stream",
          "name": "stdout",
          "text": [
            "Feature: amount\n",
            "stat=10963745080.000, p=0.000\n",
            "Probably different distributions\n",
            "\n",
            "Feature: oldbalanceOrg\n",
            "stat=9850780655.000, p=0.000\n",
            "Probably different distributions\n",
            "\n",
            "Feature: newbalanceOrig\n",
            "stat=15460387632.500, p=0.000\n",
            "Probably different distributions\n",
            "\n",
            "Feature: oldbalanceDest\n",
            "stat=19183643294.000, p=0.000\n",
            "Probably different distributions\n",
            "\n",
            "Feature: newbalanceDest\n",
            "stat=23982267530.000, p=0.000\n",
            "Probably different distributions\n",
            "\n"
          ]
        }
      ]
    },
    {
      "cell_type": "markdown",
      "source": [
        "Results above show us that attributes 'amount', 'oldbalanceOrg', 'newbalanceOrig', 'oldbalanceDest', 'newbalanceDest' are also important in statistical point of view."
      ],
      "metadata": {
        "id": "TavM53BVga0v"
      },
      "id": "TavM53BVga0v"
    },
    {
      "cell_type": "markdown",
      "source": [
        "## 4.3 Multivariate analysis"
      ],
      "metadata": {
        "id": "CSBpn-P1i3rb"
      },
      "id": "CSBpn-P1i3rb"
    },
    {
      "cell_type": "markdown",
      "source": [
        "### 4.3.1 Numerical attributes"
      ],
      "metadata": {
        "id": "BlSgzy8xtZZk"
      },
      "id": "BlSgzy8xtZZk"
    },
    {
      "cell_type": "code",
      "source": [
        "plt.figure(figsize=(10,5))\n",
        "\n",
        "sns.heatmap(df1[['step', 'amount', 'oldbalanceOrg', 'newbalanceOrig', 'oldbalanceDest',\n",
        "                 'newbalanceDest', 'day_of_month', 'week_of_month','hour_of_day', \n",
        "                 'day_of_week']].corr());"
      ],
      "metadata": {
        "colab": {
          "base_uri": "https://localhost:8080/",
          "height": 397
        },
        "id": "pYYeNj4mfpeH",
        "outputId": "ebdbba2e-ba5d-4104-a922-9c513c3e3acb"
      },
      "id": "pYYeNj4mfpeH",
      "execution_count": 92,
      "outputs": [
        {
          "output_type": "display_data",
          "data": {
            "image/png": "[encoded data removed]",
            "text/plain": [
              "<Figure size 720x360 with 2 Axes>"
            ]
          },
          "metadata": {
            "needs_background": "light"
          }
        }
      ]
    },
    {
      "cell_type": "markdown",
      "source": [
        "### 4.3.2 Categorical attributes"
      ],
      "metadata": {
        "id": "y0_eW8nItgQq"
      },
      "id": "y0_eW8nItgQq"
    },
    {
      "cell_type": "code",
      "source": [
        "plt.figure(figsize=(15,10))\n",
        "\n",
        "plot_corr(df1,['type', 'isFlaggedFraud', 'is_weekend',\n",
        "               'time_of_day', 'period_of_day', 'dest_type',\n",
        "               'oldbalanceOrg_status', 'newbalanceOrig_status',\n",
        "               'oldbalanceDest_status', 'newbalanceDest_status',\n",
        "               'is_oldbalanceOrg_higherthan_newbalanceOrig', \n",
        "               'is_oldbalanceDest_higherthan_newbalanceDest', 'transaction_direction'])"
      ],
      "metadata": {
        "colab": {
          "base_uri": "https://localhost:8080/",
          "height": 780
        },
        "id": "LGuXUnujjC8t",
        "outputId": "7dbe1b84-a200-4a56-bf5f-ab5923fd5be5"
      },
      "id": "LGuXUnujjC8t",
      "execution_count": 93,
      "outputs": [
        {
          "output_type": "execute_result",
          "data": {
            "text/plain": [
              "<matplotlib.axes._subplots.AxesSubplot at 0x7f4a79db1950>"
            ]
          },
          "metadata": {},
          "execution_count": 93
        },
        {
          "output_type": "display_data",
          "data": {
            "image/png": "[encoded data removed]",
            "text/plain": [
              "<Figure size 1080x720 with 2 Axes>"
            ]
          },
          "metadata": {
            "needs_background": "light"
          }
        }
      ]
    },
    {
      "cell_type": "markdown",
      "metadata": {
        "heading_collapsed": true,
        "id": "oxrKQ07qX7AQ"
      },
      "source": [
        "# 5- Data Preparation"
      ],
      "id": "oxrKQ07qX7AQ"
    },
    {
      "cell_type": "code",
      "source": [
        "df2 = df1.copy()"
      ],
      "metadata": {
        "id": "3ZPpVPEl-e0D"
      },
      "id": "3ZPpVPEl-e0D",
      "execution_count": 94,
      "outputs": []
    },
    {
      "cell_type": "markdown",
      "source": [
        "## 5.1 Train/Test split"
      ],
      "metadata": {
        "id": "5cvHZ63J9WPM"
      },
      "id": "5cvHZ63J9WPM"
    },
    {
      "cell_type": "code",
      "source": [
        "# Train/Test split\n",
        "\n",
        "# X_train, X_test, y_train, y_test = train_test_split(y, X, test_size=0.33, random_state=42) <- sintax\n",
        "\n",
        "y_train, y_test, X_train, X_test = train_test_split(df2['isFraud'], \n",
        "                                                    df2.drop(columns=['isFraud']), \n",
        "                                                    test_size=0.33, \n",
        "                                                    random_state=42)"
      ],
      "metadata": {
        "id": "hAmHo_RY-UfX"
      },
      "id": "hAmHo_RY-UfX",
      "execution_count": 95,
      "outputs": []
    },
    {
      "cell_type": "code",
      "source": [
        "print('Data information:\\n')\n",
        "\n",
        "print('Training set:')\n",
        "print('Observations number: {}'.format(len(y_train)))\n",
        "print('Percentage: {}\\n'.format(round(len(y_train)/len(df2['isFraud']),2)))\n",
        "\n",
        "print('Testing set:')\n",
        "print('Observations number: {}'.format(len(y_test)))\n",
        "print('Percentage: {}\\n'.format(round(len(y_test)/len(df2['isFraud']),2)))"
      ],
      "metadata": {
        "colab": {
          "base_uri": "https://localhost:8080/"
        },
        "id": "CHKpCfdcHaJr",
        "outputId": "27e7a167-ae5d-4d3b-8af0-1f04e01dba20"
      },
      "id": "CHKpCfdcHaJr",
      "execution_count": 96,
      "outputs": [
        {
          "output_type": "stream",
          "name": "stdout",
          "text": [
            "Data information:\n",
            "\n",
            "Training set:\n",
            "Observations number: 4262955\n",
            "Percentage: 0.67\n",
            "\n",
            "Testing set:\n",
            "Observations number: 2099665\n",
            "Percentage: 0.33\n",
            "\n"
          ]
        }
      ]
    },
    {
      "cell_type": "markdown",
      "source": [
        "## 5.2 Scaling - Numeric attributes"
      ],
      "metadata": {
        "id": "I3dWO4gQ9WX7"
      },
      "id": "I3dWO4gQ9WX7"
    },
    {
      "cell_type": "code",
      "source": [
        "# Numeric non-cyclic attributes - Robust Scaler (each of them has extreme values)\n",
        "\n",
        "# 'amount'\n",
        "\n",
        "scaler = RobustScaler()\n",
        "\n",
        "X_train['amount'] = scaler.fit_transform(X_train[['amount']].values)\n",
        "\n",
        "X_test['amount'] = scaler.transform(X_test[['amount']].values) # scaling X_test using scaled already fitted\n",
        "\n",
        "\n",
        "# 'oldbalanceOrg'\n",
        "\n",
        "scaler = RobustScaler()\n",
        "\n",
        "X_train['oldbalanceOrg'] = scaler.fit_transform(X_train[['oldbalanceOrg']].values)\n",
        "\n",
        "X_test['oldbalanceOrg'] = scaler.transform(X_test[['oldbalanceOrg']].values) # scaling X_test using scaled already fitted\n",
        "\n",
        "\n",
        "# 'newbalanceOrig'\n",
        "\n",
        "scaler = RobustScaler()\n",
        "\n",
        "X_train['newbalanceOrig'] = scaler.fit_transform(X_train[['newbalanceOrig']].values)\n",
        "\n",
        "X_test['newbalanceOrig'] = scaler.transform(X_test[['newbalanceOrig']].values) # scaling X_test using scaled already fitted\n",
        "\n",
        "\n",
        "# 'oldbalanceDest'\n",
        "\n",
        "scaler = RobustScaler()\n",
        "\n",
        "X_train['oldbalanceDest'] = scaler.fit_transform(X_train[['oldbalanceDest']].values)\n",
        "\n",
        "X_test['oldbalanceDest'] = scaler.transform(X_test[['oldbalanceDest']].values) # scaling X_test using scaled already fitted\n",
        "\n",
        "\n",
        "# 'newbalanceDest'\n",
        "\n",
        "scaler = RobustScaler()\n",
        "\n",
        "X_train['newbalanceDest'] = scaler.fit_transform(X_train[['newbalanceDest']].values)\n",
        "\n",
        "X_test['newbalanceDest'] = scaler.transform(X_test[['newbalanceDest']].values) # scaling X_test using scaled already fitted\n",
        "\n",
        "\n",
        "# 'day_of_month'\n",
        "\n",
        "scaler = RobustScaler()\n",
        "\n",
        "X_train['day_of_month'] = scaler.fit_transform(X_train[['day_of_month']].values)\n",
        "\n",
        "X_test['day_of_month'] = scaler.transform(X_test[['day_of_month']].values) # scaling X_test using scaled already fitted\n",
        "\n",
        "\n",
        "# 'week_of_month'\n",
        "\n",
        "scaler = RobustScaler()\n",
        "\n",
        "X_train['week_of_month'] = scaler.fit_transform(X_train[['week_of_month']].values)\n",
        "\n",
        "X_test['week_of_month'] = scaler.transform(X_test[['week_of_month']].values) # scaling X_test using scaled already fitted\n",
        "\n",
        "\n",
        "# 'step'\n",
        "\n",
        "scaler = RobustScaler()\n",
        "\n",
        "X_train['step'] = scaler.fit_transform(X_train[['step']].values)\n",
        "\n",
        "X_test['step'] = scaler.transform(X_test[['step']].values) # scaling X_test using scaled already fitted\n"
      ],
      "metadata": {
        "id": "NeUjOqxVLwsB"
      },
      "id": "NeUjOqxVLwsB",
      "execution_count": 97,
      "outputs": []
    },
    {
      "cell_type": "markdown",
      "source": [
        "## 5.3 Encoding - Categorical attributes"
      ],
      "metadata": {
        "id": "ljYGgTRo9Wgz"
      },
      "id": "ljYGgTRo9Wgz"
    },
    {
      "cell_type": "code",
      "source": [
        "# Dummies\n",
        "\n",
        "# Features to encode via Dummies:\n",
        "\n",
        "# 'isFlaggedFraud', \n",
        "\n",
        "# 'is_weekend', \n",
        "\n",
        "# 'time_of_day', \n",
        "\n",
        "# 'dest_type', \n",
        "\n",
        "# 'oldbalanceOrg_status', \n",
        "\n",
        "# 'newbalanceOrig_status', \n",
        "\n",
        "# 'oldbalanceDest_status', \n",
        "\n",
        "# 'newbalanceDest_status', \n",
        "\n",
        "# 'is_oldbalanceOrg_higherthan_newbalanceOrig', \n",
        "\n",
        "# 'is_oldbalanceDest_higherthan_newbalanceDest', \n",
        "\n",
        "# 'transaction_direction'"
      ],
      "metadata": {
        "id": "6oqA61hAxYrn"
      },
      "id": "6oqA61hAxYrn",
      "execution_count": 98,
      "outputs": []
    },
    {
      "cell_type": "code",
      "source": [
        "# Getting Dummie variables\n",
        "\n",
        "X_train = pd.get_dummies(data=X_train, \n",
        "                         columns=['isFlaggedFraud', 'is_weekend', 'time_of_day', 'dest_type', 'oldbalanceOrg_status', 'newbalanceOrig_status', 'oldbalanceDest_status', 'newbalanceDest_status', 'is_oldbalanceOrg_higherthan_newbalanceOrig', 'is_oldbalanceDest_higherthan_newbalanceDest', 'transaction_direction'])"
      ],
      "metadata": {
        "id": "xXpEWXD2zPu3"
      },
      "id": "xXpEWXD2zPu3",
      "execution_count": 99,
      "outputs": []
    },
    {
      "cell_type": "code",
      "source": [
        "# Getting Dummie variables - X_test\n",
        "\n",
        "X_test = pd.get_dummies(data=X_test, \n",
        "                         columns=['isFlaggedFraud', 'is_weekend', 'time_of_day', 'dest_type', 'oldbalanceOrg_status', 'newbalanceOrig_status', 'oldbalanceDest_status', 'newbalanceDest_status', 'is_oldbalanceOrg_higherthan_newbalanceOrig', 'is_oldbalanceDest_higherthan_newbalanceDest', 'transaction_direction'])"
      ],
      "metadata": {
        "id": "LH7M8W6ozmem"
      },
      "id": "LH7M8W6ozmem",
      "execution_count": 100,
      "outputs": []
    },
    {
      "cell_type": "code",
      "source": [
        ""
      ],
      "metadata": {
        "id": "rB_9-LxA0PgA"
      },
      "id": "rB_9-LxA0PgA",
      "execution_count": 100,
      "outputs": []
    },
    {
      "cell_type": "code",
      "source": [
        "# Frequency encoding: 'nameDest'\n",
        "\n",
        "\n",
        "# feature 'nameDest' has too many levels - let's encode using Frequency encoding\n",
        "\n",
        "# enc_nom_1 = (train.groupby('nom_1').size()) / len(train) <- sintax (step 1)\n",
        "\n",
        "# train['nom_1_encode'] = train['nom_1'].apply(lambda x : enc_nom_1[x]) <- sintax (step 2)\n",
        "\n",
        "\n",
        "\n",
        "enc_nom_1 = (X_train.groupby('nameDest').size()) / len(X_train)\n",
        "\n",
        "X_train['nameDest'] = X_train['nameDest'].apply(lambda x : enc_nom_1[x])"
      ],
      "metadata": {
        "id": "-bMWLSGz0Plm"
      },
      "id": "-bMWLSGz0Plm",
      "execution_count": 101,
      "outputs": []
    },
    {
      "cell_type": "code",
      "source": [
        "# encoding X_test:\n",
        "\n",
        "enc_nom_1 = (X_test.groupby('nameDest').size()) / len(X_test)\n",
        "\n",
        "X_test['nameDest'] = X_test['nameDest'].apply(lambda x : enc_nom_1[x])"
      ],
      "metadata": {
        "id": "GeCI2t7s3xsr"
      },
      "id": "GeCI2t7s3xsr",
      "execution_count": 102,
      "outputs": []
    },
    {
      "cell_type": "code",
      "source": [
        ""
      ],
      "metadata": {
        "id": "8uBEWEIk9h7D"
      },
      "id": "8uBEWEIk9h7D",
      "execution_count": 102,
      "outputs": []
    },
    {
      "cell_type": "code",
      "source": [
        "# Label encoding - 'type'\n",
        "\n",
        "\n",
        "le = LabelEncoder()\n",
        "\n",
        "X_train['type'] = le.fit_transform(X_train['type'])\n"
      ],
      "metadata": {
        "id": "rXXsHqID9h-Z"
      },
      "id": "rXXsHqID9h-Z",
      "execution_count": 103,
      "outputs": []
    },
    {
      "cell_type": "code",
      "source": [
        "X_test['type'] = le.transform(X_test['type']) # encoding X_test"
      ],
      "metadata": {
        "id": "u1njRn7--7rk"
      },
      "id": "u1njRn7--7rk",
      "execution_count": 104,
      "outputs": []
    },
    {
      "cell_type": "markdown",
      "source": [
        "## 5.4 Cyclic transform"
      ],
      "metadata": {
        "id": "bpNcq4gs9W3Y"
      },
      "id": "bpNcq4gs9W3Y"
    },
    {
      "cell_type": "code",
      "source": [
        "# Cyclic variables:\n",
        "\n",
        "# hour_of_day\n",
        "\n",
        "# day_of_week\n",
        "\n",
        "# period_of_day"
      ],
      "metadata": {
        "id": "HPEvrw9Y5Ru0"
      },
      "id": "HPEvrw9Y5Ru0",
      "execution_count": 105,
      "outputs": []
    },
    {
      "cell_type": "code",
      "source": [
        "# First let's just encode 'period_of_day' from string to numbers \n",
        "\n",
        "\n",
        "# period_of_day (Label encoder)\n",
        "\n",
        "period_of_day_encoding_map = {'Morning': 1, 'Afternoon':2, 'Evening':3}\n",
        "\n",
        "X_train['period_of_day'] = X_train['period_of_day'].map(period_of_day_encoding_map)\n",
        "\n",
        "X_test['period_of_day'] = X_test['period_of_day'].map(period_of_day_encoding_map)\n"
      ],
      "metadata": {
        "id": "eLkrukEl5R0S"
      },
      "id": "eLkrukEl5R0S",
      "execution_count": 106,
      "outputs": []
    },
    {
      "cell_type": "code",
      "source": [
        "# Transforming the attributes\n",
        "\n",
        "# hour_of_day\n",
        "\n",
        "X_train['hour_of_day_sin'] = X_train['hour_of_day'].apply(lambda x: np.sin(x*(2.*np.pi/24))) \n",
        "X_train['hour_of_day_cos'] = X_train['hour_of_day'].apply(lambda x: np.cos(x*(2.*np.pi/24)))\n",
        "\n",
        "# day_of_week\n",
        "\n",
        "X_train['day_of_week_sin'] = X_train['day_of_week'].apply(lambda x: np.sin(x*(2.*np.pi/7)))\n",
        "X_train['day_of_week_cos'] = X_train['day_of_week'].apply(lambda x: np.cos(x*(2.*np.pi/7)))\n",
        "\n",
        "\n",
        "# period_of_day\n",
        "\n",
        "X_train['period_of_day_sin'] = X_train['period_of_day'].apply(lambda x: np.sin(x*(2.*np.pi/3)))\n",
        "X_train['period_of_day_cos'] = X_train['period_of_day'].apply(lambda x: np.cos(x*(2.*np.pi/3)))\n",
        "\n"
      ],
      "metadata": {
        "id": "WqPxQyct7SgZ"
      },
      "id": "WqPxQyct7SgZ",
      "execution_count": 107,
      "outputs": []
    },
    {
      "cell_type": "code",
      "source": [
        "# Dropping the precursor attributes \n",
        "\n",
        "X_train = X_train.drop(columns=['hour_of_day','day_of_week', 'period_of_day'])"
      ],
      "metadata": {
        "id": "qoQxuE1k8bAA"
      },
      "id": "qoQxuE1k8bAA",
      "execution_count": 108,
      "outputs": []
    },
    {
      "cell_type": "code",
      "source": [
        "# Transforming the attributes - X_test\n",
        "\n",
        "# hour_of_day\n",
        "\n",
        "X_test['hour_of_day_sin'] = X_test['hour_of_day'].apply(lambda x: np.sin(x*(2.*np.pi/24))) \n",
        "X_test['hour_of_day_cos'] = X_test['hour_of_day'].apply(lambda x: np.cos(x*(2.*np.pi/24)))\n",
        "\n",
        "# day_of_week\n",
        "\n",
        "X_test['day_of_week_sin'] = X_test['day_of_week'].apply(lambda x: np.sin(x*(2.*np.pi/7)))\n",
        "X_test['day_of_week_cos'] = X_test['day_of_week'].apply(lambda x: np.cos(x*(2.*np.pi/7)))\n",
        "\n",
        "\n",
        "# period_of_day\n",
        "\n",
        "X_test['period_of_day_sin'] = X_test['period_of_day'].apply(lambda x: np.sin(x*(2.*np.pi/3)))\n",
        "X_test['period_of_day_cos'] = X_test['period_of_day'].apply(lambda x: np.cos(x*(2.*np.pi/3)))\n",
        "\n",
        "\n",
        "# Dropping the precursor attributes - X_test\n",
        "\n",
        "X_test = X_test.drop(columns=['hour_of_day','day_of_week', 'period_of_day'])"
      ],
      "metadata": {
        "id": "KYX00bMw85Ej"
      },
      "id": "KYX00bMw85Ej",
      "execution_count": 109,
      "outputs": []
    },
    {
      "cell_type": "code",
      "source": [
        "X_train.head()"
      ],
      "metadata": {
        "colab": {
          "base_uri": "https://localhost:8080/",
          "height": 374
        },
        "id": "xzPxIUoFUUBu",
        "outputId": "3caec3bc-b3c3-4a39-c5ef-6c886b4009e4"
      },
      "id": "xzPxIUoFUUBu",
      "execution_count": 111,
      "outputs": [
        {
          "output_type": "execute_result",
          "data": {
            "text/html": [
              "\n",
              "  <div id=\"df-d5c9ba58-5206-4566-b7f9-0493d7e1badb\">\n",
              "    <div class=\"colab-df-container\">\n",
              "      <div>\n",
              "<style scoped>\n",
              "    .dataframe tbody tr th:only-of-type {\n",
              "        vertical-align: middle;\n",
              "    }\n",
              "\n",
              "    .dataframe tbody tr th {\n",
              "        vertical-align: top;\n",
              "    }\n",
              "\n",
              "    .dataframe thead th {\n",
              "        text-align: right;\n",
              "    }\n",
              "</style>\n",
              "<table border=\"1\" class=\"dataframe\">\n",
              "  <thead>\n",
              "    <tr style=\"text-align: right;\">\n",
              "      <th></th>\n",
              "      <th>step</th>\n",
              "      <th>type</th>\n",
              "      <th>amount</th>\n",
              "      <th>oldbalanceOrg</th>\n",
              "      <th>newbalanceOrig</th>\n",
              "      <th>nameDest</th>\n",
              "      <th>oldbalanceDest</th>\n",
              "      <th>newbalanceDest</th>\n",
              "      <th>day_of_month</th>\n",
              "      <th>week_of_month</th>\n",
              "      <th>isFlaggedFraud_no</th>\n",
              "      <th>isFlaggedFraud_yes</th>\n",
              "      <th>is_weekend_weekdays</th>\n",
              "      <th>is_weekend_weekend</th>\n",
              "      <th>time_of_day_AM</th>\n",
              "      <th>time_of_day_PM</th>\n",
              "      <th>dest_type_Costumer</th>\n",
              "      <th>dest_type_Merchant</th>\n",
              "      <th>oldbalanceOrg_status_non-zero</th>\n",
              "      <th>oldbalanceOrg_status_zero</th>\n",
              "      <th>newbalanceOrig_status_non-zero</th>\n",
              "      <th>newbalanceOrig_status_zero</th>\n",
              "      <th>oldbalanceDest_status_non-zero</th>\n",
              "      <th>oldbalanceDest_status_zero</th>\n",
              "      <th>newbalanceDest_status_non-zero</th>\n",
              "      <th>newbalanceDest_status_zero</th>\n",
              "      <th>is_oldbalanceOrg_higherthan_newbalanceOrig_no</th>\n",
              "      <th>is_oldbalanceOrg_higherthan_newbalanceOrig_yes</th>\n",
              "      <th>is_oldbalanceDest_higherthan_newbalanceDest_no</th>\n",
              "      <th>is_oldbalanceDest_higherthan_newbalanceDest_yes</th>\n",
              "      <th>transaction_direction_C2C</th>\n",
              "      <th>transaction_direction_C2M</th>\n",
              "      <th>hour_of_day_sin</th>\n",
              "      <th>hour_of_day_cos</th>\n",
              "      <th>day_of_week_sin</th>\n",
              "      <th>day_of_week_cos</th>\n",
              "      <th>period_of_day_sin</th>\n",
              "      <th>period_of_day_cos</th>\n",
              "    </tr>\n",
              "  </thead>\n",
              "  <tbody>\n",
              "    <tr>\n",
              "      <th>1186641</th>\n",
              "      <td>-0.601124</td>\n",
              "      <td>0</td>\n",
              "      <td>0.574169</td>\n",
              "      <td>-0.085686</td>\n",
              "      <td>1.331044</td>\n",
              "      <td>4.222423e-06</td>\n",
              "      <td>2.582174</td>\n",
              "      <td>1.809906</td>\n",
              "      <td>-0.571429</td>\n",
              "      <td>-1.0</td>\n",
              "      <td>1</td>\n",
              "      <td>0</td>\n",
              "      <td>1</td>\n",
              "      <td>0</td>\n",
              "      <td>1</td>\n",
              "      <td>0</td>\n",
              "      <td>1</td>\n",
              "      <td>0</td>\n",
              "      <td>1</td>\n",
              "      <td>0</td>\n",
              "      <td>1</td>\n",
              "      <td>0</td>\n",
              "      <td>1</td>\n",
              "      <td>0</td>\n",
              "      <td>1</td>\n",
              "      <td>0</td>\n",
              "      <td>1</td>\n",
              "      <td>0</td>\n",
              "      <td>0</td>\n",
              "      <td>1</td>\n",
              "      <td>1</td>\n",
              "      <td>0</td>\n",
              "      <td>2.588190e-01</td>\n",
              "      <td>-0.965926</td>\n",
              "      <td>-7.818315e-01</td>\n",
              "      <td>0.623490</td>\n",
              "      <td>0.866025</td>\n",
              "      <td>-0.5</td>\n",
              "    </tr>\n",
              "    <tr>\n",
              "      <th>1199598</th>\n",
              "      <td>-0.595506</td>\n",
              "      <td>1</td>\n",
              "      <td>0.058952</td>\n",
              "      <td>0.161218</td>\n",
              "      <td>0.000000</td>\n",
              "      <td>1.172895e-06</td>\n",
              "      <td>-0.140862</td>\n",
              "      <td>-0.115441</td>\n",
              "      <td>-0.571429</td>\n",
              "      <td>-1.0</td>\n",
              "      <td>1</td>\n",
              "      <td>0</td>\n",
              "      <td>1</td>\n",
              "      <td>0</td>\n",
              "      <td>1</td>\n",
              "      <td>0</td>\n",
              "      <td>1</td>\n",
              "      <td>0</td>\n",
              "      <td>1</td>\n",
              "      <td>0</td>\n",
              "      <td>0</td>\n",
              "      <td>1</td>\n",
              "      <td>0</td>\n",
              "      <td>1</td>\n",
              "      <td>1</td>\n",
              "      <td>0</td>\n",
              "      <td>0</td>\n",
              "      <td>1</td>\n",
              "      <td>1</td>\n",
              "      <td>0</td>\n",
              "      <td>1</td>\n",
              "      <td>0</td>\n",
              "      <td>1.224647e-16</td>\n",
              "      <td>-1.000000</td>\n",
              "      <td>-7.818315e-01</td>\n",
              "      <td>0.623490</td>\n",
              "      <td>0.866025</td>\n",
              "      <td>-0.5</td>\n",
              "    </tr>\n",
              "    <tr>\n",
              "      <th>1185636</th>\n",
              "      <td>-0.601124</td>\n",
              "      <td>1</td>\n",
              "      <td>0.720079</td>\n",
              "      <td>0.068401</td>\n",
              "      <td>0.000000</td>\n",
              "      <td>6.802793e-06</td>\n",
              "      <td>6.594655</td>\n",
              "      <td>5.921888</td>\n",
              "      <td>-0.571429</td>\n",
              "      <td>-1.0</td>\n",
              "      <td>1</td>\n",
              "      <td>0</td>\n",
              "      <td>1</td>\n",
              "      <td>0</td>\n",
              "      <td>1</td>\n",
              "      <td>0</td>\n",
              "      <td>1</td>\n",
              "      <td>0</td>\n",
              "      <td>1</td>\n",
              "      <td>0</td>\n",
              "      <td>0</td>\n",
              "      <td>1</td>\n",
              "      <td>1</td>\n",
              "      <td>0</td>\n",
              "      <td>1</td>\n",
              "      <td>0</td>\n",
              "      <td>0</td>\n",
              "      <td>1</td>\n",
              "      <td>1</td>\n",
              "      <td>0</td>\n",
              "      <td>1</td>\n",
              "      <td>0</td>\n",
              "      <td>2.588190e-01</td>\n",
              "      <td>-0.965926</td>\n",
              "      <td>-7.818315e-01</td>\n",
              "      <td>0.623490</td>\n",
              "      <td>0.866025</td>\n",
              "      <td>-0.5</td>\n",
              "    </tr>\n",
              "    <tr>\n",
              "      <th>6211424</th>\n",
              "      <td>1.960674</td>\n",
              "      <td>4</td>\n",
              "      <td>3.187331</td>\n",
              "      <td>0.105437</td>\n",
              "      <td>0.000000</td>\n",
              "      <td>2.814949e-06</td>\n",
              "      <td>2.141447</td>\n",
              "      <td>2.369462</td>\n",
              "      <td>2.142857</td>\n",
              "      <td>2.0</td>\n",
              "      <td>1</td>\n",
              "      <td>0</td>\n",
              "      <td>1</td>\n",
              "      <td>0</td>\n",
              "      <td>1</td>\n",
              "      <td>0</td>\n",
              "      <td>1</td>\n",
              "      <td>0</td>\n",
              "      <td>1</td>\n",
              "      <td>0</td>\n",
              "      <td>0</td>\n",
              "      <td>1</td>\n",
              "      <td>1</td>\n",
              "      <td>0</td>\n",
              "      <td>1</td>\n",
              "      <td>0</td>\n",
              "      <td>0</td>\n",
              "      <td>1</td>\n",
              "      <td>1</td>\n",
              "      <td>0</td>\n",
              "      <td>1</td>\n",
              "      <td>0</td>\n",
              "      <td>2.588190e-01</td>\n",
              "      <td>-0.965926</td>\n",
              "      <td>-4.338837e-01</td>\n",
              "      <td>-0.900969</td>\n",
              "      <td>0.866025</td>\n",
              "      <td>-0.5</td>\n",
              "    </tr>\n",
              "    <tr>\n",
              "      <th>4452703</th>\n",
              "      <td>0.471910</td>\n",
              "      <td>3</td>\n",
              "      <td>-0.079990</td>\n",
              "      <td>0.146302</td>\n",
              "      <td>0.000000</td>\n",
              "      <td>2.345791e-07</td>\n",
              "      <td>-0.140862</td>\n",
              "      <td>-0.193175</td>\n",
              "      <td>0.571429</td>\n",
              "      <td>0.0</td>\n",
              "      <td>1</td>\n",
              "      <td>0</td>\n",
              "      <td>0</td>\n",
              "      <td>1</td>\n",
              "      <td>1</td>\n",
              "      <td>0</td>\n",
              "      <td>0</td>\n",
              "      <td>1</td>\n",
              "      <td>1</td>\n",
              "      <td>0</td>\n",
              "      <td>0</td>\n",
              "      <td>1</td>\n",
              "      <td>0</td>\n",
              "      <td>1</td>\n",
              "      <td>0</td>\n",
              "      <td>1</td>\n",
              "      <td>0</td>\n",
              "      <td>1</td>\n",
              "      <td>1</td>\n",
              "      <td>0</td>\n",
              "      <td>0</td>\n",
              "      <td>1</td>\n",
              "      <td>5.000000e-01</td>\n",
              "      <td>-0.866025</td>\n",
              "      <td>-2.449294e-16</td>\n",
              "      <td>1.000000</td>\n",
              "      <td>0.866025</td>\n",
              "      <td>-0.5</td>\n",
              "    </tr>\n",
              "  </tbody>\n",
              "</table>\n",
              "</div>\n",
              "      <button class=\"colab-df-convert\" onclick=\"convertToInteractive('df-d5c9ba58-5206-4566-b7f9-0493d7e1badb')\"\n",
              "              title=\"Convert this dataframe to an interactive table.\"\n",
              "              style=\"display:none;\">\n",
              "        \n",
              "  <svg xmlns=\"http://www.w3.org/2000/svg\" height=\"24px\"viewBox=\"0 0 24 24\"\n",
              "       width=\"24px\">\n",
              "    <path d=\"M0 0h24v24H0V0z\" fill=\"none\"/>\n",
              "    <path d=\"M18.56 5.44l.94 2.06.94-2.06 2.06-.94-2.06-.94-.94-2.06-.94 2.06-2.06.94zm-11 1L8.5 8.5l.94-2.06 2.06-.94-2.06-.94L8.5 2.5l-.94 2.06-2.06.94zm10 10l.94 2.06.94-2.06 2.06-.94-2.06-.94-.94-2.06-.94 2.06-2.06.94z\"/><path d=\"M17.41 7.96l-1.37-1.37c-.4-.4-.92-.59-1.43-.59-.52 0-1.04.2-1.43.59L10.3 9.45l-7.72 7.72c-.78.78-.78 2.05 0 2.83L4 21.41c.39.39.9.59 1.41.59.51 0 1.02-.2 1.41-.59l7.78-7.78 2.81-2.81c.8-.78.8-2.07 0-2.86zM5.41 20L4 18.59l7.72-7.72 1.47 1.35L5.41 20z\"/>\n",
              "  </svg>\n",
              "      </button>\n",
              "      \n",
              "  <style>\n",
              "    .colab-df-container {\n",
              "      display:flex;\n",
              "      flex-wrap:wrap;\n",
              "      gap: 12px;\n",
              "    }\n",
              "\n",
              "    .colab-df-convert {\n",
              "      background-color: #E8F0FE;\n",
              "      border: none;\n",
              "      border-radius: 50%;\n",
              "      cursor: pointer;\n",
              "      display: none;\n",
              "      fill: #1967D2;\n",
              "      height: 32px;\n",
              "      padding: 0 0 0 0;\n",
              "      width: 32px;\n",
              "    }\n",
              "\n",
              "    .colab-df-convert:hover {\n",
              "      background-color: #E2EBFA;\n",
              "      box-shadow: 0px 1px 2px rgba(60, 64, 67, 0.3), 0px 1px 3px 1px rgba(60, 64, 67, 0.15);\n",
              "      fill: #174EA6;\n",
              "    }\n",
              "\n",
              "    [theme=dark] .colab-df-convert {\n",
              "      background-color: #3B4455;\n",
              "      fill: #D2E3FC;\n",
              "    }\n",
              "\n",
              "    [theme=dark] .colab-df-convert:hover {\n",
              "      background-color: #434B5C;\n",
              "      box-shadow: 0px 1px 3px 1px rgba(0, 0, 0, 0.15);\n",
              "      filter: drop-shadow(0px 1px 2px rgba(0, 0, 0, 0.3));\n",
              "      fill: #FFFFFF;\n",
              "    }\n",
              "  </style>\n",
              "\n",
              "      <script>\n",
              "        const buttonEl =\n",
              "          document.querySelector('#df-d5c9ba58-5206-4566-b7f9-0493d7e1badb button.colab-df-convert');\n",
              "        buttonEl.style.display =\n",
              "          google.colab.kernel.accessAllowed ? 'block' : 'none';\n",
              "\n",
              "        async function convertToInteractive(key) {\n",
              "          const element = document.querySelector('#df-d5c9ba58-5206-4566-b7f9-0493d7e1badb');\n",
              "          const dataTable =\n",
              "            await google.colab.kernel.invokeFunction('convertToInteractive',\n",
              "                                                     [key], {});\n",
              "          if (!dataTable) return;\n",
              "\n",
              "          const docLinkHtml = 'Like what you see? Visit the ' +\n",
              "            '<a target=\"_blank\" href=https://colab.research.google.com/notebooks/data_table.ipynb>data table notebook</a>'\n",
              "            + ' to learn more about interactive tables.';\n",
              "          element.innerHTML = '';\n",
              "          dataTable['output_type'] = 'display_data';\n",
              "          await google.colab.output.renderOutput(dataTable, element);\n",
              "          const docLink = document.createElement('div');\n",
              "          docLink.innerHTML = docLinkHtml;\n",
              "          element.appendChild(docLink);\n",
              "        }\n",
              "      </script>\n",
              "    </div>\n",
              "  </div>\n",
              "  "
            ],
            "text/plain": [
              "             step  type    amount  oldbalanceOrg  newbalanceOrig  \\\n",
              "1186641 -0.601124     0  0.574169      -0.085686        1.331044   \n",
              "1199598 -0.595506     1  0.058952       0.161218        0.000000   \n",
              "1185636 -0.601124     1  0.720079       0.068401        0.000000   \n",
              "6211424  1.960674     4  3.187331       0.105437        0.000000   \n",
              "4452703  0.471910     3 -0.079990       0.146302        0.000000   \n",
              "\n",
              "             nameDest  oldbalanceDest  newbalanceDest  day_of_month  \\\n",
              "1186641  4.222423e-06        2.582174        1.809906     -0.571429   \n",
              "1199598  1.172895e-06       -0.140862       -0.115441     -0.571429   \n",
              "1185636  6.802793e-06        6.594655        5.921888     -0.571429   \n",
              "6211424  2.814949e-06        2.141447        2.369462      2.142857   \n",
              "4452703  2.345791e-07       -0.140862       -0.193175      0.571429   \n",
              "\n",
              "         week_of_month  isFlaggedFraud_no  isFlaggedFraud_yes  \\\n",
              "1186641           -1.0                  1                   0   \n",
              "1199598           -1.0                  1                   0   \n",
              "1185636           -1.0                  1                   0   \n",
              "6211424            2.0                  1                   0   \n",
              "4452703            0.0                  1                   0   \n",
              "\n",
              "         is_weekend_weekdays  is_weekend_weekend  time_of_day_AM  \\\n",
              "1186641                    1                   0               1   \n",
              "1199598                    1                   0               1   \n",
              "1185636                    1                   0               1   \n",
              "6211424                    1                   0               1   \n",
              "4452703                    0                   1               1   \n",
              "\n",
              "         time_of_day_PM  dest_type_Costumer  dest_type_Merchant  \\\n",
              "1186641               0                   1                   0   \n",
              "1199598               0                   1                   0   \n",
              "1185636               0                   1                   0   \n",
              "6211424               0                   1                   0   \n",
              "4452703               0                   0                   1   \n",
              "\n",
              "         oldbalanceOrg_status_non-zero  oldbalanceOrg_status_zero  \\\n",
              "1186641                              1                          0   \n",
              "1199598                              1                          0   \n",
              "1185636                              1                          0   \n",
              "6211424                              1                          0   \n",
              "4452703                              1                          0   \n",
              "\n",
              "         newbalanceOrig_status_non-zero  newbalanceOrig_status_zero  \\\n",
              "1186641                               1                           0   \n",
              "1199598                               0                           1   \n",
              "1185636                               0                           1   \n",
              "6211424                               0                           1   \n",
              "4452703                               0                           1   \n",
              "\n",
              "         oldbalanceDest_status_non-zero  oldbalanceDest_status_zero  \\\n",
              "1186641                               1                           0   \n",
              "1199598                               0                           1   \n",
              "1185636                               1                           0   \n",
              "6211424                               1                           0   \n",
              "4452703                               0                           1   \n",
              "\n",
              "         newbalanceDest_status_non-zero  newbalanceDest_status_zero  \\\n",
              "1186641                               1                           0   \n",
              "1199598                               1                           0   \n",
              "1185636                               1                           0   \n",
              "6211424                               1                           0   \n",
              "4452703                               0                           1   \n",
              "\n",
              "         is_oldbalanceOrg_higherthan_newbalanceOrig_no  \\\n",
              "1186641                                              1   \n",
              "1199598                                              0   \n",
              "1185636                                              0   \n",
              "6211424                                              0   \n",
              "4452703                                              0   \n",
              "\n",
              "         is_oldbalanceOrg_higherthan_newbalanceOrig_yes  \\\n",
              "1186641                                               0   \n",
              "1199598                                               1   \n",
              "1185636                                               1   \n",
              "6211424                                               1   \n",
              "4452703                                               1   \n",
              "\n",
              "         is_oldbalanceDest_higherthan_newbalanceDest_no  \\\n",
              "1186641                                               0   \n",
              "1199598                                               1   \n",
              "1185636                                               1   \n",
              "6211424                                               1   \n",
              "4452703                                               1   \n",
              "\n",
              "         is_oldbalanceDest_higherthan_newbalanceDest_yes  \\\n",
              "1186641                                                1   \n",
              "1199598                                                0   \n",
              "1185636                                                0   \n",
              "6211424                                                0   \n",
              "4452703                                                0   \n",
              "\n",
              "         transaction_direction_C2C  transaction_direction_C2M  \\\n",
              "1186641                          1                          0   \n",
              "1199598                          1                          0   \n",
              "1185636                          1                          0   \n",
              "6211424                          1                          0   \n",
              "4452703                          0                          1   \n",
              "\n",
              "         hour_of_day_sin  hour_of_day_cos  day_of_week_sin  day_of_week_cos  \\\n",
              "1186641     2.588190e-01        -0.965926    -7.818315e-01         0.623490   \n",
              "1199598     1.224647e-16        -1.000000    -7.818315e-01         0.623490   \n",
              "1185636     2.588190e-01        -0.965926    -7.818315e-01         0.623490   \n",
              "6211424     2.588190e-01        -0.965926    -4.338837e-01        -0.900969   \n",
              "4452703     5.000000e-01        -0.866025    -2.449294e-16         1.000000   \n",
              "\n",
              "         period_of_day_sin  period_of_day_cos  \n",
              "1186641           0.866025               -0.5  \n",
              "1199598           0.866025               -0.5  \n",
              "1185636           0.866025               -0.5  \n",
              "6211424           0.866025               -0.5  \n",
              "4452703           0.866025               -0.5  "
            ]
          },
          "metadata": {},
          "execution_count": 111
        }
      ]
    },
    {
      "cell_type": "code",
      "source": [
        "X_test.head()"
      ],
      "metadata": {
        "colab": {
          "base_uri": "https://localhost:8080/",
          "height": 374
        },
        "id": "2mVInpev_bAz",
        "outputId": "81d7fb63-6dd0-4ad2-aa5a-081f984a4a8b"
      },
      "id": "2mVInpev_bAz",
      "execution_count": 112,
      "outputs": [
        {
          "output_type": "execute_result",
          "data": {
            "text/html": [
              "\n",
              "  <div id=\"df-4b05dd45-9094-4a11-8116-a6b921845344\">\n",
              "    <div class=\"colab-df-container\">\n",
              "      <div>\n",
              "<style scoped>\n",
              "    .dataframe tbody tr th:only-of-type {\n",
              "        vertical-align: middle;\n",
              "    }\n",
              "\n",
              "    .dataframe tbody tr th {\n",
              "        vertical-align: top;\n",
              "    }\n",
              "\n",
              "    .dataframe thead th {\n",
              "        text-align: right;\n",
              "    }\n",
              "</style>\n",
              "<table border=\"1\" class=\"dataframe\">\n",
              "  <thead>\n",
              "    <tr style=\"text-align: right;\">\n",
              "      <th></th>\n",
              "      <th>step</th>\n",
              "      <th>type</th>\n",
              "      <th>amount</th>\n",
              "      <th>oldbalanceOrg</th>\n",
              "      <th>newbalanceOrig</th>\n",
              "      <th>nameDest</th>\n",
              "      <th>oldbalanceDest</th>\n",
              "      <th>newbalanceDest</th>\n",
              "      <th>day_of_month</th>\n",
              "      <th>week_of_month</th>\n",
              "      <th>isFlaggedFraud_no</th>\n",
              "      <th>isFlaggedFraud_yes</th>\n",
              "      <th>is_weekend_weekdays</th>\n",
              "      <th>is_weekend_weekend</th>\n",
              "      <th>time_of_day_AM</th>\n",
              "      <th>time_of_day_PM</th>\n",
              "      <th>dest_type_Costumer</th>\n",
              "      <th>dest_type_Merchant</th>\n",
              "      <th>oldbalanceOrg_status_non-zero</th>\n",
              "      <th>oldbalanceOrg_status_zero</th>\n",
              "      <th>newbalanceOrig_status_non-zero</th>\n",
              "      <th>newbalanceOrig_status_zero</th>\n",
              "      <th>oldbalanceDest_status_non-zero</th>\n",
              "      <th>oldbalanceDest_status_zero</th>\n",
              "      <th>newbalanceDest_status_non-zero</th>\n",
              "      <th>newbalanceDest_status_zero</th>\n",
              "      <th>is_oldbalanceOrg_higherthan_newbalanceOrig_no</th>\n",
              "      <th>is_oldbalanceOrg_higherthan_newbalanceOrig_yes</th>\n",
              "      <th>is_oldbalanceDest_higherthan_newbalanceDest_no</th>\n",
              "      <th>is_oldbalanceDest_higherthan_newbalanceDest_yes</th>\n",
              "      <th>transaction_direction_C2C</th>\n",
              "      <th>transaction_direction_C2M</th>\n",
              "      <th>hour_of_day_sin</th>\n",
              "      <th>hour_of_day_cos</th>\n",
              "      <th>day_of_week_sin</th>\n",
              "      <th>day_of_week_cos</th>\n",
              "      <th>period_of_day_sin</th>\n",
              "      <th>period_of_day_cos</th>\n",
              "    </tr>\n",
              "  </thead>\n",
              "  <tbody>\n",
              "    <tr>\n",
              "      <th>3737323</th>\n",
              "      <td>0.219101</td>\n",
              "      <td>0</td>\n",
              "      <td>1.307560</td>\n",
              "      <td>0.062326</td>\n",
              "      <td>2.434223</td>\n",
              "      <td>1.428799e-06</td>\n",
              "      <td>0.339346</td>\n",
              "      <td>-0.083202</td>\n",
              "      <td>0.285714</td>\n",
              "      <td>0.0</td>\n",
              "      <td>1</td>\n",
              "      <td>0</td>\n",
              "      <td>1</td>\n",
              "      <td>0</td>\n",
              "      <td>0</td>\n",
              "      <td>1</td>\n",
              "      <td>1</td>\n",
              "      <td>0</td>\n",
              "      <td>1</td>\n",
              "      <td>0</td>\n",
              "      <td>1</td>\n",
              "      <td>0</td>\n",
              "      <td>1</td>\n",
              "      <td>0</td>\n",
              "      <td>1</td>\n",
              "      <td>0</td>\n",
              "      <td>1</td>\n",
              "      <td>0</td>\n",
              "      <td>0</td>\n",
              "      <td>1</td>\n",
              "      <td>1</td>\n",
              "      <td>0</td>\n",
              "      <td>-0.258819</td>\n",
              "      <td>-9.659258e-01</td>\n",
              "      <td>-0.974928</td>\n",
              "      <td>-0.222521</td>\n",
              "      <td>-0.866025</td>\n",
              "      <td>-0.5</td>\n",
              "    </tr>\n",
              "    <tr>\n",
              "      <th>264914</th>\n",
              "      <td>-1.258427</td>\n",
              "      <td>3</td>\n",
              "      <td>-0.323712</td>\n",
              "      <td>0.150876</td>\n",
              "      <td>0.129814</td>\n",
              "      <td>4.762665e-07</td>\n",
              "      <td>-0.140862</td>\n",
              "      <td>-0.193175</td>\n",
              "      <td>-1.285714</td>\n",
              "      <td>-1.0</td>\n",
              "      <td>1</td>\n",
              "      <td>0</td>\n",
              "      <td>0</td>\n",
              "      <td>1</td>\n",
              "      <td>0</td>\n",
              "      <td>1</td>\n",
              "      <td>0</td>\n",
              "      <td>1</td>\n",
              "      <td>1</td>\n",
              "      <td>0</td>\n",
              "      <td>1</td>\n",
              "      <td>0</td>\n",
              "      <td>0</td>\n",
              "      <td>1</td>\n",
              "      <td>0</td>\n",
              "      <td>1</td>\n",
              "      <td>0</td>\n",
              "      <td>1</td>\n",
              "      <td>1</td>\n",
              "      <td>0</td>\n",
              "      <td>0</td>\n",
              "      <td>1</td>\n",
              "      <td>-0.500000</td>\n",
              "      <td>-8.660254e-01</td>\n",
              "      <td>0.781831</td>\n",
              "      <td>0.623490</td>\n",
              "      <td>-0.866025</td>\n",
              "      <td>-0.5</td>\n",
              "    </tr>\n",
              "    <tr>\n",
              "      <th>85647</th>\n",
              "      <td>-1.286517</td>\n",
              "      <td>0</td>\n",
              "      <td>0.396330</td>\n",
              "      <td>0.861020</td>\n",
              "      <td>1.794744</td>\n",
              "      <td>5.238931e-06</td>\n",
              "      <td>0.072805</td>\n",
              "      <td>-0.149043</td>\n",
              "      <td>-1.285714</td>\n",
              "      <td>-1.0</td>\n",
              "      <td>1</td>\n",
              "      <td>0</td>\n",
              "      <td>0</td>\n",
              "      <td>1</td>\n",
              "      <td>1</td>\n",
              "      <td>0</td>\n",
              "      <td>1</td>\n",
              "      <td>0</td>\n",
              "      <td>1</td>\n",
              "      <td>0</td>\n",
              "      <td>1</td>\n",
              "      <td>0</td>\n",
              "      <td>1</td>\n",
              "      <td>0</td>\n",
              "      <td>1</td>\n",
              "      <td>0</td>\n",
              "      <td>1</td>\n",
              "      <td>0</td>\n",
              "      <td>0</td>\n",
              "      <td>1</td>\n",
              "      <td>1</td>\n",
              "      <td>0</td>\n",
              "      <td>0.707107</td>\n",
              "      <td>-7.071068e-01</td>\n",
              "      <td>0.781831</td>\n",
              "      <td>0.623490</td>\n",
              "      <td>0.866025</td>\n",
              "      <td>-0.5</td>\n",
              "    </tr>\n",
              "    <tr>\n",
              "      <th>5899326</th>\n",
              "      <td>0.921348</td>\n",
              "      <td>4</td>\n",
              "      <td>7.562571</td>\n",
              "      <td>-0.132085</td>\n",
              "      <td>0.000000</td>\n",
              "      <td>5.715197e-06</td>\n",
              "      <td>3.253943</td>\n",
              "      <td>4.081656</td>\n",
              "      <td>1.000000</td>\n",
              "      <td>1.0</td>\n",
              "      <td>1</td>\n",
              "      <td>0</td>\n",
              "      <td>1</td>\n",
              "      <td>0</td>\n",
              "      <td>0</td>\n",
              "      <td>1</td>\n",
              "      <td>1</td>\n",
              "      <td>0</td>\n",
              "      <td>0</td>\n",
              "      <td>1</td>\n",
              "      <td>0</td>\n",
              "      <td>1</td>\n",
              "      <td>1</td>\n",
              "      <td>0</td>\n",
              "      <td>1</td>\n",
              "      <td>0</td>\n",
              "      <td>1</td>\n",
              "      <td>0</td>\n",
              "      <td>1</td>\n",
              "      <td>0</td>\n",
              "      <td>1</td>\n",
              "      <td>0</td>\n",
              "      <td>-1.000000</td>\n",
              "      <td>-1.836970e-16</td>\n",
              "      <td>0.433884</td>\n",
              "      <td>-0.900969</td>\n",
              "      <td>-0.866025</td>\n",
              "      <td>-0.5</td>\n",
              "    </tr>\n",
              "    <tr>\n",
              "      <th>2544263</th>\n",
              "      <td>-0.185393</td>\n",
              "      <td>0</td>\n",
              "      <td>0.016936</td>\n",
              "      <td>27.086388</td>\n",
              "      <td>20.796885</td>\n",
              "      <td>1.905066e-06</td>\n",
              "      <td>0.300500</td>\n",
              "      <td>0.110689</td>\n",
              "      <td>-0.142857</td>\n",
              "      <td>0.0</td>\n",
              "      <td>1</td>\n",
              "      <td>0</td>\n",
              "      <td>1</td>\n",
              "      <td>0</td>\n",
              "      <td>0</td>\n",
              "      <td>1</td>\n",
              "      <td>1</td>\n",
              "      <td>0</td>\n",
              "      <td>1</td>\n",
              "      <td>0</td>\n",
              "      <td>1</td>\n",
              "      <td>0</td>\n",
              "      <td>1</td>\n",
              "      <td>0</td>\n",
              "      <td>1</td>\n",
              "      <td>0</td>\n",
              "      <td>1</td>\n",
              "      <td>0</td>\n",
              "      <td>0</td>\n",
              "      <td>1</td>\n",
              "      <td>1</td>\n",
              "      <td>0</td>\n",
              "      <td>-0.258819</td>\n",
              "      <td>-9.659258e-01</td>\n",
              "      <td>0.974928</td>\n",
              "      <td>-0.222521</td>\n",
              "      <td>-0.866025</td>\n",
              "      <td>-0.5</td>\n",
              "    </tr>\n",
              "  </tbody>\n",
              "</table>\n",
              "</div>\n",
              "      <button class=\"colab-df-convert\" onclick=\"convertToInteractive('df-4b05dd45-9094-4a11-8116-a6b921845344')\"\n",
              "              title=\"Convert this dataframe to an interactive table.\"\n",
              "              style=\"display:none;\">\n",
              "        \n",
              "  <svg xmlns=\"http://www.w3.org/2000/svg\" height=\"24px\"viewBox=\"0 0 24 24\"\n",
              "       width=\"24px\">\n",
              "    <path d=\"M0 0h24v24H0V0z\" fill=\"none\"/>\n",
              "    <path d=\"M18.56 5.44l.94 2.06.94-2.06 2.06-.94-2.06-.94-.94-2.06-.94 2.06-2.06.94zm-11 1L8.5 8.5l.94-2.06 2.06-.94-2.06-.94L8.5 2.5l-.94 2.06-2.06.94zm10 10l.94 2.06.94-2.06 2.06-.94-2.06-.94-.94-2.06-.94 2.06-2.06.94z\"/><path d=\"M17.41 7.96l-1.37-1.37c-.4-.4-.92-.59-1.43-.59-.52 0-1.04.2-1.43.59L10.3 9.45l-7.72 7.72c-.78.78-.78 2.05 0 2.83L4 21.41c.39.39.9.59 1.41.59.51 0 1.02-.2 1.41-.59l7.78-7.78 2.81-2.81c.8-.78.8-2.07 0-2.86zM5.41 20L4 18.59l7.72-7.72 1.47 1.35L5.41 20z\"/>\n",
              "  </svg>\n",
              "      </button>\n",
              "      \n",
              "  <style>\n",
              "    .colab-df-container {\n",
              "      display:flex;\n",
              "      flex-wrap:wrap;\n",
              "      gap: 12px;\n",
              "    }\n",
              "\n",
              "    .colab-df-convert {\n",
              "      background-color: #E8F0FE;\n",
              "      border: none;\n",
              "      border-radius: 50%;\n",
              "      cursor: pointer;\n",
              "      display: none;\n",
              "      fill: #1967D2;\n",
              "      height: 32px;\n",
              "      padding: 0 0 0 0;\n",
              "      width: 32px;\n",
              "    }\n",
              "\n",
              "    .colab-df-convert:hover {\n",
              "      background-color: #E2EBFA;\n",
              "      box-shadow: 0px 1px 2px rgba(60, 64, 67, 0.3), 0px 1px 3px 1px rgba(60, 64, 67, 0.15);\n",
              "      fill: #174EA6;\n",
              "    }\n",
              "\n",
              "    [theme=dark] .colab-df-convert {\n",
              "      background-color: #3B4455;\n",
              "      fill: #D2E3FC;\n",
              "    }\n",
              "\n",
              "    [theme=dark] .colab-df-convert:hover {\n",
              "      background-color: #434B5C;\n",
              "      box-shadow: 0px 1px 3px 1px rgba(0, 0, 0, 0.15);\n",
              "      filter: drop-shadow(0px 1px 2px rgba(0, 0, 0, 0.3));\n",
              "      fill: #FFFFFF;\n",
              "    }\n",
              "  </style>\n",
              "\n",
              "      <script>\n",
              "        const buttonEl =\n",
              "          document.querySelector('#df-4b05dd45-9094-4a11-8116-a6b921845344 button.colab-df-convert');\n",
              "        buttonEl.style.display =\n",
              "          google.colab.kernel.accessAllowed ? 'block' : 'none';\n",
              "\n",
              "        async function convertToInteractive(key) {\n",
              "          const element = document.querySelector('#df-4b05dd45-9094-4a11-8116-a6b921845344');\n",
              "          const dataTable =\n",
              "            await google.colab.kernel.invokeFunction('convertToInteractive',\n",
              "                                                     [key], {});\n",
              "          if (!dataTable) return;\n",
              "\n",
              "          const docLinkHtml = 'Like what you see? Visit the ' +\n",
              "            '<a target=\"_blank\" href=https://colab.research.google.com/notebooks/data_table.ipynb>data table notebook</a>'\n",
              "            + ' to learn more about interactive tables.';\n",
              "          element.innerHTML = '';\n",
              "          dataTable['output_type'] = 'display_data';\n",
              "          await google.colab.output.renderOutput(dataTable, element);\n",
              "          const docLink = document.createElement('div');\n",
              "          docLink.innerHTML = docLinkHtml;\n",
              "          element.appendChild(docLink);\n",
              "        }\n",
              "      </script>\n",
              "    </div>\n",
              "  </div>\n",
              "  "
            ],
            "text/plain": [
              "             step  type    amount  oldbalanceOrg  newbalanceOrig  \\\n",
              "3737323  0.219101     0  1.307560       0.062326        2.434223   \n",
              "264914  -1.258427     3 -0.323712       0.150876        0.129814   \n",
              "85647   -1.286517     0  0.396330       0.861020        1.794744   \n",
              "5899326  0.921348     4  7.562571      -0.132085        0.000000   \n",
              "2544263 -0.185393     0  0.016936      27.086388       20.796885   \n",
              "\n",
              "             nameDest  oldbalanceDest  newbalanceDest  day_of_month  \\\n",
              "3737323  1.428799e-06        0.339346       -0.083202      0.285714   \n",
              "264914   4.762665e-07       -0.140862       -0.193175     -1.285714   \n",
              "85647    5.238931e-06        0.072805       -0.149043     -1.285714   \n",
              "5899326  5.715197e-06        3.253943        4.081656      1.000000   \n",
              "2544263  1.905066e-06        0.300500        0.110689     -0.142857   \n",
              "\n",
              "         week_of_month  isFlaggedFraud_no  isFlaggedFraud_yes  \\\n",
              "3737323            0.0                  1                   0   \n",
              "264914            -1.0                  1                   0   \n",
              "85647             -1.0                  1                   0   \n",
              "5899326            1.0                  1                   0   \n",
              "2544263            0.0                  1                   0   \n",
              "\n",
              "         is_weekend_weekdays  is_weekend_weekend  time_of_day_AM  \\\n",
              "3737323                    1                   0               0   \n",
              "264914                     0                   1               0   \n",
              "85647                      0                   1               1   \n",
              "5899326                    1                   0               0   \n",
              "2544263                    1                   0               0   \n",
              "\n",
              "         time_of_day_PM  dest_type_Costumer  dest_type_Merchant  \\\n",
              "3737323               1                   1                   0   \n",
              "264914                1                   0                   1   \n",
              "85647                 0                   1                   0   \n",
              "5899326               1                   1                   0   \n",
              "2544263               1                   1                   0   \n",
              "\n",
              "         oldbalanceOrg_status_non-zero  oldbalanceOrg_status_zero  \\\n",
              "3737323                              1                          0   \n",
              "264914                               1                          0   \n",
              "85647                                1                          0   \n",
              "5899326                              0                          1   \n",
              "2544263                              1                          0   \n",
              "\n",
              "         newbalanceOrig_status_non-zero  newbalanceOrig_status_zero  \\\n",
              "3737323                               1                           0   \n",
              "264914                                1                           0   \n",
              "85647                                 1                           0   \n",
              "5899326                               0                           1   \n",
              "2544263                               1                           0   \n",
              "\n",
              "         oldbalanceDest_status_non-zero  oldbalanceDest_status_zero  \\\n",
              "3737323                               1                           0   \n",
              "264914                                0                           1   \n",
              "85647                                 1                           0   \n",
              "5899326                               1                           0   \n",
              "2544263                               1                           0   \n",
              "\n",
              "         newbalanceDest_status_non-zero  newbalanceDest_status_zero  \\\n",
              "3737323                               1                           0   \n",
              "264914                                0                           1   \n",
              "85647                                 1                           0   \n",
              "5899326                               1                           0   \n",
              "2544263                               1                           0   \n",
              "\n",
              "         is_oldbalanceOrg_higherthan_newbalanceOrig_no  \\\n",
              "3737323                                              1   \n",
              "264914                                               0   \n",
              "85647                                                1   \n",
              "5899326                                              1   \n",
              "2544263                                              1   \n",
              "\n",
              "         is_oldbalanceOrg_higherthan_newbalanceOrig_yes  \\\n",
              "3737323                                               0   \n",
              "264914                                                1   \n",
              "85647                                                 0   \n",
              "5899326                                               0   \n",
              "2544263                                               0   \n",
              "\n",
              "         is_oldbalanceDest_higherthan_newbalanceDest_no  \\\n",
              "3737323                                               0   \n",
              "264914                                                1   \n",
              "85647                                                 0   \n",
              "5899326                                               1   \n",
              "2544263                                               0   \n",
              "\n",
              "         is_oldbalanceDest_higherthan_newbalanceDest_yes  \\\n",
              "3737323                                                1   \n",
              "264914                                                 0   \n",
              "85647                                                  1   \n",
              "5899326                                                0   \n",
              "2544263                                                1   \n",
              "\n",
              "         transaction_direction_C2C  transaction_direction_C2M  \\\n",
              "3737323                          1                          0   \n",
              "264914                           0                          1   \n",
              "85647                            1                          0   \n",
              "5899326                          1                          0   \n",
              "2544263                          1                          0   \n",
              "\n",
              "         hour_of_day_sin  hour_of_day_cos  day_of_week_sin  day_of_week_cos  \\\n",
              "3737323        -0.258819    -9.659258e-01        -0.974928        -0.222521   \n",
              "264914         -0.500000    -8.660254e-01         0.781831         0.623490   \n",
              "85647           0.707107    -7.071068e-01         0.781831         0.623490   \n",
              "5899326        -1.000000    -1.836970e-16         0.433884        -0.900969   \n",
              "2544263        -0.258819    -9.659258e-01         0.974928        -0.222521   \n",
              "\n",
              "         period_of_day_sin  period_of_day_cos  \n",
              "3737323          -0.866025               -0.5  \n",
              "264914           -0.866025               -0.5  \n",
              "85647             0.866025               -0.5  \n",
              "5899326          -0.866025               -0.5  \n",
              "2544263          -0.866025               -0.5  "
            ]
          },
          "metadata": {},
          "execution_count": 112
        }
      ]
    },
    {
      "cell_type": "code",
      "source": [
        "sns.scatterplot(x=X_train['hour_of_day_sin'], y=X_train['hour_of_day_cos'])"
      ],
      "metadata": {
        "colab": {
          "base_uri": "https://localhost:8080/",
          "height": 297
        },
        "id": "NhREsfJTPCYp",
        "outputId": "2cf150e1-855a-4395-aa40-ef11c8c2d015"
      },
      "id": "NhREsfJTPCYp",
      "execution_count": 113,
      "outputs": [
        {
          "output_type": "execute_result",
          "data": {
            "text/plain": [
              "<matplotlib.axes._subplots.AxesSubplot at 0x7f4a7a20f310>"
            ]
          },
          "metadata": {},
          "execution_count": 113
        },
        {
          "output_type": "display_data",
          "data": {
            "image/png": "[encoded data removed]",
            "text/plain": [
              "<Figure size 432x288 with 1 Axes>"
            ]
          },
          "metadata": {
            "needs_background": "light"
          }
        }
      ]
    },
    {
      "cell_type": "code",
      "source": [
        "sns.scatterplot(x=X_train['day_of_week_sin'], y=X_train['day_of_week_cos'])"
      ],
      "metadata": {
        "colab": {
          "base_uri": "https://localhost:8080/",
          "height": 297
        },
        "id": "ApyNl262Wxm5",
        "outputId": "fd905c1f-c8f2-47d6-83ba-82376a76e768"
      },
      "id": "ApyNl262Wxm5",
      "execution_count": 114,
      "outputs": [
        {
          "output_type": "execute_result",
          "data": {
            "text/plain": [
              "<matplotlib.axes._subplots.AxesSubplot at 0x7f4a79f211d0>"
            ]
          },
          "metadata": {},
          "execution_count": 114
        },
        {
          "output_type": "display_data",
          "data": {
            "image/png": "[encoded data removed]",
            "text/plain": [
              "<Figure size 432x288 with 1 Axes>"
            ]
          },
          "metadata": {
            "needs_background": "light"
          }
        }
      ]
    },
    {
      "cell_type": "code",
      "source": [
        "sns.scatterplot(x=X_train['period_of_day_sin'], y=X_train['period_of_day_cos'])"
      ],
      "metadata": {
        "colab": {
          "base_uri": "https://localhost:8080/",
          "height": 297
        },
        "id": "Sm6YIzE1Wxp6",
        "outputId": "49ae97b4-e9dc-41db-b1a7-b0ed41502d0c"
      },
      "id": "Sm6YIzE1Wxp6",
      "execution_count": 115,
      "outputs": [
        {
          "output_type": "execute_result",
          "data": {
            "text/plain": [
              "<matplotlib.axes._subplots.AxesSubplot at 0x7f4a7a0ddd10>"
            ]
          },
          "metadata": {},
          "execution_count": 115
        },
        {
          "output_type": "display_data",
          "data": {
            "image/png": "[encoded data removed]",
            "text/plain": [
              "<Figure size 432x288 with 1 Axes>"
            ]
          },
          "metadata": {
            "needs_background": "light"
          }
        }
      ]
    },
    {
      "cell_type": "markdown",
      "source": [
        "Checkpoint"
      ],
      "metadata": {
        "id": "-OP39gWmPKvu"
      },
      "id": "-OP39gWmPKvu"
    },
    {
      "cell_type": "code",
      "source": [
        "# saving datasets currently state\n",
        "\n",
        "# X_train\n",
        "pickle.dump(X_train, open('/content/gdrive/Othercomputers/Meu modelo Laptop/Doutorado - v2020/Pós Ciência de Dados/TCC/TCC Fraud/X_train.pkl', 'wb'))\n",
        "\n",
        "# y_train\n",
        "pickle.dump(y_train, open('/content/gdrive/Othercomputers/Meu modelo Laptop/Doutorado - v2020/Pós Ciência de Dados/TCC/TCC Fraud/y_train.pkl', 'wb'))\n",
        "\n",
        "# X_test\n",
        "pickle.dump(X_test, open('/content/gdrive/Othercomputers/Meu modelo Laptop/Doutorado - v2020/Pós Ciência de Dados/TCC/TCC Fraud/X_test.pkl', 'wb'))\n",
        "\n",
        "# y_test\n",
        "pickle.dump(y_test, open('/content/gdrive/Othercomputers/Meu modelo Laptop/Doutorado - v2020/Pós Ciência de Dados/TCC/TCC Fraud/y_test.pkl', 'wb'))\n"
      ],
      "metadata": {
        "id": "_6mAb6PQPNlk"
      },
      "id": "_6mAb6PQPNlk",
      "execution_count": 117,
      "outputs": []
    },
    {
      "cell_type": "markdown",
      "metadata": {
        "heading_collapsed": true,
        "id": "JM-x4_NbYIZv"
      },
      "source": [
        "# 6- Feature Selection"
      ],
      "id": "JM-x4_NbYIZv"
    },
    {
      "cell_type": "code",
      "source": [
        "from google.colab import drive \n",
        "\n",
        "link = 'https://drive.google.com/file/d/1CE6zTV3LBRHo_TSaw8SQ47owkcaPPfhw/view'\n",
        "  \n",
        "drive.mount('/content/gdrive')"
      ],
      "metadata": {
        "colab": {
          "base_uri": "https://localhost:8080/"
        },
        "outputId": "e1bd09d3-f627-4cfa-9529-ee187b409c67",
        "id": "fGpgJJORTp92"
      },
      "execution_count": 4,
      "outputs": [
        {
          "output_type": "stream",
          "name": "stdout",
          "text": [
            "Mounted at /content/gdrive\n"
          ]
        }
      ],
      "id": "fGpgJJORTp92"
    },
    {
      "cell_type": "code",
      "source": [
        "# Loading stored scaled train dataset\n",
        "\n",
        "X_train = pickle.load(open('/content/gdrive/Othercomputers/Meu modelo Laptop/Doutorado - v2020/Pós Ciência de Dados/TCC/TCC Fraud/X_train.pkl', 'rb'))\n",
        "\n",
        "y_train = pickle.load(open('/content/gdrive/Othercomputers/Meu modelo Laptop/Doutorado - v2020/Pós Ciência de Dados/TCC/TCC Fraud/y_train.pkl', 'rb'))\n"
      ],
      "metadata": {
        "id": "JarTZTn_Slfl"
      },
      "id": "JarTZTn_Slfl",
      "execution_count": 5,
      "outputs": []
    },
    {
      "cell_type": "markdown",
      "source": [
        "## 6.1 Boruta algorithm"
      ],
      "metadata": {
        "id": "0DhC9xT9HWN5"
      },
      "id": "0DhC9xT9HWN5"
    },
    {
      "cell_type": "code",
      "source": [
        "# Salvar o df scalado em .csv, limpar a memória e carregar só ele para fazer o Boruta"
      ],
      "metadata": {
        "id": "3Fg20912Koi6"
      },
      "id": "3Fg20912Koi6",
      "execution_count": null,
      "outputs": []
    },
    {
      "cell_type": "code",
      "source": [
        "# Converting X and y train to np array\n",
        "\n",
        "#X_train_1_np = X_train.values\n",
        "#y_train_1_np = y_train.values\n",
        "\n",
        "\n",
        "# Instantiating Boruta\n",
        "\n",
        "boruta = BorutaPy(RandomForestClassifier(n_jobs=-1),\n",
        "                  n_estimators='auto',\n",
        "                  verbose=2,random_state=42).fit(X_train.values, y_train.values)"
      ],
      "metadata": {
        "colab": {
          "base_uri": "https://localhost:8080/",
          "height": 235
        },
        "id": "25rbGnTlGQBj",
        "outputId": "f58d36a5-e3dc-4fd5-c90b-91012d45188d"
      },
      "id": "25rbGnTlGQBj",
      "execution_count": 1,
      "outputs": [
        {
          "output_type": "error",
          "ename": "NameError",
          "evalue": "ignored",
          "traceback": [
            "\u001b[0;31m---------------------------------------------------------------------------\u001b[0m",
            "\u001b[0;31mNameError\u001b[0m                                 Traceback (most recent call last)",
            "\u001b[0;32m<ipython-input-1-3978b127c6f5>\u001b[0m in \u001b[0;36m<module>\u001b[0;34m()\u001b[0m\n\u001b[1;32m      7\u001b[0m \u001b[0;31m# Instantiating Boruta\u001b[0m\u001b[0;34m\u001b[0m\u001b[0;34m\u001b[0m\u001b[0;34m\u001b[0m\u001b[0m\n\u001b[1;32m      8\u001b[0m \u001b[0;34m\u001b[0m\u001b[0m\n\u001b[0;32m----> 9\u001b[0;31m boruta = BorutaPy(RandomForestClassifier(n_jobs=-1),\n\u001b[0m\u001b[1;32m     10\u001b[0m                   \u001b[0mn_estimators\u001b[0m\u001b[0;34m=\u001b[0m\u001b[0;34m'auto'\u001b[0m\u001b[0;34m,\u001b[0m\u001b[0;34m\u001b[0m\u001b[0;34m\u001b[0m\u001b[0m\n\u001b[1;32m     11\u001b[0m                   verbose=2,random_state=42).fit(X_train.values, y_train.values)\n",
            "\u001b[0;31mNameError\u001b[0m: name 'BorutaPy' is not defined"
          ]
        }
      ]
    },
    {
      "cell_type": "code",
      "source": [
        ""
      ],
      "metadata": {
        "id": "k_V-r7mbGQHt"
      },
      "id": "k_V-r7mbGQHt",
      "execution_count": null,
      "outputs": []
    },
    {
      "cell_type": "markdown",
      "metadata": {
        "heading_collapsed": true,
        "id": "NPrrd5f5YLy9"
      },
      "source": [
        "# Machine Learning"
      ],
      "id": "NPrrd5f5YLy9"
    },
    {
      "cell_type": "markdown",
      "id": "303d5231",
      "metadata": {
        "heading_collapsed": true,
        "id": "303d5231"
      },
      "source": [
        "# <font face=\"Arial\" color=\"red\">Racunhos</font>"
      ]
    },
    {
      "cell_type": "code",
      "execution_count": null,
      "id": "dbac0e64",
      "metadata": {
        "hidden": true,
        "id": "dbac0e64"
      },
      "outputs": [],
      "source": [
        "# LEMBRETES GERAIS:\n",
        "\n",
        "# eliminar dados duplicados - OK\n",
        "\n",
        "# fazer teste de hipótese (teste t) na análise bivariada - OK\n",
        "\n",
        "\n",
        "# Checklist geral: ==================================================================\n",
        "\n",
        "\n",
        "# Limpeza dos dados - OK\n",
        "\n",
        "# Substituicao de dados faltantes - OK\n",
        "\n",
        "# Criacao de features para modelar o fenomeno - OK\n",
        "\n",
        "# EDA - OK\n",
        "\n",
        "# Desbalanceamento dos dados\n",
        "\n",
        "# Escala dos dados - OK\n",
        "\n",
        "# Selecao de features\n",
        "\n",
        "# Vies do modelo\n",
        "\n",
        "\n",
        "\n",
        "# Limitações do projeto: =============================================================\n",
        "\n",
        "\n",
        "# Dataset de apenas 1 mês (comportamento de fraude de diferentes meses não capturado)\n",
        "\n"
      ]
    },
    {
      "cell_type": "code",
      "source": [
        "# References:\n",
        "\n",
        "# Frequency encoding: https://www.kaggle.com/bhavikapanara/frequency-encoding\n"
      ],
      "metadata": {
        "id": "b-uwhYY517qb"
      },
      "id": "b-uwhYY517qb",
      "execution_count": null,
      "outputs": []
    }
  ],
  "metadata": {
    "kernelspec": {
      "display_name": "Python 3 (ipykernel)",
      "language": "python",
      "name": "python3"
    },
    "language_info": {
      "codemirror_mode": {
        "name": "ipython",
        "version": 3
      },
      "file_extension": ".py",
      "mimetype": "text/x-python",
      "name": "python",
      "nbconvert_exporter": "python",
      "pygments_lexer": "ipython3",
      "version": "3.8.0"
    },
    "colab": {
      "name": "notebook_main.ipynb",
      "provenance": [],
      "collapsed_sections": [
        "9d8f37a6",
        "8d62bb02",
        "556e228c",
        "a3d8bcaf",
        "973356d4",
        "82ab2d45",
        "-5EtM1EtyXR8",
        "L02Li3OexEiw",
        "Ic7FuQ20RgZZ",
        "veXoARn8xmCY",
        "3FAEvmG4xSSe",
        "CSBpn-P1i3rb",
        "oxrKQ07qX7AQ",
        "5cvHZ63J9WPM",
        "I3dWO4gQ9WX7",
        "ljYGgTRo9Wgz",
        "bpNcq4gs9W3Y",
        "JM-x4_NbYIZv",
        "303d5231"
      ],
      "toc_visible": true
    }
  },
  "nbformat": 4,
  "nbformat_minor": 5
}