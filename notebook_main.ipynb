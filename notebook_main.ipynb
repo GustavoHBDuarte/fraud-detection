{
 "cells": [
  {
   "cell_type": "markdown",
   "id": "9d8f37a6",
   "metadata": {
    "heading_collapsed": true,
    "id": "9d8f37a6"
   },
   "source": [
    "# <font face=\"Arial\" color=\"green\">General description</font>"
   ]
  },
  {
   "cell_type": "markdown",
   "id": "ef000509",
   "metadata": {
    "hidden": true,
    "id": "ef000509"
   },
   "source": [
    "<h1 class=\"dataset-header-v2__title\">Synthetic Financial Datasets For Fraud Detection</h1>\n",
    "\n",
    "<div class=\"markdown-converter__text--rendered\"><h1>Context</h1>\n",
    "<p>There is a lack of public available datasets on financial services and specially in the emerging mobile money transactions domain. Financial datasets are important to many researchers and in particular to us performing research in the domain of fraud detection. Part of the problem is the intrinsically private nature of financial transactions, that leads to no publicly available datasets.</p>\n",
    "<p>We present a synthetic dataset generated using the simulator called PaySim as an approach to such a problem. PaySim uses aggregated data from the private dataset to generate a synthetic dataset that resembles the normal operation of transactions and injects malicious behaviour to later evaluate the performance of fraud detection methods.</p>\n",
    "<h1>Content</h1>\n",
    "<p>PaySim simulates mobile money transactions based on a sample of real transactions extracted from one month of financial logs from a mobile money service implemented in an African country. The original logs were provided by a multinational company, who is  the provider of the mobile financial service which is currently running in more than 14 countries all around the world.</p>\n",
    "<p>This synthetic dataset is scaled down 1/4 of the original dataset and it is created just for Kaggle.</p>\n",
    "<h1>Headers</h1>\n",
    "<p>This is a sample of 1 row with headers explanation:</p>\n",
    "<p>1,PAYMENT,1060.31,C429214117,1089.0,28.69,M1591654462,0.0,0.0,0,0</p>\n",
    "<p>step - maps a unit of time in the real world. In this case 1 step is 1 hour of time. Total steps 744 (30 days simulation).</p>\n",
    "<p>type - CASH-IN, CASH-OUT, DEBIT, PAYMENT  and TRANSFER.</p>\n",
    "<p>amount -<br>\n",
    " amount of the transaction in local currency.</p>\n",
    "<p>nameOrig - customer who started the transaction</p>\n",
    "<p>oldbalanceOrg - initial balance before the transaction</p>\n",
    "<p>newbalanceOrig - new balance after the transaction</p>\n",
    "<p>nameDest - customer who is the recipient of the transaction</p>\n",
    "<p>oldbalanceDest - initial balance recipient before the transaction. Note that there is not information for customers that start with M (Merchants).</p>\n",
    "<p>newbalanceDest - new balance recipient after the transaction. Note that there is not information for customers that start with M (Merchants).</p>\n",
    "<p>isFraud - This is the transactions made by the fraudulent agents inside the simulation. In this specific dataset the fraudulent behavior of the agents aims to profit by taking control or customers accounts and try to empty the funds by transferring to another account and then cashing out of the system.</p>\n",
    "<p>isFlaggedFraud - The business model aims to control massive transfers from one account to another and flags illegal attempts. An illegal attempt in this dataset is an attempt to transfer more than 200.000 in a single transaction.</p>\n",
    "<h1>Past Research</h1>\n",
    "<p>There are 5 similar files that contain the run of 5 different scenarios. These files are better explained at my PhD thesis chapter 7 (PhD Thesis Available here <a rel=\"noreferrer nofollow\" href=\"http://urn.kb.se/resolve?urn=urn:nbn:se:bth-12932)\">http://urn.kb.se/resolve?urn=urn:nbn:se:bth-12932)</a>.</p>\n",
    "<p>We ran PaySim several times using random seeds for 744 steps, representing each hour of one month of real time, which matches the original logs. Each run took around 45 minutes on an i7 intel processor with 16GB of RAM. The final result of a run contains approximately 24 million of financial records divided into the 5 types of categories: CASH-IN, CASH-OUT, DEBIT, PAYMENT  and TRANSFER.</p>\n",
    "<h1>Acknowledgements</h1>\n",
    "<p>This work is part of the research project ”Scalable resource-efficient systems for big data analytics” funded<br>\n",
    "by the Knowledge Foundation (grant: 20140032) in Sweden.</p>\n",
    "<p>Please refer to this dataset using the following citations: </p>\n",
    "<p>PaySim first paper of the simulator:</p>\n",
    "<p>E. A. Lopez-Rojas , A. Elmir, and S. Axelsson. \"PaySim: A financial mobile money simulator for fraud detection\". In: The 28th European Modeling and Simulation Symposium-EMSS, Larnaca, Cyprus. 2016</p></div>\n",
    "\n",
    "\n",
    "https://www.kaggle.com/ealaxi/paysim1"
   ]
  },
  {
   "cell_type": "markdown",
   "id": "8d62bb02",
   "metadata": {
    "heading_collapsed": true,
    "id": "8d62bb02"
   },
   "source": [
    "# <font face=\"Arial\" color=\"green\">Library Imports</font>"
   ]
  },
  {
   "cell_type": "code",
   "execution_count": 1,
   "id": "496f9858",
   "metadata": {
    "ExecuteTime": {
     "end_time": "2022-01-30T02:15:23.870607Z",
     "start_time": "2022-01-30T02:14:52.358948Z"
    },
    "hidden": true,
    "id": "496f9858"
   },
   "outputs": [],
   "source": [
    "import time\n",
    "import warnings\n",
    "import random\n",
    "import pickle\n",
    "import time\n",
    "import pandas                    as pd\n",
    "import numpy                     as np\n",
    "import matplotlib.pyplot         as plt\n",
    "import seaborn                   as sns\n",
    "import scipy.stats               as stats\n",
    "import xgboost                   as xgb\n",
    "\n",
    "from math                        import ceil\n",
    "from math                        import floor\n",
    "from sklearn.model_selection     import train_test_split\n",
    "from sklearn.model_selection     import StratifiedKFold\n",
    "from sklearn.model_selection     import cross_val_score\n",
    "from sklearn.model_selection     import StratifiedKFold\n",
    "from sklearn.model_selection     import RandomizedSearchCV\n",
    "from sklearn.preprocessing       import RobustScaler, LabelEncoder\n",
    "from sklearn.ensemble            import RandomForestClassifier\n",
    "from sklearn.linear_model        import LogisticRegression\n",
    "from sklearn.neighbors           import KNeighborsClassifier\n",
    "from sklearn                     import metrics\n",
    "from boruta                      import BorutaPy\n",
    "\n",
    "from pycorrcat.pycorrcat         import plot_corr, corr_matrix\n",
    "\n",
    "warnings.filterwarnings(\"ignore\")"
   ]
  },
  {
   "cell_type": "markdown",
   "id": "556e228c",
   "metadata": {
    "heading_collapsed": true,
    "id": "556e228c"
   },
   "source": [
    "# <font face=\"Arial\" color=\"green\">Helper functions</font>"
   ]
  },
  {
   "cell_type": "code",
   "execution_count": 2,
   "id": "ac5d74a4",
   "metadata": {
    "ExecuteTime": {
     "end_time": "2022-01-30T02:15:24.007563Z",
     "start_time": "2022-01-30T02:15:23.956967Z"
    },
    "hidden": true,
    "id": "ac5d74a4"
   },
   "outputs": [],
   "source": [
    "def jupyter_settings():\n",
    "    \n",
    "    pd.options.display.max_columns = None   \n",
    "    \n",
    "\n",
    "\n",
    "warnings.filterwarnings(\"ignore\")\n",
    "jupyter_settings()\n",
    "\n",
    "\n",
    "\n",
    "def get_model_metrics(model_name, model, X_train, y_train, X_test, y_test):\n",
    "    \n",
    "    \n",
    "\n",
    "    inst_model = model.fit(X_train, y_train)\n",
    "\n",
    "\n",
    "    y_pred = inst_model.predict(X_test)\n",
    "\n",
    "\n",
    "    # Metrics:\n",
    "\n",
    "\n",
    "\n",
    "    # Accuracy\n",
    "\n",
    "    print('Accuracy: {}\\n'.format(round(metrics.accuracy_score(y_test, y_pred),3)))\n",
    "\n",
    "\n",
    "    # Balanced Accuracy\n",
    "\n",
    "    print('Balanced Accuracy: {}\\n'.format(round(metrics.balanced_accuracy_score(y_test, y_pred),3)))\n",
    "\n",
    "\n",
    "    # AUC ROC\n",
    "\n",
    "\n",
    "    # fpr, tpr, thresholds = metrics.roc_curve(y_test, y_pred, pos_label=1) <- sintax\n",
    "\n",
    "    fpr, tpr, thresholds = metrics.roc_curve(y_test, \n",
    "                                             np.array([i[1] for i in inst_model.predict_proba(X_test)]), \n",
    "                                             pos_label=1)\n",
    "\n",
    "    metrics.auc(fpr, tpr)\n",
    "\n",
    "    print('AUC-ROC: {}\\n'.format(round(metrics.auc(fpr, tpr),3)))\n",
    "\n",
    "\n",
    "    # Classification report\n",
    "\n",
    "    print('Classification report:\\n\\n {}\\n'.format(metrics.classification_report(y_test, y_pred)))\n",
    "\n",
    "\n",
    "    # Gathering metrics for this estimator\n",
    "\n",
    "    inst_model_accuracy = metrics.accuracy_score(y_test, y_pred)\n",
    "\n",
    "    inst_model_bal_accuracy = metrics.balanced_accuracy_score(y_test, y_pred)\n",
    "\n",
    "    inst_model_auc = metrics.auc(fpr, tpr)\n",
    "\n",
    "    inst_model_precision = metrics.precision_score(y_test, y_pred)\n",
    "\n",
    "    inst_model_f1 = metrics.f1_score(y_test, y_pred)\n",
    "\n",
    "    inst_model_recall = metrics.recall_score(y_test, y_pred)\n",
    "    \n",
    "    \n",
    "    \n",
    "    # Getting df\n",
    "    \n",
    "    \n",
    "    df = pd.DataFrame(data=[model_name, inst_model_accuracy,\n",
    "                            inst_model_bal_accuracy, \n",
    "                            inst_model_auc, \n",
    "                            inst_model_precision, \n",
    "                            inst_model_f1, \n",
    "                            inst_model_recall]).transpose()\n",
    "\n",
    "    df.columns = ['Model name', 'Accuracy', 'Balanced Accuracy', 'AUC', 'Precision', 'F1-score', 'Recall']\n",
    "    \n",
    "    return df    "
   ]
  },
  {
   "cell_type": "markdown",
   "id": "a3d8bcaf",
   "metadata": {
    "heading_collapsed": true,
    "id": "a3d8bcaf"
   },
   "source": [
    "# 1 - Data import and basic inspection "
   ]
  },
  {
   "cell_type": "markdown",
   "id": "973356d4",
   "metadata": {
    "heading_collapsed": true,
    "hidden": true,
    "id": "973356d4"
   },
   "source": [
    "## 1.1 data loading and checking"
   ]
  },
  {
   "cell_type": "code",
   "execution_count": 44,
   "id": "5bc0b7c0",
   "metadata": {
    "ExecuteTime": {
     "end_time": "2022-01-29T17:17:04.169108Z",
     "start_time": "2022-01-29T17:16:57.266255Z"
    },
    "colab": {
     "base_uri": "https://localhost:8080/",
     "height": 270
    },
    "hidden": true,
    "id": "5bc0b7c0",
    "outputId": "1f0588c6-2060-4ee3-919d-6162bbaf84e9"
   },
   "outputs": [
    {
     "data": {
      "text/html": [
       "<div>\n",
       "<style scoped>\n",
       "    .dataframe tbody tr th:only-of-type {\n",
       "        vertical-align: middle;\n",
       "    }\n",
       "\n",
       "    .dataframe tbody tr th {\n",
       "        vertical-align: top;\n",
       "    }\n",
       "\n",
       "    .dataframe thead th {\n",
       "        text-align: right;\n",
       "    }\n",
       "</style>\n",
       "<table border=\"1\" class=\"dataframe\">\n",
       "  <thead>\n",
       "    <tr style=\"text-align: right;\">\n",
       "      <th></th>\n",
       "      <th>step</th>\n",
       "      <th>type</th>\n",
       "      <th>amount</th>\n",
       "      <th>nameOrig</th>\n",
       "      <th>oldbalanceOrg</th>\n",
       "      <th>newbalanceOrig</th>\n",
       "      <th>nameDest</th>\n",
       "      <th>oldbalanceDest</th>\n",
       "      <th>newbalanceDest</th>\n",
       "      <th>isFraud</th>\n",
       "      <th>isFlaggedFraud</th>\n",
       "    </tr>\n",
       "  </thead>\n",
       "  <tbody>\n",
       "    <tr>\n",
       "      <th>0</th>\n",
       "      <td>1</td>\n",
       "      <td>PAYMENT</td>\n",
       "      <td>9839.64</td>\n",
       "      <td>C1231006815</td>\n",
       "      <td>170136.0</td>\n",
       "      <td>160296.36</td>\n",
       "      <td>M1979787155</td>\n",
       "      <td>0.0</td>\n",
       "      <td>0.0</td>\n",
       "      <td>0</td>\n",
       "      <td>0</td>\n",
       "    </tr>\n",
       "    <tr>\n",
       "      <th>1</th>\n",
       "      <td>1</td>\n",
       "      <td>PAYMENT</td>\n",
       "      <td>1864.28</td>\n",
       "      <td>C1666544295</td>\n",
       "      <td>21249.0</td>\n",
       "      <td>19384.72</td>\n",
       "      <td>M2044282225</td>\n",
       "      <td>0.0</td>\n",
       "      <td>0.0</td>\n",
       "      <td>0</td>\n",
       "      <td>0</td>\n",
       "    </tr>\n",
       "    <tr>\n",
       "      <th>2</th>\n",
       "      <td>1</td>\n",
       "      <td>TRANSFER</td>\n",
       "      <td>181.00</td>\n",
       "      <td>C1305486145</td>\n",
       "      <td>181.0</td>\n",
       "      <td>0.00</td>\n",
       "      <td>C553264065</td>\n",
       "      <td>0.0</td>\n",
       "      <td>0.0</td>\n",
       "      <td>1</td>\n",
       "      <td>0</td>\n",
       "    </tr>\n",
       "    <tr>\n",
       "      <th>3</th>\n",
       "      <td>1</td>\n",
       "      <td>CASH_OUT</td>\n",
       "      <td>181.00</td>\n",
       "      <td>C840083671</td>\n",
       "      <td>181.0</td>\n",
       "      <td>0.00</td>\n",
       "      <td>C38997010</td>\n",
       "      <td>21182.0</td>\n",
       "      <td>0.0</td>\n",
       "      <td>1</td>\n",
       "      <td>0</td>\n",
       "    </tr>\n",
       "    <tr>\n",
       "      <th>4</th>\n",
       "      <td>1</td>\n",
       "      <td>PAYMENT</td>\n",
       "      <td>11668.14</td>\n",
       "      <td>C2048537720</td>\n",
       "      <td>41554.0</td>\n",
       "      <td>29885.86</td>\n",
       "      <td>M1230701703</td>\n",
       "      <td>0.0</td>\n",
       "      <td>0.0</td>\n",
       "      <td>0</td>\n",
       "      <td>0</td>\n",
       "    </tr>\n",
       "  </tbody>\n",
       "</table>\n",
       "</div>"
      ],
      "text/plain": [
       "   step      type    amount     nameOrig  oldbalanceOrg  newbalanceOrig  \\\n",
       "0     1   PAYMENT   9839.64  C1231006815       170136.0       160296.36   \n",
       "1     1   PAYMENT   1864.28  C1666544295        21249.0        19384.72   \n",
       "2     1  TRANSFER    181.00  C1305486145          181.0            0.00   \n",
       "3     1  CASH_OUT    181.00   C840083671          181.0            0.00   \n",
       "4     1   PAYMENT  11668.14  C2048537720        41554.0        29885.86   \n",
       "\n",
       "      nameDest  oldbalanceDest  newbalanceDest  isFraud  isFlaggedFraud  \n",
       "0  M1979787155             0.0             0.0        0               0  \n",
       "1  M2044282225             0.0             0.0        0               0  \n",
       "2   C553264065             0.0             0.0        1               0  \n",
       "3    C38997010         21182.0             0.0        1               0  \n",
       "4  M1230701703             0.0             0.0        0               0  "
      ]
     },
     "execution_count": 44,
     "metadata": {},
     "output_type": "execute_result"
    }
   ],
   "source": [
    "# Data load\n",
    "\n",
    "df = pd.read_csv('/mnt/d/Gustavo/fraud-detection/PS_20174392719_1491204439457_log.csv')\n",
    "\n",
    "df.head()"
   ]
  },
  {
   "cell_type": "code",
   "execution_count": 45,
   "id": "e04b181b",
   "metadata": {
    "ExecuteTime": {
     "end_time": "2022-01-29T17:17:04.173383Z",
     "start_time": "2022-01-29T17:17:04.170416Z"
    },
    "colab": {
     "base_uri": "https://localhost:8080/"
    },
    "hidden": true,
    "id": "e04b181b",
    "outputId": "d1d528ca-1d46-4fbf-ad59-d46abd41f1db"
   },
   "outputs": [
    {
     "name": "stdout",
     "output_type": "stream",
     "text": [
      "\n",
      "Data dimensions:\n",
      "\n",
      "Number of rows: 6362620\n",
      "Number of columns: 11\n"
     ]
    }
   ],
   "source": [
    "# Data dimensions\n",
    "\n",
    "print('\\nData dimensions:\\n')\n",
    "print('Number of rows: {}'.format(df.shape[0]))\n",
    "print('Number of columns: {}'.format(df.shape[1]))"
   ]
  },
  {
   "cell_type": "code",
   "execution_count": 46,
   "id": "39f122f4",
   "metadata": {
    "ExecuteTime": {
     "end_time": "2022-01-29T17:17:04.182403Z",
     "start_time": "2022-01-29T17:17:04.175194Z"
    },
    "colab": {
     "base_uri": "https://localhost:8080/"
    },
    "hidden": true,
    "id": "39f122f4",
    "outputId": "0b2843d1-f5e2-4bfb-f2c8-ac31a072b453"
   },
   "outputs": [
    {
     "data": {
      "text/plain": [
       "step                int64\n",
       "type               object\n",
       "amount            float64\n",
       "nameOrig           object\n",
       "oldbalanceOrg     float64\n",
       "newbalanceOrig    float64\n",
       "nameDest           object\n",
       "oldbalanceDest    float64\n",
       "newbalanceDest    float64\n",
       "isFraud             int64\n",
       "isFlaggedFraud      int64\n",
       "dtype: object"
      ]
     },
     "execution_count": 46,
     "metadata": {},
     "output_type": "execute_result"
    }
   ],
   "source": [
    "# Checking data types\n",
    "\n",
    "df.dtypes"
   ]
  },
  {
   "cell_type": "code",
   "execution_count": 47,
   "id": "vLDcWDYBHSmh",
   "metadata": {
    "ExecuteTime": {
     "end_time": "2022-01-29T17:17:04.189974Z",
     "start_time": "2022-01-29T17:17:04.183526Z"
    },
    "colab": {
     "base_uri": "https://localhost:8080/"
    },
    "hidden": true,
    "id": "vLDcWDYBHSmh",
    "outputId": "78de3138-70fb-4e34-b952-019af1e8ae76"
   },
   "outputs": [
    {
     "name": "stdout",
     "output_type": "stream",
     "text": [
      "<class 'pandas.core.frame.DataFrame'>\n",
      "RangeIndex: 6362620 entries, 0 to 6362619\n",
      "Data columns (total 11 columns):\n",
      " #   Column          Dtype  \n",
      "---  ------          -----  \n",
      " 0   step            int64  \n",
      " 1   type            object \n",
      " 2   amount          float64\n",
      " 3   nameOrig        object \n",
      " 4   oldbalanceOrg   float64\n",
      " 5   newbalanceOrig  float64\n",
      " 6   nameDest        object \n",
      " 7   oldbalanceDest  float64\n",
      " 8   newbalanceDest  float64\n",
      " 9   isFraud         int64  \n",
      " 10  isFlaggedFraud  int64  \n",
      "dtypes: float64(5), int64(3), object(3)\n",
      "memory usage: 534.0+ MB\n"
     ]
    }
   ],
   "source": [
    "# Checking data info\n",
    "\n",
    "df.info()"
   ]
  },
  {
   "cell_type": "code",
   "execution_count": 48,
   "id": "d8fbcd8e",
   "metadata": {
    "ExecuteTime": {
     "end_time": "2022-01-29T17:17:04.708112Z",
     "start_time": "2022-01-29T17:17:04.191057Z"
    },
    "colab": {
     "base_uri": "https://localhost:8080/"
    },
    "hidden": true,
    "id": "d8fbcd8e",
    "outputId": "a8f17b0d-4c30-419b-9d30-67681fcfd668"
   },
   "outputs": [
    {
     "data": {
      "text/plain": [
       "step              0\n",
       "type              0\n",
       "amount            0\n",
       "nameOrig          0\n",
       "oldbalanceOrg     0\n",
       "newbalanceOrig    0\n",
       "nameDest          0\n",
       "oldbalanceDest    0\n",
       "newbalanceDest    0\n",
       "isFraud           0\n",
       "isFlaggedFraud    0\n",
       "dtype: int64"
      ]
     },
     "execution_count": 48,
     "metadata": {},
     "output_type": "execute_result"
    }
   ],
   "source": [
    "# Checking for NA's\n",
    "\n",
    "df.isna().sum()"
   ]
  },
  {
   "cell_type": "code",
   "execution_count": 49,
   "id": "CovzDAbEAoFm",
   "metadata": {
    "ExecuteTime": {
     "end_time": "2022-01-29T17:17:15.976598Z",
     "start_time": "2022-01-29T17:17:04.709319Z"
    },
    "colab": {
     "base_uri": "https://localhost:8080/"
    },
    "hidden": true,
    "id": "CovzDAbEAoFm",
    "outputId": "ab576c96-4546-4907-a300-0fc60f8dffbc"
   },
   "outputs": [
    {
     "data": {
      "text/plain": [
       "0"
      ]
     },
     "execution_count": 49,
     "metadata": {},
     "output_type": "execute_result"
    }
   ],
   "source": [
    "# Checking for duplicate rows\n",
    "\n",
    "df.duplicated().sum()"
   ]
  },
  {
   "cell_type": "code",
   "execution_count": 50,
   "id": "4ypnmzZfBZVf",
   "metadata": {
    "ExecuteTime": {
     "end_time": "2022-01-29T17:17:27.353730Z",
     "start_time": "2022-01-29T17:17:15.977951Z"
    },
    "colab": {
     "base_uri": "https://localhost:8080/",
     "height": 113
    },
    "hidden": true,
    "id": "4ypnmzZfBZVf",
    "outputId": "7858f8df-5728-4ce5-9155-405df71ede84"
   },
   "outputs": [
    {
     "data": {
      "text/html": [
       "<div>\n",
       "<style scoped>\n",
       "    .dataframe tbody tr th:only-of-type {\n",
       "        vertical-align: middle;\n",
       "    }\n",
       "\n",
       "    .dataframe tbody tr th {\n",
       "        vertical-align: top;\n",
       "    }\n",
       "\n",
       "    .dataframe thead th {\n",
       "        text-align: right;\n",
       "    }\n",
       "</style>\n",
       "<table border=\"1\" class=\"dataframe\">\n",
       "  <thead>\n",
       "    <tr style=\"text-align: right;\">\n",
       "      <th></th>\n",
       "      <th>step</th>\n",
       "      <th>type</th>\n",
       "      <th>amount</th>\n",
       "      <th>nameOrig</th>\n",
       "      <th>oldbalanceOrg</th>\n",
       "      <th>newbalanceOrig</th>\n",
       "      <th>nameDest</th>\n",
       "      <th>oldbalanceDest</th>\n",
       "      <th>newbalanceDest</th>\n",
       "      <th>isFraud</th>\n",
       "      <th>isFlaggedFraud</th>\n",
       "    </tr>\n",
       "  </thead>\n",
       "  <tbody>\n",
       "  </tbody>\n",
       "</table>\n",
       "</div>"
      ],
      "text/plain": [
       "Empty DataFrame\n",
       "Columns: [step, type, amount, nameOrig, oldbalanceOrg, newbalanceOrig, nameDest, oldbalanceDest, newbalanceDest, isFraud, isFlaggedFraud]\n",
       "Index: []"
      ]
     },
     "execution_count": 50,
     "metadata": {},
     "output_type": "execute_result"
    }
   ],
   "source": [
    "df[df.duplicated()]"
   ]
  },
  {
   "cell_type": "code",
   "execution_count": 51,
   "id": "83623264",
   "metadata": {
    "ExecuteTime": {
     "end_time": "2022-01-29T17:17:27.378421Z",
     "start_time": "2022-01-29T17:17:27.355020Z"
    },
    "colab": {
     "base_uri": "https://localhost:8080/"
    },
    "hidden": true,
    "id": "83623264",
    "outputId": "f8012c42-4b2d-44cb-e105-05fb9683acd5"
   },
   "outputs": [
    {
     "data": {
      "text/plain": [
       "0    6354407\n",
       "1       8213\n",
       "Name: isFraud, dtype: int64"
      ]
     },
     "execution_count": 51,
     "metadata": {},
     "output_type": "execute_result"
    }
   ],
   "source": [
    "# Response variable\n",
    "\n",
    "df['isFraud'].value_counts()"
   ]
  },
  {
   "cell_type": "code",
   "execution_count": 52,
   "id": "9f61aa09",
   "metadata": {
    "ExecuteTime": {
     "end_time": "2022-01-29T17:17:27.422816Z",
     "start_time": "2022-01-29T17:17:27.381451Z"
    },
    "colab": {
     "base_uri": "https://localhost:8080/"
    },
    "hidden": true,
    "id": "9f61aa09",
    "outputId": "a3217caa-e841-4f97-f7c9-ad3a4aa0d391"
   },
   "outputs": [
    {
     "name": "stdout",
     "output_type": "stream",
     "text": [
      "Percentage of Non-Fraud transactions: 0.9987091795518198\n",
      "Percentage of Non-Fraud transactions: 0.001290820448180152\n"
     ]
    }
   ],
   "source": [
    "# Response variable - Percentage\n",
    "\n",
    "print('Percentage of Non-Fraud transactions: {}'.format(df['isFraud'].value_counts()[0]/df.shape[0]))\n",
    "print('Percentage of Non-Fraud transactions: {}'.format(df['isFraud'].value_counts()[1]/df.shape[0]))"
   ]
  },
  {
   "cell_type": "markdown",
   "id": "32500af3",
   "metadata": {
    "heading_collapsed": true,
    "hidden": true,
    "id": "32500af3"
   },
   "source": [
    "## 1.2 descriptive statistics"
   ]
  },
  {
   "cell_type": "markdown",
   "id": "Ec58SOonsROB",
   "metadata": {
    "heading_collapsed": true,
    "hidden": true,
    "id": "Ec58SOonsROB"
   },
   "source": [
    "### 1.2.1 descriptive statistics"
   ]
  },
  {
   "cell_type": "code",
   "execution_count": 53,
   "id": "f8b92db5",
   "metadata": {
    "ExecuteTime": {
     "end_time": "2022-01-29T17:17:28.014038Z",
     "start_time": "2022-01-29T17:17:27.424176Z"
    },
    "hidden": true,
    "id": "f8b92db5"
   },
   "outputs": [],
   "source": [
    "# Numerical and categorical attributes\n",
    "\n",
    "num_attrib = df.select_dtypes(include=['int64', 'float64']) # numerical attributes\n",
    "\n",
    "cat_attrib = df.select_dtypes(exclude=['int64', 'float64']) # categorical attributes"
   ]
  },
  {
   "cell_type": "code",
   "execution_count": 54,
   "id": "v0kb_JJIGmDp",
   "metadata": {
    "ExecuteTime": {
     "end_time": "2022-01-29T17:17:32.781039Z",
     "start_time": "2022-01-29T17:17:28.015357Z"
    },
    "colab": {
     "base_uri": "https://localhost:8080/",
     "height": 300
    },
    "hidden": true,
    "id": "v0kb_JJIGmDp",
    "outputId": "247e8b34-cb8d-49b0-9286-e28bd4838d7c"
   },
   "outputs": [
    {
     "data": {
      "text/html": [
       "<div>\n",
       "<style scoped>\n",
       "    .dataframe tbody tr th:only-of-type {\n",
       "        vertical-align: middle;\n",
       "    }\n",
       "\n",
       "    .dataframe tbody tr th {\n",
       "        vertical-align: top;\n",
       "    }\n",
       "\n",
       "    .dataframe thead th {\n",
       "        text-align: right;\n",
       "    }\n",
       "</style>\n",
       "<table border=\"1\" class=\"dataframe\">\n",
       "  <thead>\n",
       "    <tr style=\"text-align: right;\">\n",
       "      <th></th>\n",
       "      <th>min</th>\n",
       "      <th>max</th>\n",
       "      <th>range</th>\n",
       "      <th>mean</th>\n",
       "      <th>median</th>\n",
       "      <th>std</th>\n",
       "      <th>skew</th>\n",
       "      <th>kurtosis</th>\n",
       "    </tr>\n",
       "  </thead>\n",
       "  <tbody>\n",
       "    <tr>\n",
       "      <th>step</th>\n",
       "      <td>1.0</td>\n",
       "      <td>7.430000e+02</td>\n",
       "      <td>7.420000e+02</td>\n",
       "      <td>2.433972e+02</td>\n",
       "      <td>239.000</td>\n",
       "      <td>1.423320e+02</td>\n",
       "      <td>0.375177</td>\n",
       "      <td>0.329071</td>\n",
       "    </tr>\n",
       "    <tr>\n",
       "      <th>amount</th>\n",
       "      <td>0.0</td>\n",
       "      <td>9.244552e+07</td>\n",
       "      <td>9.244552e+07</td>\n",
       "      <td>1.798619e+05</td>\n",
       "      <td>74871.940</td>\n",
       "      <td>6.038582e+05</td>\n",
       "      <td>30.993949</td>\n",
       "      <td>1797.956705</td>\n",
       "    </tr>\n",
       "    <tr>\n",
       "      <th>oldbalanceOrg</th>\n",
       "      <td>0.0</td>\n",
       "      <td>5.958504e+07</td>\n",
       "      <td>5.958504e+07</td>\n",
       "      <td>8.338831e+05</td>\n",
       "      <td>14208.000</td>\n",
       "      <td>2.888242e+06</td>\n",
       "      <td>5.249136</td>\n",
       "      <td>32.964879</td>\n",
       "    </tr>\n",
       "    <tr>\n",
       "      <th>newbalanceOrig</th>\n",
       "      <td>0.0</td>\n",
       "      <td>4.958504e+07</td>\n",
       "      <td>4.958504e+07</td>\n",
       "      <td>8.551137e+05</td>\n",
       "      <td>0.000</td>\n",
       "      <td>2.924048e+06</td>\n",
       "      <td>5.176884</td>\n",
       "      <td>32.066985</td>\n",
       "    </tr>\n",
       "    <tr>\n",
       "      <th>oldbalanceDest</th>\n",
       "      <td>0.0</td>\n",
       "      <td>3.560159e+08</td>\n",
       "      <td>3.560159e+08</td>\n",
       "      <td>1.100702e+06</td>\n",
       "      <td>132705.665</td>\n",
       "      <td>3.399180e+06</td>\n",
       "      <td>19.921758</td>\n",
       "      <td>948.674125</td>\n",
       "    </tr>\n",
       "    <tr>\n",
       "      <th>newbalanceDest</th>\n",
       "      <td>0.0</td>\n",
       "      <td>3.561793e+08</td>\n",
       "      <td>3.561793e+08</td>\n",
       "      <td>1.224996e+06</td>\n",
       "      <td>214661.440</td>\n",
       "      <td>3.674129e+06</td>\n",
       "      <td>19.352302</td>\n",
       "      <td>862.156508</td>\n",
       "    </tr>\n",
       "    <tr>\n",
       "      <th>isFraud</th>\n",
       "      <td>0.0</td>\n",
       "      <td>1.000000e+00</td>\n",
       "      <td>1.000000e+00</td>\n",
       "      <td>1.290820e-03</td>\n",
       "      <td>0.000</td>\n",
       "      <td>3.590479e-02</td>\n",
       "      <td>27.779538</td>\n",
       "      <td>769.702982</td>\n",
       "    </tr>\n",
       "    <tr>\n",
       "      <th>isFlaggedFraud</th>\n",
       "      <td>0.0</td>\n",
       "      <td>1.000000e+00</td>\n",
       "      <td>1.000000e+00</td>\n",
       "      <td>2.514687e-06</td>\n",
       "      <td>0.000</td>\n",
       "      <td>1.585775e-03</td>\n",
       "      <td>630.603629</td>\n",
       "      <td>397659.062500</td>\n",
       "    </tr>\n",
       "  </tbody>\n",
       "</table>\n",
       "</div>"
      ],
      "text/plain": [
       "                min           max         range          mean      median  \\\n",
       "step            1.0  7.430000e+02  7.420000e+02  2.433972e+02     239.000   \n",
       "amount          0.0  9.244552e+07  9.244552e+07  1.798619e+05   74871.940   \n",
       "oldbalanceOrg   0.0  5.958504e+07  5.958504e+07  8.338831e+05   14208.000   \n",
       "newbalanceOrig  0.0  4.958504e+07  4.958504e+07  8.551137e+05       0.000   \n",
       "oldbalanceDest  0.0  3.560159e+08  3.560159e+08  1.100702e+06  132705.665   \n",
       "newbalanceDest  0.0  3.561793e+08  3.561793e+08  1.224996e+06  214661.440   \n",
       "isFraud         0.0  1.000000e+00  1.000000e+00  1.290820e-03       0.000   \n",
       "isFlaggedFraud  0.0  1.000000e+00  1.000000e+00  2.514687e-06       0.000   \n",
       "\n",
       "                         std        skew       kurtosis  \n",
       "step            1.423320e+02    0.375177       0.329071  \n",
       "amount          6.038582e+05   30.993949    1797.956705  \n",
       "oldbalanceOrg   2.888242e+06    5.249136      32.964879  \n",
       "newbalanceOrig  2.924048e+06    5.176884      32.066985  \n",
       "oldbalanceDest  3.399180e+06   19.921758     948.674125  \n",
       "newbalanceDest  3.674129e+06   19.352302     862.156508  \n",
       "isFraud         3.590479e-02   27.779538     769.702982  \n",
       "isFlaggedFraud  1.585775e-03  630.603629  397659.062500  "
      ]
     },
     "execution_count": 54,
     "metadata": {},
     "output_type": "execute_result"
    }
   ],
   "source": [
    "# Descriptive statistics\n",
    "\n",
    "pd.DataFrame(data=[num_attrib.apply(np.min),\n",
    "          num_attrib.apply(np.max),\n",
    "          num_attrib.apply(lambda x: np.max(x) - np.min(x)),\n",
    "          num_attrib.apply(np.mean),\n",
    "          num_attrib.apply(np.median),\n",
    "          num_attrib.apply(np.std),\n",
    "          num_attrib.apply(lambda x: x.skew()),\n",
    "          num_attrib.apply(lambda x: x.kurtosis())],\n",
    "             \n",
    "             index=np.array(['min', 'max', 'range', 'mean', 'median', 'std', 'skew', 'kurtosis'])).transpose()"
   ]
  },
  {
   "cell_type": "markdown",
   "id": "J70lo6JdsXRu",
   "metadata": {
    "heading_collapsed": true,
    "hidden": true,
    "id": "J70lo6JdsXRu"
   },
   "source": [
    "### 1.2.2 general view of attributes"
   ]
  },
  {
   "cell_type": "code",
   "execution_count": 55,
   "id": "h9qLgPbKLiiY",
   "metadata": {
    "ExecuteTime": {
     "end_time": "2022-01-29T17:17:34.331666Z",
     "start_time": "2022-01-29T17:17:32.782290Z"
    },
    "colab": {
     "base_uri": "https://localhost:8080/",
     "height": 369
    },
    "hidden": true,
    "id": "h9qLgPbKLiiY",
    "outputId": "1af91530-eb67-433f-9845-ed147805b178"
   },
   "outputs": [
    {
     "data": {
      "image/png": "[encoded data removed]",
      "text/plain": [
       "<Figure size 720x360 with 6 Axes>"
      ]
     },
     "metadata": {
      "needs_background": "light"
     },
     "output_type": "display_data"
    }
   ],
   "source": [
    "# Numerical attribute view\n",
    "\n",
    "# Exploring continuous attributes\n",
    "\n",
    "num_attrib.select_dtypes('float64').hist(figsize=(10,5),layout=(2,3))\n",
    "plt.tight_layout();"
   ]
  },
  {
   "cell_type": "code",
   "execution_count": 56,
   "id": "MvY0tjvFOoys",
   "metadata": {
    "ExecuteTime": {
     "end_time": "2022-01-29T17:17:34.871086Z",
     "start_time": "2022-01-29T17:17:34.332952Z"
    },
    "hidden": true,
    "id": "MvY0tjvFOoys"
   },
   "outputs": [],
   "source": [
    "# Exploring 'amount' - Counts and bins\n",
    "\n",
    "counts, bins = np.histogram(num_attrib.loc[num_attrib['amount']>0, 'amount'], \n",
    "                               bins=20, \n",
    "                               range=(num_attrib.loc[num_attrib['amount']>0, 'amount'].min(),\n",
    "                                      num_attrib.loc[num_attrib['amount']>0, 'amount'].max()))"
   ]
  },
  {
   "cell_type": "code",
   "execution_count": 57,
   "id": "ZJN3sUYTOo1p",
   "metadata": {
    "ExecuteTime": {
     "end_time": "2022-01-29T17:17:34.875904Z",
     "start_time": "2022-01-29T17:17:34.872301Z"
    },
    "colab": {
     "base_uri": "https://localhost:8080/"
    },
    "hidden": true,
    "id": "ZJN3sUYTOo1p",
    "outputId": "afe03fe5-9419-4ad0-c554-9fe5d8543168"
   },
   "outputs": [
    {
     "data": {
      "text/plain": [
       "array([6350041,    6419,    4533,     657,     326,     207,     143,\n",
       "           113,      64,      23,      34,      18,      11,       8,\n",
       "             2,       4,       0,       0,       0,       1])"
      ]
     },
     "execution_count": 57,
     "metadata": {},
     "output_type": "execute_result"
    }
   ],
   "source": [
    "counts"
   ]
  },
  {
   "cell_type": "code",
   "execution_count": 58,
   "id": "9PF8gZemP5Iw",
   "metadata": {
    "ExecuteTime": {
     "end_time": "2022-01-29T17:17:34.883089Z",
     "start_time": "2022-01-29T17:17:34.877121Z"
    },
    "colab": {
     "base_uri": "https://localhost:8080/"
    },
    "hidden": true,
    "id": "9PF8gZemP5Iw",
    "outputId": "e04a3ec3-a246-481e-f9f2-0559e70bc2c5"
   },
   "outputs": [
    {
     "data": {
      "text/plain": [
       "array([1.00000000e-02, 4.62227584e+06, 9.24455167e+06, 1.38668275e+07,\n",
       "       1.84891033e+07, 2.31113792e+07, 2.77336550e+07, 3.23559308e+07,\n",
       "       3.69782067e+07, 4.16004825e+07, 4.62227583e+07, 5.08450342e+07,\n",
       "       5.54673100e+07, 6.00895858e+07, 6.47118617e+07, 6.93341375e+07,\n",
       "       7.39564133e+07, 7.85786891e+07, 8.32009650e+07, 8.78232408e+07,\n",
       "       9.24455166e+07])"
      ]
     },
     "execution_count": 58,
     "metadata": {},
     "output_type": "execute_result"
    }
   ],
   "source": [
    "bins"
   ]
  },
  {
   "cell_type": "code",
   "execution_count": 59,
   "id": "cTXMG7eASHbh",
   "metadata": {
    "ExecuteTime": {
     "end_time": "2022-01-29T17:17:35.039034Z",
     "start_time": "2022-01-29T17:17:34.884254Z"
    },
    "colab": {
     "base_uri": "https://localhost:8080/",
     "height": 282
    },
    "hidden": true,
    "id": "cTXMG7eASHbh",
    "outputId": "2c9620f8-6bf4-4a22-d8d3-a67136380039"
   },
   "outputs": [
    {
     "data": {
      "text/plain": [
       "<AxesSubplot:>"
      ]
     },
     "execution_count": 59,
     "metadata": {},
     "output_type": "execute_result"
    },
    {
     "data": {
      "image/png": "[encoded data removed]",
      "text/plain": [
       "<Figure size 432x288 with 1 Axes>"
      ]
     },
     "metadata": {
      "needs_background": "light"
     },
     "output_type": "display_data"
    }
   ],
   "source": [
    "# Most of transactions involves amount lower than 40000\n",
    "\n",
    "num_attrib.loc[num_attrib['amount']<4.62227584e+04, 'amount'].hist()"
   ]
  },
  {
   "cell_type": "code",
   "execution_count": 60,
   "id": "W746OdAyM5wQ",
   "metadata": {
    "ExecuteTime": {
     "end_time": "2022-01-29T17:17:35.890422Z",
     "start_time": "2022-01-29T17:17:35.040701Z"
    },
    "colab": {
     "base_uri": "https://localhost:8080/",
     "height": 296
    },
    "hidden": true,
    "id": "W746OdAyM5wQ",
    "outputId": "b5e4ccf0-564b-4272-cd91-07a88be048a4"
   },
   "outputs": [
    {
     "data": {
      "text/plain": [
       "<AxesSubplot:xlabel='amount'>"
      ]
     },
     "execution_count": 60,
     "metadata": {},
     "output_type": "execute_result"
    },
    {
     "data": {
      "image/png": "[encoded data removed]",
      "text/plain": [
       "<Figure size 432x288 with 1 Axes>"
      ]
     },
     "metadata": {
      "needs_background": "light"
     },
     "output_type": "display_data"
    }
   ],
   "source": [
    "# However there are lots of outliers - higher amount transactions \n",
    "\n",
    "sns.boxplot(num_attrib.loc[num_attrib['amount']>0, 'amount'], orient='h')"
   ]
  },
  {
   "cell_type": "code",
   "execution_count": 61,
   "id": "XDE099CvxRN-",
   "metadata": {
    "ExecuteTime": {
     "end_time": "2022-01-29T17:18:02.184544Z",
     "start_time": "2022-01-29T17:17:35.891719Z"
    },
    "colab": {
     "base_uri": "https://localhost:8080/",
     "height": 349
    },
    "hidden": true,
    "id": "XDE099CvxRN-",
    "outputId": "68c89700-8a92-4143-c79a-401fd85b921c"
   },
   "outputs": [
    {
     "data": {
      "text/plain": [
       "<AxesSubplot:>"
      ]
     },
     "execution_count": 61,
     "metadata": {},
     "output_type": "execute_result"
    },
    {
     "data": {
      "image/png": "[encoded data removed]",
      "text/plain": [
       "<Figure size 432x288 with 1 Axes>"
      ]
     },
     "metadata": {
      "needs_background": "light"
     },
     "output_type": "display_data"
    }
   ],
   "source": [
    "# Boxplot of continuous variables - lots of outliers\n",
    "\n",
    "df.select_dtypes('float64').boxplot(rot=45)"
   ]
  },
  {
   "cell_type": "code",
   "execution_count": 62,
   "id": "42Rmisf8UZoh",
   "metadata": {
    "ExecuteTime": {
     "end_time": "2022-01-29T17:18:02.418490Z",
     "start_time": "2022-01-29T17:18:02.185823Z"
    },
    "colab": {
     "base_uri": "https://localhost:8080/",
     "height": 306
    },
    "hidden": true,
    "id": "42Rmisf8UZoh",
    "outputId": "a889f4bb-2e4b-4b75-a192-cb637250abd5"
   },
   "outputs": [
    {
     "data": {
      "text/plain": [
       "<AxesSubplot:>"
      ]
     },
     "execution_count": 62,
     "metadata": {},
     "output_type": "execute_result"
    },
    {
     "data": {
      "image/png": "[encoded data removed]",
      "text/plain": [
       "<Figure size 432x288 with 1 Axes>"
      ]
     },
     "metadata": {
      "needs_background": "light"
     },
     "output_type": "display_data"
    }
   ],
   "source": [
    "# The frequencies of transactions of higher amounts are extremy low \n",
    "## and are supressed by most frequent transactions\n",
    "\n",
    "num_attrib.loc[:, 'amount'].hist()"
   ]
  },
  {
   "cell_type": "code",
   "execution_count": 63,
   "id": "uG52385ZlLtb",
   "metadata": {
    "ExecuteTime": {
     "end_time": "2022-01-29T17:18:03.667155Z",
     "start_time": "2022-01-29T17:18:02.419668Z"
    },
    "colab": {
     "base_uri": "https://localhost:8080/",
     "height": 307
    },
    "hidden": true,
    "id": "uG52385ZlLtb",
    "outputId": "a597de47-4e56-4277-f334-5f2d97893f27"
   },
   "outputs": [
    {
     "data": {
      "text/plain": [
       "<AxesSubplot:xlabel='isFraud', ylabel='amount'>"
      ]
     },
     "execution_count": 63,
     "metadata": {},
     "output_type": "execute_result"
    },
    {
     "data": {
      "image/png": "[encoded data removed]",
      "text/plain": [
       "<Figure size 432x288 with 1 Axes>"
      ]
     },
     "metadata": {
      "needs_background": "light"
     },
     "output_type": "display_data"
    }
   ],
   "source": [
    "# Boxplot - 'amount'\n",
    "\n",
    "sns.boxplot(x='isFraud', y='amount', data=num_attrib)"
   ]
  },
  {
   "cell_type": "code",
   "execution_count": 64,
   "id": "mPdocrzClLv_",
   "metadata": {
    "ExecuteTime": {
     "end_time": "2022-01-29T17:18:04.183959Z",
     "start_time": "2022-01-29T17:18:03.668673Z"
    },
    "colab": {
     "base_uri": "https://localhost:8080/",
     "height": 296
    },
    "hidden": true,
    "id": "mPdocrzClLv_",
    "outputId": "465f2219-efa2-4337-b801-f9ff4df0dd72"
   },
   "outputs": [
    {
     "data": {
      "text/plain": [
       "<AxesSubplot:xlabel='isFraud', ylabel='amount'>"
      ]
     },
     "execution_count": 64,
     "metadata": {},
     "output_type": "execute_result"
    },
    {
     "data": {
      "image/png": "[encoded data removed]",
      "text/plain": [
       "<Figure size 432x288 with 1 Axes>"
      ]
     },
     "metadata": {
      "needs_background": "light"
     },
     "output_type": "display_data"
    }
   ],
   "source": [
    "# Boxplot - 'amount' (expanded)\n",
    "\n",
    "sns.boxplot(x='isFraud', y='amount', data=num_attrib[num_attrib['amount']<3.0e+04])\n",
    "\n"
   ]
  },
  {
   "cell_type": "code",
   "execution_count": 65,
   "id": "uSPdAcr7Ubku",
   "metadata": {
    "ExecuteTime": {
     "end_time": "2022-01-29T17:18:04.191722Z",
     "start_time": "2022-01-29T17:18:04.185149Z"
    },
    "colab": {
     "base_uri": "https://localhost:8080/",
     "height": 424
    },
    "hidden": true,
    "id": "uSPdAcr7Ubku",
    "outputId": "57c75313-cb26-475a-edaa-0e1491d77f1f"
   },
   "outputs": [
    {
     "data": {
      "text/html": [
       "<div>\n",
       "<style scoped>\n",
       "    .dataframe tbody tr th:only-of-type {\n",
       "        vertical-align: middle;\n",
       "    }\n",
       "\n",
       "    .dataframe tbody tr th {\n",
       "        vertical-align: top;\n",
       "    }\n",
       "\n",
       "    .dataframe thead th {\n",
       "        text-align: right;\n",
       "    }\n",
       "</style>\n",
       "<table border=\"1\" class=\"dataframe\">\n",
       "  <thead>\n",
       "    <tr style=\"text-align: right;\">\n",
       "      <th></th>\n",
       "      <th>type</th>\n",
       "      <th>nameOrig</th>\n",
       "      <th>nameDest</th>\n",
       "    </tr>\n",
       "  </thead>\n",
       "  <tbody>\n",
       "    <tr>\n",
       "      <th>0</th>\n",
       "      <td>PAYMENT</td>\n",
       "      <td>C1231006815</td>\n",
       "      <td>M1979787155</td>\n",
       "    </tr>\n",
       "    <tr>\n",
       "      <th>1</th>\n",
       "      <td>PAYMENT</td>\n",
       "      <td>C1666544295</td>\n",
       "      <td>M2044282225</td>\n",
       "    </tr>\n",
       "    <tr>\n",
       "      <th>2</th>\n",
       "      <td>TRANSFER</td>\n",
       "      <td>C1305486145</td>\n",
       "      <td>C553264065</td>\n",
       "    </tr>\n",
       "    <tr>\n",
       "      <th>3</th>\n",
       "      <td>CASH_OUT</td>\n",
       "      <td>C840083671</td>\n",
       "      <td>C38997010</td>\n",
       "    </tr>\n",
       "    <tr>\n",
       "      <th>4</th>\n",
       "      <td>PAYMENT</td>\n",
       "      <td>C2048537720</td>\n",
       "      <td>M1230701703</td>\n",
       "    </tr>\n",
       "    <tr>\n",
       "      <th>...</th>\n",
       "      <td>...</td>\n",
       "      <td>...</td>\n",
       "      <td>...</td>\n",
       "    </tr>\n",
       "    <tr>\n",
       "      <th>6362615</th>\n",
       "      <td>CASH_OUT</td>\n",
       "      <td>C786484425</td>\n",
       "      <td>C776919290</td>\n",
       "    </tr>\n",
       "    <tr>\n",
       "      <th>6362616</th>\n",
       "      <td>TRANSFER</td>\n",
       "      <td>C1529008245</td>\n",
       "      <td>C1881841831</td>\n",
       "    </tr>\n",
       "    <tr>\n",
       "      <th>6362617</th>\n",
       "      <td>CASH_OUT</td>\n",
       "      <td>C1162922333</td>\n",
       "      <td>C1365125890</td>\n",
       "    </tr>\n",
       "    <tr>\n",
       "      <th>6362618</th>\n",
       "      <td>TRANSFER</td>\n",
       "      <td>C1685995037</td>\n",
       "      <td>C2080388513</td>\n",
       "    </tr>\n",
       "    <tr>\n",
       "      <th>6362619</th>\n",
       "      <td>CASH_OUT</td>\n",
       "      <td>C1280323807</td>\n",
       "      <td>C873221189</td>\n",
       "    </tr>\n",
       "  </tbody>\n",
       "</table>\n",
       "<p>6362620 rows × 3 columns</p>\n",
       "</div>"
      ],
      "text/plain": [
       "             type     nameOrig     nameDest\n",
       "0         PAYMENT  C1231006815  M1979787155\n",
       "1         PAYMENT  C1666544295  M2044282225\n",
       "2        TRANSFER  C1305486145   C553264065\n",
       "3        CASH_OUT   C840083671    C38997010\n",
       "4         PAYMENT  C2048537720  M1230701703\n",
       "...           ...          ...          ...\n",
       "6362615  CASH_OUT   C786484425   C776919290\n",
       "6362616  TRANSFER  C1529008245  C1881841831\n",
       "6362617  CASH_OUT  C1162922333  C1365125890\n",
       "6362618  TRANSFER  C1685995037  C2080388513\n",
       "6362619  CASH_OUT  C1280323807   C873221189\n",
       "\n",
       "[6362620 rows x 3 columns]"
      ]
     },
     "execution_count": 65,
     "metadata": {},
     "output_type": "execute_result"
    }
   ],
   "source": [
    "# Categorical attributes check\n",
    "\n",
    "cat_attrib"
   ]
  },
  {
   "cell_type": "code",
   "execution_count": 66,
   "id": "VD_B3lhVX4wN",
   "metadata": {
    "ExecuteTime": {
     "end_time": "2022-01-29T17:18:05.025176Z",
     "start_time": "2022-01-29T17:18:04.192806Z"
    },
    "colab": {
     "base_uri": "https://localhost:8080/",
     "height": 269
    },
    "hidden": true,
    "id": "VD_B3lhVX4wN",
    "outputId": "7b208b60-c512-458c-cf96-20531f94b0e5"
   },
   "outputs": [
    {
     "data": {
      "text/html": [
       "<div>\n",
       "<style scoped>\n",
       "    .dataframe tbody tr th:only-of-type {\n",
       "        vertical-align: middle;\n",
       "    }\n",
       "\n",
       "    .dataframe tbody tr th {\n",
       "        vertical-align: top;\n",
       "    }\n",
       "\n",
       "    .dataframe thead th {\n",
       "        text-align: right;\n",
       "    }\n",
       "</style>\n",
       "<table border=\"1\" class=\"dataframe\">\n",
       "  <thead>\n",
       "    <tr style=\"text-align: right;\">\n",
       "      <th></th>\n",
       "      <th>isFraud</th>\n",
       "      <th>type</th>\n",
       "      <th>count</th>\n",
       "      <th>norm_count</th>\n",
       "    </tr>\n",
       "  </thead>\n",
       "  <tbody>\n",
       "    <tr>\n",
       "      <th>0</th>\n",
       "      <td>0</td>\n",
       "      <td>CASH_IN</td>\n",
       "      <td>1399284</td>\n",
       "      <td>0.220207</td>\n",
       "    </tr>\n",
       "    <tr>\n",
       "      <th>1</th>\n",
       "      <td>0</td>\n",
       "      <td>CASH_OUT</td>\n",
       "      <td>2233384</td>\n",
       "      <td>0.351470</td>\n",
       "    </tr>\n",
       "    <tr>\n",
       "      <th>2</th>\n",
       "      <td>0</td>\n",
       "      <td>DEBIT</td>\n",
       "      <td>41432</td>\n",
       "      <td>0.006520</td>\n",
       "    </tr>\n",
       "    <tr>\n",
       "      <th>3</th>\n",
       "      <td>0</td>\n",
       "      <td>PAYMENT</td>\n",
       "      <td>2151495</td>\n",
       "      <td>0.338583</td>\n",
       "    </tr>\n",
       "    <tr>\n",
       "      <th>4</th>\n",
       "      <td>0</td>\n",
       "      <td>TRANSFER</td>\n",
       "      <td>528812</td>\n",
       "      <td>0.083220</td>\n",
       "    </tr>\n",
       "    <tr>\n",
       "      <th>5</th>\n",
       "      <td>1</td>\n",
       "      <td>CASH_OUT</td>\n",
       "      <td>4116</td>\n",
       "      <td>0.501157</td>\n",
       "    </tr>\n",
       "    <tr>\n",
       "      <th>6</th>\n",
       "      <td>1</td>\n",
       "      <td>TRANSFER</td>\n",
       "      <td>4097</td>\n",
       "      <td>0.498843</td>\n",
       "    </tr>\n",
       "  </tbody>\n",
       "</table>\n",
       "</div>"
      ],
      "text/plain": [
       "   isFraud      type    count  norm_count\n",
       "0        0   CASH_IN  1399284    0.220207\n",
       "1        0  CASH_OUT  2233384    0.351470\n",
       "2        0     DEBIT    41432    0.006520\n",
       "3        0   PAYMENT  2151495    0.338583\n",
       "4        0  TRANSFER   528812    0.083220\n",
       "5        1  CASH_OUT     4116    0.501157\n",
       "6        1  TRANSFER     4097    0.498843"
      ]
     },
     "execution_count": 66,
     "metadata": {},
     "output_type": "execute_result"
    }
   ],
   "source": [
    "# Categorical attributes view\n",
    "\n",
    "# Unbalanced data makes direct comparisons dificult - we normalized the data here\n",
    "\n",
    "cat_view = pd.DataFrame(df[['isFraud','type']].groupby(['isFraud','type']).size().reset_index())\n",
    "\n",
    "cat_view.columns = ['isFraud','type', 'count']\n",
    "\n",
    "#column 'norm_count' - normalizing by the total count of each category in the column 'isFraud'\n",
    "cat_view.loc[cat_view['isFraud']==1,'norm_count'] = cat_view['count'] / cat_view.loc[cat_view['isFraud']==1, 'count'].sum()\n",
    "\n",
    "cat_view.loc[cat_view['isFraud']==0,'norm_count'] = cat_view['count'] / cat_view.loc[cat_view['isFraud']==0, 'count'].sum()\n",
    "\n",
    "cat_view"
   ]
  },
  {
   "cell_type": "code",
   "execution_count": 67,
   "id": "stT2N7LpbrvV",
   "metadata": {
    "ExecuteTime": {
     "end_time": "2022-01-29T17:18:05.119109Z",
     "start_time": "2022-01-29T17:18:05.026479Z"
    },
    "colab": {
     "base_uri": "https://localhost:8080/",
     "height": 297
    },
    "hidden": true,
    "id": "stT2N7LpbrvV",
    "outputId": "b8160f67-6ca8-4ddc-c79b-0df90f9d7c12"
   },
   "outputs": [
    {
     "data": {
      "text/plain": [
       "<AxesSubplot:xlabel='type', ylabel='norm_count'>"
      ]
     },
     "execution_count": 67,
     "metadata": {},
     "output_type": "execute_result"
    },
    {
     "data": {
      "image/png": "[encoded data removed]",
      "text/plain": [
       "<Figure size 432x288 with 1 Axes>"
      ]
     },
     "metadata": {
      "needs_background": "light"
     },
     "output_type": "display_data"
    }
   ],
   "source": [
    "# There is no CASH_IN, DEBIT, PAYMENT in fraud transactions - 'type' variable might be important\n",
    "\n",
    "# Let's compare CASH_OUT and TRANSFER\n",
    "\n",
    "# When there is fraud percentage of CASH_OUT and TRANSFER transactions are higher compared to when there is not\n",
    "\n",
    "sns.barplot(x='type', \n",
    "            y='norm_count', \n",
    "            hue='isFraud', \n",
    "            data=cat_view[(cat_view['type']=='CASH_OUT') | (cat_view['type']=='TRANSFER')])"
   ]
  },
  {
   "cell_type": "markdown",
   "id": "82ab2d45",
   "metadata": {
    "heading_collapsed": true,
    "id": "82ab2d45"
   },
   "source": [
    "# 2 - Feature engineering"
   ]
  },
  {
   "cell_type": "code",
   "execution_count": 68,
   "id": "hMK0f99Z1HwL",
   "metadata": {
    "ExecuteTime": {
     "end_time": "2022-01-29T17:18:05.777843Z",
     "start_time": "2022-01-29T17:18:05.120251Z"
    },
    "hidden": true,
    "id": "hMK0f99Z1HwL"
   },
   "outputs": [],
   "source": [
    "df1 = df.copy()"
   ]
  },
  {
   "cell_type": "markdown",
   "id": "ee1653cd",
   "metadata": {
    "heading_collapsed": true,
    "hidden": true,
    "id": "ee1653cd"
   },
   "source": [
    "## 2.1 creating new features"
   ]
  },
  {
   "cell_type": "markdown",
   "id": "81af72e1",
   "metadata": {
    "hidden": true,
    "id": "81af72e1"
   },
   "source": [
    "From 'step' column it is possible to create new time-related features that might help data exploration and learning process"
   ]
  },
  {
   "cell_type": "code",
   "execution_count": 69,
   "id": "ea5faea9",
   "metadata": {
    "ExecuteTime": {
     "end_time": "2022-01-29T17:18:07.565618Z",
     "start_time": "2022-01-29T17:18:05.781736Z"
    },
    "colab": {
     "base_uri": "https://localhost:8080/"
    },
    "hidden": true,
    "id": "ea5faea9",
    "outputId": "e2697bbc-c30c-4650-92cc-8c5bf3250dc5"
   },
   "outputs": [
    {
     "data": {
      "text/plain": [
       "0           1\n",
       "1           1\n",
       "2           1\n",
       "3           1\n",
       "4           1\n",
       "           ..\n",
       "6362615    31\n",
       "6362616    31\n",
       "6362617    31\n",
       "6362618    31\n",
       "6362619    31\n",
       "Name: day_of_month, Length: 6362620, dtype: int64"
      ]
     },
     "execution_count": 69,
     "metadata": {},
     "output_type": "execute_result"
    }
   ],
   "source": [
    "# Day of month\n",
    "\n",
    "df1['day_of_month'] = df1['step'].apply(lambda x: ceil(x/24))\n",
    "\n",
    "df1['day_of_month']"
   ]
  },
  {
   "cell_type": "code",
   "execution_count": 70,
   "id": "6cd5b6fb",
   "metadata": {
    "ExecuteTime": {
     "end_time": "2022-01-29T17:18:09.375252Z",
     "start_time": "2022-01-29T17:18:07.570122Z"
    },
    "colab": {
     "base_uri": "https://localhost:8080/"
    },
    "hidden": true,
    "id": "6cd5b6fb",
    "outputId": "f18c81a6-5a04-4f2c-90c3-75442685a028"
   },
   "outputs": [
    {
     "data": {
      "text/plain": [
       "0          1\n",
       "1          1\n",
       "2          1\n",
       "3          1\n",
       "4          1\n",
       "          ..\n",
       "6362615    5\n",
       "6362616    5\n",
       "6362617    5\n",
       "6362618    5\n",
       "6362619    5\n",
       "Name: week_of_month, Length: 6362620, dtype: int64"
      ]
     },
     "execution_count": 70,
     "metadata": {},
     "output_type": "execute_result"
    }
   ],
   "source": [
    "# Week of month\n",
    "\n",
    "df1['week_of_month'] = df1['step'].apply(lambda x: ceil(x/168))\n",
    "\n",
    "df1['week_of_month']"
   ]
  },
  {
   "cell_type": "code",
   "execution_count": 71,
   "id": "8ee1ab1f",
   "metadata": {
    "ExecuteTime": {
     "end_time": "2022-01-29T17:18:12.579390Z",
     "start_time": "2022-01-29T17:18:09.376444Z"
    },
    "colab": {
     "base_uri": "https://localhost:8080/"
    },
    "hidden": true,
    "id": "8ee1ab1f",
    "outputId": "be47f3c4-f0c1-4300-870a-8138a5c50e17"
   },
   "outputs": [
    {
     "data": {
      "text/plain": [
       "0           0.0\n",
       "1           0.0\n",
       "2           0.0\n",
       "3           0.0\n",
       "4           0.0\n",
       "           ... \n",
       "6362615    22.0\n",
       "6362616    22.0\n",
       "6362617    22.0\n",
       "6362618    22.0\n",
       "6362619    22.0\n",
       "Name: hour_of_day, Length: 6362620, dtype: float64"
      ]
     },
     "execution_count": 71,
     "metadata": {},
     "output_type": "execute_result"
    }
   ],
   "source": [
    "# Creating aux column 'min_step_of_day'\n",
    "\n",
    "for i in df1['day_of_month'].unique():\n",
    "    \n",
    "    df1.loc[df1['day_of_month']==i,'min_step_of_day'] = df1.loc[df1['day_of_month']==i, 'step'].min()\n",
    "\n",
    "\n",
    "# Creating 'hour_of_day' column\n",
    "\n",
    "df1['hour_of_day'] = df1['step'] - df1['min_step_of_day']\n",
    "\n",
    "df1['hour_of_day']"
   ]
  },
  {
   "cell_type": "code",
   "execution_count": 72,
   "id": "b27f1e1e",
   "metadata": {
    "ExecuteTime": {
     "end_time": "2022-01-29T17:18:13.398847Z",
     "start_time": "2022-01-29T17:18:12.580598Z"
    },
    "colab": {
     "base_uri": "https://localhost:8080/"
    },
    "hidden": true,
    "id": "b27f1e1e",
    "outputId": "4dee124a-f9eb-4738-ebc0-1a15b34b94c0"
   },
   "outputs": [
    {
     "data": {
      "text/plain": [
       "0          1.0\n",
       "1          1.0\n",
       "2          1.0\n",
       "3          1.0\n",
       "4          1.0\n",
       "          ... \n",
       "6362615    3.0\n",
       "6362616    3.0\n",
       "6362617    3.0\n",
       "6362618    3.0\n",
       "6362619    3.0\n",
       "Name: day_of_week, Length: 6362620, dtype: float64"
      ]
     },
     "execution_count": 72,
     "metadata": {},
     "output_type": "execute_result"
    }
   ],
   "source": [
    "# Creating aux column 'min_day_of_week'\n",
    "\n",
    "\n",
    "for i in df1['week_of_month'].unique():\n",
    "    \n",
    "    df1.loc[df1['week_of_month']==i, 'min_day_of_week'] = df1.loc[df1['week_of_month']==i, 'day_of_month'].min()\n",
    "\n",
    "\n",
    "\n",
    "# Creating 'day_of_week' column\n",
    "\n",
    "\n",
    "df1['day_of_week'] = ((df1['day_of_month'] - df1['min_day_of_week'])+1)\n",
    "\n",
    "df1['day_of_week']    "
   ]
  },
  {
   "cell_type": "code",
   "execution_count": 73,
   "id": "af3ee06b",
   "metadata": {
    "ExecuteTime": {
     "end_time": "2022-01-29T17:18:14.280109Z",
     "start_time": "2022-01-29T17:18:13.399906Z"
    },
    "colab": {
     "base_uri": "https://localhost:8080/"
    },
    "hidden": true,
    "id": "af3ee06b",
    "outputId": "4c32f77a-09a4-4cc2-91e8-42683735d130"
   },
   "outputs": [
    {
     "data": {
      "text/plain": [
       "0           weekend\n",
       "1           weekend\n",
       "2           weekend\n",
       "3           weekend\n",
       "4           weekend\n",
       "             ...   \n",
       "6362615    weekdays\n",
       "6362616    weekdays\n",
       "6362617    weekdays\n",
       "6362618    weekdays\n",
       "6362619    weekdays\n",
       "Name: is_weekend, Length: 6362620, dtype: object"
      ]
     },
     "execution_count": 73,
     "metadata": {},
     "output_type": "execute_result"
    }
   ],
   "source": [
    "# Creating 'is_weekend' column\n",
    "\n",
    "df1['is_weekend'] = df1['day_of_week'].apply(lambda x: 'weekend' if x == 1 or x == 7 else 'weekdays')\n",
    "\n",
    "df1['is_weekend']"
   ]
  },
  {
   "cell_type": "code",
   "execution_count": 74,
   "id": "1b71294a",
   "metadata": {
    "ExecuteTime": {
     "end_time": "2022-01-29T17:18:15.019940Z",
     "start_time": "2022-01-29T17:18:14.281404Z"
    },
    "colab": {
     "base_uri": "https://localhost:8080/"
    },
    "hidden": true,
    "id": "1b71294a",
    "outputId": "d61d6498-80ff-4c15-ecae-c6c9803b8416"
   },
   "outputs": [
    {
     "data": {
      "text/plain": [
       "0          AM\n",
       "1          AM\n",
       "2          AM\n",
       "3          AM\n",
       "4          AM\n",
       "           ..\n",
       "6362615    PM\n",
       "6362616    PM\n",
       "6362617    PM\n",
       "6362618    PM\n",
       "6362619    PM\n",
       "Name: time_of_day, Length: 6362620, dtype: object"
      ]
     },
     "execution_count": 74,
     "metadata": {},
     "output_type": "execute_result"
    }
   ],
   "source": [
    "# Creating 'time_of_day' column\n",
    "\n",
    "df1['time_of_day'] = df1['hour_of_day'].apply(lambda x: 'AM' if x <= 12 else 'PM')\n",
    "\n",
    "df1['time_of_day']"
   ]
  },
  {
   "cell_type": "code",
   "execution_count": 75,
   "id": "EDnPJulR92pp",
   "metadata": {
    "ExecuteTime": {
     "end_time": "2022-01-29T17:18:16.057401Z",
     "start_time": "2022-01-29T17:18:15.021358Z"
    },
    "colab": {
     "base_uri": "https://localhost:8080/"
    },
    "hidden": true,
    "id": "EDnPJulR92pp",
    "outputId": "e3570b4c-1a8b-4a90-b8a4-d658f6f3ecfe"
   },
   "outputs": [
    {
     "data": {
      "text/plain": [
       "0          Morning\n",
       "1          Morning\n",
       "2          Morning\n",
       "3          Morning\n",
       "4          Morning\n",
       "            ...   \n",
       "6362615    Evening\n",
       "6362616    Evening\n",
       "6362617    Evening\n",
       "6362618    Evening\n",
       "6362619    Evening\n",
       "Name: period_of_day, Length: 6362620, dtype: object"
      ]
     },
     "execution_count": 75,
     "metadata": {},
     "output_type": "execute_result"
    }
   ],
   "source": [
    "# Creating 'period_of_day' column\n",
    "\n",
    "df1['period_of_day'] = ['Morning' if i<=12 else 'Afternoon' if i>12 and i<=18 else 'Evening' for i in df1['hour_of_day']]\n",
    "\n",
    "df1['period_of_day']"
   ]
  },
  {
   "cell_type": "markdown",
   "id": "RQ-xTDjeNrsO",
   "metadata": {
    "hidden": true,
    "id": "RQ-xTDjeNrsO"
   },
   "source": [
    "Columns 'nameOrig' and 'nameDest' carry information that allow us to categorize both transaction origin and transaction destiny (Costumer if the name starts with C and Merchant if the name starts with M) "
   ]
  },
  {
   "cell_type": "code",
   "execution_count": 76,
   "id": "X29qm0-jNnPQ",
   "metadata": {
    "ExecuteTime": {
     "end_time": "2022-01-29T17:18:16.827750Z",
     "start_time": "2022-01-29T17:18:16.058474Z"
    },
    "colab": {
     "base_uri": "https://localhost:8080/"
    },
    "hidden": true,
    "id": "X29qm0-jNnPQ",
    "outputId": "fb3d6ea7-6a26-4d2a-fd60-e14eeaffc89c"
   },
   "outputs": [
    {
     "data": {
      "text/plain": [
       "0          Costumer\n",
       "1          Costumer\n",
       "2          Costumer\n",
       "3          Costumer\n",
       "4          Costumer\n",
       "             ...   \n",
       "6362615    Costumer\n",
       "6362616    Costumer\n",
       "6362617    Costumer\n",
       "6362618    Costumer\n",
       "6362619    Costumer\n",
       "Name: orig_type, Length: 6362620, dtype: object"
      ]
     },
     "execution_count": 76,
     "metadata": {},
     "output_type": "execute_result"
    }
   ],
   "source": [
    "# Creating 'orig_type' column\n",
    "\n",
    "df1['orig_type'] = ['Merchant' if i[0]== 'M' else 'Costumer' for i in df1['nameOrig']]\n",
    "\n",
    "df1['orig_type']"
   ]
  },
  {
   "cell_type": "code",
   "execution_count": 77,
   "id": "bJ9n1DXFQdJb",
   "metadata": {
    "ExecuteTime": {
     "end_time": "2022-01-29T17:18:17.595524Z",
     "start_time": "2022-01-29T17:18:16.829041Z"
    },
    "colab": {
     "base_uri": "https://localhost:8080/"
    },
    "hidden": true,
    "id": "bJ9n1DXFQdJb",
    "outputId": "389c4bc7-a722-4e52-aa06-a7769be764d1"
   },
   "outputs": [
    {
     "data": {
      "text/plain": [
       "0          Merchant\n",
       "1          Merchant\n",
       "2          Costumer\n",
       "3          Costumer\n",
       "4          Merchant\n",
       "             ...   \n",
       "6362615    Costumer\n",
       "6362616    Costumer\n",
       "6362617    Costumer\n",
       "6362618    Costumer\n",
       "6362619    Costumer\n",
       "Name: dest_type, Length: 6362620, dtype: object"
      ]
     },
     "execution_count": 77,
     "metadata": {},
     "output_type": "execute_result"
    }
   ],
   "source": [
    "# Creating 'dest_type' column\n",
    "\n",
    "df1['dest_type'] = ['Merchant' if i[0]== 'M' else 'Costumer' for i in df1['nameDest']]\n",
    "\n",
    "df1['dest_type']"
   ]
  },
  {
   "cell_type": "markdown",
   "id": "uNwAo1nTS2Dk",
   "metadata": {
    "hidden": true,
    "id": "uNwAo1nTS2Dk"
   },
   "source": [
    "From  old/new balance Origin/Dest it is possible to create new category informing if it is zero or non-zero"
   ]
  },
  {
   "cell_type": "code",
   "execution_count": 78,
   "id": "aHQn-H1nO08f",
   "metadata": {
    "ExecuteTime": {
     "end_time": "2022-01-29T17:18:18.341248Z",
     "start_time": "2022-01-29T17:18:17.596688Z"
    },
    "colab": {
     "base_uri": "https://localhost:8080/"
    },
    "hidden": true,
    "id": "aHQn-H1nO08f",
    "outputId": "41b7fac1-c1d6-4b6a-a6e2-7ab44572c537"
   },
   "outputs": [
    {
     "data": {
      "text/plain": [
       "0          non-zero\n",
       "1          non-zero\n",
       "2          non-zero\n",
       "3          non-zero\n",
       "4          non-zero\n",
       "             ...   \n",
       "6362615    non-zero\n",
       "6362616    non-zero\n",
       "6362617    non-zero\n",
       "6362618    non-zero\n",
       "6362619    non-zero\n",
       "Name: oldbalanceOrg_status, Length: 6362620, dtype: object"
      ]
     },
     "execution_count": 78,
     "metadata": {},
     "output_type": "execute_result"
    }
   ],
   "source": [
    "# Creating 'oldbalanceOrg_status'\n",
    "\n",
    "df1['oldbalanceOrg_status'] = ['zero' if i==0 else 'non-zero' for i in df1['oldbalanceOrg']]\n",
    "\n",
    "df1['oldbalanceOrg_status']"
   ]
  },
  {
   "cell_type": "code",
   "execution_count": 79,
   "id": "--jKXHzQVbFg",
   "metadata": {
    "ExecuteTime": {
     "end_time": "2022-01-29T17:18:19.091063Z",
     "start_time": "2022-01-29T17:18:18.342225Z"
    },
    "colab": {
     "base_uri": "https://localhost:8080/"
    },
    "hidden": true,
    "id": "--jKXHzQVbFg",
    "outputId": "7c75148c-b35e-46b4-fab0-5e6e0d156836"
   },
   "outputs": [
    {
     "data": {
      "text/plain": [
       "0          non-zero\n",
       "1          non-zero\n",
       "2              zero\n",
       "3              zero\n",
       "4          non-zero\n",
       "             ...   \n",
       "6362615        zero\n",
       "6362616        zero\n",
       "6362617        zero\n",
       "6362618        zero\n",
       "6362619        zero\n",
       "Name: newbalanceOrig_status, Length: 6362620, dtype: object"
      ]
     },
     "execution_count": 79,
     "metadata": {},
     "output_type": "execute_result"
    }
   ],
   "source": [
    "# Creating 'newbalanceOrig_status'\n",
    "\n",
    "df1['newbalanceOrig_status'] = ['zero' if i==0 else 'non-zero' for i in df1['newbalanceOrig']]\n",
    "\n",
    "df1['newbalanceOrig_status']"
   ]
  },
  {
   "cell_type": "code",
   "execution_count": 80,
   "id": "lBV5MRa3Vybq",
   "metadata": {
    "ExecuteTime": {
     "end_time": "2022-01-29T17:18:19.847802Z",
     "start_time": "2022-01-29T17:18:19.092103Z"
    },
    "colab": {
     "base_uri": "https://localhost:8080/"
    },
    "hidden": true,
    "id": "lBV5MRa3Vybq",
    "outputId": "018aac89-a8a3-4132-8235-64ca2bea23da"
   },
   "outputs": [
    {
     "data": {
      "text/plain": [
       "0              zero\n",
       "1              zero\n",
       "2              zero\n",
       "3          non-zero\n",
       "4              zero\n",
       "             ...   \n",
       "6362615        zero\n",
       "6362616        zero\n",
       "6362617    non-zero\n",
       "6362618        zero\n",
       "6362619    non-zero\n",
       "Name: oldbalanceDest_status, Length: 6362620, dtype: object"
      ]
     },
     "execution_count": 80,
     "metadata": {},
     "output_type": "execute_result"
    }
   ],
   "source": [
    "# Creating 'oldbalanceDest_status'\n",
    "\n",
    "df1['oldbalanceDest_status'] = ['zero' if i==0 else 'non-zero' for i in df1['oldbalanceDest']]\n",
    "\n",
    "df1['oldbalanceDest_status']"
   ]
  },
  {
   "cell_type": "code",
   "execution_count": 81,
   "id": "XqXHl7z1WIGg",
   "metadata": {
    "ExecuteTime": {
     "end_time": "2022-01-29T17:18:20.589176Z",
     "start_time": "2022-01-29T17:18:19.848824Z"
    },
    "colab": {
     "base_uri": "https://localhost:8080/"
    },
    "hidden": true,
    "id": "XqXHl7z1WIGg",
    "outputId": "de40d265-5356-4552-cfd8-4425210e12f1"
   },
   "outputs": [
    {
     "data": {
      "text/plain": [
       "0              zero\n",
       "1              zero\n",
       "2              zero\n",
       "3              zero\n",
       "4              zero\n",
       "             ...   \n",
       "6362615    non-zero\n",
       "6362616        zero\n",
       "6362617    non-zero\n",
       "6362618        zero\n",
       "6362619    non-zero\n",
       "Name: newbalanceDest_status, Length: 6362620, dtype: object"
      ]
     },
     "execution_count": 81,
     "metadata": {},
     "output_type": "execute_result"
    }
   ],
   "source": [
    "# Creating 'newbalanceDest_status'\n",
    "\n",
    "df1['newbalanceDest_status'] = ['zero' if i==0 else 'non-zero' for i in df1['newbalanceDest']]\n",
    "\n",
    "df1['newbalanceDest_status']"
   ]
  },
  {
   "cell_type": "markdown",
   "id": "LeYw_gXXcV-d",
   "metadata": {
    "hidden": true,
    "id": "LeYw_gXXcV-d"
   },
   "source": [
    "Is the Origin name == Destination name in a particular transaction?"
   ]
  },
  {
   "cell_type": "code",
   "execution_count": 82,
   "id": "uKhNpmNEfMhh",
   "metadata": {
    "ExecuteTime": {
     "end_time": "2022-01-29T17:18:21.692509Z",
     "start_time": "2022-01-29T17:18:20.590380Z"
    },
    "hidden": true,
    "id": "uKhNpmNEfMhh"
   },
   "outputs": [],
   "source": [
    "# Creating the column 'is_orig_equal_dest'\n",
    "\n",
    "df1['is_orig_equal_dest'] = ['yes' if i==it else 'no' for i, it in zip(df1['nameOrig'], df1['nameDest'])]"
   ]
  },
  {
   "cell_type": "markdown",
   "id": "yNoZO9Hlk8dX",
   "metadata": {
    "hidden": true,
    "id": "yNoZO9Hlk8dX"
   },
   "source": [
    "Is the origin old balance higher than the new balance in a particular transaction?\n",
    "\n",
    "Is the destination old balance higher than the new balance in a particular transaction?"
   ]
  },
  {
   "cell_type": "code",
   "execution_count": 83,
   "id": "gUsGxlQmbnVj",
   "metadata": {
    "ExecuteTime": {
     "end_time": "2022-01-29T17:18:22.778400Z",
     "start_time": "2022-01-29T17:18:21.693679Z"
    },
    "hidden": true,
    "id": "gUsGxlQmbnVj"
   },
   "outputs": [],
   "source": [
    "# Creating the column 'is_oldbalanceOrg_higherthan_newbalanceOrig'\n",
    "\n",
    "df1['is_oldbalanceOrg_higherthan_newbalanceOrig'] = ['yes'if i>it else 'no' for i, it in zip(df1['oldbalanceOrg'], df1['newbalanceOrig'])]"
   ]
  },
  {
   "cell_type": "code",
   "execution_count": 84,
   "id": "k-BNfXG2mw6L",
   "metadata": {
    "ExecuteTime": {
     "end_time": "2022-01-29T17:18:23.873432Z",
     "start_time": "2022-01-29T17:18:22.779505Z"
    },
    "hidden": true,
    "id": "k-BNfXG2mw6L"
   },
   "outputs": [],
   "source": [
    "# Creating the column 'is_oldbalanceDest_higherthan_newbalanceDest'\n",
    "\n",
    "df1['is_oldbalanceDest_higherthan_newbalanceDest'] = ['yes'if i>it else 'no' for i, it in zip(df1['oldbalanceDest'], df1['newbalanceDest'])]"
   ]
  },
  {
   "cell_type": "markdown",
   "id": "40Zg8yr3nf8o",
   "metadata": {
    "hidden": true,
    "id": "40Zg8yr3nf8o"
   },
   "source": [
    "Transaction direction:\n",
    "\n",
    "C2M (Costumer to Merchant)<br>\n",
    "M2M (Merchant to Merchant)<br>\n",
    "C2C (Costumer to Custumer)<br>\n",
    "M2C (Merchant to Custumer)"
   ]
  },
  {
   "cell_type": "code",
   "execution_count": 85,
   "id": "5cp0fhADoMwQ",
   "metadata": {
    "ExecuteTime": {
     "end_time": "2022-01-29T17:18:26.009341Z",
     "start_time": "2022-01-29T17:18:23.875423Z"
    },
    "hidden": true,
    "id": "5cp0fhADoMwQ"
   },
   "outputs": [],
   "source": [
    "# Creating the column 'transaction_direction'\n",
    "\n",
    "df1['transaction_direction'] = [i[0]+'2'+it[0] for i, it in zip(df1['orig_type'], df1['dest_type'])]"
   ]
  },
  {
   "cell_type": "code",
   "execution_count": null,
   "id": "djdGmvURoM6T",
   "metadata": {
    "hidden": true,
    "id": "djdGmvURoM6T"
   },
   "outputs": [],
   "source": []
  },
  {
   "cell_type": "code",
   "execution_count": 86,
   "id": "rKRns8TVO1Cs",
   "metadata": {
    "ExecuteTime": {
     "end_time": "2022-01-29T17:18:26.798348Z",
     "start_time": "2022-01-29T17:18:26.010464Z"
    },
    "hidden": true,
    "id": "rKRns8TVO1Cs"
   },
   "outputs": [],
   "source": [
    "# Converting 'isFlaggedFraud' column to categorical (to further corr calculation)\n",
    "\n",
    "df1['isFlaggedFraud'] = ['no' if i==0 else 'yes' for i in df1['isFlaggedFraud']]"
   ]
  },
  {
   "cell_type": "code",
   "execution_count": 87,
   "id": "E-57Be_uR8dz",
   "metadata": {
    "ExecuteTime": {
     "end_time": "2022-01-29T17:18:31.691058Z",
     "start_time": "2022-01-29T17:18:26.799460Z"
    },
    "hidden": true,
    "id": "E-57Be_uR8dz"
   },
   "outputs": [],
   "source": [
    "# Droping aux column 'min_step_of_day'\n",
    "\n",
    "df1 = df1.drop(columns=['min_step_of_day', 'min_day_of_week'])"
   ]
  },
  {
   "cell_type": "code",
   "execution_count": 88,
   "id": "McN1mtshB-At",
   "metadata": {
    "ExecuteTime": {
     "end_time": "2022-01-29T17:18:32.448712Z",
     "start_time": "2022-01-29T17:18:31.692262Z"
    },
    "hidden": true,
    "id": "McN1mtshB-At"
   },
   "outputs": [],
   "source": [
    "# Converting 'hour_of_day' and 'day_of_week' columns to int\n",
    "\n",
    "df1[['hour_of_day','day_of_week']] = df1[['hour_of_day','day_of_week']].astype(int)"
   ]
  },
  {
   "cell_type": "code",
   "execution_count": 89,
   "id": "977bba0f",
   "metadata": {
    "ExecuteTime": {
     "end_time": "2022-01-29T17:18:32.471057Z",
     "start_time": "2022-01-29T17:18:32.449785Z"
    },
    "colab": {
     "base_uri": "https://localhost:8080/"
    },
    "hidden": true,
    "id": "977bba0f",
    "outputId": "f29607e2-0e3a-4b3b-f3b4-c14397381f81",
    "scrolled": true
   },
   "outputs": [
    {
     "data": {
      "text/html": [
       "<div>\n",
       "<style scoped>\n",
       "    .dataframe tbody tr th:only-of-type {\n",
       "        vertical-align: middle;\n",
       "    }\n",
       "\n",
       "    .dataframe tbody tr th {\n",
       "        vertical-align: top;\n",
       "    }\n",
       "\n",
       "    .dataframe thead th {\n",
       "        text-align: right;\n",
       "    }\n",
       "</style>\n",
       "<table border=\"1\" class=\"dataframe\">\n",
       "  <thead>\n",
       "    <tr style=\"text-align: right;\">\n",
       "      <th></th>\n",
       "      <th>step</th>\n",
       "      <th>type</th>\n",
       "      <th>amount</th>\n",
       "      <th>nameOrig</th>\n",
       "      <th>oldbalanceOrg</th>\n",
       "      <th>newbalanceOrig</th>\n",
       "      <th>nameDest</th>\n",
       "      <th>oldbalanceDest</th>\n",
       "      <th>newbalanceDest</th>\n",
       "      <th>isFraud</th>\n",
       "      <th>isFlaggedFraud</th>\n",
       "      <th>day_of_month</th>\n",
       "      <th>week_of_month</th>\n",
       "      <th>hour_of_day</th>\n",
       "      <th>day_of_week</th>\n",
       "      <th>is_weekend</th>\n",
       "      <th>time_of_day</th>\n",
       "      <th>period_of_day</th>\n",
       "      <th>orig_type</th>\n",
       "      <th>dest_type</th>\n",
       "      <th>oldbalanceOrg_status</th>\n",
       "      <th>newbalanceOrig_status</th>\n",
       "      <th>oldbalanceDest_status</th>\n",
       "      <th>newbalanceDest_status</th>\n",
       "      <th>is_orig_equal_dest</th>\n",
       "      <th>is_oldbalanceOrg_higherthan_newbalanceOrig</th>\n",
       "      <th>is_oldbalanceDest_higherthan_newbalanceDest</th>\n",
       "      <th>transaction_direction</th>\n",
       "    </tr>\n",
       "  </thead>\n",
       "  <tbody>\n",
       "    <tr>\n",
       "      <th>0</th>\n",
       "      <td>1</td>\n",
       "      <td>PAYMENT</td>\n",
       "      <td>9839.64</td>\n",
       "      <td>C1231006815</td>\n",
       "      <td>170136.00</td>\n",
       "      <td>160296.36</td>\n",
       "      <td>M1979787155</td>\n",
       "      <td>0.00</td>\n",
       "      <td>0.00</td>\n",
       "      <td>0</td>\n",
       "      <td>no</td>\n",
       "      <td>1</td>\n",
       "      <td>1</td>\n",
       "      <td>0</td>\n",
       "      <td>1</td>\n",
       "      <td>weekend</td>\n",
       "      <td>AM</td>\n",
       "      <td>Morning</td>\n",
       "      <td>Costumer</td>\n",
       "      <td>Merchant</td>\n",
       "      <td>non-zero</td>\n",
       "      <td>non-zero</td>\n",
       "      <td>zero</td>\n",
       "      <td>zero</td>\n",
       "      <td>no</td>\n",
       "      <td>yes</td>\n",
       "      <td>no</td>\n",
       "      <td>C2M</td>\n",
       "    </tr>\n",
       "    <tr>\n",
       "      <th>1</th>\n",
       "      <td>1</td>\n",
       "      <td>PAYMENT</td>\n",
       "      <td>1864.28</td>\n",
       "      <td>C1666544295</td>\n",
       "      <td>21249.00</td>\n",
       "      <td>19384.72</td>\n",
       "      <td>M2044282225</td>\n",
       "      <td>0.00</td>\n",
       "      <td>0.00</td>\n",
       "      <td>0</td>\n",
       "      <td>no</td>\n",
       "      <td>1</td>\n",
       "      <td>1</td>\n",
       "      <td>0</td>\n",
       "      <td>1</td>\n",
       "      <td>weekend</td>\n",
       "      <td>AM</td>\n",
       "      <td>Morning</td>\n",
       "      <td>Costumer</td>\n",
       "      <td>Merchant</td>\n",
       "      <td>non-zero</td>\n",
       "      <td>non-zero</td>\n",
       "      <td>zero</td>\n",
       "      <td>zero</td>\n",
       "      <td>no</td>\n",
       "      <td>yes</td>\n",
       "      <td>no</td>\n",
       "      <td>C2M</td>\n",
       "    </tr>\n",
       "    <tr>\n",
       "      <th>2</th>\n",
       "      <td>1</td>\n",
       "      <td>TRANSFER</td>\n",
       "      <td>181.00</td>\n",
       "      <td>C1305486145</td>\n",
       "      <td>181.00</td>\n",
       "      <td>0.00</td>\n",
       "      <td>C553264065</td>\n",
       "      <td>0.00</td>\n",
       "      <td>0.00</td>\n",
       "      <td>1</td>\n",
       "      <td>no</td>\n",
       "      <td>1</td>\n",
       "      <td>1</td>\n",
       "      <td>0</td>\n",
       "      <td>1</td>\n",
       "      <td>weekend</td>\n",
       "      <td>AM</td>\n",
       "      <td>Morning</td>\n",
       "      <td>Costumer</td>\n",
       "      <td>Costumer</td>\n",
       "      <td>non-zero</td>\n",
       "      <td>zero</td>\n",
       "      <td>zero</td>\n",
       "      <td>zero</td>\n",
       "      <td>no</td>\n",
       "      <td>yes</td>\n",
       "      <td>no</td>\n",
       "      <td>C2C</td>\n",
       "    </tr>\n",
       "    <tr>\n",
       "      <th>3</th>\n",
       "      <td>1</td>\n",
       "      <td>CASH_OUT</td>\n",
       "      <td>181.00</td>\n",
       "      <td>C840083671</td>\n",
       "      <td>181.00</td>\n",
       "      <td>0.00</td>\n",
       "      <td>C38997010</td>\n",
       "      <td>21182.00</td>\n",
       "      <td>0.00</td>\n",
       "      <td>1</td>\n",
       "      <td>no</td>\n",
       "      <td>1</td>\n",
       "      <td>1</td>\n",
       "      <td>0</td>\n",
       "      <td>1</td>\n",
       "      <td>weekend</td>\n",
       "      <td>AM</td>\n",
       "      <td>Morning</td>\n",
       "      <td>Costumer</td>\n",
       "      <td>Costumer</td>\n",
       "      <td>non-zero</td>\n",
       "      <td>zero</td>\n",
       "      <td>non-zero</td>\n",
       "      <td>zero</td>\n",
       "      <td>no</td>\n",
       "      <td>yes</td>\n",
       "      <td>yes</td>\n",
       "      <td>C2C</td>\n",
       "    </tr>\n",
       "    <tr>\n",
       "      <th>4</th>\n",
       "      <td>1</td>\n",
       "      <td>PAYMENT</td>\n",
       "      <td>11668.14</td>\n",
       "      <td>C2048537720</td>\n",
       "      <td>41554.00</td>\n",
       "      <td>29885.86</td>\n",
       "      <td>M1230701703</td>\n",
       "      <td>0.00</td>\n",
       "      <td>0.00</td>\n",
       "      <td>0</td>\n",
       "      <td>no</td>\n",
       "      <td>1</td>\n",
       "      <td>1</td>\n",
       "      <td>0</td>\n",
       "      <td>1</td>\n",
       "      <td>weekend</td>\n",
       "      <td>AM</td>\n",
       "      <td>Morning</td>\n",
       "      <td>Costumer</td>\n",
       "      <td>Merchant</td>\n",
       "      <td>non-zero</td>\n",
       "      <td>non-zero</td>\n",
       "      <td>zero</td>\n",
       "      <td>zero</td>\n",
       "      <td>no</td>\n",
       "      <td>yes</td>\n",
       "      <td>no</td>\n",
       "      <td>C2M</td>\n",
       "    </tr>\n",
       "    <tr>\n",
       "      <th>...</th>\n",
       "      <td>...</td>\n",
       "      <td>...</td>\n",
       "      <td>...</td>\n",
       "      <td>...</td>\n",
       "      <td>...</td>\n",
       "      <td>...</td>\n",
       "      <td>...</td>\n",
       "      <td>...</td>\n",
       "      <td>...</td>\n",
       "      <td>...</td>\n",
       "      <td>...</td>\n",
       "      <td>...</td>\n",
       "      <td>...</td>\n",
       "      <td>...</td>\n",
       "      <td>...</td>\n",
       "      <td>...</td>\n",
       "      <td>...</td>\n",
       "      <td>...</td>\n",
       "      <td>...</td>\n",
       "      <td>...</td>\n",
       "      <td>...</td>\n",
       "      <td>...</td>\n",
       "      <td>...</td>\n",
       "      <td>...</td>\n",
       "      <td>...</td>\n",
       "      <td>...</td>\n",
       "      <td>...</td>\n",
       "      <td>...</td>\n",
       "    </tr>\n",
       "    <tr>\n",
       "      <th>6362615</th>\n",
       "      <td>743</td>\n",
       "      <td>CASH_OUT</td>\n",
       "      <td>339682.13</td>\n",
       "      <td>C786484425</td>\n",
       "      <td>339682.13</td>\n",
       "      <td>0.00</td>\n",
       "      <td>C776919290</td>\n",
       "      <td>0.00</td>\n",
       "      <td>339682.13</td>\n",
       "      <td>1</td>\n",
       "      <td>no</td>\n",
       "      <td>31</td>\n",
       "      <td>5</td>\n",
       "      <td>22</td>\n",
       "      <td>3</td>\n",
       "      <td>weekdays</td>\n",
       "      <td>PM</td>\n",
       "      <td>Evening</td>\n",
       "      <td>Costumer</td>\n",
       "      <td>Costumer</td>\n",
       "      <td>non-zero</td>\n",
       "      <td>zero</td>\n",
       "      <td>zero</td>\n",
       "      <td>non-zero</td>\n",
       "      <td>no</td>\n",
       "      <td>yes</td>\n",
       "      <td>no</td>\n",
       "      <td>C2C</td>\n",
       "    </tr>\n",
       "    <tr>\n",
       "      <th>6362616</th>\n",
       "      <td>743</td>\n",
       "      <td>TRANSFER</td>\n",
       "      <td>6311409.28</td>\n",
       "      <td>C1529008245</td>\n",
       "      <td>6311409.28</td>\n",
       "      <td>0.00</td>\n",
       "      <td>C1881841831</td>\n",
       "      <td>0.00</td>\n",
       "      <td>0.00</td>\n",
       "      <td>1</td>\n",
       "      <td>no</td>\n",
       "      <td>31</td>\n",
       "      <td>5</td>\n",
       "      <td>22</td>\n",
       "      <td>3</td>\n",
       "      <td>weekdays</td>\n",
       "      <td>PM</td>\n",
       "      <td>Evening</td>\n",
       "      <td>Costumer</td>\n",
       "      <td>Costumer</td>\n",
       "      <td>non-zero</td>\n",
       "      <td>zero</td>\n",
       "      <td>zero</td>\n",
       "      <td>zero</td>\n",
       "      <td>no</td>\n",
       "      <td>yes</td>\n",
       "      <td>no</td>\n",
       "      <td>C2C</td>\n",
       "    </tr>\n",
       "    <tr>\n",
       "      <th>6362617</th>\n",
       "      <td>743</td>\n",
       "      <td>CASH_OUT</td>\n",
       "      <td>6311409.28</td>\n",
       "      <td>C1162922333</td>\n",
       "      <td>6311409.28</td>\n",
       "      <td>0.00</td>\n",
       "      <td>C1365125890</td>\n",
       "      <td>68488.84</td>\n",
       "      <td>6379898.11</td>\n",
       "      <td>1</td>\n",
       "      <td>no</td>\n",
       "      <td>31</td>\n",
       "      <td>5</td>\n",
       "      <td>22</td>\n",
       "      <td>3</td>\n",
       "      <td>weekdays</td>\n",
       "      <td>PM</td>\n",
       "      <td>Evening</td>\n",
       "      <td>Costumer</td>\n",
       "      <td>Costumer</td>\n",
       "      <td>non-zero</td>\n",
       "      <td>zero</td>\n",
       "      <td>non-zero</td>\n",
       "      <td>non-zero</td>\n",
       "      <td>no</td>\n",
       "      <td>yes</td>\n",
       "      <td>no</td>\n",
       "      <td>C2C</td>\n",
       "    </tr>\n",
       "    <tr>\n",
       "      <th>6362618</th>\n",
       "      <td>743</td>\n",
       "      <td>TRANSFER</td>\n",
       "      <td>850002.52</td>\n",
       "      <td>C1685995037</td>\n",
       "      <td>850002.52</td>\n",
       "      <td>0.00</td>\n",
       "      <td>C2080388513</td>\n",
       "      <td>0.00</td>\n",
       "      <td>0.00</td>\n",
       "      <td>1</td>\n",
       "      <td>no</td>\n",
       "      <td>31</td>\n",
       "      <td>5</td>\n",
       "      <td>22</td>\n",
       "      <td>3</td>\n",
       "      <td>weekdays</td>\n",
       "      <td>PM</td>\n",
       "      <td>Evening</td>\n",
       "      <td>Costumer</td>\n",
       "      <td>Costumer</td>\n",
       "      <td>non-zero</td>\n",
       "      <td>zero</td>\n",
       "      <td>zero</td>\n",
       "      <td>zero</td>\n",
       "      <td>no</td>\n",
       "      <td>yes</td>\n",
       "      <td>no</td>\n",
       "      <td>C2C</td>\n",
       "    </tr>\n",
       "    <tr>\n",
       "      <th>6362619</th>\n",
       "      <td>743</td>\n",
       "      <td>CASH_OUT</td>\n",
       "      <td>850002.52</td>\n",
       "      <td>C1280323807</td>\n",
       "      <td>850002.52</td>\n",
       "      <td>0.00</td>\n",
       "      <td>C873221189</td>\n",
       "      <td>6510099.11</td>\n",
       "      <td>7360101.63</td>\n",
       "      <td>1</td>\n",
       "      <td>no</td>\n",
       "      <td>31</td>\n",
       "      <td>5</td>\n",
       "      <td>22</td>\n",
       "      <td>3</td>\n",
       "      <td>weekdays</td>\n",
       "      <td>PM</td>\n",
       "      <td>Evening</td>\n",
       "      <td>Costumer</td>\n",
       "      <td>Costumer</td>\n",
       "      <td>non-zero</td>\n",
       "      <td>zero</td>\n",
       "      <td>non-zero</td>\n",
       "      <td>non-zero</td>\n",
       "      <td>no</td>\n",
       "      <td>yes</td>\n",
       "      <td>no</td>\n",
       "      <td>C2C</td>\n",
       "    </tr>\n",
       "  </tbody>\n",
       "</table>\n",
       "<p>6362620 rows × 28 columns</p>\n",
       "</div>"
      ],
      "text/plain": [
       "         step      type      amount     nameOrig  oldbalanceOrg  \\\n",
       "0           1   PAYMENT     9839.64  C1231006815      170136.00   \n",
       "1           1   PAYMENT     1864.28  C1666544295       21249.00   \n",
       "2           1  TRANSFER      181.00  C1305486145         181.00   \n",
       "3           1  CASH_OUT      181.00   C840083671         181.00   \n",
       "4           1   PAYMENT    11668.14  C2048537720       41554.00   \n",
       "...       ...       ...         ...          ...            ...   \n",
       "6362615   743  CASH_OUT   339682.13   C786484425      339682.13   \n",
       "6362616   743  TRANSFER  6311409.28  C1529008245     6311409.28   \n",
       "6362617   743  CASH_OUT  6311409.28  C1162922333     6311409.28   \n",
       "6362618   743  TRANSFER   850002.52  C1685995037      850002.52   \n",
       "6362619   743  CASH_OUT   850002.52  C1280323807      850002.52   \n",
       "\n",
       "         newbalanceOrig     nameDest  oldbalanceDest  newbalanceDest  isFraud  \\\n",
       "0             160296.36  M1979787155            0.00            0.00        0   \n",
       "1              19384.72  M2044282225            0.00            0.00        0   \n",
       "2                  0.00   C553264065            0.00            0.00        1   \n",
       "3                  0.00    C38997010        21182.00            0.00        1   \n",
       "4              29885.86  M1230701703            0.00            0.00        0   \n",
       "...                 ...          ...             ...             ...      ...   \n",
       "6362615            0.00   C776919290            0.00       339682.13        1   \n",
       "6362616            0.00  C1881841831            0.00            0.00        1   \n",
       "6362617            0.00  C1365125890        68488.84      6379898.11        1   \n",
       "6362618            0.00  C2080388513            0.00            0.00        1   \n",
       "6362619            0.00   C873221189      6510099.11      7360101.63        1   \n",
       "\n",
       "        isFlaggedFraud  day_of_month  week_of_month  hour_of_day  day_of_week  \\\n",
       "0                   no             1              1            0            1   \n",
       "1                   no             1              1            0            1   \n",
       "2                   no             1              1            0            1   \n",
       "3                   no             1              1            0            1   \n",
       "4                   no             1              1            0            1   \n",
       "...                ...           ...            ...          ...          ...   \n",
       "6362615             no            31              5           22            3   \n",
       "6362616             no            31              5           22            3   \n",
       "6362617             no            31              5           22            3   \n",
       "6362618             no            31              5           22            3   \n",
       "6362619             no            31              5           22            3   \n",
       "\n",
       "        is_weekend time_of_day period_of_day orig_type dest_type  \\\n",
       "0          weekend          AM       Morning  Costumer  Merchant   \n",
       "1          weekend          AM       Morning  Costumer  Merchant   \n",
       "2          weekend          AM       Morning  Costumer  Costumer   \n",
       "3          weekend          AM       Morning  Costumer  Costumer   \n",
       "4          weekend          AM       Morning  Costumer  Merchant   \n",
       "...            ...         ...           ...       ...       ...   \n",
       "6362615   weekdays          PM       Evening  Costumer  Costumer   \n",
       "6362616   weekdays          PM       Evening  Costumer  Costumer   \n",
       "6362617   weekdays          PM       Evening  Costumer  Costumer   \n",
       "6362618   weekdays          PM       Evening  Costumer  Costumer   \n",
       "6362619   weekdays          PM       Evening  Costumer  Costumer   \n",
       "\n",
       "        oldbalanceOrg_status newbalanceOrig_status oldbalanceDest_status  \\\n",
       "0                   non-zero              non-zero                  zero   \n",
       "1                   non-zero              non-zero                  zero   \n",
       "2                   non-zero                  zero                  zero   \n",
       "3                   non-zero                  zero              non-zero   \n",
       "4                   non-zero              non-zero                  zero   \n",
       "...                      ...                   ...                   ...   \n",
       "6362615             non-zero                  zero                  zero   \n",
       "6362616             non-zero                  zero                  zero   \n",
       "6362617             non-zero                  zero              non-zero   \n",
       "6362618             non-zero                  zero                  zero   \n",
       "6362619             non-zero                  zero              non-zero   \n",
       "\n",
       "        newbalanceDest_status is_orig_equal_dest  \\\n",
       "0                        zero                 no   \n",
       "1                        zero                 no   \n",
       "2                        zero                 no   \n",
       "3                        zero                 no   \n",
       "4                        zero                 no   \n",
       "...                       ...                ...   \n",
       "6362615              non-zero                 no   \n",
       "6362616                  zero                 no   \n",
       "6362617              non-zero                 no   \n",
       "6362618                  zero                 no   \n",
       "6362619              non-zero                 no   \n",
       "\n",
       "        is_oldbalanceOrg_higherthan_newbalanceOrig  \\\n",
       "0                                              yes   \n",
       "1                                              yes   \n",
       "2                                              yes   \n",
       "3                                              yes   \n",
       "4                                              yes   \n",
       "...                                            ...   \n",
       "6362615                                        yes   \n",
       "6362616                                        yes   \n",
       "6362617                                        yes   \n",
       "6362618                                        yes   \n",
       "6362619                                        yes   \n",
       "\n",
       "        is_oldbalanceDest_higherthan_newbalanceDest transaction_direction  \n",
       "0                                                no                   C2M  \n",
       "1                                                no                   C2M  \n",
       "2                                                no                   C2C  \n",
       "3                                               yes                   C2C  \n",
       "4                                                no                   C2M  \n",
       "...                                             ...                   ...  \n",
       "6362615                                          no                   C2C  \n",
       "6362616                                          no                   C2C  \n",
       "6362617                                          no                   C2C  \n",
       "6362618                                          no                   C2C  \n",
       "6362619                                          no                   C2C  \n",
       "\n",
       "[6362620 rows x 28 columns]"
      ]
     },
     "execution_count": 89,
     "metadata": {},
     "output_type": "execute_result"
    }
   ],
   "source": [
    "df1"
   ]
  },
  {
   "cell_type": "markdown",
   "id": "f887bc86",
   "metadata": {
    "heading_collapsed": true,
    "hidden": true,
    "id": "f887bc86"
   },
   "source": [
    "## 2.2 hypothesis to be validated"
   ]
  },
  {
   "cell_type": "markdown",
   "id": "KdZrbGzbupPZ",
   "metadata": {
    "hidden": true,
    "id": "KdZrbGzbupPZ"
   },
   "source": [
    "<figure>\n",
    "<center>\n",
    "<img src='https://embed.coggle.it/diagram/YesV621o8DMzBjmW/608a61dd309b8915ec8ebf2b52979c05b4f67030ee825e0792d7527faaa68809' />\n",
    "<figcaption>Image Caption</figcaption></center>\n",
    "</figure>\n",
    "\n",
    "\n"
   ]
  },
  {
   "cell_type": "markdown",
   "id": "cVTVgzuWqhb5",
   "metadata": {
    "hidden": true,
    "id": "cVTVgzuWqhb5"
   },
   "source": [
    "Validating hipothesis raised:\n",
    "\n",
    "- <b>Transaction type:</b><br>\n",
    "  **1.** cash out and transfer are responsible for most of fraud transactions<br>\n",
    "  <br>\n",
    "- <b>Transaction time:</b><br>\n",
    "  **2.** fraud happens mostly AM<br>\n",
    "  **3.** fraud happens mostly in the morning<br>\n",
    "  **4.** fraud happens mostly during weekdays<br>\n",
    "  **5.** fraud transactions frequencies follow the trend of non-fraud transactions.<br>\n",
    "  <br>\n",
    "- <b>Transaction origin:</b><br>\n",
    "  **6.** most fraud transactions happen when origin old balance is non-zero<br>\n",
    "  **7.** most fraud transactions happen when origin new balance is zero<br>\n",
    "  <br>\n",
    "- <b>Transaction destination:</b><br>\n",
    "  **8.** most fraud transactions happen when destination new balance is non-zero<br>\n",
    "  **9.** most fraud happens for costumer as destination type<br>\n",
    "  <br>\n",
    "- <b>Transaction amount:</b><br>\n",
    "  **10.** the average 'amount' of fraud transactions is higher than non-fraud transactions<br>\n",
    "  <br>\n",
    "- <b>Transaction direction:</b><br>\n",
    "  **11.** most fraud transactions happen in C2C direction<br>\n",
    "  <br>\n",
    "- <b>Flagging:</b><br>\n",
    "  **12.** most of fraud transactions are not flagged"
   ]
  },
  {
   "cell_type": "markdown",
   "id": "-5EtM1EtyXR8",
   "metadata": {
    "heading_collapsed": true,
    "id": "-5EtM1EtyXR8"
   },
   "source": [
    "# 3 - Data Filtering"
   ]
  },
  {
   "cell_type": "markdown",
   "id": "RQvQz601zrCp",
   "metadata": {
    "hidden": true,
    "id": "RQvQz601zrCp"
   },
   "source": [
    "Columns 'orig_type' e 'is_orig_equal_dest' have constant values which is irrelevant for learning process. Let's remove them"
   ]
  },
  {
   "cell_type": "code",
   "execution_count": 90,
   "id": "-xZ-taccjC_n",
   "metadata": {
    "ExecuteTime": {
     "end_time": "2022-01-29T17:18:32.752329Z",
     "start_time": "2022-01-29T17:18:32.472561Z"
    },
    "colab": {
     "base_uri": "https://localhost:8080/"
    },
    "hidden": true,
    "id": "-xZ-taccjC_n",
    "outputId": "8faf413b-cbce-4a81-cca5-8e4b170b2d15"
   },
   "outputs": [
    {
     "data": {
      "text/plain": [
       "array(['Costumer'], dtype=object)"
      ]
     },
     "execution_count": 90,
     "metadata": {},
     "output_type": "execute_result"
    }
   ],
   "source": [
    "df1['orig_type'].unique()"
   ]
  },
  {
   "cell_type": "code",
   "execution_count": 91,
   "id": "PImEWSDSjDCV",
   "metadata": {
    "ExecuteTime": {
     "end_time": "2022-01-29T17:18:32.966581Z",
     "start_time": "2022-01-29T17:18:32.753442Z"
    },
    "colab": {
     "base_uri": "https://localhost:8080/"
    },
    "hidden": true,
    "id": "PImEWSDSjDCV",
    "outputId": "5d3de4af-5e5d-491a-a832-d6c443306408"
   },
   "outputs": [
    {
     "data": {
      "text/plain": [
       "array(['no'], dtype=object)"
      ]
     },
     "execution_count": 91,
     "metadata": {},
     "output_type": "execute_result"
    }
   ],
   "source": [
    "df1['is_orig_equal_dest'].unique()"
   ]
  },
  {
   "cell_type": "code",
   "execution_count": 92,
   "id": "ZzwlpKCky9rj",
   "metadata": {
    "ExecuteTime": {
     "end_time": "2022-01-29T17:18:34.902207Z",
     "start_time": "2022-01-29T17:18:32.967654Z"
    },
    "hidden": true,
    "id": "ZzwlpKCky9rj"
   },
   "outputs": [],
   "source": [
    "df1 = df1.drop(columns=['orig_type','is_orig_equal_dest'])"
   ]
  },
  {
   "cell_type": "markdown",
   "id": "s-IaAxtSbfNT",
   "metadata": {
    "hidden": true,
    "id": "s-IaAxtSbfNT"
   },
   "source": [
    "Column 'nameOrig' is particular individual-related encoded identifier and has a number of unique values almost the same as the entire dataset. Therefore the feature 'nameOrig' is non-informative for learning process. Let's remove it"
   ]
  },
  {
   "cell_type": "code",
   "execution_count": 93,
   "id": "eOPZ3PmKcnoJ",
   "metadata": {
    "ExecuteTime": {
     "end_time": "2022-01-29T17:18:38.661128Z",
     "start_time": "2022-01-29T17:18:34.903440Z"
    },
    "colab": {
     "base_uri": "https://localhost:8080/"
    },
    "hidden": true,
    "id": "eOPZ3PmKcnoJ",
    "outputId": "8a8e4e59-4611-4c2d-dc16-a9b1f657c28c"
   },
   "outputs": [
    {
     "name": "stdout",
     "output_type": "stream",
     "text": [
      "Unique values of \"nameOrig\" column: 6353307\n",
      "\n",
      "Row number of the entire dataset: 6362620\n",
      "\n",
      "Percentage: 0.9985362947967975\n",
      "\n"
     ]
    }
   ],
   "source": [
    "print('Unique values of \"nameOrig\" column: {}\\n'.format(len(df1['nameOrig'].unique())))\n",
    "\n",
    "print('Row number of the entire dataset: {}\\n'.format(df1.shape[0]))  \n",
    "\n",
    "print('Percentage: {}\\n'.format(len(df1['nameOrig'].unique())/df1.shape[0]))  \n"
   ]
  },
  {
   "cell_type": "code",
   "execution_count": 94,
   "id": "kdjtONZ3gaAC",
   "metadata": {
    "ExecuteTime": {
     "end_time": "2022-01-29T17:18:38.679250Z",
     "start_time": "2022-01-29T17:18:38.662365Z"
    },
    "colab": {
     "base_uri": "https://localhost:8080/"
    },
    "hidden": true,
    "id": "kdjtONZ3gaAC",
    "outputId": "56db4008-9ae9-40a0-f01c-6c158424d843"
   },
   "outputs": [
    {
     "name": "stdout",
     "output_type": "stream",
     "text": [
      "Feature: \"nameOrig\"\n",
      "\n",
      "Number of unique ID involded in Fraud transactions: 8213\n",
      "\n",
      "Number of Fraud transactions: 8213\n"
     ]
    }
   ],
   "source": [
    "# For fraud transactions the column 'nameOrig' has the same number of unique values as the entire\n",
    "## number of fraud transactions (each fraud transaction has a different victim)\n",
    "\n",
    "print('Feature: \"nameOrig\"\\n')\n",
    "\n",
    "print('Number of unique ID involded in Fraud transactions: {}\\n'.format(len(df.loc[df['isFraud']==1,'nameOrig'].unique())))\n",
    "\n",
    "print('Number of Fraud transactions: {}'.format(df[df['isFraud']==1].shape[0]))"
   ]
  },
  {
   "cell_type": "code",
   "execution_count": 95,
   "id": "mD63eMZfeWwJ",
   "metadata": {
    "ExecuteTime": {
     "end_time": "2022-01-29T17:18:41.379924Z",
     "start_time": "2022-01-29T17:18:38.680737Z"
    },
    "colab": {
     "base_uri": "https://localhost:8080/"
    },
    "hidden": true,
    "id": "mD63eMZfeWwJ",
    "outputId": "6593a137-5144-4cb8-acc4-f40a63438ca8"
   },
   "outputs": [
    {
     "name": "stdout",
     "output_type": "stream",
     "text": [
      "Unique values of \"nameDest\" column: 2722362\n",
      "\n",
      "Row number of the entire dataset: 6362620\n",
      "\n",
      "Percentage: 0.4278680795018404\n",
      "\n"
     ]
    }
   ],
   "source": [
    "# Regarding 'nameDest' de percentage of unique values is 0.42 of the total dataset\n",
    "## meaning that the money recipient is involved in multiple transactions\n",
    "\n",
    "print('Unique values of \"nameDest\" column: {}\\n'.format(len(df1['nameDest'].unique())))\n",
    "\n",
    "print('Row number of the entire dataset: {}\\n'.format(df1.shape[0]))  \n",
    "\n",
    "print('Percentage: {}\\n'.format(len(df1['nameDest'].unique())/df1.shape[0]))  \n"
   ]
  },
  {
   "cell_type": "code",
   "execution_count": 96,
   "id": "ksYBMNnCitM3",
   "metadata": {
    "ExecuteTime": {
     "end_time": "2022-01-29T17:18:41.396937Z",
     "start_time": "2022-01-29T17:18:41.381219Z"
    },
    "colab": {
     "base_uri": "https://localhost:8080/"
    },
    "hidden": true,
    "id": "ksYBMNnCitM3",
    "outputId": "01afc971-ed2a-4630-c736-429768fadfc7"
   },
   "outputs": [
    {
     "name": "stdout",
     "output_type": "stream",
     "text": [
      "Feature: \"nameDest\"\n",
      "\n",
      "Number of unique ID involded in Fraud transactions: 8169\n",
      "\n",
      "Number of Fraud transactions: 8213\n"
     ]
    }
   ],
   "source": [
    "# For fraud transactions the \"nameDest\" unique values has the same number as the frad transactions\n",
    "## meaning that the same fraud ID is rarely involved in more than one fraud transactions. \n",
    "\n",
    "print('Feature: \"nameDest\"\\n')\n",
    "\n",
    "print('Number of unique ID involded in Fraud transactions: {}\\n'.format(len(df.loc[df['isFraud']==1,'nameDest'].unique())))\n",
    "\n",
    "print('Number of Fraud transactions: {}'.format(df[df['isFraud']==1].shape[0]))"
   ]
  },
  {
   "cell_type": "code",
   "execution_count": 97,
   "id": "8BnOW2-Tjwew",
   "metadata": {
    "ExecuteTime": {
     "end_time": "2022-01-29T17:18:43.731939Z",
     "start_time": "2022-01-29T17:18:41.398387Z"
    },
    "colab": {
     "base_uri": "https://localhost:8080/"
    },
    "hidden": true,
    "id": "8BnOW2-Tjwew",
    "outputId": "08e94e9a-86ac-4259-c3b5-384b704d9648"
   },
   "outputs": [
    {
     "name": "stdout",
     "output_type": "stream",
     "text": [
      "Feature: \"nameDest\"\n",
      "\n",
      "Number of unique ID involded in non-Fraud transactions: 2719685\n",
      "\n",
      "Number of non-Fraud transactions: 6354407\n"
     ]
    }
   ],
   "source": [
    "# In the meantime \"nameDest\" unique values for non-Fraud transactions does not have the same lenght of the\n",
    "## entire number of non-Fraud transactions meaning that when there is no fraud there is the possibility\n",
    "## of the same recipient receive money throught different transactions.\n",
    "\n",
    "# Feature \"nameDest\" might carry important information and should not be removed\n",
    "\n",
    "print('Feature: \"nameDest\"\\n')\n",
    "\n",
    "print('Number of unique ID involded in non-Fraud transactions: {}\\n'.format(len(df.loc[df['isFraud']==0,'nameDest'].unique())))\n",
    "\n",
    "print('Number of non-Fraud transactions: {}'.format(df[df['isFraud']==0].shape[0]))"
   ]
  },
  {
   "cell_type": "code",
   "execution_count": 98,
   "id": "obXWj8V9CpPG",
   "metadata": {
    "ExecuteTime": {
     "end_time": "2022-01-29T17:18:45.324448Z",
     "start_time": "2022-01-29T17:18:43.733282Z"
    },
    "hidden": true,
    "id": "obXWj8V9CpPG"
   },
   "outputs": [],
   "source": [
    "df1 = df1.drop(columns=['nameOrig'])"
   ]
  },
  {
   "cell_type": "code",
   "execution_count": 99,
   "id": "oYGnO7ai0b_y",
   "metadata": {
    "ExecuteTime": {
     "end_time": "2022-01-29T17:18:45.338128Z",
     "start_time": "2022-01-29T17:18:45.325506Z"
    },
    "colab": {
     "base_uri": "https://localhost:8080/"
    },
    "hidden": true,
    "id": "oYGnO7ai0b_y",
    "outputId": "b3d07247-e6ef-44a9-9661-bc998bd4fa07"
   },
   "outputs": [
    {
     "data": {
      "text/html": [
       "<div>\n",
       "<style scoped>\n",
       "    .dataframe tbody tr th:only-of-type {\n",
       "        vertical-align: middle;\n",
       "    }\n",
       "\n",
       "    .dataframe tbody tr th {\n",
       "        vertical-align: top;\n",
       "    }\n",
       "\n",
       "    .dataframe thead th {\n",
       "        text-align: right;\n",
       "    }\n",
       "</style>\n",
       "<table border=\"1\" class=\"dataframe\">\n",
       "  <thead>\n",
       "    <tr style=\"text-align: right;\">\n",
       "      <th></th>\n",
       "      <th>step</th>\n",
       "      <th>type</th>\n",
       "      <th>amount</th>\n",
       "      <th>oldbalanceOrg</th>\n",
       "      <th>newbalanceOrig</th>\n",
       "      <th>nameDest</th>\n",
       "      <th>oldbalanceDest</th>\n",
       "      <th>newbalanceDest</th>\n",
       "      <th>isFraud</th>\n",
       "      <th>isFlaggedFraud</th>\n",
       "      <th>day_of_month</th>\n",
       "      <th>week_of_month</th>\n",
       "      <th>hour_of_day</th>\n",
       "      <th>day_of_week</th>\n",
       "      <th>is_weekend</th>\n",
       "      <th>time_of_day</th>\n",
       "      <th>period_of_day</th>\n",
       "      <th>dest_type</th>\n",
       "      <th>oldbalanceOrg_status</th>\n",
       "      <th>newbalanceOrig_status</th>\n",
       "      <th>oldbalanceDest_status</th>\n",
       "      <th>newbalanceDest_status</th>\n",
       "      <th>is_oldbalanceOrg_higherthan_newbalanceOrig</th>\n",
       "      <th>is_oldbalanceDest_higherthan_newbalanceDest</th>\n",
       "      <th>transaction_direction</th>\n",
       "    </tr>\n",
       "  </thead>\n",
       "  <tbody>\n",
       "    <tr>\n",
       "      <th>0</th>\n",
       "      <td>1</td>\n",
       "      <td>PAYMENT</td>\n",
       "      <td>9839.64</td>\n",
       "      <td>170136.0</td>\n",
       "      <td>160296.36</td>\n",
       "      <td>M1979787155</td>\n",
       "      <td>0.0</td>\n",
       "      <td>0.0</td>\n",
       "      <td>0</td>\n",
       "      <td>no</td>\n",
       "      <td>1</td>\n",
       "      <td>1</td>\n",
       "      <td>0</td>\n",
       "      <td>1</td>\n",
       "      <td>weekend</td>\n",
       "      <td>AM</td>\n",
       "      <td>Morning</td>\n",
       "      <td>Merchant</td>\n",
       "      <td>non-zero</td>\n",
       "      <td>non-zero</td>\n",
       "      <td>zero</td>\n",
       "      <td>zero</td>\n",
       "      <td>yes</td>\n",
       "      <td>no</td>\n",
       "      <td>C2M</td>\n",
       "    </tr>\n",
       "    <tr>\n",
       "      <th>1</th>\n",
       "      <td>1</td>\n",
       "      <td>PAYMENT</td>\n",
       "      <td>1864.28</td>\n",
       "      <td>21249.0</td>\n",
       "      <td>19384.72</td>\n",
       "      <td>M2044282225</td>\n",
       "      <td>0.0</td>\n",
       "      <td>0.0</td>\n",
       "      <td>0</td>\n",
       "      <td>no</td>\n",
       "      <td>1</td>\n",
       "      <td>1</td>\n",
       "      <td>0</td>\n",
       "      <td>1</td>\n",
       "      <td>weekend</td>\n",
       "      <td>AM</td>\n",
       "      <td>Morning</td>\n",
       "      <td>Merchant</td>\n",
       "      <td>non-zero</td>\n",
       "      <td>non-zero</td>\n",
       "      <td>zero</td>\n",
       "      <td>zero</td>\n",
       "      <td>yes</td>\n",
       "      <td>no</td>\n",
       "      <td>C2M</td>\n",
       "    </tr>\n",
       "    <tr>\n",
       "      <th>2</th>\n",
       "      <td>1</td>\n",
       "      <td>TRANSFER</td>\n",
       "      <td>181.00</td>\n",
       "      <td>181.0</td>\n",
       "      <td>0.00</td>\n",
       "      <td>C553264065</td>\n",
       "      <td>0.0</td>\n",
       "      <td>0.0</td>\n",
       "      <td>1</td>\n",
       "      <td>no</td>\n",
       "      <td>1</td>\n",
       "      <td>1</td>\n",
       "      <td>0</td>\n",
       "      <td>1</td>\n",
       "      <td>weekend</td>\n",
       "      <td>AM</td>\n",
       "      <td>Morning</td>\n",
       "      <td>Costumer</td>\n",
       "      <td>non-zero</td>\n",
       "      <td>zero</td>\n",
       "      <td>zero</td>\n",
       "      <td>zero</td>\n",
       "      <td>yes</td>\n",
       "      <td>no</td>\n",
       "      <td>C2C</td>\n",
       "    </tr>\n",
       "    <tr>\n",
       "      <th>3</th>\n",
       "      <td>1</td>\n",
       "      <td>CASH_OUT</td>\n",
       "      <td>181.00</td>\n",
       "      <td>181.0</td>\n",
       "      <td>0.00</td>\n",
       "      <td>C38997010</td>\n",
       "      <td>21182.0</td>\n",
       "      <td>0.0</td>\n",
       "      <td>1</td>\n",
       "      <td>no</td>\n",
       "      <td>1</td>\n",
       "      <td>1</td>\n",
       "      <td>0</td>\n",
       "      <td>1</td>\n",
       "      <td>weekend</td>\n",
       "      <td>AM</td>\n",
       "      <td>Morning</td>\n",
       "      <td>Costumer</td>\n",
       "      <td>non-zero</td>\n",
       "      <td>zero</td>\n",
       "      <td>non-zero</td>\n",
       "      <td>zero</td>\n",
       "      <td>yes</td>\n",
       "      <td>yes</td>\n",
       "      <td>C2C</td>\n",
       "    </tr>\n",
       "    <tr>\n",
       "      <th>4</th>\n",
       "      <td>1</td>\n",
       "      <td>PAYMENT</td>\n",
       "      <td>11668.14</td>\n",
       "      <td>41554.0</td>\n",
       "      <td>29885.86</td>\n",
       "      <td>M1230701703</td>\n",
       "      <td>0.0</td>\n",
       "      <td>0.0</td>\n",
       "      <td>0</td>\n",
       "      <td>no</td>\n",
       "      <td>1</td>\n",
       "      <td>1</td>\n",
       "      <td>0</td>\n",
       "      <td>1</td>\n",
       "      <td>weekend</td>\n",
       "      <td>AM</td>\n",
       "      <td>Morning</td>\n",
       "      <td>Merchant</td>\n",
       "      <td>non-zero</td>\n",
       "      <td>non-zero</td>\n",
       "      <td>zero</td>\n",
       "      <td>zero</td>\n",
       "      <td>yes</td>\n",
       "      <td>no</td>\n",
       "      <td>C2M</td>\n",
       "    </tr>\n",
       "  </tbody>\n",
       "</table>\n",
       "</div>"
      ],
      "text/plain": [
       "   step      type    amount  oldbalanceOrg  newbalanceOrig     nameDest  \\\n",
       "0     1   PAYMENT   9839.64       170136.0       160296.36  M1979787155   \n",
       "1     1   PAYMENT   1864.28        21249.0        19384.72  M2044282225   \n",
       "2     1  TRANSFER    181.00          181.0            0.00   C553264065   \n",
       "3     1  CASH_OUT    181.00          181.0            0.00    C38997010   \n",
       "4     1   PAYMENT  11668.14        41554.0        29885.86  M1230701703   \n",
       "\n",
       "   oldbalanceDest  newbalanceDest  isFraud isFlaggedFraud  day_of_month  \\\n",
       "0             0.0             0.0        0             no             1   \n",
       "1             0.0             0.0        0             no             1   \n",
       "2             0.0             0.0        1             no             1   \n",
       "3         21182.0             0.0        1             no             1   \n",
       "4             0.0             0.0        0             no             1   \n",
       "\n",
       "   week_of_month  hour_of_day  day_of_week is_weekend time_of_day  \\\n",
       "0              1            0            1    weekend          AM   \n",
       "1              1            0            1    weekend          AM   \n",
       "2              1            0            1    weekend          AM   \n",
       "3              1            0            1    weekend          AM   \n",
       "4              1            0            1    weekend          AM   \n",
       "\n",
       "  period_of_day dest_type oldbalanceOrg_status newbalanceOrig_status  \\\n",
       "0       Morning  Merchant             non-zero              non-zero   \n",
       "1       Morning  Merchant             non-zero              non-zero   \n",
       "2       Morning  Costumer             non-zero                  zero   \n",
       "3       Morning  Costumer             non-zero                  zero   \n",
       "4       Morning  Merchant             non-zero              non-zero   \n",
       "\n",
       "  oldbalanceDest_status newbalanceDest_status  \\\n",
       "0                  zero                  zero   \n",
       "1                  zero                  zero   \n",
       "2                  zero                  zero   \n",
       "3              non-zero                  zero   \n",
       "4                  zero                  zero   \n",
       "\n",
       "  is_oldbalanceOrg_higherthan_newbalanceOrig  \\\n",
       "0                                        yes   \n",
       "1                                        yes   \n",
       "2                                        yes   \n",
       "3                                        yes   \n",
       "4                                        yes   \n",
       "\n",
       "  is_oldbalanceDest_higherthan_newbalanceDest transaction_direction  \n",
       "0                                          no                   C2M  \n",
       "1                                          no                   C2M  \n",
       "2                                          no                   C2C  \n",
       "3                                         yes                   C2C  \n",
       "4                                          no                   C2M  "
      ]
     },
     "execution_count": 99,
     "metadata": {},
     "output_type": "execute_result"
    }
   ],
   "source": [
    "df1.head()"
   ]
  },
  {
   "cell_type": "markdown",
   "id": "L02Li3OexEiw",
   "metadata": {
    "heading_collapsed": true,
    "id": "L02Li3OexEiw"
   },
   "source": [
    "# 4 - Exploratory Data Analysis (EDA)"
   ]
  },
  {
   "cell_type": "markdown",
   "id": "Ic7FuQ20RgZZ",
   "metadata": {
    "heading_collapsed": true,
    "hidden": true,
    "id": "Ic7FuQ20RgZZ"
   },
   "source": [
    "## 4.1 Univariate Analysis"
   ]
  },
  {
   "cell_type": "markdown",
   "id": "cEmPBHby5syD",
   "metadata": {
    "heading_collapsed": true,
    "hidden": true,
    "id": "cEmPBHby5syD"
   },
   "source": [
    "### Response variable"
   ]
  },
  {
   "cell_type": "code",
   "execution_count": 100,
   "id": "cCpyrq9Y6N7U",
   "metadata": {
    "ExecuteTime": {
     "end_time": "2022-01-29T17:18:45.997532Z",
     "start_time": "2022-01-29T17:18:45.339172Z"
    },
    "colab": {
     "base_uri": "https://localhost:8080/",
     "height": 290
    },
    "hidden": true,
    "id": "cCpyrq9Y6N7U",
    "outputId": "6c471de5-3b30-4495-baf5-9536b6681d16"
   },
   "outputs": [
    {
     "data": {
      "image/png": "[encoded data removed]",
      "text/plain": [
       "<Figure size 432x288 with 1 Axes>"
      ]
     },
     "metadata": {
      "needs_background": "light"
     },
     "output_type": "display_data"
    }
   ],
   "source": [
    "# Most of transactions is non-Fraud\n",
    "\n",
    "sns.countplot(df1['isFraud']);"
   ]
  },
  {
   "cell_type": "markdown",
   "id": "xiwCYpyzxfOr",
   "metadata": {
    "heading_collapsed": true,
    "hidden": true,
    "id": "xiwCYpyzxfOr"
   },
   "source": [
    "### 4.1.1 Numerical attributes"
   ]
  },
  {
   "cell_type": "code",
   "execution_count": 101,
   "id": "4xYwbAAi22Iw",
   "metadata": {
    "ExecuteTime": {
     "end_time": "2022-01-29T17:18:49.692143Z",
     "start_time": "2022-01-29T17:18:45.998963Z"
    },
    "colab": {
     "base_uri": "https://localhost:8080/",
     "height": 643
    },
    "hidden": true,
    "id": "4xYwbAAi22Iw",
    "outputId": "3e6b6509-94b1-4be5-ee93-0402e9588620"
   },
   "outputs": [
    {
     "data": {
      "image/png": "[encoded data removed]",
      "text/plain": [
       "<Figure size 1080x720 with 12 Axes>"
      ]
     },
     "metadata": {
      "needs_background": "light"
     },
     "output_type": "display_data"
    }
   ],
   "source": [
    "df1.select_dtypes(['float64', 'int64']).hist(figsize=(15,10), bins=50);\n",
    "plt.tight_layout()"
   ]
  },
  {
   "cell_type": "markdown",
   "id": "veXoARn8xmCY",
   "metadata": {
    "hidden": true,
    "id": "veXoARn8xmCY"
   },
   "source": [
    "### 4.1.2 Categorical attributes"
   ]
  },
  {
   "cell_type": "code",
   "execution_count": 102,
   "id": "494354d1",
   "metadata": {
    "ExecuteTime": {
     "end_time": "2022-01-29T17:18:51.483955Z",
     "start_time": "2022-01-29T17:18:49.693308Z"
    },
    "hidden": true,
    "id": "494354d1"
   },
   "outputs": [],
   "source": [
    "cat_attrib = df1.select_dtypes(exclude=['int64','float64'])\n",
    "\n",
    "cat_attrib = cat_attrib.drop(columns=['nameDest'])"
   ]
  },
  {
   "cell_type": "code",
   "execution_count": 103,
   "id": "Y-cikHMKN4eW",
   "metadata": {
    "ExecuteTime": {
     "end_time": "2022-01-29T17:19:19.148699Z",
     "start_time": "2022-01-29T17:18:51.485116Z"
    },
    "colab": {
     "base_uri": "https://localhost:8080/"
    },
    "hidden": true,
    "id": "Y-cikHMKN4eW",
    "outputId": "f055b0eb-4311-49e9-fe05-a95f1dbfa35b"
   },
   "outputs": [
    {
     "data": {
      "image/png": "[encoded data removed]",
      "text/plain": [
       "<Figure size 1296x720 with 13 Axes>"
      ]
     },
     "metadata": {
      "needs_background": "light"
     },
     "output_type": "display_data"
    }
   ],
   "source": [
    "# sets plot size\n",
    "plt.figure(figsize=(18, 10))\n",
    "\n",
    "# sets the inital plot position\n",
    "n = 1\n",
    "\n",
    "# iterates over the columns to plot\n",
    "for i in cat_attrib.columns:\n",
    "    plt.subplot(5, 3, n)\n",
    "    _ = sns.countplot(y=cat_attrib[i])\n",
    "    n += 1\n",
    "\n",
    "# adjust height and wdith reserved for space between subplots  \n",
    "plt.subplots_adjust(hspace=0.8)\n",
    "plt.subplots_adjust(wspace=0.3)\n",
    "\n",
    "# # display the plot\n",
    "plt.show()"
   ]
  },
  {
   "cell_type": "markdown",
   "id": "3FAEvmG4xSSe",
   "metadata": {
    "heading_collapsed": true,
    "hidden": true,
    "id": "3FAEvmG4xSSe"
   },
   "source": [
    "## 4.2 Bivariate analysis"
   ]
  },
  {
   "cell_type": "markdown",
   "id": "wMnWE9X4UC6k",
   "metadata": {
    "heading_collapsed": true,
    "hidden": true,
    "id": "wMnWE9X4UC6k"
   },
   "source": [
    "### 4.2.1 Validating hypothesis raised"
   ]
  },
  {
   "cell_type": "markdown",
   "id": "n26WfSV_SJH_",
   "metadata": {
    "hidden": true,
    "id": "n26WfSV_SJH_"
   },
   "source": [
    "Validating hipothesis raised:\n",
    "\n",
    "- <b>Transaction type:</b><br>\n",
    "  **1.** cash out and transfer are responsible for most of fraud transactions<br>\n",
    "  <br>\n",
    "- <b>Transaction time:</b><br>\n",
    "  **2.** fraud happens mostly AM<br>\n",
    "  **3.** fraud happens mostly in the morning<br>\n",
    "  **4.** fraud happens mostly during weekdays<br>\n",
    "  **5.** fraud transactions frequencies follow the trend of non-fraud transactions.<br>\n",
    "  <br>\n",
    "- <b>Transaction origin:</b><br>\n",
    "  **6.** most fraud transactions happen when origin old balance is non-zero<br>\n",
    "  **7.** most fraud transactions happen when origin new balance is zero<br>\n",
    "  <br>\n",
    "- <b>Transaction destination:</b><br>\n",
    "  **8.** most fraud transactions happen when destination new balance is non-zero<br>\n",
    "  **9.** most fraud happens for costumer as destination type<br>\n",
    "  <br>\n",
    "- <b>Transaction amount:</b><br>\n",
    "  **10.** the average 'amount' of fraud transactions is higher than non-fraud transactions<br>\n",
    "  <br>\n",
    "- <b>Transaction direction:</b><br>\n",
    "  **11.** most fraud transactions happen in C2C direction<br>\n",
    "  <br>\n",
    "- <b>Flagging:</b><br>\n",
    "  **12.** most of fraud transactions are not flagged"
   ]
  },
  {
   "cell_type": "code",
   "execution_count": null,
   "id": "eLwFXjziSqsD",
   "metadata": {
    "hidden": true,
    "id": "eLwFXjziSqsD"
   },
   "outputs": [],
   "source": []
  },
  {
   "cell_type": "markdown",
   "id": "Sq0slsc8Sjl5",
   "metadata": {
    "hidden": true,
    "id": "Sq0slsc8Sjl5"
   },
   "source": [
    "\n",
    "- <b><font color=\"brown\">Transaction type:</font></b><br>\n",
    "  **1.** cash out and transfer are responsible for most of fraud transactions<br>\n",
    "  <b>ANSWER:</b> <i>for fraud transactions there are no 'PAYMENT', 'DEBIT', 'CASH_IN' transactions, just 'TRANSFER', 'CASH_OUT', which represents almost 50% each.</i>"
   ]
  },
  {
   "cell_type": "code",
   "execution_count": 104,
   "id": "_BbQNqcfRpEg",
   "metadata": {
    "ExecuteTime": {
     "end_time": "2022-01-29T17:19:19.226930Z",
     "start_time": "2022-01-29T17:19:19.150558Z"
    },
    "colab": {
     "base_uri": "https://localhost:8080/"
    },
    "hidden": true,
    "id": "_BbQNqcfRpEg",
    "outputId": "a2a563d5-08ec-46e1-cdb0-2bbab035f32f"
   },
   "outputs": [
    {
     "data": {
      "text/plain": [
       "<AxesSubplot:xlabel='type', ylabel='count'>"
      ]
     },
     "execution_count": 104,
     "metadata": {},
     "output_type": "execute_result"
    },
    {
     "data": {
      "image/png": "[encoded data removed]",
      "text/plain": [
       "<Figure size 432x288 with 1 Axes>"
      ]
     },
     "metadata": {
      "needs_background": "light"
     },
     "output_type": "display_data"
    }
   ],
   "source": [
    "sns.countplot(df1.loc[df1['isFraud']==1,'type'])"
   ]
  },
  {
   "cell_type": "markdown",
   "id": "Yox8bAlEURWc",
   "metadata": {
    "hidden": true,
    "id": "Yox8bAlEURWc"
   },
   "source": [
    "\n",
    "- <b><font color=\"green\">Transaction time:</font></b><br>\n",
    "  **2.** fraud happens mostly AM<br>\n",
    "  <b>ANSWER:</b> <i>TRUE. Fraud transactions mostly happen AM.</i>"
   ]
  },
  {
   "cell_type": "code",
   "execution_count": 105,
   "id": "MQqcc4moUScl",
   "metadata": {
    "ExecuteTime": {
     "end_time": "2022-01-29T17:19:19.294383Z",
     "start_time": "2022-01-29T17:19:19.228160Z"
    },
    "colab": {
     "base_uri": "https://localhost:8080/"
    },
    "hidden": true,
    "id": "MQqcc4moUScl",
    "outputId": "ce302c88-f700-45f9-bb21-f938b163e1ff"
   },
   "outputs": [
    {
     "data": {
      "text/plain": [
       "<AxesSubplot:xlabel='time_of_day', ylabel='count'>"
      ]
     },
     "execution_count": 105,
     "metadata": {},
     "output_type": "execute_result"
    },
    {
     "data": {
      "image/png": "[encoded data removed]",
      "text/plain": [
       "<Figure size 432x288 with 1 Axes>"
      ]
     },
     "metadata": {
      "needs_background": "light"
     },
     "output_type": "display_data"
    }
   ],
   "source": [
    "sns.countplot(df1.loc[df1['isFraud']==1,'time_of_day'])"
   ]
  },
  {
   "cell_type": "code",
   "execution_count": 106,
   "id": "V_n-_t5qd8L7",
   "metadata": {
    "ExecuteTime": {
     "end_time": "2022-01-29T17:19:21.619415Z",
     "start_time": "2022-01-29T17:19:19.295503Z"
    },
    "colab": {
     "base_uri": "https://localhost:8080/"
    },
    "hidden": true,
    "id": "V_n-_t5qd8L7",
    "outputId": "040ed5f3-0259-496f-9249-dab88424671f"
   },
   "outputs": [
    {
     "data": {
      "text/plain": [
       "<AxesSubplot:xlabel='time_of_day', ylabel='count'>"
      ]
     },
     "execution_count": 106,
     "metadata": {},
     "output_type": "execute_result"
    },
    {
     "data": {
      "image/png": "[encoded data removed]",
      "text/plain": [
       "<Figure size 432x288 with 1 Axes>"
      ]
     },
     "metadata": {
      "needs_background": "light"
     },
     "output_type": "display_data"
    }
   ],
   "source": [
    "# Non-fraud transactions, however, happen in the opposite direction\n",
    "\n",
    "sns.countplot(df1.loc[df1['isFraud']==0,'time_of_day'])"
   ]
  },
  {
   "cell_type": "markdown",
   "id": "nHw7Z56ZUrIw",
   "metadata": {
    "hidden": true,
    "id": "nHw7Z56ZUrIw"
   },
   "source": [
    "\n",
    "- <b><font color=\"green\">Transaction time:</font></b><br>\n",
    "  **3.** fraud happens mostly in the morning<br>\n",
    "  <b>ANSWER:</b> <i>TRUE. Fraud transactions mostly happen in the morning.</i>"
   ]
  },
  {
   "cell_type": "code",
   "execution_count": 107,
   "id": "63ivAye9USfg",
   "metadata": {
    "ExecuteTime": {
     "end_time": "2022-01-29T17:19:21.689499Z",
     "start_time": "2022-01-29T17:19:21.620711Z"
    },
    "colab": {
     "base_uri": "https://localhost:8080/"
    },
    "hidden": true,
    "id": "63ivAye9USfg",
    "outputId": "60ed0f8c-d920-4586-d307-2f11944a4c10"
   },
   "outputs": [
    {
     "data": {
      "text/plain": [
       "<AxesSubplot:xlabel='period_of_day', ylabel='count'>"
      ]
     },
     "execution_count": 107,
     "metadata": {},
     "output_type": "execute_result"
    },
    {
     "data": {
      "image/png": "[encoded data removed]",
      "text/plain": [
       "<Figure size 432x288 with 1 Axes>"
      ]
     },
     "metadata": {
      "needs_background": "light"
     },
     "output_type": "display_data"
    }
   ],
   "source": [
    "sns.countplot(df1.loc[df1['isFraud']==1,'period_of_day'])"
   ]
  },
  {
   "cell_type": "code",
   "execution_count": 108,
   "id": "2CgkpzkxdnDy",
   "metadata": {
    "ExecuteTime": {
     "end_time": "2022-01-29T17:19:23.939934Z",
     "start_time": "2022-01-29T17:19:21.690596Z"
    },
    "colab": {
     "base_uri": "https://localhost:8080/"
    },
    "hidden": true,
    "id": "2CgkpzkxdnDy",
    "outputId": "22456dfe-76d8-4945-9f94-7564a223ae76"
   },
   "outputs": [
    {
     "data": {
      "text/plain": [
       "<AxesSubplot:xlabel='period_of_day', ylabel='count'>"
      ]
     },
     "execution_count": 108,
     "metadata": {},
     "output_type": "execute_result"
    },
    {
     "data": {
      "image/png": "[encoded data removed]",
      "text/plain": [
       "<Figure size 432x288 with 1 Axes>"
      ]
     },
     "metadata": {
      "needs_background": "light"
     },
     "output_type": "display_data"
    }
   ],
   "source": [
    "# Compared to non-Fraud transactions which happen mostly in the afternoon\n",
    "\n",
    "sns.countplot(df1.loc[df1['isFraud']==0,'period_of_day'])"
   ]
  },
  {
   "cell_type": "markdown",
   "id": "agvzWBHpWytU",
   "metadata": {
    "hidden": true,
    "id": "agvzWBHpWytU"
   },
   "source": [
    "\n",
    "- <b><font color=\"green\">Transaction time:</font></b><br>\n",
    "  **4.** fraud happens mostly during weekdays<br>\n",
    "  <b>ANSWER:</b> <i>True. Fraud happens mostly during weekdays</i>"
   ]
  },
  {
   "cell_type": "code",
   "execution_count": 109,
   "id": "sjvV08TCUSi7",
   "metadata": {
    "ExecuteTime": {
     "end_time": "2022-01-29T17:19:24.009480Z",
     "start_time": "2022-01-29T17:19:23.941102Z"
    },
    "colab": {
     "base_uri": "https://localhost:8080/"
    },
    "hidden": true,
    "id": "sjvV08TCUSi7",
    "outputId": "edcc993a-2bf9-4e6f-813c-78aebcd0342b"
   },
   "outputs": [
    {
     "data": {
      "text/plain": [
       "<AxesSubplot:xlabel='is_weekend', ylabel='count'>"
      ]
     },
     "execution_count": 109,
     "metadata": {},
     "output_type": "execute_result"
    },
    {
     "data": {
      "image/png": "[encoded data removed]",
      "text/plain": [
       "<Figure size 432x288 with 1 Axes>"
      ]
     },
     "metadata": {
      "needs_background": "light"
     },
     "output_type": "display_data"
    }
   ],
   "source": [
    "sns.countplot(df1.loc[df1['isFraud']==1,'is_weekend'])"
   ]
  },
  {
   "cell_type": "code",
   "execution_count": 110,
   "id": "udSDVpr1foGE",
   "metadata": {
    "ExecuteTime": {
     "end_time": "2022-01-29T17:19:26.248814Z",
     "start_time": "2022-01-29T17:19:24.010619Z"
    },
    "colab": {
     "base_uri": "https://localhost:8080/"
    },
    "hidden": true,
    "id": "udSDVpr1foGE",
    "outputId": "39b20c57-cbc9-401c-eb35-ddf5e61846d5"
   },
   "outputs": [
    {
     "data": {
      "text/plain": [
       "<AxesSubplot:xlabel='is_weekend', ylabel='count'>"
      ]
     },
     "execution_count": 110,
     "metadata": {},
     "output_type": "execute_result"
    },
    {
     "data": {
      "image/png": "[encoded data removed]",
      "text/plain": [
       "<Figure size 432x288 with 1 Axes>"
      ]
     },
     "metadata": {
      "needs_background": "light"
     },
     "output_type": "display_data"
    }
   ],
   "source": [
    "# Non-fraud transactions have the same behaviour\n",
    "\n",
    "sns.countplot(df1.loc[df1['isFraud']==0,'is_weekend'])"
   ]
  },
  {
   "cell_type": "markdown",
   "id": "pIdzMPc6pnLm",
   "metadata": {
    "hidden": true,
    "id": "pIdzMPc6pnLm"
   },
   "source": [
    "\n",
    "- <b><font color=\"green\">Transaction time:</font></b><br>\n",
    "  **5.** fraud transactions frequencies follow the trend of non-Fraud transactions.<br>\n",
    "  <b>ANSWER:</b> <i>False. Fraud happens with diferent frequencie distribution.</i>"
   ]
  },
  {
   "cell_type": "code",
   "execution_count": 111,
   "id": "pYRSsZ3_olZi",
   "metadata": {
    "ExecuteTime": {
     "end_time": "2022-01-29T17:19:26.336421Z",
     "start_time": "2022-01-29T17:19:26.249974Z"
    },
    "colab": {
     "base_uri": "https://localhost:8080/"
    },
    "hidden": true,
    "id": "pYRSsZ3_olZi",
    "outputId": "068d0056-b55f-48fc-83a7-b9a18b165990"
   },
   "outputs": [
    {
     "data": {
      "text/plain": [
       "<AxesSubplot:xlabel='day_of_week', ylabel='count'>"
      ]
     },
     "execution_count": 111,
     "metadata": {},
     "output_type": "execute_result"
    },
    {
     "data": {
      "image/png": "[encoded data removed]",
      "text/plain": [
       "<Figure size 432x288 with 1 Axes>"
      ]
     },
     "metadata": {
      "needs_background": "light"
     },
     "output_type": "display_data"
    }
   ],
   "source": [
    "sns.countplot(df1.loc[df1['isFraud']==1,'day_of_week'])"
   ]
  },
  {
   "cell_type": "code",
   "execution_count": 112,
   "id": "Jo4PSCOPpBgL",
   "metadata": {
    "ExecuteTime": {
     "end_time": "2022-01-29T17:19:27.028555Z",
     "start_time": "2022-01-29T17:19:26.337399Z"
    },
    "colab": {
     "base_uri": "https://localhost:8080/"
    },
    "hidden": true,
    "id": "Jo4PSCOPpBgL",
    "outputId": "7bcdddf0-5620-4e25-d692-e84ee8b7c07d"
   },
   "outputs": [
    {
     "data": {
      "text/plain": [
       "<AxesSubplot:xlabel='day_of_week', ylabel='count'>"
      ]
     },
     "execution_count": 112,
     "metadata": {},
     "output_type": "execute_result"
    },
    {
     "data": {
      "image/png": "[encoded data removed]",
      "text/plain": [
       "<Figure size 432x288 with 1 Axes>"
      ]
     },
     "metadata": {
      "needs_background": "light"
     },
     "output_type": "display_data"
    }
   ],
   "source": [
    "sns.countplot(df1.loc[df1['isFraud']==0,'day_of_week'])"
   ]
  },
  {
   "cell_type": "markdown",
   "id": "tGWRK83XXLVR",
   "metadata": {
    "hidden": true,
    "id": "tGWRK83XXLVR"
   },
   "source": [
    "\n",
    "- <b><font color=\"brown\">Transaction origin:</font></b><br>\n",
    "  **6.** most fraud transactions happen when origin old balance is non-zero<br>\n",
    "  <b>ANSWER:</b> <i>True. Althought there are some frauds where the Origin old balance is zero, the majority of fraud events happened when it was non-zero.</i>"
   ]
  },
  {
   "cell_type": "code",
   "execution_count": 113,
   "id": "f-f2LpJ8USle",
   "metadata": {
    "ExecuteTime": {
     "end_time": "2022-01-29T17:19:27.104546Z",
     "start_time": "2022-01-29T17:19:27.029894Z"
    },
    "colab": {
     "base_uri": "https://localhost:8080/"
    },
    "hidden": true,
    "id": "f-f2LpJ8USle",
    "outputId": "e964e965-e571-48a8-a220-64583981cfe5"
   },
   "outputs": [
    {
     "data": {
      "text/plain": [
       "<AxesSubplot:xlabel='oldbalanceOrg_status', ylabel='count'>"
      ]
     },
     "execution_count": 113,
     "metadata": {},
     "output_type": "execute_result"
    },
    {
     "data": {
      "image/png": "[encoded data removed]",
      "text/plain": [
       "<Figure size 432x288 with 1 Axes>"
      ]
     },
     "metadata": {
      "needs_background": "light"
     },
     "output_type": "display_data"
    }
   ],
   "source": [
    "sns.countplot(df1.loc[df1['isFraud']==1,'oldbalanceOrg_status'])"
   ]
  },
  {
   "cell_type": "code",
   "execution_count": 114,
   "id": "YhIehhZyWzX3",
   "metadata": {
    "ExecuteTime": {
     "end_time": "2022-01-29T17:19:29.529609Z",
     "start_time": "2022-01-29T17:19:27.105536Z"
    },
    "colab": {
     "base_uri": "https://localhost:8080/"
    },
    "hidden": true,
    "id": "YhIehhZyWzX3",
    "outputId": "ca8ea24d-e859-4c48-a2b3-3fb2803089c6"
   },
   "outputs": [
    {
     "data": {
      "text/plain": [
       "<AxesSubplot:xlabel='oldbalanceOrg_status', ylabel='count'>"
      ]
     },
     "execution_count": 114,
     "metadata": {},
     "output_type": "execute_result"
    },
    {
     "data": {
      "image/png": "[encoded data removed]",
      "text/plain": [
       "<Figure size 432x288 with 1 Axes>"
      ]
     },
     "metadata": {
      "needs_background": "light"
     },
     "output_type": "display_data"
    }
   ],
   "source": [
    "# For non-fraud transactions non-zero/zero ratio is different\n",
    "\n",
    "sns.countplot(df1.loc[df1['isFraud']==0,'oldbalanceOrg_status'])"
   ]
  },
  {
   "cell_type": "markdown",
   "id": "ZU4QHjEkXXok",
   "metadata": {
    "hidden": true,
    "id": "ZU4QHjEkXXok"
   },
   "source": [
    "\n",
    "- <b><font color=\"brown\">Transaction origin:</font></b><br>\n",
    "  **7.** most fraud transactions happen when origin new balance is zero<br>\n",
    "  <b>ANSWER:</b> <i>True. After most fraud transactions the remaining origin balance is zero.</i>"
   ]
  },
  {
   "cell_type": "code",
   "execution_count": 115,
   "id": "MUIpsETLXVDY",
   "metadata": {
    "ExecuteTime": {
     "end_time": "2022-01-29T17:19:29.606610Z",
     "start_time": "2022-01-29T17:19:29.530799Z"
    },
    "colab": {
     "base_uri": "https://localhost:8080/"
    },
    "hidden": true,
    "id": "MUIpsETLXVDY",
    "outputId": "0742114d-7d74-41ea-a27a-b1fdc87e27b9"
   },
   "outputs": [
    {
     "data": {
      "text/plain": [
       "<AxesSubplot:xlabel='newbalanceOrig_status', ylabel='count'>"
      ]
     },
     "execution_count": 115,
     "metadata": {},
     "output_type": "execute_result"
    },
    {
     "data": {
      "image/png": "[encoded data removed]",
      "text/plain": [
       "<Figure size 432x288 with 1 Axes>"
      ]
     },
     "metadata": {
      "needs_background": "light"
     },
     "output_type": "display_data"
    }
   ],
   "source": [
    "sns.countplot(df1.loc[df1['isFraud']==1,'newbalanceOrig_status'],\n",
    "              order= sorted(df1.loc[df1['isFraud']==1,'newbalanceOrig_status'].unique().tolist()))"
   ]
  },
  {
   "cell_type": "code",
   "execution_count": 116,
   "id": "JMjoJ4KyXInc",
   "metadata": {
    "ExecuteTime": {
     "end_time": "2022-01-29T17:19:31.720833Z",
     "start_time": "2022-01-29T17:19:29.607649Z"
    },
    "colab": {
     "base_uri": "https://localhost:8080/"
    },
    "hidden": true,
    "id": "JMjoJ4KyXInc",
    "outputId": "fb05b41b-0762-44a0-caf5-97ada4a5db23"
   },
   "outputs": [
    {
     "data": {
      "text/plain": [
       "<AxesSubplot:xlabel='newbalanceOrig_status', ylabel='count'>"
      ]
     },
     "execution_count": 116,
     "metadata": {},
     "output_type": "execute_result"
    },
    {
     "data": {
      "image/png": "[encoded data removed]",
      "text/plain": [
       "<Figure size 432x288 with 1 Axes>"
      ]
     },
     "metadata": {
      "needs_background": "light"
     },
     "output_type": "display_data"
    }
   ],
   "source": [
    "# For non-fraud transactions the non-zero/zero ratio is different\n",
    "\n",
    "sns.countplot(df1.loc[df1['isFraud']==0,'newbalanceOrig_status'],\n",
    "              order= sorted(df1.loc[df1['isFraud']==0,'newbalanceOrig_status'].unique().tolist()))"
   ]
  },
  {
   "cell_type": "markdown",
   "id": "Bcl7XjhRYDuD",
   "metadata": {
    "hidden": true,
    "id": "Bcl7XjhRYDuD"
   },
   "source": [
    "\n",
    "- <b><font color= \"green\">Transaction destination:</font></b><br>\n",
    "  **8.** most fraud transactions happen when destination new balance is non-zero<br>\n",
    "  <b>ANSWER:</b> <i>False. For both zero and non-zero remaining balance they are equally frequent.</i>"
   ]
  },
  {
   "cell_type": "code",
   "execution_count": 117,
   "id": "4Swy4Og1XVJK",
   "metadata": {
    "ExecuteTime": {
     "end_time": "2022-01-29T17:19:31.794015Z",
     "start_time": "2022-01-29T17:19:31.722188Z"
    },
    "colab": {
     "base_uri": "https://localhost:8080/"
    },
    "hidden": true,
    "id": "4Swy4Og1XVJK",
    "outputId": "547709b5-eec4-40f2-92f3-c28dec68a09f"
   },
   "outputs": [
    {
     "data": {
      "text/plain": [
       "<AxesSubplot:xlabel='newbalanceDest_status', ylabel='count'>"
      ]
     },
     "execution_count": 117,
     "metadata": {},
     "output_type": "execute_result"
    },
    {
     "data": {
      "image/png": "[encoded data removed]",
      "text/plain": [
       "<Figure size 432x288 with 1 Axes>"
      ]
     },
     "metadata": {
      "needs_background": "light"
     },
     "output_type": "display_data"
    }
   ],
   "source": [
    "sns.countplot(df1.loc[df1['isFraud']==1,'newbalanceDest_status'])"
   ]
  },
  {
   "cell_type": "code",
   "execution_count": 118,
   "id": "YIC4pl1fh7nW",
   "metadata": {
    "ExecuteTime": {
     "end_time": "2022-01-29T17:19:34.054144Z",
     "start_time": "2022-01-29T17:19:31.795040Z"
    },
    "colab": {
     "base_uri": "https://localhost:8080/"
    },
    "hidden": true,
    "id": "YIC4pl1fh7nW",
    "outputId": "15614583-a5be-4abf-e40a-98c4d382b9f1"
   },
   "outputs": [
    {
     "data": {
      "text/plain": [
       "<AxesSubplot:xlabel='newbalanceDest_status', ylabel='count'>"
      ]
     },
     "execution_count": 118,
     "metadata": {},
     "output_type": "execute_result"
    },
    {
     "data": {
      "image/png": "[encoded data removed]",
      "text/plain": [
       "<Figure size 432x288 with 1 Axes>"
      ]
     },
     "metadata": {
      "needs_background": "light"
     },
     "output_type": "display_data"
    }
   ],
   "source": [
    "# For non-fraud though, non-zero remaining balance is the most frequent after transaction.\n",
    "\n",
    "sns.countplot(df1.loc[df1['isFraud']==0,'newbalanceDest_status'])"
   ]
  },
  {
   "cell_type": "markdown",
   "id": "TqP2dwZgYXMb",
   "metadata": {
    "hidden": true,
    "id": "TqP2dwZgYXMb"
   },
   "source": [
    "\n",
    "- <b><font color= \"green\">Transaction destination:</font></b><br>\n",
    "  **9.** most fraud happens for costumer as destination type<br>\n",
    "  <b>ANSWER:</b> <i>True. Fraud ONLY happens for Costumers as destination.</i>"
   ]
  },
  {
   "cell_type": "code",
   "execution_count": 119,
   "id": "P1sKGJpbYVqk",
   "metadata": {
    "ExecuteTime": {
     "end_time": "2022-01-29T17:19:34.122954Z",
     "start_time": "2022-01-29T17:19:34.055303Z"
    },
    "colab": {
     "base_uri": "https://localhost:8080/"
    },
    "hidden": true,
    "id": "P1sKGJpbYVqk",
    "outputId": "e81cfb9d-c90d-4b56-d870-45f8603c02a0"
   },
   "outputs": [
    {
     "data": {
      "text/plain": [
       "<AxesSubplot:xlabel='dest_type', ylabel='count'>"
      ]
     },
     "execution_count": 119,
     "metadata": {},
     "output_type": "execute_result"
    },
    {
     "data": {
      "image/png": "[encoded data removed]",
      "text/plain": [
       "<Figure size 432x288 with 1 Axes>"
      ]
     },
     "metadata": {
      "needs_background": "light"
     },
     "output_type": "display_data"
    }
   ],
   "source": [
    "sns.countplot(df1.loc[df1['isFraud']==1,'dest_type'])"
   ]
  },
  {
   "cell_type": "markdown",
   "id": "SNuyFCo4YfMQ",
   "metadata": {
    "hidden": true,
    "id": "SNuyFCo4YfMQ"
   },
   "source": [
    "\n",
    "- <b><font color=\"brown\">Transaction amount:</font></b><br>\n",
    "  **10.** the average 'amount' of fraud transactions is higher than non-fraud transactions<br>\n",
    "  <b>ANSWER:</b> <i>True.</i>"
   ]
  },
  {
   "cell_type": "code",
   "execution_count": 120,
   "id": "lxCFVaR1YVtM",
   "metadata": {
    "ExecuteTime": {
     "end_time": "2022-01-29T17:19:34.475238Z",
     "start_time": "2022-01-29T17:19:34.123995Z"
    },
    "colab": {
     "base_uri": "https://localhost:8080/"
    },
    "hidden": true,
    "id": "lxCFVaR1YVtM",
    "outputId": "9a689c96-116e-4eba-8186-6cf8958b121c"
   },
   "outputs": [
    {
     "data": {
      "image/png": "[encoded data removed]",
      "text/plain": [
       "<Figure size 432x288 with 1 Axes>"
      ]
     },
     "metadata": {
      "needs_background": "light"
     },
     "output_type": "display_data"
    }
   ],
   "source": [
    "df1[['isFraud', 'amount']].groupby('isFraud').mean().plot.bar();"
   ]
  },
  {
   "cell_type": "markdown",
   "id": "0ngDVCoFcB1Z",
   "metadata": {
    "hidden": true,
    "id": "0ngDVCoFcB1Z"
   },
   "source": [
    "\n",
    "- <b><font color=\"green\">Transaction direction:</font></b><br>\n",
    "  **11.** most fraud transactions happen in C2C direction<br>\n",
    "  <b>ANSWER:</b> <i>fraud transactions ONLY happen in C2C direction.</i>"
   ]
  },
  {
   "cell_type": "code",
   "execution_count": 121,
   "id": "jQIGCjTDEtL-",
   "metadata": {
    "ExecuteTime": {
     "end_time": "2022-01-29T17:19:34.543826Z",
     "start_time": "2022-01-29T17:19:34.476393Z"
    },
    "colab": {
     "base_uri": "https://localhost:8080/"
    },
    "hidden": true,
    "id": "jQIGCjTDEtL-",
    "outputId": "53f46872-5117-4c4e-ec6b-2e0d0d0f6e3a"
   },
   "outputs": [
    {
     "data": {
      "image/png": "[encoded data removed]",
      "text/plain": [
       "<Figure size 432x288 with 1 Axes>"
      ]
     },
     "metadata": {
      "needs_background": "light"
     },
     "output_type": "display_data"
    }
   ],
   "source": [
    "sns.countplot(df1.loc[df1['isFraud']==1, 'transaction_direction']);"
   ]
  },
  {
   "cell_type": "markdown",
   "id": "9GgdxYa-cR1I",
   "metadata": {
    "hidden": true,
    "id": "9GgdxYa-cR1I"
   },
   "source": [
    "\n",
    "- <b><font color=\"brown\">Flagging:</font></b><br>\n",
    "  **12.** most of fraud transactions is not flagged<br>\n",
    "  <b>ANSWER:</b> <i>True.</i>"
   ]
  },
  {
   "cell_type": "code",
   "execution_count": 122,
   "id": "CXbzM2LnY2zM",
   "metadata": {
    "ExecuteTime": {
     "end_time": "2022-01-29T17:19:34.612389Z",
     "start_time": "2022-01-29T17:19:34.544837Z"
    },
    "colab": {
     "base_uri": "https://localhost:8080/"
    },
    "hidden": true,
    "id": "CXbzM2LnY2zM",
    "outputId": "c2fa5b19-3f72-4abc-b889-0aa7ac1feaf1"
   },
   "outputs": [
    {
     "data": {
      "image/png": "[encoded data removed]",
      "text/plain": [
       "<Figure size 432x288 with 1 Axes>"
      ]
     },
     "metadata": {
      "needs_background": "light"
     },
     "output_type": "display_data"
    }
   ],
   "source": [
    "sns.countplot(df1.loc[df1['isFraud']==1, 'isFlaggedFraud']);"
   ]
  },
  {
   "cell_type": "code",
   "execution_count": 123,
   "id": "_kLdRojeckqU",
   "metadata": {
    "ExecuteTime": {
     "end_time": "2022-01-29T17:19:34.615517Z",
     "start_time": "2022-01-29T17:19:34.613481Z"
    },
    "hidden": true,
    "id": "_kLdRojeckqU"
   },
   "outputs": [],
   "source": [
    "# Some important attributes after hypothesis validation procedure\n",
    "\n",
    "# type\n",
    "\n",
    "# time_of_day (AM and PM)\n",
    "\n",
    "# period_of_day\n",
    "\n",
    "# day_of_week\n",
    "\n",
    "# oldbalanceOrg_status\n",
    "\n",
    "# newbalanceOrig_status\n",
    "\n",
    "# newbalanceDest_status (insight from H8)\n",
    "\n",
    "# dest_type\n",
    "\n",
    "# amount\n",
    "\n",
    "# transaction_direction\n",
    "\n",
    "# isFlaggedFraud"
   ]
  },
  {
   "cell_type": "markdown",
   "id": "hUWC5dUZbei4",
   "metadata": {
    "heading_collapsed": true,
    "hidden": true,
    "id": "hUWC5dUZbei4"
   },
   "source": [
    "### 4.2.1 Statistical hypothesis testing"
   ]
  },
  {
   "cell_type": "markdown",
   "id": "o6tT-pk8eOUr",
   "metadata": {
    "hidden": true,
    "id": "o6tT-pk8eOUr"
   },
   "source": [
    "It will be applied to numeric continuous attributes:\n",
    "\n",
    "- 'amount', 'oldbalanceOrg', 'newbalanceOrig', 'oldbalanceDest', 'newbalanceDest'"
   ]
  },
  {
   "cell_type": "markdown",
   "id": "8-QBnr7Cmdpy",
   "metadata": {
    "hidden": true,
    "id": "8-QBnr7Cmdpy"
   },
   "source": [
    "But first let's test to check if the data distribution of these features has a gaussian shape (parametric distribution) so we can further apply the correct statistical test."
   ]
  },
  {
   "cell_type": "code",
   "execution_count": 124,
   "id": "zxFUGpUfm79c",
   "metadata": {
    "ExecuteTime": {
     "end_time": "2022-01-29T17:19:34.626552Z",
     "start_time": "2022-01-29T17:19:34.624778Z"
    },
    "hidden": true,
    "id": "zxFUGpUfm79c"
   },
   "outputs": [],
   "source": [
    "# stat, p = shapiro(data) <- test sintax"
   ]
  },
  {
   "cell_type": "code",
   "execution_count": 125,
   "id": "wVxM2cSFlokU",
   "metadata": {
    "ExecuteTime": {
     "end_time": "2022-01-29T17:19:36.563382Z",
     "start_time": "2022-01-29T17:19:34.627604Z"
    },
    "colab": {
     "base_uri": "https://localhost:8080/"
    },
    "hidden": true,
    "id": "wVxM2cSFlokU",
    "outputId": "f5d71ab3-f123-4434-c876-630f46573a83"
   },
   "outputs": [
    {
     "name": "stdout",
     "output_type": "stream",
     "text": [
      "Feature: amount\n",
      "stat=0.193, p=0.000\n",
      "Probably not Gaussian\n",
      "\n",
      "Feature: oldbalanceOrg\n",
      "stat=0.323, p=0.000\n",
      "Probably not Gaussian\n",
      "\n",
      "Feature: newbalanceOrig\n",
      "stat=0.331, p=0.000\n",
      "Probably not Gaussian\n",
      "\n",
      "Feature: oldbalanceDest\n",
      "stat=0.299, p=0.000\n",
      "Probably not Gaussian\n",
      "\n",
      "Feature: newbalanceDest\n",
      "stat=0.302, p=0.000\n",
      "Probably not Gaussian\n",
      "\n"
     ]
    }
   ],
   "source": [
    "for i in ['amount', 'oldbalanceOrg', 'newbalanceOrig', 'oldbalanceDest', 'newbalanceDest']:\n",
    "\n",
    "  stat, p = stats.shapiro(df1.loc[:, i])\n",
    "  \n",
    "  print('Feature: {}'.format(i))\n",
    "  print('stat=%.3f, p=%.3f' % (stat, p))\n",
    "\n",
    "  if p > 0.05:\n",
    "    print('Probably Gaussian\\n')\n",
    "\n",
    "  else:\n",
    "    print('Probably not Gaussian\\n')"
   ]
  },
  {
   "cell_type": "markdown",
   "id": "Ryzzg11OnImV",
   "metadata": {
    "hidden": true,
    "id": "Ryzzg11OnImV"
   },
   "source": [
    "Since these features probably have a not Gaussian shape we will apply Mann-Whitney non-parametric test:"
   ]
  },
  {
   "cell_type": "code",
   "execution_count": 126,
   "id": "JuLk0m8Tcuy7",
   "metadata": {
    "ExecuteTime": {
     "end_time": "2022-01-29T17:19:36.566978Z",
     "start_time": "2022-01-29T17:19:36.564716Z"
    },
    "hidden": true,
    "id": "JuLk0m8Tcuy7"
   },
   "outputs": [],
   "source": [
    "# stat, p = mannwhitneyu(data1, data2)  <- test sintax"
   ]
  },
  {
   "cell_type": "code",
   "execution_count": 127,
   "id": "HetiEvRMg3zE",
   "metadata": {
    "ExecuteTime": {
     "end_time": "2022-01-29T17:19:57.177700Z",
     "start_time": "2022-01-29T17:19:36.568524Z"
    },
    "colab": {
     "base_uri": "https://localhost:8080/"
    },
    "hidden": true,
    "id": "HetiEvRMg3zE",
    "outputId": "a92da4b6-8ac3-4706-ed95-4e583d8e39f6"
   },
   "outputs": [
    {
     "name": "stdout",
     "output_type": "stream",
     "text": [
      "Feature: amount\n",
      "stat=10963745080.000, p=0.000\n",
      "Probably different distributions\n",
      "\n",
      "Feature: oldbalanceOrg\n",
      "stat=9850780655.000, p=0.000\n",
      "Probably different distributions\n",
      "\n",
      "Feature: newbalanceOrig\n",
      "stat=36728357058.500, p=0.000\n",
      "Probably different distributions\n",
      "\n",
      "Feature: oldbalanceDest\n",
      "stat=33005101397.000, p=0.000\n",
      "Probably different distributions\n",
      "\n",
      "Feature: newbalanceDest\n",
      "stat=28206477161.000, p=0.000\n",
      "Probably different distributions\n",
      "\n"
     ]
    }
   ],
   "source": [
    "for i in ['amount', 'oldbalanceOrg', 'newbalanceOrig', 'oldbalanceDest', 'newbalanceDest']:\n",
    "\n",
    "  stat, p = stats.mannwhitneyu(df1.loc[df1['isFraud']==0, i], \n",
    "                               df1.loc[df1['isFraud']==1, i])\n",
    "  \n",
    "  print('Feature: {}'.format(i))\n",
    "  print('stat=%.3f, p=%.3f' % (stat, p))\n",
    "\n",
    "  if p > 0.05:\n",
    "    print('Probably the same distribution\\n')\n",
    "\n",
    "  else:\n",
    "    print('Probably different distributions\\n')"
   ]
  },
  {
   "cell_type": "markdown",
   "id": "TavM53BVga0v",
   "metadata": {
    "hidden": true,
    "id": "TavM53BVga0v"
   },
   "source": [
    "Results above show us that attributes 'amount', 'oldbalanceOrg', 'newbalanceOrig', 'oldbalanceDest', 'newbalanceDest' are also important in statistical point of view."
   ]
  },
  {
   "cell_type": "markdown",
   "id": "CSBpn-P1i3rb",
   "metadata": {
    "hidden": true,
    "id": "CSBpn-P1i3rb"
   },
   "source": [
    "## 4.3 Multivariate analysis"
   ]
  },
  {
   "cell_type": "markdown",
   "id": "BlSgzy8xtZZk",
   "metadata": {
    "heading_collapsed": true,
    "hidden": true,
    "id": "BlSgzy8xtZZk"
   },
   "source": [
    "### 4.3.1 Numerical attributes"
   ]
  },
  {
   "cell_type": "code",
   "execution_count": 128,
   "id": "pYYeNj4mfpeH",
   "metadata": {
    "ExecuteTime": {
     "end_time": "2022-01-29T17:19:59.424317Z",
     "start_time": "2022-01-29T17:19:57.178960Z"
    },
    "colab": {
     "base_uri": "https://localhost:8080/",
     "height": 397
    },
    "hidden": true,
    "id": "pYYeNj4mfpeH",
    "outputId": "ebdbba2e-ba5d-4104-a922-9c513c3e3acb"
   },
   "outputs": [
    {
     "data": {
      "image/png": "[encoded data removed]",
      "text/plain": [
       "<Figure size 720x360 with 2 Axes>"
      ]
     },
     "metadata": {
      "needs_background": "light"
     },
     "output_type": "display_data"
    }
   ],
   "source": [
    "plt.figure(figsize=(10,5))\n",
    "\n",
    "sns.heatmap(df1[['step', 'amount', 'oldbalanceOrg', 'newbalanceOrig', 'oldbalanceDest',\n",
    "                 'newbalanceDest', 'day_of_month', 'week_of_month','hour_of_day', \n",
    "                 'day_of_week']].corr());"
   ]
  },
  {
   "cell_type": "markdown",
   "id": "y0_eW8nItgQq",
   "metadata": {
    "heading_collapsed": true,
    "hidden": true,
    "id": "y0_eW8nItgQq"
   },
   "source": [
    "### 4.3.2 Categorical attributes"
   ]
  },
  {
   "cell_type": "code",
   "execution_count": 129,
   "id": "LGuXUnujjC8t",
   "metadata": {
    "ExecuteTime": {
     "end_time": "2022-01-29T17:24:42.900938Z",
     "start_time": "2022-01-29T17:19:59.425575Z"
    },
    "colab": {
     "base_uri": "https://localhost:8080/",
     "height": 780
    },
    "hidden": true,
    "id": "LGuXUnujjC8t",
    "outputId": "7dbe1b84-a200-4a56-bf5f-ab5923fd5be5"
   },
   "outputs": [
    {
     "data": {
      "text/plain": [
       "<AxesSubplot:>"
      ]
     },
     "execution_count": 129,
     "metadata": {},
     "output_type": "execute_result"
    },
    {
     "data": {
      "image/png": "[encoded data removed]",
      "text/plain": [
       "<Figure size 1080x720 with 2 Axes>"
      ]
     },
     "metadata": {
      "needs_background": "light"
     },
     "output_type": "display_data"
    }
   ],
   "source": [
    "plt.figure(figsize=(15,10))\n",
    "\n",
    "plot_corr(df1,['type', 'isFlaggedFraud', 'is_weekend',\n",
    "               'time_of_day', 'period_of_day', 'dest_type',\n",
    "               'oldbalanceOrg_status', 'newbalanceOrig_status',\n",
    "               'oldbalanceDest_status', 'newbalanceDest_status',\n",
    "               'is_oldbalanceOrg_higherthan_newbalanceOrig', \n",
    "               'is_oldbalanceDest_higherthan_newbalanceDest', 'transaction_direction'])"
   ]
  },
  {
   "cell_type": "markdown",
   "id": "oxrKQ07qX7AQ",
   "metadata": {
    "heading_collapsed": true,
    "id": "oxrKQ07qX7AQ"
   },
   "source": [
    "# 5- Data Preparation"
   ]
  },
  {
   "cell_type": "code",
   "execution_count": 130,
   "id": "3ZPpVPEl-e0D",
   "metadata": {
    "ExecuteTime": {
     "end_time": "2022-01-29T17:24:44.078148Z",
     "start_time": "2022-01-29T17:24:42.903431Z"
    },
    "hidden": true,
    "id": "3ZPpVPEl-e0D"
   },
   "outputs": [],
   "source": [
    "df2 = df1.copy()"
   ]
  },
  {
   "cell_type": "markdown",
   "id": "5cvHZ63J9WPM",
   "metadata": {
    "heading_collapsed": true,
    "hidden": true,
    "id": "5cvHZ63J9WPM"
   },
   "source": [
    "## 5.1 Train/Test split"
   ]
  },
  {
   "cell_type": "code",
   "execution_count": 131,
   "id": "hAmHo_RY-UfX",
   "metadata": {
    "ExecuteTime": {
     "end_time": "2022-01-29T17:24:54.139420Z",
     "start_time": "2022-01-29T17:24:44.079304Z"
    },
    "hidden": true,
    "id": "hAmHo_RY-UfX"
   },
   "outputs": [],
   "source": [
    "# Train/Test split\n",
    "\n",
    "# X_train, X_test, y_train, y_test = train_test_split(y, X, test_size=0.33, random_state=42) <- sintax\n",
    "\n",
    "y_train, y_test, X_train, X_test = train_test_split(df2['isFraud'], \n",
    "                                                    df2.drop(columns=['isFraud']), \n",
    "                                                    test_size=0.33, \n",
    "                                                    random_state=42)"
   ]
  },
  {
   "cell_type": "code",
   "execution_count": 132,
   "id": "CHKpCfdcHaJr",
   "metadata": {
    "ExecuteTime": {
     "end_time": "2022-01-29T17:24:54.145356Z",
     "start_time": "2022-01-29T17:24:54.140722Z"
    },
    "colab": {
     "base_uri": "https://localhost:8080/"
    },
    "hidden": true,
    "id": "CHKpCfdcHaJr",
    "outputId": "27e7a167-ae5d-4d3b-8af0-1f04e01dba20"
   },
   "outputs": [
    {
     "name": "stdout",
     "output_type": "stream",
     "text": [
      "Data information:\n",
      "\n",
      "Training set:\n",
      "Observations number: 4262955\n",
      "Percentage: 0.67\n",
      "\n",
      "Testing set:\n",
      "Observations number: 2099665\n",
      "Percentage: 0.33\n",
      "\n"
     ]
    }
   ],
   "source": [
    "print('Data information:\\n')\n",
    "\n",
    "print('Training set:')\n",
    "print('Observations number: {}'.format(len(y_train)))\n",
    "print('Percentage: {}\\n'.format(round(len(y_train)/len(df2['isFraud']),2)))\n",
    "\n",
    "print('Testing set:')\n",
    "print('Observations number: {}'.format(len(y_test)))\n",
    "print('Percentage: {}\\n'.format(round(len(y_test)/len(df2['isFraud']),2)))"
   ]
  },
  {
   "cell_type": "markdown",
   "id": "I3dWO4gQ9WX7",
   "metadata": {
    "heading_collapsed": true,
    "hidden": true,
    "id": "I3dWO4gQ9WX7"
   },
   "source": [
    "## 5.2 Scaling - Numeric attributes"
   ]
  },
  {
   "cell_type": "code",
   "execution_count": 133,
   "id": "NeUjOqxVLwsB",
   "metadata": {
    "ExecuteTime": {
     "end_time": "2022-01-29T17:24:57.576057Z",
     "start_time": "2022-01-29T17:24:54.146938Z"
    },
    "hidden": true,
    "id": "NeUjOqxVLwsB"
   },
   "outputs": [],
   "source": [
    "# Numeric non-cyclic attributes - Robust Scaler (each of them has extreme values)\n",
    "\n",
    "# 'amount'\n",
    "\n",
    "scaler = RobustScaler()\n",
    "\n",
    "X_train['amount'] = scaler.fit_transform(X_train[['amount']].values)\n",
    "\n",
    "X_test['amount'] = scaler.transform(X_test[['amount']].values) # scaling X_test using scaled already fitted\n",
    "\n",
    "\n",
    "# 'oldbalanceOrg'\n",
    "\n",
    "scaler = RobustScaler()\n",
    "\n",
    "X_train['oldbalanceOrg'] = scaler.fit_transform(X_train[['oldbalanceOrg']].values)\n",
    "\n",
    "X_test['oldbalanceOrg'] = scaler.transform(X_test[['oldbalanceOrg']].values) # scaling X_test using scaled already fitted\n",
    "\n",
    "\n",
    "# 'newbalanceOrig'\n",
    "\n",
    "scaler = RobustScaler()\n",
    "\n",
    "X_train['newbalanceOrig'] = scaler.fit_transform(X_train[['newbalanceOrig']].values)\n",
    "\n",
    "X_test['newbalanceOrig'] = scaler.transform(X_test[['newbalanceOrig']].values) # scaling X_test using scaled already fitted\n",
    "\n",
    "\n",
    "# 'oldbalanceDest'\n",
    "\n",
    "scaler = RobustScaler()\n",
    "\n",
    "X_train['oldbalanceDest'] = scaler.fit_transform(X_train[['oldbalanceDest']].values)\n",
    "\n",
    "X_test['oldbalanceDest'] = scaler.transform(X_test[['oldbalanceDest']].values) # scaling X_test using scaled already fitted\n",
    "\n",
    "\n",
    "# 'newbalanceDest'\n",
    "\n",
    "scaler = RobustScaler()\n",
    "\n",
    "X_train['newbalanceDest'] = scaler.fit_transform(X_train[['newbalanceDest']].values)\n",
    "\n",
    "X_test['newbalanceDest'] = scaler.transform(X_test[['newbalanceDest']].values) # scaling X_test using scaled already fitted\n",
    "\n",
    "\n",
    "# 'day_of_month'\n",
    "\n",
    "scaler = RobustScaler()\n",
    "\n",
    "X_train['day_of_month'] = scaler.fit_transform(X_train[['day_of_month']].values)\n",
    "\n",
    "X_test['day_of_month'] = scaler.transform(X_test[['day_of_month']].values) # scaling X_test using scaled already fitted\n",
    "\n",
    "\n",
    "# 'week_of_month'\n",
    "\n",
    "scaler = RobustScaler()\n",
    "\n",
    "X_train['week_of_month'] = scaler.fit_transform(X_train[['week_of_month']].values)\n",
    "\n",
    "X_test['week_of_month'] = scaler.transform(X_test[['week_of_month']].values) # scaling X_test using scaled already fitted\n",
    "\n",
    "\n",
    "# 'step'\n",
    "\n",
    "scaler = RobustScaler()\n",
    "\n",
    "X_train['step'] = scaler.fit_transform(X_train[['step']].values)\n",
    "\n",
    "X_test['step'] = scaler.transform(X_test[['step']].values) # scaling X_test using scaled already fitted\n"
   ]
  },
  {
   "cell_type": "markdown",
   "id": "ljYGgTRo9Wgz",
   "metadata": {
    "heading_collapsed": true,
    "hidden": true,
    "id": "ljYGgTRo9Wgz"
   },
   "source": [
    "## 5.3 Encoding - Categorical attributes"
   ]
  },
  {
   "cell_type": "code",
   "execution_count": 134,
   "id": "6oqA61hAxYrn",
   "metadata": {
    "ExecuteTime": {
     "end_time": "2022-01-29T17:24:57.580129Z",
     "start_time": "2022-01-29T17:24:57.577342Z"
    },
    "hidden": true,
    "id": "6oqA61hAxYrn"
   },
   "outputs": [],
   "source": [
    "# Dummies\n",
    "\n",
    "# Features to encode via Dummies:\n",
    "\n",
    "# 'isFlaggedFraud', \n",
    "\n",
    "# 'is_weekend', \n",
    "\n",
    "# 'time_of_day', \n",
    "\n",
    "# 'dest_type', \n",
    "\n",
    "# 'oldbalanceOrg_status', \n",
    "\n",
    "# 'newbalanceOrig_status', \n",
    "\n",
    "# 'oldbalanceDest_status', \n",
    "\n",
    "# 'newbalanceDest_status', \n",
    "\n",
    "# 'is_oldbalanceOrg_higherthan_newbalanceOrig', \n",
    "\n",
    "# 'is_oldbalanceDest_higherthan_newbalanceDest', \n",
    "\n",
    "# 'transaction_direction'"
   ]
  },
  {
   "cell_type": "code",
   "execution_count": 135,
   "id": "xXpEWXD2zPu3",
   "metadata": {
    "ExecuteTime": {
     "end_time": "2022-01-29T17:25:03.241745Z",
     "start_time": "2022-01-29T17:24:57.581506Z"
    },
    "hidden": true,
    "id": "xXpEWXD2zPu3"
   },
   "outputs": [],
   "source": [
    "# Getting Dummie variables\n",
    "\n",
    "X_train = pd.get_dummies(data=X_train, \n",
    "                         columns=['isFlaggedFraud', 'is_weekend', 'time_of_day', 'dest_type', 'oldbalanceOrg_status', 'newbalanceOrig_status', 'oldbalanceDest_status', 'newbalanceDest_status', 'is_oldbalanceOrg_higherthan_newbalanceOrig', 'is_oldbalanceDest_higherthan_newbalanceDest', 'transaction_direction'])"
   ]
  },
  {
   "cell_type": "code",
   "execution_count": 136,
   "id": "LH7M8W6ozmem",
   "metadata": {
    "ExecuteTime": {
     "end_time": "2022-01-29T17:25:05.403550Z",
     "start_time": "2022-01-29T17:25:03.242951Z"
    },
    "hidden": true,
    "id": "LH7M8W6ozmem"
   },
   "outputs": [],
   "source": [
    "# Getting Dummie variables - X_test\n",
    "\n",
    "X_test = pd.get_dummies(data=X_test, \n",
    "                         columns=['isFlaggedFraud', 'is_weekend', 'time_of_day', 'dest_type', 'oldbalanceOrg_status', 'newbalanceOrig_status', 'oldbalanceDest_status', 'newbalanceDest_status', 'is_oldbalanceOrg_higherthan_newbalanceOrig', 'is_oldbalanceDest_higherthan_newbalanceDest', 'transaction_direction'])"
   ]
  },
  {
   "cell_type": "code",
   "execution_count": null,
   "id": "rB_9-LxA0PgA",
   "metadata": {
    "hidden": true,
    "id": "rB_9-LxA0PgA"
   },
   "outputs": [],
   "source": []
  },
  {
   "cell_type": "code",
   "execution_count": 137,
   "id": "-bMWLSGz0Plm",
   "metadata": {
    "ExecuteTime": {
     "end_time": "2022-01-29T17:25:28.242346Z",
     "start_time": "2022-01-29T17:25:05.404630Z"
    },
    "hidden": true,
    "id": "-bMWLSGz0Plm"
   },
   "outputs": [],
   "source": [
    "# Frequency encoding: 'nameDest'\n",
    "\n",
    "\n",
    "# feature 'nameDest' has too many levels - let's encode using Frequency encoding\n",
    "\n",
    "# enc_nom_1 = (train.groupby('nom_1').size()) / len(train) <- sintax (step 1)\n",
    "\n",
    "# train['nom_1_encode'] = train['nom_1'].apply(lambda x : enc_nom_1[x]) <- sintax (step 2)\n",
    "\n",
    "\n",
    "\n",
    "enc_nom_1 = (X_train.groupby('nameDest').size()) / len(X_train)\n",
    "\n",
    "X_train['nameDest'] = X_train['nameDest'].apply(lambda x : enc_nom_1[x])"
   ]
  },
  {
   "cell_type": "code",
   "execution_count": 138,
   "id": "GeCI2t7s3xsr",
   "metadata": {
    "ExecuteTime": {
     "end_time": "2022-01-29T17:25:39.037794Z",
     "start_time": "2022-01-29T17:25:28.243402Z"
    },
    "hidden": true,
    "id": "GeCI2t7s3xsr"
   },
   "outputs": [],
   "source": [
    "# encoding X_test:\n",
    "\n",
    "enc_nom_1 = (X_test.groupby('nameDest').size()) / len(X_test)\n",
    "\n",
    "X_test['nameDest'] = X_test['nameDest'].apply(lambda x : enc_nom_1[x])"
   ]
  },
  {
   "cell_type": "code",
   "execution_count": null,
   "id": "8uBEWEIk9h7D",
   "metadata": {
    "hidden": true,
    "id": "8uBEWEIk9h7D"
   },
   "outputs": [],
   "source": []
  },
  {
   "cell_type": "code",
   "execution_count": 139,
   "id": "rXXsHqID9h-Z",
   "metadata": {
    "ExecuteTime": {
     "end_time": "2022-01-29T17:25:39.617702Z",
     "start_time": "2022-01-29T17:25:39.038997Z"
    },
    "hidden": true,
    "id": "rXXsHqID9h-Z"
   },
   "outputs": [],
   "source": [
    "# Label encoding - 'type'\n",
    "\n",
    "\n",
    "le = LabelEncoder()\n",
    "\n",
    "X_train['type'] = le.fit_transform(X_train['type'])\n"
   ]
  },
  {
   "cell_type": "code",
   "execution_count": 140,
   "id": "u1njRn7--7rk",
   "metadata": {
    "ExecuteTime": {
     "end_time": "2022-01-29T17:25:39.825379Z",
     "start_time": "2022-01-29T17:25:39.618838Z"
    },
    "hidden": true,
    "id": "u1njRn7--7rk"
   },
   "outputs": [],
   "source": [
    "X_test['type'] = le.transform(X_test['type']) # encoding X_test"
   ]
  },
  {
   "cell_type": "markdown",
   "id": "bpNcq4gs9W3Y",
   "metadata": {
    "heading_collapsed": true,
    "hidden": true,
    "id": "bpNcq4gs9W3Y"
   },
   "source": [
    "## 5.4 Cyclic transform"
   ]
  },
  {
   "cell_type": "code",
   "execution_count": 141,
   "id": "HPEvrw9Y5Ru0",
   "metadata": {
    "ExecuteTime": {
     "end_time": "2022-01-29T17:25:39.828682Z",
     "start_time": "2022-01-29T17:25:39.826512Z"
    },
    "hidden": true,
    "id": "HPEvrw9Y5Ru0"
   },
   "outputs": [],
   "source": [
    "# Cyclic variables:\n",
    "\n",
    "# hour_of_day\n",
    "\n",
    "# day_of_week\n",
    "\n",
    "# period_of_day"
   ]
  },
  {
   "cell_type": "code",
   "execution_count": 142,
   "id": "eLkrukEl5R0S",
   "metadata": {
    "ExecuteTime": {
     "end_time": "2022-01-29T17:25:40.033143Z",
     "start_time": "2022-01-29T17:25:39.830267Z"
    },
    "hidden": true,
    "id": "eLkrukEl5R0S"
   },
   "outputs": [],
   "source": [
    "# First let's just encode 'period_of_day' from string to numbers \n",
    "\n",
    "\n",
    "# period_of_day (Label encoder)\n",
    "\n",
    "period_of_day_encoding_map = {'Morning': 1, 'Afternoon':2, 'Evening':3}\n",
    "\n",
    "X_train['period_of_day'] = X_train['period_of_day'].map(period_of_day_encoding_map)\n",
    "\n",
    "X_test['period_of_day'] = X_test['period_of_day'].map(period_of_day_encoding_map)\n"
   ]
  },
  {
   "cell_type": "code",
   "execution_count": 143,
   "id": "WqPxQyct7SgZ",
   "metadata": {
    "ExecuteTime": {
     "end_time": "2022-01-29T17:25:59.695228Z",
     "start_time": "2022-01-29T17:25:40.034208Z"
    },
    "hidden": true,
    "id": "WqPxQyct7SgZ"
   },
   "outputs": [],
   "source": [
    "# Transforming the attributes\n",
    "\n",
    "# hour_of_day\n",
    "\n",
    "X_train['hour_of_day_sin'] = X_train['hour_of_day'].apply(lambda x: np.sin(x*(2.*np.pi/24))) \n",
    "X_train['hour_of_day_cos'] = X_train['hour_of_day'].apply(lambda x: np.cos(x*(2.*np.pi/24)))\n",
    "\n",
    "# day_of_week\n",
    "\n",
    "X_train['day_of_week_sin'] = X_train['day_of_week'].apply(lambda x: np.sin(x*(2.*np.pi/7)))\n",
    "X_train['day_of_week_cos'] = X_train['day_of_week'].apply(lambda x: np.cos(x*(2.*np.pi/7)))\n",
    "\n",
    "\n",
    "# period_of_day\n",
    "\n",
    "X_train['period_of_day_sin'] = X_train['period_of_day'].apply(lambda x: np.sin(x*(2.*np.pi/3)))\n",
    "X_train['period_of_day_cos'] = X_train['period_of_day'].apply(lambda x: np.cos(x*(2.*np.pi/3)))\n",
    "\n"
   ]
  },
  {
   "cell_type": "code",
   "execution_count": 144,
   "id": "qoQxuE1k8bAA",
   "metadata": {
    "ExecuteTime": {
     "end_time": "2022-01-29T17:26:01.610739Z",
     "start_time": "2022-01-29T17:25:59.696420Z"
    },
    "hidden": true,
    "id": "qoQxuE1k8bAA"
   },
   "outputs": [],
   "source": [
    "# Dropping the precursor attributes \n",
    "\n",
    "X_train = X_train.drop(columns=['hour_of_day','day_of_week', 'period_of_day'])"
   ]
  },
  {
   "cell_type": "code",
   "execution_count": 145,
   "id": "KYX00bMw85Ej",
   "metadata": {
    "ExecuteTime": {
     "end_time": "2022-01-29T17:26:11.922391Z",
     "start_time": "2022-01-29T17:26:01.611929Z"
    },
    "hidden": true,
    "id": "KYX00bMw85Ej"
   },
   "outputs": [],
   "source": [
    "# Transforming the attributes - X_test\n",
    "\n",
    "# hour_of_day\n",
    "\n",
    "X_test['hour_of_day_sin'] = X_test['hour_of_day'].apply(lambda x: np.sin(x*(2.*np.pi/24))) \n",
    "X_test['hour_of_day_cos'] = X_test['hour_of_day'].apply(lambda x: np.cos(x*(2.*np.pi/24)))\n",
    "\n",
    "# day_of_week\n",
    "\n",
    "X_test['day_of_week_sin'] = X_test['day_of_week'].apply(lambda x: np.sin(x*(2.*np.pi/7)))\n",
    "X_test['day_of_week_cos'] = X_test['day_of_week'].apply(lambda x: np.cos(x*(2.*np.pi/7)))\n",
    "\n",
    "\n",
    "# period_of_day\n",
    "\n",
    "X_test['period_of_day_sin'] = X_test['period_of_day'].apply(lambda x: np.sin(x*(2.*np.pi/3)))\n",
    "X_test['period_of_day_cos'] = X_test['period_of_day'].apply(lambda x: np.cos(x*(2.*np.pi/3)))\n",
    "\n",
    "\n",
    "# Dropping the precursor attributes - X_test\n",
    "\n",
    "X_test = X_test.drop(columns=['hour_of_day','day_of_week', 'period_of_day'])"
   ]
  },
  {
   "cell_type": "code",
   "execution_count": 146,
   "id": "xzPxIUoFUUBu",
   "metadata": {
    "ExecuteTime": {
     "end_time": "2022-01-29T17:26:11.946631Z",
     "start_time": "2022-01-29T17:26:11.926202Z"
    },
    "colab": {
     "base_uri": "https://localhost:8080/",
     "height": 374
    },
    "hidden": true,
    "id": "xzPxIUoFUUBu",
    "outputId": "3caec3bc-b3c3-4a39-c5ef-6c886b4009e4"
   },
   "outputs": [
    {
     "data": {
      "text/html": [
       "<div>\n",
       "<style scoped>\n",
       "    .dataframe tbody tr th:only-of-type {\n",
       "        vertical-align: middle;\n",
       "    }\n",
       "\n",
       "    .dataframe tbody tr th {\n",
       "        vertical-align: top;\n",
       "    }\n",
       "\n",
       "    .dataframe thead th {\n",
       "        text-align: right;\n",
       "    }\n",
       "</style>\n",
       "<table border=\"1\" class=\"dataframe\">\n",
       "  <thead>\n",
       "    <tr style=\"text-align: right;\">\n",
       "      <th></th>\n",
       "      <th>step</th>\n",
       "      <th>type</th>\n",
       "      <th>amount</th>\n",
       "      <th>oldbalanceOrg</th>\n",
       "      <th>newbalanceOrig</th>\n",
       "      <th>nameDest</th>\n",
       "      <th>oldbalanceDest</th>\n",
       "      <th>newbalanceDest</th>\n",
       "      <th>day_of_month</th>\n",
       "      <th>week_of_month</th>\n",
       "      <th>isFlaggedFraud_no</th>\n",
       "      <th>isFlaggedFraud_yes</th>\n",
       "      <th>is_weekend_weekdays</th>\n",
       "      <th>is_weekend_weekend</th>\n",
       "      <th>time_of_day_AM</th>\n",
       "      <th>time_of_day_PM</th>\n",
       "      <th>dest_type_Costumer</th>\n",
       "      <th>dest_type_Merchant</th>\n",
       "      <th>oldbalanceOrg_status_non-zero</th>\n",
       "      <th>oldbalanceOrg_status_zero</th>\n",
       "      <th>newbalanceOrig_status_non-zero</th>\n",
       "      <th>newbalanceOrig_status_zero</th>\n",
       "      <th>oldbalanceDest_status_non-zero</th>\n",
       "      <th>oldbalanceDest_status_zero</th>\n",
       "      <th>newbalanceDest_status_non-zero</th>\n",
       "      <th>newbalanceDest_status_zero</th>\n",
       "      <th>is_oldbalanceOrg_higherthan_newbalanceOrig_no</th>\n",
       "      <th>is_oldbalanceOrg_higherthan_newbalanceOrig_yes</th>\n",
       "      <th>is_oldbalanceDest_higherthan_newbalanceDest_no</th>\n",
       "      <th>is_oldbalanceDest_higherthan_newbalanceDest_yes</th>\n",
       "      <th>transaction_direction_C2C</th>\n",
       "      <th>transaction_direction_C2M</th>\n",
       "      <th>hour_of_day_sin</th>\n",
       "      <th>hour_of_day_cos</th>\n",
       "      <th>day_of_week_sin</th>\n",
       "      <th>day_of_week_cos</th>\n",
       "      <th>period_of_day_sin</th>\n",
       "      <th>period_of_day_cos</th>\n",
       "    </tr>\n",
       "  </thead>\n",
       "  <tbody>\n",
       "    <tr>\n",
       "      <th>1186641</th>\n",
       "      <td>-0.601124</td>\n",
       "      <td>0</td>\n",
       "      <td>0.574169</td>\n",
       "      <td>-0.085686</td>\n",
       "      <td>1.331044</td>\n",
       "      <td>4.222423e-06</td>\n",
       "      <td>2.582174</td>\n",
       "      <td>1.809906</td>\n",
       "      <td>-0.571429</td>\n",
       "      <td>-1.0</td>\n",
       "      <td>1</td>\n",
       "      <td>0</td>\n",
       "      <td>1</td>\n",
       "      <td>0</td>\n",
       "      <td>1</td>\n",
       "      <td>0</td>\n",
       "      <td>1</td>\n",
       "      <td>0</td>\n",
       "      <td>1</td>\n",
       "      <td>0</td>\n",
       "      <td>1</td>\n",
       "      <td>0</td>\n",
       "      <td>1</td>\n",
       "      <td>0</td>\n",
       "      <td>1</td>\n",
       "      <td>0</td>\n",
       "      <td>1</td>\n",
       "      <td>0</td>\n",
       "      <td>0</td>\n",
       "      <td>1</td>\n",
       "      <td>1</td>\n",
       "      <td>0</td>\n",
       "      <td>2.588190e-01</td>\n",
       "      <td>-0.965926</td>\n",
       "      <td>-7.818315e-01</td>\n",
       "      <td>0.623490</td>\n",
       "      <td>0.866025</td>\n",
       "      <td>-0.5</td>\n",
       "    </tr>\n",
       "    <tr>\n",
       "      <th>1199598</th>\n",
       "      <td>-0.595506</td>\n",
       "      <td>1</td>\n",
       "      <td>0.058952</td>\n",
       "      <td>0.161218</td>\n",
       "      <td>0.000000</td>\n",
       "      <td>1.172895e-06</td>\n",
       "      <td>-0.140862</td>\n",
       "      <td>-0.115441</td>\n",
       "      <td>-0.571429</td>\n",
       "      <td>-1.0</td>\n",
       "      <td>1</td>\n",
       "      <td>0</td>\n",
       "      <td>1</td>\n",
       "      <td>0</td>\n",
       "      <td>1</td>\n",
       "      <td>0</td>\n",
       "      <td>1</td>\n",
       "      <td>0</td>\n",
       "      <td>1</td>\n",
       "      <td>0</td>\n",
       "      <td>0</td>\n",
       "      <td>1</td>\n",
       "      <td>0</td>\n",
       "      <td>1</td>\n",
       "      <td>1</td>\n",
       "      <td>0</td>\n",
       "      <td>0</td>\n",
       "      <td>1</td>\n",
       "      <td>1</td>\n",
       "      <td>0</td>\n",
       "      <td>1</td>\n",
       "      <td>0</td>\n",
       "      <td>1.224647e-16</td>\n",
       "      <td>-1.000000</td>\n",
       "      <td>-7.818315e-01</td>\n",
       "      <td>0.623490</td>\n",
       "      <td>0.866025</td>\n",
       "      <td>-0.5</td>\n",
       "    </tr>\n",
       "    <tr>\n",
       "      <th>1185636</th>\n",
       "      <td>-0.601124</td>\n",
       "      <td>1</td>\n",
       "      <td>0.720079</td>\n",
       "      <td>0.068401</td>\n",
       "      <td>0.000000</td>\n",
       "      <td>6.802793e-06</td>\n",
       "      <td>6.594655</td>\n",
       "      <td>5.921888</td>\n",
       "      <td>-0.571429</td>\n",
       "      <td>-1.0</td>\n",
       "      <td>1</td>\n",
       "      <td>0</td>\n",
       "      <td>1</td>\n",
       "      <td>0</td>\n",
       "      <td>1</td>\n",
       "      <td>0</td>\n",
       "      <td>1</td>\n",
       "      <td>0</td>\n",
       "      <td>1</td>\n",
       "      <td>0</td>\n",
       "      <td>0</td>\n",
       "      <td>1</td>\n",
       "      <td>1</td>\n",
       "      <td>0</td>\n",
       "      <td>1</td>\n",
       "      <td>0</td>\n",
       "      <td>0</td>\n",
       "      <td>1</td>\n",
       "      <td>1</td>\n",
       "      <td>0</td>\n",
       "      <td>1</td>\n",
       "      <td>0</td>\n",
       "      <td>2.588190e-01</td>\n",
       "      <td>-0.965926</td>\n",
       "      <td>-7.818315e-01</td>\n",
       "      <td>0.623490</td>\n",
       "      <td>0.866025</td>\n",
       "      <td>-0.5</td>\n",
       "    </tr>\n",
       "    <tr>\n",
       "      <th>6211424</th>\n",
       "      <td>1.960674</td>\n",
       "      <td>4</td>\n",
       "      <td>3.187331</td>\n",
       "      <td>0.105437</td>\n",
       "      <td>0.000000</td>\n",
       "      <td>2.814949e-06</td>\n",
       "      <td>2.141447</td>\n",
       "      <td>2.369462</td>\n",
       "      <td>2.142857</td>\n",
       "      <td>2.0</td>\n",
       "      <td>1</td>\n",
       "      <td>0</td>\n",
       "      <td>1</td>\n",
       "      <td>0</td>\n",
       "      <td>1</td>\n",
       "      <td>0</td>\n",
       "      <td>1</td>\n",
       "      <td>0</td>\n",
       "      <td>1</td>\n",
       "      <td>0</td>\n",
       "      <td>0</td>\n",
       "      <td>1</td>\n",
       "      <td>1</td>\n",
       "      <td>0</td>\n",
       "      <td>1</td>\n",
       "      <td>0</td>\n",
       "      <td>0</td>\n",
       "      <td>1</td>\n",
       "      <td>1</td>\n",
       "      <td>0</td>\n",
       "      <td>1</td>\n",
       "      <td>0</td>\n",
       "      <td>2.588190e-01</td>\n",
       "      <td>-0.965926</td>\n",
       "      <td>-4.338837e-01</td>\n",
       "      <td>-0.900969</td>\n",
       "      <td>0.866025</td>\n",
       "      <td>-0.5</td>\n",
       "    </tr>\n",
       "    <tr>\n",
       "      <th>4452703</th>\n",
       "      <td>0.471910</td>\n",
       "      <td>3</td>\n",
       "      <td>-0.079990</td>\n",
       "      <td>0.146302</td>\n",
       "      <td>0.000000</td>\n",
       "      <td>2.345791e-07</td>\n",
       "      <td>-0.140862</td>\n",
       "      <td>-0.193175</td>\n",
       "      <td>0.571429</td>\n",
       "      <td>0.0</td>\n",
       "      <td>1</td>\n",
       "      <td>0</td>\n",
       "      <td>0</td>\n",
       "      <td>1</td>\n",
       "      <td>1</td>\n",
       "      <td>0</td>\n",
       "      <td>0</td>\n",
       "      <td>1</td>\n",
       "      <td>1</td>\n",
       "      <td>0</td>\n",
       "      <td>0</td>\n",
       "      <td>1</td>\n",
       "      <td>0</td>\n",
       "      <td>1</td>\n",
       "      <td>0</td>\n",
       "      <td>1</td>\n",
       "      <td>0</td>\n",
       "      <td>1</td>\n",
       "      <td>1</td>\n",
       "      <td>0</td>\n",
       "      <td>0</td>\n",
       "      <td>1</td>\n",
       "      <td>5.000000e-01</td>\n",
       "      <td>-0.866025</td>\n",
       "      <td>-2.449294e-16</td>\n",
       "      <td>1.000000</td>\n",
       "      <td>0.866025</td>\n",
       "      <td>-0.5</td>\n",
       "    </tr>\n",
       "  </tbody>\n",
       "</table>\n",
       "</div>"
      ],
      "text/plain": [
       "             step  type    amount  oldbalanceOrg  newbalanceOrig  \\\n",
       "1186641 -0.601124     0  0.574169      -0.085686        1.331044   \n",
       "1199598 -0.595506     1  0.058952       0.161218        0.000000   \n",
       "1185636 -0.601124     1  0.720079       0.068401        0.000000   \n",
       "6211424  1.960674     4  3.187331       0.105437        0.000000   \n",
       "4452703  0.471910     3 -0.079990       0.146302        0.000000   \n",
       "\n",
       "             nameDest  oldbalanceDest  newbalanceDest  day_of_month  \\\n",
       "1186641  4.222423e-06        2.582174        1.809906     -0.571429   \n",
       "1199598  1.172895e-06       -0.140862       -0.115441     -0.571429   \n",
       "1185636  6.802793e-06        6.594655        5.921888     -0.571429   \n",
       "6211424  2.814949e-06        2.141447        2.369462      2.142857   \n",
       "4452703  2.345791e-07       -0.140862       -0.193175      0.571429   \n",
       "\n",
       "         week_of_month  isFlaggedFraud_no  isFlaggedFraud_yes  \\\n",
       "1186641           -1.0                  1                   0   \n",
       "1199598           -1.0                  1                   0   \n",
       "1185636           -1.0                  1                   0   \n",
       "6211424            2.0                  1                   0   \n",
       "4452703            0.0                  1                   0   \n",
       "\n",
       "         is_weekend_weekdays  is_weekend_weekend  time_of_day_AM  \\\n",
       "1186641                    1                   0               1   \n",
       "1199598                    1                   0               1   \n",
       "1185636                    1                   0               1   \n",
       "6211424                    1                   0               1   \n",
       "4452703                    0                   1               1   \n",
       "\n",
       "         time_of_day_PM  dest_type_Costumer  dest_type_Merchant  \\\n",
       "1186641               0                   1                   0   \n",
       "1199598               0                   1                   0   \n",
       "1185636               0                   1                   0   \n",
       "6211424               0                   1                   0   \n",
       "4452703               0                   0                   1   \n",
       "\n",
       "         oldbalanceOrg_status_non-zero  oldbalanceOrg_status_zero  \\\n",
       "1186641                              1                          0   \n",
       "1199598                              1                          0   \n",
       "1185636                              1                          0   \n",
       "6211424                              1                          0   \n",
       "4452703                              1                          0   \n",
       "\n",
       "         newbalanceOrig_status_non-zero  newbalanceOrig_status_zero  \\\n",
       "1186641                               1                           0   \n",
       "1199598                               0                           1   \n",
       "1185636                               0                           1   \n",
       "6211424                               0                           1   \n",
       "4452703                               0                           1   \n",
       "\n",
       "         oldbalanceDest_status_non-zero  oldbalanceDest_status_zero  \\\n",
       "1186641                               1                           0   \n",
       "1199598                               0                           1   \n",
       "1185636                               1                           0   \n",
       "6211424                               1                           0   \n",
       "4452703                               0                           1   \n",
       "\n",
       "         newbalanceDest_status_non-zero  newbalanceDest_status_zero  \\\n",
       "1186641                               1                           0   \n",
       "1199598                               1                           0   \n",
       "1185636                               1                           0   \n",
       "6211424                               1                           0   \n",
       "4452703                               0                           1   \n",
       "\n",
       "         is_oldbalanceOrg_higherthan_newbalanceOrig_no  \\\n",
       "1186641                                              1   \n",
       "1199598                                              0   \n",
       "1185636                                              0   \n",
       "6211424                                              0   \n",
       "4452703                                              0   \n",
       "\n",
       "         is_oldbalanceOrg_higherthan_newbalanceOrig_yes  \\\n",
       "1186641                                               0   \n",
       "1199598                                               1   \n",
       "1185636                                               1   \n",
       "6211424                                               1   \n",
       "4452703                                               1   \n",
       "\n",
       "         is_oldbalanceDest_higherthan_newbalanceDest_no  \\\n",
       "1186641                                               0   \n",
       "1199598                                               1   \n",
       "1185636                                               1   \n",
       "6211424                                               1   \n",
       "4452703                                               1   \n",
       "\n",
       "         is_oldbalanceDest_higherthan_newbalanceDest_yes  \\\n",
       "1186641                                                1   \n",
       "1199598                                                0   \n",
       "1185636                                                0   \n",
       "6211424                                                0   \n",
       "4452703                                                0   \n",
       "\n",
       "         transaction_direction_C2C  transaction_direction_C2M  \\\n",
       "1186641                          1                          0   \n",
       "1199598                          1                          0   \n",
       "1185636                          1                          0   \n",
       "6211424                          1                          0   \n",
       "4452703                          0                          1   \n",
       "\n",
       "         hour_of_day_sin  hour_of_day_cos  day_of_week_sin  day_of_week_cos  \\\n",
       "1186641     2.588190e-01        -0.965926    -7.818315e-01         0.623490   \n",
       "1199598     1.224647e-16        -1.000000    -7.818315e-01         0.623490   \n",
       "1185636     2.588190e-01        -0.965926    -7.818315e-01         0.623490   \n",
       "6211424     2.588190e-01        -0.965926    -4.338837e-01        -0.900969   \n",
       "4452703     5.000000e-01        -0.866025    -2.449294e-16         1.000000   \n",
       "\n",
       "         period_of_day_sin  period_of_day_cos  \n",
       "1186641           0.866025               -0.5  \n",
       "1199598           0.866025               -0.5  \n",
       "1185636           0.866025               -0.5  \n",
       "6211424           0.866025               -0.5  \n",
       "4452703           0.866025               -0.5  "
      ]
     },
     "execution_count": 146,
     "metadata": {},
     "output_type": "execute_result"
    }
   ],
   "source": [
    "X_train.head()"
   ]
  },
  {
   "cell_type": "code",
   "execution_count": 147,
   "id": "2mVInpev_bAz",
   "metadata": {
    "ExecuteTime": {
     "end_time": "2022-01-29T17:26:11.963833Z",
     "start_time": "2022-01-29T17:26:11.947618Z"
    },
    "colab": {
     "base_uri": "https://localhost:8080/",
     "height": 374
    },
    "hidden": true,
    "id": "2mVInpev_bAz",
    "outputId": "81d7fb63-6dd0-4ad2-aa5a-081f984a4a8b"
   },
   "outputs": [
    {
     "data": {
      "text/html": [
       "<div>\n",
       "<style scoped>\n",
       "    .dataframe tbody tr th:only-of-type {\n",
       "        vertical-align: middle;\n",
       "    }\n",
       "\n",
       "    .dataframe tbody tr th {\n",
       "        vertical-align: top;\n",
       "    }\n",
       "\n",
       "    .dataframe thead th {\n",
       "        text-align: right;\n",
       "    }\n",
       "</style>\n",
       "<table border=\"1\" class=\"dataframe\">\n",
       "  <thead>\n",
       "    <tr style=\"text-align: right;\">\n",
       "      <th></th>\n",
       "      <th>step</th>\n",
       "      <th>type</th>\n",
       "      <th>amount</th>\n",
       "      <th>oldbalanceOrg</th>\n",
       "      <th>newbalanceOrig</th>\n",
       "      <th>nameDest</th>\n",
       "      <th>oldbalanceDest</th>\n",
       "      <th>newbalanceDest</th>\n",
       "      <th>day_of_month</th>\n",
       "      <th>week_of_month</th>\n",
       "      <th>isFlaggedFraud_no</th>\n",
       "      <th>isFlaggedFraud_yes</th>\n",
       "      <th>is_weekend_weekdays</th>\n",
       "      <th>is_weekend_weekend</th>\n",
       "      <th>time_of_day_AM</th>\n",
       "      <th>time_of_day_PM</th>\n",
       "      <th>dest_type_Costumer</th>\n",
       "      <th>dest_type_Merchant</th>\n",
       "      <th>oldbalanceOrg_status_non-zero</th>\n",
       "      <th>oldbalanceOrg_status_zero</th>\n",
       "      <th>newbalanceOrig_status_non-zero</th>\n",
       "      <th>newbalanceOrig_status_zero</th>\n",
       "      <th>oldbalanceDest_status_non-zero</th>\n",
       "      <th>oldbalanceDest_status_zero</th>\n",
       "      <th>newbalanceDest_status_non-zero</th>\n",
       "      <th>newbalanceDest_status_zero</th>\n",
       "      <th>is_oldbalanceOrg_higherthan_newbalanceOrig_no</th>\n",
       "      <th>is_oldbalanceOrg_higherthan_newbalanceOrig_yes</th>\n",
       "      <th>is_oldbalanceDest_higherthan_newbalanceDest_no</th>\n",
       "      <th>is_oldbalanceDest_higherthan_newbalanceDest_yes</th>\n",
       "      <th>transaction_direction_C2C</th>\n",
       "      <th>transaction_direction_C2M</th>\n",
       "      <th>hour_of_day_sin</th>\n",
       "      <th>hour_of_day_cos</th>\n",
       "      <th>day_of_week_sin</th>\n",
       "      <th>day_of_week_cos</th>\n",
       "      <th>period_of_day_sin</th>\n",
       "      <th>period_of_day_cos</th>\n",
       "    </tr>\n",
       "  </thead>\n",
       "  <tbody>\n",
       "    <tr>\n",
       "      <th>3737323</th>\n",
       "      <td>0.219101</td>\n",
       "      <td>0</td>\n",
       "      <td>1.307560</td>\n",
       "      <td>0.062326</td>\n",
       "      <td>2.434223</td>\n",
       "      <td>1.428799e-06</td>\n",
       "      <td>0.339346</td>\n",
       "      <td>-0.083202</td>\n",
       "      <td>0.285714</td>\n",
       "      <td>0.0</td>\n",
       "      <td>1</td>\n",
       "      <td>0</td>\n",
       "      <td>1</td>\n",
       "      <td>0</td>\n",
       "      <td>0</td>\n",
       "      <td>1</td>\n",
       "      <td>1</td>\n",
       "      <td>0</td>\n",
       "      <td>1</td>\n",
       "      <td>0</td>\n",
       "      <td>1</td>\n",
       "      <td>0</td>\n",
       "      <td>1</td>\n",
       "      <td>0</td>\n",
       "      <td>1</td>\n",
       "      <td>0</td>\n",
       "      <td>1</td>\n",
       "      <td>0</td>\n",
       "      <td>0</td>\n",
       "      <td>1</td>\n",
       "      <td>1</td>\n",
       "      <td>0</td>\n",
       "      <td>-0.258819</td>\n",
       "      <td>-9.659258e-01</td>\n",
       "      <td>-0.974928</td>\n",
       "      <td>-0.222521</td>\n",
       "      <td>-0.866025</td>\n",
       "      <td>-0.5</td>\n",
       "    </tr>\n",
       "    <tr>\n",
       "      <th>264914</th>\n",
       "      <td>-1.258427</td>\n",
       "      <td>3</td>\n",
       "      <td>-0.323712</td>\n",
       "      <td>0.150876</td>\n",
       "      <td>0.129814</td>\n",
       "      <td>4.762665e-07</td>\n",
       "      <td>-0.140862</td>\n",
       "      <td>-0.193175</td>\n",
       "      <td>-1.285714</td>\n",
       "      <td>-1.0</td>\n",
       "      <td>1</td>\n",
       "      <td>0</td>\n",
       "      <td>0</td>\n",
       "      <td>1</td>\n",
       "      <td>0</td>\n",
       "      <td>1</td>\n",
       "      <td>0</td>\n",
       "      <td>1</td>\n",
       "      <td>1</td>\n",
       "      <td>0</td>\n",
       "      <td>1</td>\n",
       "      <td>0</td>\n",
       "      <td>0</td>\n",
       "      <td>1</td>\n",
       "      <td>0</td>\n",
       "      <td>1</td>\n",
       "      <td>0</td>\n",
       "      <td>1</td>\n",
       "      <td>1</td>\n",
       "      <td>0</td>\n",
       "      <td>0</td>\n",
       "      <td>1</td>\n",
       "      <td>-0.500000</td>\n",
       "      <td>-8.660254e-01</td>\n",
       "      <td>0.781831</td>\n",
       "      <td>0.623490</td>\n",
       "      <td>-0.866025</td>\n",
       "      <td>-0.5</td>\n",
       "    </tr>\n",
       "    <tr>\n",
       "      <th>85647</th>\n",
       "      <td>-1.286517</td>\n",
       "      <td>0</td>\n",
       "      <td>0.396330</td>\n",
       "      <td>0.861020</td>\n",
       "      <td>1.794744</td>\n",
       "      <td>5.238931e-06</td>\n",
       "      <td>0.072805</td>\n",
       "      <td>-0.149043</td>\n",
       "      <td>-1.285714</td>\n",
       "      <td>-1.0</td>\n",
       "      <td>1</td>\n",
       "      <td>0</td>\n",
       "      <td>0</td>\n",
       "      <td>1</td>\n",
       "      <td>1</td>\n",
       "      <td>0</td>\n",
       "      <td>1</td>\n",
       "      <td>0</td>\n",
       "      <td>1</td>\n",
       "      <td>0</td>\n",
       "      <td>1</td>\n",
       "      <td>0</td>\n",
       "      <td>1</td>\n",
       "      <td>0</td>\n",
       "      <td>1</td>\n",
       "      <td>0</td>\n",
       "      <td>1</td>\n",
       "      <td>0</td>\n",
       "      <td>0</td>\n",
       "      <td>1</td>\n",
       "      <td>1</td>\n",
       "      <td>0</td>\n",
       "      <td>0.707107</td>\n",
       "      <td>-7.071068e-01</td>\n",
       "      <td>0.781831</td>\n",
       "      <td>0.623490</td>\n",
       "      <td>0.866025</td>\n",
       "      <td>-0.5</td>\n",
       "    </tr>\n",
       "    <tr>\n",
       "      <th>5899326</th>\n",
       "      <td>0.921348</td>\n",
       "      <td>4</td>\n",
       "      <td>7.562571</td>\n",
       "      <td>-0.132085</td>\n",
       "      <td>0.000000</td>\n",
       "      <td>5.715197e-06</td>\n",
       "      <td>3.253943</td>\n",
       "      <td>4.081656</td>\n",
       "      <td>1.000000</td>\n",
       "      <td>1.0</td>\n",
       "      <td>1</td>\n",
       "      <td>0</td>\n",
       "      <td>1</td>\n",
       "      <td>0</td>\n",
       "      <td>0</td>\n",
       "      <td>1</td>\n",
       "      <td>1</td>\n",
       "      <td>0</td>\n",
       "      <td>0</td>\n",
       "      <td>1</td>\n",
       "      <td>0</td>\n",
       "      <td>1</td>\n",
       "      <td>1</td>\n",
       "      <td>0</td>\n",
       "      <td>1</td>\n",
       "      <td>0</td>\n",
       "      <td>1</td>\n",
       "      <td>0</td>\n",
       "      <td>1</td>\n",
       "      <td>0</td>\n",
       "      <td>1</td>\n",
       "      <td>0</td>\n",
       "      <td>-1.000000</td>\n",
       "      <td>-1.836970e-16</td>\n",
       "      <td>0.433884</td>\n",
       "      <td>-0.900969</td>\n",
       "      <td>-0.866025</td>\n",
       "      <td>-0.5</td>\n",
       "    </tr>\n",
       "    <tr>\n",
       "      <th>2544263</th>\n",
       "      <td>-0.185393</td>\n",
       "      <td>0</td>\n",
       "      <td>0.016936</td>\n",
       "      <td>27.086388</td>\n",
       "      <td>20.796885</td>\n",
       "      <td>1.905066e-06</td>\n",
       "      <td>0.300500</td>\n",
       "      <td>0.110689</td>\n",
       "      <td>-0.142857</td>\n",
       "      <td>0.0</td>\n",
       "      <td>1</td>\n",
       "      <td>0</td>\n",
       "      <td>1</td>\n",
       "      <td>0</td>\n",
       "      <td>0</td>\n",
       "      <td>1</td>\n",
       "      <td>1</td>\n",
       "      <td>0</td>\n",
       "      <td>1</td>\n",
       "      <td>0</td>\n",
       "      <td>1</td>\n",
       "      <td>0</td>\n",
       "      <td>1</td>\n",
       "      <td>0</td>\n",
       "      <td>1</td>\n",
       "      <td>0</td>\n",
       "      <td>1</td>\n",
       "      <td>0</td>\n",
       "      <td>0</td>\n",
       "      <td>1</td>\n",
       "      <td>1</td>\n",
       "      <td>0</td>\n",
       "      <td>-0.258819</td>\n",
       "      <td>-9.659258e-01</td>\n",
       "      <td>0.974928</td>\n",
       "      <td>-0.222521</td>\n",
       "      <td>-0.866025</td>\n",
       "      <td>-0.5</td>\n",
       "    </tr>\n",
       "  </tbody>\n",
       "</table>\n",
       "</div>"
      ],
      "text/plain": [
       "             step  type    amount  oldbalanceOrg  newbalanceOrig  \\\n",
       "3737323  0.219101     0  1.307560       0.062326        2.434223   \n",
       "264914  -1.258427     3 -0.323712       0.150876        0.129814   \n",
       "85647   -1.286517     0  0.396330       0.861020        1.794744   \n",
       "5899326  0.921348     4  7.562571      -0.132085        0.000000   \n",
       "2544263 -0.185393     0  0.016936      27.086388       20.796885   \n",
       "\n",
       "             nameDest  oldbalanceDest  newbalanceDest  day_of_month  \\\n",
       "3737323  1.428799e-06        0.339346       -0.083202      0.285714   \n",
       "264914   4.762665e-07       -0.140862       -0.193175     -1.285714   \n",
       "85647    5.238931e-06        0.072805       -0.149043     -1.285714   \n",
       "5899326  5.715197e-06        3.253943        4.081656      1.000000   \n",
       "2544263  1.905066e-06        0.300500        0.110689     -0.142857   \n",
       "\n",
       "         week_of_month  isFlaggedFraud_no  isFlaggedFraud_yes  \\\n",
       "3737323            0.0                  1                   0   \n",
       "264914            -1.0                  1                   0   \n",
       "85647             -1.0                  1                   0   \n",
       "5899326            1.0                  1                   0   \n",
       "2544263            0.0                  1                   0   \n",
       "\n",
       "         is_weekend_weekdays  is_weekend_weekend  time_of_day_AM  \\\n",
       "3737323                    1                   0               0   \n",
       "264914                     0                   1               0   \n",
       "85647                      0                   1               1   \n",
       "5899326                    1                   0               0   \n",
       "2544263                    1                   0               0   \n",
       "\n",
       "         time_of_day_PM  dest_type_Costumer  dest_type_Merchant  \\\n",
       "3737323               1                   1                   0   \n",
       "264914                1                   0                   1   \n",
       "85647                 0                   1                   0   \n",
       "5899326               1                   1                   0   \n",
       "2544263               1                   1                   0   \n",
       "\n",
       "         oldbalanceOrg_status_non-zero  oldbalanceOrg_status_zero  \\\n",
       "3737323                              1                          0   \n",
       "264914                               1                          0   \n",
       "85647                                1                          0   \n",
       "5899326                              0                          1   \n",
       "2544263                              1                          0   \n",
       "\n",
       "         newbalanceOrig_status_non-zero  newbalanceOrig_status_zero  \\\n",
       "3737323                               1                           0   \n",
       "264914                                1                           0   \n",
       "85647                                 1                           0   \n",
       "5899326                               0                           1   \n",
       "2544263                               1                           0   \n",
       "\n",
       "         oldbalanceDest_status_non-zero  oldbalanceDest_status_zero  \\\n",
       "3737323                               1                           0   \n",
       "264914                                0                           1   \n",
       "85647                                 1                           0   \n",
       "5899326                               1                           0   \n",
       "2544263                               1                           0   \n",
       "\n",
       "         newbalanceDest_status_non-zero  newbalanceDest_status_zero  \\\n",
       "3737323                               1                           0   \n",
       "264914                                0                           1   \n",
       "85647                                 1                           0   \n",
       "5899326                               1                           0   \n",
       "2544263                               1                           0   \n",
       "\n",
       "         is_oldbalanceOrg_higherthan_newbalanceOrig_no  \\\n",
       "3737323                                              1   \n",
       "264914                                               0   \n",
       "85647                                                1   \n",
       "5899326                                              1   \n",
       "2544263                                              1   \n",
       "\n",
       "         is_oldbalanceOrg_higherthan_newbalanceOrig_yes  \\\n",
       "3737323                                               0   \n",
       "264914                                                1   \n",
       "85647                                                 0   \n",
       "5899326                                               0   \n",
       "2544263                                               0   \n",
       "\n",
       "         is_oldbalanceDest_higherthan_newbalanceDest_no  \\\n",
       "3737323                                               0   \n",
       "264914                                                1   \n",
       "85647                                                 0   \n",
       "5899326                                               1   \n",
       "2544263                                               0   \n",
       "\n",
       "         is_oldbalanceDest_higherthan_newbalanceDest_yes  \\\n",
       "3737323                                                1   \n",
       "264914                                                 0   \n",
       "85647                                                  1   \n",
       "5899326                                                0   \n",
       "2544263                                                1   \n",
       "\n",
       "         transaction_direction_C2C  transaction_direction_C2M  \\\n",
       "3737323                          1                          0   \n",
       "264914                           0                          1   \n",
       "85647                            1                          0   \n",
       "5899326                          1                          0   \n",
       "2544263                          1                          0   \n",
       "\n",
       "         hour_of_day_sin  hour_of_day_cos  day_of_week_sin  day_of_week_cos  \\\n",
       "3737323        -0.258819    -9.659258e-01        -0.974928        -0.222521   \n",
       "264914         -0.500000    -8.660254e-01         0.781831         0.623490   \n",
       "85647           0.707107    -7.071068e-01         0.781831         0.623490   \n",
       "5899326        -1.000000    -1.836970e-16         0.433884        -0.900969   \n",
       "2544263        -0.258819    -9.659258e-01         0.974928        -0.222521   \n",
       "\n",
       "         period_of_day_sin  period_of_day_cos  \n",
       "3737323          -0.866025               -0.5  \n",
       "264914           -0.866025               -0.5  \n",
       "85647             0.866025               -0.5  \n",
       "5899326          -0.866025               -0.5  \n",
       "2544263          -0.866025               -0.5  "
      ]
     },
     "execution_count": 147,
     "metadata": {},
     "output_type": "execute_result"
    }
   ],
   "source": [
    "X_test.head()"
   ]
  },
  {
   "cell_type": "code",
   "execution_count": 148,
   "id": "NhREsfJTPCYp",
   "metadata": {
    "ExecuteTime": {
     "end_time": "2022-01-29T17:26:16.590068Z",
     "start_time": "2022-01-29T17:26:11.964887Z"
    },
    "colab": {
     "base_uri": "https://localhost:8080/",
     "height": 297
    },
    "hidden": true,
    "id": "NhREsfJTPCYp",
    "outputId": "2cf150e1-855a-4395-aa40-ef11c8c2d015"
   },
   "outputs": [
    {
     "data": {
      "text/plain": [
       "<AxesSubplot:xlabel='hour_of_day_sin', ylabel='hour_of_day_cos'>"
      ]
     },
     "execution_count": 148,
     "metadata": {},
     "output_type": "execute_result"
    },
    {
     "data": {
      "image/png": "[encoded data removed]",
      "text/plain": [
       "<Figure size 432x288 with 1 Axes>"
      ]
     },
     "metadata": {
      "needs_background": "light"
     },
     "output_type": "display_data"
    }
   ],
   "source": [
    "sns.scatterplot(x=X_train['hour_of_day_sin'], y=X_train['hour_of_day_cos'])"
   ]
  },
  {
   "cell_type": "code",
   "execution_count": 149,
   "id": "ApyNl262Wxm5",
   "metadata": {
    "ExecuteTime": {
     "end_time": "2022-01-29T17:26:21.268339Z",
     "start_time": "2022-01-29T17:26:16.591569Z"
    },
    "colab": {
     "base_uri": "https://localhost:8080/",
     "height": 297
    },
    "hidden": true,
    "id": "ApyNl262Wxm5",
    "outputId": "fd905c1f-c8f2-47d6-83ba-82376a76e768"
   },
   "outputs": [
    {
     "data": {
      "text/plain": [
       "<AxesSubplot:xlabel='day_of_week_sin', ylabel='day_of_week_cos'>"
      ]
     },
     "execution_count": 149,
     "metadata": {},
     "output_type": "execute_result"
    },
    {
     "data": {
      "image/png": "[encoded data removed]",
      "text/plain": [
       "<Figure size 432x288 with 1 Axes>"
      ]
     },
     "metadata": {
      "needs_background": "light"
     },
     "output_type": "display_data"
    }
   ],
   "source": [
    "sns.scatterplot(x=X_train['day_of_week_sin'], y=X_train['day_of_week_cos'])"
   ]
  },
  {
   "cell_type": "code",
   "execution_count": 150,
   "id": "Sm6YIzE1Wxp6",
   "metadata": {
    "ExecuteTime": {
     "end_time": "2022-01-29T17:26:25.855012Z",
     "start_time": "2022-01-29T17:26:21.269827Z"
    },
    "colab": {
     "base_uri": "https://localhost:8080/",
     "height": 297
    },
    "hidden": true,
    "id": "Sm6YIzE1Wxp6",
    "outputId": "49ae97b4-e9dc-41db-b1a7-b0ed41502d0c"
   },
   "outputs": [
    {
     "data": {
      "text/plain": [
       "<AxesSubplot:xlabel='period_of_day_sin', ylabel='period_of_day_cos'>"
      ]
     },
     "execution_count": 150,
     "metadata": {},
     "output_type": "execute_result"
    },
    {
     "data": {
      "image/png": "[encoded data removed]",
      "text/plain": [
       "<Figure size 432x288 with 1 Axes>"
      ]
     },
     "metadata": {
      "needs_background": "light"
     },
     "output_type": "display_data"
    }
   ],
   "source": [
    "sns.scatterplot(x=X_train['period_of_day_sin'], y=X_train['period_of_day_cos'])"
   ]
  },
  {
   "cell_type": "markdown",
   "id": "-OP39gWmPKvu",
   "metadata": {
    "hidden": true,
    "id": "-OP39gWmPKvu"
   },
   "source": [
    "Checkpoint"
   ]
  },
  {
   "cell_type": "code",
   "execution_count": null,
   "id": "_6mAb6PQPNlk",
   "metadata": {
    "ExecuteTime": {
     "end_time": "2022-01-29T17:16:23.307621Z",
     "start_time": "2022-01-29T17:16:23.307608Z"
    },
    "hidden": true,
    "id": "_6mAb6PQPNlk"
   },
   "outputs": [],
   "source": [
    "# saving datasets currently state\n",
    "\n",
    "# X_train\n",
    "pickle.dump(X_train, open('/mnt/d/Gustavo/fraud-detection/X_train.pkl', 'wb'))\n",
    "\n",
    "# y_train\n",
    "pickle.dump(y_train, open('/mnt/d/Gustavo/fraud-detection/y_train.pkl', 'wb'))\n",
    "\n",
    "# X_test\n",
    "pickle.dump(X_test, open('/mnt/d/Gustavo/fraud-detection/X_test.pkl', 'wb'))\n",
    "\n",
    "# y_test\n",
    "pickle.dump(y_test, open('/mnt/d/Gustavo/fraud-detection/y_test.pkl', 'wb'))\n"
   ]
  },
  {
   "cell_type": "markdown",
   "id": "JM-x4_NbYIZv",
   "metadata": {
    "heading_collapsed": true,
    "id": "JM-x4_NbYIZv"
   },
   "source": [
    "# 6- Feature Selection"
   ]
  },
  {
   "cell_type": "code",
   "execution_count": null,
   "id": "pT9kNqT7wFys",
   "metadata": {
    "ExecuteTime": {
     "end_time": "2022-01-27T19:21:14.088298Z",
     "start_time": "2022-01-27T19:21:12.635811Z"
    },
    "hidden": true,
    "id": "pT9kNqT7wFys"
   },
   "outputs": [],
   "source": [
    "# Loading stored scaled train dataset\n",
    "\n",
    "X_train = pickle.load(open('/mnt/d/Gustavo/fraud-detection/X_train.pkl', 'rb'))\n",
    "\n",
    "y_train = pickle.load(open('/mnt/d/Gustavo/fraud-detection/y_train.pkl', 'rb'))\n"
   ]
  },
  {
   "cell_type": "markdown",
   "id": "0DhC9xT9HWN5",
   "metadata": {
    "heading_collapsed": true,
    "hidden": true,
    "id": "0DhC9xT9HWN5"
   },
   "source": [
    "## 6.1 Boruta algorithm"
   ]
  },
  {
   "cell_type": "code",
   "execution_count": null,
   "id": "25rbGnTlGQBj",
   "metadata": {
    "ExecuteTime": {
     "end_time": "2022-01-27T05:37:10.478639Z",
     "start_time": "2022-01-27T01:17:29.181717Z"
    },
    "colab": {
     "background_save": true,
     "base_uri": "https://localhost:8080/"
    },
    "hidden": true,
    "id": "25rbGnTlGQBj",
    "outputId": "2fdbe5e7-a5d6-4692-f981-fa0e2e2dca75",
    "scrolled": true
   },
   "outputs": [],
   "source": [
    "# Converting X and y train to np array\n",
    "\n",
    "#X_train_1_np = X_train.values\n",
    "#y_train_1_np = y_train.values\n",
    "\n",
    "\n",
    "# Instantiating Boruta\n",
    "\n",
    "boruta = BorutaPy(RandomForestClassifier(n_jobs=-1),\n",
    "                  n_estimators='auto',\n",
    "                  verbose=2,random_state=42).fit(X_train.values, y_train.values)"
   ]
  },
  {
   "cell_type": "code",
   "execution_count": null,
   "id": "k_V-r7mbGQHt",
   "metadata": {
    "ExecuteTime": {
     "end_time": "2022-01-27T05:39:45.875440Z",
     "start_time": "2022-01-27T05:39:45.871697Z"
    },
    "colab": {
     "background_save": true
    },
    "hidden": true,
    "id": "k_V-r7mbGQHt",
    "outputId": "c6b21754-41d7-4e79-8476-e0ac66a38850",
    "scrolled": true
   },
   "outputs": [],
   "source": [
    "boruta.support_.tolist()"
   ]
  },
  {
   "cell_type": "markdown",
   "id": "8ad3425a",
   "metadata": {
    "heading_collapsed": true,
    "hidden": true,
    "id": "0DhC9xT9HWN5"
   },
   "source": [
    "## 6.2  Columns selected by Boruta"
   ]
  },
  {
   "cell_type": "code",
   "execution_count": null,
   "id": "VS1pAcwCDDje",
   "metadata": {
    "ExecuteTime": {
     "end_time": "2022-01-28T02:26:47.558602Z",
     "start_time": "2022-01-28T02:26:47.232430Z"
    },
    "colab": {
     "base_uri": "https://localhost:8080/",
     "height": 374
    },
    "hidden": true,
    "id": "VS1pAcwCDDje",
    "outputId": "42bd4e46-3655-44d1-8b27-1ee7bfb70816",
    "scrolled": false
   },
   "outputs": [],
   "source": [
    "cols_selected_boruta = X_train.loc[:, [True, True, True, True, False, True, True, True, True, False, False, False,\n",
    "                                       False, False, False, False, False, False, False, False, False, False, True,\n",
    "                                       False, True, True, False, False, False, False, False, False, True, True,\n",
    "                                       False, False, False, False]].columns.tolist()\n",
    "\n",
    "cols_not_selected_boruta = list(set(X_train.columns).difference(set(cols_selected_boruta )))\n",
    "\n",
    "print('Features selected by Boruta:\\n {}\\n'.format(cols_selected_boruta))\n",
    "\n",
    "print('Features not selected by Boruta:\\n {}\\n'.format(cols_not_selected_boruta))"
   ]
  },
  {
   "cell_type": "markdown",
   "id": "b0e10bf9",
   "metadata": {
    "hidden": true
   },
   "source": [
    "<b>Important considerations about the importance of the features</b>\n",
    "\n",
    "Features important from EDA, statistical test and Boruta standpoint:\n",
    "\n",
    "- amount\n",
    "\n",
    "Features important from statistical test and Boruta standpoint:\n",
    "\n",
    "- oldbalanceOrg\n",
    "\n",
    "- oldbalanceDest\n",
    "\n",
    "- newbalanceDest\n",
    "\n",
    "\n",
    "Features important from EDA and Boruta standpoint:\n",
    "\n",
    "- type\n",
    "\n",
    "- newbalanceDest_status\n",
    "\n",
    "\n",
    "Features selected only by statistical test (not by Boruta):\n",
    "\n",
    "- newbalanceOrig\n",
    "\n",
    "\n",
    "Features important only by EDA (not by Boruta):\n",
    "\n",
    "- time_of_day (AM and PM) \n",
    "\n",
    "- period_of_day\n",
    "\n",
    "- day_of_week\n",
    "\n",
    "- oldbalanceOrg_status\n",
    "\n",
    "- newbalanceOrig_status\n",
    "\n",
    "- dest_type\n",
    "\n",
    "- transaction_direction\n",
    "\n",
    "- isFlaggedFraud"
   ]
  },
  {
   "cell_type": "markdown",
   "id": "NPrrd5f5YLy9",
   "metadata": {
    "heading_collapsed": true,
    "id": "NPrrd5f5YLy9"
   },
   "source": [
    "# 7- Machine Learning"
   ]
  },
  {
   "cell_type": "code",
   "execution_count": 3,
   "id": "2c79b493",
   "metadata": {
    "ExecuteTime": {
     "end_time": "2022-01-30T02:16:14.385972Z",
     "start_time": "2022-01-30T02:16:10.527907Z"
    },
    "hidden": true,
    "id": "pT9kNqT7wFys"
   },
   "outputs": [],
   "source": [
    "# Loading stored scaled train dataset\n",
    "\n",
    "X_train = pickle.load(open('/mnt/d/Gustavo/fraud-detection/X_train.pkl', 'rb'))\n",
    "\n",
    "y_train = pickle.load(open('/mnt/d/Gustavo/fraud-detection/y_train.pkl', 'rb'))\n",
    "\n",
    "X_test = pickle.load(open('/mnt/d/Gustavo/fraud-detection/X_test.pkl', 'rb'))\n",
    "\n",
    "y_test = pickle.load(open('/mnt/d/Gustavo/fraud-detection/y_test.pkl', 'rb'))\n"
   ]
  },
  {
   "cell_type": "code",
   "execution_count": 4,
   "id": "71ff23e1",
   "metadata": {
    "ExecuteTime": {
     "end_time": "2022-01-30T02:16:17.337573Z",
     "start_time": "2022-01-30T02:16:16.163470Z"
    },
    "hidden": true
   },
   "outputs": [],
   "source": [
    "# Columns selected by Boruta\n",
    "\n",
    "cols_selected_boruta = X_train.loc[:, [True, True, True, True, False, True, True, True, True, False, False, False,\n",
    "                                       False, False, False, False, False, False, False, False, False, False, True,\n",
    "                                       False, True, True, False, False, False, False, False, False, True, True,\n",
    "                                       False, False, False, False]].columns.tolist()"
   ]
  },
  {
   "cell_type": "code",
   "execution_count": 5,
   "id": "81be5ac4",
   "metadata": {
    "ExecuteTime": {
     "end_time": "2022-01-30T02:16:22.410459Z",
     "start_time": "2022-01-30T02:16:19.839813Z"
    },
    "hidden": true
   },
   "outputs": [],
   "source": [
    "# Defining datasets with Boruta-selected features\n",
    "\n",
    "\n",
    "# X_train\n",
    "X_train_boruta = X_train[cols_selected_boruta].copy()\n",
    "\n",
    "\n",
    "# X_test\n",
    "X_test_boruta = X_test[cols_selected_boruta].copy()\n",
    "\n"
   ]
  },
  {
   "cell_type": "markdown",
   "id": "d330225e",
   "metadata": {
    "hidden": true
   },
   "source": [
    "<b>Algorithms:</b>\n",
    "\n",
    "Here we will evaluate some different machine learning algorithms to check which one best fits the data. First we will get model metrics from a baseline (random) model. Then, each different model resulting from the different evaluated algorithm will be compared to baseline model. It is expected for each model to, at least, perform better than baseline model.\n",
    "\n",
    "\n",
    "<b>Model metrics:</b>\n",
    "\n",
    "Since the dataset is strongly imbalanced, Accuracy should not be the metrics to look at. Instead we will pay attention to Balanced Accuracy, AUC, Precision, Recall and F1-score."
   ]
  },
  {
   "cell_type": "markdown",
   "id": "3a401eb4",
   "metadata": {
    "heading_collapsed": true,
    "hidden": true
   },
   "source": [
    "## 7.1 Baseline model"
   ]
  },
  {
   "cell_type": "code",
   "execution_count": 154,
   "id": "a6e2404e",
   "metadata": {
    "ExecuteTime": {
     "end_time": "2022-01-29T17:30:14.117265Z",
     "start_time": "2022-01-29T17:30:07.417479Z"
    },
    "hidden": true,
    "scrolled": true
   },
   "outputs": [
    {
     "name": "stdout",
     "output_type": "stream",
     "text": [
      "Accuracy: 0.997\n",
      "\n",
      "Balanced Accuracy: 0.5\n",
      "\n",
      "AUC-ROC: 0.5\n",
      "\n",
      "Classification report:\n",
      "\n",
      "               precision    recall  f1-score   support\n",
      "\n",
      "           0       1.00      1.00      1.00   2096999\n",
      "           1       0.00      0.00      0.00      2666\n",
      "\n",
      "    accuracy                           1.00   2099665\n",
      "   macro avg       0.50      0.50      0.50   2099665\n",
      "weighted avg       1.00      1.00      1.00   2099665\n",
      "\n"
     ]
    },
    {
     "data": {
      "text/html": [
       "<div>\n",
       "<style scoped>\n",
       "    .dataframe tbody tr th:only-of-type {\n",
       "        vertical-align: middle;\n",
       "    }\n",
       "\n",
       "    .dataframe tbody tr th {\n",
       "        vertical-align: top;\n",
       "    }\n",
       "\n",
       "    .dataframe thead th {\n",
       "        text-align: right;\n",
       "    }\n",
       "</style>\n",
       "<table border=\"1\" class=\"dataframe\">\n",
       "  <thead>\n",
       "    <tr style=\"text-align: right;\">\n",
       "      <th></th>\n",
       "      <th>Model name</th>\n",
       "      <th>Accuracy</th>\n",
       "      <th>Balanced Accuracy</th>\n",
       "      <th>AUC</th>\n",
       "      <th>Precision</th>\n",
       "      <th>F1-score</th>\n",
       "      <th>Recall</th>\n",
       "    </tr>\n",
       "  </thead>\n",
       "  <tbody>\n",
       "    <tr>\n",
       "      <th>0</th>\n",
       "      <td>Baseline Model</td>\n",
       "      <td>0.997404</td>\n",
       "      <td>0.499523</td>\n",
       "      <td>0.499523</td>\n",
       "      <td>0.000359</td>\n",
       "      <td>0.000367</td>\n",
       "      <td>0.000375</td>\n",
       "    </tr>\n",
       "  </tbody>\n",
       "</table>\n",
       "</div>"
      ],
      "text/plain": [
       "       Model name  Accuracy Balanced Accuracy       AUC Precision  F1-score  \\\n",
       "0  Baseline Model  0.997404          0.499523  0.499523  0.000359  0.000367   \n",
       "\n",
       "     Recall  \n",
       "0  0.000375  "
      ]
     },
     "execution_count": 154,
     "metadata": {},
     "output_type": "execute_result"
    }
   ],
   "source": [
    "# Random model - setting\n",
    "\n",
    "target_variables_list = y_train.unique().tolist() # target variables (class 0=non-Fraud, 1=Fraud)\n",
    "\n",
    "k_num = y_test.shape[0] # k number of values to sample from (number of rows in y_test)\n",
    "\n",
    "class_weights = y_test.value_counts(normalize=True).tolist() # proportion of samples of each class\n",
    "\n",
    "\n",
    "# Random model\n",
    "\n",
    "y_pred = random.choices(population=target_variables_list , weights=class_weights, k=k_num)\n",
    "\n",
    "\n",
    "# Metrics: ========================================================================\n",
    "\n",
    "print('Accuracy: {}\\n'.format(round(metrics.accuracy_score(y_test, y_pred),3)))\n",
    "\n",
    "print('Balanced Accuracy: {}\\n'.format(round(metrics.balanced_accuracy_score(y_test, y_pred),3)))\n",
    "\n",
    "\n",
    "# AUC ROC\n",
    "\n",
    "\n",
    "# fpr, tpr, thresholds = metrics.roc_curve(y_test, y_pred, pos_label=1) <- sintax\n",
    "\n",
    "fpr, tpr, thresholds = metrics.roc_curve(y_test, \n",
    "                                         np.array(y_pred), \n",
    "                                         pos_label=1)\n",
    "\n",
    "metrics.auc(fpr, tpr)\n",
    "\n",
    "print('AUC-ROC: {}\\n'.format(round(metrics.auc(fpr, tpr),3)))\n",
    "\n",
    "\n",
    "\n",
    "\n",
    "print('Classification report:\\n\\n {}'.format(metrics.classification_report(y_test, y_pred)))\n",
    "\n",
    "\n",
    "# Gathering metrics for this estimator =============================================\n",
    "\n",
    "baseline_accuracy = metrics.accuracy_score(y_test, y_pred)\n",
    "\n",
    "baseline_bal_accuracy = metrics.balanced_accuracy_score(y_test, y_pred)\n",
    "\n",
    "baseline_auc = metrics.auc(fpr, tpr)\n",
    "\n",
    "baseline_precision = metrics.precision_score(y_test, y_pred)\n",
    "\n",
    "baseline_f1 = metrics.f1_score(y_test, y_pred)\n",
    "\n",
    "baseline_recall = metrics.recall_score(y_test, y_pred)\n",
    "\n",
    "\n",
    "\n",
    "df_baseline = pd.DataFrame(data=['Baseline Model', baseline_accuracy, baseline_bal_accuracy, baseline_auc, baseline_precision, baseline_f1, baseline_recall]).transpose()\n",
    "\n",
    "df_baseline.columns = ['Model name', 'Accuracy', 'Balanced Accuracy', 'AUC', 'Precision', 'F1-score', 'Recall']\n",
    "\n",
    "df_baseline"
   ]
  },
  {
   "cell_type": "markdown",
   "id": "25634aec",
   "metadata": {
    "heading_collapsed": true,
    "hidden": true
   },
   "source": [
    "## 7.2 Logistic Regression"
   ]
  },
  {
   "cell_type": "code",
   "execution_count": 155,
   "id": "c3395e24",
   "metadata": {
    "ExecuteTime": {
     "end_time": "2022-01-29T17:38:54.936577Z",
     "start_time": "2022-01-29T17:30:27.949945Z"
    },
    "hidden": true
   },
   "outputs": [
    {
     "name": "stdout",
     "output_type": "stream",
     "text": [
      "Accuracy: 0.999\n",
      "\n",
      "Balanced Accuracy: 0.573\n",
      "\n",
      "AUC-ROC: 0.868\n",
      "\n",
      "Classification report:\n",
      "\n",
      "               precision    recall  f1-score   support\n",
      "\n",
      "           0       1.00      1.00      1.00   2096999\n",
      "           1       0.89      0.15      0.25      2666\n",
      "\n",
      "    accuracy                           1.00   2099665\n",
      "   macro avg       0.95      0.57      0.62   2099665\n",
      "weighted avg       1.00      1.00      1.00   2099665\n",
      "\n",
      "\n"
     ]
    },
    {
     "data": {
      "text/html": [
       "<div>\n",
       "<style scoped>\n",
       "    .dataframe tbody tr th:only-of-type {\n",
       "        vertical-align: middle;\n",
       "    }\n",
       "\n",
       "    .dataframe tbody tr th {\n",
       "        vertical-align: top;\n",
       "    }\n",
       "\n",
       "    .dataframe thead th {\n",
       "        text-align: right;\n",
       "    }\n",
       "</style>\n",
       "<table border=\"1\" class=\"dataframe\">\n",
       "  <thead>\n",
       "    <tr style=\"text-align: right;\">\n",
       "      <th></th>\n",
       "      <th>Model name</th>\n",
       "      <th>Accuracy</th>\n",
       "      <th>Balanced Accuracy</th>\n",
       "      <th>AUC</th>\n",
       "      <th>Precision</th>\n",
       "      <th>F1-score</th>\n",
       "      <th>Recall</th>\n",
       "    </tr>\n",
       "  </thead>\n",
       "  <tbody>\n",
       "    <tr>\n",
       "      <th>0</th>\n",
       "      <td>Logistic Regression</td>\n",
       "      <td>0.998893</td>\n",
       "      <td>0.572757</td>\n",
       "      <td>0.867702</td>\n",
       "      <td>0.894009</td>\n",
       "      <td>0.250323</td>\n",
       "      <td>0.145536</td>\n",
       "    </tr>\n",
       "  </tbody>\n",
       "</table>\n",
       "</div>"
      ],
      "text/plain": [
       "            Model name  Accuracy Balanced Accuracy       AUC Precision  \\\n",
       "0  Logistic Regression  0.998893          0.572757  0.867702  0.894009   \n",
       "\n",
       "   F1-score    Recall  \n",
       "0  0.250323  0.145536  "
      ]
     },
     "execution_count": 155,
     "metadata": {},
     "output_type": "execute_result"
    }
   ],
   "source": [
    "\n",
    "\n",
    "model_name = 'Logistic Regression'\n",
    "\n",
    "model = LogisticRegression(random_state=42, n_jobs=-1, max_iter=10000)\n",
    "\n",
    "\n",
    "df_log_reg = get_model_metrics(model_name, model, X_train_boruta, y_train, X_test_boruta, y_test)\n",
    "\n",
    "\n",
    "df_log_reg"
   ]
  },
  {
   "cell_type": "code",
   "execution_count": 156,
   "id": "89b2bb6b",
   "metadata": {
    "ExecuteTime": {
     "end_time": "2022-01-29T17:38:55.492287Z",
     "start_time": "2022-01-29T17:38:55.462797Z"
    },
    "hidden": true
   },
   "outputs": [
    {
     "data": {
      "text/plain": [
       "{0: 0.99873027363889, 1: 0.0012697263611099866}"
      ]
     },
     "execution_count": 156,
     "metadata": {},
     "output_type": "execute_result"
    }
   ],
   "source": [
    "# sample weights svc (class_weight)\n",
    "\n",
    "\n",
    "{y_test.value_counts(normalize=True).index[0]:y_test.value_counts(normalize=True).tolist()[0], y_test.value_counts(normalize=True).index[1]:y_test.value_counts(normalize=True).tolist()[1] }"
   ]
  },
  {
   "cell_type": "code",
   "execution_count": 157,
   "id": "d4c16343",
   "metadata": {
    "ExecuteTime": {
     "end_time": "2022-01-29T17:45:43.357345Z",
     "start_time": "2022-01-29T17:38:55.947791Z"
    },
    "hidden": true
   },
   "outputs": [
    {
     "name": "stdout",
     "output_type": "stream",
     "text": [
      "Accuracy: 0.999\n",
      "\n",
      "Balanced Accuracy: 0.513\n",
      "\n",
      "AUC-ROC: 0.839\n",
      "\n",
      "Classification report:\n",
      "\n",
      "               precision    recall  f1-score   support\n",
      "\n",
      "           0       1.00      1.00      1.00   2096999\n",
      "           1       0.99      0.03      0.05      2666\n",
      "\n",
      "    accuracy                           1.00   2099665\n",
      "   macro avg       0.99      0.51      0.52   2099665\n",
      "weighted avg       1.00      1.00      1.00   2099665\n",
      "\n",
      "\n"
     ]
    },
    {
     "data": {
      "text/html": [
       "<div>\n",
       "<style scoped>\n",
       "    .dataframe tbody tr th:only-of-type {\n",
       "        vertical-align: middle;\n",
       "    }\n",
       "\n",
       "    .dataframe tbody tr th {\n",
       "        vertical-align: top;\n",
       "    }\n",
       "\n",
       "    .dataframe thead th {\n",
       "        text-align: right;\n",
       "    }\n",
       "</style>\n",
       "<table border=\"1\" class=\"dataframe\">\n",
       "  <thead>\n",
       "    <tr style=\"text-align: right;\">\n",
       "      <th></th>\n",
       "      <th>Model name</th>\n",
       "      <th>Accuracy</th>\n",
       "      <th>Balanced Accuracy</th>\n",
       "      <th>AUC</th>\n",
       "      <th>Precision</th>\n",
       "      <th>F1-score</th>\n",
       "      <th>Recall</th>\n",
       "    </tr>\n",
       "  </thead>\n",
       "  <tbody>\n",
       "    <tr>\n",
       "      <th>0</th>\n",
       "      <td>Logistic Regression balanced</td>\n",
       "      <td>0.998762</td>\n",
       "      <td>0.512753</td>\n",
       "      <td>0.838594</td>\n",
       "      <td>0.985507</td>\n",
       "      <td>0.049726</td>\n",
       "      <td>0.025506</td>\n",
       "    </tr>\n",
       "  </tbody>\n",
       "</table>\n",
       "</div>"
      ],
      "text/plain": [
       "                     Model name  Accuracy Balanced Accuracy       AUC  \\\n",
       "0  Logistic Regression balanced  0.998762          0.512753  0.838594   \n",
       "\n",
       "  Precision  F1-score    Recall  \n",
       "0  0.985507  0.049726  0.025506  "
      ]
     },
     "execution_count": 157,
     "metadata": {},
     "output_type": "execute_result"
    }
   ],
   "source": [
    "\n",
    "\n",
    "model_name = 'Logistic Regression balanced'\n",
    "\n",
    "model = LogisticRegression(random_state=42, \n",
    "                           n_jobs=-1, \n",
    "                           max_iter=10000,\n",
    "                          class_weight={y_test.value_counts(normalize=True).index[0]:y_test.value_counts(normalize=True).tolist()[0], y_test.value_counts(normalize=True).index[1]:\n",
    "                                        y_test.value_counts(normalize=True).tolist()[1] })\n",
    "\n",
    "\n",
    "get_model_metrics(model_name, model, X_train_boruta, y_train, X_test_boruta, y_test)\n",
    "\n"
   ]
  },
  {
   "cell_type": "markdown",
   "id": "62d57340",
   "metadata": {
    "heading_collapsed": true,
    "hidden": true
   },
   "source": [
    "## 7.3 Random Forest"
   ]
  },
  {
   "cell_type": "code",
   "execution_count": 158,
   "id": "f36a6d25",
   "metadata": {
    "ExecuteTime": {
     "end_time": "2022-01-29T17:50:13.246158Z",
     "start_time": "2022-01-29T17:46:49.278944Z"
    },
    "hidden": true
   },
   "outputs": [
    {
     "name": "stdout",
     "output_type": "stream",
     "text": [
      "Accuracy: 1.0\n",
      "\n",
      "Balanced Accuracy: 0.894\n",
      "\n",
      "AUC-ROC: 0.967\n",
      "\n",
      "Classification report:\n",
      "\n",
      "               precision    recall  f1-score   support\n",
      "\n",
      "           0       1.00      1.00      1.00   2096999\n",
      "           1       0.99      0.79      0.88      2666\n",
      "\n",
      "    accuracy                           1.00   2099665\n",
      "   macro avg       1.00      0.89      0.94   2099665\n",
      "weighted avg       1.00      1.00      1.00   2099665\n",
      "\n",
      "\n"
     ]
    },
    {
     "data": {
      "text/html": [
       "<div>\n",
       "<style scoped>\n",
       "    .dataframe tbody tr th:only-of-type {\n",
       "        vertical-align: middle;\n",
       "    }\n",
       "\n",
       "    .dataframe tbody tr th {\n",
       "        vertical-align: top;\n",
       "    }\n",
       "\n",
       "    .dataframe thead th {\n",
       "        text-align: right;\n",
       "    }\n",
       "</style>\n",
       "<table border=\"1\" class=\"dataframe\">\n",
       "  <thead>\n",
       "    <tr style=\"text-align: right;\">\n",
       "      <th></th>\n",
       "      <th>Model name</th>\n",
       "      <th>Accuracy</th>\n",
       "      <th>Balanced Accuracy</th>\n",
       "      <th>AUC</th>\n",
       "      <th>Precision</th>\n",
       "      <th>F1-score</th>\n",
       "      <th>Recall</th>\n",
       "    </tr>\n",
       "  </thead>\n",
       "  <tbody>\n",
       "    <tr>\n",
       "      <th>0</th>\n",
       "      <td>Random Forest</td>\n",
       "      <td>0.999724</td>\n",
       "      <td>0.893658</td>\n",
       "      <td>0.966993</td>\n",
       "      <td>0.993845</td>\n",
       "      <td>0.87861</td>\n",
       "      <td>0.787322</td>\n",
       "    </tr>\n",
       "  </tbody>\n",
       "</table>\n",
       "</div>"
      ],
      "text/plain": [
       "      Model name  Accuracy Balanced Accuracy       AUC Precision F1-score  \\\n",
       "0  Random Forest  0.999724          0.893658  0.966993  0.993845  0.87861   \n",
       "\n",
       "     Recall  \n",
       "0  0.787322  "
      ]
     },
     "execution_count": 158,
     "metadata": {},
     "output_type": "execute_result"
    }
   ],
   "source": [
    "\n",
    "\n",
    "model_name = 'Random Forest'\n",
    "\n",
    "model = RandomForestClassifier(n_jobs=-1, random_state=42)\n",
    "\n",
    "\n",
    "df_rf = get_model_metrics(model_name, model, X_train_boruta, y_train, X_test_boruta, y_test)\n",
    "\n",
    "\n",
    "df_rf"
   ]
  },
  {
   "cell_type": "markdown",
   "id": "15ce7250",
   "metadata": {
    "heading_collapsed": true,
    "hidden": true
   },
   "source": [
    "## 7.4 XGBoost"
   ]
  },
  {
   "cell_type": "code",
   "execution_count": 159,
   "id": "2541cff4",
   "metadata": {
    "ExecuteTime": {
     "end_time": "2022-01-29T17:54:38.046880Z",
     "start_time": "2022-01-29T17:51:09.331707Z"
    },
    "hidden": true,
    "scrolled": false
   },
   "outputs": [
    {
     "name": "stdout",
     "output_type": "stream",
     "text": [
      "Accuracy: 1.0\n",
      "\n",
      "Balanced Accuracy: 0.913\n",
      "\n",
      "AUC-ROC: 0.998\n",
      "\n",
      "Classification report:\n",
      "\n",
      "               precision    recall  f1-score   support\n",
      "\n",
      "           0       1.00      1.00      1.00   2096999\n",
      "           1       0.99      0.83      0.90      2666\n",
      "\n",
      "    accuracy                           1.00   2099665\n",
      "   macro avg       0.99      0.91      0.95   2099665\n",
      "weighted avg       1.00      1.00      1.00   2099665\n",
      "\n",
      "\n"
     ]
    },
    {
     "data": {
      "text/html": [
       "<div>\n",
       "<style scoped>\n",
       "    .dataframe tbody tr th:only-of-type {\n",
       "        vertical-align: middle;\n",
       "    }\n",
       "\n",
       "    .dataframe tbody tr th {\n",
       "        vertical-align: top;\n",
       "    }\n",
       "\n",
       "    .dataframe thead th {\n",
       "        text-align: right;\n",
       "    }\n",
       "</style>\n",
       "<table border=\"1\" class=\"dataframe\">\n",
       "  <thead>\n",
       "    <tr style=\"text-align: right;\">\n",
       "      <th></th>\n",
       "      <th>Model name</th>\n",
       "      <th>Accuracy</th>\n",
       "      <th>Balanced Accuracy</th>\n",
       "      <th>AUC</th>\n",
       "      <th>Precision</th>\n",
       "      <th>F1-score</th>\n",
       "      <th>Recall</th>\n",
       "    </tr>\n",
       "  </thead>\n",
       "  <tbody>\n",
       "    <tr>\n",
       "      <th>0</th>\n",
       "      <td>XG Boost</td>\n",
       "      <td>0.999763</td>\n",
       "      <td>0.912596</td>\n",
       "      <td>0.998484</td>\n",
       "      <td>0.986105</td>\n",
       "      <td>0.898509</td>\n",
       "      <td>0.825206</td>\n",
       "    </tr>\n",
       "  </tbody>\n",
       "</table>\n",
       "</div>"
      ],
      "text/plain": [
       "  Model name  Accuracy Balanced Accuracy       AUC Precision  F1-score  \\\n",
       "0   XG Boost  0.999763          0.912596  0.998484  0.986105  0.898509   \n",
       "\n",
       "     Recall  \n",
       "0  0.825206  "
      ]
     },
     "execution_count": 159,
     "metadata": {},
     "output_type": "execute_result"
    }
   ],
   "source": [
    "\n",
    "\n",
    "model_name = 'XG Boost'\n",
    "\n",
    "model = xgb.XGBClassifier(objective='binary:logistic',\n",
    "                            n_estimators=100,\n",
    "                            max_depth=10,\n",
    "                            tree_method='exact',\n",
    "                            n_jobs=-1,\n",
    "                            random_state=42)\n",
    "\n",
    "\n",
    "df_xgb = get_model_metrics(model_name, model, X_train_boruta, y_train, X_test_boruta, y_test)\n",
    "\n",
    "\n",
    "df_xgb"
   ]
  },
  {
   "cell_type": "code",
   "execution_count": 160,
   "id": "9dc19703",
   "metadata": {
    "ExecuteTime": {
     "end_time": "2022-01-29T17:54:59.489974Z",
     "start_time": "2022-01-29T17:54:59.355580Z"
    },
    "hidden": true
   },
   "outputs": [
    {
     "data": {
      "text/plain": [
       "<AxesSubplot:title={'center':'Feature importance'}, xlabel='F score', ylabel='Features'>"
      ]
     },
     "execution_count": 160,
     "metadata": {},
     "output_type": "execute_result"
    },
    {
     "data": {
      "image/png": "[encoded data removed]",
      "text/plain": [
       "<Figure size 432x288 with 1 Axes>"
      ]
     },
     "metadata": {
      "needs_background": "light"
     },
     "output_type": "display_data"
    }
   ],
   "source": [
    "xgb.plot_importance(model)"
   ]
  },
  {
   "cell_type": "markdown",
   "id": "3e46b937",
   "metadata": {
    "heading_collapsed": true,
    "hidden": true
   },
   "source": [
    "## 7.5 KNN"
   ]
  },
  {
   "cell_type": "code",
   "execution_count": 161,
   "id": "4b706afa",
   "metadata": {
    "ExecuteTime": {
     "end_time": "2022-01-29T18:00:36.364826Z",
     "start_time": "2022-01-29T17:55:21.652388Z"
    },
    "hidden": true,
    "scrolled": false
   },
   "outputs": [
    {
     "name": "stdout",
     "output_type": "stream",
     "text": [
      "Accuracy: 1.0\n",
      "\n",
      "Balanced Accuracy: 0.873\n",
      "\n",
      "AUC-ROC: 0.915\n",
      "\n",
      "Classification report:\n",
      "\n",
      "               precision    recall  f1-score   support\n",
      "\n",
      "           0       1.00      1.00      1.00   2096999\n",
      "           1       0.97      0.75      0.84      2666\n",
      "\n",
      "    accuracy                           1.00   2099665\n",
      "   macro avg       0.98      0.87      0.92   2099665\n",
      "weighted avg       1.00      1.00      1.00   2099665\n",
      "\n",
      "\n"
     ]
    },
    {
     "data": {
      "text/html": [
       "<div>\n",
       "<style scoped>\n",
       "    .dataframe tbody tr th:only-of-type {\n",
       "        vertical-align: middle;\n",
       "    }\n",
       "\n",
       "    .dataframe tbody tr th {\n",
       "        vertical-align: top;\n",
       "    }\n",
       "\n",
       "    .dataframe thead th {\n",
       "        text-align: right;\n",
       "    }\n",
       "</style>\n",
       "<table border=\"1\" class=\"dataframe\">\n",
       "  <thead>\n",
       "    <tr style=\"text-align: right;\">\n",
       "      <th></th>\n",
       "      <th>Model name</th>\n",
       "      <th>Accuracy</th>\n",
       "      <th>Balanced Accuracy</th>\n",
       "      <th>AUC</th>\n",
       "      <th>Precision</th>\n",
       "      <th>F1-score</th>\n",
       "      <th>Recall</th>\n",
       "    </tr>\n",
       "  </thead>\n",
       "  <tbody>\n",
       "    <tr>\n",
       "      <th>0</th>\n",
       "      <td>KNN</td>\n",
       "      <td>0.999649</td>\n",
       "      <td>0.873391</td>\n",
       "      <td>0.915126</td>\n",
       "      <td>0.9698</td>\n",
       "      <td>0.843823</td>\n",
       "      <td>0.746812</td>\n",
       "    </tr>\n",
       "  </tbody>\n",
       "</table>\n",
       "</div>"
      ],
      "text/plain": [
       "  Model name  Accuracy Balanced Accuracy       AUC Precision  F1-score  \\\n",
       "0        KNN  0.999649          0.873391  0.915126    0.9698  0.843823   \n",
       "\n",
       "     Recall  \n",
       "0  0.746812  "
      ]
     },
     "execution_count": 161,
     "metadata": {},
     "output_type": "execute_result"
    }
   ],
   "source": [
    "\n",
    "\n",
    "model_name = 'KNN'\n",
    "\n",
    "model = KNeighborsClassifier(n_jobs=-1)\n",
    "\n",
    "\n",
    "df_knn = get_model_metrics(model_name, model, X_train_boruta, y_train, X_test_boruta, y_test)\n",
    "\n",
    "\n",
    "df_knn"
   ]
  },
  {
   "cell_type": "markdown",
   "id": "6d488e24",
   "metadata": {
    "heading_collapsed": true,
    "hidden": true
   },
   "source": [
    "##  <font><i>Summary of metrics</i></font>"
   ]
  },
  {
   "cell_type": "code",
   "execution_count": 162,
   "id": "1d48c837",
   "metadata": {
    "ExecuteTime": {
     "end_time": "2022-01-29T18:01:15.794199Z",
     "start_time": "2022-01-29T18:01:15.786880Z"
    },
    "hidden": true
   },
   "outputs": [
    {
     "data": {
      "text/html": [
       "<div>\n",
       "<style scoped>\n",
       "    .dataframe tbody tr th:only-of-type {\n",
       "        vertical-align: middle;\n",
       "    }\n",
       "\n",
       "    .dataframe tbody tr th {\n",
       "        vertical-align: top;\n",
       "    }\n",
       "\n",
       "    .dataframe thead th {\n",
       "        text-align: right;\n",
       "    }\n",
       "</style>\n",
       "<table border=\"1\" class=\"dataframe\">\n",
       "  <thead>\n",
       "    <tr style=\"text-align: right;\">\n",
       "      <th></th>\n",
       "      <th>Model name</th>\n",
       "      <th>Accuracy</th>\n",
       "      <th>Balanced Accuracy</th>\n",
       "      <th>AUC</th>\n",
       "      <th>Precision</th>\n",
       "      <th>F1-score</th>\n",
       "      <th>Recall</th>\n",
       "    </tr>\n",
       "  </thead>\n",
       "  <tbody>\n",
       "    <tr>\n",
       "      <th>0</th>\n",
       "      <td>Baseline Model</td>\n",
       "      <td>0.997404</td>\n",
       "      <td>0.499523</td>\n",
       "      <td>0.499523</td>\n",
       "      <td>0.000359</td>\n",
       "      <td>0.000367</td>\n",
       "      <td>0.000375</td>\n",
       "    </tr>\n",
       "    <tr>\n",
       "      <th>0</th>\n",
       "      <td>Logistic Regression</td>\n",
       "      <td>0.998893</td>\n",
       "      <td>0.572757</td>\n",
       "      <td>0.867702</td>\n",
       "      <td>0.894009</td>\n",
       "      <td>0.250323</td>\n",
       "      <td>0.145536</td>\n",
       "    </tr>\n",
       "    <tr>\n",
       "      <th>0</th>\n",
       "      <td>Random Forest</td>\n",
       "      <td>0.999724</td>\n",
       "      <td>0.893658</td>\n",
       "      <td>0.966993</td>\n",
       "      <td>0.993845</td>\n",
       "      <td>0.87861</td>\n",
       "      <td>0.787322</td>\n",
       "    </tr>\n",
       "    <tr>\n",
       "      <th>0</th>\n",
       "      <td>XG Boost</td>\n",
       "      <td>0.999763</td>\n",
       "      <td>0.912596</td>\n",
       "      <td>0.998484</td>\n",
       "      <td>0.986105</td>\n",
       "      <td>0.898509</td>\n",
       "      <td>0.825206</td>\n",
       "    </tr>\n",
       "    <tr>\n",
       "      <th>0</th>\n",
       "      <td>KNN</td>\n",
       "      <td>0.999649</td>\n",
       "      <td>0.873391</td>\n",
       "      <td>0.915126</td>\n",
       "      <td>0.9698</td>\n",
       "      <td>0.843823</td>\n",
       "      <td>0.746812</td>\n",
       "    </tr>\n",
       "  </tbody>\n",
       "</table>\n",
       "</div>"
      ],
      "text/plain": [
       "            Model name  Accuracy Balanced Accuracy       AUC Precision  \\\n",
       "0       Baseline Model  0.997404          0.499523  0.499523  0.000359   \n",
       "0  Logistic Regression  0.998893          0.572757  0.867702  0.894009   \n",
       "0        Random Forest  0.999724          0.893658  0.966993  0.993845   \n",
       "0             XG Boost  0.999763          0.912596  0.998484  0.986105   \n",
       "0                  KNN  0.999649          0.873391  0.915126    0.9698   \n",
       "\n",
       "   F1-score    Recall  \n",
       "0  0.000367  0.000375  \n",
       "0  0.250323  0.145536  \n",
       "0   0.87861  0.787322  \n",
       "0  0.898509  0.825206  \n",
       "0  0.843823  0.746812  "
      ]
     },
     "execution_count": 162,
     "metadata": {},
     "output_type": "execute_result"
    }
   ],
   "source": [
    "pd.concat([df_baseline, df_log_reg, df_rf, df_xgb, df_knn])"
   ]
  },
  {
   "cell_type": "markdown",
   "id": "f6c56da6",
   "metadata": {
    "heading_collapsed": true,
    "hidden": true
   },
   "source": [
    "##  <font><i>Cross-validation</i></font>"
   ]
  },
  {
   "cell_type": "code",
   "execution_count": null,
   "id": "5a333d30",
   "metadata": {
    "ExecuteTime": {
     "end_time": "2022-01-29T03:12:33.818135Z",
     "start_time": "2022-01-29T02:34:21.655711Z"
    },
    "hidden": true
   },
   "outputs": [],
   "source": [
    "model = xgb.XGBClassifier(objective='binary:logistic',\n",
    "                          n_estimators=100,\n",
    "                          max_depth=10,\n",
    "                          tree_method='exact',\n",
    "                          n_jobs=-1,\n",
    "                          random_state=42)\n",
    "\n",
    "kfold = StratifiedKFold(n_splits=10, random_state=42, shuffle=True)\n",
    "\n",
    "results_recall = cross_val_score(model, X_train_boruta, y_train, cv=kfold, n_jobs=-1, verbose=1, scoring='recall')"
   ]
  },
  {
   "cell_type": "code",
   "execution_count": null,
   "id": "e22ea76e",
   "metadata": {
    "ExecuteTime": {
     "end_time": "2022-01-29T03:17:14.551604Z",
     "start_time": "2022-01-29T03:17:14.547923Z"
    },
    "hidden": true
   },
   "outputs": [],
   "source": [
    "print(\"Recall: %.2f%% (%.2f%%)\" % (results_recall.mean()*100, results_recall.std()*100))"
   ]
  },
  {
   "cell_type": "code",
   "execution_count": null,
   "id": "0c3fd441",
   "metadata": {
    "hidden": true
   },
   "outputs": [],
   "source": []
  },
  {
   "cell_type": "code",
   "execution_count": 25,
   "id": "e601876f",
   "metadata": {
    "ExecuteTime": {
     "end_time": "2022-01-30T01:25:35.887292Z",
     "start_time": "2022-01-29T21:37:19.615669Z"
    },
    "hidden": true,
    "scrolled": true
   },
   "outputs": [
    {
     "name": "stdout",
     "output_type": "stream",
     "text": [
      "Now evaluating: accuracy\n"
     ]
    },
    {
     "name": "stderr",
     "output_type": "stream",
     "text": [
      "[Parallel(n_jobs=-1)]: Using backend LokyBackend with 16 concurrent workers.\n",
      "[Parallel(n_jobs=-1)]: Done  10 out of  10 | elapsed: 38.1min finished\n"
     ]
    },
    {
     "name": "stdout",
     "output_type": "stream",
     "text": [
      "Evaluation of accuracy status: Done\n",
      "Inserting accuracy results information to table\n",
      "Insertion done.\n",
      "\n",
      "            accuracy balanced_accuracy roc_auc precision   f1 recall\n",
      "XG Boost  1.0 +/-0.0               NaN     NaN       NaN  NaN    NaN\n",
      "\n",
      "Now evaluating: balanced_accuracy\n"
     ]
    },
    {
     "name": "stderr",
     "output_type": "stream",
     "text": [
      "[Parallel(n_jobs=-1)]: Using backend LokyBackend with 16 concurrent workers.\n",
      "[Parallel(n_jobs=-1)]: Done  10 out of  10 | elapsed: 37.9min finished\n"
     ]
    },
    {
     "name": "stdout",
     "output_type": "stream",
     "text": [
      "Evaluation of balanced_accuracy status: Done\n",
      "Inserting balanced_accuracy results information to table\n",
      "Insertion done.\n",
      "\n",
      "            accuracy balanced_accuracy roc_auc precision   f1 recall\n",
      "XG Boost  1.0 +/-0.0      0.91 +/-0.01     NaN       NaN  NaN    NaN\n",
      "\n",
      "Now evaluating: roc_auc\n"
     ]
    },
    {
     "name": "stderr",
     "output_type": "stream",
     "text": [
      "[Parallel(n_jobs=-1)]: Using backend LokyBackend with 16 concurrent workers.\n",
      "[Parallel(n_jobs=-1)]: Done  10 out of  10 | elapsed: 38.0min finished\n"
     ]
    },
    {
     "name": "stdout",
     "output_type": "stream",
     "text": [
      "Evaluation of roc_auc status: Done\n",
      "Inserting roc_auc results information to table\n",
      "Insertion done.\n",
      "\n",
      "            accuracy balanced_accuracy     roc_auc precision   f1 recall\n",
      "XG Boost  1.0 +/-0.0      0.91 +/-0.01  1.0 +/-0.0       NaN  NaN    NaN\n",
      "\n",
      "Now evaluating: precision\n"
     ]
    },
    {
     "name": "stderr",
     "output_type": "stream",
     "text": [
      "[Parallel(n_jobs=-1)]: Using backend LokyBackend with 16 concurrent workers.\n",
      "[Parallel(n_jobs=-1)]: Done  10 out of  10 | elapsed: 38.1min finished\n"
     ]
    },
    {
     "name": "stdout",
     "output_type": "stream",
     "text": [
      "Evaluation of precision status: Done\n",
      "Inserting precision results information to table\n",
      "Insertion done.\n",
      "\n",
      "            accuracy balanced_accuracy     roc_auc     precision   f1 recall\n",
      "XG Boost  1.0 +/-0.0      0.91 +/-0.01  1.0 +/-0.0  0.98 +/-0.01  NaN    NaN\n",
      "\n",
      "Now evaluating: f1\n"
     ]
    },
    {
     "name": "stderr",
     "output_type": "stream",
     "text": [
      "[Parallel(n_jobs=-1)]: Using backend LokyBackend with 16 concurrent workers.\n",
      "[Parallel(n_jobs=-1)]: Done  10 out of  10 | elapsed: 38.1min finished\n"
     ]
    },
    {
     "name": "stdout",
     "output_type": "stream",
     "text": [
      "Evaluation of f1 status: Done\n",
      "Inserting f1 results information to table\n",
      "Insertion done.\n",
      "\n",
      "            accuracy balanced_accuracy     roc_auc     precision           f1  \\\n",
      "XG Boost  1.0 +/-0.0      0.91 +/-0.01  1.0 +/-0.0  0.98 +/-0.01  0.9 +/-0.01   \n",
      "\n",
      "         recall  \n",
      "XG Boost    NaN  \n",
      "\n",
      "Now evaluating: recall\n"
     ]
    },
    {
     "name": "stderr",
     "output_type": "stream",
     "text": [
      "[Parallel(n_jobs=-1)]: Using backend LokyBackend with 16 concurrent workers.\n",
      "[Parallel(n_jobs=-1)]: Done  10 out of  10 | elapsed: 38.0min finished\n"
     ]
    },
    {
     "name": "stdout",
     "output_type": "stream",
     "text": [
      "Evaluation of recall status: Done\n",
      "Inserting recall results information to table\n",
      "Insertion done.\n",
      "\n",
      "            accuracy balanced_accuracy     roc_auc     precision           f1  \\\n",
      "XG Boost  1.0 +/-0.0      0.91 +/-0.01  1.0 +/-0.0  0.98 +/-0.01  0.9 +/-0.01   \n",
      "\n",
      "                recall  \n",
      "XG Boost  0.83 +/-0.02  \n",
      "\n",
      "Metrics calculation fisinhed.\n",
      "\n",
      "Stratified k-fold Cross-validation results:\n"
     ]
    },
    {
     "data": {
      "text/html": [
       "<div>\n",
       "<style scoped>\n",
       "    .dataframe tbody tr th:only-of-type {\n",
       "        vertical-align: middle;\n",
       "    }\n",
       "\n",
       "    .dataframe tbody tr th {\n",
       "        vertical-align: top;\n",
       "    }\n",
       "\n",
       "    .dataframe thead th {\n",
       "        text-align: right;\n",
       "    }\n",
       "</style>\n",
       "<table border=\"1\" class=\"dataframe\">\n",
       "  <thead>\n",
       "    <tr style=\"text-align: right;\">\n",
       "      <th></th>\n",
       "      <th>accuracy</th>\n",
       "      <th>balanced_accuracy</th>\n",
       "      <th>roc_auc</th>\n",
       "      <th>precision</th>\n",
       "      <th>f1</th>\n",
       "      <th>recall</th>\n",
       "    </tr>\n",
       "  </thead>\n",
       "  <tbody>\n",
       "    <tr>\n",
       "      <th>XG Boost</th>\n",
       "      <td>1.0 +/-0.0</td>\n",
       "      <td>0.91 +/-0.01</td>\n",
       "      <td>1.0 +/-0.0</td>\n",
       "      <td>0.98 +/-0.01</td>\n",
       "      <td>0.9 +/-0.01</td>\n",
       "      <td>0.83 +/-0.02</td>\n",
       "    </tr>\n",
       "  </tbody>\n",
       "</table>\n",
       "</div>"
      ],
      "text/plain": [
       "            accuracy balanced_accuracy     roc_auc     precision           f1  \\\n",
       "XG Boost  1.0 +/-0.0      0.91 +/-0.01  1.0 +/-0.0  0.98 +/-0.01  0.9 +/-0.01   \n",
       "\n",
       "                recall  \n",
       "XG Boost  0.83 +/-0.02  "
      ]
     },
     "execution_count": 25,
     "metadata": {},
     "output_type": "execute_result"
    }
   ],
   "source": [
    "# Cross-validation - XG Boost\n",
    "\n",
    "# Metrics to search\n",
    "list_metrics_to_search = ['accuracy','balanced_accuracy', 'roc_auc', 'precision', 'f1', 'recall']\n",
    "\n",
    "\n",
    "# Creating a empty df\n",
    "df_metrics_cv = pd.DataFrame(columns=list_metrics_to_search) # columns\n",
    "df_metrics_cv = df_metrics_cv.append({'accuracy': np.nan}, ignore_index=True) # filling the first row with NA\n",
    "df_metrics_cv.index = ['XG Boost'] # setting the string 'XG Boost' as df index\n",
    "\n",
    "\n",
    "# Instantiating the classifier\n",
    "model = xgb.XGBClassifier(objective='binary:logistic',\n",
    "                          n_estimators=100,\n",
    "                          max_depth=10,\n",
    "                          tree_method='exact',\n",
    "                          n_jobs=-1,\n",
    "                          random_state=42)\n",
    "\n",
    "# Setting the folds (shuffle=True due to imbalance in dataset)\n",
    "kfold = StratifiedKFold(n_splits=10, random_state=42, shuffle=True)\n",
    "\n",
    "\n",
    "# loop for metrics evaluation within cross-validation\n",
    "for i in list_metrics_to_search:\n",
    "    \n",
    "    print('Now evaluating: {}'.format(i))\n",
    "    \n",
    "    \n",
    "    results_cv = cross_val_score(model, X_train_boruta, y_train, cv=kfold, n_jobs=-1, verbose=1, scoring=i)\n",
    "    \n",
    "    print('Evaluation of {} status: Done'.format(i))\n",
    "    \n",
    "    \n",
    "    print('Inserting {} results information to table'.format(i))\n",
    "    \n",
    "    df_metrics_cv[i] = str(round(results_cv.mean(), 2))+' +/-'+str(round(results_cv.std(), 2))\n",
    "    \n",
    "    print('Insertion done.\\n')\n",
    "    \n",
    "    print('{}\\n'.format(df_metrics_cv))\n",
    "    \n",
    "    \n",
    "print('Metrics calculation fisinhed.\\n')\n",
    "\n",
    "\n",
    "print('Stratified k-fold Cross-validation results:')\n",
    "df_metrics_cv\n"
   ]
  },
  {
   "cell_type": "markdown",
   "id": "3caaf86f",
   "metadata": {
    "heading_collapsed": true,
    "hidden": true
   },
   "source": [
    "##  <font><i>Hiperparameter fine tuning</i></font>"
   ]
  },
  {
   "cell_type": "code",
   "execution_count": null,
   "id": "0d1f3929",
   "metadata": {
    "ExecuteTime": {
     "start_time": "2022-01-30T02:16:55.021Z"
    },
    "hidden": true
   },
   "outputs": [
    {
     "name": "stdout",
     "output_type": "stream",
     "text": [
      "Randomized search..\n",
      "Randomized search time: 0.00044536590576171875\n",
      "Fitting 10 folds for each of 10 candidates, totalling 100 fits\n"
     ]
    }
   ],
   "source": [
    "# Hyperparameter fine tuning for XG Boost\n",
    "\n",
    "\n",
    "# model instance\n",
    "model = xgb.XGBClassifier(objective='binary:logistic',\n",
    "                            n_estimators=100,\n",
    "                            max_depth=10,\n",
    "                            tree_method='exact',\n",
    "                            n_jobs=-1,\n",
    "                            random_state=42)\n",
    "\n",
    "# parameters to search\n",
    "parameters = {'n_estimators':[1500, 1700, 2500, 3000, 3500],\n",
    "              'eta':[0.01, 0.03],\n",
    "              'max_depth':[3, 5, 9],\n",
    "              'subsample':[0.1, 0.5, 0.7],\n",
    "              'colsample_bytree':[0.3, 0.7, 0.9],\n",
    "              'min_child_weight':[3, 8, 15]} # choosing the interval values to evaluate\n",
    "\n",
    "\n",
    "# cross-validation strategy\n",
    "kfold = StratifiedKFold(n_splits=10, random_state=42, shuffle=True)\n",
    "\n",
    "\n",
    "# setting RandomSearchCV instance\n",
    "clf = RandomizedSearchCV(model, parameters, random_state=42, scoring='recall', n_jobs=-1, cv=kfold, verbose=3)\n",
    "\n",
    "print(\"Randomized search..\")\n",
    "search_time_start = time.time()\n",
    "\n",
    "print(\"Randomized search time:\", time.time() - search_time_start)\n",
    "\n",
    "\n",
    "# fitting to data\n",
    "search = clf.fit(X_train_boruta, y_train)\n",
    "\n"
   ]
  },
  {
   "cell_type": "code",
   "execution_count": null,
   "id": "84ea9a64",
   "metadata": {
    "hidden": true
   },
   "outputs": [],
   "source": [
    "search.best_params_"
   ]
  },
  {
   "cell_type": "code",
   "execution_count": null,
   "id": "c0274b86",
   "metadata": {
    "hidden": true
   },
   "outputs": [],
   "source": []
  },
  {
   "cell_type": "code",
   "execution_count": null,
   "id": "029a35c4",
   "metadata": {
    "hidden": true
   },
   "outputs": [],
   "source": []
  },
  {
   "cell_type": "code",
   "execution_count": null,
   "id": "2202423d",
   "metadata": {
    "hidden": true
   },
   "outputs": [],
   "source": [
    "# Precision-Recall curve\n",
    "\n",
    "print('Precision-Recall curve:')\n",
    "metrics.plot_precision_recall_curve(log_reg, X_test_boruta, y_test);\n",
    "\n",
    "\n",
    "# Confusion matrix curve\n",
    "\n",
    "print('Confusion Matrix:')\n",
    "metrics.plot_confusion_matrix(log_reg, X_test_boruta, y_test);"
   ]
  },
  {
   "cell_type": "markdown",
   "id": "303d5231",
   "metadata": {
    "heading_collapsed": true,
    "id": "303d5231"
   },
   "source": [
    "# <font face=\"Arial\" color=\"red\">Racunhos</font>"
   ]
  },
  {
   "cell_type": "code",
   "execution_count": null,
   "id": "dbac0e64",
   "metadata": {
    "hidden": true,
    "id": "dbac0e64"
   },
   "outputs": [],
   "source": [
    "# LEMBRETES GERAIS:\n",
    "\n",
    "# eliminar dados duplicados - OK\n",
    "\n",
    "# fazer teste de hipótese (teste t) na análise bivariada - OK\n",
    "\n",
    "# No tuning de hiperparâmetros melhorar a métrica recall\n",
    "\n",
    "\n",
    "# Checklist geral: ==================================================================\n",
    "\n",
    "\n",
    "# Limpeza dos dados - OK\n",
    "\n",
    "# Substituicao de dados faltantes - OK\n",
    "\n",
    "# Criacao de features para modelar o fenomeno - OK\n",
    "\n",
    "# EDA - OK\n",
    "\n",
    "# Desbalanceamento dos dados\n",
    "\n",
    "# Escala dos dados - OK\n",
    "\n",
    "# Selecao de features - OK\n",
    "\n",
    "# Vies do modelo\n",
    "\n",
    "\n",
    "\n",
    "# Limitações do projeto: =============================================================\n",
    "\n",
    "\n",
    "# Dataset de apenas 1 mês (comportamento de fraude de diferentes meses não capturado)\n",
    "\n"
   ]
  },
  {
   "cell_type": "code",
   "execution_count": null,
   "id": "e5f6909c",
   "metadata": {
    "hidden": true
   },
   "outputs": [],
   "source": [
    "# Sugestões para Ciclo 2:\n",
    "\n",
    "\n",
    "# Verificar se dá pra incluir informações do desbalanceamento de classes no Boruta\n",
    "\n",
    "# Incluir as features importantes no EDA mas que foram descartados pelo Boruta"
   ]
  },
  {
   "cell_type": "code",
   "execution_count": null,
   "id": "b-uwhYY517qb",
   "metadata": {
    "hidden": true,
    "id": "b-uwhYY517qb"
   },
   "outputs": [],
   "source": [
    "# References:\n",
    "\n",
    "# Frequency encoding: https://www.kaggle.com/bhavikapanara/frequency-encoding\n",
    "\n",
    "# Cross-validation (XG Boost): https://machinelearningmastery.com/evaluate-gradient-boosting-models-xgboost-python/\n",
    "\n",
    "# Random search (XG Boost): https://gist.github.com/wrwr/3f6b66bf4ee01bf48be965f60d14454d\n"
   ]
  }
 ],
 "metadata": {
  "colab": {
   "collapsed_sections": [
    "9d8f37a6",
    "556e228c",
    "82ab2d45",
    "-5EtM1EtyXR8",
    "L02Li3OexEiw",
    "Ic7FuQ20RgZZ",
    "veXoARn8xmCY",
    "3FAEvmG4xSSe",
    "CSBpn-P1i3rb",
    "oxrKQ07qX7AQ",
    "5cvHZ63J9WPM",
    "I3dWO4gQ9WX7",
    "ljYGgTRo9Wgz",
    "bpNcq4gs9W3Y",
    "NPrrd5f5YLy9",
    "303d5231"
   ],
   "name": "notebook_main.ipynb",
   "provenance": [],
   "toc_visible": true
  },
  "kernelspec": {
   "display_name": "Python 3 (ipykernel)",
   "language": "python",
   "name": "python3"
  },
  "language_info": {
   "codemirror_mode": {
    "name": "ipython",
    "version": 3
   },
   "file_extension": ".py",
   "mimetype": "text/x-python",
   "name": "python",
   "nbconvert_exporter": "python",
   "pygments_lexer": "ipython3",
   "version": "3.8.0"
  },
  "varInspector": {
   "cols": {
    "lenName": 16,
    "lenType": 16,
    "lenVar": 40
   },
   "kernels_config": {
    "python": {
     "delete_cmd_postfix": "",
     "delete_cmd_prefix": "del ",
     "library": "var_list.py",
     "varRefreshCmd": "print(var_dic_list())"
    },
    "r": {
     "delete_cmd_postfix": ") ",
     "delete_cmd_prefix": "rm(",
     "library": "var_list.r",
     "varRefreshCmd": "cat(var_dic_list()) "
    }
   },
   "types_to_exclude": [
    "module",
    "function",
    "builtin_function_or_method",
    "instance",
    "_Feature"
   ],
   "window_display": false
  }
 },
 "nbformat": 4,
 "nbformat_minor": 5
}
