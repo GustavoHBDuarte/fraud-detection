{
  "cells": [
    {
      "cell_type": "markdown",
      "id": "9d8f37a6",
      "metadata": {
        "heading_collapsed": true,
        "id": "9d8f37a6"
      },
      "source": [
        "# <font face=\"Arial\" color=\"green\">General description</font>"
      ]
    },
    {
      "cell_type": "markdown",
      "id": "ef000509",
      "metadata": {
        "ExecuteTime": {
          "end_time": "2022-01-19T02:27:22.844797Z",
          "start_time": "2022-01-19T02:27:07.255110Z"
        },
        "hidden": true,
        "id": "ef000509"
      },
      "source": [
        "<h1 class=\"dataset-header-v2__title\">Synthetic Financial Datasets For Fraud Detection</h1>\n",
        "\n",
        "<div class=\"markdown-converter__text--rendered\"><h1>Context</h1>\n",
        "<p>There is a lack of public available datasets on financial services and specially in the emerging mobile money transactions domain. Financial datasets are important to many researchers and in particular to us performing research in the domain of fraud detection. Part of the problem is the intrinsically private nature of financial transactions, that leads to no publicly available datasets.</p>\n",
        "<p>We present a synthetic dataset generated using the simulator called PaySim as an approach to such a problem. PaySim uses aggregated data from the private dataset to generate a synthetic dataset that resembles the normal operation of transactions and injects malicious behaviour to later evaluate the performance of fraud detection methods.</p>\n",
        "<h1>Content</h1>\n",
        "<p>PaySim simulates mobile money transactions based on a sample of real transactions extracted from one month of financial logs from a mobile money service implemented in an African country. The original logs were provided by a multinational company, who is  the provider of the mobile financial service which is currently running in more than 14 countries all around the world.</p>\n",
        "<p>This synthetic dataset is scaled down 1/4 of the original dataset and it is created just for Kaggle.</p>\n",
        "<h1>Headers</h1>\n",
        "<p>This is a sample of 1 row with headers explanation:</p>\n",
        "<p>1,PAYMENT,1060.31,C429214117,1089.0,28.69,M1591654462,0.0,0.0,0,0</p>\n",
        "<p>step - maps a unit of time in the real world. In this case 1 step is 1 hour of time. Total steps 744 (30 days simulation).</p>\n",
        "<p>type - CASH-IN, CASH-OUT, DEBIT, PAYMENT  and TRANSFER.</p>\n",
        "<p>amount -<br>\n",
        " amount of the transaction in local currency.</p>\n",
        "<p>nameOrig - customer who started the transaction</p>\n",
        "<p>oldbalanceOrg - initial balance before the transaction</p>\n",
        "<p>newbalanceOrig - new balance after the transaction</p>\n",
        "<p>nameDest - customer who is the recipient of the transaction</p>\n",
        "<p>oldbalanceDest - initial balance recipient before the transaction. Note that there is not information for customers that start with M (Merchants).</p>\n",
        "<p>newbalanceDest - new balance recipient after the transaction. Note that there is not information for customers that start with M (Merchants).</p>\n",
        "<p>isFraud - This is the transactions made by the fraudulent agents inside the simulation. In this specific dataset the fraudulent behavior of the agents aims to profit by taking control or customers accounts and try to empty the funds by transferring to another account and then cashing out of the system.</p>\n",
        "<p>isFlaggedFraud - The business model aims to control massive transfers from one account to another and flags illegal attempts. An illegal attempt in this dataset is an attempt to transfer more than 200.000 in a single transaction.</p>\n",
        "<h1>Past Research</h1>\n",
        "<p>There are 5 similar files that contain the run of 5 different scenarios. These files are better explained at my PhD thesis chapter 7 (PhD Thesis Available here <a rel=\"noreferrer nofollow\" href=\"http://urn.kb.se/resolve?urn=urn:nbn:se:bth-12932)\">http://urn.kb.se/resolve?urn=urn:nbn:se:bth-12932)</a>.</p>\n",
        "<p>We ran PaySim several times using random seeds for 744 steps, representing each hour of one month of real time, which matches the original logs. Each run took around 45 minutes on an i7 intel processor with 16GB of RAM. The final result of a run contains approximately 24 million of financial records divided into the 5 types of categories: CASH-IN, CASH-OUT, DEBIT, PAYMENT  and TRANSFER.</p>\n",
        "<h1>Acknowledgements</h1>\n",
        "<p>This work is part of the research project ”Scalable resource-efficient systems for big data analytics” funded<br>\n",
        "by the Knowledge Foundation (grant: 20140032) in Sweden.</p>\n",
        "<p>Please refer to this dataset using the following citations: </p>\n",
        "<p>PaySim first paper of the simulator:</p>\n",
        "<p>E. A. Lopez-Rojas , A. Elmir, and S. Axelsson. \"PaySim: A financial mobile money simulator for fraud detection\". In: The 28th European Modeling and Simulation Symposium-EMSS, Larnaca, Cyprus. 2016</p></div>\n",
        "\n",
        "\n",
        "https://www.kaggle.com/ealaxi/paysim1"
      ]
    },
    {
      "cell_type": "markdown",
      "id": "8d62bb02",
      "metadata": {
        "heading_collapsed": true,
        "id": "8d62bb02"
      },
      "source": [
        "# <font face=\"Arial\" color=\"green\">Library Imports</font>"
      ]
    },
    {
      "cell_type": "code",
      "execution_count": 4,
      "id": "496f9858",
      "metadata": {
        "ExecuteTime": {
          "end_time": "2022-01-19T22:25:33.470294Z",
          "start_time": "2022-01-19T22:25:23.252391Z"
        },
        "hidden": true,
        "id": "496f9858"
      },
      "outputs": [],
      "source": [
        "import warnings\n",
        "import pandas as pd\n",
        "import numpy as np\n",
        "import matplotlib.pyplot as plt\n",
        "import seaborn as sns\n",
        "\n",
        "from math import ceil\n",
        "from math import floor\n",
        "\n",
        "warnings.filterwarnings(\"ignore\")"
      ]
    },
    {
      "cell_type": "markdown",
      "id": "556e228c",
      "metadata": {
        "heading_collapsed": true,
        "id": "556e228c"
      },
      "source": [
        "# <font face=\"Arial\" color=\"green\">Helper functions</font>"
      ]
    },
    {
      "cell_type": "code",
      "execution_count": 5,
      "id": "ac5d74a4",
      "metadata": {
        "ExecuteTime": {
          "end_time": "2022-01-19T22:25:40.665488Z",
          "start_time": "2022-01-19T22:25:40.656762Z"
        },
        "hidden": true,
        "id": "ac5d74a4"
      },
      "outputs": [],
      "source": [
        "def jupyter_settings():\n",
        "    \n",
        "    pd.options.display.max_columns = None   \n",
        "    \n",
        "\n",
        "\n",
        "warnings.filterwarnings(\"ignore\")\n",
        "jupyter_settings()"
      ]
    },
    {
      "cell_type": "markdown",
      "id": "a3d8bcaf",
      "metadata": {
        "heading_collapsed": true,
        "id": "a3d8bcaf"
      },
      "source": [
        "# 1 - Data import and basic inspection "
      ]
    },
    {
      "cell_type": "markdown",
      "id": "973356d4",
      "metadata": {
        "heading_collapsed": true,
        "hidden": true,
        "id": "973356d4"
      },
      "source": [
        "## 1.1 data loading and checking"
      ]
    },
    {
      "cell_type": "code",
      "source": [
        "from google.colab import drive \n",
        "\n",
        "link = 'https://drive.google.com/file/d/1CE6zTV3LBRHo_TSaw8SQ47owkcaPPfhw/view'\n",
        "  \n",
        "drive.mount('/content/gdrive')"
      ],
      "metadata": {
        "colab": {
          "base_uri": "https://localhost:8080/"
        },
        "id": "mY_Qcz1B7fDa",
        "outputId": "37fe62c8-94fe-4259-d0da-31d715e318c2"
      },
      "id": "mY_Qcz1B7fDa",
      "execution_count": 6,
      "outputs": [
        {
          "output_type": "stream",
          "name": "stdout",
          "text": [
            "Mounted at /content/gdrive\n"
          ]
        }
      ]
    },
    {
      "cell_type": "code",
      "execution_count": 7,
      "id": "5bc0b7c0",
      "metadata": {
        "ExecuteTime": {
          "end_time": "2022-01-19T22:26:06.636586Z",
          "start_time": "2022-01-19T22:25:44.999318Z"
        },
        "hidden": true,
        "colab": {
          "base_uri": "https://localhost:8080/",
          "height": 0
        },
        "id": "5bc0b7c0",
        "outputId": "21323dc9-359c-4c07-be1c-b3052b94ac26"
      },
      "outputs": [
        {
          "output_type": "execute_result",
          "data": {
            "text/html": [
              "\n",
              "  <div id=\"df-754385cd-ca1d-48e7-997b-998e5ef5de43\">\n",
              "    <div class=\"colab-df-container\">\n",
              "      <div>\n",
              "<style scoped>\n",
              "    .dataframe tbody tr th:only-of-type {\n",
              "        vertical-align: middle;\n",
              "    }\n",
              "\n",
              "    .dataframe tbody tr th {\n",
              "        vertical-align: top;\n",
              "    }\n",
              "\n",
              "    .dataframe thead th {\n",
              "        text-align: right;\n",
              "    }\n",
              "</style>\n",
              "<table border=\"1\" class=\"dataframe\">\n",
              "  <thead>\n",
              "    <tr style=\"text-align: right;\">\n",
              "      <th></th>\n",
              "      <th>step</th>\n",
              "      <th>type</th>\n",
              "      <th>amount</th>\n",
              "      <th>nameOrig</th>\n",
              "      <th>oldbalanceOrg</th>\n",
              "      <th>newbalanceOrig</th>\n",
              "      <th>nameDest</th>\n",
              "      <th>oldbalanceDest</th>\n",
              "      <th>newbalanceDest</th>\n",
              "      <th>isFraud</th>\n",
              "      <th>isFlaggedFraud</th>\n",
              "    </tr>\n",
              "  </thead>\n",
              "  <tbody>\n",
              "    <tr>\n",
              "      <th>0</th>\n",
              "      <td>1</td>\n",
              "      <td>PAYMENT</td>\n",
              "      <td>9839.64</td>\n",
              "      <td>C1231006815</td>\n",
              "      <td>170136.0</td>\n",
              "      <td>160296.36</td>\n",
              "      <td>M1979787155</td>\n",
              "      <td>0.0</td>\n",
              "      <td>0.0</td>\n",
              "      <td>0</td>\n",
              "      <td>0</td>\n",
              "    </tr>\n",
              "    <tr>\n",
              "      <th>1</th>\n",
              "      <td>1</td>\n",
              "      <td>PAYMENT</td>\n",
              "      <td>1864.28</td>\n",
              "      <td>C1666544295</td>\n",
              "      <td>21249.0</td>\n",
              "      <td>19384.72</td>\n",
              "      <td>M2044282225</td>\n",
              "      <td>0.0</td>\n",
              "      <td>0.0</td>\n",
              "      <td>0</td>\n",
              "      <td>0</td>\n",
              "    </tr>\n",
              "    <tr>\n",
              "      <th>2</th>\n",
              "      <td>1</td>\n",
              "      <td>TRANSFER</td>\n",
              "      <td>181.00</td>\n",
              "      <td>C1305486145</td>\n",
              "      <td>181.0</td>\n",
              "      <td>0.00</td>\n",
              "      <td>C553264065</td>\n",
              "      <td>0.0</td>\n",
              "      <td>0.0</td>\n",
              "      <td>1</td>\n",
              "      <td>0</td>\n",
              "    </tr>\n",
              "    <tr>\n",
              "      <th>3</th>\n",
              "      <td>1</td>\n",
              "      <td>CASH_OUT</td>\n",
              "      <td>181.00</td>\n",
              "      <td>C840083671</td>\n",
              "      <td>181.0</td>\n",
              "      <td>0.00</td>\n",
              "      <td>C38997010</td>\n",
              "      <td>21182.0</td>\n",
              "      <td>0.0</td>\n",
              "      <td>1</td>\n",
              "      <td>0</td>\n",
              "    </tr>\n",
              "    <tr>\n",
              "      <th>4</th>\n",
              "      <td>1</td>\n",
              "      <td>PAYMENT</td>\n",
              "      <td>11668.14</td>\n",
              "      <td>C2048537720</td>\n",
              "      <td>41554.0</td>\n",
              "      <td>29885.86</td>\n",
              "      <td>M1230701703</td>\n",
              "      <td>0.0</td>\n",
              "      <td>0.0</td>\n",
              "      <td>0</td>\n",
              "      <td>0</td>\n",
              "    </tr>\n",
              "  </tbody>\n",
              "</table>\n",
              "</div>\n",
              "      <button class=\"colab-df-convert\" onclick=\"convertToInteractive('df-754385cd-ca1d-48e7-997b-998e5ef5de43')\"\n",
              "              title=\"Convert this dataframe to an interactive table.\"\n",
              "              style=\"display:none;\">\n",
              "        \n",
              "  <svg xmlns=\"http://www.w3.org/2000/svg\" height=\"24px\"viewBox=\"0 0 24 24\"\n",
              "       width=\"24px\">\n",
              "    <path d=\"M0 0h24v24H0V0z\" fill=\"none\"/>\n",
              "    <path d=\"M18.56 5.44l.94 2.06.94-2.06 2.06-.94-2.06-.94-.94-2.06-.94 2.06-2.06.94zm-11 1L8.5 8.5l.94-2.06 2.06-.94-2.06-.94L8.5 2.5l-.94 2.06-2.06.94zm10 10l.94 2.06.94-2.06 2.06-.94-2.06-.94-.94-2.06-.94 2.06-2.06.94z\"/><path d=\"M17.41 7.96l-1.37-1.37c-.4-.4-.92-.59-1.43-.59-.52 0-1.04.2-1.43.59L10.3 9.45l-7.72 7.72c-.78.78-.78 2.05 0 2.83L4 21.41c.39.39.9.59 1.41.59.51 0 1.02-.2 1.41-.59l7.78-7.78 2.81-2.81c.8-.78.8-2.07 0-2.86zM5.41 20L4 18.59l7.72-7.72 1.47 1.35L5.41 20z\"/>\n",
              "  </svg>\n",
              "      </button>\n",
              "      \n",
              "  <style>\n",
              "    .colab-df-container {\n",
              "      display:flex;\n",
              "      flex-wrap:wrap;\n",
              "      gap: 12px;\n",
              "    }\n",
              "\n",
              "    .colab-df-convert {\n",
              "      background-color: #E8F0FE;\n",
              "      border: none;\n",
              "      border-radius: 50%;\n",
              "      cursor: pointer;\n",
              "      display: none;\n",
              "      fill: #1967D2;\n",
              "      height: 32px;\n",
              "      padding: 0 0 0 0;\n",
              "      width: 32px;\n",
              "    }\n",
              "\n",
              "    .colab-df-convert:hover {\n",
              "      background-color: #E2EBFA;\n",
              "      box-shadow: 0px 1px 2px rgba(60, 64, 67, 0.3), 0px 1px 3px 1px rgba(60, 64, 67, 0.15);\n",
              "      fill: #174EA6;\n",
              "    }\n",
              "\n",
              "    [theme=dark] .colab-df-convert {\n",
              "      background-color: #3B4455;\n",
              "      fill: #D2E3FC;\n",
              "    }\n",
              "\n",
              "    [theme=dark] .colab-df-convert:hover {\n",
              "      background-color: #434B5C;\n",
              "      box-shadow: 0px 1px 3px 1px rgba(0, 0, 0, 0.15);\n",
              "      filter: drop-shadow(0px 1px 2px rgba(0, 0, 0, 0.3));\n",
              "      fill: #FFFFFF;\n",
              "    }\n",
              "  </style>\n",
              "\n",
              "      <script>\n",
              "        const buttonEl =\n",
              "          document.querySelector('#df-754385cd-ca1d-48e7-997b-998e5ef5de43 button.colab-df-convert');\n",
              "        buttonEl.style.display =\n",
              "          google.colab.kernel.accessAllowed ? 'block' : 'none';\n",
              "\n",
              "        async function convertToInteractive(key) {\n",
              "          const element = document.querySelector('#df-754385cd-ca1d-48e7-997b-998e5ef5de43');\n",
              "          const dataTable =\n",
              "            await google.colab.kernel.invokeFunction('convertToInteractive',\n",
              "                                                     [key], {});\n",
              "          if (!dataTable) return;\n",
              "\n",
              "          const docLinkHtml = 'Like what you see? Visit the ' +\n",
              "            '<a target=\"_blank\" href=https://colab.research.google.com/notebooks/data_table.ipynb>data table notebook</a>'\n",
              "            + ' to learn more about interactive tables.';\n",
              "          element.innerHTML = '';\n",
              "          dataTable['output_type'] = 'display_data';\n",
              "          await google.colab.output.renderOutput(dataTable, element);\n",
              "          const docLink = document.createElement('div');\n",
              "          docLink.innerHTML = docLinkHtml;\n",
              "          element.appendChild(docLink);\n",
              "        }\n",
              "      </script>\n",
              "    </div>\n",
              "  </div>\n",
              "  "
            ],
            "text/plain": [
              "   step      type    amount     nameOrig  oldbalanceOrg  newbalanceOrig  \\\n",
              "0     1   PAYMENT   9839.64  C1231006815       170136.0       160296.36   \n",
              "1     1   PAYMENT   1864.28  C1666544295        21249.0        19384.72   \n",
              "2     1  TRANSFER    181.00  C1305486145          181.0            0.00   \n",
              "3     1  CASH_OUT    181.00   C840083671          181.0            0.00   \n",
              "4     1   PAYMENT  11668.14  C2048537720        41554.0        29885.86   \n",
              "\n",
              "      nameDest  oldbalanceDest  newbalanceDest  isFraud  isFlaggedFraud  \n",
              "0  M1979787155             0.0             0.0        0               0  \n",
              "1  M2044282225             0.0             0.0        0               0  \n",
              "2   C553264065             0.0             0.0        1               0  \n",
              "3    C38997010         21182.0             0.0        1               0  \n",
              "4  M1230701703             0.0             0.0        0               0  "
            ]
          },
          "metadata": {},
          "execution_count": 7
        }
      ],
      "source": [
        "# Data load\n",
        "\n",
        "df = pd.read_csv('/content/gdrive/Othercomputers/Meu modelo Laptop/Doutorado - v2020/Pós Ciência de Dados/TCC/TCC Fraud/PS_20174392719_1491204439457_log.csv')\n",
        "\n",
        "df.head()"
      ]
    },
    {
      "cell_type": "code",
      "execution_count": 8,
      "id": "e04b181b",
      "metadata": {
        "ExecuteTime": {
          "end_time": "2022-01-19T22:26:12.335571Z",
          "start_time": "2022-01-19T22:26:12.326561Z"
        },
        "hidden": true,
        "colab": {
          "base_uri": "https://localhost:8080/"
        },
        "id": "e04b181b",
        "outputId": "baa9d5ce-02a1-4608-f341-8d57a8155681"
      },
      "outputs": [
        {
          "output_type": "stream",
          "name": "stdout",
          "text": [
            "\n",
            "Data dimensions:\n",
            "\n",
            "Number of rows: 6362620\n",
            "Number of columns: 11\n"
          ]
        }
      ],
      "source": [
        "# Data dimensions\n",
        "\n",
        "print('\\nData dimensions:\\n')\n",
        "print('Number of rows: {}'.format(df.shape[0]))\n",
        "print('Number of columns: {}'.format(df.shape[1]))"
      ]
    },
    {
      "cell_type": "code",
      "execution_count": 9,
      "id": "39f122f4",
      "metadata": {
        "ExecuteTime": {
          "end_time": "2022-01-19T22:26:17.898442Z",
          "start_time": "2022-01-19T22:26:17.878708Z"
        },
        "hidden": true,
        "colab": {
          "base_uri": "https://localhost:8080/"
        },
        "id": "39f122f4",
        "outputId": "00f3f62f-3f87-483a-e996-02c3306572ad"
      },
      "outputs": [
        {
          "output_type": "execute_result",
          "data": {
            "text/plain": [
              "step                int64\n",
              "type               object\n",
              "amount            float64\n",
              "nameOrig           object\n",
              "oldbalanceOrg     float64\n",
              "newbalanceOrig    float64\n",
              "nameDest           object\n",
              "oldbalanceDest    float64\n",
              "newbalanceDest    float64\n",
              "isFraud             int64\n",
              "isFlaggedFraud      int64\n",
              "dtype: object"
            ]
          },
          "metadata": {},
          "execution_count": 9
        }
      ],
      "source": [
        "# Checking data types\n",
        "\n",
        "df.dtypes"
      ]
    },
    {
      "cell_type": "code",
      "source": [
        "# Checking data info\n",
        "\n",
        "df.info()"
      ],
      "metadata": {
        "colab": {
          "base_uri": "https://localhost:8080/"
        },
        "id": "vLDcWDYBHSmh",
        "outputId": "1c0945fc-9908-4a80-f54c-9bc3d9c4ab5a"
      },
      "id": "vLDcWDYBHSmh",
      "execution_count": 10,
      "outputs": [
        {
          "output_type": "stream",
          "name": "stdout",
          "text": [
            "<class 'pandas.core.frame.DataFrame'>\n",
            "RangeIndex: 6362620 entries, 0 to 6362619\n",
            "Data columns (total 11 columns):\n",
            " #   Column          Dtype  \n",
            "---  ------          -----  \n",
            " 0   step            int64  \n",
            " 1   type            object \n",
            " 2   amount          float64\n",
            " 3   nameOrig        object \n",
            " 4   oldbalanceOrg   float64\n",
            " 5   newbalanceOrig  float64\n",
            " 6   nameDest        object \n",
            " 7   oldbalanceDest  float64\n",
            " 8   newbalanceDest  float64\n",
            " 9   isFraud         int64  \n",
            " 10  isFlaggedFraud  int64  \n",
            "dtypes: float64(5), int64(3), object(3)\n",
            "memory usage: 534.0+ MB\n"
          ]
        }
      ]
    },
    {
      "cell_type": "code",
      "execution_count": 11,
      "id": "d8fbcd8e",
      "metadata": {
        "ExecuteTime": {
          "end_time": "2022-01-19T22:26:24.081853Z",
          "start_time": "2022-01-19T22:26:22.478717Z"
        },
        "hidden": true,
        "colab": {
          "base_uri": "https://localhost:8080/"
        },
        "id": "d8fbcd8e",
        "outputId": "ee6ed604-4a0e-49d4-e344-5841332266aa"
      },
      "outputs": [
        {
          "output_type": "execute_result",
          "data": {
            "text/plain": [
              "step              0\n",
              "type              0\n",
              "amount            0\n",
              "nameOrig          0\n",
              "oldbalanceOrg     0\n",
              "newbalanceOrig    0\n",
              "nameDest          0\n",
              "oldbalanceDest    0\n",
              "newbalanceDest    0\n",
              "isFraud           0\n",
              "isFlaggedFraud    0\n",
              "dtype: int64"
            ]
          },
          "metadata": {},
          "execution_count": 11
        }
      ],
      "source": [
        "# Checking for NA's\n",
        "\n",
        "df.isna().sum()"
      ]
    },
    {
      "cell_type": "code",
      "source": [
        "# Checking for duplicate rows\n",
        "\n",
        "df.duplicated().sum()"
      ],
      "metadata": {
        "colab": {
          "base_uri": "https://localhost:8080/"
        },
        "id": "CovzDAbEAoFm",
        "outputId": "afb35e60-39c3-4189-aa33-954aded76d84"
      },
      "id": "CovzDAbEAoFm",
      "execution_count": 12,
      "outputs": [
        {
          "output_type": "execute_result",
          "data": {
            "text/plain": [
              "0"
            ]
          },
          "metadata": {},
          "execution_count": 12
        }
      ]
    },
    {
      "cell_type": "code",
      "source": [
        "df[df.duplicated()]"
      ],
      "metadata": {
        "colab": {
          "base_uri": "https://localhost:8080/",
          "height": 0
        },
        "id": "4ypnmzZfBZVf",
        "outputId": "e43925b0-5d16-46c1-f925-82e1612db58a"
      },
      "id": "4ypnmzZfBZVf",
      "execution_count": 13,
      "outputs": [
        {
          "output_type": "execute_result",
          "data": {
            "text/html": [
              "\n",
              "  <div id=\"df-ecaa8190-b2bd-4e2f-a668-da6eb3ef71c9\">\n",
              "    <div class=\"colab-df-container\">\n",
              "      <div>\n",
              "<style scoped>\n",
              "    .dataframe tbody tr th:only-of-type {\n",
              "        vertical-align: middle;\n",
              "    }\n",
              "\n",
              "    .dataframe tbody tr th {\n",
              "        vertical-align: top;\n",
              "    }\n",
              "\n",
              "    .dataframe thead th {\n",
              "        text-align: right;\n",
              "    }\n",
              "</style>\n",
              "<table border=\"1\" class=\"dataframe\">\n",
              "  <thead>\n",
              "    <tr style=\"text-align: right;\">\n",
              "      <th></th>\n",
              "      <th>step</th>\n",
              "      <th>type</th>\n",
              "      <th>amount</th>\n",
              "      <th>nameOrig</th>\n",
              "      <th>oldbalanceOrg</th>\n",
              "      <th>newbalanceOrig</th>\n",
              "      <th>nameDest</th>\n",
              "      <th>oldbalanceDest</th>\n",
              "      <th>newbalanceDest</th>\n",
              "      <th>isFraud</th>\n",
              "      <th>isFlaggedFraud</th>\n",
              "    </tr>\n",
              "  </thead>\n",
              "  <tbody>\n",
              "  </tbody>\n",
              "</table>\n",
              "</div>\n",
              "      <button class=\"colab-df-convert\" onclick=\"convertToInteractive('df-ecaa8190-b2bd-4e2f-a668-da6eb3ef71c9')\"\n",
              "              title=\"Convert this dataframe to an interactive table.\"\n",
              "              style=\"display:none;\">\n",
              "        \n",
              "  <svg xmlns=\"http://www.w3.org/2000/svg\" height=\"24px\"viewBox=\"0 0 24 24\"\n",
              "       width=\"24px\">\n",
              "    <path d=\"M0 0h24v24H0V0z\" fill=\"none\"/>\n",
              "    <path d=\"M18.56 5.44l.94 2.06.94-2.06 2.06-.94-2.06-.94-.94-2.06-.94 2.06-2.06.94zm-11 1L8.5 8.5l.94-2.06 2.06-.94-2.06-.94L8.5 2.5l-.94 2.06-2.06.94zm10 10l.94 2.06.94-2.06 2.06-.94-2.06-.94-.94-2.06-.94 2.06-2.06.94z\"/><path d=\"M17.41 7.96l-1.37-1.37c-.4-.4-.92-.59-1.43-.59-.52 0-1.04.2-1.43.59L10.3 9.45l-7.72 7.72c-.78.78-.78 2.05 0 2.83L4 21.41c.39.39.9.59 1.41.59.51 0 1.02-.2 1.41-.59l7.78-7.78 2.81-2.81c.8-.78.8-2.07 0-2.86zM5.41 20L4 18.59l7.72-7.72 1.47 1.35L5.41 20z\"/>\n",
              "  </svg>\n",
              "      </button>\n",
              "      \n",
              "  <style>\n",
              "    .colab-df-container {\n",
              "      display:flex;\n",
              "      flex-wrap:wrap;\n",
              "      gap: 12px;\n",
              "    }\n",
              "\n",
              "    .colab-df-convert {\n",
              "      background-color: #E8F0FE;\n",
              "      border: none;\n",
              "      border-radius: 50%;\n",
              "      cursor: pointer;\n",
              "      display: none;\n",
              "      fill: #1967D2;\n",
              "      height: 32px;\n",
              "      padding: 0 0 0 0;\n",
              "      width: 32px;\n",
              "    }\n",
              "\n",
              "    .colab-df-convert:hover {\n",
              "      background-color: #E2EBFA;\n",
              "      box-shadow: 0px 1px 2px rgba(60, 64, 67, 0.3), 0px 1px 3px 1px rgba(60, 64, 67, 0.15);\n",
              "      fill: #174EA6;\n",
              "    }\n",
              "\n",
              "    [theme=dark] .colab-df-convert {\n",
              "      background-color: #3B4455;\n",
              "      fill: #D2E3FC;\n",
              "    }\n",
              "\n",
              "    [theme=dark] .colab-df-convert:hover {\n",
              "      background-color: #434B5C;\n",
              "      box-shadow: 0px 1px 3px 1px rgba(0, 0, 0, 0.15);\n",
              "      filter: drop-shadow(0px 1px 2px rgba(0, 0, 0, 0.3));\n",
              "      fill: #FFFFFF;\n",
              "    }\n",
              "  </style>\n",
              "\n",
              "      <script>\n",
              "        const buttonEl =\n",
              "          document.querySelector('#df-ecaa8190-b2bd-4e2f-a668-da6eb3ef71c9 button.colab-df-convert');\n",
              "        buttonEl.style.display =\n",
              "          google.colab.kernel.accessAllowed ? 'block' : 'none';\n",
              "\n",
              "        async function convertToInteractive(key) {\n",
              "          const element = document.querySelector('#df-ecaa8190-b2bd-4e2f-a668-da6eb3ef71c9');\n",
              "          const dataTable =\n",
              "            await google.colab.kernel.invokeFunction('convertToInteractive',\n",
              "                                                     [key], {});\n",
              "          if (!dataTable) return;\n",
              "\n",
              "          const docLinkHtml = 'Like what you see? Visit the ' +\n",
              "            '<a target=\"_blank\" href=https://colab.research.google.com/notebooks/data_table.ipynb>data table notebook</a>'\n",
              "            + ' to learn more about interactive tables.';\n",
              "          element.innerHTML = '';\n",
              "          dataTable['output_type'] = 'display_data';\n",
              "          await google.colab.output.renderOutput(dataTable, element);\n",
              "          const docLink = document.createElement('div');\n",
              "          docLink.innerHTML = docLinkHtml;\n",
              "          element.appendChild(docLink);\n",
              "        }\n",
              "      </script>\n",
              "    </div>\n",
              "  </div>\n",
              "  "
            ],
            "text/plain": [
              "Empty DataFrame\n",
              "Columns: [step, type, amount, nameOrig, oldbalanceOrg, newbalanceOrig, nameDest, oldbalanceDest, newbalanceDest, isFraud, isFlaggedFraud]\n",
              "Index: []"
            ]
          },
          "metadata": {},
          "execution_count": 13
        }
      ]
    },
    {
      "cell_type": "code",
      "execution_count": 14,
      "id": "83623264",
      "metadata": {
        "ExecuteTime": {
          "end_time": "2022-01-19T22:26:29.390595Z",
          "start_time": "2022-01-19T22:26:28.524313Z"
        },
        "hidden": true,
        "colab": {
          "base_uri": "https://localhost:8080/"
        },
        "id": "83623264",
        "outputId": "f2c21217-2760-45e1-ec37-24054f8793c6"
      },
      "outputs": [
        {
          "output_type": "execute_result",
          "data": {
            "text/plain": [
              "0    6354407\n",
              "1       8213\n",
              "Name: isFraud, dtype: int64"
            ]
          },
          "metadata": {},
          "execution_count": 14
        }
      ],
      "source": [
        "# Response variable\n",
        "\n",
        "df['isFraud'].value_counts()"
      ]
    },
    {
      "cell_type": "code",
      "execution_count": 15,
      "id": "9f61aa09",
      "metadata": {
        "ExecuteTime": {
          "end_time": "2022-01-19T22:26:33.391582Z",
          "start_time": "2022-01-19T22:26:33.155877Z"
        },
        "hidden": true,
        "colab": {
          "base_uri": "https://localhost:8080/"
        },
        "id": "9f61aa09",
        "outputId": "328b64ab-f938-4306-f944-67dbb528d760"
      },
      "outputs": [
        {
          "output_type": "stream",
          "name": "stdout",
          "text": [
            "Percentage of Non-Fraud transactions: 0.9987091795518198\n",
            "Percentage of Non-Fraud transactions: 0.001290820448180152\n"
          ]
        }
      ],
      "source": [
        "# Response variable - Percentage\n",
        "\n",
        "print('Percentage of Non-Fraud transactions: {}'.format(df['isFraud'].value_counts()[0]/df.shape[0]))\n",
        "print('Percentage of Non-Fraud transactions: {}'.format(df['isFraud'].value_counts()[1]/df.shape[0]))"
      ]
    },
    {
      "cell_type": "markdown",
      "id": "32500af3",
      "metadata": {
        "heading_collapsed": true,
        "hidden": true,
        "id": "32500af3"
      },
      "source": [
        "## 1.2 descriptive statistics"
      ]
    },
    {
      "cell_type": "markdown",
      "metadata": {
        "heading_collapsed": true,
        "hidden": true,
        "id": "Ec58SOonsROB"
      },
      "source": [
        "### 1.2.1 descriptive statistics"
      ],
      "id": "Ec58SOonsROB"
    },
    {
      "cell_type": "code",
      "execution_count": 16,
      "id": "f8b92db5",
      "metadata": {
        "hidden": true,
        "id": "f8b92db5"
      },
      "outputs": [],
      "source": [
        "# Numerical and categorical attributes\n",
        "\n",
        "num_attrib = df.select_dtypes(include=['int64', 'float64']) # numerical attributes\n",
        "\n",
        "cat_attrib = df.select_dtypes(exclude=['int64', 'float64']) # categorical attributes"
      ]
    },
    {
      "cell_type": "code",
      "source": [
        "# Descriptive statistics\n",
        "\n",
        "pd.DataFrame(data=[num_attrib.apply(np.min),\n",
        "          num_attrib.apply(np.max),\n",
        "          num_attrib.apply(lambda x: np.max(x) - np.min(x)),\n",
        "          num_attrib.apply(np.mean),\n",
        "          num_attrib.apply(np.median),\n",
        "          num_attrib.apply(np.std),\n",
        "          num_attrib.apply(lambda x: x.skew()),\n",
        "          num_attrib.apply(lambda x: x.kurtosis())],\n",
        "             \n",
        "             index=np.array(['min', 'max', 'range', 'mean', 'median', 'std', 'skew', 'kurtosis'])).transpose()"
      ],
      "metadata": {
        "colab": {
          "base_uri": "https://localhost:8080/",
          "height": 0
        },
        "id": "v0kb_JJIGmDp",
        "outputId": "52ee1a9d-13e8-41c2-b0a0-375f802adb15"
      },
      "id": "v0kb_JJIGmDp",
      "execution_count": 17,
      "outputs": [
        {
          "output_type": "execute_result",
          "data": {
            "text/html": [
              "\n",
              "  <div id=\"df-1e0b8842-b5a8-4b03-924b-2482636ed116\">\n",
              "    <div class=\"colab-df-container\">\n",
              "      <div>\n",
              "<style scoped>\n",
              "    .dataframe tbody tr th:only-of-type {\n",
              "        vertical-align: middle;\n",
              "    }\n",
              "\n",
              "    .dataframe tbody tr th {\n",
              "        vertical-align: top;\n",
              "    }\n",
              "\n",
              "    .dataframe thead th {\n",
              "        text-align: right;\n",
              "    }\n",
              "</style>\n",
              "<table border=\"1\" class=\"dataframe\">\n",
              "  <thead>\n",
              "    <tr style=\"text-align: right;\">\n",
              "      <th></th>\n",
              "      <th>min</th>\n",
              "      <th>max</th>\n",
              "      <th>range</th>\n",
              "      <th>mean</th>\n",
              "      <th>median</th>\n",
              "      <th>std</th>\n",
              "      <th>skew</th>\n",
              "      <th>kurtosis</th>\n",
              "    </tr>\n",
              "  </thead>\n",
              "  <tbody>\n",
              "    <tr>\n",
              "      <th>step</th>\n",
              "      <td>1.0</td>\n",
              "      <td>7.430000e+02</td>\n",
              "      <td>7.420000e+02</td>\n",
              "      <td>2.433972e+02</td>\n",
              "      <td>239.000</td>\n",
              "      <td>1.423320e+02</td>\n",
              "      <td>0.375177</td>\n",
              "      <td>0.329071</td>\n",
              "    </tr>\n",
              "    <tr>\n",
              "      <th>amount</th>\n",
              "      <td>0.0</td>\n",
              "      <td>9.244552e+07</td>\n",
              "      <td>9.244552e+07</td>\n",
              "      <td>1.798619e+05</td>\n",
              "      <td>74871.940</td>\n",
              "      <td>6.038582e+05</td>\n",
              "      <td>30.993949</td>\n",
              "      <td>1797.956705</td>\n",
              "    </tr>\n",
              "    <tr>\n",
              "      <th>oldbalanceOrg</th>\n",
              "      <td>0.0</td>\n",
              "      <td>5.958504e+07</td>\n",
              "      <td>5.958504e+07</td>\n",
              "      <td>8.338831e+05</td>\n",
              "      <td>14208.000</td>\n",
              "      <td>2.888242e+06</td>\n",
              "      <td>5.249136</td>\n",
              "      <td>32.964879</td>\n",
              "    </tr>\n",
              "    <tr>\n",
              "      <th>newbalanceOrig</th>\n",
              "      <td>0.0</td>\n",
              "      <td>4.958504e+07</td>\n",
              "      <td>4.958504e+07</td>\n",
              "      <td>8.551137e+05</td>\n",
              "      <td>0.000</td>\n",
              "      <td>2.924048e+06</td>\n",
              "      <td>5.176884</td>\n",
              "      <td>32.066985</td>\n",
              "    </tr>\n",
              "    <tr>\n",
              "      <th>oldbalanceDest</th>\n",
              "      <td>0.0</td>\n",
              "      <td>3.560159e+08</td>\n",
              "      <td>3.560159e+08</td>\n",
              "      <td>1.100702e+06</td>\n",
              "      <td>132705.665</td>\n",
              "      <td>3.399180e+06</td>\n",
              "      <td>19.921758</td>\n",
              "      <td>948.674125</td>\n",
              "    </tr>\n",
              "    <tr>\n",
              "      <th>newbalanceDest</th>\n",
              "      <td>0.0</td>\n",
              "      <td>3.561793e+08</td>\n",
              "      <td>3.561793e+08</td>\n",
              "      <td>1.224996e+06</td>\n",
              "      <td>214661.440</td>\n",
              "      <td>3.674129e+06</td>\n",
              "      <td>19.352302</td>\n",
              "      <td>862.156508</td>\n",
              "    </tr>\n",
              "    <tr>\n",
              "      <th>isFraud</th>\n",
              "      <td>0.0</td>\n",
              "      <td>1.000000e+00</td>\n",
              "      <td>1.000000e+00</td>\n",
              "      <td>1.290820e-03</td>\n",
              "      <td>0.000</td>\n",
              "      <td>3.590479e-02</td>\n",
              "      <td>27.779538</td>\n",
              "      <td>769.702982</td>\n",
              "    </tr>\n",
              "    <tr>\n",
              "      <th>isFlaggedFraud</th>\n",
              "      <td>0.0</td>\n",
              "      <td>1.000000e+00</td>\n",
              "      <td>1.000000e+00</td>\n",
              "      <td>2.514687e-06</td>\n",
              "      <td>0.000</td>\n",
              "      <td>1.585775e-03</td>\n",
              "      <td>630.603629</td>\n",
              "      <td>397659.062500</td>\n",
              "    </tr>\n",
              "  </tbody>\n",
              "</table>\n",
              "</div>\n",
              "      <button class=\"colab-df-convert\" onclick=\"convertToInteractive('df-1e0b8842-b5a8-4b03-924b-2482636ed116')\"\n",
              "              title=\"Convert this dataframe to an interactive table.\"\n",
              "              style=\"display:none;\">\n",
              "        \n",
              "  <svg xmlns=\"http://www.w3.org/2000/svg\" height=\"24px\"viewBox=\"0 0 24 24\"\n",
              "       width=\"24px\">\n",
              "    <path d=\"M0 0h24v24H0V0z\" fill=\"none\"/>\n",
              "    <path d=\"M18.56 5.44l.94 2.06.94-2.06 2.06-.94-2.06-.94-.94-2.06-.94 2.06-2.06.94zm-11 1L8.5 8.5l.94-2.06 2.06-.94-2.06-.94L8.5 2.5l-.94 2.06-2.06.94zm10 10l.94 2.06.94-2.06 2.06-.94-2.06-.94-.94-2.06-.94 2.06-2.06.94z\"/><path d=\"M17.41 7.96l-1.37-1.37c-.4-.4-.92-.59-1.43-.59-.52 0-1.04.2-1.43.59L10.3 9.45l-7.72 7.72c-.78.78-.78 2.05 0 2.83L4 21.41c.39.39.9.59 1.41.59.51 0 1.02-.2 1.41-.59l7.78-7.78 2.81-2.81c.8-.78.8-2.07 0-2.86zM5.41 20L4 18.59l7.72-7.72 1.47 1.35L5.41 20z\"/>\n",
              "  </svg>\n",
              "      </button>\n",
              "      \n",
              "  <style>\n",
              "    .colab-df-container {\n",
              "      display:flex;\n",
              "      flex-wrap:wrap;\n",
              "      gap: 12px;\n",
              "    }\n",
              "\n",
              "    .colab-df-convert {\n",
              "      background-color: #E8F0FE;\n",
              "      border: none;\n",
              "      border-radius: 50%;\n",
              "      cursor: pointer;\n",
              "      display: none;\n",
              "      fill: #1967D2;\n",
              "      height: 32px;\n",
              "      padding: 0 0 0 0;\n",
              "      width: 32px;\n",
              "    }\n",
              "\n",
              "    .colab-df-convert:hover {\n",
              "      background-color: #E2EBFA;\n",
              "      box-shadow: 0px 1px 2px rgba(60, 64, 67, 0.3), 0px 1px 3px 1px rgba(60, 64, 67, 0.15);\n",
              "      fill: #174EA6;\n",
              "    }\n",
              "\n",
              "    [theme=dark] .colab-df-convert {\n",
              "      background-color: #3B4455;\n",
              "      fill: #D2E3FC;\n",
              "    }\n",
              "\n",
              "    [theme=dark] .colab-df-convert:hover {\n",
              "      background-color: #434B5C;\n",
              "      box-shadow: 0px 1px 3px 1px rgba(0, 0, 0, 0.15);\n",
              "      filter: drop-shadow(0px 1px 2px rgba(0, 0, 0, 0.3));\n",
              "      fill: #FFFFFF;\n",
              "    }\n",
              "  </style>\n",
              "\n",
              "      <script>\n",
              "        const buttonEl =\n",
              "          document.querySelector('#df-1e0b8842-b5a8-4b03-924b-2482636ed116 button.colab-df-convert');\n",
              "        buttonEl.style.display =\n",
              "          google.colab.kernel.accessAllowed ? 'block' : 'none';\n",
              "\n",
              "        async function convertToInteractive(key) {\n",
              "          const element = document.querySelector('#df-1e0b8842-b5a8-4b03-924b-2482636ed116');\n",
              "          const dataTable =\n",
              "            await google.colab.kernel.invokeFunction('convertToInteractive',\n",
              "                                                     [key], {});\n",
              "          if (!dataTable) return;\n",
              "\n",
              "          const docLinkHtml = 'Like what you see? Visit the ' +\n",
              "            '<a target=\"_blank\" href=https://colab.research.google.com/notebooks/data_table.ipynb>data table notebook</a>'\n",
              "            + ' to learn more about interactive tables.';\n",
              "          element.innerHTML = '';\n",
              "          dataTable['output_type'] = 'display_data';\n",
              "          await google.colab.output.renderOutput(dataTable, element);\n",
              "          const docLink = document.createElement('div');\n",
              "          docLink.innerHTML = docLinkHtml;\n",
              "          element.appendChild(docLink);\n",
              "        }\n",
              "      </script>\n",
              "    </div>\n",
              "  </div>\n",
              "  "
            ],
            "text/plain": [
              "                min           max         range          mean      median  \\\n",
              "step            1.0  7.430000e+02  7.420000e+02  2.433972e+02     239.000   \n",
              "amount          0.0  9.244552e+07  9.244552e+07  1.798619e+05   74871.940   \n",
              "oldbalanceOrg   0.0  5.958504e+07  5.958504e+07  8.338831e+05   14208.000   \n",
              "newbalanceOrig  0.0  4.958504e+07  4.958504e+07  8.551137e+05       0.000   \n",
              "oldbalanceDest  0.0  3.560159e+08  3.560159e+08  1.100702e+06  132705.665   \n",
              "newbalanceDest  0.0  3.561793e+08  3.561793e+08  1.224996e+06  214661.440   \n",
              "isFraud         0.0  1.000000e+00  1.000000e+00  1.290820e-03       0.000   \n",
              "isFlaggedFraud  0.0  1.000000e+00  1.000000e+00  2.514687e-06       0.000   \n",
              "\n",
              "                         std        skew       kurtosis  \n",
              "step            1.423320e+02    0.375177       0.329071  \n",
              "amount          6.038582e+05   30.993949    1797.956705  \n",
              "oldbalanceOrg   2.888242e+06    5.249136      32.964879  \n",
              "newbalanceOrig  2.924048e+06    5.176884      32.066985  \n",
              "oldbalanceDest  3.399180e+06   19.921758     948.674125  \n",
              "newbalanceDest  3.674129e+06   19.352302     862.156508  \n",
              "isFraud         3.590479e-02   27.779538     769.702982  \n",
              "isFlaggedFraud  1.585775e-03  630.603629  397659.062500  "
            ]
          },
          "metadata": {},
          "execution_count": 17
        }
      ]
    },
    {
      "cell_type": "markdown",
      "metadata": {
        "heading_collapsed": true,
        "hidden": true,
        "id": "J70lo6JdsXRu"
      },
      "source": [
        "### 1.2.2 general view of attributes"
      ],
      "id": "J70lo6JdsXRu"
    },
    {
      "cell_type": "code",
      "source": [
        "# Numerical attribute view\n",
        "\n",
        "# Exploring continuous attributes\n",
        "\n",
        "num_attrib.select_dtypes('float64').hist(figsize=(10,5),layout=(2,3))\n",
        "plt.tight_layout();"
      ],
      "metadata": {
        "colab": {
          "base_uri": "https://localhost:8080/",
          "height": 369
        },
        "id": "h9qLgPbKLiiY",
        "outputId": "46363592-c246-4983-d8fc-028165354d34"
      },
      "id": "h9qLgPbKLiiY",
      "execution_count": 24,
      "outputs": [
        {
          "output_type": "display_data",
          "data": {
            "image/png": "[encoded data removed]",
            "text/plain": [
              "<Figure size 720x360 with 6 Axes>"
            ]
          },
          "metadata": {
            "needs_background": "light"
          }
        }
      ]
    },
    {
      "cell_type": "code",
      "source": [
        ""
      ],
      "metadata": {
        "id": "OeD8io4m_FHQ"
      },
      "id": "OeD8io4m_FHQ",
      "execution_count": null,
      "outputs": []
    },
    {
      "cell_type": "code",
      "source": [
        "# Exploring 'amount' - Counts and bins\n",
        "\n",
        "counts, bins = np.histogram(num_attrib.loc[num_attrib['amount']>0, 'amount'], \n",
        "                               bins=20, \n",
        "                               range=(num_attrib.loc[num_attrib['amount']>0, 'amount'].min(),\n",
        "                                      num_attrib.loc[num_attrib['amount']>0, 'amount'].max()))"
      ],
      "metadata": {
        "id": "MvY0tjvFOoys"
      },
      "id": "MvY0tjvFOoys",
      "execution_count": 16,
      "outputs": []
    },
    {
      "cell_type": "code",
      "source": [
        "counts"
      ],
      "metadata": {
        "colab": {
          "base_uri": "https://localhost:8080/"
        },
        "id": "ZJN3sUYTOo1p",
        "outputId": "73672b53-354f-433d-f348-cfa678aea403"
      },
      "id": "ZJN3sUYTOo1p",
      "execution_count": 17,
      "outputs": [
        {
          "output_type": "execute_result",
          "data": {
            "text/plain": [
              "array([6350041,    6419,    4533,     657,     326,     207,     143,\n",
              "           113,      64,      23,      34,      18,      11,       8,\n",
              "             2,       4,       0,       0,       0,       1])"
            ]
          },
          "metadata": {},
          "execution_count": 17
        }
      ]
    },
    {
      "cell_type": "code",
      "source": [
        "bins"
      ],
      "metadata": {
        "colab": {
          "base_uri": "https://localhost:8080/"
        },
        "id": "9PF8gZemP5Iw",
        "outputId": "fca7e2f9-56d2-43e5-dd4f-58d312ce7e2b"
      },
      "id": "9PF8gZemP5Iw",
      "execution_count": 18,
      "outputs": [
        {
          "output_type": "execute_result",
          "data": {
            "text/plain": [
              "array([1.00000000e-02, 4.62227584e+06, 9.24455167e+06, 1.38668275e+07,\n",
              "       1.84891033e+07, 2.31113792e+07, 2.77336550e+07, 3.23559308e+07,\n",
              "       3.69782067e+07, 4.16004825e+07, 4.62227583e+07, 5.08450342e+07,\n",
              "       5.54673100e+07, 6.00895858e+07, 6.47118617e+07, 6.93341375e+07,\n",
              "       7.39564133e+07, 7.85786891e+07, 8.32009650e+07, 8.78232408e+07,\n",
              "       9.24455166e+07])"
            ]
          },
          "metadata": {},
          "execution_count": 18
        }
      ]
    },
    {
      "cell_type": "code",
      "source": [
        "# Most of transactions involves amount lower than 40000\n",
        "\n",
        "num_attrib.loc[num_attrib['amount']<4.62227584e+04, 'amount'].hist()"
      ],
      "metadata": {
        "colab": {
          "base_uri": "https://localhost:8080/",
          "height": 282
        },
        "id": "cTXMG7eASHbh",
        "outputId": "c88bdb56-c1c9-4ab7-f21f-f031f20783e7"
      },
      "id": "cTXMG7eASHbh",
      "execution_count": 19,
      "outputs": [
        {
          "output_type": "execute_result",
          "data": {
            "text/plain": [
              "<matplotlib.axes._subplots.AxesSubplot at 0x7f68a2afc190>"
            ]
          },
          "metadata": {},
          "execution_count": 19
        },
        {
          "output_type": "display_data",
          "data": {
            "image/png": "[encoded data removed]",
            "text/plain": [
              "<Figure size 432x288 with 1 Axes>"
            ]
          },
          "metadata": {
            "needs_background": "light"
          }
        }
      ]
    },
    {
      "cell_type": "code",
      "source": [
        "# However there are lots of outliers - higher amount transactions \n",
        "\n",
        "sns.boxplot(num_attrib.loc[num_attrib['amount']>0, 'amount'], orient='h')"
      ],
      "metadata": {
        "colab": {
          "base_uri": "https://localhost:8080/",
          "height": 296
        },
        "id": "W746OdAyM5wQ",
        "outputId": "091b4bfa-ea29-4230-f475-09b2d6652103"
      },
      "id": "W746OdAyM5wQ",
      "execution_count": 20,
      "outputs": [
        {
          "output_type": "execute_result",
          "data": {
            "text/plain": [
              "<matplotlib.axes._subplots.AxesSubplot at 0x7f68a1c6c890>"
            ]
          },
          "metadata": {},
          "execution_count": 20
        },
        {
          "output_type": "display_data",
          "data": {
            "image/png": "[encoded data removed]",
            "text/plain": [
              "<Figure size 432x288 with 1 Axes>"
            ]
          },
          "metadata": {
            "needs_background": "light"
          }
        }
      ]
    },
    {
      "cell_type": "code",
      "source": [
        "# Boxplot of continuous variables - lots of outliers\n",
        "\n",
        "df.select_dtypes('float64').boxplot(rot=45)"
      ],
      "metadata": {
        "colab": {
          "base_uri": "https://localhost:8080/",
          "height": 349
        },
        "id": "XDE099CvxRN-",
        "outputId": "91d70f92-6448-404b-f5d8-a8d443cb4d05"
      },
      "id": "XDE099CvxRN-",
      "execution_count": 30,
      "outputs": [
        {
          "output_type": "execute_result",
          "data": {
            "text/plain": [
              "<matplotlib.axes._subplots.AxesSubplot at 0x7f68a1569390>"
            ]
          },
          "metadata": {},
          "execution_count": 30
        },
        {
          "output_type": "display_data",
          "data": {
            "image/png": "[encoded data removed]",
            "text/plain": [
              "<Figure size 432x288 with 1 Axes>"
            ]
          },
          "metadata": {
            "needs_background": "light"
          }
        }
      ]
    },
    {
      "cell_type": "code",
      "source": [
        "# The frequencies of transactions of higher amounts are extremy low \n",
        "## and are supressed by most frequent transactions\n",
        "\n",
        "num_attrib.loc[:, 'amount'].hist()"
      ],
      "metadata": {
        "colab": {
          "base_uri": "https://localhost:8080/",
          "height": 306
        },
        "id": "42Rmisf8UZoh",
        "outputId": "a655fea2-777a-4cb5-e954-e9f9b512fd1b"
      },
      "id": "42Rmisf8UZoh",
      "execution_count": 22,
      "outputs": [
        {
          "output_type": "execute_result",
          "data": {
            "text/plain": [
              "<matplotlib.axes._subplots.AxesSubplot at 0x7f68a1b53250>"
            ]
          },
          "metadata": {},
          "execution_count": 22
        },
        {
          "output_type": "display_data",
          "data": {
            "image/png": "[encoded data removed]",
            "text/plain": [
              "<Figure size 432x288 with 1 Axes>"
            ]
          },
          "metadata": {
            "needs_background": "light"
          }
        }
      ]
    },
    {
      "cell_type": "code",
      "source": [
        "# Boxplot - 'amount'\n",
        "\n",
        "sns.boxplot(x='isFraud', y='amount', data=num_attrib)"
      ],
      "metadata": {
        "colab": {
          "base_uri": "https://localhost:8080/",
          "height": 307
        },
        "id": "uG52385ZlLtb",
        "outputId": "c6306349-a354-427a-f223-2038e1817b9c"
      },
      "id": "uG52385ZlLtb",
      "execution_count": 23,
      "outputs": [
        {
          "output_type": "execute_result",
          "data": {
            "text/plain": [
              "<matplotlib.axes._subplots.AxesSubplot at 0x7f68a1ad9b50>"
            ]
          },
          "metadata": {},
          "execution_count": 23
        },
        {
          "output_type": "display_data",
          "data": {
            "image/png": "[encoded data removed]",
            "text/plain": [
              "<Figure size 432x288 with 1 Axes>"
            ]
          },
          "metadata": {
            "needs_background": "light"
          }
        }
      ]
    },
    {
      "cell_type": "code",
      "source": [
        "# Boxplot - 'amount' (expanded)\n",
        "\n",
        "sns.boxplot(x='isFraud', y='amount', data=num_attrib[num_attrib['amount']<3.0e+04])\n",
        "\n"
      ],
      "metadata": {
        "colab": {
          "base_uri": "https://localhost:8080/",
          "height": 296
        },
        "id": "mPdocrzClLv_",
        "outputId": "6405386f-524d-4777-deef-6e7b96a72f7c"
      },
      "id": "mPdocrzClLv_",
      "execution_count": 24,
      "outputs": [
        {
          "output_type": "execute_result",
          "data": {
            "text/plain": [
              "<matplotlib.axes._subplots.AxesSubplot at 0x7f68d27c21d0>"
            ]
          },
          "metadata": {},
          "execution_count": 24
        },
        {
          "output_type": "display_data",
          "data": {
            "image/png": "[encoded data removed]",
            "text/plain": [
              "<Figure size 432x288 with 1 Axes>"
            ]
          },
          "metadata": {
            "needs_background": "light"
          }
        }
      ]
    },
    {
      "cell_type": "code",
      "source": [
        "# Categorical attributes check\n",
        "\n",
        "cat_attrib"
      ],
      "metadata": {
        "colab": {
          "base_uri": "https://localhost:8080/",
          "height": 424
        },
        "id": "uSPdAcr7Ubku",
        "outputId": "fac1cbab-cd28-4ea3-d638-bd413344dad4"
      },
      "id": "uSPdAcr7Ubku",
      "execution_count": 25,
      "outputs": [
        {
          "output_type": "execute_result",
          "data": {
            "text/html": [
              "\n",
              "  <div id=\"df-ff2a277f-ac0b-43ca-9af4-43d58d2d432d\">\n",
              "    <div class=\"colab-df-container\">\n",
              "      <div>\n",
              "<style scoped>\n",
              "    .dataframe tbody tr th:only-of-type {\n",
              "        vertical-align: middle;\n",
              "    }\n",
              "\n",
              "    .dataframe tbody tr th {\n",
              "        vertical-align: top;\n",
              "    }\n",
              "\n",
              "    .dataframe thead th {\n",
              "        text-align: right;\n",
              "    }\n",
              "</style>\n",
              "<table border=\"1\" class=\"dataframe\">\n",
              "  <thead>\n",
              "    <tr style=\"text-align: right;\">\n",
              "      <th></th>\n",
              "      <th>type</th>\n",
              "      <th>nameOrig</th>\n",
              "      <th>nameDest</th>\n",
              "    </tr>\n",
              "  </thead>\n",
              "  <tbody>\n",
              "    <tr>\n",
              "      <th>0</th>\n",
              "      <td>PAYMENT</td>\n",
              "      <td>C1231006815</td>\n",
              "      <td>M1979787155</td>\n",
              "    </tr>\n",
              "    <tr>\n",
              "      <th>1</th>\n",
              "      <td>PAYMENT</td>\n",
              "      <td>C1666544295</td>\n",
              "      <td>M2044282225</td>\n",
              "    </tr>\n",
              "    <tr>\n",
              "      <th>2</th>\n",
              "      <td>TRANSFER</td>\n",
              "      <td>C1305486145</td>\n",
              "      <td>C553264065</td>\n",
              "    </tr>\n",
              "    <tr>\n",
              "      <th>3</th>\n",
              "      <td>CASH_OUT</td>\n",
              "      <td>C840083671</td>\n",
              "      <td>C38997010</td>\n",
              "    </tr>\n",
              "    <tr>\n",
              "      <th>4</th>\n",
              "      <td>PAYMENT</td>\n",
              "      <td>C2048537720</td>\n",
              "      <td>M1230701703</td>\n",
              "    </tr>\n",
              "    <tr>\n",
              "      <th>...</th>\n",
              "      <td>...</td>\n",
              "      <td>...</td>\n",
              "      <td>...</td>\n",
              "    </tr>\n",
              "    <tr>\n",
              "      <th>6362615</th>\n",
              "      <td>CASH_OUT</td>\n",
              "      <td>C786484425</td>\n",
              "      <td>C776919290</td>\n",
              "    </tr>\n",
              "    <tr>\n",
              "      <th>6362616</th>\n",
              "      <td>TRANSFER</td>\n",
              "      <td>C1529008245</td>\n",
              "      <td>C1881841831</td>\n",
              "    </tr>\n",
              "    <tr>\n",
              "      <th>6362617</th>\n",
              "      <td>CASH_OUT</td>\n",
              "      <td>C1162922333</td>\n",
              "      <td>C1365125890</td>\n",
              "    </tr>\n",
              "    <tr>\n",
              "      <th>6362618</th>\n",
              "      <td>TRANSFER</td>\n",
              "      <td>C1685995037</td>\n",
              "      <td>C2080388513</td>\n",
              "    </tr>\n",
              "    <tr>\n",
              "      <th>6362619</th>\n",
              "      <td>CASH_OUT</td>\n",
              "      <td>C1280323807</td>\n",
              "      <td>C873221189</td>\n",
              "    </tr>\n",
              "  </tbody>\n",
              "</table>\n",
              "<p>6362620 rows × 3 columns</p>\n",
              "</div>\n",
              "      <button class=\"colab-df-convert\" onclick=\"convertToInteractive('df-ff2a277f-ac0b-43ca-9af4-43d58d2d432d')\"\n",
              "              title=\"Convert this dataframe to an interactive table.\"\n",
              "              style=\"display:none;\">\n",
              "        \n",
              "  <svg xmlns=\"http://www.w3.org/2000/svg\" height=\"24px\"viewBox=\"0 0 24 24\"\n",
              "       width=\"24px\">\n",
              "    <path d=\"M0 0h24v24H0V0z\" fill=\"none\"/>\n",
              "    <path d=\"M18.56 5.44l.94 2.06.94-2.06 2.06-.94-2.06-.94-.94-2.06-.94 2.06-2.06.94zm-11 1L8.5 8.5l.94-2.06 2.06-.94-2.06-.94L8.5 2.5l-.94 2.06-2.06.94zm10 10l.94 2.06.94-2.06 2.06-.94-2.06-.94-.94-2.06-.94 2.06-2.06.94z\"/><path d=\"M17.41 7.96l-1.37-1.37c-.4-.4-.92-.59-1.43-.59-.52 0-1.04.2-1.43.59L10.3 9.45l-7.72 7.72c-.78.78-.78 2.05 0 2.83L4 21.41c.39.39.9.59 1.41.59.51 0 1.02-.2 1.41-.59l7.78-7.78 2.81-2.81c.8-.78.8-2.07 0-2.86zM5.41 20L4 18.59l7.72-7.72 1.47 1.35L5.41 20z\"/>\n",
              "  </svg>\n",
              "      </button>\n",
              "      \n",
              "  <style>\n",
              "    .colab-df-container {\n",
              "      display:flex;\n",
              "      flex-wrap:wrap;\n",
              "      gap: 12px;\n",
              "    }\n",
              "\n",
              "    .colab-df-convert {\n",
              "      background-color: #E8F0FE;\n",
              "      border: none;\n",
              "      border-radius: 50%;\n",
              "      cursor: pointer;\n",
              "      display: none;\n",
              "      fill: #1967D2;\n",
              "      height: 32px;\n",
              "      padding: 0 0 0 0;\n",
              "      width: 32px;\n",
              "    }\n",
              "\n",
              "    .colab-df-convert:hover {\n",
              "      background-color: #E2EBFA;\n",
              "      box-shadow: 0px 1px 2px rgba(60, 64, 67, 0.3), 0px 1px 3px 1px rgba(60, 64, 67, 0.15);\n",
              "      fill: #174EA6;\n",
              "    }\n",
              "\n",
              "    [theme=dark] .colab-df-convert {\n",
              "      background-color: #3B4455;\n",
              "      fill: #D2E3FC;\n",
              "    }\n",
              "\n",
              "    [theme=dark] .colab-df-convert:hover {\n",
              "      background-color: #434B5C;\n",
              "      box-shadow: 0px 1px 3px 1px rgba(0, 0, 0, 0.15);\n",
              "      filter: drop-shadow(0px 1px 2px rgba(0, 0, 0, 0.3));\n",
              "      fill: #FFFFFF;\n",
              "    }\n",
              "  </style>\n",
              "\n",
              "      <script>\n",
              "        const buttonEl =\n",
              "          document.querySelector('#df-ff2a277f-ac0b-43ca-9af4-43d58d2d432d button.colab-df-convert');\n",
              "        buttonEl.style.display =\n",
              "          google.colab.kernel.accessAllowed ? 'block' : 'none';\n",
              "\n",
              "        async function convertToInteractive(key) {\n",
              "          const element = document.querySelector('#df-ff2a277f-ac0b-43ca-9af4-43d58d2d432d');\n",
              "          const dataTable =\n",
              "            await google.colab.kernel.invokeFunction('convertToInteractive',\n",
              "                                                     [key], {});\n",
              "          if (!dataTable) return;\n",
              "\n",
              "          const docLinkHtml = 'Like what you see? Visit the ' +\n",
              "            '<a target=\"_blank\" href=https://colab.research.google.com/notebooks/data_table.ipynb>data table notebook</a>'\n",
              "            + ' to learn more about interactive tables.';\n",
              "          element.innerHTML = '';\n",
              "          dataTable['output_type'] = 'display_data';\n",
              "          await google.colab.output.renderOutput(dataTable, element);\n",
              "          const docLink = document.createElement('div');\n",
              "          docLink.innerHTML = docLinkHtml;\n",
              "          element.appendChild(docLink);\n",
              "        }\n",
              "      </script>\n",
              "    </div>\n",
              "  </div>\n",
              "  "
            ],
            "text/plain": [
              "             type     nameOrig     nameDest\n",
              "0         PAYMENT  C1231006815  M1979787155\n",
              "1         PAYMENT  C1666544295  M2044282225\n",
              "2        TRANSFER  C1305486145   C553264065\n",
              "3        CASH_OUT   C840083671    C38997010\n",
              "4         PAYMENT  C2048537720  M1230701703\n",
              "...           ...          ...          ...\n",
              "6362615  CASH_OUT   C786484425   C776919290\n",
              "6362616  TRANSFER  C1529008245  C1881841831\n",
              "6362617  CASH_OUT  C1162922333  C1365125890\n",
              "6362618  TRANSFER  C1685995037  C2080388513\n",
              "6362619  CASH_OUT  C1280323807   C873221189\n",
              "\n",
              "[6362620 rows x 3 columns]"
            ]
          },
          "metadata": {},
          "execution_count": 25
        }
      ]
    },
    {
      "cell_type": "code",
      "source": [
        "# Categorical attributes view\n",
        "\n",
        "# Unbalanced data makes direct comparisons dificult - we normalized the data here\n",
        "\n",
        "cat_view = pd.DataFrame(df[['isFraud','type']].groupby(['isFraud','type']).size().reset_index())\n",
        "\n",
        "cat_view.columns = ['isFraud','type', 'count']\n",
        "\n",
        "#column 'norm_count' - normalizing by the total count of each category in the column 'isFraud'\n",
        "cat_view.loc[cat_view['isFraud']==1,'norm_count'] = cat_view['count'] / cat_view.loc[cat_view['isFraud']==1, 'count'].sum()\n",
        "\n",
        "cat_view.loc[cat_view['isFraud']==0,'norm_count'] = cat_view['count'] / cat_view.loc[cat_view['isFraud']==0, 'count'].sum()\n",
        "\n",
        "cat_view"
      ],
      "metadata": {
        "colab": {
          "base_uri": "https://localhost:8080/",
          "height": 269
        },
        "id": "VD_B3lhVX4wN",
        "outputId": "81253383-f1ef-4c33-fa5e-4c0b812a6ce6"
      },
      "id": "VD_B3lhVX4wN",
      "execution_count": 26,
      "outputs": [
        {
          "output_type": "execute_result",
          "data": {
            "text/html": [
              "\n",
              "  <div id=\"df-fce7fa3f-06fa-4b11-b8fb-1799caec2d25\">\n",
              "    <div class=\"colab-df-container\">\n",
              "      <div>\n",
              "<style scoped>\n",
              "    .dataframe tbody tr th:only-of-type {\n",
              "        vertical-align: middle;\n",
              "    }\n",
              "\n",
              "    .dataframe tbody tr th {\n",
              "        vertical-align: top;\n",
              "    }\n",
              "\n",
              "    .dataframe thead th {\n",
              "        text-align: right;\n",
              "    }\n",
              "</style>\n",
              "<table border=\"1\" class=\"dataframe\">\n",
              "  <thead>\n",
              "    <tr style=\"text-align: right;\">\n",
              "      <th></th>\n",
              "      <th>isFraud</th>\n",
              "      <th>type</th>\n",
              "      <th>count</th>\n",
              "      <th>norm_count</th>\n",
              "    </tr>\n",
              "  </thead>\n",
              "  <tbody>\n",
              "    <tr>\n",
              "      <th>0</th>\n",
              "      <td>0</td>\n",
              "      <td>CASH_IN</td>\n",
              "      <td>1399284</td>\n",
              "      <td>0.220207</td>\n",
              "    </tr>\n",
              "    <tr>\n",
              "      <th>1</th>\n",
              "      <td>0</td>\n",
              "      <td>CASH_OUT</td>\n",
              "      <td>2233384</td>\n",
              "      <td>0.351470</td>\n",
              "    </tr>\n",
              "    <tr>\n",
              "      <th>2</th>\n",
              "      <td>0</td>\n",
              "      <td>DEBIT</td>\n",
              "      <td>41432</td>\n",
              "      <td>0.006520</td>\n",
              "    </tr>\n",
              "    <tr>\n",
              "      <th>3</th>\n",
              "      <td>0</td>\n",
              "      <td>PAYMENT</td>\n",
              "      <td>2151495</td>\n",
              "      <td>0.338583</td>\n",
              "    </tr>\n",
              "    <tr>\n",
              "      <th>4</th>\n",
              "      <td>0</td>\n",
              "      <td>TRANSFER</td>\n",
              "      <td>528812</td>\n",
              "      <td>0.083220</td>\n",
              "    </tr>\n",
              "    <tr>\n",
              "      <th>5</th>\n",
              "      <td>1</td>\n",
              "      <td>CASH_OUT</td>\n",
              "      <td>4116</td>\n",
              "      <td>0.501157</td>\n",
              "    </tr>\n",
              "    <tr>\n",
              "      <th>6</th>\n",
              "      <td>1</td>\n",
              "      <td>TRANSFER</td>\n",
              "      <td>4097</td>\n",
              "      <td>0.498843</td>\n",
              "    </tr>\n",
              "  </tbody>\n",
              "</table>\n",
              "</div>\n",
              "      <button class=\"colab-df-convert\" onclick=\"convertToInteractive('df-fce7fa3f-06fa-4b11-b8fb-1799caec2d25')\"\n",
              "              title=\"Convert this dataframe to an interactive table.\"\n",
              "              style=\"display:none;\">\n",
              "        \n",
              "  <svg xmlns=\"http://www.w3.org/2000/svg\" height=\"24px\"viewBox=\"0 0 24 24\"\n",
              "       width=\"24px\">\n",
              "    <path d=\"M0 0h24v24H0V0z\" fill=\"none\"/>\n",
              "    <path d=\"M18.56 5.44l.94 2.06.94-2.06 2.06-.94-2.06-.94-.94-2.06-.94 2.06-2.06.94zm-11 1L8.5 8.5l.94-2.06 2.06-.94-2.06-.94L8.5 2.5l-.94 2.06-2.06.94zm10 10l.94 2.06.94-2.06 2.06-.94-2.06-.94-.94-2.06-.94 2.06-2.06.94z\"/><path d=\"M17.41 7.96l-1.37-1.37c-.4-.4-.92-.59-1.43-.59-.52 0-1.04.2-1.43.59L10.3 9.45l-7.72 7.72c-.78.78-.78 2.05 0 2.83L4 21.41c.39.39.9.59 1.41.59.51 0 1.02-.2 1.41-.59l7.78-7.78 2.81-2.81c.8-.78.8-2.07 0-2.86zM5.41 20L4 18.59l7.72-7.72 1.47 1.35L5.41 20z\"/>\n",
              "  </svg>\n",
              "      </button>\n",
              "      \n",
              "  <style>\n",
              "    .colab-df-container {\n",
              "      display:flex;\n",
              "      flex-wrap:wrap;\n",
              "      gap: 12px;\n",
              "    }\n",
              "\n",
              "    .colab-df-convert {\n",
              "      background-color: #E8F0FE;\n",
              "      border: none;\n",
              "      border-radius: 50%;\n",
              "      cursor: pointer;\n",
              "      display: none;\n",
              "      fill: #1967D2;\n",
              "      height: 32px;\n",
              "      padding: 0 0 0 0;\n",
              "      width: 32px;\n",
              "    }\n",
              "\n",
              "    .colab-df-convert:hover {\n",
              "      background-color: #E2EBFA;\n",
              "      box-shadow: 0px 1px 2px rgba(60, 64, 67, 0.3), 0px 1px 3px 1px rgba(60, 64, 67, 0.15);\n",
              "      fill: #174EA6;\n",
              "    }\n",
              "\n",
              "    [theme=dark] .colab-df-convert {\n",
              "      background-color: #3B4455;\n",
              "      fill: #D2E3FC;\n",
              "    }\n",
              "\n",
              "    [theme=dark] .colab-df-convert:hover {\n",
              "      background-color: #434B5C;\n",
              "      box-shadow: 0px 1px 3px 1px rgba(0, 0, 0, 0.15);\n",
              "      filter: drop-shadow(0px 1px 2px rgba(0, 0, 0, 0.3));\n",
              "      fill: #FFFFFF;\n",
              "    }\n",
              "  </style>\n",
              "\n",
              "      <script>\n",
              "        const buttonEl =\n",
              "          document.querySelector('#df-fce7fa3f-06fa-4b11-b8fb-1799caec2d25 button.colab-df-convert');\n",
              "        buttonEl.style.display =\n",
              "          google.colab.kernel.accessAllowed ? 'block' : 'none';\n",
              "\n",
              "        async function convertToInteractive(key) {\n",
              "          const element = document.querySelector('#df-fce7fa3f-06fa-4b11-b8fb-1799caec2d25');\n",
              "          const dataTable =\n",
              "            await google.colab.kernel.invokeFunction('convertToInteractive',\n",
              "                                                     [key], {});\n",
              "          if (!dataTable) return;\n",
              "\n",
              "          const docLinkHtml = 'Like what you see? Visit the ' +\n",
              "            '<a target=\"_blank\" href=https://colab.research.google.com/notebooks/data_table.ipynb>data table notebook</a>'\n",
              "            + ' to learn more about interactive tables.';\n",
              "          element.innerHTML = '';\n",
              "          dataTable['output_type'] = 'display_data';\n",
              "          await google.colab.output.renderOutput(dataTable, element);\n",
              "          const docLink = document.createElement('div');\n",
              "          docLink.innerHTML = docLinkHtml;\n",
              "          element.appendChild(docLink);\n",
              "        }\n",
              "      </script>\n",
              "    </div>\n",
              "  </div>\n",
              "  "
            ],
            "text/plain": [
              "   isFraud      type    count  norm_count\n",
              "0        0   CASH_IN  1399284    0.220207\n",
              "1        0  CASH_OUT  2233384    0.351470\n",
              "2        0     DEBIT    41432    0.006520\n",
              "3        0   PAYMENT  2151495    0.338583\n",
              "4        0  TRANSFER   528812    0.083220\n",
              "5        1  CASH_OUT     4116    0.501157\n",
              "6        1  TRANSFER     4097    0.498843"
            ]
          },
          "metadata": {},
          "execution_count": 26
        }
      ]
    },
    {
      "cell_type": "code",
      "source": [
        "# There is no CASH_IN, DEBIT, PAYMENT in fraud transactions - 'type' variable might be important\n",
        "\n",
        "# Let's compare CASH_OUT and TRANSFER\n",
        "\n",
        "# When there is fraud percentage of CASH_OUT and TRANSFER transactions are higher compared to when there is not\n",
        "\n",
        "sns.barplot(x='type', \n",
        "            y='norm_count', \n",
        "            hue='isFraud', \n",
        "            data=cat_view[(cat_view['type']=='CASH_OUT') | (cat_view['type']=='TRANSFER')])"
      ],
      "metadata": {
        "colab": {
          "base_uri": "https://localhost:8080/",
          "height": 297
        },
        "id": "stT2N7LpbrvV",
        "outputId": "dd947d7e-9886-42ac-edbf-a40e9a3fc9bc"
      },
      "id": "stT2N7LpbrvV",
      "execution_count": 28,
      "outputs": [
        {
          "output_type": "execute_result",
          "data": {
            "text/plain": [
              "<matplotlib.axes._subplots.AxesSubplot at 0x7f68a17e4710>"
            ]
          },
          "metadata": {},
          "execution_count": 28
        },
        {
          "output_type": "display_data",
          "data": {
            "image/png": "[encoded data removed]",
            "text/plain": [
              "<Figure size 432x288 with 1 Axes>"
            ]
          },
          "metadata": {
            "needs_background": "light"
          }
        }
      ]
    },
    {
      "cell_type": "markdown",
      "id": "82ab2d45",
      "metadata": {
        "heading_collapsed": true,
        "id": "82ab2d45"
      },
      "source": [
        "# 2 - Feature engineering"
      ]
    },
    {
      "cell_type": "markdown",
      "id": "ee1653cd",
      "metadata": {
        "heading_collapsed": true,
        "hidden": true,
        "id": "ee1653cd"
      },
      "source": [
        "## 2.1 creating new features"
      ]
    },
    {
      "cell_type": "markdown",
      "id": "81af72e1",
      "metadata": {
        "hidden": true,
        "id": "81af72e1"
      },
      "source": [
        "From 'step' column it is possible to create new time-related features that might help data exploration and learning process"
      ]
    },
    {
      "cell_type": "code",
      "execution_count": 31,
      "id": "ea5faea9",
      "metadata": {
        "ExecuteTime": {
          "end_time": "2022-01-19T22:26:49.745039Z",
          "start_time": "2022-01-19T22:26:45.257868Z"
        },
        "hidden": true,
        "colab": {
          "base_uri": "https://localhost:8080/"
        },
        "id": "ea5faea9",
        "outputId": "0cf40b58-334b-4ebe-e143-844452f3848d"
      },
      "outputs": [
        {
          "output_type": "execute_result",
          "data": {
            "text/plain": [
              "0           1\n",
              "1           1\n",
              "2           1\n",
              "3           1\n",
              "4           1\n",
              "           ..\n",
              "6362615    31\n",
              "6362616    31\n",
              "6362617    31\n",
              "6362618    31\n",
              "6362619    31\n",
              "Name: day_of_month, Length: 6362620, dtype: int64"
            ]
          },
          "metadata": {},
          "execution_count": 31
        }
      ],
      "source": [
        "# Day of month\n",
        "\n",
        "df['day_of_month'] = df['step'].apply(lambda x: ceil(x/24))\n",
        "\n",
        "df['day_of_month']"
      ]
    },
    {
      "cell_type": "code",
      "execution_count": 32,
      "id": "6cd5b6fb",
      "metadata": {
        "ExecuteTime": {
          "end_time": "2022-01-19T22:26:59.260895Z",
          "start_time": "2022-01-19T22:26:54.555875Z"
        },
        "hidden": true,
        "colab": {
          "base_uri": "https://localhost:8080/"
        },
        "id": "6cd5b6fb",
        "outputId": "257ed907-0df1-4d66-bfcc-61a3d20c4d33"
      },
      "outputs": [
        {
          "output_type": "execute_result",
          "data": {
            "text/plain": [
              "0          1\n",
              "1          1\n",
              "2          1\n",
              "3          1\n",
              "4          1\n",
              "          ..\n",
              "6362615    5\n",
              "6362616    5\n",
              "6362617    5\n",
              "6362618    5\n",
              "6362619    5\n",
              "Name: week_of_month, Length: 6362620, dtype: int64"
            ]
          },
          "metadata": {},
          "execution_count": 32
        }
      ],
      "source": [
        "# Week of month\n",
        "\n",
        "df['week_of_month'] = df['step'].apply(lambda x: ceil(x/168))\n",
        "\n",
        "df['week_of_month']"
      ]
    },
    {
      "cell_type": "code",
      "execution_count": 33,
      "id": "8ee1ab1f",
      "metadata": {
        "ExecuteTime": {
          "end_time": "2022-01-19T22:27:04.778147Z",
          "start_time": "2022-01-19T22:27:01.539394Z"
        },
        "hidden": true,
        "colab": {
          "base_uri": "https://localhost:8080/"
        },
        "id": "8ee1ab1f",
        "outputId": "95a66bb5-aecf-4f56-f626-9e7c66b0710a"
      },
      "outputs": [
        {
          "output_type": "execute_result",
          "data": {
            "text/plain": [
              "0           0.0\n",
              "1           0.0\n",
              "2           0.0\n",
              "3           0.0\n",
              "4           0.0\n",
              "           ... \n",
              "6362615    22.0\n",
              "6362616    22.0\n",
              "6362617    22.0\n",
              "6362618    22.0\n",
              "6362619    22.0\n",
              "Name: hour_of_day, Length: 6362620, dtype: float64"
            ]
          },
          "metadata": {},
          "execution_count": 33
        }
      ],
      "source": [
        "# Creating aux column 'min_step_of_day'\n",
        "\n",
        "for i in df['day_of_month'].unique():\n",
        "    \n",
        "    df.loc[df['day_of_month']==i,'min_step_of_day'] = df.loc[df['day_of_month']==i, 'step'].min()\n",
        "\n",
        "\n",
        "# Creating 'hour_of_day' column\n",
        "\n",
        "df['hour_of_day'] = df['step'] - df['min_step_of_day']\n",
        "\n",
        "df['hour_of_day']"
      ]
    },
    {
      "cell_type": "code",
      "execution_count": 34,
      "id": "b27f1e1e",
      "metadata": {
        "ExecuteTime": {
          "end_time": "2022-01-19T22:27:17.506987Z",
          "start_time": "2022-01-19T22:27:16.731898Z"
        },
        "hidden": true,
        "colab": {
          "base_uri": "https://localhost:8080/"
        },
        "id": "b27f1e1e",
        "outputId": "44b3e3f3-576d-4ffb-dfb9-24fea72cbe73"
      },
      "outputs": [
        {
          "output_type": "execute_result",
          "data": {
            "text/plain": [
              "0          1.0\n",
              "1          1.0\n",
              "2          1.0\n",
              "3          1.0\n",
              "4          1.0\n",
              "          ... \n",
              "6362615    3.0\n",
              "6362616    3.0\n",
              "6362617    3.0\n",
              "6362618    3.0\n",
              "6362619    3.0\n",
              "Name: day_of_week, Length: 6362620, dtype: float64"
            ]
          },
          "metadata": {},
          "execution_count": 34
        }
      ],
      "source": [
        "# Creating aux column 'min_day_of_week'\n",
        "\n",
        "\n",
        "for i in df['week_of_month'].unique():\n",
        "    \n",
        "    df.loc[df['week_of_month']==i, 'min_day_of_week'] = df.loc[df['week_of_month']==i, 'day_of_month'].min()\n",
        "\n",
        "\n",
        "\n",
        "# Creating 'day_of_week' column\n",
        "\n",
        "\n",
        "df['day_of_week'] = ((df['day_of_month'] - df['min_day_of_week'])+1)\n",
        "\n",
        "df['day_of_week']    "
      ]
    },
    {
      "cell_type": "code",
      "execution_count": 35,
      "id": "af3ee06b",
      "metadata": {
        "ExecuteTime": {
          "end_time": "2022-01-19T22:27:29.436882Z",
          "start_time": "2022-01-19T22:27:25.526860Z"
        },
        "hidden": true,
        "colab": {
          "base_uri": "https://localhost:8080/"
        },
        "id": "af3ee06b",
        "outputId": "688b0146-774e-4466-da12-f9ac6f25424d"
      },
      "outputs": [
        {
          "output_type": "execute_result",
          "data": {
            "text/plain": [
              "0          yes\n",
              "1          yes\n",
              "2          yes\n",
              "3          yes\n",
              "4          yes\n",
              "          ... \n",
              "6362615     no\n",
              "6362616     no\n",
              "6362617     no\n",
              "6362618     no\n",
              "6362619     no\n",
              "Name: is_weekend, Length: 6362620, dtype: object"
            ]
          },
          "metadata": {},
          "execution_count": 35
        }
      ],
      "source": [
        "# Creating 'is_weekend' column\n",
        "\n",
        "df['is_weekend'] = df['day_of_week'].apply(lambda x: 'yes' if x == 1 or x == 7 else 'no')\n",
        "\n",
        "df['is_weekend']"
      ]
    },
    {
      "cell_type": "code",
      "execution_count": 36,
      "id": "1b71294a",
      "metadata": {
        "ExecuteTime": {
          "end_time": "2022-01-19T23:04:04.294481Z",
          "start_time": "2022-01-19T23:04:02.195004Z"
        },
        "hidden": true,
        "colab": {
          "base_uri": "https://localhost:8080/"
        },
        "id": "1b71294a",
        "outputId": "46b067b5-8f12-43f6-cbae-a4e5b36495a0"
      },
      "outputs": [
        {
          "output_type": "execute_result",
          "data": {
            "text/plain": [
              "0          AM\n",
              "1          AM\n",
              "2          AM\n",
              "3          AM\n",
              "4          AM\n",
              "           ..\n",
              "6362615    PM\n",
              "6362616    PM\n",
              "6362617    PM\n",
              "6362618    PM\n",
              "6362619    PM\n",
              "Name: time_of_day, Length: 6362620, dtype: object"
            ]
          },
          "metadata": {},
          "execution_count": 36
        }
      ],
      "source": [
        "# Creating 'time_of_day' column\n",
        "\n",
        "df['time_of_day'] = df['hour_of_day'].apply(lambda x: 'AM' if x <= 12 else 'PM')\n",
        "\n",
        "df['time_of_day']"
      ]
    },
    {
      "cell_type": "code",
      "source": [
        "# Creating 'period_of_day' column\n",
        "\n",
        "df['period_of_day'] = ['Morning' if i<=12 else 'Afternoon' if i>12 and i<=18 else 'Evening' for i in df['hour_of_day']]\n",
        "\n",
        "df['period_of_day']"
      ],
      "metadata": {
        "colab": {
          "base_uri": "https://localhost:8080/"
        },
        "id": "EDnPJulR92pp",
        "outputId": "7d142502-c305-459b-edc8-e9af9b1d7483"
      },
      "id": "EDnPJulR92pp",
      "execution_count": 39,
      "outputs": [
        {
          "output_type": "execute_result",
          "data": {
            "text/plain": [
              "0          Morning\n",
              "1          Morning\n",
              "2          Morning\n",
              "3          Morning\n",
              "4          Morning\n",
              "            ...   \n",
              "6362615    Evening\n",
              "6362616    Evening\n",
              "6362617    Evening\n",
              "6362618    Evening\n",
              "6362619    Evening\n",
              "Name: period_of_day, Length: 6362620, dtype: object"
            ]
          },
          "metadata": {},
          "execution_count": 39
        }
      ]
    },
    {
      "cell_type": "markdown",
      "metadata": {
        "hidden": true,
        "id": "RQ-xTDjeNrsO"
      },
      "source": [
        "Columns 'nameOrig' and 'nameDest' carry information that allow us to categorize both transaction origin and transaction destiny (Costumer if the name starts with C and Merchant if the name starts with M) "
      ],
      "id": "RQ-xTDjeNrsO"
    },
    {
      "cell_type": "code",
      "source": [
        "# Creating 'orig_type' column\n",
        "\n",
        "df['orig_type'] = ['Merchant' if i[0]== 'M' else 'Costumer' for i in df['nameOrig']]\n",
        "\n",
        "df['orig_type']"
      ],
      "metadata": {
        "colab": {
          "base_uri": "https://localhost:8080/"
        },
        "id": "X29qm0-jNnPQ",
        "outputId": "b518d0e5-0709-4157-c90b-dacb37d2f9d7"
      },
      "id": "X29qm0-jNnPQ",
      "execution_count": 40,
      "outputs": [
        {
          "output_type": "execute_result",
          "data": {
            "text/plain": [
              "0          Costumer\n",
              "1          Costumer\n",
              "2          Costumer\n",
              "3          Costumer\n",
              "4          Costumer\n",
              "             ...   \n",
              "6362615    Costumer\n",
              "6362616    Costumer\n",
              "6362617    Costumer\n",
              "6362618    Costumer\n",
              "6362619    Costumer\n",
              "Name: orig_type, Length: 6362620, dtype: object"
            ]
          },
          "metadata": {},
          "execution_count": 40
        }
      ]
    },
    {
      "cell_type": "code",
      "source": [
        "# Creating 'dest_type' column\n",
        "\n",
        "df['dest_type'] = ['Merchant' if i[0]== 'M' else 'Costumer' for i in df['nameDest']]\n",
        "\n",
        "df['dest_type']"
      ],
      "metadata": {
        "colab": {
          "base_uri": "https://localhost:8080/"
        },
        "id": "bJ9n1DXFQdJb",
        "outputId": "2589fa47-e00f-4bdc-a547-82709de321cb"
      },
      "id": "bJ9n1DXFQdJb",
      "execution_count": 41,
      "outputs": [
        {
          "output_type": "execute_result",
          "data": {
            "text/plain": [
              "0          Merchant\n",
              "1          Merchant\n",
              "2          Costumer\n",
              "3          Costumer\n",
              "4          Merchant\n",
              "             ...   \n",
              "6362615    Costumer\n",
              "6362616    Costumer\n",
              "6362617    Costumer\n",
              "6362618    Costumer\n",
              "6362619    Costumer\n",
              "Name: dest_type, Length: 6362620, dtype: object"
            ]
          },
          "metadata": {},
          "execution_count": 41
        }
      ]
    },
    {
      "cell_type": "markdown",
      "metadata": {
        "hidden": true,
        "id": "uNwAo1nTS2Dk"
      },
      "source": [
        "From  old/new balance Origin/Dest it is possible to create new category informing if it is zero or non-zero"
      ],
      "id": "uNwAo1nTS2Dk"
    },
    {
      "cell_type": "code",
      "source": [
        "# Creating 'oldbalanceOrg_status'\n",
        "\n",
        "df['oldbalanceOrg_status'] = ['zero' if i==0 else 'non-zero' for i in df['oldbalanceOrg']]\n",
        "\n",
        "df['oldbalanceOrg_status']"
      ],
      "metadata": {
        "colab": {
          "base_uri": "https://localhost:8080/"
        },
        "id": "aHQn-H1nO08f",
        "outputId": "d805ef71-2b37-4bdd-b6b4-5e14bc529a69"
      },
      "id": "aHQn-H1nO08f",
      "execution_count": 42,
      "outputs": [
        {
          "output_type": "execute_result",
          "data": {
            "text/plain": [
              "0          non-zero\n",
              "1          non-zero\n",
              "2          non-zero\n",
              "3          non-zero\n",
              "4          non-zero\n",
              "             ...   \n",
              "6362615    non-zero\n",
              "6362616    non-zero\n",
              "6362617    non-zero\n",
              "6362618    non-zero\n",
              "6362619    non-zero\n",
              "Name: oldbalanceOrg_status, Length: 6362620, dtype: object"
            ]
          },
          "metadata": {},
          "execution_count": 42
        }
      ]
    },
    {
      "cell_type": "code",
      "source": [
        "# Creating 'newbalanceOrig_status'\n",
        "\n",
        "df['newbalanceOrig_status'] = ['zero' if i==0 else 'non-zero' for i in df['newbalanceOrig']]\n",
        "\n",
        "df['newbalanceOrig_status']"
      ],
      "metadata": {
        "colab": {
          "base_uri": "https://localhost:8080/"
        },
        "id": "--jKXHzQVbFg",
        "outputId": "f045f7ba-4489-4c34-e81c-c4b19c01e689"
      },
      "id": "--jKXHzQVbFg",
      "execution_count": 43,
      "outputs": [
        {
          "output_type": "execute_result",
          "data": {
            "text/plain": [
              "0          non-zero\n",
              "1          non-zero\n",
              "2              zero\n",
              "3              zero\n",
              "4          non-zero\n",
              "             ...   \n",
              "6362615        zero\n",
              "6362616        zero\n",
              "6362617        zero\n",
              "6362618        zero\n",
              "6362619        zero\n",
              "Name: newbalanceOrig_status, Length: 6362620, dtype: object"
            ]
          },
          "metadata": {},
          "execution_count": 43
        }
      ]
    },
    {
      "cell_type": "code",
      "source": [
        "# Creating 'oldbalanceDest_status'\n",
        "\n",
        "df['oldbalanceDest_status'] = ['zero' if i==0 else 'non-zero' for i in df['oldbalanceDest']]\n",
        "\n",
        "df['oldbalanceDest_status']"
      ],
      "metadata": {
        "colab": {
          "base_uri": "https://localhost:8080/"
        },
        "id": "lBV5MRa3Vybq",
        "outputId": "1d89c0e2-befc-445e-b614-3a843a39759e"
      },
      "id": "lBV5MRa3Vybq",
      "execution_count": 44,
      "outputs": [
        {
          "output_type": "execute_result",
          "data": {
            "text/plain": [
              "0              zero\n",
              "1              zero\n",
              "2              zero\n",
              "3          non-zero\n",
              "4              zero\n",
              "             ...   \n",
              "6362615        zero\n",
              "6362616        zero\n",
              "6362617    non-zero\n",
              "6362618        zero\n",
              "6362619    non-zero\n",
              "Name: oldbalanceDest_status, Length: 6362620, dtype: object"
            ]
          },
          "metadata": {},
          "execution_count": 44
        }
      ]
    },
    {
      "cell_type": "code",
      "source": [
        "# Creating 'newbalanceDest_status'\n",
        "\n",
        "df['newbalanceDest_status'] = ['zero' if i==0 else 'non-zero' for i in df['newbalanceDest']]\n",
        "\n",
        "df['newbalanceDest_status']"
      ],
      "metadata": {
        "colab": {
          "base_uri": "https://localhost:8080/"
        },
        "id": "XqXHl7z1WIGg",
        "outputId": "0374a6d5-8f2a-4dd2-bb10-18c5695f97ba"
      },
      "id": "XqXHl7z1WIGg",
      "execution_count": 45,
      "outputs": [
        {
          "output_type": "execute_result",
          "data": {
            "text/plain": [
              "0              zero\n",
              "1              zero\n",
              "2              zero\n",
              "3              zero\n",
              "4              zero\n",
              "             ...   \n",
              "6362615    non-zero\n",
              "6362616        zero\n",
              "6362617    non-zero\n",
              "6362618        zero\n",
              "6362619    non-zero\n",
              "Name: newbalanceDest_status, Length: 6362620, dtype: object"
            ]
          },
          "metadata": {},
          "execution_count": 45
        }
      ]
    },
    {
      "cell_type": "markdown",
      "metadata": {
        "hidden": true,
        "id": "LeYw_gXXcV-d"
      },
      "source": [
        "Is the Origin name == Destination name in a particular transaction?"
      ],
      "id": "LeYw_gXXcV-d"
    },
    {
      "cell_type": "code",
      "source": [
        "# Creating the column 'is_orig_equal_dest'\n",
        "\n",
        "df['is_orig_equal_dest'] = ['yes' if i==it else 'no' for i, it in zip(df['nameOrig'], df['nameDest'])]"
      ],
      "metadata": {
        "id": "uKhNpmNEfMhh"
      },
      "id": "uKhNpmNEfMhh",
      "execution_count": 46,
      "outputs": []
    },
    {
      "cell_type": "markdown",
      "metadata": {
        "hidden": true,
        "id": "yNoZO9Hlk8dX"
      },
      "source": [
        "Is the origin old balance higher than the new balance in a particular transaction?\n",
        "\n",
        "Is the destination old balance higher than the new balance in a particular transaction?"
      ],
      "id": "yNoZO9Hlk8dX"
    },
    {
      "cell_type": "code",
      "source": [
        "# Creating the column 'is_oldbalanceOrg_higherthan_newbalanceOrig'\n",
        "\n",
        "df['is_oldbalanceOrg_higherthan_newbalanceOrig'] = ['yes'if i>it else 'no' for i, it in zip(df['oldbalanceOrg'], df['newbalanceOrig'])]"
      ],
      "metadata": {
        "id": "gUsGxlQmbnVj"
      },
      "id": "gUsGxlQmbnVj",
      "execution_count": 47,
      "outputs": []
    },
    {
      "cell_type": "code",
      "source": [
        "# Creating the column 'is_oldbalanceDest_higherthan_newbalanceDest'\n",
        "\n",
        "df['is_oldbalanceDest_higherthan_newbalanceDest'] = ['yes'if i>it else 'no' for i, it in zip(df['oldbalanceDest'], df['newbalanceDest'])]"
      ],
      "metadata": {
        "id": "k-BNfXG2mw6L"
      },
      "id": "k-BNfXG2mw6L",
      "execution_count": 48,
      "outputs": []
    },
    {
      "cell_type": "markdown",
      "source": [
        "Transaction direction:\n",
        "\n",
        "C2M (Costumer to Merchant)<br>\n",
        "M2M (Merchant to Merchant)<br>\n",
        "C2C (Costumer to Custumer)<br>\n",
        "M2C (Merchant to Custumer)"
      ],
      "metadata": {
        "id": "40Zg8yr3nf8o"
      },
      "id": "40Zg8yr3nf8o"
    },
    {
      "cell_type": "code",
      "source": [
        "# Creating the column 'transaction_direction'\n",
        "\n",
        "df['transaction_direction'] = [i[0]+'2'+it[0] for i, it in zip(df['orig_type'], df['dest_type'])]"
      ],
      "metadata": {
        "id": "5cp0fhADoMwQ"
      },
      "id": "5cp0fhADoMwQ",
      "execution_count": 49,
      "outputs": []
    },
    {
      "cell_type": "code",
      "source": [
        ""
      ],
      "metadata": {
        "id": "djdGmvURoM6T"
      },
      "id": "djdGmvURoM6T",
      "execution_count": null,
      "outputs": []
    },
    {
      "cell_type": "code",
      "source": [
        "# Converting 'isFlaggedFraud' column to categorical (to further corr calculation)\n",
        "\n",
        "df['isFlaggedFraud'] = ['no' if i==0 else 'yes' for i in df['isFlaggedFraud']]"
      ],
      "metadata": {
        "id": "rKRns8TVO1Cs"
      },
      "id": "rKRns8TVO1Cs",
      "execution_count": 50,
      "outputs": []
    },
    {
      "cell_type": "code",
      "source": [
        "# Droping aux column 'min_step_of_day'\n",
        "\n",
        "df = df.drop(columns=['min_step_of_day', 'min_day_of_week'])"
      ],
      "metadata": {
        "id": "E-57Be_uR8dz"
      },
      "id": "E-57Be_uR8dz",
      "execution_count": 51,
      "outputs": []
    },
    {
      "cell_type": "code",
      "source": [
        "# Converting 'hour_of_day' and 'day_of_week' columns to int\n",
        "\n",
        "df[['hour_of_day','day_of_week']] = df[['hour_of_day','day_of_week']].astype(int)"
      ],
      "metadata": {
        "id": "McN1mtshB-At"
      },
      "id": "McN1mtshB-At",
      "execution_count": 52,
      "outputs": []
    },
    {
      "cell_type": "code",
      "execution_count": 53,
      "id": "977bba0f",
      "metadata": {
        "ExecuteTime": {
          "end_time": "2022-01-19T23:16:33.511692Z",
          "start_time": "2022-01-19T23:16:32.125352Z"
        },
        "hidden": true,
        "scrolled": true,
        "colab": {
          "base_uri": "https://localhost:8080/",
          "height": 488
        },
        "id": "977bba0f",
        "outputId": "8bde16e5-8448-463f-cc70-f0a040f7cb93"
      },
      "outputs": [
        {
          "output_type": "execute_result",
          "data": {
            "text/html": [
              "\n",
              "  <div id=\"df-1122d746-6065-4c6e-8051-13243ccfb641\">\n",
              "    <div class=\"colab-df-container\">\n",
              "      <div>\n",
              "<style scoped>\n",
              "    .dataframe tbody tr th:only-of-type {\n",
              "        vertical-align: middle;\n",
              "    }\n",
              "\n",
              "    .dataframe tbody tr th {\n",
              "        vertical-align: top;\n",
              "    }\n",
              "\n",
              "    .dataframe thead th {\n",
              "        text-align: right;\n",
              "    }\n",
              "</style>\n",
              "<table border=\"1\" class=\"dataframe\">\n",
              "  <thead>\n",
              "    <tr style=\"text-align: right;\">\n",
              "      <th></th>\n",
              "      <th>step</th>\n",
              "      <th>type</th>\n",
              "      <th>amount</th>\n",
              "      <th>nameOrig</th>\n",
              "      <th>oldbalanceOrg</th>\n",
              "      <th>newbalanceOrig</th>\n",
              "      <th>nameDest</th>\n",
              "      <th>oldbalanceDest</th>\n",
              "      <th>newbalanceDest</th>\n",
              "      <th>isFraud</th>\n",
              "      <th>isFlaggedFraud</th>\n",
              "      <th>day_of_month</th>\n",
              "      <th>week_of_month</th>\n",
              "      <th>hour_of_day</th>\n",
              "      <th>day_of_week</th>\n",
              "      <th>is_weekend</th>\n",
              "      <th>time_of_day</th>\n",
              "      <th>period_of_day</th>\n",
              "      <th>orig_type</th>\n",
              "      <th>dest_type</th>\n",
              "      <th>oldbalanceOrg_status</th>\n",
              "      <th>newbalanceOrig_status</th>\n",
              "      <th>oldbalanceDest_status</th>\n",
              "      <th>newbalanceDest_status</th>\n",
              "      <th>is_orig_equal_dest</th>\n",
              "      <th>is_oldbalanceOrg_higherthan_newbalanceOrig</th>\n",
              "      <th>is_oldbalanceDest_higherthan_newbalanceDest</th>\n",
              "      <th>transaction_direction</th>\n",
              "    </tr>\n",
              "  </thead>\n",
              "  <tbody>\n",
              "    <tr>\n",
              "      <th>0</th>\n",
              "      <td>1</td>\n",
              "      <td>PAYMENT</td>\n",
              "      <td>9839.64</td>\n",
              "      <td>C1231006815</td>\n",
              "      <td>170136.00</td>\n",
              "      <td>160296.36</td>\n",
              "      <td>M1979787155</td>\n",
              "      <td>0.00</td>\n",
              "      <td>0.00</td>\n",
              "      <td>0</td>\n",
              "      <td>no</td>\n",
              "      <td>1</td>\n",
              "      <td>1</td>\n",
              "      <td>0</td>\n",
              "      <td>1</td>\n",
              "      <td>yes</td>\n",
              "      <td>AM</td>\n",
              "      <td>Morning</td>\n",
              "      <td>Costumer</td>\n",
              "      <td>Merchant</td>\n",
              "      <td>non-zero</td>\n",
              "      <td>non-zero</td>\n",
              "      <td>zero</td>\n",
              "      <td>zero</td>\n",
              "      <td>no</td>\n",
              "      <td>yes</td>\n",
              "      <td>no</td>\n",
              "      <td>C2M</td>\n",
              "    </tr>\n",
              "    <tr>\n",
              "      <th>1</th>\n",
              "      <td>1</td>\n",
              "      <td>PAYMENT</td>\n",
              "      <td>1864.28</td>\n",
              "      <td>C1666544295</td>\n",
              "      <td>21249.00</td>\n",
              "      <td>19384.72</td>\n",
              "      <td>M2044282225</td>\n",
              "      <td>0.00</td>\n",
              "      <td>0.00</td>\n",
              "      <td>0</td>\n",
              "      <td>no</td>\n",
              "      <td>1</td>\n",
              "      <td>1</td>\n",
              "      <td>0</td>\n",
              "      <td>1</td>\n",
              "      <td>yes</td>\n",
              "      <td>AM</td>\n",
              "      <td>Morning</td>\n",
              "      <td>Costumer</td>\n",
              "      <td>Merchant</td>\n",
              "      <td>non-zero</td>\n",
              "      <td>non-zero</td>\n",
              "      <td>zero</td>\n",
              "      <td>zero</td>\n",
              "      <td>no</td>\n",
              "      <td>yes</td>\n",
              "      <td>no</td>\n",
              "      <td>C2M</td>\n",
              "    </tr>\n",
              "    <tr>\n",
              "      <th>2</th>\n",
              "      <td>1</td>\n",
              "      <td>TRANSFER</td>\n",
              "      <td>181.00</td>\n",
              "      <td>C1305486145</td>\n",
              "      <td>181.00</td>\n",
              "      <td>0.00</td>\n",
              "      <td>C553264065</td>\n",
              "      <td>0.00</td>\n",
              "      <td>0.00</td>\n",
              "      <td>1</td>\n",
              "      <td>no</td>\n",
              "      <td>1</td>\n",
              "      <td>1</td>\n",
              "      <td>0</td>\n",
              "      <td>1</td>\n",
              "      <td>yes</td>\n",
              "      <td>AM</td>\n",
              "      <td>Morning</td>\n",
              "      <td>Costumer</td>\n",
              "      <td>Costumer</td>\n",
              "      <td>non-zero</td>\n",
              "      <td>zero</td>\n",
              "      <td>zero</td>\n",
              "      <td>zero</td>\n",
              "      <td>no</td>\n",
              "      <td>yes</td>\n",
              "      <td>no</td>\n",
              "      <td>C2C</td>\n",
              "    </tr>\n",
              "    <tr>\n",
              "      <th>3</th>\n",
              "      <td>1</td>\n",
              "      <td>CASH_OUT</td>\n",
              "      <td>181.00</td>\n",
              "      <td>C840083671</td>\n",
              "      <td>181.00</td>\n",
              "      <td>0.00</td>\n",
              "      <td>C38997010</td>\n",
              "      <td>21182.00</td>\n",
              "      <td>0.00</td>\n",
              "      <td>1</td>\n",
              "      <td>no</td>\n",
              "      <td>1</td>\n",
              "      <td>1</td>\n",
              "      <td>0</td>\n",
              "      <td>1</td>\n",
              "      <td>yes</td>\n",
              "      <td>AM</td>\n",
              "      <td>Morning</td>\n",
              "      <td>Costumer</td>\n",
              "      <td>Costumer</td>\n",
              "      <td>non-zero</td>\n",
              "      <td>zero</td>\n",
              "      <td>non-zero</td>\n",
              "      <td>zero</td>\n",
              "      <td>no</td>\n",
              "      <td>yes</td>\n",
              "      <td>yes</td>\n",
              "      <td>C2C</td>\n",
              "    </tr>\n",
              "    <tr>\n",
              "      <th>4</th>\n",
              "      <td>1</td>\n",
              "      <td>PAYMENT</td>\n",
              "      <td>11668.14</td>\n",
              "      <td>C2048537720</td>\n",
              "      <td>41554.00</td>\n",
              "      <td>29885.86</td>\n",
              "      <td>M1230701703</td>\n",
              "      <td>0.00</td>\n",
              "      <td>0.00</td>\n",
              "      <td>0</td>\n",
              "      <td>no</td>\n",
              "      <td>1</td>\n",
              "      <td>1</td>\n",
              "      <td>0</td>\n",
              "      <td>1</td>\n",
              "      <td>yes</td>\n",
              "      <td>AM</td>\n",
              "      <td>Morning</td>\n",
              "      <td>Costumer</td>\n",
              "      <td>Merchant</td>\n",
              "      <td>non-zero</td>\n",
              "      <td>non-zero</td>\n",
              "      <td>zero</td>\n",
              "      <td>zero</td>\n",
              "      <td>no</td>\n",
              "      <td>yes</td>\n",
              "      <td>no</td>\n",
              "      <td>C2M</td>\n",
              "    </tr>\n",
              "    <tr>\n",
              "      <th>...</th>\n",
              "      <td>...</td>\n",
              "      <td>...</td>\n",
              "      <td>...</td>\n",
              "      <td>...</td>\n",
              "      <td>...</td>\n",
              "      <td>...</td>\n",
              "      <td>...</td>\n",
              "      <td>...</td>\n",
              "      <td>...</td>\n",
              "      <td>...</td>\n",
              "      <td>...</td>\n",
              "      <td>...</td>\n",
              "      <td>...</td>\n",
              "      <td>...</td>\n",
              "      <td>...</td>\n",
              "      <td>...</td>\n",
              "      <td>...</td>\n",
              "      <td>...</td>\n",
              "      <td>...</td>\n",
              "      <td>...</td>\n",
              "      <td>...</td>\n",
              "      <td>...</td>\n",
              "      <td>...</td>\n",
              "      <td>...</td>\n",
              "      <td>...</td>\n",
              "      <td>...</td>\n",
              "      <td>...</td>\n",
              "      <td>...</td>\n",
              "    </tr>\n",
              "    <tr>\n",
              "      <th>6362615</th>\n",
              "      <td>743</td>\n",
              "      <td>CASH_OUT</td>\n",
              "      <td>339682.13</td>\n",
              "      <td>C786484425</td>\n",
              "      <td>339682.13</td>\n",
              "      <td>0.00</td>\n",
              "      <td>C776919290</td>\n",
              "      <td>0.00</td>\n",
              "      <td>339682.13</td>\n",
              "      <td>1</td>\n",
              "      <td>no</td>\n",
              "      <td>31</td>\n",
              "      <td>5</td>\n",
              "      <td>22</td>\n",
              "      <td>3</td>\n",
              "      <td>no</td>\n",
              "      <td>PM</td>\n",
              "      <td>Evening</td>\n",
              "      <td>Costumer</td>\n",
              "      <td>Costumer</td>\n",
              "      <td>non-zero</td>\n",
              "      <td>zero</td>\n",
              "      <td>zero</td>\n",
              "      <td>non-zero</td>\n",
              "      <td>no</td>\n",
              "      <td>yes</td>\n",
              "      <td>no</td>\n",
              "      <td>C2C</td>\n",
              "    </tr>\n",
              "    <tr>\n",
              "      <th>6362616</th>\n",
              "      <td>743</td>\n",
              "      <td>TRANSFER</td>\n",
              "      <td>6311409.28</td>\n",
              "      <td>C1529008245</td>\n",
              "      <td>6311409.28</td>\n",
              "      <td>0.00</td>\n",
              "      <td>C1881841831</td>\n",
              "      <td>0.00</td>\n",
              "      <td>0.00</td>\n",
              "      <td>1</td>\n",
              "      <td>no</td>\n",
              "      <td>31</td>\n",
              "      <td>5</td>\n",
              "      <td>22</td>\n",
              "      <td>3</td>\n",
              "      <td>no</td>\n",
              "      <td>PM</td>\n",
              "      <td>Evening</td>\n",
              "      <td>Costumer</td>\n",
              "      <td>Costumer</td>\n",
              "      <td>non-zero</td>\n",
              "      <td>zero</td>\n",
              "      <td>zero</td>\n",
              "      <td>zero</td>\n",
              "      <td>no</td>\n",
              "      <td>yes</td>\n",
              "      <td>no</td>\n",
              "      <td>C2C</td>\n",
              "    </tr>\n",
              "    <tr>\n",
              "      <th>6362617</th>\n",
              "      <td>743</td>\n",
              "      <td>CASH_OUT</td>\n",
              "      <td>6311409.28</td>\n",
              "      <td>C1162922333</td>\n",
              "      <td>6311409.28</td>\n",
              "      <td>0.00</td>\n",
              "      <td>C1365125890</td>\n",
              "      <td>68488.84</td>\n",
              "      <td>6379898.11</td>\n",
              "      <td>1</td>\n",
              "      <td>no</td>\n",
              "      <td>31</td>\n",
              "      <td>5</td>\n",
              "      <td>22</td>\n",
              "      <td>3</td>\n",
              "      <td>no</td>\n",
              "      <td>PM</td>\n",
              "      <td>Evening</td>\n",
              "      <td>Costumer</td>\n",
              "      <td>Costumer</td>\n",
              "      <td>non-zero</td>\n",
              "      <td>zero</td>\n",
              "      <td>non-zero</td>\n",
              "      <td>non-zero</td>\n",
              "      <td>no</td>\n",
              "      <td>yes</td>\n",
              "      <td>no</td>\n",
              "      <td>C2C</td>\n",
              "    </tr>\n",
              "    <tr>\n",
              "      <th>6362618</th>\n",
              "      <td>743</td>\n",
              "      <td>TRANSFER</td>\n",
              "      <td>850002.52</td>\n",
              "      <td>C1685995037</td>\n",
              "      <td>850002.52</td>\n",
              "      <td>0.00</td>\n",
              "      <td>C2080388513</td>\n",
              "      <td>0.00</td>\n",
              "      <td>0.00</td>\n",
              "      <td>1</td>\n",
              "      <td>no</td>\n",
              "      <td>31</td>\n",
              "      <td>5</td>\n",
              "      <td>22</td>\n",
              "      <td>3</td>\n",
              "      <td>no</td>\n",
              "      <td>PM</td>\n",
              "      <td>Evening</td>\n",
              "      <td>Costumer</td>\n",
              "      <td>Costumer</td>\n",
              "      <td>non-zero</td>\n",
              "      <td>zero</td>\n",
              "      <td>zero</td>\n",
              "      <td>zero</td>\n",
              "      <td>no</td>\n",
              "      <td>yes</td>\n",
              "      <td>no</td>\n",
              "      <td>C2C</td>\n",
              "    </tr>\n",
              "    <tr>\n",
              "      <th>6362619</th>\n",
              "      <td>743</td>\n",
              "      <td>CASH_OUT</td>\n",
              "      <td>850002.52</td>\n",
              "      <td>C1280323807</td>\n",
              "      <td>850002.52</td>\n",
              "      <td>0.00</td>\n",
              "      <td>C873221189</td>\n",
              "      <td>6510099.11</td>\n",
              "      <td>7360101.63</td>\n",
              "      <td>1</td>\n",
              "      <td>no</td>\n",
              "      <td>31</td>\n",
              "      <td>5</td>\n",
              "      <td>22</td>\n",
              "      <td>3</td>\n",
              "      <td>no</td>\n",
              "      <td>PM</td>\n",
              "      <td>Evening</td>\n",
              "      <td>Costumer</td>\n",
              "      <td>Costumer</td>\n",
              "      <td>non-zero</td>\n",
              "      <td>zero</td>\n",
              "      <td>non-zero</td>\n",
              "      <td>non-zero</td>\n",
              "      <td>no</td>\n",
              "      <td>yes</td>\n",
              "      <td>no</td>\n",
              "      <td>C2C</td>\n",
              "    </tr>\n",
              "  </tbody>\n",
              "</table>\n",
              "<p>6362620 rows × 28 columns</p>\n",
              "</div>\n",
              "      <button class=\"colab-df-convert\" onclick=\"convertToInteractive('df-1122d746-6065-4c6e-8051-13243ccfb641')\"\n",
              "              title=\"Convert this dataframe to an interactive table.\"\n",
              "              style=\"display:none;\">\n",
              "        \n",
              "  <svg xmlns=\"http://www.w3.org/2000/svg\" height=\"24px\"viewBox=\"0 0 24 24\"\n",
              "       width=\"24px\">\n",
              "    <path d=\"M0 0h24v24H0V0z\" fill=\"none\"/>\n",
              "    <path d=\"M18.56 5.44l.94 2.06.94-2.06 2.06-.94-2.06-.94-.94-2.06-.94 2.06-2.06.94zm-11 1L8.5 8.5l.94-2.06 2.06-.94-2.06-.94L8.5 2.5l-.94 2.06-2.06.94zm10 10l.94 2.06.94-2.06 2.06-.94-2.06-.94-.94-2.06-.94 2.06-2.06.94z\"/><path d=\"M17.41 7.96l-1.37-1.37c-.4-.4-.92-.59-1.43-.59-.52 0-1.04.2-1.43.59L10.3 9.45l-7.72 7.72c-.78.78-.78 2.05 0 2.83L4 21.41c.39.39.9.59 1.41.59.51 0 1.02-.2 1.41-.59l7.78-7.78 2.81-2.81c.8-.78.8-2.07 0-2.86zM5.41 20L4 18.59l7.72-7.72 1.47 1.35L5.41 20z\"/>\n",
              "  </svg>\n",
              "      </button>\n",
              "      \n",
              "  <style>\n",
              "    .colab-df-container {\n",
              "      display:flex;\n",
              "      flex-wrap:wrap;\n",
              "      gap: 12px;\n",
              "    }\n",
              "\n",
              "    .colab-df-convert {\n",
              "      background-color: #E8F0FE;\n",
              "      border: none;\n",
              "      border-radius: 50%;\n",
              "      cursor: pointer;\n",
              "      display: none;\n",
              "      fill: #1967D2;\n",
              "      height: 32px;\n",
              "      padding: 0 0 0 0;\n",
              "      width: 32px;\n",
              "    }\n",
              "\n",
              "    .colab-df-convert:hover {\n",
              "      background-color: #E2EBFA;\n",
              "      box-shadow: 0px 1px 2px rgba(60, 64, 67, 0.3), 0px 1px 3px 1px rgba(60, 64, 67, 0.15);\n",
              "      fill: #174EA6;\n",
              "    }\n",
              "\n",
              "    [theme=dark] .colab-df-convert {\n",
              "      background-color: #3B4455;\n",
              "      fill: #D2E3FC;\n",
              "    }\n",
              "\n",
              "    [theme=dark] .colab-df-convert:hover {\n",
              "      background-color: #434B5C;\n",
              "      box-shadow: 0px 1px 3px 1px rgba(0, 0, 0, 0.15);\n",
              "      filter: drop-shadow(0px 1px 2px rgba(0, 0, 0, 0.3));\n",
              "      fill: #FFFFFF;\n",
              "    }\n",
              "  </style>\n",
              "\n",
              "      <script>\n",
              "        const buttonEl =\n",
              "          document.querySelector('#df-1122d746-6065-4c6e-8051-13243ccfb641 button.colab-df-convert');\n",
              "        buttonEl.style.display =\n",
              "          google.colab.kernel.accessAllowed ? 'block' : 'none';\n",
              "\n",
              "        async function convertToInteractive(key) {\n",
              "          const element = document.querySelector('#df-1122d746-6065-4c6e-8051-13243ccfb641');\n",
              "          const dataTable =\n",
              "            await google.colab.kernel.invokeFunction('convertToInteractive',\n",
              "                                                     [key], {});\n",
              "          if (!dataTable) return;\n",
              "\n",
              "          const docLinkHtml = 'Like what you see? Visit the ' +\n",
              "            '<a target=\"_blank\" href=https://colab.research.google.com/notebooks/data_table.ipynb>data table notebook</a>'\n",
              "            + ' to learn more about interactive tables.';\n",
              "          element.innerHTML = '';\n",
              "          dataTable['output_type'] = 'display_data';\n",
              "          await google.colab.output.renderOutput(dataTable, element);\n",
              "          const docLink = document.createElement('div');\n",
              "          docLink.innerHTML = docLinkHtml;\n",
              "          element.appendChild(docLink);\n",
              "        }\n",
              "      </script>\n",
              "    </div>\n",
              "  </div>\n",
              "  "
            ],
            "text/plain": [
              "         step      type      amount     nameOrig  oldbalanceOrg  \\\n",
              "0           1   PAYMENT     9839.64  C1231006815      170136.00   \n",
              "1           1   PAYMENT     1864.28  C1666544295       21249.00   \n",
              "2           1  TRANSFER      181.00  C1305486145         181.00   \n",
              "3           1  CASH_OUT      181.00   C840083671         181.00   \n",
              "4           1   PAYMENT    11668.14  C2048537720       41554.00   \n",
              "...       ...       ...         ...          ...            ...   \n",
              "6362615   743  CASH_OUT   339682.13   C786484425      339682.13   \n",
              "6362616   743  TRANSFER  6311409.28  C1529008245     6311409.28   \n",
              "6362617   743  CASH_OUT  6311409.28  C1162922333     6311409.28   \n",
              "6362618   743  TRANSFER   850002.52  C1685995037      850002.52   \n",
              "6362619   743  CASH_OUT   850002.52  C1280323807      850002.52   \n",
              "\n",
              "         newbalanceOrig     nameDest  oldbalanceDest  newbalanceDest  isFraud  \\\n",
              "0             160296.36  M1979787155            0.00            0.00        0   \n",
              "1              19384.72  M2044282225            0.00            0.00        0   \n",
              "2                  0.00   C553264065            0.00            0.00        1   \n",
              "3                  0.00    C38997010        21182.00            0.00        1   \n",
              "4              29885.86  M1230701703            0.00            0.00        0   \n",
              "...                 ...          ...             ...             ...      ...   \n",
              "6362615            0.00   C776919290            0.00       339682.13        1   \n",
              "6362616            0.00  C1881841831            0.00            0.00        1   \n",
              "6362617            0.00  C1365125890        68488.84      6379898.11        1   \n",
              "6362618            0.00  C2080388513            0.00            0.00        1   \n",
              "6362619            0.00   C873221189      6510099.11      7360101.63        1   \n",
              "\n",
              "        isFlaggedFraud  day_of_month  week_of_month  hour_of_day  day_of_week  \\\n",
              "0                   no             1              1            0            1   \n",
              "1                   no             1              1            0            1   \n",
              "2                   no             1              1            0            1   \n",
              "3                   no             1              1            0            1   \n",
              "4                   no             1              1            0            1   \n",
              "...                ...           ...            ...          ...          ...   \n",
              "6362615             no            31              5           22            3   \n",
              "6362616             no            31              5           22            3   \n",
              "6362617             no            31              5           22            3   \n",
              "6362618             no            31              5           22            3   \n",
              "6362619             no            31              5           22            3   \n",
              "\n",
              "        is_weekend time_of_day period_of_day orig_type dest_type  \\\n",
              "0              yes          AM       Morning  Costumer  Merchant   \n",
              "1              yes          AM       Morning  Costumer  Merchant   \n",
              "2              yes          AM       Morning  Costumer  Costumer   \n",
              "3              yes          AM       Morning  Costumer  Costumer   \n",
              "4              yes          AM       Morning  Costumer  Merchant   \n",
              "...            ...         ...           ...       ...       ...   \n",
              "6362615         no          PM       Evening  Costumer  Costumer   \n",
              "6362616         no          PM       Evening  Costumer  Costumer   \n",
              "6362617         no          PM       Evening  Costumer  Costumer   \n",
              "6362618         no          PM       Evening  Costumer  Costumer   \n",
              "6362619         no          PM       Evening  Costumer  Costumer   \n",
              "\n",
              "        oldbalanceOrg_status newbalanceOrig_status oldbalanceDest_status  \\\n",
              "0                   non-zero              non-zero                  zero   \n",
              "1                   non-zero              non-zero                  zero   \n",
              "2                   non-zero                  zero                  zero   \n",
              "3                   non-zero                  zero              non-zero   \n",
              "4                   non-zero              non-zero                  zero   \n",
              "...                      ...                   ...                   ...   \n",
              "6362615             non-zero                  zero                  zero   \n",
              "6362616             non-zero                  zero                  zero   \n",
              "6362617             non-zero                  zero              non-zero   \n",
              "6362618             non-zero                  zero                  zero   \n",
              "6362619             non-zero                  zero              non-zero   \n",
              "\n",
              "        newbalanceDest_status is_orig_equal_dest  \\\n",
              "0                        zero                 no   \n",
              "1                        zero                 no   \n",
              "2                        zero                 no   \n",
              "3                        zero                 no   \n",
              "4                        zero                 no   \n",
              "...                       ...                ...   \n",
              "6362615              non-zero                 no   \n",
              "6362616                  zero                 no   \n",
              "6362617              non-zero                 no   \n",
              "6362618                  zero                 no   \n",
              "6362619              non-zero                 no   \n",
              "\n",
              "        is_oldbalanceOrg_higherthan_newbalanceOrig  \\\n",
              "0                                              yes   \n",
              "1                                              yes   \n",
              "2                                              yes   \n",
              "3                                              yes   \n",
              "4                                              yes   \n",
              "...                                            ...   \n",
              "6362615                                        yes   \n",
              "6362616                                        yes   \n",
              "6362617                                        yes   \n",
              "6362618                                        yes   \n",
              "6362619                                        yes   \n",
              "\n",
              "        is_oldbalanceDest_higherthan_newbalanceDest transaction_direction  \n",
              "0                                                no                   C2M  \n",
              "1                                                no                   C2M  \n",
              "2                                                no                   C2C  \n",
              "3                                               yes                   C2C  \n",
              "4                                                no                   C2M  \n",
              "...                                             ...                   ...  \n",
              "6362615                                          no                   C2C  \n",
              "6362616                                          no                   C2C  \n",
              "6362617                                          no                   C2C  \n",
              "6362618                                          no                   C2C  \n",
              "6362619                                          no                   C2C  \n",
              "\n",
              "[6362620 rows x 28 columns]"
            ]
          },
          "metadata": {},
          "execution_count": 53
        }
      ],
      "source": [
        "df"
      ]
    },
    {
      "cell_type": "markdown",
      "id": "f887bc86",
      "metadata": {
        "heading_collapsed": true,
        "hidden": true,
        "id": "f887bc86"
      },
      "source": [
        "## 2.2 hypothesis to be validated"
      ]
    },
    {
      "cell_type": "code",
      "execution_count": null,
      "id": "a384aa9a",
      "metadata": {
        "hidden": true,
        "id": "a384aa9a"
      },
      "outputs": [],
      "source": [
        "# Fazer os plots\n",
        "\n",
        "# Fraudes por dia da semana\n",
        "\n",
        "# Fraudes por horário do dia\n",
        "\n",
        "# Fraudes por semana do mês\n",
        "\n",
        "# Fraudes por 'is_weekend' (final de semana)\n",
        "\n",
        "\n",
        "# Fraudes por tipo de transação\n"
      ]
    },
    {
      "cell_type": "code",
      "source": [
        ""
      ],
      "metadata": {
        "id": "HeiQCI5kDkmT"
      },
      "id": "HeiQCI5kDkmT",
      "execution_count": null,
      "outputs": []
    },
    {
      "cell_type": "code",
      "execution_count": null,
      "id": "494354d1",
      "metadata": {
        "hidden": true,
        "id": "494354d1"
      },
      "outputs": [],
      "source": [
        ""
      ]
    },
    {
      "cell_type": "markdown",
      "metadata": {
        "heading_collapsed": true,
        "id": "oxrKQ07qX7AQ"
      },
      "source": [
        "# Data Preparation"
      ],
      "id": "oxrKQ07qX7AQ"
    },
    {
      "cell_type": "markdown",
      "metadata": {
        "heading_collapsed": true,
        "id": "JM-x4_NbYIZv"
      },
      "source": [
        "# Feature Selection"
      ],
      "id": "JM-x4_NbYIZv"
    },
    {
      "cell_type": "markdown",
      "metadata": {
        "heading_collapsed": true,
        "id": "NPrrd5f5YLy9"
      },
      "source": [
        "# Machine Learning"
      ],
      "id": "NPrrd5f5YLy9"
    },
    {
      "cell_type": "markdown",
      "id": "303d5231",
      "metadata": {
        "heading_collapsed": true,
        "id": "303d5231"
      },
      "source": [
        "# <font face=\"Arial\" color=\"red\">Racunhos</font>"
      ]
    },
    {
      "cell_type": "code",
      "execution_count": null,
      "id": "dbac0e64",
      "metadata": {
        "hidden": true,
        "id": "dbac0e64"
      },
      "outputs": [],
      "source": [
        "# LEMBRETES GERAIS:\n",
        "\n",
        "# eliminar dados duplicados - OK\n",
        "\n",
        "# fazer teste de hipótese (teste t) na análise bivariada\n",
        "\n",
        "\n",
        "# Checklist geral: ==================================================================\n",
        "\n",
        "\n",
        "# Limpeza dos dados - OK\n",
        "\n",
        "# Substituicao de dados faltantes - OK\n",
        "\n",
        "# Criacao de features para modelar o fenomeno\n",
        "\n",
        "# Desbalanceamento dos dados\n",
        "\n",
        "# Escala dos dados\n",
        "\n",
        "# Selecao de features\n",
        "\n",
        "# Vies do modelo\n",
        "\n",
        "\n",
        "\n",
        "# Limitações do projeto: =============================================================\n",
        "\n",
        "\n",
        "# Dataset de apenas 1 mês (comportamento de fraude de diferentes meses não capturado)\n",
        "\n"
      ]
    }
  ],
  "metadata": {
    "kernelspec": {
      "display_name": "Python 3 (ipykernel)",
      "language": "python",
      "name": "python3"
    },
    "language_info": {
      "codemirror_mode": {
        "name": "ipython",
        "version": 3
      },
      "file_extension": ".py",
      "mimetype": "text/x-python",
      "name": "python",
      "nbconvert_exporter": "python",
      "pygments_lexer": "ipython3",
      "version": "3.8.0"
    },
    "colab": {
      "name": "notebook_main.ipynb",
      "provenance": [],
      "collapsed_sections": [
        "9d8f37a6",
        "8d62bb02",
        "556e228c",
        "a3d8bcaf",
        "973356d4",
        "32500af3",
        "Ec58SOonsROB",
        "J70lo6JdsXRu",
        "82ab2d45",
        "ee1653cd",
        "f887bc86",
        "303d5231"
      ],
      "toc_visible": true
    }
  },
  "nbformat": 4,
  "nbformat_minor": 5
}