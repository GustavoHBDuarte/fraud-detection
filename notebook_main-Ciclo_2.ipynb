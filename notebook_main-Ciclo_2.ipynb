{
 "cells": [
  {
   "cell_type": "markdown",
   "id": "f86c97e0",
   "metadata": {},
   "source": [
    "In this notebook named 'Ciclo_2' we are going to adress the main notebook's issue where the frequency encoder required by 'nameDest' column demands high memory usage of Heroku cloud, causing error when trying to acesses model's predictions. Here we will evaluate wheter the removal of this feature compromises model's performance. Therefore, we removed most of the subtopics discussed in main notebook, going straight to the point where we retrain and evaluate the new model."
   ]
  },
  {
   "cell_type": "markdown",
   "id": "8d62bb02",
   "metadata": {
    "heading_collapsed": true,
    "id": "8d62bb02"
   },
   "source": [
    "# <font face=\"Arial\" color=\"green\">Library Imports</font>"
   ]
  },
  {
   "cell_type": "code",
   "execution_count": 2,
   "id": "496f9858",
   "metadata": {
    "ExecuteTime": {
     "end_time": "2022-02-05T18:08:47.153290Z",
     "start_time": "2022-02-05T18:08:44.950804Z"
    },
    "hidden": true,
    "id": "496f9858"
   },
   "outputs": [],
   "source": [
    "import time\n",
    "import warnings\n",
    "import random\n",
    "import requests\n",
    "import pickle\n",
    "import bz2\n",
    "import _pickle                   as cPickle\n",
    "import pandas                    as pd\n",
    "import numpy                     as np\n",
    "import matplotlib.pyplot         as plt\n",
    "import seaborn                   as sns\n",
    "import scipy.stats               as stats\n",
    "import xgboost                   as xgb\n",
    "\n",
    "from math                        import ceil\n",
    "from math                        import floor\n",
    "from IPython.display             import Image\n",
    "from sklearn.model_selection     import train_test_split, StratifiedKFold, cross_val_score\n",
    "from sklearn.preprocessing       import RobustScaler, LabelEncoder\n",
    "from sklearn.ensemble            import RandomForestClassifier\n",
    "from sklearn.linear_model        import LogisticRegression\n",
    "from sklearn.neighbors           import KNeighborsClassifier\n",
    "from sklearn                     import metrics\n",
    "from boruta                      import BorutaPy\n",
    "\n",
    "from pycorrcat.pycorrcat         import plot_corr, corr_matrix\n",
    "\n",
    "warnings.filterwarnings(\"ignore\")"
   ]
  },
  {
   "cell_type": "markdown",
   "id": "556e228c",
   "metadata": {
    "heading_collapsed": true,
    "id": "556e228c"
   },
   "source": [
    "# <font face=\"Arial\" color=\"green\">Helper functions</font>"
   ]
  },
  {
   "cell_type": "code",
   "execution_count": 3,
   "id": "ac5d74a4",
   "metadata": {
    "ExecuteTime": {
     "end_time": "2022-02-05T18:08:49.017590Z",
     "start_time": "2022-02-05T18:08:49.011879Z"
    },
    "hidden": true,
    "id": "ac5d74a4"
   },
   "outputs": [],
   "source": [
    "def jupyter_settings():\n",
    "    \n",
    "    pd.options.display.max_columns = None   \n",
    "    \n",
    "\n",
    "\n",
    "warnings.filterwarnings(\"ignore\")\n",
    "jupyter_settings()\n",
    "\n",
    "\n",
    "\n",
    "def get_model_metrics(model_name, model, X_train, y_train, X_test, y_test):\n",
    "    \n",
    "    \n",
    "\n",
    "    inst_model = model.fit(X_train, y_train)\n",
    "\n",
    "\n",
    "    y_pred = inst_model.predict(X_test)\n",
    "\n",
    "\n",
    "    # Metrics:\n",
    "\n",
    "\n",
    "\n",
    "    # Accuracy\n",
    "\n",
    "    print('Accuracy: {}\\n'.format(round(metrics.accuracy_score(y_test, y_pred),3)))\n",
    "\n",
    "\n",
    "    # Balanced Accuracy\n",
    "\n",
    "    print('Balanced Accuracy: {}\\n'.format(round(metrics.balanced_accuracy_score(y_test, y_pred),3)))\n",
    "\n",
    "\n",
    "    # AUC ROC\n",
    "\n",
    "\n",
    "    # fpr, tpr, thresholds = metrics.roc_curve(y_test, y_pred, pos_label=1) <- sintax\n",
    "\n",
    "    fpr, tpr, thresholds = metrics.roc_curve(y_test, \n",
    "                                             np.array([i[1] for i in inst_model.predict_proba(X_test)]), \n",
    "                                             pos_label=1)\n",
    "\n",
    "    metrics.auc(fpr, tpr)\n",
    "\n",
    "    print('AUC-ROC: {}\\n'.format(round(metrics.auc(fpr, tpr),3)))\n",
    "\n",
    "\n",
    "    # Classification report\n",
    "\n",
    "    print('Classification report:\\n\\n {}\\n'.format(metrics.classification_report(y_test, y_pred)))\n",
    "\n",
    "\n",
    "    # Gathering metrics for this estimator\n",
    "\n",
    "    inst_model_accuracy = metrics.accuracy_score(y_test, y_pred)\n",
    "\n",
    "    inst_model_bal_accuracy = metrics.balanced_accuracy_score(y_test, y_pred)\n",
    "\n",
    "    inst_model_auc = metrics.auc(fpr, tpr)\n",
    "\n",
    "    inst_model_precision = metrics.precision_score(y_test, y_pred)\n",
    "\n",
    "    inst_model_f1 = metrics.f1_score(y_test, y_pred)\n",
    "\n",
    "    inst_model_recall = metrics.recall_score(y_test, y_pred)\n",
    "    \n",
    "    \n",
    "    \n",
    "    # Getting df\n",
    "    \n",
    "    \n",
    "    df = pd.DataFrame(data=[model_name, inst_model_accuracy,\n",
    "                            inst_model_bal_accuracy, \n",
    "                            inst_model_auc, \n",
    "                            inst_model_precision, \n",
    "                            inst_model_f1, \n",
    "                            inst_model_recall]).transpose()\n",
    "\n",
    "    df.columns = ['Model name', 'Accuracy', 'Balanced Accuracy', 'AUC', 'Precision', 'F1-score', 'Recall']\n",
    "    \n",
    "    return df    "
   ]
  },
  {
   "cell_type": "markdown",
   "id": "NPrrd5f5YLy9",
   "metadata": {
    "heading_collapsed": true,
    "id": "NPrrd5f5YLy9"
   },
   "source": [
    "# 7- Machine Learning"
   ]
  },
  {
   "cell_type": "code",
   "execution_count": 18,
   "id": "2c79b493",
   "metadata": {
    "ExecuteTime": {
     "end_time": "2022-02-05T18:49:57.723533Z",
     "start_time": "2022-02-05T18:49:55.463497Z"
    },
    "hidden": true,
    "id": "pT9kNqT7wFys"
   },
   "outputs": [],
   "source": [
    "# Loading stored scaled train dataset\n",
    "\n",
    "X_train = pickle.load(open('/mnt/d/Gustavo/fraud-detection/X_train.pkl', 'rb'))\n",
    "\n",
    "y_train = pickle.load(open('/mnt/d/Gustavo/fraud-detection/y_train.pkl', 'rb'))\n",
    "\n",
    "X_test = pickle.load(open('/mnt/d/Gustavo/fraud-detection/X_test.pkl', 'rb'))\n",
    "\n",
    "y_test = pickle.load(open('/mnt/d/Gustavo/fraud-detection/y_test.pkl', 'rb'))\n"
   ]
  },
  {
   "cell_type": "code",
   "execution_count": 19,
   "id": "a6748b36",
   "metadata": {
    "ExecuteTime": {
     "end_time": "2022-02-05T18:50:01.240604Z",
     "start_time": "2022-02-05T18:50:01.235454Z"
    },
    "hidden": true
   },
   "outputs": [
    {
     "name": "stdout",
     "output_type": "stream",
     "text": [
      "Features selected by Boruta:\n",
      " ['step', 'type', 'amount', 'oldbalanceOrg', 'nameDest', 'oldbalanceDest', 'newbalanceDest', 'day_of_month', 'oldbalanceDest_status_non-zero', 'newbalanceDest_status_non-zero', 'newbalanceDest_status_zero', 'hour_of_day_sin', 'hour_of_day_cos']\n",
      "\n",
      "\n",
      "Features not selected by Boruta:\n",
      " ['period_of_day_cos', 'time_of_day_AM', 'is_weekend_weekdays', 'period_of_day_sin', 'dest_type_Costumer', 'oldbalanceOrg_status_zero', 'isFlaggedFraud_yes', 'day_of_week_sin', 'newbalanceOrig', 'time_of_day_PM', 'is_oldbalanceDest_higherthan_newbalanceDest_no', 'isFlaggedFraud_no', 'newbalanceOrig_status_zero', 'week_of_month', 'transaction_direction_C2C', 'is_weekend_weekend', 'dest_type_Merchant', 'is_oldbalanceOrg_higherthan_newbalanceOrig_yes', 'is_oldbalanceDest_higherthan_newbalanceDest_yes', 'newbalanceOrig_status_non-zero', 'oldbalanceOrg_status_non-zero', 'is_oldbalanceOrg_higherthan_newbalanceOrig_no', 'transaction_direction_C2M', 'day_of_week_cos', 'oldbalanceDest_status_zero']\n"
     ]
    }
   ],
   "source": [
    "print(\"Features selected by Boruta:\\n ['step', 'type', 'amount', 'oldbalanceOrg', 'nameDest', 'oldbalanceDest', 'newbalanceDest', 'day_of_month', 'oldbalanceDest_status_non-zero', 'newbalanceDest_status_non-zero', 'newbalanceDest_status_zero', 'hour_of_day_sin', 'hour_of_day_cos']\")\n",
    "print('\\n')\n",
    "print(\"Features not selected by Boruta:\\n ['period_of_day_cos', 'time_of_day_AM', 'is_weekend_weekdays', 'period_of_day_sin', 'dest_type_Costumer', 'oldbalanceOrg_status_zero', 'isFlaggedFraud_yes', 'day_of_week_sin', 'newbalanceOrig', 'time_of_day_PM', 'is_oldbalanceDest_higherthan_newbalanceDest_no', 'isFlaggedFraud_no', 'newbalanceOrig_status_zero', 'week_of_month', 'transaction_direction_C2C', 'is_weekend_weekend', 'dest_type_Merchant', 'is_oldbalanceOrg_higherthan_newbalanceOrig_yes', 'is_oldbalanceDest_higherthan_newbalanceDest_yes', 'newbalanceOrig_status_non-zero', 'oldbalanceOrg_status_non-zero', 'is_oldbalanceOrg_higherthan_newbalanceOrig_no', 'transaction_direction_C2M', 'day_of_week_cos', 'oldbalanceDest_status_zero']\")"
   ]
  },
  {
   "cell_type": "code",
   "execution_count": 20,
   "id": "71ff23e1",
   "metadata": {
    "ExecuteTime": {
     "end_time": "2022-02-05T18:50:15.523294Z",
     "start_time": "2022-02-05T18:50:15.247252Z"
    },
    "hidden": true
   },
   "outputs": [],
   "source": [
    "# Columns selected by Boruta (column nameDest removed - frequency encoder requires too much from Heroku)\n",
    "\n",
    "cols_selected_boruta = X_train.loc[:, [True, True, True, True, False, False, True, True, True, False, False, False,\n",
    "                                       False, False, False, False, False, False, False, False, False, False, True,\n",
    "                                       False, True, True, False, False, False, False, False, False, True, True,\n",
    "                                       False, False, False, False]].columns.tolist()"
   ]
  },
  {
   "cell_type": "code",
   "execution_count": 21,
   "id": "81be5ac4",
   "metadata": {
    "ExecuteTime": {
     "end_time": "2022-02-05T18:50:41.688051Z",
     "start_time": "2022-02-05T18:50:40.939727Z"
    },
    "hidden": true
   },
   "outputs": [],
   "source": [
    "# Defining datasets with Boruta-selected features (without 'NameDest column')\n",
    "\n",
    "\n",
    "# X_train\n",
    "X_train_boruta = X_train[cols_selected_boruta].copy()\n",
    "\n",
    "\n",
    "# X_test\n",
    "X_test_boruta = X_test[cols_selected_boruta].copy()\n",
    "\n"
   ]
  },
  {
   "cell_type": "markdown",
   "id": "3a401eb4",
   "metadata": {
    "heading_collapsed": true,
    "hidden": true
   },
   "source": [
    "## <font face=\"Arial\" color=\"gray\">7.1 Baseline model</font>"
   ]
  },
  {
   "cell_type": "code",
   "execution_count": 154,
   "id": "a6e2404e",
   "metadata": {
    "ExecuteTime": {
     "end_time": "2022-01-29T17:30:14.117265Z",
     "start_time": "2022-01-29T17:30:07.417479Z"
    },
    "hidden": true,
    "scrolled": true
   },
   "outputs": [
    {
     "name": "stdout",
     "output_type": "stream",
     "text": [
      "Accuracy: 0.997\n",
      "\n",
      "Balanced Accuracy: 0.5\n",
      "\n",
      "AUC-ROC: 0.5\n",
      "\n",
      "Classification report:\n",
      "\n",
      "               precision    recall  f1-score   support\n",
      "\n",
      "           0       1.00      1.00      1.00   2096999\n",
      "           1       0.00      0.00      0.00      2666\n",
      "\n",
      "    accuracy                           1.00   2099665\n",
      "   macro avg       0.50      0.50      0.50   2099665\n",
      "weighted avg       1.00      1.00      1.00   2099665\n",
      "\n"
     ]
    },
    {
     "data": {
      "text/html": [
       "<div>\n",
       "<style scoped>\n",
       "    .dataframe tbody tr th:only-of-type {\n",
       "        vertical-align: middle;\n",
       "    }\n",
       "\n",
       "    .dataframe tbody tr th {\n",
       "        vertical-align: top;\n",
       "    }\n",
       "\n",
       "    .dataframe thead th {\n",
       "        text-align: right;\n",
       "    }\n",
       "</style>\n",
       "<table border=\"1\" class=\"dataframe\">\n",
       "  <thead>\n",
       "    <tr style=\"text-align: right;\">\n",
       "      <th></th>\n",
       "      <th>Model name</th>\n",
       "      <th>Accuracy</th>\n",
       "      <th>Balanced Accuracy</th>\n",
       "      <th>AUC</th>\n",
       "      <th>Precision</th>\n",
       "      <th>F1-score</th>\n",
       "      <th>Recall</th>\n",
       "    </tr>\n",
       "  </thead>\n",
       "  <tbody>\n",
       "    <tr>\n",
       "      <th>0</th>\n",
       "      <td>Baseline Model</td>\n",
       "      <td>0.997404</td>\n",
       "      <td>0.499523</td>\n",
       "      <td>0.499523</td>\n",
       "      <td>0.000359</td>\n",
       "      <td>0.000367</td>\n",
       "      <td>0.000375</td>\n",
       "    </tr>\n",
       "  </tbody>\n",
       "</table>\n",
       "</div>"
      ],
      "text/plain": [
       "       Model name  Accuracy Balanced Accuracy       AUC Precision  F1-score  \\\n",
       "0  Baseline Model  0.997404          0.499523  0.499523  0.000359  0.000367   \n",
       "\n",
       "     Recall  \n",
       "0  0.000375  "
      ]
     },
     "execution_count": 154,
     "metadata": {},
     "output_type": "execute_result"
    }
   ],
   "source": [
    "# Random model - setting\n",
    "\n",
    "target_variables_list = y_train.unique().tolist() # target variables (class 0=non-Fraud, 1=Fraud)\n",
    "\n",
    "k_num = y_test.shape[0] # k number of values to sample from (number of rows in y_test)\n",
    "\n",
    "class_weights = y_test.value_counts(normalize=True).tolist() # proportion of samples of each class\n",
    "\n",
    "\n",
    "# Random model\n",
    "\n",
    "y_pred = random.choices(population=target_variables_list , weights=class_weights, k=k_num)\n",
    "\n",
    "\n",
    "# Metrics: ========================================================================\n",
    "\n",
    "print('Accuracy: {}\\n'.format(round(metrics.accuracy_score(y_test, y_pred),3)))\n",
    "\n",
    "print('Balanced Accuracy: {}\\n'.format(round(metrics.balanced_accuracy_score(y_test, y_pred),3)))\n",
    "\n",
    "\n",
    "# AUC ROC\n",
    "\n",
    "\n",
    "# fpr, tpr, thresholds = metrics.roc_curve(y_test, y_pred, pos_label=1) <- sintax\n",
    "\n",
    "fpr, tpr, thresholds = metrics.roc_curve(y_test, \n",
    "                                         np.array(y_pred), \n",
    "                                         pos_label=1)\n",
    "\n",
    "metrics.auc(fpr, tpr)\n",
    "\n",
    "print('AUC-ROC: {}\\n'.format(round(metrics.auc(fpr, tpr),3)))\n",
    "\n",
    "\n",
    "\n",
    "\n",
    "print('Classification report:\\n\\n {}'.format(metrics.classification_report(y_test, y_pred)))\n",
    "\n",
    "\n",
    "# Gathering metrics for this estimator =============================================\n",
    "\n",
    "baseline_accuracy = metrics.accuracy_score(y_test, y_pred)\n",
    "\n",
    "baseline_bal_accuracy = metrics.balanced_accuracy_score(y_test, y_pred)\n",
    "\n",
    "baseline_auc = metrics.auc(fpr, tpr)\n",
    "\n",
    "baseline_precision = metrics.precision_score(y_test, y_pred)\n",
    "\n",
    "baseline_f1 = metrics.f1_score(y_test, y_pred)\n",
    "\n",
    "baseline_recall = metrics.recall_score(y_test, y_pred)\n",
    "\n",
    "\n",
    "\n",
    "df_baseline = pd.DataFrame(data=['Baseline Model', baseline_accuracy, baseline_bal_accuracy, baseline_auc, baseline_precision, baseline_f1, baseline_recall]).transpose()\n",
    "\n",
    "df_baseline.columns = ['Model name', 'Accuracy', 'Balanced Accuracy', 'AUC', 'Precision', 'F1-score', 'Recall']\n",
    "\n",
    "df_baseline"
   ]
  },
  {
   "cell_type": "markdown",
   "id": "15ce7250",
   "metadata": {
    "heading_collapsed": true,
    "hidden": true
   },
   "source": [
    "## <font face=\"Arial\" color=\"gray\">7.4 XGBoost</font>"
   ]
  },
  {
   "cell_type": "code",
   "execution_count": 159,
   "id": "2541cff4",
   "metadata": {
    "ExecuteTime": {
     "end_time": "2022-01-29T17:54:38.046880Z",
     "start_time": "2022-01-29T17:51:09.331707Z"
    },
    "hidden": true,
    "scrolled": false
   },
   "outputs": [
    {
     "name": "stdout",
     "output_type": "stream",
     "text": [
      "Accuracy: 1.0\n",
      "\n",
      "Balanced Accuracy: 0.913\n",
      "\n",
      "AUC-ROC: 0.998\n",
      "\n",
      "Classification report:\n",
      "\n",
      "               precision    recall  f1-score   support\n",
      "\n",
      "           0       1.00      1.00      1.00   2096999\n",
      "           1       0.99      0.83      0.90      2666\n",
      "\n",
      "    accuracy                           1.00   2099665\n",
      "   macro avg       0.99      0.91      0.95   2099665\n",
      "weighted avg       1.00      1.00      1.00   2099665\n",
      "\n",
      "\n"
     ]
    },
    {
     "data": {
      "text/html": [
       "<div>\n",
       "<style scoped>\n",
       "    .dataframe tbody tr th:only-of-type {\n",
       "        vertical-align: middle;\n",
       "    }\n",
       "\n",
       "    .dataframe tbody tr th {\n",
       "        vertical-align: top;\n",
       "    }\n",
       "\n",
       "    .dataframe thead th {\n",
       "        text-align: right;\n",
       "    }\n",
       "</style>\n",
       "<table border=\"1\" class=\"dataframe\">\n",
       "  <thead>\n",
       "    <tr style=\"text-align: right;\">\n",
       "      <th></th>\n",
       "      <th>Model name</th>\n",
       "      <th>Accuracy</th>\n",
       "      <th>Balanced Accuracy</th>\n",
       "      <th>AUC</th>\n",
       "      <th>Precision</th>\n",
       "      <th>F1-score</th>\n",
       "      <th>Recall</th>\n",
       "    </tr>\n",
       "  </thead>\n",
       "  <tbody>\n",
       "    <tr>\n",
       "      <th>0</th>\n",
       "      <td>XG Boost</td>\n",
       "      <td>0.999763</td>\n",
       "      <td>0.912596</td>\n",
       "      <td>0.998484</td>\n",
       "      <td>0.986105</td>\n",
       "      <td>0.898509</td>\n",
       "      <td>0.825206</td>\n",
       "    </tr>\n",
       "  </tbody>\n",
       "</table>\n",
       "</div>"
      ],
      "text/plain": [
       "  Model name  Accuracy Balanced Accuracy       AUC Precision  F1-score  \\\n",
       "0   XG Boost  0.999763          0.912596  0.998484  0.986105  0.898509   \n",
       "\n",
       "     Recall  \n",
       "0  0.825206  "
      ]
     },
     "execution_count": 159,
     "metadata": {},
     "output_type": "execute_result"
    }
   ],
   "source": [
    "\n",
    "\n",
    "model_name = 'XG Boost'\n",
    "\n",
    "model = xgb.XGBClassifier(objective='binary:logistic',\n",
    "                            n_estimators=100,\n",
    "                            max_depth=10,\n",
    "                            tree_method='exact',\n",
    "                            n_jobs=-1,\n",
    "                            random_state=42)\n",
    "\n",
    "\n",
    "df_xgb = get_model_metrics(model_name, model, X_train_boruta, y_train, X_test_boruta, y_test)\n",
    "\n",
    "\n",
    "df_xgb"
   ]
  },
  {
   "cell_type": "code",
   "execution_count": 160,
   "id": "9dc19703",
   "metadata": {
    "ExecuteTime": {
     "end_time": "2022-01-29T17:54:59.489974Z",
     "start_time": "2022-01-29T17:54:59.355580Z"
    },
    "hidden": true
   },
   "outputs": [
    {
     "data": {
      "text/plain": [
       "<AxesSubplot:title={'center':'Feature importance'}, xlabel='F score', ylabel='Features'>"
      ]
     },
     "execution_count": 160,
     "metadata": {},
     "output_type": "execute_result"
    },
    {
     "data": {
      "image/png": "[encoded data removed]",
      "text/plain": [
       "<Figure size 432x288 with 1 Axes>"
      ]
     },
     "metadata": {
      "needs_background": "light"
     },
     "output_type": "display_data"
    }
   ],
   "source": [
    "xgb.plot_importance(model)"
   ]
  },
  {
   "cell_type": "code",
   "execution_count": 9,
   "id": "62e040a5",
   "metadata": {
    "ExecuteTime": {
     "end_time": "2022-02-05T01:03:22.611018Z",
     "start_time": "2022-02-05T00:59:56.260950Z"
    },
    "hidden": true,
    "hide_input": true,
    "scrolled": false
   },
   "outputs": [
    {
     "name": "stdout",
     "output_type": "stream",
     "text": [
      "Accuracy: 1.0\n",
      "\n",
      "Balanced Accuracy: 0.914\n",
      "\n",
      "AUC-ROC: 0.999\n",
      "\n",
      "Classification report:\n",
      "\n",
      "               precision    recall  f1-score   support\n",
      "\n",
      "           0       1.00      1.00      1.00   2096999\n",
      "           1       0.98      0.83      0.90      2666\n",
      "\n",
      "    accuracy                           1.00   2099665\n",
      "   macro avg       0.99      0.91      0.95   2099665\n",
      "weighted avg       1.00      1.00      1.00   2099665\n",
      "\n",
      "\n"
     ]
    },
    {
     "data": {
      "text/html": [
       "<div>\n",
       "<style scoped>\n",
       "    .dataframe tbody tr th:only-of-type {\n",
       "        vertical-align: middle;\n",
       "    }\n",
       "\n",
       "    .dataframe tbody tr th {\n",
       "        vertical-align: top;\n",
       "    }\n",
       "\n",
       "    .dataframe thead th {\n",
       "        text-align: right;\n",
       "    }\n",
       "</style>\n",
       "<table border=\"1\" class=\"dataframe\">\n",
       "  <thead>\n",
       "    <tr style=\"text-align: right;\">\n",
       "      <th></th>\n",
       "      <th>Model name</th>\n",
       "      <th>Accuracy</th>\n",
       "      <th>Balanced Accuracy</th>\n",
       "      <th>AUC</th>\n",
       "      <th>Precision</th>\n",
       "      <th>F1-score</th>\n",
       "      <th>Recall</th>\n",
       "    </tr>\n",
       "  </thead>\n",
       "  <tbody>\n",
       "    <tr>\n",
       "      <th>0</th>\n",
       "      <td>XG Boost</td>\n",
       "      <td>0.999766</td>\n",
       "      <td>0.91447</td>\n",
       "      <td>0.998712</td>\n",
       "      <td>0.98441</td>\n",
       "      <td>0.90002</td>\n",
       "      <td>0.828957</td>\n",
       "    </tr>\n",
       "  </tbody>\n",
       "</table>\n",
       "</div>"
      ],
      "text/plain": [
       "  Model name  Accuracy Balanced Accuracy       AUC Precision F1-score  \\\n",
       "0   XG Boost  0.999766           0.91447  0.998712   0.98441  0.90002   \n",
       "\n",
       "     Recall  \n",
       "0  0.828957  "
      ]
     },
     "execution_count": 9,
     "metadata": {},
     "output_type": "execute_result"
    }
   ],
   "source": [
    "# XG Boost without 'nameDest'\n",
    "\n",
    "model_name = 'XG Boost'\n",
    "\n",
    "model = xgb.XGBClassifier(objective='binary:logistic',\n",
    "                            n_estimators=100,\n",
    "                            max_depth=10,\n",
    "                            tree_method='exact',\n",
    "                            n_jobs=-1,\n",
    "                            random_state=42)\n",
    "\n",
    "\n",
    "df_xgb = get_model_metrics(model_name, model, X_train_boruta, y_train, X_test_boruta, y_test)\n",
    "\n",
    "\n",
    "df_xgb"
   ]
  },
  {
   "cell_type": "markdown",
   "id": "f6c56da6",
   "metadata": {
    "heading_collapsed": true,
    "hidden": true
   },
   "source": [
    "##  <font color=blue><i>Cross-validation</i></font>"
   ]
  },
  {
   "cell_type": "markdown",
   "id": "d15e56de",
   "metadata": {
    "hidden": true
   },
   "source": [
    "Cross-validation results for the previous XGBoost model:"
   ]
  },
  {
   "cell_type": "code",
   "execution_count": 25,
   "id": "e601876f",
   "metadata": {
    "ExecuteTime": {
     "end_time": "2022-01-30T01:25:35.887292Z",
     "start_time": "2022-01-29T21:37:19.615669Z"
    },
    "hidden": true,
    "hide_input": true,
    "scrolled": true
   },
   "outputs": [
    {
     "name": "stdout",
     "output_type": "stream",
     "text": [
      "Now evaluating: accuracy\n"
     ]
    },
    {
     "name": "stderr",
     "output_type": "stream",
     "text": [
      "[Parallel(n_jobs=-1)]: Using backend LokyBackend with 16 concurrent workers.\n",
      "[Parallel(n_jobs=-1)]: Done  10 out of  10 | elapsed: 38.1min finished\n"
     ]
    },
    {
     "name": "stdout",
     "output_type": "stream",
     "text": [
      "Evaluation of accuracy status: Done\n",
      "Inserting accuracy results information to table\n",
      "Insertion done.\n",
      "\n",
      "            accuracy balanced_accuracy roc_auc precision   f1 recall\n",
      "XG Boost  1.0 +/-0.0               NaN     NaN       NaN  NaN    NaN\n",
      "\n",
      "Now evaluating: balanced_accuracy\n"
     ]
    },
    {
     "name": "stderr",
     "output_type": "stream",
     "text": [
      "[Parallel(n_jobs=-1)]: Using backend LokyBackend with 16 concurrent workers.\n",
      "[Parallel(n_jobs=-1)]: Done  10 out of  10 | elapsed: 37.9min finished\n"
     ]
    },
    {
     "name": "stdout",
     "output_type": "stream",
     "text": [
      "Evaluation of balanced_accuracy status: Done\n",
      "Inserting balanced_accuracy results information to table\n",
      "Insertion done.\n",
      "\n",
      "            accuracy balanced_accuracy roc_auc precision   f1 recall\n",
      "XG Boost  1.0 +/-0.0      0.91 +/-0.01     NaN       NaN  NaN    NaN\n",
      "\n",
      "Now evaluating: roc_auc\n"
     ]
    },
    {
     "name": "stderr",
     "output_type": "stream",
     "text": [
      "[Parallel(n_jobs=-1)]: Using backend LokyBackend with 16 concurrent workers.\n",
      "[Parallel(n_jobs=-1)]: Done  10 out of  10 | elapsed: 38.0min finished\n"
     ]
    },
    {
     "name": "stdout",
     "output_type": "stream",
     "text": [
      "Evaluation of roc_auc status: Done\n",
      "Inserting roc_auc results information to table\n",
      "Insertion done.\n",
      "\n",
      "            accuracy balanced_accuracy     roc_auc precision   f1 recall\n",
      "XG Boost  1.0 +/-0.0      0.91 +/-0.01  1.0 +/-0.0       NaN  NaN    NaN\n",
      "\n",
      "Now evaluating: precision\n"
     ]
    },
    {
     "name": "stderr",
     "output_type": "stream",
     "text": [
      "[Parallel(n_jobs=-1)]: Using backend LokyBackend with 16 concurrent workers.\n",
      "[Parallel(n_jobs=-1)]: Done  10 out of  10 | elapsed: 38.1min finished\n"
     ]
    },
    {
     "name": "stdout",
     "output_type": "stream",
     "text": [
      "Evaluation of precision status: Done\n",
      "Inserting precision results information to table\n",
      "Insertion done.\n",
      "\n",
      "            accuracy balanced_accuracy     roc_auc     precision   f1 recall\n",
      "XG Boost  1.0 +/-0.0      0.91 +/-0.01  1.0 +/-0.0  0.98 +/-0.01  NaN    NaN\n",
      "\n",
      "Now evaluating: f1\n"
     ]
    },
    {
     "name": "stderr",
     "output_type": "stream",
     "text": [
      "[Parallel(n_jobs=-1)]: Using backend LokyBackend with 16 concurrent workers.\n",
      "[Parallel(n_jobs=-1)]: Done  10 out of  10 | elapsed: 38.1min finished\n"
     ]
    },
    {
     "name": "stdout",
     "output_type": "stream",
     "text": [
      "Evaluation of f1 status: Done\n",
      "Inserting f1 results information to table\n",
      "Insertion done.\n",
      "\n",
      "            accuracy balanced_accuracy     roc_auc     precision           f1  \\\n",
      "XG Boost  1.0 +/-0.0      0.91 +/-0.01  1.0 +/-0.0  0.98 +/-0.01  0.9 +/-0.01   \n",
      "\n",
      "         recall  \n",
      "XG Boost    NaN  \n",
      "\n",
      "Now evaluating: recall\n"
     ]
    },
    {
     "name": "stderr",
     "output_type": "stream",
     "text": [
      "[Parallel(n_jobs=-1)]: Using backend LokyBackend with 16 concurrent workers.\n",
      "[Parallel(n_jobs=-1)]: Done  10 out of  10 | elapsed: 38.0min finished\n"
     ]
    },
    {
     "name": "stdout",
     "output_type": "stream",
     "text": [
      "Evaluation of recall status: Done\n",
      "Inserting recall results information to table\n",
      "Insertion done.\n",
      "\n",
      "            accuracy balanced_accuracy     roc_auc     precision           f1  \\\n",
      "XG Boost  1.0 +/-0.0      0.91 +/-0.01  1.0 +/-0.0  0.98 +/-0.01  0.9 +/-0.01   \n",
      "\n",
      "                recall  \n",
      "XG Boost  0.83 +/-0.02  \n",
      "\n",
      "Metrics calculation fisinhed.\n",
      "\n",
      "Stratified k-fold Cross-validation results:\n"
     ]
    },
    {
     "data": {
      "text/html": [
       "<div>\n",
       "<style scoped>\n",
       "    .dataframe tbody tr th:only-of-type {\n",
       "        vertical-align: middle;\n",
       "    }\n",
       "\n",
       "    .dataframe tbody tr th {\n",
       "        vertical-align: top;\n",
       "    }\n",
       "\n",
       "    .dataframe thead th {\n",
       "        text-align: right;\n",
       "    }\n",
       "</style>\n",
       "<table border=\"1\" class=\"dataframe\">\n",
       "  <thead>\n",
       "    <tr style=\"text-align: right;\">\n",
       "      <th></th>\n",
       "      <th>accuracy</th>\n",
       "      <th>balanced_accuracy</th>\n",
       "      <th>roc_auc</th>\n",
       "      <th>precision</th>\n",
       "      <th>f1</th>\n",
       "      <th>recall</th>\n",
       "    </tr>\n",
       "  </thead>\n",
       "  <tbody>\n",
       "    <tr>\n",
       "      <th>XG Boost</th>\n",
       "      <td>1.0 +/-0.0</td>\n",
       "      <td>0.91 +/-0.01</td>\n",
       "      <td>1.0 +/-0.0</td>\n",
       "      <td>0.98 +/-0.01</td>\n",
       "      <td>0.9 +/-0.01</td>\n",
       "      <td>0.83 +/-0.02</td>\n",
       "    </tr>\n",
       "  </tbody>\n",
       "</table>\n",
       "</div>"
      ],
      "text/plain": [
       "            accuracy balanced_accuracy     roc_auc     precision           f1  \\\n",
       "XG Boost  1.0 +/-0.0      0.91 +/-0.01  1.0 +/-0.0  0.98 +/-0.01  0.9 +/-0.01   \n",
       "\n",
       "                recall  \n",
       "XG Boost  0.83 +/-0.02  "
      ]
     },
     "execution_count": 25,
     "metadata": {},
     "output_type": "execute_result"
    }
   ],
   "source": [
    "# Cross-validation - XG Boost\n",
    "\n",
    "# Metrics to search\n",
    "list_metrics_to_search = ['accuracy','balanced_accuracy', 'roc_auc', 'precision', 'f1', 'recall']\n",
    "\n",
    "\n",
    "# Creating a empty df\n",
    "df_metrics_cv = pd.DataFrame(columns=list_metrics_to_search) # columns\n",
    "df_metrics_cv = df_metrics_cv.append({'accuracy': np.nan}, ignore_index=True) # filling the first row with NA\n",
    "df_metrics_cv.index = ['XG Boost'] # setting the string 'XG Boost' as df index\n",
    "\n",
    "\n",
    "# Instantiating the classifier\n",
    "model = xgb.XGBClassifier(objective='binary:logistic',\n",
    "                          n_estimators=100,\n",
    "                          max_depth=10,\n",
    "                          tree_method='exact',\n",
    "                          n_jobs=-1,\n",
    "                          random_state=42)\n",
    "\n",
    "# Setting the folds (shuffle=True due to imbalance in dataset)\n",
    "kfold = StratifiedKFold(n_splits=10, random_state=42, shuffle=True)\n",
    "\n",
    "\n",
    "# loop for metrics evaluation within cross-validation\n",
    "for i in list_metrics_to_search:\n",
    "    \n",
    "    print('Now evaluating: {}'.format(i))\n",
    "    \n",
    "    \n",
    "    results_cv = cross_val_score(model, X_train_boruta, y_train, cv=kfold, n_jobs=-1, verbose=1, scoring=i)\n",
    "    \n",
    "    print('Evaluation of {} status: Done'.format(i))\n",
    "    \n",
    "    \n",
    "    print('Inserting {} results information to table'.format(i))\n",
    "    \n",
    "    df_metrics_cv[i] = str(round(results_cv.mean(), 2))+' +/-'+str(round(results_cv.std(), 2))\n",
    "    \n",
    "    print('Insertion done.\\n')\n",
    "    \n",
    "    print('{}\\n'.format(df_metrics_cv))\n",
    "    \n",
    "    \n",
    "print('Metrics calculation fisinhed.\\n')\n",
    "\n",
    "\n",
    "print('Stratified k-fold Cross-validation results:')\n",
    "df_metrics_cv\n"
   ]
  },
  {
   "cell_type": "markdown",
   "id": "640c8d5f",
   "metadata": {
    "hidden": true
   },
   "source": [
    "Cross-validation results for the newly evaluated XGBoost model (without 'nameDest' column):"
   ]
  },
  {
   "cell_type": "code",
   "execution_count": 94,
   "id": "cd0c5697",
   "metadata": {
    "ExecuteTime": {
     "end_time": "2022-02-05T06:26:28.259806Z",
     "start_time": "2022-02-05T02:46:54.463038Z"
    },
    "hidden": true,
    "hide_input": true,
    "scrolled": true
   },
   "outputs": [
    {
     "name": "stdout",
     "output_type": "stream",
     "text": [
      "Now evaluating: accuracy\n"
     ]
    },
    {
     "name": "stderr",
     "output_type": "stream",
     "text": [
      "[Parallel(n_jobs=-1)]: Using backend LokyBackend with 16 concurrent workers.\n",
      "[Parallel(n_jobs=-1)]: Done  10 out of  10 | elapsed: 37.8min finished\n"
     ]
    },
    {
     "name": "stdout",
     "output_type": "stream",
     "text": [
      "Evaluation of accuracy status: Done\n",
      "Inserting accuracy results information to table\n",
      "Insertion done.\n",
      "\n",
      "            accuracy balanced_accuracy roc_auc precision   f1 recall\n",
      "XG Boost  1.0 +/-0.0               NaN     NaN       NaN  NaN    NaN\n",
      "\n",
      "Now evaluating: balanced_accuracy\n"
     ]
    },
    {
     "name": "stderr",
     "output_type": "stream",
     "text": [
      "[Parallel(n_jobs=-1)]: Using backend LokyBackend with 16 concurrent workers.\n",
      "[Parallel(n_jobs=-1)]: Done  10 out of  10 | elapsed: 36.5min finished\n"
     ]
    },
    {
     "name": "stdout",
     "output_type": "stream",
     "text": [
      "Evaluation of balanced_accuracy status: Done\n",
      "Inserting balanced_accuracy results information to table\n",
      "Insertion done.\n",
      "\n",
      "            accuracy balanced_accuracy roc_auc precision   f1 recall\n",
      "XG Boost  1.0 +/-0.0      0.91 +/-0.01     NaN       NaN  NaN    NaN\n",
      "\n",
      "Now evaluating: roc_auc\n"
     ]
    },
    {
     "name": "stderr",
     "output_type": "stream",
     "text": [
      "[Parallel(n_jobs=-1)]: Using backend LokyBackend with 16 concurrent workers.\n",
      "[Parallel(n_jobs=-1)]: Done  10 out of  10 | elapsed: 36.9min finished\n"
     ]
    },
    {
     "name": "stdout",
     "output_type": "stream",
     "text": [
      "Evaluation of roc_auc status: Done\n",
      "Inserting roc_auc results information to table\n",
      "Insertion done.\n",
      "\n",
      "            accuracy balanced_accuracy     roc_auc precision   f1 recall\n",
      "XG Boost  1.0 +/-0.0      0.91 +/-0.01  1.0 +/-0.0       NaN  NaN    NaN\n",
      "\n",
      "Now evaluating: precision\n"
     ]
    },
    {
     "name": "stderr",
     "output_type": "stream",
     "text": [
      "[Parallel(n_jobs=-1)]: Using backend LokyBackend with 16 concurrent workers.\n",
      "[Parallel(n_jobs=-1)]: Done  10 out of  10 | elapsed: 36.1min finished\n"
     ]
    },
    {
     "name": "stdout",
     "output_type": "stream",
     "text": [
      "Evaluation of precision status: Done\n",
      "Inserting precision results information to table\n",
      "Insertion done.\n",
      "\n",
      "            accuracy balanced_accuracy     roc_auc     precision   f1 recall\n",
      "XG Boost  1.0 +/-0.0      0.91 +/-0.01  1.0 +/-0.0  0.98 +/-0.01  NaN    NaN\n",
      "\n",
      "Now evaluating: f1\n"
     ]
    },
    {
     "name": "stderr",
     "output_type": "stream",
     "text": [
      "[Parallel(n_jobs=-1)]: Using backend LokyBackend with 16 concurrent workers.\n",
      "[Parallel(n_jobs=-1)]: Done  10 out of  10 | elapsed: 36.0min finished\n"
     ]
    },
    {
     "name": "stdout",
     "output_type": "stream",
     "text": [
      "Evaluation of f1 status: Done\n",
      "Inserting f1 results information to table\n",
      "Insertion done.\n",
      "\n",
      "            accuracy balanced_accuracy     roc_auc     precision           f1  \\\n",
      "XG Boost  1.0 +/-0.0      0.91 +/-0.01  1.0 +/-0.0  0.98 +/-0.01  0.9 +/-0.01   \n",
      "\n",
      "         recall  \n",
      "XG Boost    NaN  \n",
      "\n",
      "Now evaluating: recall\n"
     ]
    },
    {
     "name": "stderr",
     "output_type": "stream",
     "text": [
      "[Parallel(n_jobs=-1)]: Using backend LokyBackend with 16 concurrent workers.\n",
      "[Parallel(n_jobs=-1)]: Done  10 out of  10 | elapsed: 36.2min finished\n"
     ]
    },
    {
     "name": "stdout",
     "output_type": "stream",
     "text": [
      "Evaluation of recall status: Done\n",
      "Inserting recall results information to table\n",
      "Insertion done.\n",
      "\n",
      "            accuracy balanced_accuracy     roc_auc     precision           f1  \\\n",
      "XG Boost  1.0 +/-0.0      0.91 +/-0.01  1.0 +/-0.0  0.98 +/-0.01  0.9 +/-0.01   \n",
      "\n",
      "                recall  \n",
      "XG Boost  0.83 +/-0.02  \n",
      "\n",
      "Metrics calculation fisinhed.\n",
      "\n",
      "Stratified k-fold Cross-validation results:\n"
     ]
    },
    {
     "data": {
      "text/html": [
       "<div>\n",
       "<style scoped>\n",
       "    .dataframe tbody tr th:only-of-type {\n",
       "        vertical-align: middle;\n",
       "    }\n",
       "\n",
       "    .dataframe tbody tr th {\n",
       "        vertical-align: top;\n",
       "    }\n",
       "\n",
       "    .dataframe thead th {\n",
       "        text-align: right;\n",
       "    }\n",
       "</style>\n",
       "<table border=\"1\" class=\"dataframe\">\n",
       "  <thead>\n",
       "    <tr style=\"text-align: right;\">\n",
       "      <th></th>\n",
       "      <th>accuracy</th>\n",
       "      <th>balanced_accuracy</th>\n",
       "      <th>roc_auc</th>\n",
       "      <th>precision</th>\n",
       "      <th>f1</th>\n",
       "      <th>recall</th>\n",
       "    </tr>\n",
       "  </thead>\n",
       "  <tbody>\n",
       "    <tr>\n",
       "      <th>XG Boost</th>\n",
       "      <td>1.0 +/-0.0</td>\n",
       "      <td>0.91 +/-0.01</td>\n",
       "      <td>1.0 +/-0.0</td>\n",
       "      <td>0.98 +/-0.01</td>\n",
       "      <td>0.9 +/-0.01</td>\n",
       "      <td>0.83 +/-0.02</td>\n",
       "    </tr>\n",
       "  </tbody>\n",
       "</table>\n",
       "</div>"
      ],
      "text/plain": [
       "            accuracy balanced_accuracy     roc_auc     precision           f1  \\\n",
       "XG Boost  1.0 +/-0.0      0.91 +/-0.01  1.0 +/-0.0  0.98 +/-0.01  0.9 +/-0.01   \n",
       "\n",
       "                recall  \n",
       "XG Boost  0.83 +/-0.02  "
      ]
     },
     "execution_count": 94,
     "metadata": {},
     "output_type": "execute_result"
    }
   ],
   "source": [
    "# Cross-validation - XG Boost\n",
    "\n",
    "# Metrics to search\n",
    "list_metrics_to_search = ['accuracy','balanced_accuracy', 'roc_auc', 'precision', 'f1', 'recall']\n",
    "\n",
    "\n",
    "# Creating a empty df\n",
    "df_metrics_cv = pd.DataFrame(columns=list_metrics_to_search) # columns\n",
    "df_metrics_cv = df_metrics_cv.append({'accuracy': np.nan}, ignore_index=True) # filling the first row with NA\n",
    "df_metrics_cv.index = ['XG Boost'] # setting the string 'XG Boost' as df index\n",
    "\n",
    "\n",
    "# Instantiating the classifier\n",
    "model = xgb.XGBClassifier(objective='binary:logistic',\n",
    "                          n_estimators=100,\n",
    "                          max_depth=10,\n",
    "                          tree_method='exact',\n",
    "                          n_jobs=-1,\n",
    "                          random_state=42)\n",
    "\n",
    "# Setting the folds (shuffle=True due to imbalance in dataset)\n",
    "kfold = StratifiedKFold(n_splits=10, random_state=42, shuffle=True)\n",
    "\n",
    "\n",
    "# loop for metrics evaluation within cross-validation\n",
    "for i in list_metrics_to_search:\n",
    "    \n",
    "    print('Now evaluating: {}'.format(i))\n",
    "    \n",
    "    \n",
    "    results_cv = cross_val_score(model, X_train_boruta, y_train, cv=kfold, n_jobs=-1, verbose=1, scoring=i)\n",
    "    \n",
    "    print('Evaluation of {} status: Done'.format(i))\n",
    "    \n",
    "    \n",
    "    print('Inserting {} results information to table'.format(i))\n",
    "    \n",
    "    df_metrics_cv[i] = str(round(results_cv.mean(), 2))+' +/-'+str(round(results_cv.std(), 2))\n",
    "    \n",
    "    print('Insertion done.\\n')\n",
    "    \n",
    "    print('{}\\n'.format(df_metrics_cv))\n",
    "    \n",
    "    \n",
    "print('Metrics calculation fisinhed.\\n')\n",
    "\n",
    "\n",
    "print('Stratified k-fold Cross-validation results:')\n",
    "df_metrics_cv\n"
   ]
  },
  {
   "cell_type": "markdown",
   "id": "c3dd8acf",
   "metadata": {
    "hidden": true
   },
   "source": [
    "As you can see the results for stratified k-fold cross-validation did not differ from the previous to the newly trained model, meaning that the removel of the column 'nameDest' does not degradete model's performance. For this reason, in the Hiperparameter fine tuning session we are not going to re-evaluate hyperparameters, instead we are going to use the previously tuned hyperparameters."
   ]
  },
  {
   "cell_type": "markdown",
   "id": "3caaf86f",
   "metadata": {
    "heading_collapsed": true
   },
   "source": [
    "#  8- Hiperparameter fine tuning"
   ]
  },
  {
   "cell_type": "markdown",
   "id": "9cac0fa4",
   "metadata": {
    "heading_collapsed": true,
    "hidden": true
   },
   "source": [
    "##  <font face=\"Arial\" color=\"gray\">8.1 <font><i>Random search</i></font></font>"
   ]
  },
  {
   "cell_type": "markdown",
   "id": "79918bc2",
   "metadata": {
    "hidden": true
   },
   "source": [
    "Random search evaluation can be acessed in the main notebook."
   ]
  },
  {
   "cell_type": "markdown",
   "id": "e5166a19",
   "metadata": {
    "heading_collapsed": true,
    "hidden": true
   },
   "source": [
    "##  <font face=\"Arial\" color=\"gray\">8.2 <font><i>Tuned final model</i></font></font>"
   ]
  },
  {
   "cell_type": "code",
   "execution_count": 17,
   "id": "c0274b86",
   "metadata": {
    "ExecuteTime": {
     "end_time": "2022-02-05T18:49:25.926835Z",
     "start_time": "2022-02-05T18:49:25.919456Z"
    },
    "hidden": true
   },
   "outputs": [
    {
     "data": {
      "text/plain": [
       "{'n_estimators': 85,\n",
       " 'max_depth': 15,\n",
       " 'learning_rate': 0.8,\n",
       " 'subsample': 0.7,\n",
       " 'colsample_bytree': 0.9,\n",
       " 'min_child_weight': 5}"
      ]
     },
     "execution_count": 17,
     "metadata": {},
     "output_type": "execute_result"
    }
   ],
   "source": [
    "# Setting parameters\n",
    "\n",
    "best_parameters = {'n_estimators': 85, \n",
    "                   'max_depth': 15, \n",
    "                   'learning_rate': 0.8, \n",
    "                   'subsample': 0.7, \n",
    "                   'colsample_bytree': 0.9, \n",
    "                   'min_child_weight': 5}\n",
    "\n",
    "best_parameters"
   ]
  },
  {
   "cell_type": "code",
   "execution_count": 111,
   "id": "2bd79fd9",
   "metadata": {
    "ExecuteTime": {
     "end_time": "2022-02-01T07:15:25.287799Z",
     "start_time": "2022-02-01T03:27:02.864368Z"
    },
    "hidden": true,
    "scrolled": true
   },
   "outputs": [
    {
     "name": "stdout",
     "output_type": "stream",
     "text": [
      "Now evaluating: accuracy\n"
     ]
    },
    {
     "name": "stderr",
     "output_type": "stream",
     "text": [
      "[Parallel(n_jobs=-1)]: Using backend LokyBackend with 16 concurrent workers.\n",
      "[Parallel(n_jobs=-1)]: Done  10 out of  10 | elapsed: 38.4min finished\n"
     ]
    },
    {
     "name": "stdout",
     "output_type": "stream",
     "text": [
      "Evaluation of accuracy status: Done\n",
      "Inserting accuracy results information to table\n",
      "Insertion done.\n",
      "\n",
      "            accuracy balanced_accuracy roc_auc precision   f1 recall\n",
      "XG Boost  1.0 +/-0.0               NaN     NaN       NaN  NaN    NaN\n",
      "\n",
      "Now evaluating: balanced_accuracy\n"
     ]
    },
    {
     "name": "stderr",
     "output_type": "stream",
     "text": [
      "[Parallel(n_jobs=-1)]: Using backend LokyBackend with 16 concurrent workers.\n",
      "[Parallel(n_jobs=-1)]: Done  10 out of  10 | elapsed: 38.2min finished\n"
     ]
    },
    {
     "name": "stdout",
     "output_type": "stream",
     "text": [
      "Evaluation of balanced_accuracy status: Done\n",
      "Inserting balanced_accuracy results information to table\n",
      "Insertion done.\n",
      "\n",
      "            accuracy balanced_accuracy roc_auc precision   f1 recall\n",
      "XG Boost  1.0 +/-0.0      0.92 +/-0.01     NaN       NaN  NaN    NaN\n",
      "\n",
      "Now evaluating: roc_auc\n"
     ]
    },
    {
     "name": "stderr",
     "output_type": "stream",
     "text": [
      "[Parallel(n_jobs=-1)]: Using backend LokyBackend with 16 concurrent workers.\n",
      "[Parallel(n_jobs=-1)]: Done  10 out of  10 | elapsed: 38.0min finished\n"
     ]
    },
    {
     "name": "stdout",
     "output_type": "stream",
     "text": [
      "Evaluation of roc_auc status: Done\n",
      "Inserting roc_auc results information to table\n",
      "Insertion done.\n",
      "\n",
      "            accuracy balanced_accuracy     roc_auc precision   f1 recall\n",
      "XG Boost  1.0 +/-0.0      0.92 +/-0.01  1.0 +/-0.0       NaN  NaN    NaN\n",
      "\n",
      "Now evaluating: precision\n"
     ]
    },
    {
     "name": "stderr",
     "output_type": "stream",
     "text": [
      "[Parallel(n_jobs=-1)]: Using backend LokyBackend with 16 concurrent workers.\n",
      "[Parallel(n_jobs=-1)]: Done  10 out of  10 | elapsed: 37.9min finished\n"
     ]
    },
    {
     "name": "stdout",
     "output_type": "stream",
     "text": [
      "Evaluation of precision status: Done\n",
      "Inserting precision results information to table\n",
      "Insertion done.\n",
      "\n",
      "            accuracy balanced_accuracy     roc_auc     precision   f1 recall\n",
      "XG Boost  1.0 +/-0.0      0.92 +/-0.01  1.0 +/-0.0  0.95 +/-0.01  NaN    NaN\n",
      "\n",
      "Now evaluating: f1\n"
     ]
    },
    {
     "name": "stderr",
     "output_type": "stream",
     "text": [
      "[Parallel(n_jobs=-1)]: Using backend LokyBackend with 16 concurrent workers.\n",
      "[Parallel(n_jobs=-1)]: Done  10 out of  10 | elapsed: 38.0min finished\n"
     ]
    },
    {
     "name": "stdout",
     "output_type": "stream",
     "text": [
      "Evaluation of f1 status: Done\n",
      "Inserting f1 results information to table\n",
      "Insertion done.\n",
      "\n",
      "            accuracy balanced_accuracy     roc_auc     precision  \\\n",
      "XG Boost  1.0 +/-0.0      0.92 +/-0.01  1.0 +/-0.0  0.95 +/-0.01   \n",
      "\n",
      "                    f1 recall  \n",
      "XG Boost  0.89 +/-0.01    NaN  \n",
      "\n",
      "Now evaluating: recall\n"
     ]
    },
    {
     "name": "stderr",
     "output_type": "stream",
     "text": [
      "[Parallel(n_jobs=-1)]: Using backend LokyBackend with 16 concurrent workers.\n",
      "[Parallel(n_jobs=-1)]: Done  10 out of  10 | elapsed: 37.8min finished\n"
     ]
    },
    {
     "name": "stdout",
     "output_type": "stream",
     "text": [
      "Evaluation of recall status: Done\n",
      "Inserting recall results information to table\n",
      "Insertion done.\n",
      "\n",
      "            accuracy balanced_accuracy     roc_auc     precision  \\\n",
      "XG Boost  1.0 +/-0.0      0.92 +/-0.01  1.0 +/-0.0  0.95 +/-0.01   \n",
      "\n",
      "                    f1        recall  \n",
      "XG Boost  0.89 +/-0.01  0.84 +/-0.01  \n",
      "\n",
      "Metrics calculation fisinhed.\n",
      "\n",
      "Stratified k-fold Cross-validation results:\n"
     ]
    },
    {
     "data": {
      "text/html": [
       "<div>\n",
       "<style scoped>\n",
       "    .dataframe tbody tr th:only-of-type {\n",
       "        vertical-align: middle;\n",
       "    }\n",
       "\n",
       "    .dataframe tbody tr th {\n",
       "        vertical-align: top;\n",
       "    }\n",
       "\n",
       "    .dataframe thead th {\n",
       "        text-align: right;\n",
       "    }\n",
       "</style>\n",
       "<table border=\"1\" class=\"dataframe\">\n",
       "  <thead>\n",
       "    <tr style=\"text-align: right;\">\n",
       "      <th></th>\n",
       "      <th>accuracy</th>\n",
       "      <th>balanced_accuracy</th>\n",
       "      <th>roc_auc</th>\n",
       "      <th>precision</th>\n",
       "      <th>f1</th>\n",
       "      <th>recall</th>\n",
       "    </tr>\n",
       "  </thead>\n",
       "  <tbody>\n",
       "    <tr>\n",
       "      <th>XG Boost</th>\n",
       "      <td>1.0 +/-0.0</td>\n",
       "      <td>0.92 +/-0.01</td>\n",
       "      <td>1.0 +/-0.0</td>\n",
       "      <td>0.95 +/-0.01</td>\n",
       "      <td>0.89 +/-0.01</td>\n",
       "      <td>0.84 +/-0.01</td>\n",
       "    </tr>\n",
       "  </tbody>\n",
       "</table>\n",
       "</div>"
      ],
      "text/plain": [
       "            accuracy balanced_accuracy     roc_auc     precision  \\\n",
       "XG Boost  1.0 +/-0.0      0.92 +/-0.01  1.0 +/-0.0  0.95 +/-0.01   \n",
       "\n",
       "                    f1        recall  \n",
       "XG Boost  0.89 +/-0.01  0.84 +/-0.01  "
      ]
     },
     "execution_count": 111,
     "metadata": {},
     "output_type": "execute_result"
    }
   ],
   "source": [
    "# Cross validation - Previous tuned model\n",
    "\n",
    "\n",
    "# Metrics to search\n",
    "list_metrics_to_search = ['accuracy','balanced_accuracy', 'roc_auc', 'precision', 'f1', 'recall']\n",
    "\n",
    "\n",
    "# Creating a empty df\n",
    "df_metrics_cv = pd.DataFrame(columns=list_metrics_to_search) # columns\n",
    "df_metrics_cv = df_metrics_cv.append({'accuracy': np.nan}, ignore_index=True) # filling the first row with NA\n",
    "df_metrics_cv.index = ['XG Boost'] # setting the string 'XG Boost' as df index\n",
    "\n",
    "\n",
    "# Instantiating the tuned classifier\n",
    "model = xgb.XGBClassifier(objective='binary:logistic',\n",
    "                          n_estimators=best_parameters['n_estimators'],\n",
    "                          max_depth=best_parameters['max_depth'],\n",
    "                          learning_rate=best_parameters['learning_rate'],\n",
    "                          subsample=best_parameters['subsample'],\n",
    "                          colsample_bytree=best_parameters['colsample_bytree'],\n",
    "                          min_child_weight=best_parameters['min_child_weight'],\n",
    "                          tree_method='exact',\n",
    "                          n_jobs=-1,\n",
    "                          random_state=42\n",
    "                         )\n",
    "\n",
    "# Setting the folds (shuffle=True due to imbalance in dataset)\n",
    "kfold = StratifiedKFold(n_splits=10, random_state=42, shuffle=True)\n",
    "\n",
    "\n",
    "# loop for metrics evaluation within cross-validation\n",
    "for i in list_metrics_to_search:\n",
    "    \n",
    "    print('Now evaluating: {}'.format(i))\n",
    "    \n",
    "    \n",
    "    results_cv = cross_val_score(model, X_train_boruta, y_train, cv=kfold, n_jobs=-1, verbose=1, scoring=i)\n",
    "    \n",
    "    print('Evaluation of {} status: Done'.format(i))\n",
    "    \n",
    "    \n",
    "    print('Inserting {} results information to table'.format(i))\n",
    "    \n",
    "    df_metrics_cv[i] = str(round(results_cv.mean(), 2))+' +/-'+str(round(results_cv.std(), 2))\n",
    "    \n",
    "    print('Insertion done.\\n')\n",
    "    \n",
    "    print('{}\\n'.format(df_metrics_cv))\n",
    "    \n",
    "    \n",
    "print('Metrics calculation fisinhed.\\n')\n",
    "\n",
    "\n",
    "print('Stratified k-fold Cross-validation results:')\n",
    "df_metrics_cv\n"
   ]
  },
  {
   "cell_type": "code",
   "execution_count": 22,
   "id": "57efa5d9",
   "metadata": {
    "ExecuteTime": {
     "end_time": "2022-02-05T22:32:18.016296Z",
     "start_time": "2022-02-05T18:52:12.463608Z"
    },
    "hidden": true,
    "scrolled": true
   },
   "outputs": [
    {
     "name": "stdout",
     "output_type": "stream",
     "text": [
      "Now evaluating: accuracy\n"
     ]
    },
    {
     "name": "stderr",
     "output_type": "stream",
     "text": [
      "[Parallel(n_jobs=-1)]: Using backend LokyBackend with 16 concurrent workers.\n",
      "[Parallel(n_jobs=-1)]: Done  10 out of  10 | elapsed: 37.0min finished\n"
     ]
    },
    {
     "name": "stdout",
     "output_type": "stream",
     "text": [
      "Evaluation of accuracy status: Done\n",
      "Inserting accuracy results information to table\n",
      "Insertion done.\n",
      "\n",
      "            accuracy balanced_accuracy roc_auc precision   f1 recall\n",
      "XG Boost  1.0 +/-0.0               NaN     NaN       NaN  NaN    NaN\n",
      "\n",
      "Now evaluating: balanced_accuracy\n"
     ]
    },
    {
     "name": "stderr",
     "output_type": "stream",
     "text": [
      "[Parallel(n_jobs=-1)]: Using backend LokyBackend with 16 concurrent workers.\n",
      "[Parallel(n_jobs=-1)]: Done  10 out of  10 | elapsed: 36.6min finished\n"
     ]
    },
    {
     "name": "stdout",
     "output_type": "stream",
     "text": [
      "Evaluation of balanced_accuracy status: Done\n",
      "Inserting balanced_accuracy results information to table\n",
      "Insertion done.\n",
      "\n",
      "            accuracy balanced_accuracy roc_auc precision   f1 recall\n",
      "XG Boost  1.0 +/-0.0      0.92 +/-0.01     NaN       NaN  NaN    NaN\n",
      "\n",
      "Now evaluating: roc_auc\n"
     ]
    },
    {
     "name": "stderr",
     "output_type": "stream",
     "text": [
      "[Parallel(n_jobs=-1)]: Using backend LokyBackend with 16 concurrent workers.\n",
      "[Parallel(n_jobs=-1)]: Done  10 out of  10 | elapsed: 36.6min finished\n"
     ]
    },
    {
     "name": "stdout",
     "output_type": "stream",
     "text": [
      "Evaluation of roc_auc status: Done\n",
      "Inserting roc_auc results information to table\n",
      "Insertion done.\n",
      "\n",
      "            accuracy balanced_accuracy     roc_auc precision   f1 recall\n",
      "XG Boost  1.0 +/-0.0      0.92 +/-0.01  1.0 +/-0.0       NaN  NaN    NaN\n",
      "\n",
      "Now evaluating: precision\n"
     ]
    },
    {
     "name": "stderr",
     "output_type": "stream",
     "text": [
      "[Parallel(n_jobs=-1)]: Using backend LokyBackend with 16 concurrent workers.\n",
      "[Parallel(n_jobs=-1)]: Done  10 out of  10 | elapsed: 36.6min finished\n"
     ]
    },
    {
     "name": "stdout",
     "output_type": "stream",
     "text": [
      "Evaluation of precision status: Done\n",
      "Inserting precision results information to table\n",
      "Insertion done.\n",
      "\n",
      "            accuracy balanced_accuracy     roc_auc     precision   f1 recall\n",
      "XG Boost  1.0 +/-0.0      0.92 +/-0.01  1.0 +/-0.0  0.96 +/-0.01  NaN    NaN\n",
      "\n",
      "Now evaluating: f1\n"
     ]
    },
    {
     "name": "stderr",
     "output_type": "stream",
     "text": [
      "[Parallel(n_jobs=-1)]: Using backend LokyBackend with 16 concurrent workers.\n",
      "[Parallel(n_jobs=-1)]: Done  10 out of  10 | elapsed: 36.5min finished\n"
     ]
    },
    {
     "name": "stdout",
     "output_type": "stream",
     "text": [
      "Evaluation of f1 status: Done\n",
      "Inserting f1 results information to table\n",
      "Insertion done.\n",
      "\n",
      "            accuracy balanced_accuracy     roc_auc     precision  \\\n",
      "XG Boost  1.0 +/-0.0      0.92 +/-0.01  1.0 +/-0.0  0.96 +/-0.01   \n",
      "\n",
      "                    f1 recall  \n",
      "XG Boost  0.89 +/-0.01    NaN  \n",
      "\n",
      "Now evaluating: recall\n"
     ]
    },
    {
     "name": "stderr",
     "output_type": "stream",
     "text": [
      "[Parallel(n_jobs=-1)]: Using backend LokyBackend with 16 concurrent workers.\n",
      "[Parallel(n_jobs=-1)]: Done  10 out of  10 | elapsed: 36.7min finished\n"
     ]
    },
    {
     "name": "stdout",
     "output_type": "stream",
     "text": [
      "Evaluation of recall status: Done\n",
      "Inserting recall results information to table\n",
      "Insertion done.\n",
      "\n",
      "            accuracy balanced_accuracy     roc_auc     precision  \\\n",
      "XG Boost  1.0 +/-0.0      0.92 +/-0.01  1.0 +/-0.0  0.96 +/-0.01   \n",
      "\n",
      "                    f1        recall  \n",
      "XG Boost  0.89 +/-0.01  0.84 +/-0.02  \n",
      "\n",
      "Metrics calculation fisinhed.\n",
      "\n",
      "Stratified k-fold Cross-validation results:\n"
     ]
    },
    {
     "data": {
      "text/html": [
       "<div>\n",
       "<style scoped>\n",
       "    .dataframe tbody tr th:only-of-type {\n",
       "        vertical-align: middle;\n",
       "    }\n",
       "\n",
       "    .dataframe tbody tr th {\n",
       "        vertical-align: top;\n",
       "    }\n",
       "\n",
       "    .dataframe thead th {\n",
       "        text-align: right;\n",
       "    }\n",
       "</style>\n",
       "<table border=\"1\" class=\"dataframe\">\n",
       "  <thead>\n",
       "    <tr style=\"text-align: right;\">\n",
       "      <th></th>\n",
       "      <th>accuracy</th>\n",
       "      <th>balanced_accuracy</th>\n",
       "      <th>roc_auc</th>\n",
       "      <th>precision</th>\n",
       "      <th>f1</th>\n",
       "      <th>recall</th>\n",
       "    </tr>\n",
       "  </thead>\n",
       "  <tbody>\n",
       "    <tr>\n",
       "      <th>XG Boost</th>\n",
       "      <td>1.0 +/-0.0</td>\n",
       "      <td>0.92 +/-0.01</td>\n",
       "      <td>1.0 +/-0.0</td>\n",
       "      <td>0.96 +/-0.01</td>\n",
       "      <td>0.89 +/-0.01</td>\n",
       "      <td>0.84 +/-0.02</td>\n",
       "    </tr>\n",
       "  </tbody>\n",
       "</table>\n",
       "</div>"
      ],
      "text/plain": [
       "            accuracy balanced_accuracy     roc_auc     precision  \\\n",
       "XG Boost  1.0 +/-0.0      0.92 +/-0.01  1.0 +/-0.0  0.96 +/-0.01   \n",
       "\n",
       "                    f1        recall  \n",
       "XG Boost  0.89 +/-0.01  0.84 +/-0.02  "
      ]
     },
     "execution_count": 22,
     "metadata": {},
     "output_type": "execute_result"
    }
   ],
   "source": [
    "# Cross validation - Newly tuned model\n",
    "\n",
    "\n",
    "# Metrics to search\n",
    "list_metrics_to_search = ['accuracy','balanced_accuracy', 'roc_auc', 'precision', 'f1', 'recall']\n",
    "\n",
    "\n",
    "# Creating a empty df\n",
    "df_metrics_cv = pd.DataFrame(columns=list_metrics_to_search) # columns\n",
    "df_metrics_cv = df_metrics_cv.append({'accuracy': np.nan}, ignore_index=True) # filling the first row with NA\n",
    "df_metrics_cv.index = ['XG Boost'] # setting the string 'XG Boost' as df index\n",
    "\n",
    "\n",
    "# Instantiating the tuned classifier\n",
    "model = xgb.XGBClassifier(objective='binary:logistic',\n",
    "                          n_estimators=best_parameters['n_estimators'],\n",
    "                          max_depth=best_parameters['max_depth'],\n",
    "                          learning_rate=best_parameters['learning_rate'],\n",
    "                          subsample=best_parameters['subsample'],\n",
    "                          colsample_bytree=best_parameters['colsample_bytree'],\n",
    "                          min_child_weight=best_parameters['min_child_weight'],\n",
    "                          tree_method='exact',\n",
    "                          n_jobs=-1,\n",
    "                          random_state=42\n",
    "                         )\n",
    "\n",
    "# Setting the folds (shuffle=True due to imbalance in dataset)\n",
    "kfold = StratifiedKFold(n_splits=10, random_state=42, shuffle=True)\n",
    "\n",
    "\n",
    "# loop for metrics evaluation within cross-validation\n",
    "for i in list_metrics_to_search:\n",
    "    \n",
    "    print('Now evaluating: {}'.format(i))\n",
    "    \n",
    "    \n",
    "    results_cv = cross_val_score(model, X_train_boruta, y_train, cv=kfold, n_jobs=-1, verbose=1, scoring=i)\n",
    "    \n",
    "    print('Evaluation of {} status: Done'.format(i))\n",
    "    \n",
    "    \n",
    "    print('Inserting {} results information to table'.format(i))\n",
    "    \n",
    "    df_metrics_cv[i] = str(round(results_cv.mean(), 2))+' +/-'+str(round(results_cv.std(), 2))\n",
    "    \n",
    "    print('Insertion done.\\n')\n",
    "    \n",
    "    print('{}\\n'.format(df_metrics_cv))\n",
    "    \n",
    "    \n",
    "print('Metrics calculation fisinhed.\\n')\n",
    "\n",
    "\n",
    "print('Stratified k-fold Cross-validation results:')\n",
    "df_metrics_cv\n"
   ]
  },
  {
   "cell_type": "code",
   "execution_count": 17,
   "id": "029a35c4",
   "metadata": {
    "ExecuteTime": {
     "end_time": "2022-01-31T22:13:00.923348Z",
     "start_time": "2022-01-31T21:58:11.382566Z"
    },
    "hidden": true
   },
   "outputs": [
    {
     "name": "stdout",
     "output_type": "stream",
     "text": [
      "Accuracy: 1.0\n",
      "\n",
      "Balanced Accuracy: 0.92\n",
      "\n",
      "AUC-ROC: 0.998\n",
      "\n",
      "Classification report:\n",
      "\n",
      "               precision    recall  f1-score   support\n",
      "\n",
      "           0       1.00      1.00      1.00   2096999\n",
      "           1       0.95      0.84      0.89      2666\n",
      "\n",
      "    accuracy                           1.00   2099665\n",
      "   macro avg       0.98      0.92      0.95   2099665\n",
      "weighted avg       1.00      1.00      1.00   2099665\n",
      "\n",
      "\n"
     ]
    },
    {
     "data": {
      "text/html": [
       "<div>\n",
       "<style scoped>\n",
       "    .dataframe tbody tr th:only-of-type {\n",
       "        vertical-align: middle;\n",
       "    }\n",
       "\n",
       "    .dataframe tbody tr th {\n",
       "        vertical-align: top;\n",
       "    }\n",
       "\n",
       "    .dataframe thead th {\n",
       "        text-align: right;\n",
       "    }\n",
       "</style>\n",
       "<table border=\"1\" class=\"dataframe\">\n",
       "  <thead>\n",
       "    <tr style=\"text-align: right;\">\n",
       "      <th></th>\n",
       "      <th>Model name</th>\n",
       "      <th>Accuracy</th>\n",
       "      <th>Balanced Accuracy</th>\n",
       "      <th>AUC</th>\n",
       "      <th>Precision</th>\n",
       "      <th>F1-score</th>\n",
       "      <th>Recall</th>\n",
       "    </tr>\n",
       "  </thead>\n",
       "  <tbody>\n",
       "    <tr>\n",
       "      <th>0</th>\n",
       "      <td>XG Boost</td>\n",
       "      <td>0.99974</td>\n",
       "      <td>0.919702</td>\n",
       "      <td>0.998481</td>\n",
       "      <td>0.950318</td>\n",
       "      <td>0.891456</td>\n",
       "      <td>0.83946</td>\n",
       "    </tr>\n",
       "  </tbody>\n",
       "</table>\n",
       "</div>"
      ],
      "text/plain": [
       "  Model name Accuracy Balanced Accuracy       AUC Precision  F1-score   Recall\n",
       "0   XG Boost  0.99974          0.919702  0.998481  0.950318  0.891456  0.83946"
      ]
     },
     "execution_count": 17,
     "metadata": {},
     "output_type": "execute_result"
    }
   ],
   "source": [
    "# Training the model to predict unseen data - previous model\n",
    "\n",
    "model_name = 'XG Boost'\n",
    "\n",
    "model = xgb.XGBClassifier(objective='binary:logistic',\n",
    "                          n_estimators=best_parameters['n_estimators'],\n",
    "                          max_depth=best_parameters['max_depth'],\n",
    "                          learning_rate=best_parameters['learning_rate'],\n",
    "                          subsample=best_parameters['subsample'],\n",
    "                          colsample_bytree=best_parameters['colsample_bytree'],\n",
    "                          min_child_weight=best_parameters['min_child_weight'],\n",
    "                          tree_method='exact',\n",
    "                          n_jobs=-1,\n",
    "                          random_state=42\n",
    "                         )\n",
    "\n",
    "\n",
    "# model performance (unseen data)\n",
    "df_xgb_final = get_model_metrics(model_name, model, X_train_boruta, y_train, X_test_boruta, y_test)\n",
    "\n",
    "\n",
    "df_xgb_final"
   ]
  },
  {
   "cell_type": "code",
   "execution_count": 100,
   "id": "6e365c22",
   "metadata": {
    "ExecuteTime": {
     "end_time": "2022-02-05T06:36:38.452880Z",
     "start_time": "2022-02-05T06:33:15.486686Z"
    },
    "hidden": true
   },
   "outputs": [
    {
     "data": {
      "text/plain": [
       "XGBClassifier(colsample_bytree=0.9, learning_rate=0.8, max_depth=15,\n",
       "              min_child_weight=5, n_estimators=85, n_jobs=-1, random_state=42,\n",
       "              subsample=0.7, tree_method='exact')"
      ]
     },
     "execution_count": 100,
     "metadata": {},
     "output_type": "execute_result"
    }
   ],
   "source": [
    "# Fitting and saving the final model (Without 'nameDest' column)\n",
    "\n",
    "\n",
    "best_parameters = {'n_estimators': 85, \n",
    "                   'max_depth': 15, \n",
    "                   'learning_rate': 0.8, \n",
    "                   'subsample': 0.7, \n",
    "                   'colsample_bytree': 0.9, \n",
    "                   'min_child_weight': 5}\n",
    "\n",
    "\n",
    "\n",
    "# Instantiating the tuned classifier\n",
    "model = xgb.XGBClassifier(objective='binary:logistic',\n",
    "                          n_estimators=best_parameters['n_estimators'],\n",
    "                          max_depth=best_parameters['max_depth'],\n",
    "                          learning_rate=best_parameters['learning_rate'],\n",
    "                          subsample=best_parameters['subsample'],\n",
    "                          colsample_bytree=best_parameters['colsample_bytree'],\n",
    "                          min_child_weight=best_parameters['min_child_weight'],\n",
    "                          tree_method='exact',\n",
    "                          n_jobs=-1,\n",
    "                          random_state=42\n",
    "                         )\n",
    "\n",
    "# Fitting the classifier\n",
    "\n",
    "model.fit(X_train_boruta, y_train)\n"
   ]
  },
  {
   "cell_type": "code",
   "execution_count": 101,
   "id": "8d23bbdd",
   "metadata": {
    "ExecuteTime": {
     "end_time": "2022-02-05T06:40:09.431082Z",
     "start_time": "2022-02-05T06:36:38.592011Z"
    },
    "hidden": true
   },
   "outputs": [
    {
     "name": "stdout",
     "output_type": "stream",
     "text": [
      "Accuracy: 1.0\n",
      "\n",
      "Balanced Accuracy: 0.921\n",
      "\n",
      "AUC-ROC: 0.998\n",
      "\n",
      "Classification report:\n",
      "\n",
      "               precision    recall  f1-score   support\n",
      "\n",
      "           0       1.00      1.00      1.00   2096999\n",
      "           1       0.96      0.84      0.90      2666\n",
      "\n",
      "    accuracy                           1.00   2099665\n",
      "   macro avg       0.98      0.92      0.95   2099665\n",
      "weighted avg       1.00      1.00      1.00   2099665\n",
      "\n",
      "\n"
     ]
    },
    {
     "data": {
      "text/html": [
       "<div>\n",
       "<style scoped>\n",
       "    .dataframe tbody tr th:only-of-type {\n",
       "        vertical-align: middle;\n",
       "    }\n",
       "\n",
       "    .dataframe tbody tr th {\n",
       "        vertical-align: top;\n",
       "    }\n",
       "\n",
       "    .dataframe thead th {\n",
       "        text-align: right;\n",
       "    }\n",
       "</style>\n",
       "<table border=\"1\" class=\"dataframe\">\n",
       "  <thead>\n",
       "    <tr style=\"text-align: right;\">\n",
       "      <th></th>\n",
       "      <th>Model name</th>\n",
       "      <th>Accuracy</th>\n",
       "      <th>Balanced Accuracy</th>\n",
       "      <th>AUC</th>\n",
       "      <th>Precision</th>\n",
       "      <th>F1-score</th>\n",
       "      <th>Recall</th>\n",
       "    </tr>\n",
       "  </thead>\n",
       "  <tbody>\n",
       "    <tr>\n",
       "      <th>0</th>\n",
       "      <td>XGBoost</td>\n",
       "      <td>0.99975</td>\n",
       "      <td>0.920643</td>\n",
       "      <td>0.997875</td>\n",
       "      <td>0.956503</td>\n",
       "      <td>0.89523</td>\n",
       "      <td>0.841335</td>\n",
       "    </tr>\n",
       "  </tbody>\n",
       "</table>\n",
       "</div>"
      ],
      "text/plain": [
       "  Model name Accuracy Balanced Accuracy       AUC Precision F1-score    Recall\n",
       "0    XGBoost  0.99975          0.920643  0.997875  0.956503  0.89523  0.841335"
      ]
     },
     "execution_count": 101,
     "metadata": {},
     "output_type": "execute_result"
    }
   ],
   "source": [
    "# Metrics of tuned model (Without 'nameDest' column)\n",
    "\n",
    "df_xgb = get_model_metrics('XGBoost', model, X_train_boruta, y_train, X_test_boruta, y_test)\n",
    "\n",
    "\n",
    "df_xgb"
   ]
  },
  {
   "cell_type": "code",
   "execution_count": 15,
   "id": "f2d6e2ab",
   "metadata": {
    "ExecuteTime": {
     "end_time": "2022-02-05T01:26:37.609328Z",
     "start_time": "2022-02-05T01:26:37.584586Z"
    },
    "hidden": true,
    "scrolled": true
   },
   "outputs": [
    {
     "name": "stdout",
     "output_type": "stream",
     "text": [
      "XGBClassifier(colsample_bytree=0.9, learning_rate=0.8, max_depth=15,\n",
      "              min_child_weight=5, n_estimators=85, n_jobs=-1, random_state=42,\n",
      "              subsample=0.7, tree_method='exact')\n"
     ]
    }
   ],
   "source": [
    "print(model)\n",
    "\n",
    "# Saving fitted model - Final model (Without 'nameDest' column)\n",
    "cPickle.dump(model, bz2.BZ2File('/mnt/d/Gustavo/fraud-detection/modelXGBoost.pbz2', 'w'))"
   ]
  },
  {
   "cell_type": "markdown",
   "id": "94a71bfe",
   "metadata": {
    "heading_collapsed": true
   },
   "source": [
    "#  9- Error interpretation"
   ]
  },
  {
   "cell_type": "markdown",
   "id": "fa99fd6f",
   "metadata": {
    "heading_collapsed": true,
    "hidden": true
   },
   "source": [
    "## <font face=\"Arial\" color=\"gray\">9.1 Main</font>"
   ]
  },
  {
   "cell_type": "markdown",
   "id": "3d7e3d0a",
   "metadata": {
    "hidden": true
   },
   "source": [
    "Here we are going to use the test dataset as external data and the final model to make predictions to compare both true and predicted values to make possible calculations for business purposes. "
   ]
  },
  {
   "cell_type": "code",
   "execution_count": 102,
   "id": "db463cfa",
   "metadata": {
    "ExecuteTime": {
     "end_time": "2022-02-05T06:43:15.267533Z",
     "start_time": "2022-02-05T06:43:10.783657Z"
    },
    "hidden": true
   },
   "outputs": [],
   "source": [
    "# Loading X_test and y_test (scaled) and X_test  and y_test (unscaled)\n",
    "\n",
    "X_test = pickle.load(open('/mnt/d/Gustavo/fraud-detection/X_test.pkl', 'rb'))\n",
    "\n",
    "y_test = pickle.load(open('/mnt/d/Gustavo/fraud-detection/y_test.pkl', 'rb'))\n",
    "\n",
    "X_test_raw = pd.read_csv('/mnt/d/Gustavo/fraud-detection/X_test.csv')\n",
    "\n",
    "y_test_raw = pd.read_csv('/mnt/d/Gustavo/fraud-detection/y_test.csv')\n",
    "\n",
    "\n",
    "# Loading y_test (to use for baseline model business calculations)\n",
    "\n",
    "y_train = pickle.load(open('/mnt/d/Gustavo/fraud-detection/y_train.pkl', 'rb'))\n",
    "\n",
    "\n",
    "# Loading fitted ML XGBoost model\n",
    "\n",
    "model = cPickle.load(bz2.BZ2File('/mnt/d/Gustavo/fraud-detection/modelXGBoost.pbz2', 'rb'))"
   ]
  },
  {
   "cell_type": "code",
   "execution_count": 103,
   "id": "3645af3c",
   "metadata": {
    "ExecuteTime": {
     "end_time": "2022-02-05T06:43:18.932515Z",
     "start_time": "2022-02-05T06:43:18.915290Z"
    },
    "hidden": true
   },
   "outputs": [
    {
     "data": {
      "text/html": [
       "<div>\n",
       "<style scoped>\n",
       "    .dataframe tbody tr th:only-of-type {\n",
       "        vertical-align: middle;\n",
       "    }\n",
       "\n",
       "    .dataframe tbody tr th {\n",
       "        vertical-align: top;\n",
       "    }\n",
       "\n",
       "    .dataframe thead th {\n",
       "        text-align: right;\n",
       "    }\n",
       "</style>\n",
       "<table border=\"1\" class=\"dataframe\">\n",
       "  <thead>\n",
       "    <tr style=\"text-align: right;\">\n",
       "      <th></th>\n",
       "      <th>step</th>\n",
       "      <th>type</th>\n",
       "      <th>amount</th>\n",
       "      <th>nameOrig</th>\n",
       "      <th>oldbalanceOrg</th>\n",
       "      <th>newbalanceOrig</th>\n",
       "      <th>nameDest</th>\n",
       "      <th>oldbalanceDest</th>\n",
       "      <th>newbalanceDest</th>\n",
       "      <th>isFlaggedFraud</th>\n",
       "    </tr>\n",
       "  </thead>\n",
       "  <tbody>\n",
       "    <tr>\n",
       "      <th>1186641</th>\n",
       "      <td>132</td>\n",
       "      <td>CASH_IN</td>\n",
       "      <td>186994.49</td>\n",
       "      <td>C320666714</td>\n",
       "      <td>4980.00</td>\n",
       "      <td>191974.49</td>\n",
       "      <td>C1638234085</td>\n",
       "      <td>2565463.66</td>\n",
       "      <td>2225790.42</td>\n",
       "      <td>0</td>\n",
       "    </tr>\n",
       "    <tr>\n",
       "      <th>1199598</th>\n",
       "      <td>133</td>\n",
       "      <td>CASH_OUT</td>\n",
       "      <td>86377.61</td>\n",
       "      <td>C305317239</td>\n",
       "      <td>31480.00</td>\n",
       "      <td>0.00</td>\n",
       "      <td>C1726047166</td>\n",
       "      <td>0.00</td>\n",
       "      <td>86377.61</td>\n",
       "      <td>0</td>\n",
       "    </tr>\n",
       "    <tr>\n",
       "      <th>1185636</th>\n",
       "      <td>132</td>\n",
       "      <td>CASH_OUT</td>\n",
       "      <td>215489.19</td>\n",
       "      <td>C1372369468</td>\n",
       "      <td>21518.00</td>\n",
       "      <td>0.00</td>\n",
       "      <td>C467105520</td>\n",
       "      <td>6345756.55</td>\n",
       "      <td>6794954.89</td>\n",
       "      <td>0</td>\n",
       "    </tr>\n",
       "    <tr>\n",
       "      <th>6211424</th>\n",
       "      <td>588</td>\n",
       "      <td>TRANSFER</td>\n",
       "      <td>697319.21</td>\n",
       "      <td>C1191381567</td>\n",
       "      <td>25493.00</td>\n",
       "      <td>0.00</td>\n",
       "      <td>C233809815</td>\n",
       "      <td>2150239.95</td>\n",
       "      <td>2847559.16</td>\n",
       "      <td>0</td>\n",
       "    </tr>\n",
       "    <tr>\n",
       "      <th>4452703</th>\n",
       "      <td>323</td>\n",
       "      <td>PAYMENT</td>\n",
       "      <td>59243.58</td>\n",
       "      <td>C2024305751</td>\n",
       "      <td>29879.00</td>\n",
       "      <td>0.00</td>\n",
       "      <td>M336524512</td>\n",
       "      <td>0.00</td>\n",
       "      <td>0.00</td>\n",
       "      <td>0</td>\n",
       "    </tr>\n",
       "    <tr>\n",
       "      <th>...</th>\n",
       "      <td>...</td>\n",
       "      <td>...</td>\n",
       "      <td>...</td>\n",
       "      <td>...</td>\n",
       "      <td>...</td>\n",
       "      <td>...</td>\n",
       "      <td>...</td>\n",
       "      <td>...</td>\n",
       "      <td>...</td>\n",
       "      <td>...</td>\n",
       "    </tr>\n",
       "    <tr>\n",
       "      <th>1570006</th>\n",
       "      <td>155</td>\n",
       "      <td>CASH_IN</td>\n",
       "      <td>129715.85</td>\n",
       "      <td>C170740978</td>\n",
       "      <td>5054252.83</td>\n",
       "      <td>5183968.68</td>\n",
       "      <td>C1810492506</td>\n",
       "      <td>246692.94</td>\n",
       "      <td>116977.09</td>\n",
       "      <td>0</td>\n",
       "    </tr>\n",
       "    <tr>\n",
       "      <th>2234489</th>\n",
       "      <td>186</td>\n",
       "      <td>PAYMENT</td>\n",
       "      <td>2459.70</td>\n",
       "      <td>C1844108072</td>\n",
       "      <td>0.00</td>\n",
       "      <td>0.00</td>\n",
       "      <td>M1858126655</td>\n",
       "      <td>0.00</td>\n",
       "      <td>0.00</td>\n",
       "      <td>0</td>\n",
       "    </tr>\n",
       "    <tr>\n",
       "      <th>4926484</th>\n",
       "      <td>350</td>\n",
       "      <td>CASH_OUT</td>\n",
       "      <td>10579.16</td>\n",
       "      <td>C1579684659</td>\n",
       "      <td>59279.00</td>\n",
       "      <td>48699.84</td>\n",
       "      <td>C1119180135</td>\n",
       "      <td>322754.16</td>\n",
       "      <td>333333.32</td>\n",
       "      <td>0</td>\n",
       "    </tr>\n",
       "    <tr>\n",
       "      <th>4304572</th>\n",
       "      <td>307</td>\n",
       "      <td>CASH_OUT</td>\n",
       "      <td>73020.76</td>\n",
       "      <td>C379222646</td>\n",
       "      <td>20289.00</td>\n",
       "      <td>0.00</td>\n",
       "      <td>C1962227951</td>\n",
       "      <td>256102.84</td>\n",
       "      <td>329123.61</td>\n",
       "      <td>0</td>\n",
       "    </tr>\n",
       "    <tr>\n",
       "      <th>1692743</th>\n",
       "      <td>159</td>\n",
       "      <td>CASH_OUT</td>\n",
       "      <td>89698.85</td>\n",
       "      <td>C964068732</td>\n",
       "      <td>196071.00</td>\n",
       "      <td>106372.15</td>\n",
       "      <td>C1300328486</td>\n",
       "      <td>0.00</td>\n",
       "      <td>89698.85</td>\n",
       "      <td>0</td>\n",
       "    </tr>\n",
       "  </tbody>\n",
       "</table>\n",
       "<p>4262955 rows × 10 columns</p>\n",
       "</div>"
      ],
      "text/plain": [
       "         step      type     amount     nameOrig  oldbalanceOrg  \\\n",
       "1186641   132   CASH_IN  186994.49   C320666714        4980.00   \n",
       "1199598   133  CASH_OUT   86377.61   C305317239       31480.00   \n",
       "1185636   132  CASH_OUT  215489.19  C1372369468       21518.00   \n",
       "6211424   588  TRANSFER  697319.21  C1191381567       25493.00   \n",
       "4452703   323   PAYMENT   59243.58  C2024305751       29879.00   \n",
       "...       ...       ...        ...          ...            ...   \n",
       "1570006   155   CASH_IN  129715.85   C170740978     5054252.83   \n",
       "2234489   186   PAYMENT    2459.70  C1844108072           0.00   \n",
       "4926484   350  CASH_OUT   10579.16  C1579684659       59279.00   \n",
       "4304572   307  CASH_OUT   73020.76   C379222646       20289.00   \n",
       "1692743   159  CASH_OUT   89698.85   C964068732      196071.00   \n",
       "\n",
       "         newbalanceOrig     nameDest  oldbalanceDest  newbalanceDest  \\\n",
       "1186641       191974.49  C1638234085      2565463.66      2225790.42   \n",
       "1199598            0.00  C1726047166            0.00        86377.61   \n",
       "1185636            0.00   C467105520      6345756.55      6794954.89   \n",
       "6211424            0.00   C233809815      2150239.95      2847559.16   \n",
       "4452703            0.00   M336524512            0.00            0.00   \n",
       "...                 ...          ...             ...             ...   \n",
       "1570006      5183968.68  C1810492506       246692.94       116977.09   \n",
       "2234489            0.00  M1858126655            0.00            0.00   \n",
       "4926484        48699.84  C1119180135       322754.16       333333.32   \n",
       "4304572            0.00  C1962227951       256102.84       329123.61   \n",
       "1692743       106372.15  C1300328486            0.00        89698.85   \n",
       "\n",
       "         isFlaggedFraud  \n",
       "1186641               0  \n",
       "1199598               0  \n",
       "1185636               0  \n",
       "6211424               0  \n",
       "4452703               0  \n",
       "...                 ...  \n",
       "1570006               0  \n",
       "2234489               0  \n",
       "4926484               0  \n",
       "4304572               0  \n",
       "1692743               0  \n",
       "\n",
       "[4262955 rows x 10 columns]"
      ]
     },
     "execution_count": 103,
     "metadata": {},
     "output_type": "execute_result"
    }
   ],
   "source": [
    "X_train"
   ]
  },
  {
   "cell_type": "code",
   "execution_count": 104,
   "id": "66c20ccb",
   "metadata": {
    "ExecuteTime": {
     "end_time": "2022-02-05T06:43:23.853360Z",
     "start_time": "2022-02-05T06:43:23.710456Z"
    },
    "hidden": true
   },
   "outputs": [],
   "source": [
    "# Columns selected by Boruta - Without 'nameDest' column\n",
    "\n",
    "cols_selected_boruta = X_test.loc[:, [True, True, True, True, False, False, True, True, True, False, False, False,\n",
    "                                       False, False, False, False, False, False, False, False, False, False, True,\n",
    "                                       False, True, True, False, False, False, False, False, False, True, True,\n",
    "                                       False, False, False, False]].columns.tolist()"
   ]
  },
  {
   "cell_type": "code",
   "execution_count": 105,
   "id": "05292b5a",
   "metadata": {
    "ExecuteTime": {
     "end_time": "2022-02-05T06:43:27.744245Z",
     "start_time": "2022-02-05T06:43:27.488573Z"
    },
    "hidden": true
   },
   "outputs": [],
   "source": [
    "# Defining datasets with Boruta-selected features\n",
    "\n",
    "\n",
    "# X_test\n",
    "X_test_boruta = X_test[cols_selected_boruta].copy()\n",
    "\n"
   ]
  },
  {
   "cell_type": "code",
   "execution_count": 106,
   "id": "d418c349",
   "metadata": {
    "ExecuteTime": {
     "end_time": "2022-02-05T06:43:31.907053Z",
     "start_time": "2022-02-05T06:43:31.383072Z"
    },
    "hidden": true
   },
   "outputs": [],
   "source": [
    "# Adding 'isFraud' column to the end of X_test_raw\n",
    "\n",
    "X_test_raw = pd.concat([X_test_raw, y_test_raw], axis=1)\n",
    "\n"
   ]
  },
  {
   "cell_type": "code",
   "execution_count": 107,
   "id": "24a65ef7",
   "metadata": {
    "ExecuteTime": {
     "end_time": "2022-02-05T06:43:34.407708Z",
     "start_time": "2022-02-05T06:43:32.751342Z"
    },
    "hidden": true
   },
   "outputs": [],
   "source": [
    "# Adding 'Predictions' column to the end of X_test_raw\n",
    "\n",
    "X_test_raw['Predictions'] = model.predict(X_test_boruta)"
   ]
  },
  {
   "cell_type": "code",
   "execution_count": 108,
   "id": "cf47fc4b",
   "metadata": {
    "ExecuteTime": {
     "end_time": "2022-02-05T06:43:34.753086Z",
     "start_time": "2022-02-05T06:43:34.730186Z"
    },
    "hidden": true
   },
   "outputs": [
    {
     "data": {
      "text/html": [
       "<div>\n",
       "<style scoped>\n",
       "    .dataframe tbody tr th:only-of-type {\n",
       "        vertical-align: middle;\n",
       "    }\n",
       "\n",
       "    .dataframe tbody tr th {\n",
       "        vertical-align: top;\n",
       "    }\n",
       "\n",
       "    .dataframe thead th {\n",
       "        text-align: right;\n",
       "    }\n",
       "</style>\n",
       "<table border=\"1\" class=\"dataframe\">\n",
       "  <thead>\n",
       "    <tr style=\"text-align: right;\">\n",
       "      <th></th>\n",
       "      <th>step</th>\n",
       "      <th>type</th>\n",
       "      <th>amount</th>\n",
       "      <th>oldbalanceOrg</th>\n",
       "      <th>newbalanceOrig</th>\n",
       "      <th>nameDest</th>\n",
       "      <th>oldbalanceDest</th>\n",
       "      <th>newbalanceDest</th>\n",
       "      <th>isFlaggedFraud</th>\n",
       "      <th>day_of_month</th>\n",
       "      <th>week_of_month</th>\n",
       "      <th>hour_of_day</th>\n",
       "      <th>day_of_week</th>\n",
       "      <th>is_weekend</th>\n",
       "      <th>time_of_day</th>\n",
       "      <th>period_of_day</th>\n",
       "      <th>dest_type</th>\n",
       "      <th>oldbalanceOrg_status</th>\n",
       "      <th>newbalanceOrig_status</th>\n",
       "      <th>oldbalanceDest_status</th>\n",
       "      <th>newbalanceDest_status</th>\n",
       "      <th>is_oldbalanceOrg_higherthan_newbalanceOrig</th>\n",
       "      <th>is_oldbalanceDest_higherthan_newbalanceDest</th>\n",
       "      <th>transaction_direction</th>\n",
       "      <th>isFraud</th>\n",
       "      <th>Predictions</th>\n",
       "    </tr>\n",
       "  </thead>\n",
       "  <tbody>\n",
       "    <tr>\n",
       "      <th>0</th>\n",
       "      <td>278</td>\n",
       "      <td>CASH_IN</td>\n",
       "      <td>330218.42</td>\n",
       "      <td>20866.00</td>\n",
       "      <td>351084.42</td>\n",
       "      <td>C834976624</td>\n",
       "      <td>452419.57</td>\n",
       "      <td>122201.15</td>\n",
       "      <td>no</td>\n",
       "      <td>12</td>\n",
       "      <td>2</td>\n",
       "      <td>13</td>\n",
       "      <td>5</td>\n",
       "      <td>weekdays</td>\n",
       "      <td>PM</td>\n",
       "      <td>Afternoon</td>\n",
       "      <td>Costumer</td>\n",
       "      <td>non-zero</td>\n",
       "      <td>non-zero</td>\n",
       "      <td>non-zero</td>\n",
       "      <td>non-zero</td>\n",
       "      <td>no</td>\n",
       "      <td>yes</td>\n",
       "      <td>C2C</td>\n",
       "      <td>0</td>\n",
       "      <td>0</td>\n",
       "    </tr>\n",
       "    <tr>\n",
       "      <th>1</th>\n",
       "      <td>15</td>\n",
       "      <td>PAYMENT</td>\n",
       "      <td>11647.08</td>\n",
       "      <td>30370.00</td>\n",
       "      <td>18722.92</td>\n",
       "      <td>M215391829</td>\n",
       "      <td>0.00</td>\n",
       "      <td>0.00</td>\n",
       "      <td>no</td>\n",
       "      <td>1</td>\n",
       "      <td>1</td>\n",
       "      <td>14</td>\n",
       "      <td>1</td>\n",
       "      <td>weekend</td>\n",
       "      <td>PM</td>\n",
       "      <td>Afternoon</td>\n",
       "      <td>Merchant</td>\n",
       "      <td>non-zero</td>\n",
       "      <td>non-zero</td>\n",
       "      <td>zero</td>\n",
       "      <td>zero</td>\n",
       "      <td>yes</td>\n",
       "      <td>no</td>\n",
       "      <td>C2M</td>\n",
       "      <td>0</td>\n",
       "      <td>0</td>\n",
       "    </tr>\n",
       "    <tr>\n",
       "      <th>2</th>\n",
       "      <td>10</td>\n",
       "      <td>CASH_IN</td>\n",
       "      <td>152264.21</td>\n",
       "      <td>106589.00</td>\n",
       "      <td>258853.21</td>\n",
       "      <td>C1607284477</td>\n",
       "      <td>201303.01</td>\n",
       "      <td>49038.80</td>\n",
       "      <td>no</td>\n",
       "      <td>1</td>\n",
       "      <td>1</td>\n",
       "      <td>9</td>\n",
       "      <td>1</td>\n",
       "      <td>weekend</td>\n",
       "      <td>AM</td>\n",
       "      <td>Morning</td>\n",
       "      <td>Costumer</td>\n",
       "      <td>non-zero</td>\n",
       "      <td>non-zero</td>\n",
       "      <td>non-zero</td>\n",
       "      <td>non-zero</td>\n",
       "      <td>no</td>\n",
       "      <td>yes</td>\n",
       "      <td>C2C</td>\n",
       "      <td>0</td>\n",
       "      <td>0</td>\n",
       "    </tr>\n",
       "    <tr>\n",
       "      <th>3</th>\n",
       "      <td>403</td>\n",
       "      <td>TRANSFER</td>\n",
       "      <td>1551760.63</td>\n",
       "      <td>0.00</td>\n",
       "      <td>0.00</td>\n",
       "      <td>C1564353608</td>\n",
       "      <td>3198359.45</td>\n",
       "      <td>4750120.08</td>\n",
       "      <td>no</td>\n",
       "      <td>17</td>\n",
       "      <td>3</td>\n",
       "      <td>18</td>\n",
       "      <td>3</td>\n",
       "      <td>weekdays</td>\n",
       "      <td>PM</td>\n",
       "      <td>Afternoon</td>\n",
       "      <td>Costumer</td>\n",
       "      <td>zero</td>\n",
       "      <td>zero</td>\n",
       "      <td>non-zero</td>\n",
       "      <td>non-zero</td>\n",
       "      <td>no</td>\n",
       "      <td>no</td>\n",
       "      <td>C2C</td>\n",
       "      <td>0</td>\n",
       "      <td>0</td>\n",
       "    </tr>\n",
       "    <tr>\n",
       "      <th>4</th>\n",
       "      <td>206</td>\n",
       "      <td>CASH_IN</td>\n",
       "      <td>78172.30</td>\n",
       "      <td>2921331.58</td>\n",
       "      <td>2999503.88</td>\n",
       "      <td>C1091768874</td>\n",
       "      <td>415821.90</td>\n",
       "      <td>337649.60</td>\n",
       "      <td>no</td>\n",
       "      <td>9</td>\n",
       "      <td>2</td>\n",
       "      <td>13</td>\n",
       "      <td>2</td>\n",
       "      <td>weekdays</td>\n",
       "      <td>PM</td>\n",
       "      <td>Afternoon</td>\n",
       "      <td>Costumer</td>\n",
       "      <td>non-zero</td>\n",
       "      <td>non-zero</td>\n",
       "      <td>non-zero</td>\n",
       "      <td>non-zero</td>\n",
       "      <td>no</td>\n",
       "      <td>yes</td>\n",
       "      <td>C2C</td>\n",
       "      <td>0</td>\n",
       "      <td>0</td>\n",
       "    </tr>\n",
       "  </tbody>\n",
       "</table>\n",
       "</div>"
      ],
      "text/plain": [
       "   step      type      amount  oldbalanceOrg  newbalanceOrig     nameDest  \\\n",
       "0   278   CASH_IN   330218.42       20866.00       351084.42   C834976624   \n",
       "1    15   PAYMENT    11647.08       30370.00        18722.92   M215391829   \n",
       "2    10   CASH_IN   152264.21      106589.00       258853.21  C1607284477   \n",
       "3   403  TRANSFER  1551760.63           0.00            0.00  C1564353608   \n",
       "4   206   CASH_IN    78172.30     2921331.58      2999503.88  C1091768874   \n",
       "\n",
       "   oldbalanceDest  newbalanceDest isFlaggedFraud  day_of_month  week_of_month  \\\n",
       "0       452419.57       122201.15             no            12              2   \n",
       "1            0.00            0.00             no             1              1   \n",
       "2       201303.01        49038.80             no             1              1   \n",
       "3      3198359.45      4750120.08             no            17              3   \n",
       "4       415821.90       337649.60             no             9              2   \n",
       "\n",
       "   hour_of_day  day_of_week is_weekend time_of_day period_of_day dest_type  \\\n",
       "0           13            5   weekdays          PM     Afternoon  Costumer   \n",
       "1           14            1    weekend          PM     Afternoon  Merchant   \n",
       "2            9            1    weekend          AM       Morning  Costumer   \n",
       "3           18            3   weekdays          PM     Afternoon  Costumer   \n",
       "4           13            2   weekdays          PM     Afternoon  Costumer   \n",
       "\n",
       "  oldbalanceOrg_status newbalanceOrig_status oldbalanceDest_status  \\\n",
       "0             non-zero              non-zero              non-zero   \n",
       "1             non-zero              non-zero                  zero   \n",
       "2             non-zero              non-zero              non-zero   \n",
       "3                 zero                  zero              non-zero   \n",
       "4             non-zero              non-zero              non-zero   \n",
       "\n",
       "  newbalanceDest_status is_oldbalanceOrg_higherthan_newbalanceOrig  \\\n",
       "0              non-zero                                         no   \n",
       "1                  zero                                        yes   \n",
       "2              non-zero                                         no   \n",
       "3              non-zero                                         no   \n",
       "4              non-zero                                         no   \n",
       "\n",
       "  is_oldbalanceDest_higherthan_newbalanceDest transaction_direction  isFraud  \\\n",
       "0                                         yes                   C2C        0   \n",
       "1                                          no                   C2M        0   \n",
       "2                                         yes                   C2C        0   \n",
       "3                                          no                   C2C        0   \n",
       "4                                         yes                   C2C        0   \n",
       "\n",
       "   Predictions  \n",
       "0            0  \n",
       "1            0  \n",
       "2            0  \n",
       "3            0  \n",
       "4            0  "
      ]
     },
     "execution_count": 108,
     "metadata": {},
     "output_type": "execute_result"
    }
   ],
   "source": [
    "X_test_raw.head()"
   ]
  },
  {
   "cell_type": "markdown",
   "id": "02b8efcf",
   "metadata": {
    "heading_collapsed": true,
    "hidden": true
   },
   "source": [
    "## <font face=\"Arial\" color=\"gray\">9.2 Business performance</font>"
   ]
  },
  {
   "cell_type": "markdown",
   "id": "1af8a8a5",
   "metadata": {
    "hidden": true
   },
   "source": [
    "Here is important to remind about the business model of our fictious company (how the company actually makes money). The  Transaction Tracker trackers bank transactions to check for any kind of fraud. Revenue stream information can be found as follows:\n",
    "\n",
    "- For <font color=red><b>fraudulent</b></font> transactions correctly detected by the model, 25% of the amount of the corresponding transactions goes to Transaction Tracker as payment.\n",
    "\n",
    "- For <font color=green><b>non-fraudulent</b></font> transactions detected by the model as fraud, 25% of the amount of the corresponding transactions goes to Transaction Tracker.\n",
    "\n",
    "- For <font color=red><b>fraudulent</b></font> transactions wrongfully detected as non-fraud, the Transaction Tracker must 100% refund the victim of fraud.\n",
    "\n",
    "Now we are going to compare the old previously trained model with the newly trained one from the business standpoint looking out for the profit."
   ]
  },
  {
   "cell_type": "markdown",
   "id": "1507ac45",
   "metadata": {
    "hidden": true
   },
   "source": [
    "Old model - with 'nameDest' column"
   ]
  },
  {
   "cell_type": "code",
   "execution_count": 155,
   "id": "de54233f",
   "metadata": {
    "ExecuteTime": {
     "end_time": "2022-02-02T23:16:59.059629Z",
     "start_time": "2022-02-02T23:16:59.006099Z"
    },
    "hidden": true,
    "hide_input": true,
    "scrolled": false
   },
   "outputs": [
    {
     "name": "stdout",
     "output_type": "stream",
     "text": [
      "\n",
      "Revenue:\n",
      "\n",
      "Sum of amount of fraudulent transactions correctly detected by Transaction Tracker: $3,719,735,063.56\n",
      "\n",
      "Transaction Tracker amount received for detecting fraudulent transactions (25%): $929,933,765.89\n",
      "\n",
      "Sum of amount of non-fraudulent transactions detected by Transaction Tracker as fraud: $27,691,057.44\n",
      "\n",
      "Transaction Tracker amount received for this transaction operation (5%): $1,384,552.87\n",
      "\n",
      "Sum of amount of fraudulent transactions  wrongfully detected by Transaction Tracker as non-fraud: $85,846,430.44\n",
      "\n",
      "Transaction Tracker refound cashback (-100%): $85,846,430.44\n",
      "\n",
      "\n",
      "Profit:\n",
      "\n",
      "(25%): $929,933,765.89\n",
      "\n",
      "+(5%): $1,384,552.87\n",
      "\n",
      "-(100%): $85,846,430.44\n",
      "------------------------------\n",
      "\n",
      "Total profit: $845,471,888.32\n"
     ]
    }
   ],
   "source": [
    "\n",
    "print('\\nRevenue:')\n",
    "\n",
    "# Amount of money involved fraudulent transactions that were correctly detected my the model\n",
    "\n",
    "\n",
    "print('\\nSum of amount of fraudulent transactions correctly detected by Transaction Tracker: ${:,}'.format(round(X_test_raw.loc[(X_test_raw['isFraud']==1) & (X_test_raw['Predictions']==1), 'amount'].sum(), 2)))\n",
    "\n",
    "\n",
    "# 25% of this amount goes to Transaction Tracker as payment\n",
    "\n",
    "\n",
    "print('\\nTransaction Tracker amount received for detecting fraudulent transactions (25%): ${:,}'.format(round(round(X_test_raw.loc[(X_test_raw['isFraud']==1) & (X_test_raw['Predictions']==1), 'amount'].sum(), 2)*0.25,2)))\n",
    "\n",
    "\n",
    "# Amount of money involved non-fraudulent transactions that detected my the model as fraud\n",
    "\n",
    "\n",
    "print('\\nSum of amount of non-fraudulent transactions detected by Transaction Tracker as fraud: ${:,}'.format(round(X_test_raw.loc[(X_test_raw['isFraud']==0) & (X_test_raw['Predictions']==1), 'amount'].sum(), 2)))\n",
    "\n",
    "\n",
    "# 5% of this amount goes to Transaction Tracker as payment\n",
    "\n",
    "\n",
    "print('\\nTransaction Tracker amount received for this transaction operation (5%): ${:,}'.format(round(round(X_test_raw.loc[(X_test_raw['isFraud']==0) & (X_test_raw['Predictions']==1), 'amount'].sum(), 2)*0.05,2)))\n",
    "\n",
    "\n",
    "# Amount of money involved fraudulent transactions that were wrongfully detected my the model as non-fraud\n",
    "\n",
    "\n",
    "print('\\nSum of amount of fraudulent transactions  wrongfully detected by Transaction Tracker as non-fraud: ${:,}'.format(round(X_test_raw.loc[(X_test_raw['isFraud']==1) & (X_test_raw['Predictions']==0), 'amount'].sum(), 2)))\n",
    "\n",
    "\n",
    "# 100% of this amount goes back to fraud victim as refund from Transaction Tracker\n",
    "\n",
    "\n",
    "print('\\nTransaction Tracker refound cashback (-100%): ${:,}'.format(round(X_test_raw.loc[(X_test_raw['isFraud']==1) & (X_test_raw['Predictions']==0), 'amount'].sum(), 2)))\n",
    "\n",
    "\n",
    "print('\\n\\nProfit:')\n",
    "\n",
    "print('\\n(25%): ${:,}'.format(round(round(X_test_raw.loc[(X_test_raw['isFraud']==1) & (X_test_raw['Predictions']==1), 'amount'].sum(), 2)*0.25,2)))\n",
    "\n",
    "print('\\n+(5%): ${:,}'.format(round(round(X_test_raw.loc[(X_test_raw['isFraud']==0) & (X_test_raw['Predictions']==1), 'amount'].sum(), 2)*0.05,2)))\n",
    "\n",
    "print('\\n-(100%): ${:,}'.format(round(X_test_raw.loc[(X_test_raw['isFraud']==1) & (X_test_raw['Predictions']==0), 'amount'].sum(), 2)))\n",
    "\n",
    "print('-'*30)\n",
    "\n",
    "print('\\nTotal profit: ${:,}'.format(round((round(round(X_test_raw.loc[(X_test_raw['isFraud']==1) & (X_test_raw['Predictions']==1), 'amount'].sum(), 2)*0.25,2) + round(round(X_test_raw.loc[(X_test_raw['isFraud']==0) & (X_test_raw['Predictions']==1), 'amount'].sum(), 2)*0.05,2)) - round(X_test_raw.loc[(X_test_raw['isFraud']==1) & (X_test_raw['Predictions']==0), 'amount'].sum(), 2),2) ))\n"
   ]
  },
  {
   "cell_type": "markdown",
   "id": "2be6d7e5",
   "metadata": {
    "hidden": true
   },
   "source": [
    "New model - without 'nameDest' column"
   ]
  },
  {
   "cell_type": "code",
   "execution_count": 91,
   "id": "14a9d151",
   "metadata": {
    "ExecuteTime": {
     "end_time": "2022-02-05T02:37:29.957772Z",
     "start_time": "2022-02-05T02:37:29.897422Z"
    },
    "hidden": true,
    "hide_input": true
   },
   "outputs": [
    {
     "name": "stdout",
     "output_type": "stream",
     "text": [
      "\n",
      "Revenue:\n",
      "\n",
      "Sum of amount of fraudulent transactions correctly detected by Transaction Tracker: $3,727,842,474.35\n",
      "\n",
      "Transaction Tracker amount received for detecting fraudulent transactions (25%): $931,960,618.59\n",
      "\n",
      "Sum of amount of non-fraudulent transactions detected by Transaction Tracker as fraud: $24,622,407.99\n",
      "\n",
      "Transaction Tracker amount received for this transaction operation (5%): $1,231,120.4\n",
      "\n",
      "Sum of amount of fraudulent transactions  wrongfully detected by Transaction Tracker as non-fraud: $77,739,019.65\n",
      "\n",
      "Transaction Tracker refound cashback (-100%): $77,739,019.65\n",
      "\n",
      "\n",
      "Profit:\n",
      "\n",
      "(25%): $931,960,618.59\n",
      "\n",
      "+(5%): $1,231,120.4\n",
      "\n",
      "-(100%): $77,739,019.65\n",
      "------------------------------\n",
      "\n",
      "Total profit: $855,452,719.34\n"
     ]
    }
   ],
   "source": [
    "\n",
    "print('\\nRevenue:')\n",
    "\n",
    "# Amount of money involved fraudulent transactions that were correctly detected my the model\n",
    "\n",
    "\n",
    "print('\\nSum of amount of fraudulent transactions correctly detected by Transaction Tracker: ${:,}'.format(round(X_test_raw.loc[(X_test_raw['isFraud']==1) & (X_test_raw['Predictions']==1), 'amount'].sum(), 2)))\n",
    "\n",
    "\n",
    "# 25% of this amount goes to Transaction Tracker as payment\n",
    "\n",
    "\n",
    "print('\\nTransaction Tracker amount received for detecting fraudulent transactions (25%): ${:,}'.format(round(round(X_test_raw.loc[(X_test_raw['isFraud']==1) & (X_test_raw['Predictions']==1), 'amount'].sum(), 2)*0.25,2)))\n",
    "\n",
    "\n",
    "# Amount of money involved non-fraudulent transactions that detected my the model as fraud\n",
    "\n",
    "\n",
    "print('\\nSum of amount of non-fraudulent transactions detected by Transaction Tracker as fraud: ${:,}'.format(round(X_test_raw.loc[(X_test_raw['isFraud']==0) & (X_test_raw['Predictions']==1), 'amount'].sum(), 2)))\n",
    "\n",
    "\n",
    "# 5% of this amount goes to Transaction Tracker as payment\n",
    "\n",
    "\n",
    "print('\\nTransaction Tracker amount received for this transaction operation (5%): ${:,}'.format(round(round(X_test_raw.loc[(X_test_raw['isFraud']==0) & (X_test_raw['Predictions']==1), 'amount'].sum(), 2)*0.05,2)))\n",
    "\n",
    "\n",
    "# Amount of money involved fraudulent transactions that were wrongfully detected my the model as non-fraud\n",
    "\n",
    "\n",
    "print('\\nSum of amount of fraudulent transactions  wrongfully detected by Transaction Tracker as non-fraud: ${:,}'.format(round(X_test_raw.loc[(X_test_raw['isFraud']==1) & (X_test_raw['Predictions']==0), 'amount'].sum(), 2)))\n",
    "\n",
    "\n",
    "# 100% of this amount goes back to fraud victim as refund from Transaction Tracker\n",
    "\n",
    "\n",
    "print('\\nTransaction Tracker refound cashback (-100%): ${:,}'.format(round(X_test_raw.loc[(X_test_raw['isFraud']==1) & (X_test_raw['Predictions']==0), 'amount'].sum(), 2)))\n",
    "\n",
    "\n",
    "print('\\n\\nProfit:')\n",
    "\n",
    "print('\\n(25%): ${:,}'.format(round(round(X_test_raw.loc[(X_test_raw['isFraud']==1) & (X_test_raw['Predictions']==1), 'amount'].sum(), 2)*0.25,2)))\n",
    "\n",
    "print('\\n+(5%): ${:,}'.format(round(round(X_test_raw.loc[(X_test_raw['isFraud']==0) & (X_test_raw['Predictions']==1), 'amount'].sum(), 2)*0.05,2)))\n",
    "\n",
    "print('\\n-(100%): ${:,}'.format(round(X_test_raw.loc[(X_test_raw['isFraud']==1) & (X_test_raw['Predictions']==0), 'amount'].sum(), 2)))\n",
    "\n",
    "print('-'*30)\n",
    "\n",
    "print('\\nTotal profit: ${:,}'.format(round((round(round(X_test_raw.loc[(X_test_raw['isFraud']==1) & (X_test_raw['Predictions']==1), 'amount'].sum(), 2)*0.25,2) + round(round(X_test_raw.loc[(X_test_raw['isFraud']==0) & (X_test_raw['Predictions']==1), 'amount'].sum(), 2)*0.05,2)) - round(X_test_raw.loc[(X_test_raw['isFraud']==1) & (X_test_raw['Predictions']==0), 'amount'].sum(), 2),2) ))\n"
   ]
  },
  {
   "cell_type": "markdown",
   "id": "35fdbb4c",
   "metadata": {
    "hidden": true
   },
   "source": [
    "Here it was possible to note that, aside from ease model deployment, the removal of the column 'nameDest' even increased Transaction Tracker's profit."
   ]
  },
  {
   "cell_type": "markdown",
   "id": "6b138770",
   "metadata": {
    "hidden": true
   },
   "source": [
    " Now we are going to point out the advantages for client that hires the service provided by Transaction Tracker. We will assume for this scenario that the hiring client uses the baseline model."
   ]
  },
  {
   "cell_type": "code",
   "execution_count": 92,
   "id": "e6bdbb66",
   "metadata": {
    "ExecuteTime": {
     "end_time": "2022-02-05T02:38:57.580632Z",
     "start_time": "2022-02-05T02:38:56.915458Z"
    },
    "hidden": true,
    "hide_input": false
   },
   "outputs": [],
   "source": [
    "# Random model - setting\n",
    "\n",
    "target_variables_list = y_train.unique().tolist() # target variables (class 0=non-Fraud, 1=Fraud)\n",
    "\n",
    "k_num = y_test.shape[0] # k number of values to sample from (number of rows in y_test)\n",
    "\n",
    "class_weights = y_test.value_counts(normalize=True).tolist() # proportion of samples of each class\n",
    "\n",
    "\n",
    "# Random model\n",
    "\n",
    "y_pred = random.choices(population=target_variables_list , weights=class_weights, k=k_num)\n",
    "\n",
    "\n",
    "# Adding column 'Predictions_baseline_model' to X_test_raw datset\n",
    "\n",
    "X_test_raw['Predictions_baseline_model'] = y_pred"
   ]
  },
  {
   "cell_type": "markdown",
   "id": "6f73004c",
   "metadata": {
    "hidden": true
   },
   "source": [
    "Old model - with 'nameDest' column"
   ]
  },
  {
   "cell_type": "code",
   "execution_count": 154,
   "id": "5f3a98e2",
   "metadata": {
    "ExecuteTime": {
     "end_time": "2022-02-02T23:01:02.601003Z",
     "start_time": "2022-02-02T23:01:02.552680Z"
    },
    "hidden": true,
    "hide_input": true,
    "scrolled": false
   },
   "outputs": [
    {
     "name": "stdout",
     "output_type": "stream",
     "text": [
      "\n",
      "Baseline model\n",
      "\n",
      "Sum of amount of fraudulent transactions correctly detected by baseline model: $1,789,207.89\n",
      "\n",
      "Sum of amount of fraudulent transactions wrongfully detected by baseline model as non-fraud: $3,803,792,286.11\n",
      "\n",
      "\n",
      "Expenses (loss) calculation:\n",
      "\n",
      "\n",
      "Without hiring Transaction Tracker services: $3,803,792,286.11\n",
      "\n",
      "Hiring Transaction Tracker services:\n",
      "\n",
      "\n",
      "(25%): $929,933,765.89\n",
      "\n",
      "+(5%): $1,384,552.87\n",
      "------------------------------\n",
      "\n",
      "Sum: $931,318,318.76\n",
      "\n",
      "\n",
      "Total saved by hiring Transaction Tracker services: $2,875,243,073.09\n"
     ]
    }
   ],
   "source": [
    "print('\\nBaseline model')\n",
    "\n",
    "\n",
    "print('\\nSum of amount of fraudulent transactions correctly detected by baseline model: ${:,}'.format(round(X_test_raw.loc[(X_test_raw['isFraud']==1) & (X_test_raw['Predictions_baseline_model']==1), 'amount'].sum(), 2)))\n",
    "\n",
    "print('\\nSum of amount of fraudulent transactions wrongfully detected by baseline model as non-fraud: ${:,}'.format(round(X_test_raw.loc[(X_test_raw['isFraud']==1) & (X_test_raw['Predictions_baseline_model']==0), 'amount'].sum(), 2)))\n",
    "\n",
    "\n",
    "\n",
    "print('\\n\\nExpenses (loss) calculation:\\n')\n",
    "\n",
    "print('\\nWithout hiring Transaction Tracker services: ${:,}'.format(round(X_test_raw.loc[(X_test_raw['isFraud']==1) & (X_test_raw['Predictions_baseline_model']==0), 'amount'].sum(), 2)))\n",
    "\n",
    "\n",
    "print('\\nHiring Transaction Tracker services:\\n')\n",
    "\n",
    "print('\\n(25%): ${:,}'.format(round(round(X_test_raw.loc[(X_test_raw['isFraud']==1) & (X_test_raw['Predictions']==1), 'amount'].sum(), 2)*0.25,2)))\n",
    "\n",
    "print('\\n+(5%): ${:,}'.format(round(round(X_test_raw.loc[(X_test_raw['isFraud']==0) & (X_test_raw['Predictions']==1), 'amount'].sum(), 2)*0.05,2)))\n",
    "\n",
    "print('-'*30)\n",
    "\n",
    "print('\\nSum: ${:,}'.format(round(round(X_test_raw.loc[(X_test_raw['isFraud']==1) & (X_test_raw['Predictions']==1), 'amount'].sum(), 2)*0.25,2) + round(round(X_test_raw.loc[(X_test_raw['isFraud']==0) & (X_test_raw['Predictions']==1), 'amount'].sum(), 2)*0.05,2)))\n",
    "\n",
    "print('\\n\\nTotal saved by hiring Transaction Tracker services: ${:,}'.format(round(X_test_raw.loc[(X_test_raw['isFraud']==1) & (X_test_raw['Predictions_baseline_model']==0), 'amount'].sum(), 2) - round(round(X_test_raw.loc[(X_test_raw['isFraud']==1) & (X_test_raw['Predictions']==1), 'amount'].sum(), 2)*0.25,2) + round(round(X_test_raw.loc[(X_test_raw['isFraud']==0) & (X_test_raw['Predictions']==1), 'amount'].sum(), 2)*0.05,2)))\n"
   ]
  },
  {
   "cell_type": "markdown",
   "id": "8ba20ce9",
   "metadata": {
    "hidden": true
   },
   "source": [
    "New model - without 'nameDest' column"
   ]
  },
  {
   "cell_type": "code",
   "execution_count": 93,
   "id": "0b8623ca",
   "metadata": {
    "ExecuteTime": {
     "end_time": "2022-02-05T02:39:08.412248Z",
     "start_time": "2022-02-05T02:39:08.360497Z"
    },
    "hidden": true,
    "hide_input": true,
    "scrolled": false
   },
   "outputs": [
    {
     "name": "stdout",
     "output_type": "stream",
     "text": [
      "\n",
      "Baseline model\n",
      "\n",
      "Sum of amount of fraudulent transactions correctly detected by baseline model: $2,443,622.9\n",
      "\n",
      "Sum of amount of fraudulent transactions wrongfully detected by baseline model as non-fraud: $3,803,137,871.1\n",
      "\n",
      "\n",
      "Expenses (loss) calculation:\n",
      "\n",
      "\n",
      "Without hiring Transaction Tracker services: $3,803,137,871.1\n",
      "\n",
      "Hiring Transaction Tracker services:\n",
      "\n",
      "\n",
      "(25%): $931,960,618.59\n",
      "\n",
      "+(5%): $1,231,120.4\n",
      "------------------------------\n",
      "\n",
      "Sum: $933,191,738.99\n",
      "\n",
      "\n",
      "Total saved by hiring Transaction Tracker services: $2,872,408,372.91\n"
     ]
    }
   ],
   "source": [
    "print('\\nBaseline model')\n",
    "\n",
    "\n",
    "print('\\nSum of amount of fraudulent transactions correctly detected by baseline model: ${:,}'.format(round(X_test_raw.loc[(X_test_raw['isFraud']==1) & (X_test_raw['Predictions_baseline_model']==1), 'amount'].sum(), 2)))\n",
    "\n",
    "print('\\nSum of amount of fraudulent transactions wrongfully detected by baseline model as non-fraud: ${:,}'.format(round(X_test_raw.loc[(X_test_raw['isFraud']==1) & (X_test_raw['Predictions_baseline_model']==0), 'amount'].sum(), 2)))\n",
    "\n",
    "\n",
    "\n",
    "print('\\n\\nExpenses (loss) calculation:\\n')\n",
    "\n",
    "print('\\nWithout hiring Transaction Tracker services: ${:,}'.format(round(X_test_raw.loc[(X_test_raw['isFraud']==1) & (X_test_raw['Predictions_baseline_model']==0), 'amount'].sum(), 2)))\n",
    "\n",
    "\n",
    "print('\\nHiring Transaction Tracker services:\\n')\n",
    "\n",
    "print('\\n(25%): ${:,}'.format(round(round(X_test_raw.loc[(X_test_raw['isFraud']==1) & (X_test_raw['Predictions']==1), 'amount'].sum(), 2)*0.25,2)))\n",
    "\n",
    "print('\\n+(5%): ${:,}'.format(round(round(X_test_raw.loc[(X_test_raw['isFraud']==0) & (X_test_raw['Predictions']==1), 'amount'].sum(), 2)*0.05,2)))\n",
    "\n",
    "print('-'*30)\n",
    "\n",
    "print('\\nSum: ${:,}'.format(round(round(X_test_raw.loc[(X_test_raw['isFraud']==1) & (X_test_raw['Predictions']==1), 'amount'].sum(), 2)*0.25,2) + round(round(X_test_raw.loc[(X_test_raw['isFraud']==0) & (X_test_raw['Predictions']==1), 'amount'].sum(), 2)*0.05,2)))\n",
    "\n",
    "print('\\n\\nTotal saved by hiring Transaction Tracker services: ${:,}'.format(round(X_test_raw.loc[(X_test_raw['isFraud']==1) & (X_test_raw['Predictions_baseline_model']==0), 'amount'].sum(), 2) - round(round(X_test_raw.loc[(X_test_raw['isFraud']==1) & (X_test_raw['Predictions']==1), 'amount'].sum(), 2)*0.25,2) + round(round(X_test_raw.loc[(X_test_raw['isFraud']==0) & (X_test_raw['Predictions']==1), 'amount'].sum(), 2)*0.05,2)))\n"
   ]
  },
  {
   "cell_type": "markdown",
   "id": "62552c8e",
   "metadata": {
    "hidden": true
   },
   "source": [
    "Here we conclude that the improvent of model performance represents more expenses for the hiring client. It is reasonable considering that now they would be paying for a more qualified service. Even so the amount of money saved represents a huge advantage over baseline model."
   ]
  },
  {
   "cell_type": "markdown",
   "id": "bb588780",
   "metadata": {
    "heading_collapsed": true,
    "hidden": true
   },
   "source": [
    "## <font face=\"Arial\" color=\"gray\">9.3 Machine learning performance</font>"
   ]
  },
  {
   "cell_type": "markdown",
   "id": "45ca516f",
   "metadata": {
    "hidden": true
   },
   "source": [
    "Old model - with 'nameDest' column"
   ]
  },
  {
   "cell_type": "code",
   "execution_count": 92,
   "id": "593b8724",
   "metadata": {
    "ExecuteTime": {
     "end_time": "2022-02-01T00:38:10.422718Z",
     "start_time": "2022-02-01T00:37:49.756974Z"
    },
    "hidden": true,
    "hide_input": true,
    "scrolled": false
   },
   "outputs": [
    {
     "data": {
      "image/png": "[encoded data removed]",
      "text/plain": [
       "<Figure size 1080x720 with 2 Axes>"
      ]
     },
     "metadata": {},
     "output_type": "display_data"
    }
   ],
   "source": [
    "\n",
    "# Summary of metrics ============================================================================\n",
    "\n",
    "\n",
    "sns.set(font_scale=2.0)\n",
    "\n",
    "# Confusion matrix curve\n",
    "\n",
    "\n",
    "plt.figure(figsize=(15,10))\n",
    "\n",
    "# raw\n",
    "\n",
    "ax1 = plt.subplot(1,2,1)\n",
    "\n",
    "ax1.set_title('Confusion Matrix')\n",
    "\n",
    "cm1 = metrics.plot_confusion_matrix(model, X_test_boruta, y_test, ax=ax1, colorbar=False, cmap='Blues')\n",
    "\n",
    "\n",
    "\n",
    "\n",
    "# normalized\n",
    "\n",
    "ax2 = plt.subplot(1,2,2)\n",
    "\n",
    "ax2.set_title('Confusion Matrix - Normalized data')\n",
    "\n",
    "cm2 = metrics.plot_confusion_matrix(model, X_test_boruta, y_test, normalize='true', ax=ax2, colorbar=False, cmap='Blues');\n",
    "\n",
    "\n",
    "\n",
    "plt.tight_layout()"
   ]
  },
  {
   "cell_type": "markdown",
   "id": "446ea317",
   "metadata": {
    "hidden": true
   },
   "source": [
    "New model - without 'nameDest' column"
   ]
  },
  {
   "cell_type": "code",
   "execution_count": 109,
   "id": "83694487",
   "metadata": {
    "ExecuteTime": {
     "end_time": "2022-02-05T06:44:15.836440Z",
     "start_time": "2022-02-05T06:44:11.624413Z"
    },
    "hidden": true,
    "hide_input": true,
    "scrolled": false
   },
   "outputs": [
    {
     "data": {
      "image/png": "[encoded data removed]",
      "text/plain": [
       "<Figure size 1080x720 with 2 Axes>"
      ]
     },
     "metadata": {},
     "output_type": "display_data"
    }
   ],
   "source": [
    "\n",
    "# Summary of metrics ============================================================================\n",
    "\n",
    "\n",
    "sns.set(font_scale=2.0)\n",
    "\n",
    "# Confusion matrix curve\n",
    "\n",
    "\n",
    "plt.figure(figsize=(15,10))\n",
    "\n",
    "# raw\n",
    "\n",
    "ax1 = plt.subplot(1,2,1)\n",
    "\n",
    "ax1.set_title('Confusion Matrix')\n",
    "\n",
    "cm1 = metrics.plot_confusion_matrix(model, X_test_boruta, y_test, ax=ax1, colorbar=False, cmap='Blues')\n",
    "\n",
    "\n",
    "\n",
    "\n",
    "# normalized\n",
    "\n",
    "ax2 = plt.subplot(1,2,2)\n",
    "\n",
    "ax2.set_title('Confusion Matrix - Normalized data')\n",
    "\n",
    "cm2 = metrics.plot_confusion_matrix(model, X_test_boruta, y_test, normalize='true', ax=ax2, colorbar=False, cmap='Blues');\n",
    "\n",
    "\n",
    "\n",
    "plt.tight_layout()"
   ]
  },
  {
   "cell_type": "code",
   "execution_count": 79,
   "id": "5ef1629e",
   "metadata": {
    "ExecuteTime": {
     "end_time": "2022-02-01T00:24:12.271353Z",
     "start_time": "2022-02-01T00:23:51.197710Z"
    },
    "hidden": true,
    "hide_input": true,
    "scrolled": true
   },
   "outputs": [
    {
     "data": {
      "image/png": "[encoded data removed]",
      "text/plain": [
       "<Figure size 1080x360 with 2 Axes>"
      ]
     },
     "metadata": {
      "needs_background": "light"
     },
     "output_type": "display_data"
    }
   ],
   "source": [
    "plt.figure(figsize=(15,5))\n",
    "\n",
    "\n",
    "# ROC curve\n",
    "\n",
    "ax3 = plt.subplot(1,2,1)\n",
    "\n",
    "ax3.set_title('ROC curve')\n",
    "\n",
    "metrics.plot_roc_curve(model, X_test_boruta, y_test, ax=ax3);\n",
    "\n",
    "\n",
    "\n",
    "\n",
    "\n",
    "# Precision-Recall curve\n",
    "\n",
    "ax4 = plt.subplot(1,2,2)\n",
    "\n",
    "ax4.set_title('Precision-Recall curve')\n",
    "\n",
    "metrics.plot_precision_recall_curve(model, X_test_boruta, y_test, ax=ax4);\n"
   ]
  },
  {
   "cell_type": "markdown",
   "id": "1d2e614a",
   "metadata": {
    "heading_collapsed": true
   },
   "source": [
    "#  10- Model deployment"
   ]
  },
  {
   "cell_type": "markdown",
   "id": "93e6a51a",
   "metadata": {
    "heading_collapsed": true,
    "hidden": true
   },
   "source": [
    "## <font face=\"Arial\" color=\"gray\">10.1 Class Fraud - Data_prep.py</font>"
   ]
  },
  {
   "cell_type": "code",
   "execution_count": null,
   "id": "5e391b33",
   "metadata": {
    "hidden": true
   },
   "outputs": [],
   "source": [
    "import pickle\n",
    "import bz2\n",
    "import _pickle as cPickle\n",
    "from math                        import ceil\n",
    "from math                        import floor\n",
    "import pandas as pd\n",
    "import numpy as np\n",
    "import json\n",
    "\n",
    "\n",
    "\n",
    "class Data_prep(object):\n",
    "    \n",
    "    def __init__(self):        \n",
    "        self.amount_scaler          =  pickle.load(open('/mnt/d/Gustavo/fraud-detection/amount_scaler.pkl', 'rb')) # Opening scaler        \n",
    "        self.day_of_month_scaler    =  pickle.load(open('/mnt/d/Gustavo/fraud-detection/day_of_month_scaler.pkl', 'rb')) # Opening scaler        \n",
    "        self.newbalanceDest_scaler  =  pickle.load(open('/mnt/d/Gustavo/fraud-detection/newbalanceDest_scaler.pkl', 'rb')) # Opening scaler\n",
    "                \n",
    "        self.newbalanceOrig_scaler  =  pickle.load(open('/mnt/d/Gustavo/fraud-detection/newbalanceOrig_scaler.pkl', 'rb')) # Opening scaler        \n",
    "        self.oldbalanceDest_scaler  =  pickle.load(open('/mnt/d/Gustavo/fraud-detection/oldbalanceDest_scaler.pkl', 'rb')) # Opening scaler        \n",
    "        self.oldbalanceOrg_scaler   =  pickle.load(open('/mnt/d/Gustavo/fraud-detection/oldbalanceOrg_scaler.pkl', 'rb')) # Opening scaler        \n",
    "        self.step_scaler            =  pickle.load(open('/mnt/d/Gustavo/fraud-detection/step_scaler.pkl', 'rb')) # Opening scaler        \n",
    "        self.type_encoder           =  pickle.load(open('/mnt/d/Gustavo/fraud-detection/type_encoder.pkl', 'rb')) # Opening encoder        \n",
    "        self.week_of_month_scaler   =  pickle.load(open('/mnt/d/Gustavo/fraud-detection/week_of_month_scaler.pkl', 'rb')) # Opening scaler\n",
    "    \n",
    "    \n",
    "    \n",
    "    def feature_engineering(self, df1):\n",
    "                \n",
    "        # Day of month\n",
    "\n",
    "        df1['day_of_month'] = df1['step'].apply(lambda x: ceil(x/24))\n",
    "        \n",
    "        # Week of month\n",
    "\n",
    "        df1['week_of_month'] = df1['step'].apply(lambda x: ceil(x/168))\n",
    "        \n",
    "        # Creating aux column 'min_step_of_day'\n",
    "\n",
    "        for i in df1['day_of_month'].unique():\n",
    "            df1.loc[df1['day_of_month']==i,'min_step_of_day'] = df1.loc[df1['day_of_month']==i, 'step'].min()\n",
    "        \n",
    "        \n",
    "        # Creating 'hour_of_day' column\n",
    "\n",
    "        df1['hour_of_day'] = df1['step'] - df1['min_step_of_day']\n",
    "        \n",
    "        \n",
    "        # Creating aux column 'min_day_of_week'\n",
    "\n",
    "        for i in df1['week_of_month'].unique():\n",
    "            df1.loc[df1['week_of_month']==i, 'min_day_of_week'] = df1.loc[df1['week_of_month']==i, 'day_of_month'].min()\n",
    "\n",
    "\n",
    "        # Creating 'day_of_week' column\n",
    "        \n",
    "        df1['day_of_week'] = ((df1['day_of_month'] - df1['min_day_of_week'])+1)\n",
    "        \n",
    "        \n",
    "        # Creating 'is_weekend' column\n",
    "\n",
    "        df1['is_weekend'] = df1['day_of_week'].apply(lambda x: 'weekend' if x == 1 or x == 7 else 'weekdays')\n",
    "        \n",
    "        \n",
    "        # Creating 'time_of_day' column\n",
    "\n",
    "        df1['time_of_day'] = df1['hour_of_day'].apply(lambda x: 'AM' if x <= 12 else 'PM')\n",
    "        \n",
    "        \n",
    "        # Creating 'period_of_day' column\n",
    "\n",
    "        df1['period_of_day'] = ['Morning' if i<=12 else 'Afternoon' if i>12 and i<=18 else 'Evening' for i in df1['hour_of_day']]\n",
    "        \n",
    "        \n",
    "        # Creating 'orig_type' column\n",
    "\n",
    "        df1['orig_type'] = ['Merchant' if i[0]== 'M' else 'Costumer' for i in df1['nameOrig']]\n",
    "        \n",
    "        \n",
    "        # Creating 'dest_type' column\n",
    "\n",
    "        df1['dest_type'] = ['Merchant' if i[0]== 'M' else 'Costumer' for i in df1['nameDest']]\n",
    "        \n",
    "        \n",
    "        # Creating 'oldbalanceOrg_status'\n",
    "\n",
    "        df1['oldbalanceOrg_status'] = ['zero' if i==0 else 'non-zero' for i in df1['oldbalanceOrg']]\n",
    "        \n",
    "        \n",
    "        # Creating 'newbalanceOrig_status'\n",
    "\n",
    "        df1['newbalanceOrig_status'] = ['zero' if i==0 else 'non-zero' for i in df1['newbalanceOrig']]\n",
    "        \n",
    "        \n",
    "        # Creating 'oldbalanceDest_status'\n",
    "\n",
    "        df1['oldbalanceDest_status'] = ['zero' if i==0 else 'non-zero' for i in df1['oldbalanceDest']]\n",
    "        \n",
    "        \n",
    "        # Creating 'newbalanceDest_status'\n",
    "\n",
    "        df1['newbalanceDest_status'] = ['zero' if i==0 else 'non-zero' for i in df1['newbalanceDest']]\n",
    "        \n",
    "        \n",
    "        # Creating the column 'is_orig_equal_dest'\n",
    "\n",
    "        df1['is_orig_equal_dest'] = ['yes' if i==it else 'no' for i, it in zip(df1['nameOrig'], df1['nameDest'])]\n",
    "        \n",
    "        \n",
    "        # Creating the column 'is_oldbalanceOrg_higherthan_newbalanceOrig'\n",
    "\n",
    "        df1['is_oldbalanceOrg_higherthan_newbalanceOrig'] = ['yes'if i>it else 'no' for i, it in zip(df1['oldbalanceOrg'], df1['newbalanceOrig'])]\n",
    "        \n",
    "        \n",
    "        # Creating the column 'is_oldbalanceDest_higherthan_newbalanceDest'\n",
    "\n",
    "        df1['is_oldbalanceDest_higherthan_newbalanceDest'] = ['yes'if i>it else 'no' for i, it in zip(df1['oldbalanceDest'], df1['newbalanceDest'])]\n",
    "        \n",
    "        \n",
    "        # Creating the column 'transaction_direction'\n",
    "\n",
    "        df1['transaction_direction'] = [i[0]+'2'+it[0] for i, it in zip(df1['orig_type'], df1['dest_type'])]\n",
    "        \n",
    "        \n",
    "        # Converting 'isFlaggedFraud' column to categorical (to further corr calculation)\n",
    "\n",
    "        df1['isFlaggedFraud'] = ['no' if i==0 else 'yes' for i in df1['isFlaggedFraud']]\n",
    "        \n",
    "        \n",
    "        # Droping aux column 'min_step_of_day'\n",
    "\n",
    "        df1 = df1.drop(columns=['min_step_of_day', 'min_day_of_week'])\n",
    "        \n",
    "        \n",
    "        # Converting 'hour_of_day' and 'day_of_week' columns to int\n",
    "\n",
    "        df1[['hour_of_day','day_of_week']] = df1[['hour_of_day','day_of_week']].astype(int)\n",
    "        \n",
    "        \n",
    "        \n",
    "        \n",
    "        #========================================================\n",
    "        # Data filtering\n",
    "        #========================================================\n",
    "        \n",
    "        df1 = df1.drop(columns=['orig_type','is_orig_equal_dest'])\n",
    "        \n",
    "        df1 = df1.drop(columns=['nameOrig'])\n",
    "        \n",
    "        return df1\n",
    "        \n",
    "        \n",
    "    def data_preparation(self, df2):\n",
    "        \n",
    "        X_train = df2\n",
    "        \n",
    "        \n",
    "        # Scaling: Numeric attributes\n",
    "        \n",
    "        \n",
    "        # Numeric non-cyclic attributes - Robust Scaler (each of them has extreme values)\n",
    "        \n",
    "        # 'amount'\n",
    "        \n",
    "        X_train['amount'] = self.amount_scaler.transform(X_train[['amount']].values)\n",
    "        \n",
    "        # 'oldbalanceOrg'\n",
    "        \n",
    "        X_train['oldbalanceOrg'] = self.oldbalanceOrg_scaler.transform(X_train[['oldbalanceOrg']].values)\n",
    "        \n",
    "        # 'newbalanceOrig'\n",
    "        \n",
    "        X_train['newbalanceOrig'] = self.newbalanceOrig_scaler.transform(X_train[['newbalanceOrig']].values)\n",
    "        \n",
    "        # 'oldbalanceDest'\n",
    "        \n",
    "        X_train['oldbalanceDest'] = self.oldbalanceDest_scaler.transform(X_train[['oldbalanceDest']].values)\n",
    "        \n",
    "        # 'newbalanceDest'\n",
    "        \n",
    "        X_train['newbalanceDest'] = self.newbalanceDest_scaler.transform(X_train[['newbalanceDest']].values)\n",
    "        \n",
    "        # 'day_of_month'\n",
    "        \n",
    "        X_train['day_of_month'] = self.day_of_month_scaler.transform(X_train[['day_of_month']].values)\n",
    "        \n",
    "        # 'week_of_month'\n",
    "        \n",
    "        X_train['week_of_month'] = self.week_of_month_scaler.transform(X_train[['week_of_month']].values)\n",
    "        \n",
    "        # 'step'\n",
    "        \n",
    "        X_train['step'] = self.step_scaler.transform(X_train[['step']].values)\n",
    "        \n",
    "        \n",
    "        \n",
    "        # Encoding: Categorical attributes\n",
    "        \n",
    "        \n",
    "        # Dummies\n",
    "        \n",
    "        # Features to encode via Dummies:\n",
    "        \n",
    "        # 'isFlaggedFraud',\n",
    "        # 'is_weekend',\n",
    "        # 'time_of_day',\n",
    "        # 'dest_type',\n",
    "        # 'oldbalanceOrg_status',\n",
    "        # 'newbalanceOrig_status',\n",
    "        # 'oldbalanceDest_status',\n",
    "        # 'newbalanceDest_status',\n",
    "        # 'is_oldbalanceOrg_higherthan_newbalanceOrig',\n",
    "        # 'is_oldbalanceDest_higherthan_newbalanceDest',\n",
    "        # 'transaction_direction'\n",
    "        \n",
    "        \n",
    "        # Getting Dummie variables \n",
    "        \n",
    "                \n",
    "        X_train['isFlaggedFraud_no'] = [1 if i=='no' else 0 for i in X_train['isFlaggedFraud']]\n",
    "        \n",
    "        X_train['isFlaggedFraud_yes'] = [1 if i=='yes' else 0 for i in X_train['isFlaggedFraud']]\n",
    "        \n",
    "        X_train['is_weekend_weekdays'] = [1 if i=='weekdays' else 0 for i in X_train['is_weekend']]\n",
    "        \n",
    "        X_train['is_weekend_weekend'] = [1 if i=='weekend' else 0 for i in X_train['is_weekend']]\n",
    "        \n",
    "        X_train['time_of_day_AM'] = [1 if i=='AM' else 0 for i in X_train['time_of_day']]\n",
    "        \n",
    "        X_train['time_of_day_PM'] = [1 if i=='PM' else 0 for i in X_train['time_of_day']]\n",
    "        \n",
    "        X_train['dest_type_Costumer'] = [1 if i=='Costumer' else 0 for i in X_train['dest_type']]\n",
    "        \n",
    "        X_train['dest_type_Merchant'] = [1 if i=='Merchant' else 0 for i in X_train['dest_type']]\n",
    "        \n",
    "        X_train['oldbalanceOrg_status_non-zero'] = [1 if i=='non-zero' else 0 for i in X_train['oldbalanceOrg_status']]\n",
    "        \n",
    "        X_train['oldbalanceOrg_status_zero'] = [1 if i=='zero' else 0 for i in X_train['oldbalanceOrg_status']]\n",
    "        \n",
    "        X_train['newbalanceOrig_status_non-zero'] = [1 if i=='non-zero' else 0 for i in X_train['newbalanceOrig_status']]\n",
    "        \n",
    "        X_train['newbalanceOrig_status_zero'] = [1 if i=='zero' else 0 for i in X_train['newbalanceOrig_status']]\n",
    "        \n",
    "        X_train['oldbalanceDest_status_non-zero'] = [1 if i=='non-zero' else 0 for i in X_train['oldbalanceDest_status']]\n",
    "        \n",
    "        X_train['oldbalanceDest_status_zero'] = [1 if i=='zero' else 0 for i in X_train['oldbalanceDest_status']]\n",
    "        \n",
    "        X_train['newbalanceDest_status_non-zero'] = [1 if i=='non-zero' else 0 for i in X_train['newbalanceDest_status']]\n",
    "        \n",
    "        X_train['newbalanceDest_status_zero'] = [1 if i=='zero' else 0 for i in X_train['newbalanceDest_status']]\n",
    "        \n",
    "        X_train['is_oldbalanceOrg_higherthan_newbalanceOrig_no'] = [1 if i=='no' else 0 for i in X_train['is_oldbalanceOrg_higherthan_newbalanceOrig']]\n",
    "        \n",
    "        X_train['is_oldbalanceOrg_higherthan_newbalanceOrig_yes'] = [1 if i=='yes' else 0 for i in X_train['is_oldbalanceOrg_higherthan_newbalanceOrig']]\n",
    "        \n",
    "        X_train['is_oldbalanceDest_higherthan_newbalanceDest_no'] = [1 if i=='no' else 0 for i in X_train['is_oldbalanceDest_higherthan_newbalanceDest']]\n",
    "        \n",
    "        X_train['is_oldbalanceDest_higherthan_newbalanceDest_yes'] = [1 if i=='yes' else 0 for i in X_train['is_oldbalanceDest_higherthan_newbalanceDest']]\n",
    "        \n",
    "        X_train['transaction_direction_C2C'] = [1 if i=='C2C' else 0 for i in X_train['transaction_direction']]\n",
    "        \n",
    "        X_train['transaction_direction_C2M'] = [1 if i=='C2M' else 0 for i in X_train['transaction_direction']]\n",
    "        \n",
    "        X_train = X_train.drop(columns=['isFlaggedFraud', 'is_weekend', 'time_of_day', 'dest_type', 'oldbalanceOrg_status', 'newbalanceOrig_status', 'oldbalanceDest_status', 'newbalanceDest_status', 'is_oldbalanceOrg_higherthan_newbalanceOrig', 'is_oldbalanceDest_higherthan_newbalanceDest', 'transaction_direction'])\n",
    "        \n",
    "        \n",
    "        \n",
    "        \n",
    "        # Label encoding - 'type'\n",
    "        \n",
    "        X_train['type'] = self.type_encoder.transform(X_train['type'])\n",
    "        \n",
    "        \n",
    "        \n",
    "        \n",
    "        # Cyclic transform\n",
    "        \n",
    "        \n",
    "        # Cyclic variables:\n",
    "        \n",
    "        # hour_of_day\n",
    "        # day_of_week\n",
    "        # period_of_day\n",
    "        \n",
    "        \n",
    "        # First let's just encode 'period_of_day' from string to numbers\n",
    "        \n",
    "        # period_of_day (Label encoder)\n",
    "        \n",
    "        period_of_day_encoding_map = {'Morning': 1, 'Afternoon':2, 'Evening':3}\n",
    "        \n",
    "        X_train['period_of_day'] = X_train['period_of_day'].map(period_of_day_encoding_map)\n",
    "        \n",
    "        \n",
    "        # Transforming the attributes\n",
    "        \n",
    "        # hour_of_day\n",
    "        \n",
    "        X_train['hour_of_day_sin'] = X_train['hour_of_day'].apply(lambda x: np.sin(x*(2.*np.pi/24)))\n",
    "        X_train['hour_of_day_cos'] = X_train['hour_of_day'].apply(lambda x: np.cos(x*(2.*np.pi/24)))\n",
    "        \n",
    "        # day_of_week\n",
    "        \n",
    "        X_train['day_of_week_sin'] = X_train['day_of_week'].apply(lambda x: np.sin(x*(2.*np.pi/7)))\n",
    "        X_train['day_of_week_cos'] = X_train['day_of_week'].apply(lambda x: np.cos(x*(2.*np.pi/7)))\n",
    "        \n",
    "        # period_of_day\n",
    "        \n",
    "        X_train['period_of_day_sin'] = X_train['period_of_day'].apply(lambda x: np.sin(x*(2.*np.pi/3)))\n",
    "        X_train['period_of_day_cos'] = X_train['period_of_day'].apply(lambda x: np.cos(x*(2.*np.pi/3)))\n",
    "        \n",
    "        \n",
    "        \n",
    "        # Dropping the precursor attributes\n",
    "        \n",
    "        X_train = X_train.drop(columns=['hour_of_day','day_of_week', 'period_of_day'])\n",
    "        \n",
    "        \n",
    "        # Columns selected by Boruta        \n",
    "        \n",
    "        cols_selected_boruta = ['step',\n",
    "                                'type',\n",
    "                                'amount',\n",
    "                                'oldbalanceOrg',\n",
    "                                'oldbalanceDest',\n",
    "                                'newbalanceDest',\n",
    "                                'day_of_month',\n",
    "                                'oldbalanceDest_status_non-zero',\n",
    "                                'newbalanceDest_status_non-zero',\n",
    "                                'newbalanceDest_status_zero',\n",
    "                                'hour_of_day_sin',\n",
    "                                'hour_of_day_cos']\n",
    "        \n",
    "        return X_train[cols_selected_boruta]\n",
    "\n",
    "\n",
    "    def get_predictions(self, model, test_raw, df_3):\n",
    "        \n",
    "        # prediction\n",
    "        predictions = model.predict(df_3)\n",
    "        \n",
    "        # join predictions into the original data\n",
    "        test_raw.loc[df_3.index, 'Predictions'] = predictions\n",
    "        \n",
    "        # return desired columns\n",
    "        test_raw = test_raw[['step', 'type', 'amount', 'nameOrig', 'oldbalanceOrg', 'newbalanceOrig', 'nameDest', 'oldbalanceDest', 'newbalanceDest', 'isFlaggedFraud', 'Predictions']]\n",
    "        \n",
    "        \n",
    "        return test_raw.to_json(orient='records', date_format='iso')\n",
    "\n"
   ]
  },
  {
   "cell_type": "markdown",
   "id": "575e365b",
   "metadata": {
    "heading_collapsed": true,
    "hidden": true
   },
   "source": [
    "## <font face=\"Arial\" color=\"gray\">10.2 Creating API Handler - API_handler.py</font>"
   ]
  },
  {
   "cell_type": "code",
   "execution_count": 2,
   "id": "cad99d4c",
   "metadata": {
    "ExecuteTime": {
     "end_time": "2022-02-04T01:41:09.836251Z",
     "start_time": "2022-02-04T01:40:46.982543Z"
    },
    "hidden": true
   },
   "outputs": [
    {
     "name": "stdout",
     "output_type": "stream",
     "text": [
      " * Serving Flask app '__main__' (lazy loading)\n",
      " * Environment: production\n",
      "\u001b[31m   WARNING: This is a development server. Do not use it in a production deployment.\u001b[0m\n",
      "\u001b[2m   Use a production WSGI server instead.\u001b[0m\n",
      " * Debug mode: off\n"
     ]
    },
    {
     "name": "stderr",
     "output_type": "stream",
     "text": [
      " * Running on all addresses.\n",
      "   WARNING: This is a development server. Do not use it in a production deployment.\n",
      " * Running on http://10.95.42.133:5000/ (Press CTRL+C to quit)\n"
     ]
    }
   ],
   "source": [
    "# Library imports\n",
    "\n",
    "import pandas as pd\n",
    "import pickle\n",
    "import bz2\n",
    "import _pickle                   as cPickle\n",
    "from flask import Flask, request, Response\n",
    "import json\n",
    "from Fraud_class.Data_prep import Data_prep\n",
    "\n",
    "\n",
    "\n",
    "# Loading model\n",
    "model = cPickle.load(bz2.BZ2File('/mnt/d/Gustavo/fraud-detection/modelXGBoost.pbz2', 'rb'))\n",
    "\n",
    "\n",
    "# initialize API\n",
    "app = Flask(__name__)\n",
    "\n",
    "# criando o endpoint (url que receberá os dados):\n",
    "@app.route( '/transactiontracker/predict', methods=['POST'] )\n",
    "\n",
    "\n",
    "# Whenever after receiving a call, the endpoint executes some function. For this case, it will always \n",
    "## execute the function after receiving a call, the endpoint executes some function.\n",
    "\n",
    "\n",
    "def transactiontracker_predict():\n",
    "    test_json = request.get_json() # the request data will come as json format.\n",
    "    \n",
    "   \n",
    "    if test_json: # there is data\n",
    "        test_json = json.loads(test_json)\n",
    "        \n",
    "        if isinstance( test_json, dict ): #test if the data is a request of only 1 row (will come as dict)\n",
    "            test_raw = pd.DataFrame( test_json, index=[0] )\n",
    "            \n",
    "        else: # otherwise the request will be in the form of a list (with each item being a dictionary):\n",
    "            test_raw = pd.DataFrame( test_json, columns=test_json[0].keys() )\n",
    "            \n",
    "        \n",
    "        # Instantiate Rossmann class\n",
    "        pipeline = Data_prep()\n",
    "        \n",
    "        # feature engineering\n",
    "        df2 = pipeline.feature_engineering( test_raw )\n",
    "        \n",
    "        # data preparation\n",
    "        df3 = pipeline.data_preparation( df2 )\n",
    "        \n",
    "        # prediction\n",
    "        df_response = pipeline.get_predictions( model, test_raw, df3 )\n",
    "        \n",
    "        return df_response\n",
    "\n",
    "\n",
    "    else: # if there is no data\n",
    "        return Response( '{}', status=200, mimetype='application/json' )\n",
    "    \n",
    "    \n",
    "\n",
    "if __name__ == '__main__':\n",
    "    app.run( '0.0.0.0' )\n",
    "    #      (local host)    "
   ]
  },
  {
   "cell_type": "markdown",
   "id": "47ef65c1",
   "metadata": {
    "heading_collapsed": true,
    "hidden": true
   },
   "source": [
    "## <font face=\"Arial\" color=\"gray\">10.3 Creating API tester</font>"
   ]
  },
  {
   "cell_type": "code",
   "execution_count": 16,
   "id": "7d8ea7b2",
   "metadata": {
    "ExecuteTime": {
     "end_time": "2022-02-05T01:39:26.685035Z",
     "start_time": "2022-02-05T01:39:14.102628Z"
    },
    "hidden": true,
    "scrolled": false
   },
   "outputs": [
    {
     "data": {
      "text/html": [
       "<div>\n",
       "<style scoped>\n",
       "    .dataframe tbody tr th:only-of-type {\n",
       "        vertical-align: middle;\n",
       "    }\n",
       "\n",
       "    .dataframe tbody tr th {\n",
       "        vertical-align: top;\n",
       "    }\n",
       "\n",
       "    .dataframe thead th {\n",
       "        text-align: right;\n",
       "    }\n",
       "</style>\n",
       "<table border=\"1\" class=\"dataframe\">\n",
       "  <thead>\n",
       "    <tr style=\"text-align: right;\">\n",
       "      <th></th>\n",
       "      <th>step</th>\n",
       "      <th>type</th>\n",
       "      <th>amount</th>\n",
       "      <th>nameOrig</th>\n",
       "      <th>oldbalanceOrg</th>\n",
       "      <th>newbalanceOrig</th>\n",
       "      <th>nameDest</th>\n",
       "      <th>oldbalanceDest</th>\n",
       "      <th>newbalanceDest</th>\n",
       "      <th>isFlaggedFraud</th>\n",
       "    </tr>\n",
       "  </thead>\n",
       "  <tbody>\n",
       "    <tr>\n",
       "      <th>3737323</th>\n",
       "      <td>278</td>\n",
       "      <td>CASH_IN</td>\n",
       "      <td>330218.42</td>\n",
       "      <td>C632336343</td>\n",
       "      <td>20866.00</td>\n",
       "      <td>351084.42</td>\n",
       "      <td>C834976624</td>\n",
       "      <td>452419.57</td>\n",
       "      <td>122201.15</td>\n",
       "      <td>0</td>\n",
       "    </tr>\n",
       "    <tr>\n",
       "      <th>264914</th>\n",
       "      <td>15</td>\n",
       "      <td>PAYMENT</td>\n",
       "      <td>11647.08</td>\n",
       "      <td>C1264712553</td>\n",
       "      <td>30370.00</td>\n",
       "      <td>18722.92</td>\n",
       "      <td>M215391829</td>\n",
       "      <td>0.00</td>\n",
       "      <td>0.00</td>\n",
       "      <td>0</td>\n",
       "    </tr>\n",
       "    <tr>\n",
       "      <th>85647</th>\n",
       "      <td>10</td>\n",
       "      <td>CASH_IN</td>\n",
       "      <td>152264.21</td>\n",
       "      <td>C1746846248</td>\n",
       "      <td>106589.00</td>\n",
       "      <td>258853.21</td>\n",
       "      <td>C1607284477</td>\n",
       "      <td>201303.01</td>\n",
       "      <td>49038.80</td>\n",
       "      <td>0</td>\n",
       "    </tr>\n",
       "    <tr>\n",
       "      <th>5899326</th>\n",
       "      <td>403</td>\n",
       "      <td>TRANSFER</td>\n",
       "      <td>1551760.63</td>\n",
       "      <td>C333676753</td>\n",
       "      <td>0.00</td>\n",
       "      <td>0.00</td>\n",
       "      <td>C1564353608</td>\n",
       "      <td>3198359.45</td>\n",
       "      <td>4750120.08</td>\n",
       "      <td>0</td>\n",
       "    </tr>\n",
       "    <tr>\n",
       "      <th>2544263</th>\n",
       "      <td>206</td>\n",
       "      <td>CASH_IN</td>\n",
       "      <td>78172.30</td>\n",
       "      <td>C813403091</td>\n",
       "      <td>2921331.58</td>\n",
       "      <td>2999503.88</td>\n",
       "      <td>C1091768874</td>\n",
       "      <td>415821.90</td>\n",
       "      <td>337649.60</td>\n",
       "      <td>0</td>\n",
       "    </tr>\n",
       "  </tbody>\n",
       "</table>\n",
       "</div>"
      ],
      "text/plain": [
       "         step      type      amount     nameOrig  oldbalanceOrg  \\\n",
       "3737323   278   CASH_IN   330218.42   C632336343       20866.00   \n",
       "264914     15   PAYMENT    11647.08  C1264712553       30370.00   \n",
       "85647      10   CASH_IN   152264.21  C1746846248      106589.00   \n",
       "5899326   403  TRANSFER  1551760.63   C333676753           0.00   \n",
       "2544263   206   CASH_IN    78172.30   C813403091     2921331.58   \n",
       "\n",
       "         newbalanceOrig     nameDest  oldbalanceDest  newbalanceDest  \\\n",
       "3737323       351084.42   C834976624       452419.57       122201.15   \n",
       "264914         18722.92   M215391829            0.00            0.00   \n",
       "85647         258853.21  C1607284477       201303.01        49038.80   \n",
       "5899326            0.00  C1564353608      3198359.45      4750120.08   \n",
       "2544263      2999503.88  C1091768874       415821.90       337649.60   \n",
       "\n",
       "         isFlaggedFraud  \n",
       "3737323               0  \n",
       "264914                0  \n",
       "85647                 0  \n",
       "5899326               0  \n",
       "2544263               0  "
      ]
     },
     "execution_count": 16,
     "metadata": {},
     "output_type": "execute_result"
    }
   ],
   "source": [
    "# Loading dataset\n",
    "\n",
    "df = pd.read_csv('/mnt/d/Gustavo/fraud-detection/PS_20174392719_1491204439457_log.csv')\n",
    "\n",
    "\n",
    "# Train/Test split\n",
    "\n",
    "# X_train, X_test, y_train, y_test = train_test_split(y, X, test_size=0.33, random_state=42) <- sintax\n",
    "\n",
    "y_train, y_test, X_train, X_test = train_test_split(df['isFraud'], \n",
    "                                                    df.drop(columns=['isFraud']), \n",
    "                                                    test_size=0.33, \n",
    "                                                    random_state=42)\n",
    "\n",
    "X_test.head()"
   ]
  },
  {
   "cell_type": "code",
   "execution_count": null,
   "id": "ba2be22d",
   "metadata": {
    "hidden": true
   },
   "outputs": [],
   "source": []
  },
  {
   "cell_type": "code",
   "execution_count": 197,
   "id": "73978c64",
   "metadata": {
    "ExecuteTime": {
     "end_time": "2022-02-04T05:34:15.748537Z",
     "start_time": "2022-02-04T05:34:15.700791Z"
    },
    "hidden": true
   },
   "outputs": [
    {
     "name": "stdout",
     "output_type": "stream",
     "text": [
      "6182993    0\n",
      "Name: isFraud, dtype: int64\n"
     ]
    },
    {
     "data": {
      "text/html": [
       "<div>\n",
       "<style scoped>\n",
       "    .dataframe tbody tr th:only-of-type {\n",
       "        vertical-align: middle;\n",
       "    }\n",
       "\n",
       "    .dataframe tbody tr th {\n",
       "        vertical-align: top;\n",
       "    }\n",
       "\n",
       "    .dataframe thead th {\n",
       "        text-align: right;\n",
       "    }\n",
       "</style>\n",
       "<table border=\"1\" class=\"dataframe\">\n",
       "  <thead>\n",
       "    <tr style=\"text-align: right;\">\n",
       "      <th></th>\n",
       "      <th>step</th>\n",
       "      <th>type</th>\n",
       "      <th>amount</th>\n",
       "      <th>nameOrig</th>\n",
       "      <th>oldbalanceOrg</th>\n",
       "      <th>newbalanceOrig</th>\n",
       "      <th>nameDest</th>\n",
       "      <th>oldbalanceDest</th>\n",
       "      <th>newbalanceDest</th>\n",
       "      <th>isFlaggedFraud</th>\n",
       "    </tr>\n",
       "  </thead>\n",
       "  <tbody>\n",
       "    <tr>\n",
       "      <th>6182993</th>\n",
       "      <td>567</td>\n",
       "      <td>PAYMENT</td>\n",
       "      <td>20086.6</td>\n",
       "      <td>C814653235</td>\n",
       "      <td>50288.34</td>\n",
       "      <td>30201.74</td>\n",
       "      <td>M986061099</td>\n",
       "      <td>0.0</td>\n",
       "      <td>0.0</td>\n",
       "      <td>0</td>\n",
       "    </tr>\n",
       "  </tbody>\n",
       "</table>\n",
       "</div>"
      ],
      "text/plain": [
       "         step     type   amount    nameOrig  oldbalanceOrg  newbalanceOrig  \\\n",
       "6182993   567  PAYMENT  20086.6  C814653235       50288.34        30201.74   \n",
       "\n",
       "           nameDest  oldbalanceDest  newbalanceDest  isFlaggedFraud  \n",
       "6182993  M986061099             0.0             0.0               0  "
      ]
     },
     "execution_count": 197,
     "metadata": {},
     "output_type": "execute_result"
    }
   ],
   "source": [
    "# Choosing a random sample (If you choose this snippet ignore the next two snippets and go straight to third one)\n",
    "\n",
    "X_test_sampled = X_test.sample(1)\n",
    "\n",
    "print(y_test[X_test_sampled.index])\n",
    "\n",
    "X_test_sampled"
   ]
  },
  {
   "cell_type": "code",
   "execution_count": null,
   "id": "50f159ec",
   "metadata": {
    "hidden": true
   },
   "outputs": [],
   "source": []
  },
  {
   "cell_type": "code",
   "execution_count": null,
   "id": "137ce993",
   "metadata": {
    "hidden": true
   },
   "outputs": [],
   "source": []
  },
  {
   "cell_type": "code",
   "execution_count": 17,
   "id": "92da4b22",
   "metadata": {
    "ExecuteTime": {
     "end_time": "2022-02-05T01:39:33.243747Z",
     "start_time": "2022-02-05T01:39:33.237328Z"
    },
    "hidden": true
   },
   "outputs": [
    {
     "name": "stdout",
     "output_type": "stream",
     "text": [
      "6117870    1\n",
      "Name: isFraud, dtype: int64\n"
     ]
    }
   ],
   "source": [
    "# Test choosing fraudulent transaction (choose this snippet if you want to choose an example from fraud group)\n",
    "\n",
    "y_test_sampled = y_test[y_test==1].sample(1)\n",
    "\n",
    "print(y_test_sampled)"
   ]
  },
  {
   "cell_type": "code",
   "execution_count": 18,
   "id": "b8189b70",
   "metadata": {
    "ExecuteTime": {
     "end_time": "2022-02-05T01:39:34.747379Z",
     "start_time": "2022-02-05T01:39:34.737404Z"
    },
    "hidden": true
   },
   "outputs": [
    {
     "data": {
      "text/html": [
       "<div>\n",
       "<style scoped>\n",
       "    .dataframe tbody tr th:only-of-type {\n",
       "        vertical-align: middle;\n",
       "    }\n",
       "\n",
       "    .dataframe tbody tr th {\n",
       "        vertical-align: top;\n",
       "    }\n",
       "\n",
       "    .dataframe thead th {\n",
       "        text-align: right;\n",
       "    }\n",
       "</style>\n",
       "<table border=\"1\" class=\"dataframe\">\n",
       "  <thead>\n",
       "    <tr style=\"text-align: right;\">\n",
       "      <th></th>\n",
       "      <th>step</th>\n",
       "      <th>type</th>\n",
       "      <th>amount</th>\n",
       "      <th>nameOrig</th>\n",
       "      <th>oldbalanceOrg</th>\n",
       "      <th>newbalanceOrig</th>\n",
       "      <th>nameDest</th>\n",
       "      <th>oldbalanceDest</th>\n",
       "      <th>newbalanceDest</th>\n",
       "      <th>isFlaggedFraud</th>\n",
       "    </tr>\n",
       "  </thead>\n",
       "  <tbody>\n",
       "    <tr>\n",
       "      <th>6117870</th>\n",
       "      <td>530</td>\n",
       "      <td>TRANSFER</td>\n",
       "      <td>387773.97</td>\n",
       "      <td>C1894511289</td>\n",
       "      <td>387773.97</td>\n",
       "      <td>0.0</td>\n",
       "      <td>C780914963</td>\n",
       "      <td>0.0</td>\n",
       "      <td>0.0</td>\n",
       "      <td>0</td>\n",
       "    </tr>\n",
       "  </tbody>\n",
       "</table>\n",
       "</div>"
      ],
      "text/plain": [
       "         step      type     amount     nameOrig  oldbalanceOrg  \\\n",
       "6117870   530  TRANSFER  387773.97  C1894511289      387773.97   \n",
       "\n",
       "         newbalanceOrig    nameDest  oldbalanceDest  newbalanceDest  \\\n",
       "6117870             0.0  C780914963             0.0             0.0   \n",
       "\n",
       "         isFlaggedFraud  \n",
       "6117870               0  "
      ]
     },
     "execution_count": 18,
     "metadata": {},
     "output_type": "execute_result"
    }
   ],
   "source": [
    "X_test_sampled = X_test.loc[X_test.index==y_test_sampled.index[0]]\n",
    "\n",
    "X_test_sampled"
   ]
  },
  {
   "cell_type": "code",
   "execution_count": null,
   "id": "fc5f9b1d",
   "metadata": {
    "hidden": true
   },
   "outputs": [],
   "source": []
  },
  {
   "cell_type": "code",
   "execution_count": null,
   "id": "a68bc58a",
   "metadata": {
    "hidden": true
   },
   "outputs": [],
   "source": []
  },
  {
   "cell_type": "code",
   "execution_count": 19,
   "id": "a4f6a791",
   "metadata": {
    "ExecuteTime": {
     "end_time": "2022-02-05T01:39:40.984631Z",
     "start_time": "2022-02-05T01:39:40.903346Z"
    },
    "hidden": true
   },
   "outputs": [
    {
     "name": "stdout",
     "output_type": "stream",
     "text": [
      "Status Code: 200\n"
     ]
    }
   ],
   "source": [
    "# Converting X_test_sampled to json\n",
    "\n",
    "data_json = X_test_sampled.to_json(orient='records', date_format='iso')\n",
    "\n",
    "\n",
    "\n",
    "# API Call =====================================================================================\n",
    "\n",
    "# For the call to work the local server has to be active (terminal: python API_handler.py)\n",
    "# If the result of executing this cell is 200, the request worked\n",
    "\n",
    "url = 'http://0.0.0.0:5000/transactiontracker/predict' #endpoint (where the data will be sent.0.0.0.0 means it is a local host not connected to the internet. Port 5000 is Flask's default)\n",
    "\n",
    "header = {'Content-type':'application/json'} #indicates to the API what type of request is being made\n",
    "\n",
    "\n",
    "\n",
    "\n",
    "\n",
    "# Making the request\n",
    "\n",
    "response = requests.post(url=url, headers=header, json=data_json)\n",
    "\n",
    "print('Status Code: {}'.format(response.status_code))\n"
   ]
  },
  {
   "cell_type": "code",
   "execution_count": 20,
   "id": "d256e5b4",
   "metadata": {
    "ExecuteTime": {
     "end_time": "2022-02-05T01:39:46.048532Z",
     "start_time": "2022-02-05T01:39:46.039606Z"
    },
    "hidden": true
   },
   "outputs": [
    {
     "data": {
      "text/html": [
       "<div>\n",
       "<style scoped>\n",
       "    .dataframe tbody tr th:only-of-type {\n",
       "        vertical-align: middle;\n",
       "    }\n",
       "\n",
       "    .dataframe tbody tr th {\n",
       "        vertical-align: top;\n",
       "    }\n",
       "\n",
       "    .dataframe thead th {\n",
       "        text-align: right;\n",
       "    }\n",
       "</style>\n",
       "<table border=\"1\" class=\"dataframe\">\n",
       "  <thead>\n",
       "    <tr style=\"text-align: right;\">\n",
       "      <th></th>\n",
       "      <th>step</th>\n",
       "      <th>type</th>\n",
       "      <th>amount</th>\n",
       "      <th>nameOrig</th>\n",
       "      <th>oldbalanceOrg</th>\n",
       "      <th>newbalanceOrig</th>\n",
       "      <th>nameDest</th>\n",
       "      <th>oldbalanceDest</th>\n",
       "      <th>newbalanceDest</th>\n",
       "      <th>isFlaggedFraud</th>\n",
       "      <th>Predictions</th>\n",
       "    </tr>\n",
       "  </thead>\n",
       "  <tbody>\n",
       "    <tr>\n",
       "      <th>0</th>\n",
       "      <td>530</td>\n",
       "      <td>TRANSFER</td>\n",
       "      <td>387773.97</td>\n",
       "      <td>C1894511289</td>\n",
       "      <td>387773.97</td>\n",
       "      <td>0.0</td>\n",
       "      <td>C780914963</td>\n",
       "      <td>0.0</td>\n",
       "      <td>0.0</td>\n",
       "      <td>no</td>\n",
       "      <td>1.0</td>\n",
       "    </tr>\n",
       "  </tbody>\n",
       "</table>\n",
       "</div>"
      ],
      "text/plain": [
       "   step      type     amount     nameOrig  oldbalanceOrg  newbalanceOrig  \\\n",
       "0   530  TRANSFER  387773.97  C1894511289      387773.97             0.0   \n",
       "\n",
       "     nameDest  oldbalanceDest  newbalanceDest isFlaggedFraud  Predictions  \n",
       "0  C780914963             0.0             0.0             no          1.0  "
      ]
     },
     "execution_count": 20,
     "metadata": {},
     "output_type": "execute_result"
    }
   ],
   "source": [
    "df_predictions = pd.DataFrame(response.json(), columns=response.json()[0].keys())\n",
    "\n",
    "df_predictions"
   ]
  },
  {
   "cell_type": "markdown",
   "id": "175a041a",
   "metadata": {
    "heading_collapsed": true,
    "hidden": true
   },
   "source": [
    "## <font face=\"Arial\" color=\"gray\">10.4 Testing API request on Heroku</font>"
   ]
  },
  {
   "cell_type": "code",
   "execution_count": null,
   "id": "a24c279f",
   "metadata": {
    "hidden": true
   },
   "outputs": [],
   "source": []
  },
  {
   "cell_type": "code",
   "execution_count": 4,
   "id": "c70850c6",
   "metadata": {
    "ExecuteTime": {
     "end_time": "2022-02-05T18:09:29.538801Z",
     "start_time": "2022-02-05T18:09:17.433547Z"
    },
    "hidden": true,
    "scrolled": false
   },
   "outputs": [
    {
     "data": {
      "text/html": [
       "<div>\n",
       "<style scoped>\n",
       "    .dataframe tbody tr th:only-of-type {\n",
       "        vertical-align: middle;\n",
       "    }\n",
       "\n",
       "    .dataframe tbody tr th {\n",
       "        vertical-align: top;\n",
       "    }\n",
       "\n",
       "    .dataframe thead th {\n",
       "        text-align: right;\n",
       "    }\n",
       "</style>\n",
       "<table border=\"1\" class=\"dataframe\">\n",
       "  <thead>\n",
       "    <tr style=\"text-align: right;\">\n",
       "      <th></th>\n",
       "      <th>step</th>\n",
       "      <th>type</th>\n",
       "      <th>amount</th>\n",
       "      <th>nameOrig</th>\n",
       "      <th>oldbalanceOrg</th>\n",
       "      <th>newbalanceOrig</th>\n",
       "      <th>nameDest</th>\n",
       "      <th>oldbalanceDest</th>\n",
       "      <th>newbalanceDest</th>\n",
       "      <th>isFlaggedFraud</th>\n",
       "    </tr>\n",
       "  </thead>\n",
       "  <tbody>\n",
       "    <tr>\n",
       "      <th>3737323</th>\n",
       "      <td>278</td>\n",
       "      <td>CASH_IN</td>\n",
       "      <td>330218.42</td>\n",
       "      <td>C632336343</td>\n",
       "      <td>20866.00</td>\n",
       "      <td>351084.42</td>\n",
       "      <td>C834976624</td>\n",
       "      <td>452419.57</td>\n",
       "      <td>122201.15</td>\n",
       "      <td>0</td>\n",
       "    </tr>\n",
       "    <tr>\n",
       "      <th>264914</th>\n",
       "      <td>15</td>\n",
       "      <td>PAYMENT</td>\n",
       "      <td>11647.08</td>\n",
       "      <td>C1264712553</td>\n",
       "      <td>30370.00</td>\n",
       "      <td>18722.92</td>\n",
       "      <td>M215391829</td>\n",
       "      <td>0.00</td>\n",
       "      <td>0.00</td>\n",
       "      <td>0</td>\n",
       "    </tr>\n",
       "    <tr>\n",
       "      <th>85647</th>\n",
       "      <td>10</td>\n",
       "      <td>CASH_IN</td>\n",
       "      <td>152264.21</td>\n",
       "      <td>C1746846248</td>\n",
       "      <td>106589.00</td>\n",
       "      <td>258853.21</td>\n",
       "      <td>C1607284477</td>\n",
       "      <td>201303.01</td>\n",
       "      <td>49038.80</td>\n",
       "      <td>0</td>\n",
       "    </tr>\n",
       "    <tr>\n",
       "      <th>5899326</th>\n",
       "      <td>403</td>\n",
       "      <td>TRANSFER</td>\n",
       "      <td>1551760.63</td>\n",
       "      <td>C333676753</td>\n",
       "      <td>0.00</td>\n",
       "      <td>0.00</td>\n",
       "      <td>C1564353608</td>\n",
       "      <td>3198359.45</td>\n",
       "      <td>4750120.08</td>\n",
       "      <td>0</td>\n",
       "    </tr>\n",
       "    <tr>\n",
       "      <th>2544263</th>\n",
       "      <td>206</td>\n",
       "      <td>CASH_IN</td>\n",
       "      <td>78172.30</td>\n",
       "      <td>C813403091</td>\n",
       "      <td>2921331.58</td>\n",
       "      <td>2999503.88</td>\n",
       "      <td>C1091768874</td>\n",
       "      <td>415821.90</td>\n",
       "      <td>337649.60</td>\n",
       "      <td>0</td>\n",
       "    </tr>\n",
       "  </tbody>\n",
       "</table>\n",
       "</div>"
      ],
      "text/plain": [
       "         step      type      amount     nameOrig  oldbalanceOrg  \\\n",
       "3737323   278   CASH_IN   330218.42   C632336343       20866.00   \n",
       "264914     15   PAYMENT    11647.08  C1264712553       30370.00   \n",
       "85647      10   CASH_IN   152264.21  C1746846248      106589.00   \n",
       "5899326   403  TRANSFER  1551760.63   C333676753           0.00   \n",
       "2544263   206   CASH_IN    78172.30   C813403091     2921331.58   \n",
       "\n",
       "         newbalanceOrig     nameDest  oldbalanceDest  newbalanceDest  \\\n",
       "3737323       351084.42   C834976624       452419.57       122201.15   \n",
       "264914         18722.92   M215391829            0.00            0.00   \n",
       "85647         258853.21  C1607284477       201303.01        49038.80   \n",
       "5899326            0.00  C1564353608      3198359.45      4750120.08   \n",
       "2544263      2999503.88  C1091768874       415821.90       337649.60   \n",
       "\n",
       "         isFlaggedFraud  \n",
       "3737323               0  \n",
       "264914                0  \n",
       "85647                 0  \n",
       "5899326               0  \n",
       "2544263               0  "
      ]
     },
     "execution_count": 4,
     "metadata": {},
     "output_type": "execute_result"
    }
   ],
   "source": [
    "# Loading dataset\n",
    "\n",
    "df = pd.read_csv('/mnt/d/Gustavo/fraud-detection/PS_20174392719_1491204439457_log.csv')\n",
    "\n",
    "\n",
    "# Train/Test split\n",
    "\n",
    "# X_train, X_test, y_train, y_test = train_test_split(y, X, test_size=0.33, random_state=42) <- sintax\n",
    "\n",
    "y_train, y_test, X_train, X_test = train_test_split(df['isFraud'], \n",
    "                                                    df.drop(columns=['isFraud']), \n",
    "                                                    test_size=0.33, \n",
    "                                                    random_state=42)\n",
    "\n",
    "X_test.head()"
   ]
  },
  {
   "cell_type": "code",
   "execution_count": null,
   "id": "0ea09f01",
   "metadata": {
    "hidden": true
   },
   "outputs": [],
   "source": []
  },
  {
   "cell_type": "code",
   "execution_count": 10,
   "id": "5579bd39",
   "metadata": {
    "ExecuteTime": {
     "end_time": "2022-02-05T18:17:15.588586Z",
     "start_time": "2022-02-05T18:17:15.408943Z"
    },
    "hidden": true
   },
   "outputs": [
    {
     "name": "stdout",
     "output_type": "stream",
     "text": [
      "2540328    0\n",
      "Name: isFraud, dtype: int64\n"
     ]
    },
    {
     "data": {
      "text/html": [
       "<div>\n",
       "<style scoped>\n",
       "    .dataframe tbody tr th:only-of-type {\n",
       "        vertical-align: middle;\n",
       "    }\n",
       "\n",
       "    .dataframe tbody tr th {\n",
       "        vertical-align: top;\n",
       "    }\n",
       "\n",
       "    .dataframe thead th {\n",
       "        text-align: right;\n",
       "    }\n",
       "</style>\n",
       "<table border=\"1\" class=\"dataframe\">\n",
       "  <thead>\n",
       "    <tr style=\"text-align: right;\">\n",
       "      <th></th>\n",
       "      <th>step</th>\n",
       "      <th>type</th>\n",
       "      <th>amount</th>\n",
       "      <th>nameOrig</th>\n",
       "      <th>oldbalanceOrg</th>\n",
       "      <th>newbalanceOrig</th>\n",
       "      <th>nameDest</th>\n",
       "      <th>oldbalanceDest</th>\n",
       "      <th>newbalanceDest</th>\n",
       "      <th>isFlaggedFraud</th>\n",
       "    </tr>\n",
       "  </thead>\n",
       "  <tbody>\n",
       "    <tr>\n",
       "      <th>2540328</th>\n",
       "      <td>206</td>\n",
       "      <td>CASH_OUT</td>\n",
       "      <td>299230.72</td>\n",
       "      <td>C1096957758</td>\n",
       "      <td>0.0</td>\n",
       "      <td>0.0</td>\n",
       "      <td>C1458777905</td>\n",
       "      <td>664923.99</td>\n",
       "      <td>964154.71</td>\n",
       "      <td>0</td>\n",
       "    </tr>\n",
       "  </tbody>\n",
       "</table>\n",
       "</div>"
      ],
      "text/plain": [
       "         step      type     amount     nameOrig  oldbalanceOrg  \\\n",
       "2540328   206  CASH_OUT  299230.72  C1096957758            0.0   \n",
       "\n",
       "         newbalanceOrig     nameDest  oldbalanceDest  newbalanceDest  \\\n",
       "2540328             0.0  C1458777905       664923.99       964154.71   \n",
       "\n",
       "         isFlaggedFraud  \n",
       "2540328               0  "
      ]
     },
     "execution_count": 10,
     "metadata": {},
     "output_type": "execute_result"
    }
   ],
   "source": [
    "# Choosing a random sample (If you choose this snippet ignore the next two snippets and go straight to third one)\n",
    "\n",
    "X_test_sampled = X_test.sample(1)\n",
    "\n",
    "print(y_test[X_test_sampled.index])\n",
    "\n",
    "X_test_sampled"
   ]
  },
  {
   "cell_type": "code",
   "execution_count": null,
   "id": "2f4d9330",
   "metadata": {
    "hidden": true
   },
   "outputs": [],
   "source": []
  },
  {
   "cell_type": "code",
   "execution_count": null,
   "id": "ad832b21",
   "metadata": {
    "hidden": true
   },
   "outputs": [],
   "source": []
  },
  {
   "cell_type": "code",
   "execution_count": 13,
   "id": "71965164",
   "metadata": {
    "ExecuteTime": {
     "end_time": "2022-02-05T18:17:44.307149Z",
     "start_time": "2022-02-05T18:17:44.294339Z"
    },
    "hidden": true
   },
   "outputs": [
    {
     "name": "stdout",
     "output_type": "stream",
     "text": [
      "2897553    1\n",
      "Name: isFraud, dtype: int64\n"
     ]
    }
   ],
   "source": [
    "# Test choosing fraudulent transaction (choose this snippet if you want to choose an example from fraud group)\n",
    "\n",
    "y_test_sampled = y_test[y_test==1].sample(1)\n",
    "\n",
    "print(y_test_sampled)"
   ]
  },
  {
   "cell_type": "code",
   "execution_count": 14,
   "id": "d0af98a8",
   "metadata": {
    "ExecuteTime": {
     "end_time": "2022-02-05T18:17:46.943991Z",
     "start_time": "2022-02-05T18:17:46.932485Z"
    },
    "hidden": true
   },
   "outputs": [
    {
     "data": {
      "text/html": [
       "<div>\n",
       "<style scoped>\n",
       "    .dataframe tbody tr th:only-of-type {\n",
       "        vertical-align: middle;\n",
       "    }\n",
       "\n",
       "    .dataframe tbody tr th {\n",
       "        vertical-align: top;\n",
       "    }\n",
       "\n",
       "    .dataframe thead th {\n",
       "        text-align: right;\n",
       "    }\n",
       "</style>\n",
       "<table border=\"1\" class=\"dataframe\">\n",
       "  <thead>\n",
       "    <tr style=\"text-align: right;\">\n",
       "      <th></th>\n",
       "      <th>step</th>\n",
       "      <th>type</th>\n",
       "      <th>amount</th>\n",
       "      <th>nameOrig</th>\n",
       "      <th>oldbalanceOrg</th>\n",
       "      <th>newbalanceOrig</th>\n",
       "      <th>nameDest</th>\n",
       "      <th>oldbalanceDest</th>\n",
       "      <th>newbalanceDest</th>\n",
       "      <th>isFlaggedFraud</th>\n",
       "    </tr>\n",
       "  </thead>\n",
       "  <tbody>\n",
       "    <tr>\n",
       "      <th>2897553</th>\n",
       "      <td>228</td>\n",
       "      <td>CASH_OUT</td>\n",
       "      <td>497526.17</td>\n",
       "      <td>C818466696</td>\n",
       "      <td>497526.17</td>\n",
       "      <td>0.0</td>\n",
       "      <td>C2025446764</td>\n",
       "      <td>0.0</td>\n",
       "      <td>497526.17</td>\n",
       "      <td>0</td>\n",
       "    </tr>\n",
       "  </tbody>\n",
       "</table>\n",
       "</div>"
      ],
      "text/plain": [
       "         step      type     amount    nameOrig  oldbalanceOrg  newbalanceOrig  \\\n",
       "2897553   228  CASH_OUT  497526.17  C818466696      497526.17             0.0   \n",
       "\n",
       "            nameDest  oldbalanceDest  newbalanceDest  isFlaggedFraud  \n",
       "2897553  C2025446764             0.0       497526.17               0  "
      ]
     },
     "execution_count": 14,
     "metadata": {},
     "output_type": "execute_result"
    }
   ],
   "source": [
    "X_test_sampled = X_test.loc[X_test.index==y_test_sampled.index[0]]\n",
    "\n",
    "X_test_sampled"
   ]
  },
  {
   "cell_type": "code",
   "execution_count": null,
   "id": "9e28cd30",
   "metadata": {
    "hidden": true
   },
   "outputs": [],
   "source": []
  },
  {
   "cell_type": "code",
   "execution_count": null,
   "id": "8669b2bc",
   "metadata": {
    "hidden": true
   },
   "outputs": [],
   "source": []
  },
  {
   "cell_type": "code",
   "execution_count": 15,
   "id": "52c7808b",
   "metadata": {
    "ExecuteTime": {
     "end_time": "2022-02-05T18:17:54.514860Z",
     "start_time": "2022-02-05T18:17:53.845824Z"
    },
    "hidden": true
   },
   "outputs": [
    {
     "name": "stdout",
     "output_type": "stream",
     "text": [
      "Status Code: 200\n"
     ]
    }
   ],
   "source": [
    "# Converting X_test_sampled to json\n",
    "\n",
    "data_json = X_test_sampled.to_json(orient='records', date_format='iso')\n",
    "\n",
    "\n",
    "\n",
    "# API Call =====================================================================================\n",
    "\n",
    "# For the call to work the local server has to be active (terminal: python API_handler.py)\n",
    "# If the result of executing this cell is 200, the request worked\n",
    "\n",
    "url = 'https://transaction-fraud-tracker.herokuapp.com/transactiontracker/predict' #endpoint (where the data will be sent.0.0.0.0 means it is a local host not connected to the internet. Port 5000 is Flask's default)\n",
    "\n",
    "header = {'Content-type':'application/json'} #indicates to the API what type of request is being made\n",
    "\n",
    "\n",
    "\n",
    "\n",
    "\n",
    "# Making the request\n",
    "\n",
    "response = requests.post(url=url, headers=header, json=data_json)\n",
    "\n",
    "print('Status Code: {}'.format(response.status_code))\n"
   ]
  },
  {
   "cell_type": "code",
   "execution_count": 16,
   "id": "ecea89db",
   "metadata": {
    "ExecuteTime": {
     "end_time": "2022-02-05T18:17:58.560385Z",
     "start_time": "2022-02-05T18:17:58.543151Z"
    },
    "hidden": true
   },
   "outputs": [
    {
     "data": {
      "text/html": [
       "<div>\n",
       "<style scoped>\n",
       "    .dataframe tbody tr th:only-of-type {\n",
       "        vertical-align: middle;\n",
       "    }\n",
       "\n",
       "    .dataframe tbody tr th {\n",
       "        vertical-align: top;\n",
       "    }\n",
       "\n",
       "    .dataframe thead th {\n",
       "        text-align: right;\n",
       "    }\n",
       "</style>\n",
       "<table border=\"1\" class=\"dataframe\">\n",
       "  <thead>\n",
       "    <tr style=\"text-align: right;\">\n",
       "      <th></th>\n",
       "      <th>step</th>\n",
       "      <th>type</th>\n",
       "      <th>amount</th>\n",
       "      <th>nameOrig</th>\n",
       "      <th>oldbalanceOrg</th>\n",
       "      <th>newbalanceOrig</th>\n",
       "      <th>nameDest</th>\n",
       "      <th>oldbalanceDest</th>\n",
       "      <th>newbalanceDest</th>\n",
       "      <th>isFlaggedFraud</th>\n",
       "      <th>Predictions</th>\n",
       "    </tr>\n",
       "  </thead>\n",
       "  <tbody>\n",
       "    <tr>\n",
       "      <th>0</th>\n",
       "      <td>228</td>\n",
       "      <td>CASH_OUT</td>\n",
       "      <td>497526.17</td>\n",
       "      <td>C818466696</td>\n",
       "      <td>497526.17</td>\n",
       "      <td>0.0</td>\n",
       "      <td>C2025446764</td>\n",
       "      <td>0.0</td>\n",
       "      <td>497526.17</td>\n",
       "      <td>no</td>\n",
       "      <td>1.0</td>\n",
       "    </tr>\n",
       "  </tbody>\n",
       "</table>\n",
       "</div>"
      ],
      "text/plain": [
       "   step      type     amount    nameOrig  oldbalanceOrg  newbalanceOrig  \\\n",
       "0   228  CASH_OUT  497526.17  C818466696      497526.17             0.0   \n",
       "\n",
       "      nameDest  oldbalanceDest  newbalanceDest isFlaggedFraud  Predictions  \n",
       "0  C2025446764             0.0       497526.17             no          1.0  "
      ]
     },
     "execution_count": 16,
     "metadata": {},
     "output_type": "execute_result"
    }
   ],
   "source": [
    "df_predictions = pd.DataFrame(response.json(), columns=response.json()[0].keys())\n",
    "\n",
    "df_predictions"
   ]
  },
  {
   "cell_type": "markdown",
   "id": "db188db1",
   "metadata": {
    "hidden": true
   },
   "source": [
    "Now it was possible to check that the model was sucessfully deployed and implemented on Heroku cloud."
   ]
  }
 ],
 "metadata": {
  "colab": {
   "collapsed_sections": [
    "9d8f37a6",
    "556e228c",
    "82ab2d45",
    "-5EtM1EtyXR8",
    "L02Li3OexEiw",
    "Ic7FuQ20RgZZ",
    "veXoARn8xmCY",
    "3FAEvmG4xSSe",
    "CSBpn-P1i3rb",
    "oxrKQ07qX7AQ",
    "5cvHZ63J9WPM",
    "I3dWO4gQ9WX7",
    "ljYGgTRo9Wgz",
    "bpNcq4gs9W3Y",
    "NPrrd5f5YLy9",
    "303d5231"
   ],
   "name": "notebook_main.ipynb",
   "provenance": [],
   "toc_visible": true
  },
  "kernelspec": {
   "display_name": "Python 3 (ipykernel)",
   "language": "python",
   "name": "python3"
  },
  "language_info": {
   "codemirror_mode": {
    "name": "ipython",
    "version": 3
   },
   "file_extension": ".py",
   "mimetype": "text/x-python",
   "name": "python",
   "nbconvert_exporter": "python",
   "pygments_lexer": "ipython3",
   "version": "3.8.0"
  },
  "varInspector": {
   "cols": {
    "lenName": 16,
    "lenType": 16,
    "lenVar": 40
   },
   "kernels_config": {
    "python": {
     "delete_cmd_postfix": "",
     "delete_cmd_prefix": "del ",
     "library": "var_list.py",
     "varRefreshCmd": "print(var_dic_list())"
    },
    "r": {
     "delete_cmd_postfix": ") ",
     "delete_cmd_prefix": "rm(",
     "library": "var_list.r",
     "varRefreshCmd": "cat(var_dic_list()) "
    }
   },
   "types_to_exclude": [
    "module",
    "function",
    "builtin_function_or_method",
    "instance",
    "_Feature"
   ],
   "window_display": false
  }
 },
 "nbformat": 4,
 "nbformat_minor": 5
}
